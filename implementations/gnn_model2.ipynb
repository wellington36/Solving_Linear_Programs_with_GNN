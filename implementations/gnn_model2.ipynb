{
 "cells": [
  {
   "cell_type": "code",
   "execution_count": 41,
   "metadata": {},
   "outputs": [],
   "source": [
    "import os\n",
    "import torch\n",
    "import numpy as np\n",
    "import torch.nn as nn\n",
    "import matplotlib.pyplot as plt\n",
    "\n",
    "from torch.utils.data import random_split\n",
    "from model2 import LPGCN\n",
    "from generate_data2 import gen_data"
   ]
  },
  {
   "cell_type": "code",
   "execution_count": 42,
   "metadata": {},
   "outputs": [],
   "source": [
    "### PARAMETERS ###\n",
    "num_constraints = 7\n",
    "num_variables = 5\n",
    "batch_size = 2\n",
    "learning_rate = 0.003\n",
    "num_data = 10\n",
    "out_func = 'obj'\n",
    "\n",
    "device = device = torch.device('cuda:0' if torch.cuda.is_available() else 'cpu')\n",
    "\n",
    "epochs = 50"
   ]
  },
  {
   "cell_type": "code",
   "execution_count": 43,
   "metadata": {},
   "outputs": [],
   "source": [
    "def train(train_data, val_data, out_func, epochs, num_constraints, num_variables):\n",
    "    model = LPGCN(num_constraints, num_variables).to(device)\n",
    "\n",
    "    criterion = nn.MSELoss()\n",
    "    optimizer = torch.optim.Adam(model.parameters(), lr=0.001)\n",
    "\n",
    "    train_loss = []\n",
    "    val_loss = []\n",
    "\n",
    "    def unpack_vars(data):\n",
    "        c, A, b, constraints, l, u, sol, feas, edge_index = data\n",
    "        c = c.to(device)\n",
    "        A = A.to(device)\n",
    "        b = b.to(device)\n",
    "        constraints = constraints.to(device)\n",
    "        l = l.to(device)\n",
    "        u = u.to(device)\n",
    "        sol = sol.to(device)\n",
    "        return c, A, b, constraints, l, u, sol, feas, edge_index\n",
    "\n",
    "    # optimize parameters and calculates training loss\n",
    "    for epoch in range(epochs):  # loop over the dataset multiple times\n",
    "        running_loss = 0.0\n",
    "\n",
    "        for dataloader in train_data:\n",
    "            for batch in dataloader:\n",
    "                optimizer.zero_grad()\n",
    "                c, A, b, constraints, l, u, sol, feas, edge_index = unpack_vars(batch)\n",
    "                out = model(c, A, b, constraints, l, u, edge_index, out_func)\n",
    "\n",
    "                if out_func == 'feas':\n",
    "                    loss = (out.shape[0] - torch.sum(torch.eq(out, feas))) / out.shape[0]\n",
    "                    # print(loss)\n",
    "\n",
    "                elif out_func == 'obj':\n",
    "                    loss = criterion(out[:,0], torch.sum(c * sol, dim=1))\n",
    "\n",
    "                else:\n",
    "                    loss = criterion(out, sol)\n",
    "\n",
    "                if out_func != 'feas':\n",
    "                    loss.backward()\n",
    "                    optimizer.step()\n",
    "\n",
    "                running_loss += loss.item()\n",
    "\n",
    "        train_loss += [running_loss]\n",
    "\n",
    "        # backup of optimized parameters\n",
    "        if not os.path.exists(f'model_{out_func}_backups'):\n",
    "            os.makedirs(f'model_{out_func}_backups')\n",
    "\n",
    "        torch.save(model, f'model_{out_func}_backups/model_{out_func}_{epoch}.pt')\n",
    "        \n",
    "        # calculates validation error\n",
    "        running_loss = 0.0\n",
    "\n",
    "        for dataloader in val_data:\n",
    "            for batch in dataloader:\n",
    "                c, A, b, constraints, l, u, sol, feas, edge_index = unpack_vars(batch)\n",
    "                out = model(c, A, b, constraints, l, u, edge_index, out_func)\n",
    "\n",
    "                if out_func == 'feas':\n",
    "                    loss = (out.shape[0] - torch.sum(torch.eq(out, feas))) / out.shape[0]\n",
    "\n",
    "                elif out_func == 'obj':\n",
    "                    loss = criterion(out[:,0], torch.sum(c * sol, dim=1))\n",
    "\n",
    "                else:\n",
    "                    loss = criterion(out, sol)\n",
    "\n",
    "                running_loss += loss.item()\n",
    "\n",
    "        val_loss += [running_loss]\n",
    "\n",
    "    return train_loss, val_loss"
   ]
  },
  {
   "cell_type": "code",
   "execution_count": 44,
   "metadata": {},
   "outputs": [],
   "source": [
    "train_set_obj = gen_data(int(num_data*0.7), batch_size, num_variables, num_constraints, out_func)\n",
    "\n",
    "train_size = int(0.7 * len(train_set_obj))\n",
    "validation_size = len(train_set_obj) - train_size\n",
    "\n",
    "train_set_obj, val_set_obj = random_split(train_set_obj, [train_size, validation_size])\n",
    "\n",
    "test_data_obj = gen_data(int(num_data*0.3), batch_size, num_variables, num_constraints, out_func)"
   ]
  },
  {
   "cell_type": "code",
   "execution_count": 45,
   "metadata": {},
   "outputs": [
    {
     "data": {
      "image/png": "[encoded data removed]",
      "text/plain": [
       "<Figure size 640x480 with 1 Axes>"
      ]
     },
     "metadata": {},
     "output_type": "display_data"
    }
   ],
   "source": [
    "train_loss, val_loss = train(train_data_obj, val_data_obj, out_func, epochs, num_constraints, num_variables)\n",
    "\n",
    "\n",
    "x = [i for i in range(epochs)]\n",
    "\n",
    "plt.plot(x, train_loss, 'o', color='red')\n",
    "plt.plot(x, val_loss, 'o', color='blue')\n",
    "plt.show()"
   ]
  },
  {
   "cell_type": "code",
   "execution_count": 46,
   "metadata": {},
   "outputs": [
    {
     "data": {
      "text/plain": [
       "16"
      ]
     },
     "execution_count": 46,
     "metadata": {},
     "output_type": "execute_result"
    }
   ],
   "source": [
    "opt_idx = val_loss.index(min(val_loss))\n",
    "opt_model = torch.load(f'model_{out_func}_backups/model_{out_func}_{opt_idx}.pt').to('cpu')\n",
    "opt_idx"
   ]
  },
  {
   "cell_type": "code",
   "execution_count": 47,
   "metadata": {},
   "outputs": [
    {
     "data": {
      "text/plain": [
       "0.009241427760571241"
      ]
     },
     "execution_count": 47,
     "metadata": {},
     "output_type": "execute_result"
    }
   ],
   "source": [
    "running_loss = 0.0\n",
    "objs = []\n",
    "for dataloader in test_data_obj:\n",
    "    for batch in dataloader:\n",
    "        c, A, b, constraints, l, u, sol, feas, edge_index = batch\n",
    "        out = opt_model(c, A, b, constraints, l, u, edge_index, out_func)\n",
    "        objs.append(torch.sum(c * sol, dim=1))\n",
    "        loss = torch.mean(torch.square(out[:,0].T - torch.sum(c * sol, dim=1))) ** 1/2\n",
    "\n",
    "        running_loss += loss.item()\n",
    "\n",
    "running_loss / int(num_data*0.3)"
   ]
  },
  {
   "cell_type": "code",
   "execution_count": 48,
   "metadata": {},
   "outputs": [
    {
     "name": "stdout",
     "output_type": "stream",
     "text": [
      "tensor([0.0370], grad_fn=<SelectBackward0>) tensor(-0.1330)\n",
      "tensor([-0.1652], grad_fn=<SelectBackward0>) tensor(-0.1909)\n",
      "tensor([0.1068], grad_fn=<SelectBackward0>) tensor(-0.0845)\n"
     ]
    }
   ],
   "source": [
    "for dataloader in test_data_obj:\n",
    "    for batch in dataloader:\n",
    "        c, A, b, constraints, l, u, sol, feas, edge_index = batch\n",
    "        out = opt_model(c, A, b, constraints, l, u, edge_index, out_func)\n",
    "        print(out[0], torch.sum((c * sol)[0]))\n",
    "        break"
   ]
  }
 ],
 "metadata": {
  "kernelspec": {
   "display_name": "Python 3",
   "language": "python",
   "name": "python3"
  },
  "language_info": {
   "codemirror_mode": {
    "name": "ipython",
    "version": 3
   },
   "file_extension": ".py",
   "mimetype": "text/x-python",
   "name": "python",
   "nbconvert_exporter": "python",
   "pygments_lexer": "ipython3",
   "version": "3.10.6"
  },
  "orig_nbformat": 4
 },
 "nbformat": 4,
 "nbformat_minor": 2
}
