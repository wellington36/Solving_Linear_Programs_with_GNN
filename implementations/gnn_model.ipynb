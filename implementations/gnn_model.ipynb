{
 "cells": [
  {
   "cell_type": "code",
   "execution_count": 1,
   "metadata": {
    "tags": []
   },
   "outputs": [],
   "source": [
    "import torch\n",
    "import numpy as np\n",
    "import random as rd\n",
    "import torch.nn as nn\n",
    "import matplotlib.pyplot as plt\n",
    "import os\n",
    "\n",
    "from tqdm import tqdm\n",
    "from model import LPGCN\n",
    "from generate_data import generate_random_linear_program, solve_linear_program, generate_and_solve_batches\n",
    "from scipy.optimize import linprog"
   ]
  },
  {
   "cell_type": "code",
   "execution_count": 2,
   "metadata": {},
   "outputs": [],
   "source": [
    "def train(model, c, A, b, constraint, l, u, sol, feas, out_func, optimizer):\n",
    "    optimizer.zero_grad()\n",
    "    out = model(c, A, b, constraint, l, u, out_func)\n",
    "\n",
    "    loss = nn.MSELoss()\n",
    "    if out_func == 'feas':\n",
    "        loss = loss(out, feas)\n",
    "\n",
    "    elif out_func == 'obj':\n",
    "        #loss = loss(out, (c[:, None, :] @ sol[:, :, None])[:,0])\n",
    "        loss = loss(out[:,0], torch.sum(c * sol, dim=1))\n",
    "\n",
    "    else:\n",
    "        loss = loss(out, sol)\n",
    "\n",
    "    loss.backward()\n",
    "    optimizer.step()\n",
    "    return loss\n",
    "\n",
    "def test(model, c, A, b, constraint, l, u, sol, feas, out_func):\n",
    "    out = model.forward(c, A, b, constraint, l, u, out_func)\n",
    "    loss = nn.MSELoss()\n",
    "    if out_func == 'feas':\n",
    "        loss = loss(out, feas)\n",
    "    elif out_func == 'obj':\n",
    "        loss = loss(out, c.T @ sol)\n",
    "    else:\n",
    "        loss = loss(out, sol)\n",
    "    return loss"
   ]
  },
  {
   "cell_type": "code",
   "execution_count": 9,
   "metadata": {},
   "outputs": [],
   "source": [
    "### PARAMETERS ###\n",
    "num_constraints = 2\n",
    "num_variables = 5\n",
    "batch_size = 64\n",
    "learning_rate = 0.003\n",
    "num_data = 300\n",
    "out_func = 'obj'\n",
    "\n",
    "device = device = torch.device('cuda:0' if torch.cuda.is_available() else 'cpu')\n",
    "\n",
    "epochs = 200"
   ]
  },
  {
   "cell_type": "code",
   "execution_count": 4,
   "metadata": {
    "jupyter": {
     "source_hidden": true
    },
    "tags": []
   },
   "outputs": [],
   "source": [
    "def gen_data(num_data, batch_size, num_variables, num_constraints, out_func):\n",
    "    data = []\n",
    "    for i in range(num_data):\n",
    "        c, A, b, constraints, l, u, solution, feasibility = generate_and_solve_batches(batch_size,\n",
    "                                                                                    num_variables,\n",
    "                                                                                    num_constraints,\n",
    "                                                                                    out_func)\n",
    "        data.append([c, A, b, constraints, l, u, solution, feasibility])\n",
    "    return data"
   ]
  },
  {
   "cell_type": "code",
   "execution_count": 5,
   "metadata": {
    "jupyter": {
     "source_hidden": true
    },
    "tags": []
   },
   "outputs": [],
   "source": [
    "def train(train_data, val_data, out_func, epochs, num_constraints, num_variables):\n",
    "    model = LPGCN(num_constraints, num_variables).to(device)\n",
    "\n",
    "    criterion = nn.MSELoss()\n",
    "    optimizer = torch.optim.Adam(model.parameters(), lr=0.001)\n",
    "\n",
    "    train_loss = []\n",
    "    val_loss = []\n",
    "    \n",
    "    def unpack_vars(data):\n",
    "        c, A, b, constraints, l, u, sol, feas = data\n",
    "        c = c.to(device)\n",
    "        A = A.to(device)\n",
    "        b = b.to(device)\n",
    "        constraints = constraints.to(device)\n",
    "        l = l.to(device)\n",
    "        u = u.to(device)\n",
    "        sol = sol.to(device)\n",
    "        return c, A, b, constraints, l, u, sol, feas\n",
    "    \n",
    "    # optimize parameters and calculates training loss\n",
    "    for epoch in range(epochs):  # loop over the dataset multiple times\n",
    "        running_loss = 0.0\n",
    "        aux = 0\n",
    "\n",
    "        for batch in train_data:\n",
    "            c, A, b, constraints, l, u, sol, feas = unpack_vars(batch)\n",
    "            optimizer.zero_grad()\n",
    "            out = model(c, A, b, constraints, l, u, out_func)\n",
    "            if out_func == 'feas':\n",
    "                loss = (out.shape[0] - torch.sum(torch.eq(out, feas))) / out.shape[0]\n",
    "                # print(loss)\n",
    "\n",
    "            elif out_func == 'obj':\n",
    "                loss = criterion(out[:,0], torch.sum(c * sol, dim=1))\n",
    "\n",
    "            else:\n",
    "                loss = criterion(out, sol)\n",
    "\n",
    "            if out_func != 'feas':\n",
    "                loss.backward()\n",
    "                optimizer.step()\n",
    "            \n",
    "            running_loss += loss.item()\n",
    "            aux += 1\n",
    "\n",
    "        train_loss += [running_loss]\n",
    "        \n",
    "        # backup of optimized parameters\n",
    "        if not os.path.exists('model_backups'):\n",
    "            os.makedirs('model_backups')\n",
    "\n",
    "        torch.save(model.state_dict(), f'model_backups/params_{epoch}.pt')\n",
    "        \n",
    "        # calculates validation error\n",
    "        running_loss = 0.0\n",
    "        for data in val_data:\n",
    "            c, A, b, constraints, l, u, sol, feas = unpack_vars(batch)\n",
    "            if out_func == 'feas':\n",
    "                loss = (out.shape[0] - torch.sum(torch.eq(out, feas))) / out.shape[0]\n",
    "                # print(loss)\n",
    "\n",
    "            elif out_func == 'obj':\n",
    "                loss = criterion(out[:,0], torch.sum(c * sol, dim=1))\n",
    "\n",
    "            else:\n",
    "                loss = criterion(out, sol)\n",
    "\n",
    "            running_loss += loss.item()\n",
    "\n",
    "        val_loss += [running_loss]\n",
    "    \n",
    "    return train_loss, val_loss"
   ]
  },
  {
   "cell_type": "code",
   "execution_count": 6,
   "metadata": {
    "jupyter": {
     "source_hidden": true
    },
    "tags": []
   },
   "outputs": [],
   "source": [
    "train_data_feas = gen_data(int(num_data*0.5), batch_size, num_variables, num_constraints, out_func)\n",
    "val_data_feas = gen_data(int(num_data*0.3), batch_size, num_variables, num_constraints, out_func)\n",
    "test_data_feas = gen_data(int(num_data*0.2), batch_size, num_variables, num_constraints, out_func)"
   ]
  },
  {
   "cell_type": "code",
   "execution_count": 7,
   "metadata": {
    "tags": []
   },
   "outputs": [
    {
     "data": {
      "image/png": "[encoded data removed]",
      "text/plain": [
       "<Figure size 640x480 with 1 Axes>"
      ]
     },
     "metadata": {},
     "output_type": "display_data"
    }
   ],
   "source": [
    "epochs = 200\n",
    "\n",
    "train_loss, val_loss = train(train_data_feas, val_data_feas, out_func, epochs, num_constraints, num_variables)\n",
    "\n",
    "x = [i for i in range(epochs)]\n",
    "\n",
    "plt.plot(x, train_loss, 'o', color='red')\n",
    "plt.plot(x, val_loss, 'o', color='blue')\n",
    "plt.show()"
   ]
  },
  {
   "cell_type": "code",
   "execution_count": 8,
   "metadata": {
    "tags": []
   },
   "outputs": [
    {
     "name": "stdout",
     "output_type": "stream",
     "text": [
      "\n",
      "\n",
      "\n",
      "Training model\n",
      "\n",
      "\n",
      "\n"
     ]
    },
    {
     "name": "stderr",
     "output_type": "stream",
     "text": [
      "  0%|                                                   | 0/100 [00:00<?, ?it/s]\n"
     ]
    },
    {
     "ename": "NameError",
     "evalue": "name 'data_train' is not defined",
     "output_type": "error",
     "traceback": [
      "\u001b[0;31m---------------------------------------------------------------------------\u001b[0m",
      "\u001b[0;31mNameError\u001b[0m                                 Traceback (most recent call last)",
      "Cell \u001b[0;32mIn[8], line 7\u001b[0m\n\u001b[1;32m      5\u001b[0m pbar \u001b[38;5;241m=\u001b[39m tqdm(\u001b[38;5;28mrange\u001b[39m(epochs))\n\u001b[1;32m      6\u001b[0m \u001b[38;5;28;01mfor\u001b[39;00m epoch \u001b[38;5;129;01min\u001b[39;00m pbar:\n\u001b[0;32m----> 7\u001b[0m     \u001b[38;5;28;01mfor\u001b[39;00m batch \u001b[38;5;129;01min\u001b[39;00m data_train:\n\u001b[1;32m      8\u001b[0m         c, A, b, constraints, l, u, sol, feas \u001b[38;5;241m=\u001b[39m batch\n\u001b[1;32m      9\u001b[0m         c \u001b[38;5;241m=\u001b[39m c\u001b[38;5;241m.\u001b[39mto(device)\n",
      "\u001b[0;31mNameError\u001b[0m: name 'data_train' is not defined"
     ]
    }
   ],
   "source": [
    "# training model\n",
    "print(\"\\n\\n\")\n",
    "print(\"Training model\")\n",
    "print(\"\\n\\n\")\n",
    "pbar = tqdm(range(epochs))\n",
    "for epoch in pbar:\n",
    "    for batch in data_train:\n",
    "        c, A, b, constraints, l, u, sol, feas = batch\n",
    "        c = c.to(device)\n",
    "        A = A.to(device)\n",
    "        b = b.to(device)\n",
    "        constraints = constraints.to(device)\n",
    "        l = l.to(device)\n",
    "        u = u.to(device)\n",
    "        sol = sol.to(device)\n",
    "        feas = feas\n",
    "        loss = train(model, c, A, b, constraints, l, u, sol, feas, out_func, optimizer)\n",
    "        pbar.set_description(f\"%.8f\" % loss)"
   ]
  },
  {
   "cell_type": "code",
   "execution_count": null,
   "metadata": {},
   "outputs": [],
   "source": [
    "# Test model\n",
    "print(\"\\n\\n\")\n",
    "print(\"Testing model\")\n",
    "print(\"\\n\\n\")\n",
    "batch_size = 5\n",
    "M = 10\n",
    "\n",
    "data_test = []\n",
    "for i in range(M):\n",
    "    c, A, b, constraints, l, u, solution, feasibility = generate_and_solve_batches(batch_size,\n",
    "                                                                                   num_variables,\n",
    "                                                                                   num_constraints,\n",
    "                                                                                   out_func)\n",
    "    data_test.append([c, A, b, constraints, l, u, solution, feasibility])\n",
    "\n",
    "for batch in data_test:\n",
    "    c, A, b, constraints, l, u, sol, feas = batch\n",
    "    c = c.to(device)\n",
    "    A = A.to(device)\n",
    "    b = b.to(device)\n",
    "    constraints = constraints.to(device)\n",
    "    l = l.to(device)\n",
    "    u = u.to(device)\n",
    "    sol = sol.to(device)\n",
    "    feas = feas.to(device)\n",
    "\n",
    "    loss = test(model, c, A, b, constraints, l, u, sol, feas, out_func)\n",
    "    print(f\"Loss: {loss}\")"
   ]
  },
  {
   "cell_type": "code",
   "execution_count": null,
   "metadata": {
    "tags": []
   },
   "outputs": [],
   "source": [
    "model2 = LPGCN(num_constraints, num_variables).to(device)\n",
    "\n",
    "optimizer = torch.optim.Adam(model.parameters(), lr=0.003)\n",
    "\n",
    "# Test model\n",
    "print(\"\\n\\n\")\n",
    "print(\"Testing model\")\n",
    "print(\"\\n\\n\")\n",
    "batch_size = 5\n",
    "M = 10\n",
    "\n",
    "data_test = []\n",
    "for i in range(M):\n",
    "    c, A, b, constraints, l, u, solution, feasibility = generate_and_solve_batches(batch_size,\n",
    "                                                                                   num_variables,\n",
    "                                                                                   num_constraints,\n",
    "                                                                                   out_func)\n",
    "    data_test.append([c, A, b, constraints, l, u, solution, feasibility])\n",
    "\n",
    "def test(model, c, A, b, constraint, l, u, sol, feas, out_func):\n",
    "    out = model.forward(c, A, b, constraint, l, u, out_func)\n",
    "    loss = nn.MSELoss()\n",
    "    if out_func == 'feas':\n",
    "        loss = loss(out, feas)\n",
    "    elif out_func == 'obj':\n",
    "        loss = loss(out, c.T @ sol)\n",
    "    else:\n",
    "        loss = loss(out, sol)\n",
    "    return loss\n",
    "\n",
    "\n",
    "for batch in data_test:\n",
    "    c, A, b, constraints, l, u, sol, feas = batch\n",
    "    c = c.to(device)\n",
    "    A = A.to(device)\n",
    "    b = b.to(device)\n",
    "    constraints = constraints.to(device)\n",
    "    l = l.to(device)\n",
    "    u = u.to(device)\n",
    "    sol = sol.to(device)\n",
    "    feas = feas.to(device)\n",
    "\n",
    "    loss = test(model2, c, A, b, constraints, l, u, sol, feas, out_func)\n",
    "    print(f\"Loss: {loss}\")"
   ]
  },
  {
   "cell_type": "markdown",
   "metadata": {},
   "source": [
    "## Running tests"
   ]
  },
  {
   "cell_type": "code",
   "execution_count": null,
   "metadata": {},
   "outputs": [],
   "source": [
    "#if not os.path.exists('gnn_backup'):os.makedirs('gnn_backup')\n",
    "\n",
    "        \n",
    "#torch.save(cnn.state_dict(), f'cnn_backup/bkp_e{epoch}.pt')\n",
    "#opt_cnn.load_state_dict(torch.load(f'cnn_backup/bkp_{opt_idx}.pt')) "
   ]
  },
  {
   "cell_type": "code",
   "execution_count": null,
   "metadata": {},
   "outputs": [],
   "source": [
    "if not os.path.exists('gnn_backup'):os.makedirs('gnn_backup')"
   ]
  },
  {
   "cell_type": "code",
   "execution_count": null,
   "metadata": {},
   "outputs": [],
   "source": [
    "### PARAMETERS ###\n",
    "num_constraints = 2\n",
    "num_variables = 5\n",
    "batch_size = 10\n",
    "learning_rate = 0.003\n",
    "N = 100\n",
    "out_func = 'obj'\n",
    "\n",
    "device = device = torch.device('cuda:0' if torch.cuda.is_available() else 'cpu')\n",
    "model = LPGCN(num_constraints, num_variables).to(device)\n",
    "optimizer = torch.optim.Adam(model.parameters(), lr=learning_rate)\n",
    "\n",
    "#epochs = 200\n",
    "#pbar = tqdm(range(epochs))"
   ]
  },
  {
   "cell_type": "code",
   "execution_count": null,
   "metadata": {},
   "outputs": [],
   "source": [
    "data_train = []\n",
    "for i in range(N):\n",
    "    c, A, b, constraints, l, u, solution, feasibility = generate_and_solve_batches(batch_size,\n",
    "                                                                                   num_variables,\n",
    "                                                                                   num_constraints,\n",
    "                                                                                   out_func)\n",
    "    data_train.append([c, A, b, constraints, l, u, solution, feasibility])"
   ]
  },
  {
   "cell_type": "code",
   "execution_count": null,
   "metadata": {},
   "outputs": [],
   "source": [
    "epochs = 10\n",
    "s = 0\n",
    "\n",
    "for _ in range(5):\n",
    "    s += epochs\n",
    "    pbar = tqdm(range(epochs))\n",
    "\n",
    "    for epoch in pbar:\n",
    "        for batch in data_train:\n",
    "            c, A, b, constraints, l, u, sol, feas = batch\n",
    "        \n",
    "            c = c.to(device)\n",
    "            A = A.to(device)\n",
    "            b = b.to(device)\n",
    "            constraints = constraints.to(device)\n",
    "            l = l.to(device)\n",
    "            u = u.to(device)\n",
    "            sol = sol.to(device)\n",
    "            feas = feas\n",
    "        \n",
    "            loss = train(model, c, A, b, constraints, l, u, sol, feas, out_func, optimizer)\n",
    "            pbar.set_description(f\"%.8f\" % loss)\n",
    "    \n",
    "    torch.save(model.state_dict(), f'gnn_backup/bkp_obj_{s}.pt')"
   ]
  },
  {
   "cell_type": "code",
   "execution_count": null,
   "metadata": {},
   "outputs": [],
   "source": []
  }
 ],
 "metadata": {
  "kernelspec": {
   "display_name": "Python 3 (ipykernel)",
   "language": "python",
   "name": "python3"
  },
  "language_info": {
   "codemirror_mode": {
    "name": "ipython",
    "version": 3
   },
   "file_extension": ".py",
   "mimetype": "text/x-python",
   "name": "python",
   "nbconvert_exporter": "python",
   "pygments_lexer": "ipython3",
   "version": "3.11.3"
  },
  "vscode": {
   "interpreter": {
    "hash": "e7370f93d1d0cde622a1f8e1c04877d8463912d04d973331ad4851f04de6915a"
   }
  }
 },
 "nbformat": 4,
 "nbformat_minor": 4
}
