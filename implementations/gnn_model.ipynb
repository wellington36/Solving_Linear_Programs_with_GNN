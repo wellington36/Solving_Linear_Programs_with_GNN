{
 "cells": [
  {
   "cell_type": "code",
   "execution_count": 1,
   "metadata": {
    "tags": []
   },
   "outputs": [],
   "source": [
    "import torch\n",
    "import torch.nn as nn\n",
    "import numpy as np\n",
    "from scipy.optimize import linprog\n",
    "from tqdm import tqdm\n",
    "\n",
    "import torch_geometric.nn as G"
   ]
  },
  {
   "cell_type": "code",
   "execution_count": 2,
   "metadata": {
    "jupyter": {
     "source_hidden": true
    },
    "tags": []
   },
   "outputs": [],
   "source": [
    "def generate_random_linear_program(num_variables, num_constraints, bound):\n",
    "    # Generate random coefficients for the objective function\n",
    "    c = np.random.rand(num_variables)\n",
    "\n",
    "    # Generate random coefficients for the constraint matrix\n",
    "    A = np.random.rand(num_constraints, num_variables)\n",
    "\n",
    "    # Generate random right-hand side values for the constraints\n",
    "    b = np.random.rand(num_constraints)\n",
    "\n",
    "    # Generate random lower and upper bounds for the variables\n",
    "    lower_bounds = np.random.choice([bound, np.random.rand()], size=num_variables)\n",
    "    upper_bounds = np.random.choice([-bound, np.random.rand()], size=num_variables)\n",
    "\n",
    "    # Set the bounds for the variables\n",
    "    bounds = list(zip(lower_bounds, upper_bounds))\n",
    "\n",
    "    # Generate random constraint types (0 for <= and 1 for =)\n",
    "    constraint_types = np.random.choice([0, 1], size=num_constraints, p=[0.7, 0.3])\n",
    "\n",
    "    # Adjust the constraint matrix and right-hand side based on the constraint types\n",
    "    for i in range(num_constraints):\n",
    "        if constraint_types[i] == 1:  # Equality constraint\n",
    "            A[i] = np.random.choice([0, 1], p=[0.80, 0.20]) * A[i]  # Randomly multiply constraint coefficients by 0 or 1\n",
    "            b[i] = np.dot(A[i], np.random.rand(num_variables))  # Randomly generate a feasible solution\n",
    "\n",
    "    # Return the generated linear program\n",
    "    return c, A, b, constraint_types, bounds\n",
    "\n",
    "\n",
    "def solve_linear_program(c, A, b, constraint_types, bounds):\n",
    "    # Solve the linear program\n",
    "    res = linprog(c, A_ub=A[constraint_types == 0], b_ub=b[constraint_types == 0],\n",
    "                  A_eq=A[constraint_types == 1], b_eq=b[constraint_types == 1], bounds=bounds)\n",
    "\n",
    "    # Return the solution\n",
    "    return res.x, res.status\n"
   ]
  },
  {
   "cell_type": "code",
   "execution_count": 3,
   "metadata": {
    "jupyter": {
     "source_hidden": true
    },
    "tags": []
   },
   "outputs": [],
   "source": [
    "def generate_and_solve_batches(num_batches, num_variables, num_constraints, out_func):\n",
    "    batches_c = []\n",
    "    batches_A = []\n",
    "    batches_b = []\n",
    "    batches_constraint_types = []\n",
    "    batches_lower_bounds = []\n",
    "    batches_upper_bounds = []\n",
    "    batches_solutions = []\n",
    "    batches_feasibility = []\n",
    "\n",
    "    count = 0\n",
    "    \n",
    "    if out_func == 'feas':\n",
    "        for _ in range(num_batches):\n",
    "            c, A, b, constraint_types, bounds = generate_random_linear_program(num_variables,\n",
    "                                                                               num_constraints,\n",
    "                                                                               float('inf'))\n",
    "\n",
    "            solution, feasibility = solve_linear_program(c, A, b, constraint_types, bounds)\n",
    "\n",
    "            lower_bounds, upper_bounds = zip(*bounds)\n",
    "\n",
    "            batches_c.append(torch.tensor(c, dtype=torch.float32))\n",
    "            batches_A.append(torch.tensor(A, dtype=torch.float32))\n",
    "            batches_b.append(torch.tensor(b, dtype=torch.float32))\n",
    "            batches_constraint_types.append(torch.tensor(constraint_types, dtype=torch.float32))\n",
    "            batches_lower_bounds.append(torch.tensor(lower_bounds, dtype=torch.float32))\n",
    "            batches_upper_bounds.append(torch.tensor(upper_bounds, dtype=torch.float32))\n",
    "\n",
    "            if type(solution) != type(None):\n",
    "                batches_solutions.append(torch.tensor(solution, dtype=torch.float32))\n",
    "\n",
    "            else:\n",
    "                batches_solutions.append(torch.zeros(num_variables, dtype=torch.float32))\n",
    "\n",
    "            batches_feasibility.append(torch.tensor(1 if feasibility != 2 else 0, dtype=torch.float32))\n",
    "\n",
    "        return (\n",
    "            torch.stack(batches_c),\n",
    "            torch.stack(batches_A),\n",
    "            torch.stack(batches_b),\n",
    "            torch.stack(batches_constraint_types),\n",
    "            torch.stack(batches_lower_bounds),\n",
    "            torch.stack(batches_upper_bounds),\n",
    "            torch.stack(batches_solutions),\n",
    "            torch.stack(batches_feasibility)\n",
    "        )\n",
    "    else:\n",
    "        while len(batches_c) != num_batches:\n",
    "            c, A, b, constraint_types, bounds = generate_random_linear_program(num_variables,\n",
    "                                                                               num_constraints,\n",
    "                                                                              -1_000_000)\n",
    "            solution, feasibility = solve_linear_program(c, A, b, constraint_types, bounds)\n",
    "            count += 1\n",
    "            if (type(solution) == type(None)):\n",
    "                continue\n",
    "            \n",
    "            lower_bounds, upper_bounds = zip(*bounds)\n",
    "\n",
    "            batches_c.append(torch.tensor(c, dtype=torch.float32))\n",
    "            batches_A.append(torch.tensor(A, dtype=torch.float32))\n",
    "            batches_b.append(torch.tensor(b, dtype=torch.float32))\n",
    "            batches_constraint_types.append(torch.tensor(constraint_types, dtype=torch.float32))\n",
    "            batches_lower_bounds.append(torch.tensor(lower_bounds, dtype=torch.float32))\n",
    "            batches_upper_bounds.append(torch.tensor(upper_bounds, dtype=torch.float32))\n",
    "            batches_solutions.append(torch.zeros(num_variables, dtype=torch.float32))\n",
    "            batches_feasibility.append(torch.tensor(1 if feasibility != 2 else 0, dtype=torch.float32))\n",
    "\n",
    "        return (\n",
    "            torch.stack(batches_c),\n",
    "            torch.stack(batches_A),\n",
    "            torch.stack(batches_b),\n",
    "            torch.stack(batches_constraint_types),\n",
    "            torch.stack(batches_lower_bounds),\n",
    "            torch.stack(batches_upper_bounds),\n",
    "            torch.stack(batches_solutions),\n",
    "            torch.stack(batches_feasibility)\n",
    "        )"
   ]
  },
  {
   "cell_type": "code",
   "execution_count": 4,
   "metadata": {
    "jupyter": {
     "source_hidden": true
    },
    "tags": []
   },
   "outputs": [],
   "source": [
    "class LPGNN(nn.Module):\n",
    "    def __init__(self, num_constraints, num_variables):\n",
    "        super().__init__()\n",
    "\n",
    "        self.num_constraints = num_constraints\n",
    "        self.num_variables = num_variables\n",
    "\n",
    "        self.num_layers = 5\n",
    "        ints = np.random.randint(1, 10, size=self.num_layers)\n",
    "        dims = [2 ** i for i in ints]\n",
    "        \n",
    "        # Encode the input features into the embedding space\n",
    "        self.fv_in = G.MLP([2, 32, dims[0]])\n",
    "        self.fw_in = G.MLP([3, 32, dims[0]])\n",
    "\n",
    "        # Hidden states of left nodes\n",
    "        self.fv = nn.ModuleList([G.MLP([dims[l-1], 32, dims[l]]) for l in range(1, self.num_layers)])\n",
    "        self.gv = nn.ModuleList([G.MLP([dims[l-1] + dims[l], 32, dims[l]]) for l in range(1, self.num_layers)])\n",
    "\n",
    "        # Hidden states of right nodes\n",
    "        self.fw = nn.ModuleList([G.MLP([dims[l-1], 32, dims[l]]) for l in range(1, self.num_layers)])\n",
    "        self.gw = nn.ModuleList([G.MLP([dims[l-1] + dims[l], 32, dims[l]]) for l in range(1, self.num_layers)])\n",
    "        \n",
    "        # Feas and obj output function\n",
    "        self.f_out = G.MLP([2 * dims[self.num_layers-1], 1, 1])\n",
    "\n",
    "        # Sol output function\n",
    "        self.fw_out = G.MLP([3 * dims[self.num_layers-1], 32, 1])\n",
    "\n",
    "    def construct_graph(self, c, A, b, constraints, l, u):\n",
    "        hv = torch.cat((b.unsqueeze(2), constraints.unsqueeze(2)), dim=2)\n",
    "        hw = torch.cat((c.unsqueeze(2), l.unsqueeze(2), u.unsqueeze(2)), dim=2)\n",
    "        E = A\n",
    "        return hv, hw, E\n",
    "\n",
    "    def init_features(self, hv, hw):\n",
    "        hv_0 = []\n",
    "        for i in range(self.num_constraints):\n",
    "            hv_0.append(self.fv_in(hv[:, i]))\n",
    "\n",
    "        hw_0 = []\n",
    "        for j in range(self.num_variables):\n",
    "            hw_0.append(self.fw_in(hw[:, j]))\n",
    "\n",
    "        hv = torch.stack(hv_0, dim=1)\n",
    "        hw = torch.stack(hw_0, dim=1)\n",
    "        return hv, hw\n",
    "\n",
    "    def layer_left(self, hv, hw, E, layer):\n",
    "        \n",
    "        hv_l = []\n",
    "        batch = hv.shape[0]\n",
    "        for i in range(self.num_constraints):\n",
    "            \n",
    "            s = []\n",
    "            for j in range(self.num_variables):\n",
    "                s.append(torch.mul(E[:, i, j, None], self.fw[layer](hw[:, j])))\n",
    "\n",
    "            s = torch.sum(torch.stack(s, dim=1), dim=1)\n",
    "            # s = torch.flatten(s, 1)\n",
    "            # hv_flat = torch.flatten(hv[:, i], 1)\n",
    "\n",
    "            joint = torch.cat((hv[:, i], s), dim=1)\n",
    "\n",
    "            hv_l.append(self.gv[layer](joint))\n",
    "        \n",
    "        hv_l = torch.stack(hv_l, dim=1)\n",
    "\n",
    "        return hv_l\n",
    "    \n",
    "    def layer_right(self, hv, hw, E, layer):\n",
    "        \n",
    "        hw_l = []\n",
    "        for j in range(self.num_variables):\n",
    "\n",
    "            s = []\n",
    "            for i in range(self.num_constraints):\n",
    "                s.append(torch.mul(E[:, i, j, None], self.fv[layer](hv[:, i])))\n",
    "            \n",
    "            s = torch.sum(torch.stack(s, dim=1), dim=1)\n",
    "\n",
    "            joint = torch.cat((hw[:, j], s), dim=1)\n",
    "            \n",
    "            hw_l.append(self.gw[layer](joint))\n",
    "        \n",
    "        hw_l = torch.stack(hw_l, dim=1)\n",
    "\n",
    "        return hw_l\n",
    "    \n",
    "    def single_output(self, hv, hw):\n",
    "        y_out = self.f_out(torch.cat((torch.sum(hv, 1), torch.sum(hw, 1)), dim=1))\n",
    "        return y_out\n",
    "    \n",
    "    def sol_output(self, hv, hw):\n",
    "        sol = []\n",
    "        for j in range(self.num_variables):\n",
    "            joint = torch.cat((torch.sum(hv, 1), torch.sum(hw, 1), hw[:, j]), dim=1)\n",
    "            sol.append(self.fw_out(joint))\n",
    "\n",
    "        sol = torch.stack(sol, dim=1)\n",
    "\n",
    "        return sol[:, :, 0]\n",
    "\n",
    "    def forward(self, c, A, b, constraints, l, u, phi = 'feas'):\n",
    "\n",
    "        hv, hw, E = self.construct_graph(c, A, b, constraints, l, u)\n",
    "        hv, hw = self.init_features(hv, hw)\n",
    "\n",
    "        for l in range(self.num_layers-1):\n",
    "            old_hv = hv\n",
    "            hv = self.layer_left(hv, hw, E, l)\n",
    "            hw = self.layer_right(old_hv, hw, E, l)\n",
    "\n",
    "        if phi == 'feas':\n",
    "            output = self.single_output(hv,hw)\n",
    "            bins = [1 if elem >= 1/2 else 0 for elem in output]\n",
    "            return bins\n",
    "        \n",
    "        elif phi == 'obj':\n",
    "            return self.single_output(hv,hw)\n",
    "        \n",
    "        elif phi == 'sol':\n",
    "            return self.sol_output(hv,hw)\n",
    "        \n",
    "        else:\n",
    "            return \"Please, choose one type of function: feas, obj or sol\""
   ]
  },
  {
   "cell_type": "code",
   "execution_count": 5,
   "metadata": {
    "tags": []
   },
   "outputs": [
    {
     "name": "stdout",
     "output_type": "stream",
     "text": [
      "Generated batch number:  0.0 %\n",
      "Generated batch number:  2.0 %\n",
      "Generated batch number:  4.0 %\n",
      "Generated batch number:  6.0 %\n",
      "Generated batch number:  8.0 %\n",
      "Generated batch number:  10.0 %\n",
      "Generated batch number:  12.0 %\n",
      "Generated batch number:  14.000000000000002 %\n",
      "Generated batch number:  16.0 %\n",
      "Generated batch number:  18.0 %\n",
      "Generated batch number:  20.0 %\n",
      "Generated batch number:  22.0 %\n",
      "Generated batch number:  24.0 %\n",
      "Generated batch number:  26.0 %\n",
      "Generated batch number:  28.000000000000004 %\n",
      "Generated batch number:  30.0 %\n",
      "Generated batch number:  32.0 %\n",
      "Generated batch number:  34.0 %\n",
      "Generated batch number:  36.0 %\n",
      "Generated batch number:  38.0 %\n",
      "Generated batch number:  40.0 %\n",
      "Generated batch number:  42.0 %\n",
      "Generated batch number:  44.0 %\n",
      "Generated batch number:  46.0 %\n",
      "Generated batch number:  48.0 %\n",
      "Generated batch number:  50.0 %\n",
      "Generated batch number:  52.0 %\n",
      "Generated batch number:  54.0 %\n",
      "Generated batch number:  56.00000000000001 %\n",
      "Generated batch number:  57.99999999999999 %\n",
      "Generated batch number:  60.0 %\n",
      "Generated batch number:  62.0 %\n",
      "Generated batch number:  64.0 %\n",
      "Generated batch number:  66.0 %\n",
      "Generated batch number:  68.0 %\n",
      "Generated batch number:  70.0 %\n",
      "Generated batch number:  72.0 %\n",
      "Generated batch number:  74.0 %\n",
      "Generated batch number:  76.0 %\n",
      "Generated batch number:  78.0 %\n",
      "Generated batch number:  80.0 %\n",
      "Generated batch number:  82.0 %\n",
      "Generated batch number:  84.0 %\n",
      "Generated batch number:  86.0 %\n",
      "Generated batch number:  88.0 %\n",
      "Generated batch number:  90.0 %\n",
      "Generated batch number:  92.0 %\n",
      "Generated batch number:  94.0 %\n",
      "Generated batch number:  96.0 %\n",
      "Generated batch number:  98.0 %\n"
     ]
    }
   ],
   "source": [
    "num_constraints = 10\n",
    "num_variables = 50\n",
    "batch_size = 2\n",
    "N = 50\n",
    "out_func = 'sol'\n",
    "\n",
    "\n",
    "data_train = []\n",
    "for i in range(N):\n",
    "    c, A, b, constraints, l, u, solution, feasibility = generate_and_solve_batches(batch_size,\n",
    "                                                                                   num_variables,\n",
    "                                                                                   num_constraints,\n",
    "                                                                                   out_func)\n",
    "\n",
    "    print(\"Generated batch number: \", i/50 * 100, \"%\")\n",
    "    data_train.append([c, A, b, constraints, l, u, solution, feasibility])"
   ]
  },
  {
   "cell_type": "code",
   "execution_count": 6,
   "metadata": {
    "tags": []
   },
   "outputs": [],
   "source": [
    "def train(model, c, A, b, constraint, l, u, sol, feas, out_func, optimizer):\n",
    "    optimizer.zero_grad()\n",
    "\n",
    "    #model = LPGNN(num_constraints, num_variables)\n",
    "\n",
    "    out = model.forward(c, A, b, constraint, l, u, out_func)\n",
    "\n",
    "    print(feas, out)\n",
    "    loss = nn.MSELoss()\n",
    "    if out_func == 'feas':\n",
    "        loss = loss(out, feas)\n",
    "    elif out_func == 'obj':\n",
    "        loss = loss(out, c.T @ sol)\n",
    "    else:\n",
    "        loss = loss(out, sol)\n",
    "    loss.backward()\n",
    "    optimizer.step()\n",
    "    return loss"
   ]
  },
  {
   "cell_type": "code",
   "execution_count": 7,
   "metadata": {
    "tags": []
   },
   "outputs": [
    {
     "name": "stderr",
     "output_type": "stream",
     "text": [
      "  0%|          | 0/100 [00:00<?, ?it/s]"
     ]
    },
    {
     "name": "stdout",
     "output_type": "stream",
     "text": [
      "tensor([1., 1.], device='cuda:0') tensor([[0.6628, 0.6628, 0.6628, 0.6628, 0.6628, 0.6628, 0.6628, 0.6628, 0.6628,\n",
      "         0.6628, 0.6628, 0.6628, 0.6628, 0.6628, 0.6628, 0.6628, 0.6628, 0.6628,\n",
      "         0.6628, 0.6628, 0.6628, 0.6628, 0.6628, 0.6628, 0.6628, 0.6628, 0.6628,\n",
      "         0.6628, 0.6628, 0.6628, 0.6628, 0.6628, 0.6628, 0.6628, 0.6628, 0.6628,\n",
      "         0.6628, 0.6628, 0.6628, 0.6628, 0.6628, 0.6628, 0.6628, 0.6628, 0.6628,\n",
      "         0.6628, 0.6628, 0.6628, 0.6628, 0.6628],\n",
      "        [0.7766, 0.7766, 0.7766, 0.7766, 0.7766, 0.7766, 0.7766, 0.7766, 0.7766,\n",
      "         0.7766, 0.7766, 0.7766, 0.7766, 0.7766, 0.7766, 0.7766, 0.7766, 0.7766,\n",
      "         0.7766, 0.7766, 0.7766, 0.7766, 0.7766, 0.7766, 0.7766, 0.7766, 0.7766,\n",
      "         0.7766, 0.7766, 0.7766, 0.7766, 0.7766, 0.7766, 0.7766, 0.7766, 0.7769,\n",
      "         0.7766, 0.7766, 0.7766, 0.7766, 0.7766, 0.7766, 0.7765, 0.7766, 0.7766,\n",
      "         0.7766, 0.7766, 0.7766, 0.7765, 0.7766]], device='cuda:0',\n",
      "       grad_fn=<SelectBackward0>)\n"
     ]
    },
    {
     "name": "stderr",
     "output_type": "stream",
     "text": [
      "0.52121258:   0%|          | 0/100 [00:03<?, ?it/s]"
     ]
    },
    {
     "name": "stdout",
     "output_type": "stream",
     "text": [
      "tensor([1., 1.], device='cuda:0') tensor([[0.4893, 0.4893, 0.4893, 0.4893, 0.4893, 0.4893, 0.4893, 0.4893, 0.4893,\n",
      "         0.4893, 0.4893, 0.4893, 0.4893, 0.4893, 0.4893, 0.4893, 0.4893, 0.4893,\n",
      "         0.4893, 0.4893, 0.4893, 0.4893, 0.4893, 0.4893, 0.4893, 0.4893, 0.4893,\n",
      "         0.4893, 0.4893, 0.4893, 0.4893, 0.4893, 0.4893, 0.4893, 0.4893, 0.4893,\n",
      "         0.4893, 0.4893, 0.4893, 0.4893, 0.4893, 0.4893, 0.4893, 0.4893, 0.4893,\n",
      "         0.4893, 0.4893, 0.4893, 0.4893, 0.4893],\n",
      "        [0.5568, 0.5568, 0.5568, 0.5568, 0.5568, 0.5568, 0.5568, 0.5568, 0.5568,\n",
      "         0.5568, 0.5568, 0.5568, 0.5568, 0.5568, 0.5568, 0.5568, 0.5568, 0.5568,\n",
      "         0.5568, 0.5568, 0.5568, 0.5568, 0.5568, 0.5568, 0.5568, 0.5568, 0.5568,\n",
      "         0.5568, 0.5568, 0.5568, 0.5568, 0.5568, 0.5568, 0.5568, 0.5568, 0.5568,\n",
      "         0.5568, 0.5568, 0.5568, 0.5568, 0.5568, 0.5568, 0.5568, 0.5568, 0.5568,\n",
      "         0.5568, 0.5568, 0.5568, 0.5568, 0.5568]], device='cuda:0',\n",
      "       grad_fn=<SelectBackward0>)\n"
     ]
    },
    {
     "name": "stderr",
     "output_type": "stream",
     "text": [
      "0.27471969:   0%|          | 0/100 [00:05<?, ?it/s]"
     ]
    },
    {
     "name": "stdout",
     "output_type": "stream",
     "text": [
      "tensor([1., 1.], device='cuda:0') tensor([[0.4192, 0.4192, 0.4192, 0.4192, 0.4192, 0.4192, 0.4192, 0.4192, 0.4192,\n",
      "         0.4192, 0.4192, 0.4192, 0.4192, 0.4192, 0.4192, 0.4192, 0.4192, 0.4192,\n",
      "         0.4192, 0.4192, 0.4192, 0.4192, 0.4192, 0.4192, 0.4192, 0.4192, 0.4192,\n",
      "         0.4192, 0.4192, 0.4192, 0.4192, 0.4192, 0.4192, 0.4192, 0.4192, 0.4192,\n",
      "         0.4192, 0.4192, 0.4192, 0.4192, 0.4192, 0.4192, 0.4192, 0.4192, 0.4192,\n",
      "         0.4192, 0.4192, 0.4192, 0.4192, 0.4192],\n",
      "        [0.2469, 0.2469, 0.2469, 0.2469, 0.2469, 0.2469, 0.2469, 0.2469, 0.2469,\n",
      "         0.2469, 0.2469, 0.2469, 0.2469, 0.2469, 0.2469, 0.2469, 0.2469, 0.2469,\n",
      "         0.2469, 0.2469, 0.2469, 0.2469, 0.2469, 0.2469, 0.2469, 0.2469, 0.2469,\n",
      "         0.2469, 0.2469, 0.2469, 0.2469, 0.2469, 0.2469, 0.2469, 0.2469, 0.2469,\n",
      "         0.2469, 0.2469, 0.2469, 0.2469, 0.2469, 0.2469, 0.2469, 0.2469, 0.2469,\n",
      "         0.2469, 0.2469, 0.2469, 0.2469, 0.2469]], device='cuda:0',\n",
      "       grad_fn=<SelectBackward0>)\n"
     ]
    },
    {
     "name": "stderr",
     "output_type": "stream",
     "text": [
      "0.11836322:   0%|          | 0/100 [00:06<?, ?it/s]"
     ]
    },
    {
     "name": "stdout",
     "output_type": "stream",
     "text": [
      "tensor([1., 1.], device='cuda:0') tensor([[0.2577, 0.2577, 0.2577, 0.2577, 0.2577, 0.2577, 0.2577, 0.2577, 0.2577,\n",
      "         0.2577, 0.2577, 0.2577, 0.2577, 0.2577, 0.2577, 0.2577, 0.2577, 0.2577,\n",
      "         0.2577, 0.2577, 0.2577, 0.2577, 0.2577, 0.2577, 0.2577, 0.2577, 0.2577,\n",
      "         0.2577, 0.2577, 0.2577, 0.2577, 0.2577, 0.2577, 0.2577, 0.2577, 0.2577,\n",
      "         0.2577, 0.2577, 0.2577, 0.2577, 0.2577, 0.2577, 0.2577, 0.2577, 0.2577,\n",
      "         0.2577, 0.2577, 0.2577, 0.2577, 0.2577],\n",
      "        [0.0529, 0.0529, 0.0529, 0.0529, 0.0529, 0.0529, 0.0529, 0.0529, 0.0529,\n",
      "         0.0529, 0.0529, 0.0529, 0.0529, 0.0529, 0.0529, 0.0529, 0.0529, 0.0529,\n",
      "         0.0529, 0.0529, 0.0529, 0.0529, 0.0529, 0.0529, 0.0529, 0.0529, 0.0529,\n",
      "         0.0529, 0.0529, 0.0529, 0.0529, 0.0529, 0.0529, 0.0529, 0.0529, 0.0529,\n",
      "         0.0529, 0.0529, 0.0529, 0.0529, 0.0529, 0.0529, 0.0529, 0.0529, 0.0529,\n",
      "         0.0529, 0.0529, 0.0529, 0.0529, 0.0529]], device='cuda:0',\n",
      "       grad_fn=<SelectBackward0>)\n"
     ]
    },
    {
     "name": "stderr",
     "output_type": "stream",
     "text": [
      "0.03460017:   0%|          | 0/100 [00:07<?, ?it/s]"
     ]
    },
    {
     "name": "stdout",
     "output_type": "stream",
     "text": [
      "tensor([1., 1.], device='cuda:0') tensor([[ 0.0857,  0.0857,  0.0857,  0.0857,  0.0857,  0.0857,  0.0857,  0.0857,\n",
      "          0.0857,  0.0857,  0.0857,  0.0857,  0.0857,  0.0857,  0.0857,  0.0857,\n",
      "          0.0857,  0.0857,  0.0857,  0.0857,  0.0857,  0.0857,  0.0857,  0.0857,\n",
      "          0.0857,  0.0857,  0.0857,  0.0857,  0.0857,  0.0857,  0.0857,  0.0857,\n",
      "          0.0857,  0.0857,  0.0857,  0.0857,  0.0857,  0.0857,  0.0857,  0.0857,\n",
      "          0.0857,  0.0857,  0.0857,  0.0857,  0.0857,  0.0857,  0.0857,  0.0857,\n",
      "          0.0857,  0.0857],\n",
      "        [-0.0928, -0.0928, -0.0928, -0.0928, -0.0928, -0.0928, -0.0928, -0.0928,\n",
      "         -0.0928, -0.0928, -0.0928, -0.0928, -0.0928, -0.0928, -0.0928, -0.0928,\n",
      "         -0.0928, -0.0928, -0.0928, -0.0928, -0.0928, -0.0928, -0.0928, -0.0928,\n",
      "         -0.0928, -0.0928, -0.0928, -0.0928, -0.0928, -0.0928, -0.0928, -0.0928,\n",
      "         -0.0928, -0.0928, -0.0928, -0.0928, -0.0928, -0.0928, -0.0928, -0.0928,\n",
      "         -0.0928, -0.0928, -0.0928, -0.0928, -0.0928, -0.0928, -0.0928, -0.0928,\n",
      "         -0.0928, -0.0928]], device='cuda:0', grad_fn=<SelectBackward0>)\n"
     ]
    },
    {
     "name": "stderr",
     "output_type": "stream",
     "text": [
      "0.00797569:   0%|          | 0/100 [00:09<?, ?it/s]"
     ]
    },
    {
     "name": "stdout",
     "output_type": "stream",
     "text": [
      "tensor([1., 1.], device='cuda:0') tensor([[-0.0662, -0.0662, -0.0662, -0.0662, -0.0662, -0.0662, -0.0662, -0.0662,\n",
      "         -0.0662, -0.0662, -0.0662, -0.0662, -0.0662, -0.0662, -0.0662, -0.0662,\n",
      "         -0.0662, -0.0662, -0.0662, -0.0662, -0.0662, -0.0662, -0.0662, -0.0662,\n",
      "         -0.0662, -0.0662, -0.0662, -0.0662, -0.0662, -0.0662, -0.0662, -0.0662,\n",
      "         -0.0662, -0.0662, -0.0662, -0.0662, -0.0662, -0.0662, -0.0662, -0.0662,\n",
      "         -0.0662, -0.0662, -0.0662, -0.0662, -0.0662, -0.0662, -0.0662, -0.0662,\n",
      "         -0.0662, -0.0662],\n",
      "        [-0.2045, -0.2045, -0.2045, -0.2045, -0.2045, -0.2045, -0.2045, -0.2045,\n",
      "         -0.2045, -0.2045, -0.2045, -0.2045, -0.2045, -0.2045, -0.2045, -0.2045,\n",
      "         -0.2045, -0.2045, -0.2045, -0.2045, -0.2045, -0.2045, -0.2045, -0.2045,\n",
      "         -0.2045, -0.2045, -0.2045, -0.2045, -0.2045, -0.2045, -0.2045, -0.2045,\n",
      "         -0.2045, -0.2045, -0.2045, -0.2045, -0.2045, -0.2045, -0.2045, -0.2045,\n",
      "         -0.2045, -0.2045, -0.2045, -0.2045, -0.2045, -0.2045, -0.2045, -0.2045,\n",
      "         -0.2045, -0.2045]], device='cuda:0', grad_fn=<SelectBackward0>)\n"
     ]
    },
    {
     "name": "stderr",
     "output_type": "stream",
     "text": [
      "0.02310305:   0%|          | 0/100 [00:10<?, ?it/s]"
     ]
    },
    {
     "name": "stdout",
     "output_type": "stream",
     "text": [
      "tensor([1., 1.], device='cuda:0') tensor([[-0.1891, -0.1891, -0.1891, -0.1891, -0.1891, -0.1891, -0.1891, -0.1891,\n",
      "         -0.1891, -0.1891, -0.1891, -0.1891, -0.1891, -0.1891, -0.1891, -0.1891,\n",
      "         -0.1891, -0.1891, -0.1891, -0.1891, -0.1891, -0.1891, -0.1891, -0.1891,\n",
      "         -0.1891, -0.1891, -0.1891, -0.1891, -0.1891, -0.1891, -0.1891, -0.1891,\n",
      "         -0.1891, -0.1891, -0.1891, -0.1891, -0.1891, -0.1891, -0.1891, -0.1891,\n",
      "         -0.1891, -0.1891, -0.1891, -0.1891, -0.1891, -0.1891, -0.1891, -0.1891,\n",
      "         -0.1891, -0.1891],\n",
      "        [-0.2769, -0.2769, -0.2769, -0.2769, -0.2769, -0.2769, -0.2769, -0.2769,\n",
      "         -0.2769, -0.2769, -0.2769, -0.2769, -0.2769, -0.2769, -0.2769, -0.2769,\n",
      "         -0.2769, -0.2769, -0.2769, -0.2769, -0.2769, -0.2769, -0.2769, -0.2769,\n",
      "         -0.2769, -0.2769, -0.2769, -0.2769, -0.2769, -0.2769, -0.2769, -0.2769,\n",
      "         -0.2769, -0.2769, -0.2769, -0.2769, -0.2769, -0.2769, -0.2769, -0.2769,\n",
      "         -0.2769, -0.2769, -0.2769, -0.2769, -0.2769, -0.2769, -0.2769, -0.2769,\n",
      "         -0.2769, -0.2769]], device='cuda:0', grad_fn=<SelectBackward0>)\n"
     ]
    },
    {
     "name": "stderr",
     "output_type": "stream",
     "text": [
      "0.05621143:   0%|          | 0/100 [00:12<?, ?it/s]"
     ]
    },
    {
     "name": "stdout",
     "output_type": "stream",
     "text": [
      "tensor([1., 1.], device='cuda:0') tensor([[-0.3109, -0.3109, -0.3109, -0.3109, -0.3109, -0.3109, -0.3109, -0.3109,\n",
      "         -0.3109, -0.3109, -0.3109, -0.3109, -0.3109, -0.3109, -0.3109, -0.3109,\n",
      "         -0.3109, -0.3109, -0.3109, -0.3109, -0.3109, -0.3109, -0.3109, -0.3109,\n",
      "         -0.3109, -0.3109, -0.3109, -0.3109, -0.3109, -0.3109, -0.3109, -0.3109,\n",
      "         -0.3109, -0.3109, -0.3109, -0.3109, -0.3109, -0.3109, -0.3109, -0.3109,\n",
      "         -0.3109, -0.3109, -0.3109, -0.3109, -0.3109, -0.3109, -0.3109, -0.3109,\n",
      "         -0.3109, -0.3109],\n",
      "        [-0.2763, -0.2763, -0.2763, -0.2763, -0.2763, -0.2763, -0.2763, -0.2763,\n",
      "         -0.2763, -0.2763, -0.2763, -0.2763, -0.2763, -0.2763, -0.2763, -0.2763,\n",
      "         -0.2763, -0.2763, -0.2763, -0.2763, -0.2763, -0.2763, -0.2763, -0.2763,\n",
      "         -0.2763, -0.2763, -0.2763, -0.2763, -0.2763, -0.2763, -0.2763, -0.2763,\n",
      "         -0.2763, -0.2763, -0.2763, -0.2763, -0.2763, -0.2763, -0.2763, -0.2763,\n",
      "         -0.2763, -0.2763, -0.2763, -0.2763, -0.2763, -0.2763, -0.2763, -0.2763,\n",
      "         -0.2763, -0.2763]], device='cuda:0', grad_fn=<SelectBackward0>)\n"
     ]
    },
    {
     "name": "stderr",
     "output_type": "stream",
     "text": [
      "0.08649807:   0%|          | 0/100 [00:13<?, ?it/s]"
     ]
    },
    {
     "name": "stdout",
     "output_type": "stream",
     "text": [
      "tensor([1., 1.], device='cuda:0') tensor([[-0.3265, -0.3265, -0.3265, -0.3265, -0.3265, -0.3265, -0.3265, -0.3265,\n",
      "         -0.3265, -0.3265, -0.3265, -0.3265, -0.3265, -0.3265, -0.3265, -0.3265,\n",
      "         -0.3265, -0.3265, -0.3265, -0.3265, -0.3265, -0.3265, -0.3265, -0.3265,\n",
      "         -0.3265, -0.3265, -0.3265, -0.3265, -0.3265, -0.3265, -0.3265, -0.3265,\n",
      "         -0.3265, -0.3265, -0.3265, -0.3265, -0.3265, -0.3265, -0.3265, -0.3265,\n",
      "         -0.3265, -0.3265, -0.3265, -0.3265, -0.3265, -0.3265, -0.3265, -0.3265,\n",
      "         -0.3265, -0.3265],\n",
      "        [-0.3120, -0.3120, -0.3120, -0.3120, -0.3120, -0.3120, -0.3120, -0.3120,\n",
      "         -0.3120, -0.3120, -0.3120, -0.3120, -0.3120, -0.3120, -0.3120, -0.3120,\n",
      "         -0.3120, -0.3120, -0.3120, -0.3120, -0.3120, -0.3120, -0.3120, -0.3120,\n",
      "         -0.3120, -0.3120, -0.3120, -0.3120, -0.3120, -0.3120, -0.3120, -0.3120,\n",
      "         -0.3120, -0.3120, -0.3120, -0.3120, -0.3120, -0.3120, -0.3120, -0.3120,\n",
      "         -0.3120, -0.3120, -0.3120, -0.3120, -0.3120, -0.3120, -0.3120, -0.3120,\n",
      "         -0.3120, -0.3120]], device='cuda:0', grad_fn=<SelectBackward0>)\n"
     ]
    },
    {
     "name": "stderr",
     "output_type": "stream",
     "text": [
      "0.10196943:   0%|          | 0/100 [00:14<?, ?it/s]"
     ]
    },
    {
     "name": "stdout",
     "output_type": "stream",
     "text": [
      "tensor([1., 1.], device='cuda:0') tensor([[-0.3431, -0.3431, -0.3431, -0.3431, -0.3431, -0.3431, -0.3431, -0.3431,\n",
      "         -0.3431, -0.3431, -0.3431, -0.3431, -0.3431, -0.3431, -0.3431, -0.3431,\n",
      "         -0.3431, -0.3431, -0.3431, -0.3431, -0.3431, -0.3431, -0.3431, -0.3431,\n",
      "         -0.3431, -0.3431, -0.3431, -0.3431, -0.3431, -0.3431, -0.3431, -0.3431,\n",
      "         -0.3431, -0.3431, -0.3431, -0.3431, -0.3431, -0.3431, -0.3431, -0.3431,\n",
      "         -0.3431, -0.3431, -0.3431, -0.3431, -0.3431, -0.3431, -0.3431, -0.3431,\n",
      "         -0.3431, -0.3431],\n",
      "        [-0.2874, -0.2874, -0.2874, -0.2874, -0.2874, -0.2874, -0.2874, -0.2874,\n",
      "         -0.2874, -0.2874, -0.2874, -0.2874, -0.2874, -0.2874, -0.2874, -0.2874,\n",
      "         -0.2874, -0.2874, -0.2874, -0.2874, -0.2874, -0.2874, -0.2874, -0.2874,\n",
      "         -0.2874, -0.2874, -0.2874, -0.2874, -0.2874, -0.2874, -0.2874, -0.2874,\n",
      "         -0.2874, -0.2874, -0.2874, -0.2874, -0.2874, -0.2874, -0.2874, -0.2874,\n",
      "         -0.2874, -0.2874, -0.2874, -0.2874, -0.2874, -0.2874, -0.2874, -0.2874,\n",
      "         -0.2874, -0.2874]], device='cuda:0', grad_fn=<SelectBackward0>)\n"
     ]
    },
    {
     "name": "stderr",
     "output_type": "stream",
     "text": [
      "0.10016525:   0%|          | 0/100 [00:16<?, ?it/s]"
     ]
    },
    {
     "name": "stdout",
     "output_type": "stream",
     "text": [
      "tensor([1., 1.], device='cuda:0') tensor([[-0.2439, -0.2439, -0.2439, -0.2439, -0.2439, -0.2439, -0.2439, -0.2439,\n",
      "         -0.2439, -0.2439, -0.2439, -0.2439, -0.2439, -0.2439, -0.2439, -0.2439,\n",
      "         -0.2439, -0.2439, -0.2439, -0.2439, -0.2439, -0.2439, -0.2439, -0.2439,\n",
      "         -0.2439, -0.2439, -0.2439, -0.2439, -0.2439, -0.2439, -0.2439, -0.2439,\n",
      "         -0.2439, -0.2439, -0.2439, -0.2439, -0.2439, -0.2439, -0.2439, -0.2439,\n",
      "         -0.2439, -0.2439, -0.2439, -0.2439, -0.2439, -0.2439, -0.2439, -0.2439,\n",
      "         -0.2439, -0.2439],\n",
      "        [-0.3321, -0.3321, -0.3321, -0.3321, -0.3321, -0.3321, -0.3321, -0.3321,\n",
      "         -0.3321, -0.3321, -0.3321, -0.3321, -0.3321, -0.3321, -0.3321, -0.3321,\n",
      "         -0.3321, -0.3321, -0.3321, -0.3321, -0.3321, -0.3321, -0.3321, -0.3321,\n",
      "         -0.3321, -0.3321, -0.3321, -0.3321, -0.3321, -0.3321, -0.3321, -0.3321,\n",
      "         -0.3321, -0.3321, -0.3321, -0.3321, -0.3321, -0.3321, -0.3321, -0.3321,\n",
      "         -0.3321, -0.3321, -0.3321, -0.3321, -0.3321, -0.3321, -0.3321, -0.3321,\n",
      "         -0.3321, -0.3321]], device='cuda:0', grad_fn=<SelectBackward0>)\n"
     ]
    },
    {
     "name": "stderr",
     "output_type": "stream",
     "text": [
      "0.08490153:   0%|          | 0/100 [00:17<?, ?it/s]"
     ]
    },
    {
     "name": "stdout",
     "output_type": "stream",
     "text": [
      "tensor([1., 1.], device='cuda:0') tensor([[-0.2997, -0.2997, -0.2997, -0.2997, -0.2997, -0.2997, -0.2997, -0.2997,\n",
      "         -0.2997, -0.2997, -0.2997, -0.2997, -0.2997, -0.2997, -0.2997, -0.2997,\n",
      "         -0.2997, -0.2997, -0.2997, -0.2997, -0.2997, -0.2997, -0.2997, -0.2997,\n",
      "         -0.2997, -0.2997, -0.2997, -0.2997, -0.2997, -0.2997, -0.2997, -0.2997,\n",
      "         -0.2997, -0.2997, -0.2997, -0.2997, -0.2997, -0.2997, -0.2997, -0.2997,\n",
      "         -0.2997, -0.2997, -0.2997, -0.2997, -0.2997, -0.2997, -0.2997, -0.2997,\n",
      "         -0.2997, -0.2997],\n",
      "        [-0.1877, -0.1877, -0.1877, -0.1877, -0.1877, -0.1877, -0.1877, -0.1877,\n",
      "         -0.1877, -0.1877, -0.1877, -0.1877, -0.1877, -0.1877, -0.1877, -0.1877,\n",
      "         -0.1877, -0.1877, -0.1877, -0.1877, -0.1877, -0.1877, -0.1877, -0.1877,\n",
      "         -0.1877, -0.1877, -0.1877, -0.1877, -0.1877, -0.1877, -0.1877, -0.1877,\n",
      "         -0.1877, -0.1877, -0.1877, -0.1877, -0.1877, -0.1877, -0.1877, -0.1877,\n",
      "         -0.1877, -0.1877, -0.1877, -0.1877, -0.1877, -0.1877, -0.1877, -0.1877,\n",
      "         -0.1877, -0.1877]], device='cuda:0', grad_fn=<SelectBackward0>)\n"
     ]
    },
    {
     "name": "stderr",
     "output_type": "stream",
     "text": [
      "0.06252988:   0%|          | 0/100 [00:18<?, ?it/s]"
     ]
    },
    {
     "name": "stdout",
     "output_type": "stream",
     "text": [
      "tensor([1., 1.], device='cuda:0') tensor([[-0.1242, -0.1242, -0.1242, -0.1242, -0.1242, -0.1242, -0.1242, -0.1242,\n",
      "         -0.1242, -0.1242, -0.1242, -0.1242, -0.1242, -0.1242, -0.1242, -0.1242,\n",
      "         -0.1242, -0.1242, -0.1242, -0.1242, -0.1242, -0.1242, -0.1242, -0.1242,\n",
      "         -0.1242, -0.1242, -0.1242, -0.1242, -0.1242, -0.1242, -0.1242, -0.1242,\n",
      "         -0.1242, -0.1242, -0.1242, -0.1242, -0.1242, -0.1242, -0.1242, -0.1242,\n",
      "         -0.1242, -0.1242, -0.1242, -0.1242, -0.1242, -0.1242, -0.1242, -0.1242,\n",
      "         -0.1242, -0.1242],\n",
      "        [-0.2517, -0.2517, -0.2517, -0.2517, -0.2517, -0.2517, -0.2517, -0.2517,\n",
      "         -0.2517, -0.2517, -0.2517, -0.2517, -0.2517, -0.2517, -0.2517, -0.2517,\n",
      "         -0.2517, -0.2517, -0.2517, -0.2517, -0.2517, -0.2517, -0.2517, -0.2517,\n",
      "         -0.2517, -0.2517, -0.2517, -0.2517, -0.2517, -0.2517, -0.2517, -0.2517,\n",
      "         -0.2517, -0.2517, -0.2517, -0.2517, -0.2517, -0.2517, -0.2517, -0.2517,\n",
      "         -0.2517, -0.2517, -0.2517, -0.2517, -0.2517, -0.2517, -0.2517, -0.2517,\n",
      "         -0.2517, -0.2517]], device='cuda:0', grad_fn=<SelectBackward0>)\n"
     ]
    },
    {
     "name": "stderr",
     "output_type": "stream",
     "text": [
      "0.03937967:   0%|          | 0/100 [00:20<?, ?it/s]"
     ]
    },
    {
     "name": "stdout",
     "output_type": "stream",
     "text": [
      "tensor([1., 1.], device='cuda:0') tensor([[-0.0583, -0.0583, -0.0583, -0.0583, -0.0583, -0.0583, -0.0583, -0.0583,\n",
      "         -0.0583, -0.0583, -0.0583, -0.0583, -0.0583, -0.0583, -0.0583, -0.0583,\n",
      "         -0.0583, -0.0583, -0.0583, -0.0583, -0.0583, -0.0583, -0.0583, -0.0583,\n",
      "         -0.0583, -0.0583, -0.0583, -0.0583, -0.0583, -0.0583, -0.0583, -0.0583,\n",
      "         -0.0583, -0.0583, -0.0583, -0.0583, -0.0583, -0.0583, -0.0583, -0.0583,\n",
      "         -0.0583, -0.0583, -0.0583, -0.0583, -0.0583, -0.0583, -0.0583, -0.0583,\n",
      "         -0.0583, -0.0583],\n",
      "        [-0.1932, -0.1932, -0.1932, -0.1932, -0.1932, -0.1932, -0.1932, -0.1932,\n",
      "         -0.1932, -0.1932, -0.1932, -0.1932, -0.1932, -0.1932, -0.1932, -0.1932,\n",
      "         -0.1932, -0.1932, -0.1932, -0.1932, -0.1932, -0.1932, -0.1932, -0.1932,\n",
      "         -0.1932, -0.1932, -0.1932, -0.1932, -0.1932, -0.1932, -0.1932, -0.1932,\n",
      "         -0.1932, -0.1932, -0.1932, -0.1932, -0.1932, -0.1932, -0.1932, -0.1932,\n",
      "         -0.1932, -0.1932, -0.1932, -0.1932, -0.1932, -0.1932, -0.1932, -0.1932,\n",
      "         -0.1932, -0.1932]], device='cuda:0', grad_fn=<SelectBackward0>)\n"
     ]
    },
    {
     "name": "stderr",
     "output_type": "stream",
     "text": [
      "0.02036152:   0%|          | 0/100 [00:21<?, ?it/s]"
     ]
    },
    {
     "name": "stdout",
     "output_type": "stream",
     "text": [
      "tensor([1., 1.], device='cuda:0') tensor([[ 0.0052,  0.0052,  0.0052,  0.0052,  0.0052,  0.0052,  0.0052,  0.0052,\n",
      "          0.0052,  0.0052,  0.0052,  0.0052,  0.0052,  0.0052,  0.0052,  0.0052,\n",
      "          0.0052,  0.0052,  0.0052,  0.0052,  0.0052,  0.0052,  0.0052,  0.0052,\n",
      "          0.0052,  0.0052,  0.0052,  0.0052,  0.0052,  0.0052,  0.0052,  0.0052,\n",
      "          0.0052,  0.0052,  0.0052,  0.0052,  0.0052,  0.0052,  0.0052,  0.0052,\n",
      "          0.0052,  0.0052,  0.0052,  0.0052,  0.0052,  0.0052,  0.0052,  0.0052,\n",
      "          0.0052,  0.0052],\n",
      "        [-0.1290, -0.1290, -0.1290, -0.1290, -0.1290, -0.1290, -0.1290, -0.1290,\n",
      "         -0.1290, -0.1290, -0.1290, -0.1290, -0.1290, -0.1290, -0.1290, -0.1290,\n",
      "         -0.1290, -0.1290, -0.1290, -0.1290, -0.1290, -0.1290, -0.1290, -0.1290,\n",
      "         -0.1290, -0.1290, -0.1290, -0.1290, -0.1290, -0.1290, -0.1290, -0.1290,\n",
      "         -0.1290, -0.1290, -0.1290, -0.1290, -0.1290, -0.1290, -0.1290, -0.1290,\n",
      "         -0.1290, -0.1290, -0.1290, -0.1290, -0.1290, -0.1290, -0.1290, -0.1290,\n",
      "         -0.1290, -0.1290]], device='cuda:0', grad_fn=<SelectBackward0>)\n"
     ]
    },
    {
     "name": "stderr",
     "output_type": "stream",
     "text": [
      "0.00832919:   0%|          | 0/100 [00:23<?, ?it/s]"
     ]
    },
    {
     "name": "stdout",
     "output_type": "stream",
     "text": [
      "tensor([1., 1.], device='cuda:0') tensor([[ 0.0623,  0.0623,  0.0623,  0.0623,  0.0623,  0.0623,  0.0623,  0.0623,\n",
      "          0.0623,  0.0623,  0.0623,  0.0623,  0.0623,  0.0623,  0.0623,  0.0623,\n",
      "          0.0623,  0.0623,  0.0623,  0.0623,  0.0623,  0.0623,  0.0623,  0.0623,\n",
      "          0.0623,  0.0623,  0.0623,  0.0623,  0.0623,  0.0623,  0.0623,  0.0623,\n",
      "          0.0623,  0.0623,  0.0623,  0.0623,  0.0623,  0.0623,  0.0623,  0.0623,\n",
      "          0.0623,  0.0623,  0.0623,  0.0623,  0.0623,  0.0623,  0.0623,  0.0623,\n",
      "          0.0623,  0.0623],\n",
      "        [-0.0634, -0.0634, -0.0634, -0.0634, -0.0634, -0.0634, -0.0634, -0.0634,\n",
      "         -0.0634, -0.0634, -0.0634, -0.0634, -0.0634, -0.0634, -0.0634, -0.0634,\n",
      "         -0.0634, -0.0634, -0.0634, -0.0634, -0.0634, -0.0634, -0.0634, -0.0634,\n",
      "         -0.0634, -0.0634, -0.0634, -0.0634, -0.0634, -0.0634, -0.0634, -0.0634,\n",
      "         -0.0634, -0.0634, -0.0634, -0.0634, -0.0634, -0.0634, -0.0634, -0.0634,\n",
      "         -0.0634, -0.0634, -0.0634, -0.0634, -0.0634, -0.0634, -0.0634, -0.0634,\n",
      "         -0.0634, -0.0634]], device='cuda:0', grad_fn=<SelectBackward0>)\n"
     ]
    },
    {
     "name": "stderr",
     "output_type": "stream",
     "text": [
      "0.00395011:   0%|          | 0/100 [00:24<?, ?it/s]"
     ]
    },
    {
     "name": "stdout",
     "output_type": "stream",
     "text": [
      "tensor([1., 1.], device='cuda:0') tensor([[-0.0005, -0.0005, -0.0005, -0.0005, -0.0005, -0.0005, -0.0005, -0.0005,\n",
      "         -0.0005, -0.0005, -0.0005, -0.0005, -0.0005, -0.0005, -0.0005, -0.0005,\n",
      "         -0.0005, -0.0005, -0.0005, -0.0005, -0.0005, -0.0005, -0.0005, -0.0005,\n",
      "         -0.0005, -0.0005, -0.0005, -0.0005, -0.0005, -0.0005, -0.0005, -0.0005,\n",
      "         -0.0005, -0.0005, -0.0005, -0.0005, -0.0005, -0.0005, -0.0005, -0.0005,\n",
      "         -0.0005, -0.0005, -0.0005, -0.0005, -0.0005, -0.0005, -0.0005, -0.0005,\n",
      "         -0.0005, -0.0005],\n",
      "        [ 0.1095,  0.1095,  0.1095,  0.1095,  0.1095,  0.1095,  0.1095,  0.1095,\n",
      "          0.1095,  0.1095,  0.1095,  0.1095,  0.1095,  0.1095,  0.1095,  0.1095,\n",
      "          0.1095,  0.1095,  0.1095,  0.1095,  0.1095,  0.1095,  0.1095,  0.1095,\n",
      "          0.1095,  0.1095,  0.1095,  0.1095,  0.1095,  0.1095,  0.1095,  0.1095,\n",
      "          0.1095,  0.1095,  0.1095,  0.1095,  0.1095,  0.1095,  0.1095,  0.1095,\n",
      "          0.1095,  0.1095,  0.1095,  0.1095,  0.1095,  0.1095,  0.1095,  0.1095,\n",
      "          0.1095,  0.1095]], device='cuda:0', grad_fn=<SelectBackward0>)\n"
     ]
    },
    {
     "name": "stderr",
     "output_type": "stream",
     "text": [
      "0.00599258:   0%|          | 0/100 [00:25<?, ?it/s]"
     ]
    },
    {
     "name": "stdout",
     "output_type": "stream",
     "text": [
      "tensor([1., 1.], device='cuda:0') tensor([[0.1441, 0.1441, 0.1441, 0.1441, 0.1441, 0.1441, 0.1441, 0.1441, 0.1441,\n",
      "         0.1441, 0.1441, 0.1441, 0.1441, 0.1441, 0.1441, 0.1441, 0.1441, 0.1441,\n",
      "         0.1441, 0.1441, 0.1441, 0.1441, 0.1441, 0.1441, 0.1441, 0.1441, 0.1441,\n",
      "         0.1441, 0.1441, 0.1441, 0.1441, 0.1441, 0.1441, 0.1441, 0.1441, 0.1441,\n",
      "         0.1441, 0.1441, 0.1441, 0.1441, 0.1441, 0.1441, 0.1441, 0.1441, 0.1441,\n",
      "         0.1441, 0.1441, 0.1441, 0.1441, 0.1441],\n",
      "        [0.0561, 0.0561, 0.0561, 0.0561, 0.0561, 0.0561, 0.0561, 0.0561, 0.0561,\n",
      "         0.0561, 0.0561, 0.0561, 0.0561, 0.0561, 0.0561, 0.0561, 0.0561, 0.0561,\n",
      "         0.0561, 0.0561, 0.0561, 0.0561, 0.0561, 0.0561, 0.0561, 0.0561, 0.0561,\n",
      "         0.0561, 0.0561, 0.0561, 0.0561, 0.0561, 0.0561, 0.0561, 0.0561, 0.0561,\n",
      "         0.0561, 0.0561, 0.0561, 0.0561, 0.0561, 0.0561, 0.0561, 0.0561, 0.0561,\n",
      "         0.0561, 0.0561, 0.0561, 0.0561, 0.0561]], device='cuda:0',\n",
      "       grad_fn=<SelectBackward0>)\n"
     ]
    },
    {
     "name": "stderr",
     "output_type": "stream",
     "text": [
      "0.01196304:   0%|          | 0/100 [00:27<?, ?it/s]"
     ]
    },
    {
     "name": "stdout",
     "output_type": "stream",
     "text": [
      "tensor([1., 1.], device='cuda:0') tensor([[0.1649, 0.1649, 0.1649, 0.1649, 0.1649, 0.1649, 0.1649, 0.1649, 0.1649,\n",
      "         0.1649, 0.1649, 0.1649, 0.1649, 0.1649, 0.1649, 0.1649, 0.1649, 0.1649,\n",
      "         0.1649, 0.1649, 0.1649, 0.1649, 0.1649, 0.1649, 0.1649, 0.1649, 0.1649,\n",
      "         0.1649, 0.1649, 0.1649, 0.1649, 0.1649, 0.1649, 0.1649, 0.1649, 0.1649,\n",
      "         0.1649, 0.1649, 0.1649, 0.1649, 0.1649, 0.1649, 0.1649, 0.1649, 0.1649,\n",
      "         0.1649, 0.1649, 0.1649, 0.1649, 0.1649],\n",
      "        [0.1034, 0.1034, 0.1034, 0.1034, 0.1034, 0.1034, 0.1034, 0.1034, 0.1034,\n",
      "         0.1034, 0.1034, 0.1034, 0.1034, 0.1034, 0.1034, 0.1034, 0.1034, 0.1034,\n",
      "         0.1034, 0.1034, 0.1034, 0.1034, 0.1034, 0.1034, 0.1034, 0.1034, 0.1034,\n",
      "         0.1034, 0.1034, 0.1034, 0.1034, 0.1034, 0.1034, 0.1034, 0.1034, 0.1034,\n",
      "         0.1034, 0.1034, 0.1034, 0.1034, 0.1034, 0.1034, 0.1034, 0.1034, 0.1034,\n",
      "         0.1034, 0.1034, 0.1034, 0.1034, 0.1034]], device='cuda:0',\n",
      "       grad_fn=<SelectBackward0>)\n"
     ]
    },
    {
     "name": "stderr",
     "output_type": "stream",
     "text": [
      "0.01894617:   0%|          | 0/100 [00:28<?, ?it/s]"
     ]
    },
    {
     "name": "stdout",
     "output_type": "stream",
     "text": [
      "tensor([1., 1.], device='cuda:0') tensor([[0.1717, 0.1717, 0.1717, 0.1717, 0.1717, 0.1717, 0.1717, 0.1717, 0.1717,\n",
      "         0.1717, 0.1717, 0.1717, 0.1717, 0.1717, 0.1717, 0.1717, 0.1717, 0.1717,\n",
      "         0.1717, 0.1717, 0.1717, 0.1717, 0.1717, 0.1717, 0.1717, 0.1717, 0.1717,\n",
      "         0.1717, 0.1717, 0.1717, 0.1717, 0.1717, 0.1717, 0.1717, 0.1717, 0.1717,\n",
      "         0.1717, 0.1717, 0.1717, 0.1717, 0.1717, 0.1717, 0.1717, 0.1717, 0.1717,\n",
      "         0.1717, 0.1717, 0.1717, 0.1717, 0.1717],\n",
      "        [0.1391, 0.1391, 0.1391, 0.1391, 0.1391, 0.1391, 0.1391, 0.1391, 0.1391,\n",
      "         0.1391, 0.1391, 0.1391, 0.1391, 0.1391, 0.1391, 0.1391, 0.1391, 0.1391,\n",
      "         0.1391, 0.1391, 0.1391, 0.1391, 0.1391, 0.1391, 0.1391, 0.1391, 0.1391,\n",
      "         0.1391, 0.1391, 0.1391, 0.1391, 0.1391, 0.1391, 0.1391, 0.1391, 0.1391,\n",
      "         0.1391, 0.1391, 0.1391, 0.1391, 0.1391, 0.1391, 0.1391, 0.1391, 0.1391,\n",
      "         0.1391, 0.1391, 0.1391, 0.1391, 0.1391]], device='cuda:0',\n",
      "       grad_fn=<SelectBackward0>)\n"
     ]
    },
    {
     "name": "stderr",
     "output_type": "stream",
     "text": [
      "0.02441799:   0%|          | 0/100 [00:30<?, ?it/s]"
     ]
    },
    {
     "name": "stdout",
     "output_type": "stream",
     "text": [
      "tensor([1., 1.], device='cuda:0') tensor([[0.1654, 0.1654, 0.1654, 0.1654, 0.1654, 0.1654, 0.1654, 0.1654, 0.1654,\n",
      "         0.1654, 0.1654, 0.1654, 0.1654, 0.1654, 0.1654, 0.1654, 0.1654, 0.1654,\n",
      "         0.1654, 0.1654, 0.1654, 0.1654, 0.1654, 0.1654, 0.1654, 0.1654, 0.1654,\n",
      "         0.1654, 0.1654, 0.1654, 0.1654, 0.1654, 0.1654, 0.1654, 0.1654, 0.1654,\n",
      "         0.1654, 0.1654, 0.1654, 0.1654, 0.1654, 0.1654, 0.1654, 0.1654, 0.1654,\n",
      "         0.1654, 0.1654, 0.1654, 0.1654, 0.1654],\n",
      "        [0.1621, 0.1621, 0.1621, 0.1621, 0.1621, 0.1621, 0.1621, 0.1621, 0.1621,\n",
      "         0.1621, 0.1621, 0.1621, 0.1621, 0.1621, 0.1621, 0.1621, 0.1621, 0.1621,\n",
      "         0.1621, 0.1621, 0.1621, 0.1621, 0.1621, 0.1621, 0.1621, 0.1621, 0.1621,\n",
      "         0.1621, 0.1621, 0.1621, 0.1621, 0.1621, 0.1621, 0.1621, 0.1621, 0.1621,\n",
      "         0.1621, 0.1621, 0.1621, 0.1621, 0.1621, 0.1621, 0.1621, 0.1621, 0.1621,\n",
      "         0.1621, 0.1621, 0.1621, 0.1621, 0.1621]], device='cuda:0',\n",
      "       grad_fn=<SelectBackward0>)\n"
     ]
    },
    {
     "name": "stderr",
     "output_type": "stream",
     "text": [
      "0.02681092:   0%|          | 0/100 [00:31<?, ?it/s]"
     ]
    },
    {
     "name": "stdout",
     "output_type": "stream",
     "text": [
      "tensor([1., 1.], device='cuda:0') tensor([[0.1478, 0.1478, 0.1478, 0.1478, 0.1478, 0.1478, 0.1478, 0.1478, 0.1478,\n",
      "         0.1478, 0.1478, 0.1478, 0.1478, 0.1478, 0.1478, 0.1478, 0.1478, 0.1478,\n",
      "         0.1478, 0.1478, 0.1478, 0.1478, 0.1478, 0.1478, 0.1478, 0.1478, 0.1478,\n",
      "         0.1478, 0.1478, 0.1478, 0.1478, 0.1478, 0.1478, 0.1478, 0.1478, 0.1478,\n",
      "         0.1478, 0.1478, 0.1478, 0.1478, 0.1478, 0.1478, 0.1478, 0.1478, 0.1478,\n",
      "         0.1478, 0.1478, 0.1478, 0.1478, 0.1478],\n",
      "        [0.1720, 0.1720, 0.1720, 0.1720, 0.1720, 0.1720, 0.1720, 0.1720, 0.1720,\n",
      "         0.1720, 0.1720, 0.1720, 0.1720, 0.1720, 0.1720, 0.1720, 0.1720, 0.1720,\n",
      "         0.1720, 0.1720, 0.1720, 0.1720, 0.1720, 0.1720, 0.1720, 0.1720, 0.1720,\n",
      "         0.1720, 0.1720, 0.1720, 0.1720, 0.1720, 0.1720, 0.1720, 0.1720, 0.1720,\n",
      "         0.1720, 0.1720, 0.1720, 0.1720, 0.1720, 0.1720, 0.1720, 0.1720, 0.1720,\n",
      "         0.1720, 0.1720, 0.1720, 0.1720, 0.1720]], device='cuda:0',\n",
      "       grad_fn=<SelectBackward0>)\n"
     ]
    },
    {
     "name": "stderr",
     "output_type": "stream",
     "text": [
      "0.02571636:   0%|          | 0/100 [00:32<?, ?it/s]"
     ]
    },
    {
     "name": "stdout",
     "output_type": "stream",
     "text": [
      "tensor([1., 1.], device='cuda:0') tensor([[0.1213, 0.1213, 0.1213, 0.1213, 0.1213, 0.1213, 0.1213, 0.1213, 0.1213,\n",
      "         0.1213, 0.1213, 0.1213, 0.1213, 0.1213, 0.1213, 0.1213, 0.1213, 0.1213,\n",
      "         0.1213, 0.1213, 0.1213, 0.1213, 0.1213, 0.1213, 0.1213, 0.1213, 0.1213,\n",
      "         0.1213, 0.1213, 0.1213, 0.1213, 0.1213, 0.1213, 0.1213, 0.1213, 0.1213,\n",
      "         0.1213, 0.1213, 0.1213, 0.1213, 0.1213, 0.1213, 0.1213, 0.1213, 0.1213,\n",
      "         0.1213, 0.1213, 0.1213, 0.1213, 0.1213],\n",
      "        [0.1696, 0.1696, 0.1696, 0.1696, 0.1696, 0.1696, 0.1696, 0.1696, 0.1696,\n",
      "         0.1696, 0.1696, 0.1696, 0.1696, 0.1696, 0.1696, 0.1696, 0.1696, 0.1696,\n",
      "         0.1696, 0.1696, 0.1696, 0.1696, 0.1696, 0.1696, 0.1696, 0.1696, 0.1696,\n",
      "         0.1696, 0.1696, 0.1696, 0.1696, 0.1696, 0.1696, 0.1696, 0.1696, 0.1696,\n",
      "         0.1696, 0.1696, 0.1696, 0.1696, 0.1696, 0.1696, 0.1696, 0.1696, 0.1696,\n",
      "         0.1696, 0.1696, 0.1696, 0.1696, 0.1696]], device='cuda:0',\n",
      "       grad_fn=<SelectBackward0>)\n"
     ]
    },
    {
     "name": "stderr",
     "output_type": "stream",
     "text": [
      "0.02174366:   0%|          | 0/100 [00:34<?, ?it/s]"
     ]
    },
    {
     "name": "stdout",
     "output_type": "stream",
     "text": [
      "tensor([1., 1.], device='cuda:0') tensor([[0.0886, 0.0886, 0.0886, 0.0886, 0.0886, 0.0886, 0.0886, 0.0886, 0.0886,\n",
      "         0.0886, 0.0886, 0.0886, 0.0886, 0.0886, 0.0886, 0.0886, 0.0886, 0.0886,\n",
      "         0.0886, 0.0886, 0.0886, 0.0886, 0.0886, 0.0886, 0.0886, 0.0886, 0.0886,\n",
      "         0.0886, 0.0886, 0.0886, 0.0886, 0.0886, 0.0886, 0.0886, 0.0886, 0.0886,\n",
      "         0.0886, 0.0886, 0.0886, 0.0886, 0.0886, 0.0886, 0.0886, 0.0886, 0.0886,\n",
      "         0.0886, 0.0886, 0.0886, 0.0886, 0.0886],\n",
      "        [0.1563, 0.1563, 0.1563, 0.1563, 0.1563, 0.1563, 0.1563, 0.1563, 0.1563,\n",
      "         0.1563, 0.1563, 0.1563, 0.1563, 0.1563, 0.1563, 0.1563, 0.1563, 0.1563,\n",
      "         0.1563, 0.1563, 0.1563, 0.1563, 0.1563, 0.1563, 0.1563, 0.1563, 0.1563,\n",
      "         0.1563, 0.1563, 0.1563, 0.1563, 0.1563, 0.1563, 0.1563, 0.1563, 0.1563,\n",
      "         0.1563, 0.1563, 0.1563, 0.1563, 0.1563, 0.1563, 0.1563, 0.1563, 0.1563,\n",
      "         0.1563, 0.1563, 0.1563, 0.1563, 0.1563]], device='cuda:0',\n",
      "       grad_fn=<SelectBackward0>)\n"
     ]
    },
    {
     "name": "stderr",
     "output_type": "stream",
     "text": [
      "0.01614972:   0%|          | 0/100 [00:35<?, ?it/s]"
     ]
    },
    {
     "name": "stdout",
     "output_type": "stream",
     "text": [
      "tensor([1., 1.], device='cuda:0') tensor([[0.1342, 0.1342, 0.1342, 0.1342, 0.1342, 0.1342, 0.1342, 0.1342, 0.1342,\n",
      "         0.1342, 0.1342, 0.1342, 0.1342, 0.1342, 0.1342, 0.1342, 0.1342, 0.1342,\n",
      "         0.1342, 0.1342, 0.1342, 0.1342, 0.1342, 0.1342, 0.1342, 0.1342, 0.1342,\n",
      "         0.1342, 0.1342, 0.1342, 0.1342, 0.1342, 0.1342, 0.1342, 0.1342, 0.1342,\n",
      "         0.1342, 0.1342, 0.1342, 0.1342, 0.1342, 0.1342, 0.1342, 0.1342, 0.1342,\n",
      "         0.1342, 0.1342, 0.1342, 0.1342, 0.1342],\n",
      "        [0.0526, 0.0526, 0.0526, 0.0526, 0.0526, 0.0526, 0.0526, 0.0526, 0.0526,\n",
      "         0.0526, 0.0526, 0.0526, 0.0526, 0.0526, 0.0526, 0.0526, 0.0526, 0.0526,\n",
      "         0.0526, 0.0526, 0.0526, 0.0526, 0.0526, 0.0526, 0.0526, 0.0526, 0.0526,\n",
      "         0.0526, 0.0526, 0.0526, 0.0526, 0.0526, 0.0526, 0.0526, 0.0526, 0.0526,\n",
      "         0.0526, 0.0526, 0.0526, 0.0526, 0.0526, 0.0526, 0.0526, 0.0526, 0.0526,\n",
      "         0.0526, 0.0526, 0.0526, 0.0526, 0.0526]], device='cuda:0',\n",
      "       grad_fn=<SelectBackward0>)\n"
     ]
    },
    {
     "name": "stderr",
     "output_type": "stream",
     "text": [
      "0.01038590:   0%|          | 0/100 [00:37<?, ?it/s]"
     ]
    },
    {
     "name": "stdout",
     "output_type": "stream",
     "text": [
      "tensor([1., 1.], device='cuda:0') tensor([[0.1134, 0.1134, 0.1134, 0.1134, 0.1134, 0.1134, 0.1134, 0.1134, 0.1134,\n",
      "         0.1134, 0.1134, 0.1134, 0.1134, 0.1134, 0.1134, 0.1134, 0.1134, 0.1134,\n",
      "         0.1134, 0.1134, 0.1134, 0.1134, 0.1134, 0.1134, 0.1134, 0.1134, 0.1134,\n",
      "         0.1134, 0.1134, 0.1134, 0.1134, 0.1134, 0.1134, 0.1134, 0.1134, 0.1134,\n",
      "         0.1134, 0.1134, 0.1134, 0.1134, 0.1134, 0.1134, 0.1134, 0.1134, 0.1134,\n",
      "         0.1134, 0.1134, 0.1134, 0.1134, 0.1134],\n",
      "        [0.0080, 0.0080, 0.0080, 0.0080, 0.0080, 0.0080, 0.0080, 0.0080, 0.0080,\n",
      "         0.0080, 0.0080, 0.0080, 0.0080, 0.0080, 0.0080, 0.0080, 0.0080, 0.0080,\n",
      "         0.0080, 0.0080, 0.0080, 0.0080, 0.0080, 0.0080, 0.0080, 0.0080, 0.0080,\n",
      "         0.0080, 0.0080, 0.0080, 0.0080, 0.0080, 0.0080, 0.0080, 0.0080, 0.0080,\n",
      "         0.0080, 0.0080, 0.0080, 0.0080, 0.0080, 0.0080, 0.0080, 0.0080, 0.0080,\n",
      "         0.0080, 0.0080, 0.0080, 0.0080, 0.0080]], device='cuda:0',\n",
      "       grad_fn=<SelectBackward0>)\n"
     ]
    },
    {
     "name": "stderr",
     "output_type": "stream",
     "text": [
      "0.00646180:   0%|          | 0/100 [00:38<?, ?it/s]"
     ]
    },
    {
     "name": "stdout",
     "output_type": "stream",
     "text": [
      "tensor([1., 1.], device='cuda:0') tensor([[ 0.0780,  0.0780,  0.0780,  0.0780,  0.0780,  0.0780,  0.0780,  0.0780,\n",
      "          0.0780,  0.0780,  0.0780,  0.0780,  0.0780,  0.0780,  0.0780,  0.0780,\n",
      "          0.0780,  0.0780,  0.0780,  0.0780,  0.0780,  0.0780,  0.0780,  0.0780,\n",
      "          0.0780,  0.0780,  0.0780,  0.0780,  0.0780,  0.0780,  0.0780,  0.0780,\n",
      "          0.0780,  0.0780,  0.0780,  0.0780,  0.0780,  0.0780,  0.0780,  0.0780,\n",
      "          0.0780,  0.0780,  0.0780,  0.0780,  0.0780,  0.0780,  0.0780,  0.0780,\n",
      "          0.0780,  0.0780],\n",
      "        [-0.0248, -0.0248, -0.0248, -0.0248, -0.0248, -0.0248, -0.0248, -0.0248,\n",
      "         -0.0248, -0.0248, -0.0248, -0.0248, -0.0248, -0.0248, -0.0248, -0.0248,\n",
      "         -0.0248, -0.0248, -0.0248, -0.0248, -0.0248, -0.0248, -0.0248, -0.0248,\n",
      "         -0.0248, -0.0248, -0.0248, -0.0248, -0.0248, -0.0248, -0.0248, -0.0248,\n",
      "         -0.0248, -0.0248, -0.0248, -0.0248, -0.0248, -0.0248, -0.0248, -0.0248,\n",
      "         -0.0248, -0.0248, -0.0248, -0.0248, -0.0248, -0.0248, -0.0248, -0.0248,\n",
      "         -0.0248, -0.0248]], device='cuda:0', grad_fn=<SelectBackward0>)\n"
     ]
    },
    {
     "name": "stderr",
     "output_type": "stream",
     "text": [
      "0.00334514:   0%|          | 0/100 [00:39<?, ?it/s]"
     ]
    },
    {
     "name": "stdout",
     "output_type": "stream",
     "text": [
      "tensor([1., 1.], device='cuda:0') tensor([[ 0.0480,  0.0480,  0.0480,  0.0480,  0.0480,  0.0480,  0.0480,  0.0480,\n",
      "          0.0480,  0.0480,  0.0480,  0.0480,  0.0480,  0.0480,  0.0480,  0.0480,\n",
      "          0.0480,  0.0480,  0.0480,  0.0480,  0.0480,  0.0480,  0.0480,  0.0480,\n",
      "          0.0480,  0.0480,  0.0480,  0.0480,  0.0480,  0.0480,  0.0480,  0.0480,\n",
      "          0.0480,  0.0480,  0.0480,  0.0480,  0.0480,  0.0480,  0.0480,  0.0480,\n",
      "          0.0480,  0.0480,  0.0480,  0.0480,  0.0480,  0.0480,  0.0480,  0.0480,\n",
      "          0.0480,  0.0480],\n",
      "        [-0.0601, -0.0601, -0.0601, -0.0601, -0.0601, -0.0601, -0.0601, -0.0601,\n",
      "         -0.0601, -0.0601, -0.0601, -0.0601, -0.0601, -0.0601, -0.0601, -0.0601,\n",
      "         -0.0601, -0.0601, -0.0601, -0.0601, -0.0601, -0.0601, -0.0601, -0.0601,\n",
      "         -0.0601, -0.0601, -0.0601, -0.0601, -0.0601, -0.0601, -0.0601, -0.0601,\n",
      "         -0.0601, -0.0601, -0.0601, -0.0601, -0.0601, -0.0601, -0.0601, -0.0601,\n",
      "         -0.0601, -0.0601, -0.0601, -0.0601, -0.0601, -0.0601, -0.0601, -0.0601,\n",
      "         -0.0601, -0.0601]], device='cuda:0', grad_fn=<SelectBackward0>)\n"
     ]
    },
    {
     "name": "stderr",
     "output_type": "stream",
     "text": [
      "0.00295750:   0%|          | 0/100 [00:41<?, ?it/s]"
     ]
    },
    {
     "name": "stdout",
     "output_type": "stream",
     "text": [
      "tensor([1., 1.], device='cuda:0') tensor([[-0.0879, -0.0879, -0.0879, -0.0879, -0.0879, -0.0879, -0.0879, -0.0879,\n",
      "         -0.0879, -0.0879, -0.0879, -0.0879, -0.0879, -0.0879, -0.0879, -0.0879,\n",
      "         -0.0879, -0.0879, -0.0879, -0.0879, -0.0879, -0.0879, -0.0879, -0.0879,\n",
      "         -0.0879, -0.0879, -0.0879, -0.0879, -0.0879, -0.0879, -0.0879, -0.0879,\n",
      "         -0.0879, -0.0879, -0.0879, -0.0879, -0.0879, -0.0879, -0.0879, -0.0879,\n",
      "         -0.0879, -0.0879, -0.0879, -0.0879, -0.0879, -0.0879, -0.0879, -0.0879,\n",
      "         -0.0879, -0.0879],\n",
      "        [ 0.0179,  0.0179,  0.0179,  0.0179,  0.0179,  0.0179,  0.0179,  0.0179,\n",
      "          0.0179,  0.0179,  0.0179,  0.0179,  0.0179,  0.0179,  0.0179,  0.0179,\n",
      "          0.0179,  0.0179,  0.0179,  0.0179,  0.0179,  0.0179,  0.0179,  0.0179,\n",
      "          0.0179,  0.0179,  0.0179,  0.0179,  0.0179,  0.0179,  0.0179,  0.0179,\n",
      "          0.0179,  0.0179,  0.0179,  0.0179,  0.0179,  0.0179,  0.0179,  0.0179,\n",
      "          0.0179,  0.0179,  0.0179,  0.0179,  0.0179,  0.0179,  0.0179,  0.0179,\n",
      "          0.0179,  0.0179]], device='cuda:0', grad_fn=<SelectBackward0>)\n"
     ]
    },
    {
     "name": "stderr",
     "output_type": "stream",
     "text": [
      "0.00402332:   0%|          | 0/100 [00:42<?, ?it/s]"
     ]
    },
    {
     "name": "stdout",
     "output_type": "stream",
     "text": [
      "tensor([1., 1.], device='cuda:0') tensor([[-0.1068, -0.1068, -0.1068, -0.1068, -0.1068, -0.1068, -0.1068, -0.1068,\n",
      "         -0.1068, -0.1068, -0.1068, -0.1068, -0.1068, -0.1068, -0.1068, -0.1068,\n",
      "         -0.1068, -0.1068, -0.1068, -0.1068, -0.1068, -0.1068, -0.1068, -0.1068,\n",
      "         -0.1068, -0.1068, -0.1068, -0.1068, -0.1068, -0.1068, -0.1068, -0.1068,\n",
      "         -0.1068, -0.1068, -0.1068, -0.1068, -0.1068, -0.1068, -0.1068, -0.1068,\n",
      "         -0.1068, -0.1068, -0.1068, -0.1068, -0.1068, -0.1068, -0.1068, -0.1068,\n",
      "         -0.1068, -0.1068],\n",
      "        [-0.0104, -0.0104, -0.0104, -0.0104, -0.0104, -0.0104, -0.0104, -0.0104,\n",
      "         -0.0104, -0.0104, -0.0104, -0.0104, -0.0104, -0.0104, -0.0104, -0.0104,\n",
      "         -0.0104, -0.0104, -0.0104, -0.0104, -0.0104, -0.0104, -0.0104, -0.0104,\n",
      "         -0.0104, -0.0104, -0.0104, -0.0104, -0.0104, -0.0104, -0.0104, -0.0104,\n",
      "         -0.0104, -0.0104, -0.0104, -0.0104, -0.0104, -0.0104, -0.0104, -0.0104,\n",
      "         -0.0104, -0.0104, -0.0104, -0.0104, -0.0104, -0.0104, -0.0104, -0.0104,\n",
      "         -0.0104, -0.0104]], device='cuda:0', grad_fn=<SelectBackward0>)\n"
     ]
    },
    {
     "name": "stderr",
     "output_type": "stream",
     "text": [
      "0.00576223:   0%|          | 0/100 [00:43<?, ?it/s]"
     ]
    },
    {
     "name": "stdout",
     "output_type": "stream",
     "text": [
      "tensor([1., 1.], device='cuda:0') tensor([[-0.1163, -0.1163, -0.1163, -0.1163, -0.1163, -0.1163, -0.1163, -0.1163,\n",
      "         -0.1163, -0.1163, -0.1163, -0.1163, -0.1163, -0.1163, -0.1163, -0.1163,\n",
      "         -0.1163, -0.1163, -0.1163, -0.1163, -0.1163, -0.1163, -0.1163, -0.1163,\n",
      "         -0.1163, -0.1163, -0.1163, -0.1163, -0.1163, -0.1163, -0.1163, -0.1163,\n",
      "         -0.1163, -0.1163, -0.1163, -0.1163, -0.1163, -0.1163, -0.1163, -0.1163,\n",
      "         -0.1163, -0.1163, -0.1163, -0.1163, -0.1163, -0.1163, -0.1163, -0.1163,\n",
      "         -0.1163, -0.1163],\n",
      "        [-0.0352, -0.0352, -0.0352, -0.0352, -0.0352, -0.0352, -0.0352, -0.0352,\n",
      "         -0.0352, -0.0352, -0.0352, -0.0352, -0.0352, -0.0352, -0.0352, -0.0352,\n",
      "         -0.0352, -0.0352, -0.0352, -0.0352, -0.0352, -0.0352, -0.0352, -0.0352,\n",
      "         -0.0352, -0.0352, -0.0352, -0.0352, -0.0352, -0.0352, -0.0352, -0.0352,\n",
      "         -0.0352, -0.0352, -0.0352, -0.0352, -0.0352, -0.0352, -0.0352, -0.0352,\n",
      "         -0.0352, -0.0352, -0.0352, -0.0352, -0.0352, -0.0352, -0.0352, -0.0352,\n",
      "         -0.0352, -0.0352]], device='cuda:0', grad_fn=<SelectBackward0>)\n"
     ]
    },
    {
     "name": "stderr",
     "output_type": "stream",
     "text": [
      "0.00737837:   0%|          | 0/100 [00:45<?, ?it/s]"
     ]
    },
    {
     "name": "stdout",
     "output_type": "stream",
     "text": [
      "tensor([1., 1.], device='cuda:0') tensor([[-0.0551, -0.0551, -0.0551, -0.0551, -0.0551, -0.0551, -0.0551, -0.0551,\n",
      "         -0.0551, -0.0551, -0.0551, -0.0551, -0.0551, -0.0551, -0.0551, -0.0551,\n",
      "         -0.0551, -0.0551, -0.0551, -0.0551, -0.0551, -0.0551, -0.0551, -0.0551,\n",
      "         -0.0551, -0.0551, -0.0551, -0.0551, -0.0551, -0.0551, -0.0551, -0.0551,\n",
      "         -0.0551, -0.0551, -0.0551, -0.0551, -0.0551, -0.0551, -0.0551, -0.0551,\n",
      "         -0.0551, -0.0551, -0.0551, -0.0551, -0.0551, -0.0551, -0.0551, -0.0551,\n",
      "         -0.0551, -0.0551],\n",
      "        [-0.1163, -0.1163, -0.1163, -0.1163, -0.1163, -0.1163, -0.1163, -0.1163,\n",
      "         -0.1163, -0.1163, -0.1163, -0.1163, -0.1163, -0.1163, -0.1163, -0.1163,\n",
      "         -0.1163, -0.1163, -0.1163, -0.1163, -0.1163, -0.1163, -0.1163, -0.1163,\n",
      "         -0.1163, -0.1163, -0.1163, -0.1163, -0.1163, -0.1163, -0.1163, -0.1163,\n",
      "         -0.1163, -0.1163, -0.1163, -0.1163, -0.1163, -0.1163, -0.1163, -0.1163,\n",
      "         -0.1163, -0.1163, -0.1163, -0.1163, -0.1163, -0.1163, -0.1163, -0.1163,\n",
      "         -0.1163, -0.1163]], device='cuda:0', grad_fn=<SelectBackward0>)\n"
     ]
    },
    {
     "name": "stderr",
     "output_type": "stream",
     "text": [
      "0.00827797:   0%|          | 0/100 [00:46<?, ?it/s]"
     ]
    },
    {
     "name": "stdout",
     "output_type": "stream",
     "text": [
      "tensor([1., 1.], device='cuda:0') tensor([[-0.0692, -0.0692, -0.0692, -0.0692, -0.0692, -0.0692, -0.0692, -0.0692,\n",
      "         -0.0692, -0.0692, -0.0692, -0.0692, -0.0692, -0.0692, -0.0692, -0.0692,\n",
      "         -0.0692, -0.0692, -0.0692, -0.0692, -0.0692, -0.0692, -0.0692, -0.0692,\n",
      "         -0.0692, -0.0692, -0.0692, -0.0692, -0.0692, -0.0692, -0.0692, -0.0692,\n",
      "         -0.0692, -0.0692, -0.0692, -0.0692, -0.0692, -0.0692, -0.0692, -0.0692,\n",
      "         -0.0692, -0.0692, -0.0692, -0.0692, -0.0692, -0.0692, -0.0692, -0.0692,\n",
      "         -0.0692, -0.0692],\n",
      "        [-0.1077, -0.1077, -0.1077, -0.1077, -0.1077, -0.1077, -0.1077, -0.1077,\n",
      "         -0.1077, -0.1077, -0.1077, -0.1077, -0.1077, -0.1077, -0.1077, -0.1077,\n",
      "         -0.1077, -0.1077, -0.1077, -0.1077, -0.1077, -0.1077, -0.1077, -0.1077,\n",
      "         -0.1077, -0.1077, -0.1077, -0.1077, -0.1077, -0.1077, -0.1077, -0.1077,\n",
      "         -0.1077, -0.1077, -0.1077, -0.1077, -0.1077, -0.1077, -0.1077, -0.1077,\n",
      "         -0.1077, -0.1077, -0.1077, -0.1077, -0.1077, -0.1077, -0.1077, -0.1077,\n",
      "         -0.1077, -0.1077]], device='cuda:0', grad_fn=<SelectBackward0>)\n"
     ]
    },
    {
     "name": "stderr",
     "output_type": "stream",
     "text": [
      "0.00819142:   0%|          | 0/100 [00:47<?, ?it/s]"
     ]
    },
    {
     "name": "stdout",
     "output_type": "stream",
     "text": [
      "tensor([1., 1.], device='cuda:0') tensor([[-0.0770, -0.0770, -0.0770, -0.0770, -0.0770, -0.0770, -0.0770, -0.0770,\n",
      "         -0.0770, -0.0770, -0.0770, -0.0770, -0.0770, -0.0770, -0.0770, -0.0770,\n",
      "         -0.0770, -0.0770, -0.0770, -0.0770, -0.0770, -0.0770, -0.0770, -0.0770,\n",
      "         -0.0770, -0.0770, -0.0770, -0.0770, -0.0770, -0.0770, -0.0770, -0.0770,\n",
      "         -0.0770, -0.0770, -0.0770, -0.0770, -0.0770, -0.0770, -0.0770, -0.0770,\n",
      "         -0.0770, -0.0770, -0.0770, -0.0770, -0.0770, -0.0770, -0.0770, -0.0770,\n",
      "         -0.0770, -0.0770],\n",
      "        [-0.0918, -0.0918, -0.0918, -0.0918, -0.0918, -0.0918, -0.0918, -0.0918,\n",
      "         -0.0918, -0.0918, -0.0918, -0.0918, -0.0918, -0.0918, -0.0918, -0.0918,\n",
      "         -0.0918, -0.0918, -0.0918, -0.0918, -0.0918, -0.0918, -0.0918, -0.0918,\n",
      "         -0.0918, -0.0918, -0.0918, -0.0918, -0.0918, -0.0918, -0.0918, -0.0918,\n",
      "         -0.0918, -0.0918, -0.0918, -0.0918, -0.0918, -0.0918, -0.0918, -0.0918,\n",
      "         -0.0918, -0.0918, -0.0918, -0.0918, -0.0918, -0.0918, -0.0918, -0.0918,\n",
      "         -0.0918, -0.0918]], device='cuda:0', grad_fn=<SelectBackward0>)\n"
     ]
    },
    {
     "name": "stderr",
     "output_type": "stream",
     "text": [
      "0.00718536:   0%|          | 0/100 [00:49<?, ?it/s]"
     ]
    },
    {
     "name": "stdout",
     "output_type": "stream",
     "text": [
      "tensor([1., 1.], device='cuda:0') tensor([[-0.0705, -0.0705, -0.0705, -0.0705, -0.0705, -0.0705, -0.0705, -0.0705,\n",
      "         -0.0705, -0.0705, -0.0705, -0.0705, -0.0705, -0.0705, -0.0705, -0.0705,\n",
      "         -0.0705, -0.0705, -0.0705, -0.0705, -0.0705, -0.0705, -0.0705, -0.0705,\n",
      "         -0.0705, -0.0705, -0.0705, -0.0705, -0.0705, -0.0705, -0.0705, -0.0705,\n",
      "         -0.0705, -0.0705, -0.0705, -0.0705, -0.0705, -0.0705, -0.0705, -0.0705,\n",
      "         -0.0705, -0.0705, -0.0705, -0.0705, -0.0705, -0.0705, -0.0705, -0.0705,\n",
      "         -0.0705, -0.0705],\n",
      "        [-0.0787, -0.0787, -0.0787, -0.0787, -0.0787, -0.0787, -0.0787, -0.0787,\n",
      "         -0.0787, -0.0787, -0.0787, -0.0787, -0.0787, -0.0787, -0.0787, -0.0787,\n",
      "         -0.0787, -0.0787, -0.0787, -0.0787, -0.0787, -0.0787, -0.0787, -0.0787,\n",
      "         -0.0787, -0.0787, -0.0787, -0.0787, -0.0787, -0.0787, -0.0787, -0.0787,\n",
      "         -0.0787, -0.0787, -0.0787, -0.0787, -0.0787, -0.0787, -0.0787, -0.0787,\n",
      "         -0.0787, -0.0787, -0.0787, -0.0787, -0.0787, -0.0787, -0.0787, -0.0787,\n",
      "         -0.0787, -0.0787]], device='cuda:0', grad_fn=<SelectBackward0>)\n"
     ]
    },
    {
     "name": "stderr",
     "output_type": "stream",
     "text": [
      "0.00558293:   0%|          | 0/100 [00:50<?, ?it/s]"
     ]
    },
    {
     "name": "stdout",
     "output_type": "stream",
     "text": [
      "tensor([1., 1.], device='cuda:0') tensor([[-0.0457, -0.0457, -0.0457, -0.0457, -0.0457, -0.0457, -0.0457, -0.0457,\n",
      "         -0.0457, -0.0457, -0.0457, -0.0457, -0.0457, -0.0457, -0.0457, -0.0457,\n",
      "         -0.0457, -0.0457, -0.0457, -0.0457, -0.0457, -0.0457, -0.0457, -0.0457,\n",
      "         -0.0457, -0.0457, -0.0457, -0.0457, -0.0457, -0.0457, -0.0457, -0.0457,\n",
      "         -0.0457, -0.0457, -0.0457, -0.0457, -0.0457, -0.0457, -0.0457, -0.0457,\n",
      "         -0.0457, -0.0457, -0.0457, -0.0457, -0.0457, -0.0457, -0.0457, -0.0457,\n",
      "         -0.0457, -0.0457],\n",
      "        [-0.0746, -0.0746, -0.0746, -0.0746, -0.0746, -0.0746, -0.0746, -0.0746,\n",
      "         -0.0746, -0.0746, -0.0746, -0.0746, -0.0746, -0.0746, -0.0746, -0.0746,\n",
      "         -0.0746, -0.0746, -0.0746, -0.0746, -0.0746, -0.0746, -0.0746, -0.0746,\n",
      "         -0.0746, -0.0746, -0.0746, -0.0746, -0.0746, -0.0746, -0.0746, -0.0746,\n",
      "         -0.0746, -0.0746, -0.0746, -0.0746, -0.0746, -0.0746, -0.0746, -0.0746,\n",
      "         -0.0746, -0.0746, -0.0746, -0.0746, -0.0746, -0.0746, -0.0746, -0.0746,\n",
      "         -0.0746, -0.0746]], device='cuda:0', grad_fn=<SelectBackward0>)\n"
     ]
    },
    {
     "name": "stderr",
     "output_type": "stream",
     "text": [
      "0.00382923:   0%|          | 0/100 [00:51<?, ?it/s]"
     ]
    },
    {
     "name": "stdout",
     "output_type": "stream",
     "text": [
      "tensor([1., 1.], device='cuda:0') tensor([[-0.0196, -0.0196, -0.0196, -0.0196, -0.0196, -0.0196, -0.0196, -0.0196,\n",
      "         -0.0196, -0.0196, -0.0196, -0.0196, -0.0196, -0.0196, -0.0196, -0.0196,\n",
      "         -0.0196, -0.0196, -0.0196, -0.0196, -0.0196, -0.0196, -0.0196, -0.0196,\n",
      "         -0.0196, -0.0196, -0.0196, -0.0196, -0.0196, -0.0196, -0.0196, -0.0196,\n",
      "         -0.0196, -0.0196, -0.0196, -0.0196, -0.0196, -0.0196, -0.0196, -0.0196,\n",
      "         -0.0196, -0.0196, -0.0196, -0.0196, -0.0196, -0.0196, -0.0196, -0.0196,\n",
      "         -0.0196, -0.0196],\n",
      "        [-0.0656, -0.0656, -0.0656, -0.0656, -0.0656, -0.0656, -0.0656, -0.0656,\n",
      "         -0.0656, -0.0656, -0.0656, -0.0656, -0.0656, -0.0656, -0.0656, -0.0656,\n",
      "         -0.0656, -0.0656, -0.0656, -0.0656, -0.0656, -0.0656, -0.0656, -0.0656,\n",
      "         -0.0656, -0.0656, -0.0656, -0.0656, -0.0656, -0.0656, -0.0656, -0.0656,\n",
      "         -0.0656, -0.0656, -0.0656, -0.0656, -0.0656, -0.0656, -0.0656, -0.0656,\n",
      "         -0.0656, -0.0656, -0.0656, -0.0656, -0.0656, -0.0656, -0.0656, -0.0656,\n",
      "         -0.0656, -0.0656]], device='cuda:0', grad_fn=<SelectBackward0>)\n"
     ]
    },
    {
     "name": "stderr",
     "output_type": "stream",
     "text": [
      "0.00234574:   0%|          | 0/100 [00:53<?, ?it/s]"
     ]
    },
    {
     "name": "stdout",
     "output_type": "stream",
     "text": [
      "tensor([1., 1.], device='cuda:0') tensor([[ 0.0059,  0.0059,  0.0059,  0.0059,  0.0059,  0.0059,  0.0059,  0.0059,\n",
      "          0.0059,  0.0059,  0.0059,  0.0059,  0.0059,  0.0059,  0.0059,  0.0059,\n",
      "          0.0059,  0.0059,  0.0059,  0.0059,  0.0059,  0.0059,  0.0059,  0.0059,\n",
      "          0.0059,  0.0059,  0.0059,  0.0059,  0.0059,  0.0059,  0.0059,  0.0059,\n",
      "          0.0059,  0.0059,  0.0059,  0.0059,  0.0059,  0.0059,  0.0059,  0.0059,\n",
      "          0.0059,  0.0059,  0.0059,  0.0059,  0.0059,  0.0059,  0.0059,  0.0059,\n",
      "          0.0059,  0.0059],\n",
      "        [-0.0528, -0.0528, -0.0528, -0.0528, -0.0528, -0.0528, -0.0528, -0.0528,\n",
      "         -0.0528, -0.0528, -0.0528, -0.0528, -0.0528, -0.0528, -0.0528, -0.0528,\n",
      "         -0.0528, -0.0528, -0.0528, -0.0528, -0.0528, -0.0528, -0.0528, -0.0528,\n",
      "         -0.0528, -0.0528, -0.0528, -0.0528, -0.0528, -0.0528, -0.0528, -0.0528,\n",
      "         -0.0528, -0.0528, -0.0528, -0.0528, -0.0528, -0.0528, -0.0528, -0.0528,\n",
      "         -0.0528, -0.0528, -0.0528, -0.0528, -0.0528, -0.0528, -0.0528, -0.0528,\n",
      "         -0.0528, -0.0528]], device='cuda:0', grad_fn=<SelectBackward0>)\n"
     ]
    },
    {
     "name": "stderr",
     "output_type": "stream",
     "text": [
      "0.00141360:   0%|          | 0/100 [00:54<?, ?it/s]"
     ]
    },
    {
     "name": "stdout",
     "output_type": "stream",
     "text": [
      "tensor([1., 1.], device='cuda:0') tensor([[-0.0375, -0.0375, -0.0375, -0.0375, -0.0375, -0.0375, -0.0375, -0.0375,\n",
      "         -0.0375, -0.0375, -0.0375, -0.0375, -0.0375, -0.0375, -0.0375, -0.0375,\n",
      "         -0.0375, -0.0375, -0.0375, -0.0375, -0.0375, -0.0375, -0.0375, -0.0375,\n",
      "         -0.0375, -0.0375, -0.0375, -0.0375, -0.0375, -0.0375, -0.0375, -0.0375,\n",
      "         -0.0375, -0.0375, -0.0375, -0.0375, -0.0375, -0.0375, -0.0375, -0.0375,\n",
      "         -0.0375, -0.0375, -0.0375, -0.0375, -0.0375, -0.0375, -0.0375, -0.0375,\n",
      "         -0.0375, -0.0375],\n",
      "        [ 0.0287,  0.0287,  0.0287,  0.0287,  0.0287,  0.0287,  0.0287,  0.0287,\n",
      "          0.0287,  0.0287,  0.0287,  0.0287,  0.0287,  0.0287,  0.0287,  0.0287,\n",
      "          0.0287,  0.0287,  0.0287,  0.0287,  0.0287,  0.0287,  0.0287,  0.0287,\n",
      "          0.0287,  0.0287,  0.0287,  0.0287,  0.0287,  0.0287,  0.0287,  0.0287,\n",
      "          0.0287,  0.0287,  0.0287,  0.0287,  0.0287,  0.0287,  0.0287,  0.0287,\n",
      "          0.0287,  0.0287,  0.0287,  0.0287,  0.0287,  0.0287,  0.0287,  0.0287,\n",
      "          0.0287,  0.0287]], device='cuda:0', grad_fn=<SelectBackward0>)\n"
     ]
    },
    {
     "name": "stderr",
     "output_type": "stream",
     "text": [
      "0.00111399:   0%|          | 0/100 [00:55<?, ?it/s]"
     ]
    },
    {
     "name": "stdout",
     "output_type": "stream",
     "text": [
      "tensor([1., 1.], device='cuda:0') tensor([[-0.0779, -0.0779, -0.0779, -0.0779, -0.0779, -0.0779, -0.0779, -0.0779,\n",
      "         -0.0779, -0.0779, -0.0779, -0.0779, -0.0779, -0.0779, -0.0779, -0.0779,\n",
      "         -0.0779, -0.0779, -0.0779, -0.0779, -0.0779, -0.0779, -0.0779, -0.0779,\n",
      "         -0.0779, -0.0779, -0.0779, -0.0779, -0.0779, -0.0779, -0.0779, -0.0779,\n",
      "         -0.0779, -0.0779, -0.0779, -0.0779, -0.0779, -0.0779, -0.0779, -0.0779,\n",
      "         -0.0779, -0.0779, -0.0779, -0.0779, -0.0779, -0.0779, -0.0779, -0.0779,\n",
      "         -0.0779, -0.0779],\n",
      "        [ 0.1042,  0.1042,  0.1042,  0.1042,  0.1042,  0.1042,  0.1042,  0.1042,\n",
      "          0.1042,  0.1042,  0.1042,  0.1042,  0.1042,  0.1042,  0.1042,  0.1042,\n",
      "          0.1042,  0.1042,  0.1042,  0.1042,  0.1042,  0.1042,  0.1042,  0.1042,\n",
      "          0.1042,  0.1042,  0.1042,  0.1042,  0.1042,  0.1042,  0.1042,  0.1042,\n",
      "          0.1042,  0.1042,  0.1042,  0.1042,  0.1042,  0.1042,  0.1042,  0.1042,\n",
      "          0.1042,  0.1042,  0.1042,  0.1042,  0.1042,  0.1042,  0.1042,  0.1042,\n",
      "          0.1042,  0.1042]], device='cuda:0', grad_fn=<SelectBackward0>)\n"
     ]
    },
    {
     "name": "stderr",
     "output_type": "stream",
     "text": [
      "0.00846655:   0%|          | 0/100 [00:57<?, ?it/s]"
     ]
    },
    {
     "name": "stdout",
     "output_type": "stream",
     "text": [
      "tensor([1., 1.], device='cuda:0') tensor([[ 0.0561,  0.0561,  0.0561,  0.0561,  0.0561,  0.0561,  0.0561,  0.0561,\n",
      "          0.0561,  0.0561,  0.0561,  0.0561,  0.0561,  0.0561,  0.0561,  0.0561,\n",
      "          0.0561,  0.0561,  0.0561,  0.0561,  0.0561,  0.0561,  0.0561,  0.0561,\n",
      "          0.0561,  0.0561,  0.0561,  0.0561,  0.0561,  0.0561,  0.0561,  0.0561,\n",
      "          0.0561,  0.0561,  0.0561,  0.0561,  0.0561,  0.0561,  0.0561,  0.0561,\n",
      "          0.0561,  0.0561,  0.0561,  0.0561,  0.0561,  0.0561,  0.0561,  0.0561,\n",
      "          0.0561,  0.0561],\n",
      "        [-0.0012, -0.0012, -0.0012, -0.0012, -0.0012, -0.0012, -0.0012, -0.0012,\n",
      "         -0.0012, -0.0012, -0.0012, -0.0012, -0.0012, -0.0012, -0.0012, -0.0012,\n",
      "         -0.0012, -0.0012, -0.0012, -0.0012, -0.0012, -0.0012, -0.0012, -0.0012,\n",
      "         -0.0012, -0.0012, -0.0012, -0.0012, -0.0012, -0.0012, -0.0012, -0.0012,\n",
      "         -0.0012, -0.0012, -0.0012, -0.0012, -0.0012, -0.0012, -0.0012, -0.0012,\n",
      "         -0.0012, -0.0012, -0.0012, -0.0012, -0.0012, -0.0012, -0.0012, -0.0012,\n",
      "         -0.0012, -0.0012]], device='cuda:0', grad_fn=<SelectBackward0>)\n"
     ]
    },
    {
     "name": "stderr",
     "output_type": "stream",
     "text": [
      "0.00157511:   0%|          | 0/100 [00:58<?, ?it/s]"
     ]
    },
    {
     "name": "stdout",
     "output_type": "stream",
     "text": [
      "tensor([1., 1.], device='cuda:0') tensor([[ 0.2201,  0.2201,  0.2201,  0.2201,  0.2201,  0.2201,  0.2201,  0.2201,\n",
      "          0.2201,  0.2201,  0.2201,  0.2201,  0.2201,  0.2201,  0.2201,  0.2201,\n",
      "          0.2201,  0.2201,  0.2201,  0.2201,  0.2201,  0.2201,  0.2201,  0.2201,\n",
      "          0.2201,  0.2201,  0.2201,  0.2201,  0.2201,  0.2201,  0.2201,  0.2201,\n",
      "          0.2201,  0.2201,  0.2201,  0.2201,  0.2201,  0.2201,  0.2201,  0.2201,\n",
      "          0.2201,  0.2201,  0.2201,  0.2201,  0.2201,  0.2201,  0.2201,  0.2640,\n",
      "          0.2201,  0.2201],\n",
      "        [-0.1438, -0.1438, -0.1438, -0.1438, -0.1438, -0.1438, -0.1438, -0.1438,\n",
      "         -0.1438, -0.1438, -0.1438, -0.1438, -0.1438, -0.1438, -0.1438, -0.1438,\n",
      "         -0.1438, -0.1438, -0.1438, -0.1438, -0.1438, -0.1438, -0.1438, -0.1438,\n",
      "         -0.1438, -0.1438, -0.1438, -0.1438, -0.1438, -0.1438, -0.1438, -0.1438,\n",
      "         -0.1438, -0.1438, -0.1438, -0.1438, -0.1438, -0.1438, -0.1438, -0.1438,\n",
      "         -0.1438, -0.1438, -0.1438, -0.1438, -0.1438, -0.1438, -0.1438, -0.1878,\n",
      "         -0.1438, -0.1438]], device='cuda:0', grad_fn=<SelectBackward0>)\n"
     ]
    },
    {
     "name": "stderr",
     "output_type": "stream",
     "text": [
      "0.03492342:   0%|          | 0/100 [01:00<?, ?it/s]"
     ]
    },
    {
     "name": "stdout",
     "output_type": "stream",
     "text": [
      "tensor([1., 1.], device='cuda:0') tensor([[0.0520, 0.0520, 0.0520, 0.0520, 0.0520, 0.0520, 0.0520, 0.0520, 0.0520,\n",
      "         0.0520, 0.0520, 0.0520, 0.0520, 0.0520, 0.0520, 0.0520, 0.0520, 0.0520,\n",
      "         0.0520, 0.0520, 0.0520, 0.0520, 0.0520, 0.0520, 0.0520, 0.0520, 0.0520,\n",
      "         0.0520, 0.0520, 0.0520, 0.0520, 0.0520, 0.0520, 0.0520, 0.0520, 0.0520,\n",
      "         0.0520, 0.0520, 0.0520, 0.0520, 0.0520, 0.0520, 0.0520, 0.0520, 0.0520,\n",
      "         0.0520, 0.0520, 0.0520, 0.0520, 0.0520],\n",
      "        [0.0356, 0.0356, 0.0356, 0.0356, 0.0356, 0.0356, 0.0356, 0.0356, 0.0356,\n",
      "         0.0356, 0.0356, 0.0356, 0.0356, 0.0356, 0.0356, 0.0356, 0.0356, 0.0356,\n",
      "         0.0356, 0.0356, 0.0356, 0.0356, 0.0356, 0.0356, 0.0356, 0.0356, 0.0356,\n",
      "         0.0356, 0.0356, 0.0356, 0.0356, 0.0356, 0.0356, 0.0356, 0.0356, 0.0356,\n",
      "         0.0356, 0.0356, 0.0356, 0.0356, 0.0356, 0.0356, 0.0356, 0.0356, 0.0356,\n",
      "         0.0356, 0.0356, 0.0356, 0.0356, 0.0356]], device='cuda:0',\n",
      "       grad_fn=<SelectBackward0>)\n"
     ]
    },
    {
     "name": "stderr",
     "output_type": "stream",
     "text": [
      "0.00198489:   0%|          | 0/100 [01:01<?, ?it/s]"
     ]
    },
    {
     "name": "stdout",
     "output_type": "stream",
     "text": [
      "tensor([1., 1.], device='cuda:0') tensor([[0.0408, 0.0408, 0.0408, 0.0408, 0.0408, 0.0408, 0.0408, 0.0408, 0.0408,\n",
      "         0.0408, 0.0408, 0.0408, 0.0408, 0.0408, 0.0408, 0.0408, 0.0408, 0.0408,\n",
      "         0.0408, 0.0408, 0.0408, 0.0408, 0.0408, 0.0408, 0.0408, 0.0408, 0.0408,\n",
      "         0.0408, 0.0408, 0.0408, 0.0408, 0.0408, 0.0408, 0.0408, 0.0408, 0.0408,\n",
      "         0.0408, 0.0408, 0.0408, 0.0408, 0.0408, 0.0408, 0.0408, 0.0408, 0.0408,\n",
      "         0.0408, 0.0408, 0.0408, 0.0408, 0.0408],\n",
      "        [0.0501, 0.0501, 0.0501, 0.0501, 0.0501, 0.0501, 0.0501, 0.0501, 0.0501,\n",
      "         0.0501, 0.0501, 0.0501, 0.0501, 0.0501, 0.0501, 0.0501, 0.0501, 0.0501,\n",
      "         0.0501, 0.0501, 0.0501, 0.0501, 0.0501, 0.0501, 0.0501, 0.0501, 0.0501,\n",
      "         0.0501, 0.0501, 0.0501, 0.0501, 0.0501, 0.0501, 0.0501, 0.0501, 0.0501,\n",
      "         0.0501, 0.0501, 0.0501, 0.0501, 0.0501, 0.0501, 0.0501, 0.0501, 0.0501,\n",
      "         0.0501, 0.0501, 0.0501, 0.0501, 0.0501]], device='cuda:0',\n",
      "       grad_fn=<SelectBackward0>)\n"
     ]
    },
    {
     "name": "stderr",
     "output_type": "stream",
     "text": [
      "0.00208343:   0%|          | 0/100 [01:02<?, ?it/s]"
     ]
    },
    {
     "name": "stdout",
     "output_type": "stream",
     "text": [
      "tensor([1., 1.], device='cuda:0') tensor([[0.0594, 0.0594, 0.0594, 0.0594, 0.0594, 0.0594, 0.0594, 0.0594, 0.0594,\n",
      "         0.0594, 0.0594, 0.0594, 0.0594, 0.0594, 0.0594, 0.0594, 0.0594, 0.0594,\n",
      "         0.0594, 0.0594, 0.0594, 0.0594, 0.0594, 0.0594, 0.0594, 0.0594, 0.0594,\n",
      "         0.0594, 0.0594, 0.0594, 0.0594, 0.0594, 0.0594, 0.0594, 0.0594, 0.0594,\n",
      "         0.0594, 0.0594, 0.0594, 0.0594, 0.0594, 0.0594, 0.0594, 0.0594, 0.0594,\n",
      "         0.0594, 0.0594, 0.0594, 0.0594, 0.0594],\n",
      "        [0.0272, 0.0272, 0.0272, 0.0272, 0.0272, 0.0272, 0.0272, 0.0272, 0.0272,\n",
      "         0.0272, 0.0272, 0.0272, 0.0272, 0.0272, 0.0272, 0.0272, 0.0272, 0.0272,\n",
      "         0.0272, 0.0272, 0.0272, 0.0272, 0.0272, 0.0272, 0.0272, 0.0272, 0.0272,\n",
      "         0.0272, 0.0272, 0.0272, 0.0272, 0.0272, 0.0272, 0.0272, 0.0272, 0.0272,\n",
      "         0.0272, 0.0272, 0.0272, 0.0272, 0.0272, 0.0272, 0.0272, 0.0272, 0.0272,\n",
      "         0.0272, 0.0272, 0.0272, 0.0272, 0.0272]], device='cuda:0',\n",
      "       grad_fn=<SelectBackward0>)\n"
     ]
    },
    {
     "name": "stderr",
     "output_type": "stream",
     "text": [
      "0.00213070:   0%|          | 0/100 [01:04<?, ?it/s]"
     ]
    },
    {
     "name": "stdout",
     "output_type": "stream",
     "text": [
      "tensor([1., 1.], device='cuda:0') tensor([[0.0691, 0.0691, 0.0691, 0.0691, 0.0691, 0.0691, 0.0691, 0.0691, 0.0691,\n",
      "         0.0691, 0.0691, 0.0691, 0.0691, 0.0691, 0.0691, 0.0691, 0.0691, 0.0691,\n",
      "         0.0691, 0.0691, 0.0691, 0.0691, 0.0691, 0.0691, 0.0691, 0.0691, 0.0691,\n",
      "         0.0691, 0.0691, 0.0691, 0.0691, 0.0691, 0.0691, 0.0691, 0.0691, 0.0691,\n",
      "         0.0691, 0.0691, 0.0691, 0.0691, 0.0691, 0.0691, 0.0691, 0.0691, 0.0691,\n",
      "         0.0691, 0.0691, 0.0691, 0.0691, 0.0691],\n",
      "        [0.0066, 0.0066, 0.0066, 0.0066, 0.0066, 0.0066, 0.0066, 0.0066, 0.0066,\n",
      "         0.0066, 0.0066, 0.0066, 0.0066, 0.0066, 0.0066, 0.0066, 0.0066, 0.0066,\n",
      "         0.0066, 0.0066, 0.0066, 0.0066, 0.0066, 0.0066, 0.0066, 0.0066, 0.0066,\n",
      "         0.0066, 0.0066, 0.0066, 0.0066, 0.0066, 0.0066, 0.0066, 0.0066, 0.0066,\n",
      "         0.0066, 0.0066, 0.0066, 0.0066, 0.0066, 0.0066, 0.0066, 0.0066, 0.0066,\n",
      "         0.0066, 0.0066, 0.0066, 0.0066, 0.0066]], device='cuda:0',\n",
      "       grad_fn=<SelectBackward0>)\n"
     ]
    },
    {
     "name": "stderr",
     "output_type": "stream",
     "text": [
      "0.00241214:   0%|          | 0/100 [01:05<?, ?it/s]"
     ]
    },
    {
     "name": "stdout",
     "output_type": "stream",
     "text": [
      "tensor([1., 1.], device='cuda:0') tensor([[0.0101, 0.0101, 0.0101, 0.0101, 0.0101, 0.0101, 0.0101, 0.0101, 0.0101,\n",
      "         0.0101, 0.0101, 0.0101, 0.0101, 0.0101, 0.0101, 0.0101, 0.0101, 0.0101,\n",
      "         0.0101, 0.0101, 0.0101, 0.0101, 0.0101, 0.0101, 0.0101, 0.0101, 0.0101,\n",
      "         0.0101, 0.0101, 0.0101, 0.0101, 0.0101, 0.0101, 0.0101, 0.0101, 0.0101,\n",
      "         0.0101, 0.0101, 0.0101, 0.0101, 0.0101, 0.0101, 0.0101, 0.0101, 0.0101,\n",
      "         0.0101, 0.0101, 0.0101, 0.0101, 0.0101],\n",
      "        [0.0494, 0.0494, 0.0494, 0.0494, 0.0494, 0.0494, 0.0494, 0.0494, 0.0494,\n",
      "         0.0494, 0.0494, 0.0494, 0.0494, 0.0494, 0.0494, 0.0494, 0.0494, 0.0494,\n",
      "         0.0494, 0.0494, 0.0494, 0.0494, 0.0494, 0.0494, 0.0494, 0.0494, 0.0494,\n",
      "         0.0494, 0.0494, 0.0494, 0.0494, 0.0494, 0.0494, 0.0494, 0.0494, 0.0494,\n",
      "         0.0494, 0.0494, 0.0494, 0.0494, 0.0494, 0.0494, 0.0494, 0.0494, 0.0494,\n",
      "         0.0494, 0.0494, 0.0494, 0.0494, 0.0494]], device='cuda:0',\n",
      "       grad_fn=<SelectBackward0>)\n"
     ]
    },
    {
     "name": "stderr",
     "output_type": "stream",
     "text": [
      "0.00127155:   0%|          | 0/100 [01:06<?, ?it/s]"
     ]
    },
    {
     "name": "stdout",
     "output_type": "stream",
     "text": [
      "tensor([1., 1.], device='cuda:0') tensor([[ 0.0672,  0.0672,  0.0672,  0.0672,  0.0672,  0.0672,  0.0672,  0.0672,\n",
      "          0.0672,  0.0672,  0.0672,  0.0672,  0.0672,  0.0672,  0.0672,  0.0672,\n",
      "          0.0672,  0.0672,  0.0672,  0.0672,  0.0672,  0.0672,  0.0672,  0.0672,\n",
      "          0.0672,  0.0672,  0.0672,  0.0672,  0.0672,  0.0672,  0.0672,  0.0672,\n",
      "          0.0672,  0.0672,  0.0672,  0.0672,  0.0672,  0.0672,  0.0672,  0.0672,\n",
      "          0.0672,  0.0672,  0.0672,  0.0672,  0.0672,  0.0672,  0.0672,  0.0672,\n",
      "          0.0672,  0.0672],\n",
      "        [-0.0276, -0.0276, -0.0276, -0.0276, -0.0276, -0.0276, -0.0276, -0.0276,\n",
      "         -0.0276, -0.0276, -0.0276, -0.0276, -0.0276, -0.0276, -0.0276, -0.0276,\n",
      "         -0.0276, -0.0276, -0.0276, -0.0276, -0.0276, -0.0276, -0.0276, -0.0276,\n",
      "         -0.0276, -0.0276, -0.0276, -0.0276, -0.0276, -0.0276, -0.0276, -0.0276,\n",
      "         -0.0276, -0.0276, -0.0276, -0.0276, -0.0276, -0.0276, -0.0276, -0.0276,\n",
      "         -0.0276, -0.0276, -0.0276, -0.0276, -0.0276, -0.0276, -0.0276, -0.0276,\n",
      "         -0.0276, -0.0276]], device='cuda:0', grad_fn=<SelectBackward0>)\n"
     ]
    },
    {
     "name": "stderr",
     "output_type": "stream",
     "text": [
      "0.00264150:   0%|          | 0/100 [01:08<?, ?it/s]"
     ]
    },
    {
     "name": "stdout",
     "output_type": "stream",
     "text": [
      "tensor([1., 1.], device='cuda:0') tensor([[0.0096, 0.0096, 0.0096, 0.0096, 0.0096, 0.0096, 0.0096, 0.0096, 0.0096,\n",
      "         0.0096, 0.0096, 0.0096, 0.0096, 0.0096, 0.0096, 0.0096, 0.0096, 0.0096,\n",
      "         0.0096, 0.0096, 0.0096, 0.0096, 0.0096, 0.0096, 0.0096, 0.0096, 0.0096,\n",
      "         0.0096, 0.0096, 0.0096, 0.0096, 0.0096, 0.0096, 0.0096, 0.0096, 0.0096,\n",
      "         0.0096, 0.0096, 0.0096, 0.0096, 0.0096, 0.0096, 0.0096, 0.0096, 0.0096,\n",
      "         0.0096, 0.0096, 0.0096, 0.0096, 0.0096],\n",
      "        [0.0090, 0.0090, 0.0090, 0.0090, 0.0090, 0.0090, 0.0090, 0.0090, 0.0090,\n",
      "         0.0090, 0.0090, 0.0090, 0.0090, 0.0090, 0.0090, 0.0090, 0.0090, 0.0090,\n",
      "         0.0090, 0.0090, 0.0090, 0.0090, 0.0090, 0.0090, 0.0090, 0.0090, 0.0090,\n",
      "         0.0090, 0.0090, 0.0090, 0.0090, 0.0090, 0.0090, 0.0090, 0.0090, 0.0090,\n",
      "         0.0090, 0.0090, 0.0090, 0.0090, 0.0090, 0.0090, 0.0090, 0.0090, 0.0090,\n",
      "         0.0090, 0.0090, 0.0090, 0.0090, 0.0090]], device='cuda:0',\n",
      "       grad_fn=<SelectBackward0>)\n"
     ]
    },
    {
     "name": "stderr",
     "output_type": "stream",
     "text": [
      "0.00008610:   0%|          | 0/100 [01:09<?, ?it/s]"
     ]
    },
    {
     "name": "stdout",
     "output_type": "stream",
     "text": [
      "tensor([1., 1.], device='cuda:0') tensor([[ 0.0063,  0.0063,  0.0063,  0.0063,  0.0063,  0.0063,  0.0063,  0.0063,\n",
      "          0.0063,  0.0063,  0.0063,  0.0063,  0.0063,  0.0063,  0.0063,  0.0063,\n",
      "          0.0063,  0.0063,  0.0063,  0.0063,  0.0063,  0.0063,  0.0063,  0.0063,\n",
      "          0.0063,  0.0063,  0.0063,  0.0063,  0.0063,  0.0063,  0.0063,  0.0063,\n",
      "          0.0063,  0.0063,  0.0063,  0.0063,  0.0063,  0.0063,  0.0063,  0.0063,\n",
      "          0.0063,  0.0063,  0.0063,  0.0063,  0.0063,  0.0063,  0.0063,  0.0063,\n",
      "          0.0063,  0.0063],\n",
      "        [-0.0084, -0.0084, -0.0084, -0.0084, -0.0084, -0.0084, -0.0084, -0.0084,\n",
      "         -0.0084, -0.0084, -0.0084, -0.0084, -0.0084, -0.0084, -0.0084, -0.0084,\n",
      "         -0.0084, -0.0084, -0.0084, -0.0084, -0.0084, -0.0084, -0.0084, -0.0084,\n",
      "         -0.0084, -0.0084, -0.0084, -0.0084, -0.0084, -0.0084, -0.0084, -0.0084,\n",
      "         -0.0084, -0.0084, -0.0084, -0.0084, -0.0084, -0.0084, -0.0084, -0.0084,\n",
      "         -0.0084, -0.0084, -0.0084, -0.0084, -0.0084, -0.0084, -0.0084, -0.0084,\n",
      "         -0.0084, -0.0084]], device='cuda:0', grad_fn=<SelectBackward0>)\n"
     ]
    },
    {
     "name": "stderr",
     "output_type": "stream",
     "text": [
      "0.00005536:   1%|          | 1/100 [01:11<1:57:12, 71.04s/it]"
     ]
    },
    {
     "name": "stdout",
     "output_type": "stream",
     "text": [
      "tensor([1., 1.], device='cuda:0') tensor([[ 0.0143,  0.0143,  0.0143,  0.0143,  0.0143,  0.0143,  0.0143,  0.0143,\n",
      "          0.0143,  0.0143,  0.0143,  0.0143,  0.0143,  0.0143,  0.0143,  0.0143,\n",
      "          0.0143,  0.0143,  0.0143,  0.0143,  0.0143,  0.0143,  0.0143,  0.0143,\n",
      "          0.0143,  0.0143,  0.0143,  0.0143,  0.0143,  0.0143,  0.0143,  0.0143,\n",
      "          0.0143,  0.0143,  0.0143,  0.0143,  0.0143,  0.0143,  0.0143,  0.0143,\n",
      "          0.0143,  0.0143,  0.0143,  0.0143,  0.0143,  0.0143,  0.0143,  0.0143,\n",
      "          0.0143,  0.0143],\n",
      "        [-0.0348, -0.0348, -0.0348, -0.0348, -0.0348, -0.0348, -0.0348, -0.0348,\n",
      "         -0.0348, -0.0348, -0.0348, -0.0348, -0.0348, -0.0348, -0.0348, -0.0348,\n",
      "         -0.0348, -0.0348, -0.0348, -0.0348, -0.0348, -0.0348, -0.0348, -0.0348,\n",
      "         -0.0348, -0.0348, -0.0348, -0.0348, -0.0348, -0.0348, -0.0348, -0.0348,\n",
      "         -0.0348, -0.0348, -0.0348, -0.0348, -0.0348, -0.0348, -0.0348, -0.0348,\n",
      "         -0.0348, -0.0348, -0.0348, -0.0348, -0.0348, -0.0348, -0.0348, -0.0348,\n",
      "         -0.0348, -0.0348]], device='cuda:0', grad_fn=<SelectBackward0>)\n"
     ]
    },
    {
     "name": "stderr",
     "output_type": "stream",
     "text": [
      "0.00070654:   1%|          | 1/100 [01:12<1:57:12, 71.04s/it]"
     ]
    },
    {
     "name": "stdout",
     "output_type": "stream",
     "text": [
      "tensor([1., 1.], device='cuda:0') tensor([[-0.0348, -0.0348, -0.0348, -0.0348, -0.0348, -0.0348, -0.0348, -0.0348,\n",
      "         -0.0348, -0.0348, -0.0348, -0.0348, -0.0348, -0.0348, -0.0348, -0.0348,\n",
      "         -0.0348, -0.0348, -0.0348, -0.0348, -0.0348, -0.0348, -0.0348, -0.0348,\n",
      "         -0.0348, -0.0348, -0.0348, -0.0348, -0.0348, -0.0348, -0.0348, -0.0348,\n",
      "         -0.0348, -0.0348, -0.0348, -0.0348, -0.0348, -0.0348, -0.0348, -0.0348,\n",
      "         -0.0348, -0.0348, -0.0348, -0.0348, -0.0348, -0.0348, -0.0348, -0.0348,\n",
      "         -0.0348, -0.0348],\n",
      "        [-0.0012, -0.0012, -0.0012, -0.0012, -0.0012, -0.0012, -0.0012, -0.0012,\n",
      "         -0.0012, -0.0012, -0.0012, -0.0012, -0.0012, -0.0012, -0.0012, -0.0012,\n",
      "         -0.0012, -0.0012, -0.0012, -0.0012, -0.0012, -0.0012, -0.0012, -0.0012,\n",
      "         -0.0012, -0.0012, -0.0012, -0.0012, -0.0012, -0.0012, -0.0012, -0.0012,\n",
      "         -0.0012, -0.0012, -0.0012, -0.0012, -0.0012, -0.0012, -0.0012, -0.0012,\n",
      "         -0.0012, -0.0012, -0.0012, -0.0012, -0.0012, -0.0012, -0.0012, -0.0012,\n",
      "         -0.0012, -0.0012]], device='cuda:0', grad_fn=<SelectBackward0>)\n"
     ]
    },
    {
     "name": "stderr",
     "output_type": "stream",
     "text": [
      "0.00060718:   1%|          | 1/100 [01:13<1:57:12, 71.04s/it]"
     ]
    },
    {
     "name": "stdout",
     "output_type": "stream",
     "text": [
      "tensor([1., 1.], device='cuda:0') tensor([[ 0.0041,  0.0041,  0.0041,  0.0041,  0.0041,  0.0041,  0.0041,  0.0041,\n",
      "          0.0041,  0.0041,  0.0041,  0.0041,  0.0041,  0.0041,  0.0041,  0.0041,\n",
      "          0.0041,  0.0041,  0.0041,  0.0041,  0.0041,  0.0041,  0.0041,  0.0041,\n",
      "          0.0041,  0.0041,  0.0041,  0.0041,  0.0041,  0.0041,  0.0041,  0.0041,\n",
      "          0.0041,  0.0041,  0.0041,  0.0041,  0.0041,  0.0041,  0.0041,  0.0041,\n",
      "          0.0041,  0.0041,  0.0041,  0.0041,  0.0041,  0.0041,  0.0041,  0.0041,\n",
      "          0.0041,  0.0041],\n",
      "        [-0.0515, -0.0515, -0.0515, -0.0515, -0.0515, -0.0515, -0.0515, -0.0515,\n",
      "         -0.0515, -0.0515, -0.0515, -0.0515, -0.0515, -0.0515, -0.0515, -0.0515,\n",
      "         -0.0515, -0.0515, -0.0515, -0.0515, -0.0515, -0.0515, -0.0515, -0.0515,\n",
      "         -0.0515, -0.0515, -0.0515, -0.0515, -0.0515, -0.0515, -0.0515, -0.0515,\n",
      "         -0.0515, -0.0515, -0.0515, -0.0515, -0.0515, -0.0515, -0.0515, -0.0515,\n",
      "         -0.0515, -0.0515, -0.0515, -0.0515, -0.0515, -0.0515, -0.0515, -0.0515,\n",
      "         -0.0515, -0.0515]], device='cuda:0', grad_fn=<SelectBackward0>)\n"
     ]
    },
    {
     "name": "stderr",
     "output_type": "stream",
     "text": [
      "0.00133534:   1%|          | 1/100 [01:15<1:57:12, 71.04s/it]"
     ]
    },
    {
     "name": "stdout",
     "output_type": "stream",
     "text": [
      "tensor([1., 1.], device='cuda:0') tensor([[-0.0589, -0.0589, -0.0589, -0.0589, -0.0589, -0.0589, -0.0589, -0.0589,\n",
      "         -0.0589, -0.0589, -0.0589, -0.0589, -0.0589, -0.0589, -0.0589, -0.0589,\n",
      "         -0.0589, -0.0589, -0.0589, -0.0589, -0.0589, -0.0589, -0.0589, -0.0589,\n",
      "         -0.0589, -0.0589, -0.0589, -0.0589, -0.0589, -0.0589, -0.0589, -0.0589,\n",
      "         -0.0589, -0.0589, -0.0589, -0.0589, -0.0589, -0.0589, -0.0589, -0.0589,\n",
      "         -0.0589, -0.0589, -0.0589, -0.0589, -0.0589, -0.0589, -0.0589, -0.0589,\n",
      "         -0.0589, -0.0589],\n",
      "        [ 0.0056,  0.0056,  0.0056,  0.0056,  0.0056,  0.0056,  0.0056,  0.0056,\n",
      "          0.0056,  0.0056,  0.0056,  0.0056,  0.0056,  0.0056,  0.0056,  0.0056,\n",
      "          0.0056,  0.0056,  0.0056,  0.0056,  0.0056,  0.0056,  0.0056,  0.0056,\n",
      "          0.0056,  0.0056,  0.0056,  0.0056,  0.0056,  0.0056,  0.0056,  0.0056,\n",
      "          0.0056,  0.0056,  0.0056,  0.0056,  0.0056,  0.0056,  0.0056,  0.0056,\n",
      "          0.0056,  0.0056,  0.0056,  0.0056,  0.0056,  0.0056,  0.0056,  0.0056,\n",
      "          0.0056,  0.0056]], device='cuda:0', grad_fn=<SelectBackward0>)\n"
     ]
    },
    {
     "name": "stderr",
     "output_type": "stream",
     "text": [
      "0.00175099:   1%|          | 1/100 [01:16<1:57:12, 71.04s/it]"
     ]
    },
    {
     "name": "stdout",
     "output_type": "stream",
     "text": [
      "tensor([1., 1.], device='cuda:0') tensor([[-0.0248, -0.0248, -0.0248, -0.0248, -0.0248, -0.0248, -0.0248, -0.0248,\n",
      "         -0.0248, -0.0248, -0.0248, -0.0248, -0.0248, -0.0248, -0.0248, -0.0248,\n",
      "         -0.0248, -0.0248, -0.0248, -0.0248, -0.0248, -0.0248, -0.0248, -0.0248,\n",
      "         -0.0248, -0.0248, -0.0248, -0.0248, -0.0248, -0.0248, -0.0248, -0.0248,\n",
      "         -0.0248, -0.0248, -0.0248, -0.0248, -0.0248, -0.0248, -0.0248, -0.0248,\n",
      "         -0.0248, -0.0248, -0.0248, -0.0248, -0.0248, -0.0248, -0.0248, -0.0248,\n",
      "         -0.0248, -0.0248],\n",
      "        [-0.0288, -0.0288, -0.0288, -0.0288, -0.0288, -0.0288, -0.0288, -0.0288,\n",
      "         -0.0288, -0.0288, -0.0288, -0.0288, -0.0288, -0.0288, -0.0288, -0.0288,\n",
      "         -0.0288, -0.0288, -0.0288, -0.0288, -0.0288, -0.0288, -0.0288, -0.0288,\n",
      "         -0.0288, -0.0288, -0.0288, -0.0288, -0.0288, -0.0288, -0.0288, -0.0288,\n",
      "         -0.0288, -0.0288, -0.0288, -0.0288, -0.0288, -0.0288, -0.0288, -0.0288,\n",
      "         -0.0288, -0.0288, -0.0288, -0.0288, -0.0288, -0.0288, -0.0288, -0.0288,\n",
      "         -0.0288, -0.0288]], device='cuda:0', grad_fn=<SelectBackward0>)\n"
     ]
    },
    {
     "name": "stderr",
     "output_type": "stream",
     "text": [
      "0.00072105:   1%|          | 1/100 [01:17<1:57:12, 71.04s/it]"
     ]
    },
    {
     "name": "stdout",
     "output_type": "stream",
     "text": [
      "tensor([1., 1.], device='cuda:0') tensor([[-0.0241, -0.0241, -0.0241, -0.0241, -0.0241, -0.0241, -0.0241, -0.0241,\n",
      "         -0.0241, -0.0241, -0.0241, -0.0241, -0.0241, -0.0241, -0.0241, -0.0241,\n",
      "         -0.0241, -0.0241, -0.0241, -0.0241, -0.0241, -0.0241, -0.0241, -0.0241,\n",
      "         -0.0241, -0.0241, -0.0241, -0.0241, -0.0241, -0.0241, -0.0241, -0.0241,\n",
      "         -0.0241, -0.0241, -0.0241, -0.0241, -0.0241, -0.0241, -0.0241, -0.0241,\n",
      "         -0.0241, -0.0241, -0.0241, -0.0241, -0.0241, -0.0241, -0.0241, -0.0241,\n",
      "         -0.0241, -0.0241],\n",
      "        [-0.0251, -0.0251, -0.0251, -0.0251, -0.0251, -0.0251, -0.0251, -0.0251,\n",
      "         -0.0251, -0.0251, -0.0251, -0.0251, -0.0251, -0.0251, -0.0251, -0.0251,\n",
      "         -0.0251, -0.0251, -0.0251, -0.0251, -0.0251, -0.0251, -0.0251, -0.0251,\n",
      "         -0.0251, -0.0251, -0.0251, -0.0251, -0.0251, -0.0251, -0.0251, -0.0251,\n",
      "         -0.0251, -0.0251, -0.0251, -0.0251, -0.0251, -0.0251, -0.0251, -0.0251,\n",
      "         -0.0251, -0.0251, -0.0251, -0.0251, -0.0251, -0.0251, -0.0251, -0.0251,\n",
      "         -0.0251, -0.0251]], device='cuda:0', grad_fn=<SelectBackward0>)\n"
     ]
    },
    {
     "name": "stderr",
     "output_type": "stream",
     "text": [
      "0.00060575:   1%|          | 1/100 [01:19<1:57:12, 71.04s/it]"
     ]
    },
    {
     "name": "stdout",
     "output_type": "stream",
     "text": [
      "tensor([1., 1.], device='cuda:0') tensor([[-0.0199, -0.0199, -0.0199, -0.0199, -0.0199, -0.0199, -0.0199, -0.0199,\n",
      "         -0.0199, -0.0199, -0.0199, -0.0199, -0.0199, -0.0199, -0.0199, -0.0199,\n",
      "         -0.0199, -0.0199, -0.0199, -0.0199, -0.0199, -0.0199, -0.0199, -0.0199,\n",
      "         -0.0199, -0.0199, -0.0199, -0.0199, -0.0199, -0.0199, -0.0199, -0.0199,\n",
      "         -0.0199, -0.0199, -0.0199, -0.0199, -0.0199, -0.0199, -0.0199, -0.0199,\n",
      "         -0.0199, -0.0199, -0.0199, -0.0199, -0.0199, -0.0199, -0.0199, -0.0199,\n",
      "         -0.0199, -0.0199],\n",
      "        [-0.0210, -0.0210, -0.0210, -0.0210, -0.0210, -0.0210, -0.0210, -0.0210,\n",
      "         -0.0210, -0.0210, -0.0210, -0.0210, -0.0210, -0.0210, -0.0210, -0.0210,\n",
      "         -0.0210, -0.0210, -0.0210, -0.0210, -0.0210, -0.0210, -0.0210, -0.0210,\n",
      "         -0.0210, -0.0210, -0.0210, -0.0210, -0.0210, -0.0210, -0.0210, -0.0210,\n",
      "         -0.0210, -0.0210, -0.0210, -0.0210, -0.0210, -0.0210, -0.0210, -0.0210,\n",
      "         -0.0210, -0.0210, -0.0210, -0.0210, -0.0210, -0.0210, -0.0210, -0.0210,\n",
      "         -0.0210, -0.0210]], device='cuda:0', grad_fn=<SelectBackward0>)\n"
     ]
    },
    {
     "name": "stderr",
     "output_type": "stream",
     "text": [
      "0.00042011:   1%|          | 1/100 [01:20<1:57:12, 71.04s/it]"
     ]
    },
    {
     "name": "stdout",
     "output_type": "stream",
     "text": [
      "tensor([1., 1.], device='cuda:0') tensor([[-0.0162, -0.0162, -0.0162, -0.0162, -0.0162, -0.0162, -0.0162, -0.0162,\n",
      "         -0.0162, -0.0162, -0.0162, -0.0162, -0.0162, -0.0162, -0.0162, -0.0162,\n",
      "         -0.0162, -0.0162, -0.0162, -0.0162, -0.0162, -0.0162, -0.0162, -0.0162,\n",
      "         -0.0162, -0.0162, -0.0162, -0.0162, -0.0162, -0.0162, -0.0162, -0.0162,\n",
      "         -0.0162, -0.0162, -0.0162, -0.0162, -0.0162, -0.0162, -0.0162, -0.0162,\n",
      "         -0.0162, -0.0162, -0.0162, -0.0162, -0.0162, -0.0162, -0.0162, -0.0162,\n",
      "         -0.0162, -0.0162],\n",
      "        [-0.0137, -0.0137, -0.0137, -0.0137, -0.0137, -0.0137, -0.0137, -0.0137,\n",
      "         -0.0137, -0.0137, -0.0137, -0.0137, -0.0137, -0.0137, -0.0137, -0.0137,\n",
      "         -0.0137, -0.0137, -0.0137, -0.0137, -0.0137, -0.0137, -0.0137, -0.0137,\n",
      "         -0.0137, -0.0137, -0.0137, -0.0137, -0.0137, -0.0137, -0.0137, -0.0137,\n",
      "         -0.0137, -0.0137, -0.0137, -0.0137, -0.0137, -0.0137, -0.0137, -0.0137,\n",
      "         -0.0137, -0.0137, -0.0137, -0.0137, -0.0137, -0.0137, -0.0137, -0.0137,\n",
      "         -0.0137, -0.0137]], device='cuda:0', grad_fn=<SelectBackward0>)\n"
     ]
    },
    {
     "name": "stderr",
     "output_type": "stream",
     "text": [
      "0.00022479:   1%|          | 1/100 [01:21<1:57:12, 71.04s/it]"
     ]
    },
    {
     "name": "stdout",
     "output_type": "stream",
     "text": [
      "tensor([1., 1.], device='cuda:0') tensor([[-0.0449, -0.0449, -0.0449, -0.0449, -0.0449, -0.0449, -0.0449, -0.0449,\n",
      "         -0.0449, -0.0449, -0.0449, -0.0449, -0.0449, -0.0449, -0.0449, -0.0449,\n",
      "         -0.0449, -0.0449, -0.0449, -0.0449, -0.0449, -0.0449, -0.0449, -0.0449,\n",
      "         -0.0449, -0.0449, -0.0449, -0.0449, -0.0449, -0.0449, -0.0449, -0.0449,\n",
      "         -0.0449, -0.0449, -0.0449, -0.0449, -0.0449, -0.0449, -0.0449, -0.0449,\n",
      "         -0.0449, -0.0449, -0.0449, -0.0449, -0.0449, -0.0449, -0.0449, -0.0449,\n",
      "         -0.0449, -0.0449],\n",
      "        [ 0.0278,  0.0278,  0.0278,  0.0278,  0.0278,  0.0278,  0.0278,  0.0278,\n",
      "          0.0278,  0.0278,  0.0278,  0.0278,  0.0278,  0.0278,  0.0278,  0.0278,\n",
      "          0.0278,  0.0278,  0.0278,  0.0278,  0.0278,  0.0278,  0.0278,  0.0278,\n",
      "          0.0278,  0.0278,  0.0278,  0.0278,  0.0278,  0.0278,  0.0278,  0.0278,\n",
      "          0.0278,  0.0278,  0.0278,  0.0278,  0.0278,  0.0278,  0.0278,  0.0278,\n",
      "          0.0278,  0.0278,  0.0278,  0.0278,  0.0278,  0.0278,  0.0278,  0.0278,\n",
      "          0.0278,  0.0278]], device='cuda:0', grad_fn=<SelectBackward0>)\n"
     ]
    },
    {
     "name": "stderr",
     "output_type": "stream",
     "text": [
      "0.00139545:   1%|          | 1/100 [01:23<1:57:12, 71.04s/it]"
     ]
    },
    {
     "name": "stdout",
     "output_type": "stream",
     "text": [
      "tensor([1., 1.], device='cuda:0') tensor([[-0.0028, -0.0028, -0.0028, -0.0028, -0.0028, -0.0028, -0.0028, -0.0028,\n",
      "         -0.0028, -0.0028, -0.0028, -0.0028, -0.0028, -0.0028, -0.0028, -0.0028,\n",
      "         -0.0028, -0.0028, -0.0028, -0.0028, -0.0028, -0.0028, -0.0028, -0.0028,\n",
      "         -0.0028, -0.0028, -0.0028, -0.0028, -0.0028, -0.0028, -0.0028, -0.0028,\n",
      "         -0.0028, -0.0028, -0.0028, -0.0028, -0.0028, -0.0028, -0.0028, -0.0028,\n",
      "         -0.0028, -0.0028, -0.0028, -0.0028, -0.0028, -0.0028, -0.0028, -0.0028,\n",
      "         -0.0028, -0.0028],\n",
      "        [-0.0007, -0.0007, -0.0007, -0.0007, -0.0007, -0.0007, -0.0007, -0.0007,\n",
      "         -0.0007, -0.0007, -0.0007, -0.0007, -0.0007, -0.0007, -0.0007, -0.0007,\n",
      "         -0.0007, -0.0007, -0.0007, -0.0007, -0.0007, -0.0007, -0.0007, -0.0007,\n",
      "         -0.0007, -0.0007, -0.0007, -0.0007, -0.0007, -0.0007, -0.0007, -0.0007,\n",
      "         -0.0007, -0.0007, -0.0007, -0.0007, -0.0007, -0.0007, -0.0007, -0.0007,\n",
      "         -0.0007, -0.0007, -0.0007, -0.0007, -0.0007, -0.0007, -0.0007, -0.0007,\n",
      "         -0.0007, -0.0007]], device='cuda:0', grad_fn=<SelectBackward0>)\n"
     ]
    },
    {
     "name": "stderr",
     "output_type": "stream",
     "text": [
      "0.00000412:   1%|          | 1/100 [01:24<1:57:12, 71.04s/it]"
     ]
    },
    {
     "name": "stdout",
     "output_type": "stream",
     "text": [
      "tensor([1., 1.], device='cuda:0') tensor([[0.0080, 0.0080, 0.0080, 0.0080, 0.0080, 0.0080, 0.0080, 0.0080, 0.0080,\n",
      "         0.0080, 0.0080, 0.0080, 0.0080, 0.0080, 0.0080, 0.0080, 0.0080, 0.0080,\n",
      "         0.0080, 0.0080, 0.0080, 0.0080, 0.0080, 0.0080, 0.0080, 0.0080, 0.0080,\n",
      "         0.0080, 0.0080, 0.0080, 0.0080, 0.0080, 0.0080, 0.0080, 0.0080, 0.0080,\n",
      "         0.0080, 0.0080, 0.0080, 0.0080, 0.0080, 0.0080, 0.0080, 0.0080, 0.0080,\n",
      "         0.0080, 0.0080, 0.0080, 0.0080, 0.0080],\n",
      "        [0.0012, 0.0012, 0.0012, 0.0012, 0.0012, 0.0012, 0.0012, 0.0012, 0.0012,\n",
      "         0.0012, 0.0012, 0.0012, 0.0012, 0.0012, 0.0012, 0.0012, 0.0012, 0.0012,\n",
      "         0.0012, 0.0012, 0.0012, 0.0012, 0.0012, 0.0012, 0.0012, 0.0012, 0.0012,\n",
      "         0.0012, 0.0012, 0.0012, 0.0012, 0.0012, 0.0012, 0.0012, 0.0012, 0.0012,\n",
      "         0.0012, 0.0012, 0.0012, 0.0012, 0.0012, 0.0012, 0.0012, 0.0012, 0.0012,\n",
      "         0.0012, 0.0012, 0.0012, 0.0012, 0.0012]], device='cuda:0',\n",
      "       grad_fn=<SelectBackward0>)\n"
     ]
    },
    {
     "name": "stderr",
     "output_type": "stream",
     "text": [
      "0.00003269:   1%|          | 1/100 [01:26<1:57:12, 71.04s/it]"
     ]
    },
    {
     "name": "stdout",
     "output_type": "stream",
     "text": [
      "tensor([1., 1.], device='cuda:0') tensor([[0.0047, 0.0047, 0.0047, 0.0047, 0.0047, 0.0047, 0.0047, 0.0047, 0.0047,\n",
      "         0.0047, 0.0047, 0.0047, 0.0047, 0.0047, 0.0047, 0.0047, 0.0047, 0.0047,\n",
      "         0.0047, 0.0047, 0.0047, 0.0047, 0.0047, 0.0047, 0.0047, 0.0047, 0.0047,\n",
      "         0.0047, 0.0047, 0.0047, 0.0047, 0.0047, 0.0047, 0.0047, 0.0047, 0.0047,\n",
      "         0.0047, 0.0047, 0.0047, 0.0047, 0.0047, 0.0047, 0.0047, 0.0047, 0.0047,\n",
      "         0.0047, 0.0047, 0.0047, 0.0047, 0.0047],\n",
      "        [0.0151, 0.0151, 0.0151, 0.0151, 0.0151, 0.0151, 0.0151, 0.0151, 0.0151,\n",
      "         0.0151, 0.0151, 0.0151, 0.0151, 0.0151, 0.0151, 0.0151, 0.0151, 0.0151,\n",
      "         0.0151, 0.0151, 0.0151, 0.0151, 0.0151, 0.0151, 0.0151, 0.0151, 0.0151,\n",
      "         0.0151, 0.0151, 0.0151, 0.0151, 0.0151, 0.0151, 0.0151, 0.0151, 0.0151,\n",
      "         0.0151, 0.0151, 0.0151, 0.0151, 0.0151, 0.0151, 0.0151, 0.0151, 0.0151,\n",
      "         0.0151, 0.0151, 0.0151, 0.0151, 0.0151]], device='cuda:0',\n",
      "       grad_fn=<SelectBackward0>)\n"
     ]
    },
    {
     "name": "stderr",
     "output_type": "stream",
     "text": [
      "0.00012466:   1%|          | 1/100 [01:27<1:57:12, 71.04s/it]"
     ]
    },
    {
     "name": "stdout",
     "output_type": "stream",
     "text": [
      "tensor([1., 1.], device='cuda:0') tensor([[-0.0649, -0.0649, -0.0649, -0.0649, -0.0649, -0.0649, -0.0649, -0.0649,\n",
      "         -0.0649, -0.0649, -0.0649, -0.0649, -0.0649, -0.0649, -0.0649, -0.0649,\n",
      "         -0.0649, -0.0649, -0.0649, -0.0649, -0.0649, -0.0649, -0.0649, -0.0649,\n",
      "         -0.0649, -0.0649, -0.0649, -0.0649, -0.0649, -0.0649, -0.0649, -0.0649,\n",
      "         -0.0649, -0.0649, -0.0649, -0.0649, -0.0649, -0.0649, -0.0649, -0.0649,\n",
      "         -0.0649, -0.0649, -0.0649, -0.0649, -0.0649, -0.0649, -0.0649, -0.0649,\n",
      "         -0.0649, -0.0649],\n",
      "        [ 0.0923,  0.0923,  0.0923,  0.0923,  0.0923,  0.0923,  0.0923,  0.0923,\n",
      "          0.0923,  0.0923,  0.0923,  0.0923,  0.0923,  0.0923,  0.0923,  0.0923,\n",
      "          0.0923,  0.0923,  0.0923,  0.0923,  0.0923,  0.0923,  0.0923,  0.0923,\n",
      "          0.0923,  0.0923,  0.0923,  0.0923,  0.0923,  0.0923,  0.0923,  0.0923,\n",
      "          0.0923,  0.0923,  0.0923,  0.0923,  0.0923,  0.0923,  0.0923,  0.0923,\n",
      "          0.0923,  0.0923,  0.0923,  0.0923,  0.0923,  0.0923,  0.0923,  0.0923,\n",
      "          0.0923,  0.0923]], device='cuda:0', grad_fn=<SelectBackward0>)\n"
     ]
    },
    {
     "name": "stderr",
     "output_type": "stream",
     "text": [
      "0.00636958:   1%|          | 1/100 [01:28<1:57:12, 71.04s/it]"
     ]
    },
    {
     "name": "stdout",
     "output_type": "stream",
     "text": [
      "tensor([1., 1.], device='cuda:0') tensor([[0.0030, 0.0030, 0.0030, 0.0030, 0.0030, 0.0030, 0.0030, 0.0030, 0.0030,\n",
      "         0.0030, 0.0030, 0.0030, 0.0030, 0.0030, 0.0030, 0.0030, 0.0030, 0.0030,\n",
      "         0.0030, 0.0030, 0.0030, 0.0030, 0.0030, 0.0030, 0.0030, 0.0030, 0.0030,\n",
      "         0.0030, 0.0030, 0.0030, 0.0030, 0.0030, 0.0030, 0.0030, 0.0030, 0.0030,\n",
      "         0.0030, 0.0030, 0.0030, 0.0030, 0.0030, 0.0030, 0.0030, 0.0030, 0.0030,\n",
      "         0.0030, 0.0030, 0.0030, 0.0030, 0.0030],\n",
      "        [0.0293, 0.0293, 0.0293, 0.0293, 0.0293, 0.0293, 0.0293, 0.0293, 0.0293,\n",
      "         0.0293, 0.0293, 0.0293, 0.0293, 0.0293, 0.0293, 0.0293, 0.0293, 0.0293,\n",
      "         0.0293, 0.0293, 0.0293, 0.0293, 0.0293, 0.0293, 0.0293, 0.0293, 0.0293,\n",
      "         0.0293, 0.0293, 0.0293, 0.0293, 0.0293, 0.0293, 0.0293, 0.0293, 0.0293,\n",
      "         0.0293, 0.0293, 0.0293, 0.0293, 0.0293, 0.0293, 0.0293, 0.0293, 0.0293,\n",
      "         0.0293, 0.0293, 0.0293, 0.0293, 0.0293]], device='cuda:0',\n",
      "       grad_fn=<SelectBackward0>)\n"
     ]
    },
    {
     "name": "stderr",
     "output_type": "stream",
     "text": [
      "0.00043389:   1%|          | 1/100 [01:29<1:57:12, 71.04s/it]"
     ]
    },
    {
     "name": "stdout",
     "output_type": "stream",
     "text": [
      "tensor([1., 1.], device='cuda:0') tensor([[-0.0013, -0.0013, -0.0013, -0.0013, -0.0013, -0.0013, -0.0013, -0.0013,\n",
      "         -0.0013, -0.0013, -0.0013, -0.0013, -0.0013, -0.0013, -0.0013, -0.0013,\n",
      "         -0.0013, -0.0013, -0.0013, -0.0013, -0.0013, -0.0013, -0.0013, -0.0013,\n",
      "         -0.0013, -0.0013, -0.0013, -0.0013, -0.0013, -0.0013, -0.0013, -0.0013,\n",
      "         -0.0013, -0.0013, -0.0013, -0.0013, -0.0013, -0.0013, -0.0013, -0.0013,\n",
      "         -0.0013, -0.0013, -0.0013, -0.0013, -0.0013, -0.0013, -0.0013, -0.0013,\n",
      "         -0.0013, -0.0013],\n",
      "        [ 0.0348,  0.0348,  0.0348,  0.0348,  0.0348,  0.0348,  0.0348,  0.0348,\n",
      "          0.0348,  0.0348,  0.0348,  0.0348,  0.0348,  0.0348,  0.0348,  0.0348,\n",
      "          0.0348,  0.0348,  0.0348,  0.0348,  0.0348,  0.0348,  0.0348,  0.0348,\n",
      "          0.0348,  0.0348,  0.0348,  0.0348,  0.0348,  0.0348,  0.0348,  0.0348,\n",
      "          0.0348,  0.0348,  0.0348,  0.0348,  0.0348,  0.0348,  0.0348,  0.0348,\n",
      "          0.0348,  0.0348,  0.0348,  0.0348,  0.0348,  0.0348,  0.0348,  0.0348,\n",
      "          0.0348,  0.0348]], device='cuda:0', grad_fn=<SelectBackward0>)\n"
     ]
    },
    {
     "name": "stderr",
     "output_type": "stream",
     "text": [
      "0.00060529:   1%|          | 1/100 [01:31<1:57:12, 71.04s/it]"
     ]
    },
    {
     "name": "stdout",
     "output_type": "stream",
     "text": [
      "tensor([1., 1.], device='cuda:0') tensor([[0.0152, 0.0152, 0.0152, 0.0152, 0.0152, 0.0152, 0.0152, 0.0152, 0.0152,\n",
      "         0.0152, 0.0152, 0.0152, 0.0152, 0.0152, 0.0152, 0.0152, 0.0152, 0.0152,\n",
      "         0.0152, 0.0152, 0.0152, 0.0152, 0.0152, 0.0152, 0.0152, 0.0152, 0.0152,\n",
      "         0.0152, 0.0152, 0.0152, 0.0152, 0.0152, 0.0152, 0.0152, 0.0152, 0.0152,\n",
      "         0.0152, 0.0152, 0.0152, 0.0152, 0.0152, 0.0152, 0.0152, 0.0152, 0.0152,\n",
      "         0.0152, 0.0152, 0.0152, 0.0152, 0.0152],\n",
      "        [0.0157, 0.0157, 0.0157, 0.0157, 0.0157, 0.0157, 0.0157, 0.0157, 0.0157,\n",
      "         0.0157, 0.0157, 0.0157, 0.0157, 0.0157, 0.0157, 0.0157, 0.0157, 0.0157,\n",
      "         0.0157, 0.0157, 0.0157, 0.0157, 0.0157, 0.0157, 0.0157, 0.0157, 0.0157,\n",
      "         0.0157, 0.0157, 0.0157, 0.0157, 0.0157, 0.0157, 0.0157, 0.0157, 0.0157,\n",
      "         0.0157, 0.0157, 0.0157, 0.0157, 0.0157, 0.0157, 0.0157, 0.0157, 0.0157,\n",
      "         0.0157, 0.0157, 0.0157, 0.0157, 0.0157]], device='cuda:0',\n",
      "       grad_fn=<SelectBackward0>)\n"
     ]
    },
    {
     "name": "stderr",
     "output_type": "stream",
     "text": [
      "0.00023917:   1%|          | 1/100 [01:32<1:57:12, 71.04s/it]"
     ]
    },
    {
     "name": "stdout",
     "output_type": "stream",
     "text": [
      "tensor([1., 1.], device='cuda:0') tensor([[-0.0101, -0.0101, -0.0101, -0.0101, -0.0101, -0.0101, -0.0101, -0.0101,\n",
      "         -0.0101, -0.0101, -0.0101, -0.0101, -0.0101, -0.0101, -0.0101, -0.0101,\n",
      "         -0.0101, -0.0101, -0.0101, -0.0101, -0.0101, -0.0101, -0.0101, -0.0101,\n",
      "         -0.0101, -0.0101, -0.0101, -0.0101, -0.0101, -0.0101, -0.0101, -0.0101,\n",
      "         -0.0101, -0.0101, -0.0101, -0.0101, -0.0101, -0.0101, -0.0101, -0.0101,\n",
      "         -0.0101, -0.0101, -0.0101, -0.0101, -0.0101, -0.0101, -0.0101, -0.0101,\n",
      "         -0.0101, -0.0101],\n",
      "        [ 0.0358,  0.0358,  0.0358,  0.0358,  0.0358,  0.0358,  0.0358,  0.0358,\n",
      "          0.0358,  0.0358,  0.0358,  0.0358,  0.0358,  0.0358,  0.0358,  0.0358,\n",
      "          0.0358,  0.0358,  0.0358,  0.0358,  0.0358,  0.0358,  0.0358,  0.0358,\n",
      "          0.0358,  0.0358,  0.0358,  0.0358,  0.0358,  0.0358,  0.0358,  0.0358,\n",
      "          0.0358,  0.0358,  0.0358,  0.0358,  0.0358,  0.0358,  0.0358,  0.0358,\n",
      "          0.0358,  0.0358,  0.0358,  0.0358,  0.0358,  0.0358,  0.0358,  0.0358,\n",
      "          0.0358,  0.0358]], device='cuda:0', grad_fn=<SelectBackward0>)\n"
     ]
    },
    {
     "name": "stderr",
     "output_type": "stream",
     "text": [
      "0.00069149:   1%|          | 1/100 [01:34<1:57:12, 71.04s/it]"
     ]
    },
    {
     "name": "stdout",
     "output_type": "stream",
     "text": [
      "tensor([1., 1.], device='cuda:0') tensor([[ 0.0318,  0.0318,  0.0318,  0.0318,  0.0318,  0.0318,  0.0318,  0.0318,\n",
      "          0.0318,  0.0318,  0.0318,  0.0318,  0.0318,  0.0318,  0.0318,  0.0318,\n",
      "          0.0318,  0.0318,  0.0318,  0.0318,  0.0318,  0.0318,  0.0318,  0.0318,\n",
      "          0.0318,  0.0318,  0.0318,  0.0318,  0.0318,  0.0318,  0.0318,  0.0318,\n",
      "          0.0318,  0.0318,  0.0318,  0.0318,  0.0318,  0.0318,  0.0318,  0.0318,\n",
      "          0.0318,  0.0318,  0.0318,  0.0318,  0.0318,  0.0318,  0.0318,  0.0318,\n",
      "          0.0318,  0.0318],\n",
      "        [-0.0138, -0.0138, -0.0138, -0.0138, -0.0138, -0.0138, -0.0138, -0.0138,\n",
      "         -0.0138, -0.0138, -0.0138, -0.0138, -0.0138, -0.0138, -0.0138, -0.0138,\n",
      "         -0.0138, -0.0138, -0.0138, -0.0138, -0.0138, -0.0138, -0.0138, -0.0138,\n",
      "         -0.0138, -0.0138, -0.0138, -0.0138, -0.0138, -0.0138, -0.0138, -0.0138,\n",
      "         -0.0138, -0.0138, -0.0138, -0.0138, -0.0138, -0.0138, -0.0138, -0.0138,\n",
      "         -0.0138, -0.0138, -0.0138, -0.0138, -0.0138, -0.0138, -0.0138, -0.0138,\n",
      "         -0.0138, -0.0138]], device='cuda:0', grad_fn=<SelectBackward0>)\n"
     ]
    },
    {
     "name": "stderr",
     "output_type": "stream",
     "text": [
      "0.00059979:   1%|          | 1/100 [01:35<1:57:12, 71.04s/it]"
     ]
    },
    {
     "name": "stdout",
     "output_type": "stream",
     "text": [
      "tensor([1., 1.], device='cuda:0') tensor([[ 0.0248,  0.0248,  0.0248,  0.0248,  0.0248,  0.0248,  0.0248,  0.0248,\n",
      "          0.0248,  0.0248,  0.0248,  0.0248,  0.0248,  0.0248,  0.0248,  0.0248,\n",
      "          0.0248,  0.0248,  0.0248,  0.0248,  0.0248,  0.0248,  0.0248,  0.0248,\n",
      "          0.0248,  0.0248,  0.0248,  0.0248,  0.0248,  0.0248,  0.0248,  0.0248,\n",
      "          0.0248,  0.0248,  0.0248,  0.0248,  0.0248,  0.0248,  0.0248,  0.0248,\n",
      "          0.0248,  0.0248,  0.0248,  0.0248,  0.0248,  0.0248,  0.0248,  0.0248,\n",
      "          0.0248,  0.0248],\n",
      "        [-0.0162, -0.0162, -0.0162, -0.0162, -0.0162, -0.0162, -0.0162, -0.0162,\n",
      "         -0.0162, -0.0162, -0.0162, -0.0162, -0.0162, -0.0162, -0.0162, -0.0162,\n",
      "         -0.0162, -0.0162, -0.0162, -0.0162, -0.0162, -0.0162, -0.0162, -0.0162,\n",
      "         -0.0162, -0.0162, -0.0162, -0.0162, -0.0162, -0.0162, -0.0162, -0.0162,\n",
      "         -0.0162, -0.0162, -0.0162, -0.0162, -0.0162, -0.0162, -0.0162, -0.0162,\n",
      "         -0.0162, -0.0162, -0.0162, -0.0162, -0.0162, -0.0162, -0.0162, -0.0162,\n",
      "         -0.0162, -0.0162]], device='cuda:0', grad_fn=<SelectBackward0>)\n"
     ]
    },
    {
     "name": "stderr",
     "output_type": "stream",
     "text": [
      "0.00043896:   1%|          | 1/100 [01:36<1:57:12, 71.04s/it]"
     ]
    },
    {
     "name": "stdout",
     "output_type": "stream",
     "text": [
      "tensor([1., 1.], device='cuda:0') tensor([[ 0.0160,  0.0160,  0.0160,  0.0160,  0.0160,  0.0160,  0.0160,  0.0160,\n",
      "          0.0160,  0.0160,  0.0160,  0.0160,  0.0160,  0.0160,  0.0160,  0.0160,\n",
      "          0.0160,  0.0160,  0.0160,  0.0160,  0.0160,  0.0160,  0.0160,  0.0160,\n",
      "          0.0160,  0.0160,  0.0160,  0.0160,  0.0160,  0.0160,  0.0160,  0.0160,\n",
      "          0.0160,  0.0160,  0.0160,  0.0160,  0.0160,  0.0160,  0.0160,  0.0160,\n",
      "          0.0160,  0.0160,  0.0160,  0.0160,  0.0160,  0.0160,  0.0160,  0.0160,\n",
      "          0.0160,  0.0160],\n",
      "        [-0.0171, -0.0171, -0.0171, -0.0171, -0.0171, -0.0171, -0.0171, -0.0171,\n",
      "         -0.0171, -0.0171, -0.0171, -0.0171, -0.0171, -0.0171, -0.0171, -0.0171,\n",
      "         -0.0171, -0.0171, -0.0171, -0.0171, -0.0171, -0.0171, -0.0171, -0.0171,\n",
      "         -0.0171, -0.0171, -0.0171, -0.0171, -0.0171, -0.0171, -0.0171, -0.0171,\n",
      "         -0.0171, -0.0171, -0.0171, -0.0171, -0.0171, -0.0171, -0.0171, -0.0171,\n",
      "         -0.0171, -0.0171, -0.0171, -0.0171, -0.0171, -0.0171, -0.0171, -0.0171,\n",
      "         -0.0171, -0.0171]], device='cuda:0', grad_fn=<SelectBackward0>)\n"
     ]
    },
    {
     "name": "stderr",
     "output_type": "stream",
     "text": [
      "0.00027368:   1%|          | 1/100 [01:38<1:57:12, 71.04s/it]"
     ]
    },
    {
     "name": "stdout",
     "output_type": "stream",
     "text": [
      "tensor([1., 1.], device='cuda:0') tensor([[-0.0166, -0.0166, -0.0166, -0.0166, -0.0166, -0.0166, -0.0166, -0.0166,\n",
      "         -0.0166, -0.0166, -0.0166, -0.0166, -0.0166, -0.0166, -0.0166, -0.0166,\n",
      "         -0.0166, -0.0166, -0.0166, -0.0166, -0.0166, -0.0166, -0.0166, -0.0166,\n",
      "         -0.0166, -0.0166, -0.0166, -0.0166, -0.0166, -0.0166, -0.0166, -0.0166,\n",
      "         -0.0166, -0.0166, -0.0166, -0.0166, -0.0166, -0.0166, -0.0166, -0.0166,\n",
      "         -0.0166, -0.0166, -0.0166, -0.0166, -0.0166, -0.0166, -0.0166, -0.0166,\n",
      "         -0.0166, -0.0166],\n",
      "        [ 0.0063,  0.0063,  0.0063,  0.0063,  0.0063,  0.0063,  0.0063,  0.0063,\n",
      "          0.0063,  0.0063,  0.0063,  0.0063,  0.0063,  0.0063,  0.0063,  0.0063,\n",
      "          0.0063,  0.0063,  0.0063,  0.0063,  0.0063,  0.0063,  0.0063,  0.0063,\n",
      "          0.0063,  0.0063,  0.0063,  0.0063,  0.0063,  0.0063,  0.0063,  0.0063,\n",
      "          0.0063,  0.0063,  0.0063,  0.0063,  0.0063,  0.0063,  0.0063,  0.0063,\n",
      "          0.0063,  0.0063,  0.0063,  0.0063,  0.0063,  0.0063,  0.0063,  0.0063,\n",
      "          0.0063,  0.0063]], device='cuda:0', grad_fn=<SelectBackward0>)\n"
     ]
    },
    {
     "name": "stderr",
     "output_type": "stream",
     "text": [
      "0.00015756:   1%|          | 1/100 [01:39<1:57:12, 71.04s/it]"
     ]
    },
    {
     "name": "stdout",
     "output_type": "stream",
     "text": [
      "tensor([1., 1.], device='cuda:0') tensor([[-0.0030, -0.0030, -0.0030, -0.0030, -0.0030, -0.0030, -0.0030, -0.0030,\n",
      "         -0.0030, -0.0030, -0.0030, -0.0030, -0.0030, -0.0030, -0.0030, -0.0030,\n",
      "         -0.0030, -0.0030, -0.0030, -0.0030, -0.0030, -0.0030, -0.0030, -0.0030,\n",
      "         -0.0030, -0.0030, -0.0030, -0.0030, -0.0030, -0.0030, -0.0030, -0.0030,\n",
      "         -0.0030, -0.0030, -0.0030, -0.0030, -0.0030, -0.0030, -0.0030, -0.0030,\n",
      "         -0.0030, -0.0030, -0.0030, -0.0030, -0.0030, -0.0030, -0.0030, -0.0030,\n",
      "         -0.0030, -0.0030],\n",
      "        [-0.0148, -0.0148, -0.0148, -0.0148, -0.0148, -0.0148, -0.0148, -0.0148,\n",
      "         -0.0148, -0.0148, -0.0148, -0.0148, -0.0148, -0.0148, -0.0148, -0.0148,\n",
      "         -0.0148, -0.0148, -0.0148, -0.0148, -0.0148, -0.0148, -0.0148, -0.0148,\n",
      "         -0.0148, -0.0148, -0.0148, -0.0148, -0.0148, -0.0148, -0.0148, -0.0148,\n",
      "         -0.0148, -0.0148, -0.0148, -0.0148, -0.0148, -0.0148, -0.0148, -0.0148,\n",
      "         -0.0148, -0.0148, -0.0148, -0.0148, -0.0148, -0.0148, -0.0148, -0.0148,\n",
      "         -0.0148, -0.0148]], device='cuda:0', grad_fn=<SelectBackward0>)\n"
     ]
    },
    {
     "name": "stderr",
     "output_type": "stream",
     "text": [
      "0.00011415:   1%|          | 1/100 [01:40<1:57:12, 71.04s/it]"
     ]
    },
    {
     "name": "stdout",
     "output_type": "stream",
     "text": [
      "tensor([1., 1.], device='cuda:0') tensor([[-0.0112, -0.0112, -0.0112, -0.0112, -0.0112, -0.0112, -0.0112, -0.0112,\n",
      "         -0.0112, -0.0112, -0.0112, -0.0112, -0.0112, -0.0112, -0.0112, -0.0112,\n",
      "         -0.0112, -0.0112, -0.0112, -0.0112, -0.0112, -0.0112, -0.0112, -0.0112,\n",
      "         -0.0112, -0.0112, -0.0112, -0.0112, -0.0112, -0.0112, -0.0112, -0.0112,\n",
      "         -0.0112, -0.0112, -0.0112, -0.0112, -0.0112, -0.0112, -0.0112, -0.0112,\n",
      "         -0.0112, -0.0112, -0.0112, -0.0112, -0.0112, -0.0112, -0.0112, -0.0112,\n",
      "         -0.0112, -0.0112],\n",
      "        [-0.0120, -0.0120, -0.0120, -0.0120, -0.0120, -0.0120, -0.0120, -0.0120,\n",
      "         -0.0120, -0.0120, -0.0120, -0.0120, -0.0120, -0.0120, -0.0120, -0.0120,\n",
      "         -0.0120, -0.0120, -0.0120, -0.0120, -0.0120, -0.0120, -0.0120, -0.0120,\n",
      "         -0.0120, -0.0120, -0.0120, -0.0120, -0.0120, -0.0120, -0.0120, -0.0120,\n",
      "         -0.0120, -0.0120, -0.0120, -0.0120, -0.0120, -0.0120, -0.0120, -0.0120,\n",
      "         -0.0120, -0.0120, -0.0120, -0.0120, -0.0120, -0.0120, -0.0120, -0.0120,\n",
      "         -0.0120, -0.0120]], device='cuda:0', grad_fn=<SelectBackward0>)\n"
     ]
    },
    {
     "name": "stderr",
     "output_type": "stream",
     "text": [
      "0.00013365:   1%|          | 1/100 [01:42<1:57:12, 71.04s/it]"
     ]
    },
    {
     "name": "stdout",
     "output_type": "stream",
     "text": [
      "tensor([1., 1.], device='cuda:0') tensor([[-0.0083, -0.0083, -0.0083, -0.0083, -0.0083, -0.0083, -0.0083, -0.0083,\n",
      "         -0.0083, -0.0083, -0.0083, -0.0083, -0.0083, -0.0083, -0.0083, -0.0083,\n",
      "         -0.0083, -0.0083, -0.0083, -0.0083, -0.0083, -0.0083, -0.0083, -0.0083,\n",
      "         -0.0083, -0.0083, -0.0083, -0.0083, -0.0083, -0.0083, -0.0083, -0.0083,\n",
      "         -0.0083, -0.0083, -0.0083, -0.0083, -0.0083, -0.0083, -0.0083, -0.0083,\n",
      "         -0.0083, -0.0083, -0.0083, -0.0083, -0.0083, -0.0083, -0.0083, -0.0083,\n",
      "         -0.0083, -0.0083],\n",
      "        [-0.0173, -0.0173, -0.0173, -0.0173, -0.0173, -0.0173, -0.0173, -0.0173,\n",
      "         -0.0173, -0.0173, -0.0173, -0.0173, -0.0173, -0.0173, -0.0173, -0.0173,\n",
      "         -0.0173, -0.0173, -0.0173, -0.0173, -0.0173, -0.0173, -0.0173, -0.0173,\n",
      "         -0.0173, -0.0173, -0.0173, -0.0173, -0.0173, -0.0173, -0.0173, -0.0173,\n",
      "         -0.0173, -0.0173, -0.0173, -0.0173, -0.0173, -0.0173, -0.0173, -0.0173,\n",
      "         -0.0173, -0.0173, -0.0173, -0.0173, -0.0173, -0.0173, -0.0173, -0.0173,\n",
      "         -0.0173, -0.0173]], device='cuda:0', grad_fn=<SelectBackward0>)\n"
     ]
    },
    {
     "name": "stderr",
     "output_type": "stream",
     "text": [
      "0.00018365:   1%|          | 1/100 [01:43<1:57:12, 71.04s/it]"
     ]
    },
    {
     "name": "stdout",
     "output_type": "stream",
     "text": [
      "tensor([1., 1.], device='cuda:0') tensor([[-0.0043, -0.0043, -0.0043, -0.0043, -0.0043, -0.0043, -0.0043, -0.0043,\n",
      "         -0.0043, -0.0043, -0.0043, -0.0043, -0.0043, -0.0043, -0.0043, -0.0043,\n",
      "         -0.0043, -0.0043, -0.0043, -0.0043, -0.0043, -0.0043, -0.0043, -0.0043,\n",
      "         -0.0043, -0.0043, -0.0043, -0.0043, -0.0043, -0.0043, -0.0043, -0.0043,\n",
      "         -0.0043, -0.0043, -0.0043, -0.0043, -0.0043, -0.0043, -0.0043, -0.0043,\n",
      "         -0.0043, -0.0043, -0.0043, -0.0043, -0.0043, -0.0043, -0.0043, -0.0043,\n",
      "         -0.0043, -0.0043],\n",
      "        [-0.0209, -0.0209, -0.0209, -0.0209, -0.0209, -0.0209, -0.0209, -0.0209,\n",
      "         -0.0209, -0.0209, -0.0209, -0.0209, -0.0209, -0.0209, -0.0209, -0.0209,\n",
      "         -0.0209, -0.0209, -0.0209, -0.0209, -0.0209, -0.0209, -0.0209, -0.0209,\n",
      "         -0.0209, -0.0209, -0.0209, -0.0209, -0.0209, -0.0209, -0.0209, -0.0209,\n",
      "         -0.0209, -0.0209, -0.0209, -0.0209, -0.0209, -0.0209, -0.0209, -0.0209,\n",
      "         -0.0209, -0.0209, -0.0209, -0.0209, -0.0209, -0.0209, -0.0209, -0.0209,\n",
      "         -0.0209, -0.0209]], device='cuda:0', grad_fn=<SelectBackward0>)\n"
     ]
    },
    {
     "name": "stderr",
     "output_type": "stream",
     "text": [
      "0.00022711:   1%|          | 1/100 [01:45<1:57:12, 71.04s/it]"
     ]
    },
    {
     "name": "stdout",
     "output_type": "stream",
     "text": [
      "tensor([1., 1.], device='cuda:0') tensor([[-0.0218, -0.0218, -0.0218, -0.0218, -0.0218, -0.0218, -0.0218, -0.0218,\n",
      "         -0.0218, -0.0218, -0.0218, -0.0218, -0.0218, -0.0218, -0.0218, -0.0218,\n",
      "         -0.0218, -0.0218, -0.0218, -0.0218, -0.0218, -0.0218, -0.0218, -0.0218,\n",
      "         -0.0218, -0.0218, -0.0218, -0.0218, -0.0218, -0.0218, -0.0218, -0.0218,\n",
      "         -0.0218, -0.0218, -0.0218, -0.0218, -0.0218, -0.0218, -0.0218, -0.0218,\n",
      "         -0.0218, -0.0218, -0.0218, -0.0218, -0.0218, -0.0218, -0.0218, -0.0218,\n",
      "         -0.0218, -0.0218],\n",
      "        [-0.0002, -0.0002, -0.0002, -0.0002, -0.0002, -0.0002, -0.0002, -0.0002,\n",
      "         -0.0002, -0.0002, -0.0002, -0.0002, -0.0002, -0.0002, -0.0002, -0.0002,\n",
      "         -0.0002, -0.0002, -0.0002, -0.0002, -0.0002, -0.0002, -0.0002, -0.0002,\n",
      "         -0.0002, -0.0002, -0.0002, -0.0002, -0.0002, -0.0002, -0.0002, -0.0002,\n",
      "         -0.0002, -0.0002, -0.0002, -0.0002, -0.0002, -0.0002, -0.0002, -0.0002,\n",
      "         -0.0002, -0.0002, -0.0002, -0.0002, -0.0002, -0.0002, -0.0002, -0.0002,\n",
      "         -0.0002, -0.0002]], device='cuda:0', grad_fn=<SelectBackward0>)\n"
     ]
    },
    {
     "name": "stderr",
     "output_type": "stream",
     "text": [
      "0.00023861:   1%|          | 1/100 [01:46<1:57:12, 71.04s/it]"
     ]
    },
    {
     "name": "stdout",
     "output_type": "stream",
     "text": [
      "tensor([1., 1.], device='cuda:0') tensor([[ 0.0036,  0.0036,  0.0036,  0.0036,  0.0036,  0.0036,  0.0036,  0.0036,\n",
      "          0.0036,  0.0036,  0.0036,  0.0036,  0.0036,  0.0036,  0.0036,  0.0036,\n",
      "          0.0036,  0.0036,  0.0036,  0.0036,  0.0036,  0.0036,  0.0036,  0.0036,\n",
      "          0.0036,  0.0036,  0.0036,  0.0036,  0.0036,  0.0036,  0.0036,  0.0036,\n",
      "          0.0036,  0.0036,  0.0036,  0.0036,  0.0036,  0.0036,  0.0036,  0.0036,\n",
      "          0.0036,  0.0036,  0.0036,  0.0036,  0.0036,  0.0036,  0.0036,  0.0036,\n",
      "          0.0036,  0.0036],\n",
      "        [-0.0203, -0.0203, -0.0203, -0.0203, -0.0203, -0.0203, -0.0203, -0.0203,\n",
      "         -0.0203, -0.0203, -0.0203, -0.0203, -0.0203, -0.0203, -0.0203, -0.0203,\n",
      "         -0.0203, -0.0203, -0.0203, -0.0203, -0.0203, -0.0203, -0.0203, -0.0203,\n",
      "         -0.0203, -0.0203, -0.0203, -0.0203, -0.0203, -0.0203, -0.0203, -0.0203,\n",
      "         -0.0203, -0.0203, -0.0203, -0.0203, -0.0203, -0.0203, -0.0203, -0.0203,\n",
      "         -0.0203, -0.0203, -0.0203, -0.0203, -0.0203, -0.0203, -0.0203, -0.0203,\n",
      "         -0.0203, -0.0203]], device='cuda:0', grad_fn=<SelectBackward0>)\n"
     ]
    },
    {
     "name": "stderr",
     "output_type": "stream",
     "text": [
      "0.00021269:   1%|          | 1/100 [01:48<1:57:12, 71.04s/it]"
     ]
    },
    {
     "name": "stdout",
     "output_type": "stream",
     "text": [
      "tensor([1., 1.], device='cuda:0') tensor([[ 0.0068,  0.0068,  0.0068,  0.0068,  0.0068,  0.0068,  0.0068,  0.0068,\n",
      "          0.0068,  0.0068,  0.0068,  0.0068,  0.0068,  0.0068,  0.0068,  0.0068,\n",
      "          0.0068,  0.0068,  0.0068,  0.0068,  0.0068,  0.0068,  0.0068,  0.0068,\n",
      "          0.0068,  0.0068,  0.0068,  0.0068,  0.0068,  0.0068,  0.0068,  0.0068,\n",
      "          0.0068,  0.0068,  0.0068,  0.0068,  0.0068,  0.0068,  0.0068,  0.0068,\n",
      "          0.0068,  0.0068,  0.0068,  0.0068,  0.0068,  0.0068,  0.0068,  0.0068,\n",
      "          0.0068,  0.0068],\n",
      "        [-0.0167, -0.0167, -0.0167, -0.0167, -0.0167, -0.0167, -0.0167, -0.0167,\n",
      "         -0.0167, -0.0167, -0.0167, -0.0167, -0.0167, -0.0167, -0.0167, -0.0167,\n",
      "         -0.0167, -0.0167, -0.0167, -0.0167, -0.0167, -0.0167, -0.0167, -0.0167,\n",
      "         -0.0167, -0.0167, -0.0167, -0.0167, -0.0167, -0.0167, -0.0167, -0.0167,\n",
      "         -0.0167, -0.0167, -0.0167, -0.0167, -0.0167, -0.0167, -0.0167, -0.0167,\n",
      "         -0.0167, -0.0167, -0.0167, -0.0167, -0.0167, -0.0167, -0.0167, -0.0167,\n",
      "         -0.0167, -0.0167]], device='cuda:0', grad_fn=<SelectBackward0>)\n"
     ]
    },
    {
     "name": "stderr",
     "output_type": "stream",
     "text": [
      "0.00016208:   1%|          | 1/100 [01:49<1:57:12, 71.04s/it]"
     ]
    },
    {
     "name": "stdout",
     "output_type": "stream",
     "text": [
      "tensor([1., 1.], device='cuda:0') tensor([[ 0.0091,  0.0091,  0.0091,  0.0091,  0.0091,  0.0091,  0.0091,  0.0091,\n",
      "          0.0091,  0.0091,  0.0091,  0.0091,  0.0091,  0.0091,  0.0091,  0.0091,\n",
      "          0.0091,  0.0091,  0.0091,  0.0091,  0.0091,  0.0091,  0.0091,  0.0091,\n",
      "          0.0091,  0.0091,  0.0091,  0.0091,  0.0091,  0.0091,  0.0091,  0.0091,\n",
      "          0.0091,  0.0091,  0.0091,  0.0091,  0.0091,  0.0091,  0.0091,  0.0091,\n",
      "          0.0091,  0.0091,  0.0091,  0.0091,  0.0091,  0.0091,  0.0091,  0.0091,\n",
      "          0.0091,  0.0091],\n",
      "        [-0.0116, -0.0116, -0.0116, -0.0116, -0.0116, -0.0116, -0.0116, -0.0116,\n",
      "         -0.0116, -0.0116, -0.0116, -0.0116, -0.0116, -0.0116, -0.0116, -0.0116,\n",
      "         -0.0116, -0.0116, -0.0116, -0.0116, -0.0116, -0.0116, -0.0116, -0.0116,\n",
      "         -0.0116, -0.0116, -0.0116, -0.0116, -0.0116, -0.0116, -0.0116, -0.0116,\n",
      "         -0.0116, -0.0116, -0.0116, -0.0116, -0.0116, -0.0116, -0.0116, -0.0116,\n",
      "         -0.0116, -0.0116, -0.0116, -0.0116, -0.0116, -0.0116, -0.0116, -0.0116,\n",
      "         -0.0116, -0.0116]], device='cuda:0', grad_fn=<SelectBackward0>)\n"
     ]
    },
    {
     "name": "stderr",
     "output_type": "stream",
     "text": [
      "0.00010857:   1%|          | 1/100 [01:50<1:57:12, 71.04s/it]"
     ]
    },
    {
     "name": "stdout",
     "output_type": "stream",
     "text": [
      "tensor([1., 1.], device='cuda:0') tensor([[ 0.0105,  0.0105,  0.0105,  0.0105,  0.0105,  0.0105,  0.0105,  0.0105,\n",
      "          0.0105,  0.0105,  0.0105,  0.0105,  0.0105,  0.0105,  0.0105,  0.0105,\n",
      "          0.0105,  0.0105,  0.0105,  0.0105,  0.0105,  0.0105,  0.0105,  0.0105,\n",
      "          0.0105,  0.0105,  0.0105,  0.0105,  0.0105,  0.0105,  0.0105,  0.0105,\n",
      "          0.0105,  0.0105,  0.0105,  0.0105,  0.0105,  0.0105,  0.0105,  0.0105,\n",
      "          0.0105,  0.0105,  0.0105,  0.0105,  0.0105,  0.0105,  0.0105,  0.0105,\n",
      "          0.0105,  0.0105],\n",
      "        [-0.0056, -0.0056, -0.0056, -0.0056, -0.0056, -0.0056, -0.0056, -0.0056,\n",
      "         -0.0056, -0.0056, -0.0056, -0.0056, -0.0056, -0.0056, -0.0056, -0.0056,\n",
      "         -0.0056, -0.0056, -0.0056, -0.0056, -0.0056, -0.0056, -0.0056, -0.0056,\n",
      "         -0.0056, -0.0056, -0.0056, -0.0056, -0.0056, -0.0056, -0.0056, -0.0056,\n",
      "         -0.0056, -0.0056, -0.0056, -0.0056, -0.0056, -0.0056, -0.0056, -0.0056,\n",
      "         -0.0056, -0.0056, -0.0056, -0.0056, -0.0056, -0.0056, -0.0056, -0.0056,\n",
      "         -0.0056, -0.0056]], device='cuda:0', grad_fn=<SelectBackward0>)\n"
     ]
    },
    {
     "name": "stderr",
     "output_type": "stream",
     "text": [
      "0.00007153:   1%|          | 1/100 [01:52<1:57:12, 71.04s/it]"
     ]
    },
    {
     "name": "stdout",
     "output_type": "stream",
     "text": [
      "tensor([1., 1.], device='cuda:0') tensor([[0.0003, 0.0003, 0.0003, 0.0003, 0.0003, 0.0003, 0.0003, 0.0003, 0.0003,\n",
      "         0.0003, 0.0003, 0.0003, 0.0003, 0.0003, 0.0003, 0.0003, 0.0003, 0.0003,\n",
      "         0.0003, 0.0003, 0.0003, 0.0003, 0.0003, 0.0003, 0.0003, 0.0003, 0.0003,\n",
      "         0.0003, 0.0003, 0.0003, 0.0003, 0.0003, 0.0003, 0.0003, 0.0003, 0.0003,\n",
      "         0.0003, 0.0003, 0.0003, 0.0003, 0.0003, 0.0003, 0.0003, 0.0003, 0.0003,\n",
      "         0.0003, 0.0003, 0.0003, 0.0003, 0.0003],\n",
      "        [0.0109, 0.0109, 0.0109, 0.0109, 0.0109, 0.0109, 0.0109, 0.0109, 0.0109,\n",
      "         0.0109, 0.0109, 0.0109, 0.0109, 0.0109, 0.0109, 0.0109, 0.0109, 0.0109,\n",
      "         0.0109, 0.0109, 0.0109, 0.0109, 0.0109, 0.0109, 0.0109, 0.0109, 0.0109,\n",
      "         0.0109, 0.0109, 0.0109, 0.0109, 0.0109, 0.0109, 0.0109, 0.0109, 0.0109,\n",
      "         0.0109, 0.0109, 0.0109, 0.0109, 0.0109, 0.0109, 0.0109, 0.0109, 0.0109,\n",
      "         0.0109, 0.0109, 0.0109, 0.0109, 0.0109]], device='cuda:0',\n",
      "       grad_fn=<SelectBackward0>)\n"
     ]
    },
    {
     "name": "stderr",
     "output_type": "stream",
     "text": [
      "0.00005967:   1%|          | 1/100 [01:53<1:57:12, 71.04s/it]"
     ]
    },
    {
     "name": "stdout",
     "output_type": "stream",
     "text": [
      "tensor([1., 1.], device='cuda:0') tensor([[0.0103, 0.0103, 0.0103, 0.0103, 0.0103, 0.0103, 0.0103, 0.0103, 0.0103,\n",
      "         0.0103, 0.0103, 0.0103, 0.0103, 0.0103, 0.0103, 0.0103, 0.0103, 0.0103,\n",
      "         0.0103, 0.0103, 0.0103, 0.0103, 0.0103, 0.0103, 0.0103, 0.0103, 0.0103,\n",
      "         0.0103, 0.0103, 0.0103, 0.0103, 0.0103, 0.0103, 0.0103, 0.0103, 0.0103,\n",
      "         0.0103, 0.0103, 0.0103, 0.0103, 0.0103, 0.0103, 0.0103, 0.0103, 0.0103,\n",
      "         0.0103, 0.0103, 0.0103, 0.0103, 0.0103],\n",
      "        [0.0056, 0.0056, 0.0056, 0.0056, 0.0056, 0.0056, 0.0056, 0.0056, 0.0056,\n",
      "         0.0056, 0.0056, 0.0056, 0.0056, 0.0056, 0.0056, 0.0056, 0.0056, 0.0056,\n",
      "         0.0056, 0.0056, 0.0056, 0.0056, 0.0056, 0.0056, 0.0056, 0.0056, 0.0056,\n",
      "         0.0056, 0.0056, 0.0056, 0.0056, 0.0056, 0.0056, 0.0056, 0.0056, 0.0056,\n",
      "         0.0056, 0.0056, 0.0056, 0.0056, 0.0056, 0.0056, 0.0056, 0.0056, 0.0056,\n",
      "         0.0056, 0.0056, 0.0056, 0.0056, 0.0056]], device='cuda:0',\n",
      "       grad_fn=<SelectBackward0>)\n"
     ]
    },
    {
     "name": "stderr",
     "output_type": "stream",
     "text": [
      "0.00006897:   1%|          | 1/100 [01:55<1:57:12, 71.04s/it]"
     ]
    },
    {
     "name": "stdout",
     "output_type": "stream",
     "text": [
      "tensor([1., 1.], device='cuda:0') tensor([[0.0098, 0.0098, 0.0098, 0.0098, 0.0098, 0.0098, 0.0098, 0.0098, 0.0098,\n",
      "         0.0098, 0.0098, 0.0098, 0.0098, 0.0098, 0.0098, 0.0098, 0.0098, 0.0098,\n",
      "         0.0098, 0.0098, 0.0098, 0.0098, 0.0098, 0.0098, 0.0098, 0.0098, 0.0098,\n",
      "         0.0098, 0.0098, 0.0098, 0.0098, 0.0098, 0.0098, 0.0098, 0.0098, 0.0098,\n",
      "         0.0098, 0.0098, 0.0098, 0.0098, 0.0098, 0.0098, 0.0098, 0.0098, 0.0098,\n",
      "         0.0098, 0.0098, 0.0098, 0.0098, 0.0098],\n",
      "        [0.0088, 0.0088, 0.0088, 0.0088, 0.0088, 0.0088, 0.0088, 0.0088, 0.0088,\n",
      "         0.0088, 0.0088, 0.0088, 0.0088, 0.0088, 0.0088, 0.0088, 0.0088, 0.0088,\n",
      "         0.0088, 0.0088, 0.0088, 0.0088, 0.0088, 0.0088, 0.0088, 0.0088, 0.0088,\n",
      "         0.0088, 0.0088, 0.0088, 0.0088, 0.0088, 0.0088, 0.0088, 0.0088, 0.0088,\n",
      "         0.0088, 0.0088, 0.0088, 0.0088, 0.0088, 0.0088, 0.0088, 0.0088, 0.0088,\n",
      "         0.0088, 0.0088, 0.0088, 0.0088, 0.0088]], device='cuda:0',\n",
      "       grad_fn=<SelectBackward0>)\n"
     ]
    },
    {
     "name": "stderr",
     "output_type": "stream",
     "text": [
      "0.00008667:   1%|          | 1/100 [01:56<1:57:12, 71.04s/it]"
     ]
    },
    {
     "name": "stdout",
     "output_type": "stream",
     "text": [
      "tensor([1., 1.], device='cuda:0') tensor([[0.0067, 0.0067, 0.0067, 0.0067, 0.0067, 0.0067, 0.0067, 0.0067, 0.0067,\n",
      "         0.0067, 0.0067, 0.0067, 0.0067, 0.0067, 0.0067, 0.0067, 0.0067, 0.0067,\n",
      "         0.0067, 0.0067, 0.0067, 0.0067, 0.0067, 0.0067, 0.0067, 0.0067, 0.0067,\n",
      "         0.0067, 0.0067, 0.0067, 0.0067, 0.0067, 0.0067, 0.0067, 0.0067, 0.0067,\n",
      "         0.0067, 0.0067, 0.0067, 0.0067, 0.0067, 0.0067, 0.0067, 0.0067, 0.0067,\n",
      "         0.0067, 0.0067, 0.0067, 0.0067, 0.0067],\n",
      "        [0.0124, 0.0124, 0.0124, 0.0124, 0.0124, 0.0124, 0.0124, 0.0124, 0.0124,\n",
      "         0.0124, 0.0124, 0.0124, 0.0124, 0.0124, 0.0124, 0.0124, 0.0124, 0.0124,\n",
      "         0.0124, 0.0124, 0.0124, 0.0124, 0.0124, 0.0124, 0.0124, 0.0124, 0.0124,\n",
      "         0.0124, 0.0124, 0.0124, 0.0124, 0.0124, 0.0124, 0.0124, 0.0124, 0.0124,\n",
      "         0.0124, 0.0124, 0.0124, 0.0124, 0.0124, 0.0124, 0.0124, 0.0124, 0.0124,\n",
      "         0.0124, 0.0124, 0.0124, 0.0124, 0.0124]], device='cuda:0',\n",
      "       grad_fn=<SelectBackward0>)\n"
     ]
    },
    {
     "name": "stderr",
     "output_type": "stream",
     "text": [
      "0.00009861:   1%|          | 1/100 [01:57<1:57:12, 71.04s/it]"
     ]
    },
    {
     "name": "stdout",
     "output_type": "stream",
     "text": [
      "tensor([1., 1.], device='cuda:0') tensor([[0.0132, 0.0132, 0.0132, 0.0132, 0.0132, 0.0132, 0.0132, 0.0132, 0.0132,\n",
      "         0.0132, 0.0132, 0.0132, 0.0132, 0.0132, 0.0132, 0.0132, 0.0132, 0.0132,\n",
      "         0.0132, 0.0132, 0.0132, 0.0132, 0.0132, 0.0132, 0.0132, 0.0132, 0.0132,\n",
      "         0.0132, 0.0132, 0.0132, 0.0132, 0.0132, 0.0132, 0.0132, 0.0132, 0.0132,\n",
      "         0.0132, 0.0132, 0.0132, 0.0132, 0.0132, 0.0132, 0.0132, 0.0132, 0.0132,\n",
      "         0.0132, 0.0132, 0.0132, 0.0132, 0.0132],\n",
      "        [0.0041, 0.0041, 0.0041, 0.0041, 0.0041, 0.0041, 0.0041, 0.0041, 0.0041,\n",
      "         0.0041, 0.0041, 0.0041, 0.0041, 0.0041, 0.0041, 0.0041, 0.0041, 0.0041,\n",
      "         0.0041, 0.0041, 0.0041, 0.0041, 0.0041, 0.0041, 0.0041, 0.0041, 0.0041,\n",
      "         0.0041, 0.0041, 0.0041, 0.0041, 0.0041, 0.0041, 0.0041, 0.0041, 0.0041,\n",
      "         0.0041, 0.0041, 0.0041, 0.0041, 0.0041, 0.0041, 0.0041, 0.0041, 0.0041,\n",
      "         0.0041, 0.0041, 0.0041, 0.0041, 0.0041]], device='cuda:0',\n",
      "       grad_fn=<SelectBackward0>)\n"
     ]
    },
    {
     "name": "stderr",
     "output_type": "stream",
     "text": [
      "0.00009602:   1%|          | 1/100 [01:59<1:57:12, 71.04s/it]"
     ]
    },
    {
     "name": "stdout",
     "output_type": "stream",
     "text": [
      "tensor([1., 1.], device='cuda:0') tensor([[0.0125, 0.0125, 0.0125, 0.0125, 0.0125, 0.0125, 0.0125, 0.0125, 0.0125,\n",
      "         0.0125, 0.0125, 0.0125, 0.0125, 0.0125, 0.0125, 0.0125, 0.0125, 0.0125,\n",
      "         0.0125, 0.0125, 0.0125, 0.0125, 0.0125, 0.0125, 0.0125, 0.0125, 0.0125,\n",
      "         0.0125, 0.0125, 0.0125, 0.0125, 0.0125, 0.0125, 0.0125, 0.0125, 0.0125,\n",
      "         0.0125, 0.0125, 0.0125, 0.0125, 0.0125, 0.0125, 0.0125, 0.0125, 0.0125,\n",
      "         0.0125, 0.0125, 0.0125, 0.0125, 0.0125],\n",
      "        [0.0013, 0.0013, 0.0013, 0.0013, 0.0013, 0.0013, 0.0013, 0.0013, 0.0013,\n",
      "         0.0013, 0.0013, 0.0013, 0.0013, 0.0013, 0.0013, 0.0013, 0.0013, 0.0013,\n",
      "         0.0013, 0.0013, 0.0013, 0.0013, 0.0013, 0.0013, 0.0013, 0.0013, 0.0013,\n",
      "         0.0013, 0.0013, 0.0013, 0.0013, 0.0013, 0.0013, 0.0013, 0.0013, 0.0013,\n",
      "         0.0013, 0.0013, 0.0013, 0.0013, 0.0013, 0.0013, 0.0013, 0.0013, 0.0013,\n",
      "         0.0013, 0.0013, 0.0013, 0.0013, 0.0013]], device='cuda:0',\n",
      "       grad_fn=<SelectBackward0>)\n"
     ]
    },
    {
     "name": "stderr",
     "output_type": "stream",
     "text": [
      "0.00007880:   1%|          | 1/100 [02:00<1:57:12, 71.04s/it]"
     ]
    },
    {
     "name": "stdout",
     "output_type": "stream",
     "text": [
      "tensor([1., 1.], device='cuda:0') tensor([[-0.0014, -0.0014, -0.0014, -0.0014, -0.0014, -0.0014, -0.0014, -0.0014,\n",
      "         -0.0014, -0.0014, -0.0014, -0.0014, -0.0014, -0.0014, -0.0014, -0.0014,\n",
      "         -0.0014, -0.0014, -0.0014, -0.0014, -0.0014, -0.0014, -0.0014, -0.0014,\n",
      "         -0.0014, -0.0014, -0.0014, -0.0014, -0.0014, -0.0014, -0.0014, -0.0014,\n",
      "         -0.0014, -0.0014, -0.0014, -0.0014, -0.0014, -0.0014, -0.0014, -0.0014,\n",
      "         -0.0014, -0.0014, -0.0014, -0.0014, -0.0014, -0.0014, -0.0014, -0.0014,\n",
      "         -0.0014, -0.0014],\n",
      "        [ 0.0103,  0.0103,  0.0103,  0.0103,  0.0103,  0.0103,  0.0103,  0.0103,\n",
      "          0.0103,  0.0103,  0.0103,  0.0103,  0.0103,  0.0103,  0.0103,  0.0103,\n",
      "          0.0103,  0.0103,  0.0103,  0.0103,  0.0103,  0.0103,  0.0103,  0.0103,\n",
      "          0.0103,  0.0103,  0.0103,  0.0103,  0.0103,  0.0103,  0.0103,  0.0103,\n",
      "          0.0103,  0.0103,  0.0103,  0.0103,  0.0103,  0.0103,  0.0103,  0.0103,\n",
      "          0.0103,  0.0103,  0.0103,  0.0103,  0.0103,  0.0103,  0.0103,  0.0103,\n",
      "          0.0103,  0.0103]], device='cuda:0', grad_fn=<SelectBackward0>)\n"
     ]
    },
    {
     "name": "stderr",
     "output_type": "stream",
     "text": [
      "0.00005421:   1%|          | 1/100 [02:01<1:57:12, 71.04s/it]"
     ]
    },
    {
     "name": "stdout",
     "output_type": "stream",
     "text": [
      "tensor([1., 1.], device='cuda:0') tensor([[ 0.0072,  0.0072,  0.0072,  0.0072,  0.0072,  0.0072,  0.0072,  0.0072,\n",
      "          0.0072,  0.0072,  0.0072,  0.0072,  0.0072,  0.0072,  0.0072,  0.0072,\n",
      "          0.0072,  0.0072,  0.0072,  0.0072,  0.0072,  0.0072,  0.0072,  0.0072,\n",
      "          0.0072,  0.0072,  0.0072,  0.0072,  0.0072,  0.0072,  0.0072,  0.0072,\n",
      "          0.0072,  0.0072,  0.0072,  0.0072,  0.0072,  0.0072,  0.0072,  0.0072,\n",
      "          0.0072,  0.0072,  0.0072,  0.0072,  0.0072,  0.0072,  0.0072,  0.0072,\n",
      "          0.0072,  0.0072],\n",
      "        [-0.0037, -0.0037, -0.0037, -0.0037, -0.0037, -0.0037, -0.0037, -0.0037,\n",
      "         -0.0037, -0.0037, -0.0037, -0.0037, -0.0037, -0.0037, -0.0037, -0.0037,\n",
      "         -0.0037, -0.0037, -0.0037, -0.0037, -0.0037, -0.0037, -0.0037, -0.0037,\n",
      "         -0.0037, -0.0037, -0.0037, -0.0037, -0.0037, -0.0037, -0.0037, -0.0037,\n",
      "         -0.0037, -0.0037, -0.0037, -0.0037, -0.0037, -0.0037, -0.0037, -0.0037,\n",
      "         -0.0037, -0.0037, -0.0037, -0.0037, -0.0037, -0.0037, -0.0037, -0.0037,\n",
      "         -0.0037, -0.0037]], device='cuda:0', grad_fn=<SelectBackward0>)\n"
     ]
    },
    {
     "name": "stderr",
     "output_type": "stream",
     "text": [
      "0.00003235:   1%|          | 1/100 [02:03<1:57:12, 71.04s/it]"
     ]
    },
    {
     "name": "stdout",
     "output_type": "stream",
     "text": [
      "tensor([1., 1.], device='cuda:0') tensor([[-0.0055, -0.0055, -0.0055, -0.0055, -0.0055, -0.0055, -0.0055, -0.0055,\n",
      "         -0.0055, -0.0055, -0.0055, -0.0055, -0.0055, -0.0055, -0.0055, -0.0055,\n",
      "         -0.0055, -0.0055, -0.0055, -0.0055, -0.0055, -0.0055, -0.0055, -0.0055,\n",
      "         -0.0055, -0.0055, -0.0055, -0.0055, -0.0055, -0.0055, -0.0055, -0.0055,\n",
      "         -0.0055, -0.0055, -0.0055, -0.0055, -0.0055, -0.0055, -0.0055, -0.0055,\n",
      "         -0.0055, -0.0055, -0.0055, -0.0055, -0.0055, -0.0055, -0.0055, -0.0055,\n",
      "         -0.0055, -0.0055],\n",
      "        [ 0.0034,  0.0034,  0.0034,  0.0034,  0.0034,  0.0034,  0.0034,  0.0034,\n",
      "          0.0034,  0.0034,  0.0034,  0.0034,  0.0034,  0.0034,  0.0034,  0.0034,\n",
      "          0.0034,  0.0034,  0.0034,  0.0034,  0.0034,  0.0034,  0.0034,  0.0034,\n",
      "          0.0034,  0.0034,  0.0034,  0.0034,  0.0034,  0.0034,  0.0034,  0.0034,\n",
      "          0.0034,  0.0034,  0.0034,  0.0034,  0.0034,  0.0034,  0.0034,  0.0034,\n",
      "          0.0034,  0.0034,  0.0034,  0.0034,  0.0034,  0.0034,  0.0034,  0.0034,\n",
      "          0.0034,  0.0034]], device='cuda:0', grad_fn=<SelectBackward0>)\n"
     ]
    },
    {
     "name": "stderr",
     "output_type": "stream",
     "text": [
      "0.00002093:   1%|          | 1/100 [02:04<1:57:12, 71.04s/it]"
     ]
    },
    {
     "name": "stdout",
     "output_type": "stream",
     "text": [
      "tensor([1., 1.], device='cuda:0') tensor([[-0.0003, -0.0003, -0.0003, -0.0003, -0.0003, -0.0003, -0.0003, -0.0003,\n",
      "         -0.0003, -0.0003, -0.0003, -0.0003, -0.0003, -0.0003, -0.0003, -0.0003,\n",
      "         -0.0003, -0.0003, -0.0003, -0.0003, -0.0003, -0.0003, -0.0003, -0.0003,\n",
      "         -0.0003, -0.0003, -0.0003, -0.0003, -0.0003, -0.0003, -0.0003, -0.0003,\n",
      "         -0.0003, -0.0003, -0.0003, -0.0003, -0.0003, -0.0003, -0.0003, -0.0003,\n",
      "         -0.0003, -0.0003, -0.0003, -0.0003, -0.0003, -0.0003, -0.0003, -0.0003,\n",
      "         -0.0003, -0.0003],\n",
      "        [-0.0066, -0.0066, -0.0066, -0.0066, -0.0066, -0.0066, -0.0066, -0.0066,\n",
      "         -0.0066, -0.0066, -0.0066, -0.0066, -0.0066, -0.0066, -0.0066, -0.0066,\n",
      "         -0.0066, -0.0066, -0.0066, -0.0066, -0.0066, -0.0066, -0.0066, -0.0066,\n",
      "         -0.0066, -0.0066, -0.0066, -0.0066, -0.0066, -0.0066, -0.0066, -0.0066,\n",
      "         -0.0066, -0.0066, -0.0066, -0.0066, -0.0066, -0.0066, -0.0066, -0.0066,\n",
      "         -0.0066, -0.0066, -0.0066, -0.0066, -0.0066, -0.0066, -0.0066, -0.0066,\n",
      "         -0.0066, -0.0066]], device='cuda:0', grad_fn=<SelectBackward0>)\n"
     ]
    },
    {
     "name": "stderr",
     "output_type": "stream",
     "text": [
      "0.00002191:   1%|          | 1/100 [02:05<1:57:12, 71.04s/it]"
     ]
    },
    {
     "name": "stdout",
     "output_type": "stream",
     "text": [
      "tensor([1., 1.], device='cuda:0') tensor([[-0.0036, -0.0036, -0.0036, -0.0036, -0.0036, -0.0036, -0.0036, -0.0036,\n",
      "         -0.0036, -0.0036, -0.0036, -0.0036, -0.0036, -0.0036, -0.0036, -0.0036,\n",
      "         -0.0036, -0.0036, -0.0036, -0.0036, -0.0036, -0.0036, -0.0036, -0.0036,\n",
      "         -0.0036, -0.0036, -0.0036, -0.0036, -0.0036, -0.0036, -0.0036, -0.0036,\n",
      "         -0.0036, -0.0036, -0.0036, -0.0036, -0.0036, -0.0036, -0.0036, -0.0036,\n",
      "         -0.0036, -0.0036, -0.0036, -0.0036, -0.0036, -0.0036, -0.0036, -0.0036,\n",
      "         -0.0036, -0.0036],\n",
      "        [-0.0070, -0.0070, -0.0070, -0.0070, -0.0070, -0.0070, -0.0070, -0.0070,\n",
      "         -0.0070, -0.0070, -0.0070, -0.0070, -0.0070, -0.0070, -0.0070, -0.0070,\n",
      "         -0.0070, -0.0070, -0.0070, -0.0070, -0.0070, -0.0070, -0.0070, -0.0070,\n",
      "         -0.0070, -0.0070, -0.0070, -0.0070, -0.0070, -0.0070, -0.0070, -0.0070,\n",
      "         -0.0070, -0.0070, -0.0070, -0.0070, -0.0070, -0.0070, -0.0070, -0.0070,\n",
      "         -0.0070, -0.0070, -0.0070, -0.0070, -0.0070, -0.0070, -0.0070, -0.0070,\n",
      "         -0.0070, -0.0070]], device='cuda:0', grad_fn=<SelectBackward0>)\n"
     ]
    },
    {
     "name": "stderr",
     "output_type": "stream",
     "text": [
      "0.00003131:   1%|          | 1/100 [02:07<1:57:12, 71.04s/it]"
     ]
    },
    {
     "name": "stdout",
     "output_type": "stream",
     "text": [
      "tensor([1., 1.], device='cuda:0') tensor([[-0.0067, -0.0067, -0.0067, -0.0067, -0.0067, -0.0067, -0.0067, -0.0067,\n",
      "         -0.0067, -0.0067, -0.0067, -0.0067, -0.0067, -0.0067, -0.0067, -0.0067,\n",
      "         -0.0067, -0.0067, -0.0067, -0.0067, -0.0067, -0.0067, -0.0067, -0.0067,\n",
      "         -0.0067, -0.0067, -0.0067, -0.0067, -0.0067, -0.0067, -0.0067, -0.0067,\n",
      "         -0.0067, -0.0067, -0.0067, -0.0067, -0.0067, -0.0067, -0.0067, -0.0067,\n",
      "         -0.0067, -0.0067, -0.0067, -0.0067, -0.0067, -0.0067, -0.0067, -0.0067,\n",
      "         -0.0067, -0.0067],\n",
      "        [-0.0062, -0.0062, -0.0062, -0.0062, -0.0062, -0.0062, -0.0062, -0.0062,\n",
      "         -0.0062, -0.0062, -0.0062, -0.0062, -0.0062, -0.0062, -0.0062, -0.0062,\n",
      "         -0.0062, -0.0062, -0.0062, -0.0062, -0.0062, -0.0062, -0.0062, -0.0062,\n",
      "         -0.0062, -0.0062, -0.0062, -0.0062, -0.0062, -0.0062, -0.0062, -0.0062,\n",
      "         -0.0062, -0.0062, -0.0062, -0.0062, -0.0062, -0.0062, -0.0062, -0.0062,\n",
      "         -0.0062, -0.0062, -0.0062, -0.0062, -0.0062, -0.0062, -0.0062, -0.0062,\n",
      "         -0.0062, -0.0062]], device='cuda:0', grad_fn=<SelectBackward0>)\n"
     ]
    },
    {
     "name": "stderr",
     "output_type": "stream",
     "text": [
      "0.00004184:   1%|          | 1/100 [02:08<1:57:12, 71.04s/it]"
     ]
    },
    {
     "name": "stdout",
     "output_type": "stream",
     "text": [
      "tensor([1., 1.], device='cuda:0') tensor([[-0.0077, -0.0077, -0.0077, -0.0077, -0.0077, -0.0077, -0.0077, -0.0077,\n",
      "         -0.0077, -0.0077, -0.0077, -0.0077, -0.0077, -0.0077, -0.0077, -0.0077,\n",
      "         -0.0077, -0.0077, -0.0077, -0.0077, -0.0077, -0.0077, -0.0077, -0.0077,\n",
      "         -0.0077, -0.0077, -0.0077, -0.0077, -0.0077, -0.0077, -0.0077, -0.0077,\n",
      "         -0.0077, -0.0077, -0.0077, -0.0077, -0.0077, -0.0077, -0.0077, -0.0077,\n",
      "         -0.0077, -0.0077, -0.0077, -0.0077, -0.0077, -0.0077, -0.0077, -0.0077,\n",
      "         -0.0077, -0.0077],\n",
      "        [-0.0058, -0.0058, -0.0058, -0.0058, -0.0058, -0.0058, -0.0058, -0.0058,\n",
      "         -0.0058, -0.0058, -0.0058, -0.0058, -0.0058, -0.0058, -0.0058, -0.0058,\n",
      "         -0.0058, -0.0058, -0.0058, -0.0058, -0.0058, -0.0058, -0.0058, -0.0058,\n",
      "         -0.0058, -0.0058, -0.0058, -0.0058, -0.0058, -0.0058, -0.0058, -0.0058,\n",
      "         -0.0058, -0.0058, -0.0058, -0.0058, -0.0058, -0.0058, -0.0058, -0.0058,\n",
      "         -0.0058, -0.0058, -0.0058, -0.0058, -0.0058, -0.0058, -0.0058, -0.0058,\n",
      "         -0.0058, -0.0058]], device='cuda:0', grad_fn=<SelectBackward0>)\n"
     ]
    },
    {
     "name": "stderr",
     "output_type": "stream",
     "text": [
      "0.00004673:   1%|          | 1/100 [02:10<1:57:12, 71.04s/it]"
     ]
    },
    {
     "name": "stdout",
     "output_type": "stream",
     "text": [
      "tensor([1., 1.], device='cuda:0') tensor([[-0.0044, -0.0044, -0.0044, -0.0044, -0.0044, -0.0044, -0.0044, -0.0044,\n",
      "         -0.0044, -0.0044, -0.0044, -0.0044, -0.0044, -0.0044, -0.0044, -0.0044,\n",
      "         -0.0044, -0.0044, -0.0044, -0.0044, -0.0044, -0.0044, -0.0044, -0.0044,\n",
      "         -0.0044, -0.0044, -0.0044, -0.0044, -0.0044, -0.0044, -0.0044, -0.0044,\n",
      "         -0.0044, -0.0044, -0.0044, -0.0044, -0.0044, -0.0044, -0.0044, -0.0044,\n",
      "         -0.0044, -0.0044, -0.0044, -0.0044, -0.0044, -0.0044, -0.0044, -0.0044,\n",
      "         -0.0044, -0.0044],\n",
      "        [-0.0081, -0.0081, -0.0081, -0.0081, -0.0081, -0.0081, -0.0081, -0.0081,\n",
      "         -0.0081, -0.0081, -0.0081, -0.0081, -0.0081, -0.0081, -0.0081, -0.0081,\n",
      "         -0.0081, -0.0081, -0.0081, -0.0081, -0.0081, -0.0081, -0.0081, -0.0081,\n",
      "         -0.0081, -0.0081, -0.0081, -0.0081, -0.0081, -0.0081, -0.0081, -0.0081,\n",
      "         -0.0081, -0.0081, -0.0081, -0.0081, -0.0081, -0.0081, -0.0081, -0.0081,\n",
      "         -0.0081, -0.0081, -0.0081, -0.0081, -0.0081, -0.0081, -0.0081, -0.0081,\n",
      "         -0.0081, -0.0081]], device='cuda:0', grad_fn=<SelectBackward0>)\n"
     ]
    },
    {
     "name": "stderr",
     "output_type": "stream",
     "text": [
      "0.00004287:   1%|          | 1/100 [02:11<1:57:12, 71.04s/it]"
     ]
    },
    {
     "name": "stdout",
     "output_type": "stream",
     "text": [
      "tensor([1., 1.], device='cuda:0') tensor([[-0.0075, -0.0075, -0.0075, -0.0075, -0.0075, -0.0075, -0.0075, -0.0075,\n",
      "         -0.0075, -0.0075, -0.0075, -0.0075, -0.0075, -0.0075, -0.0075, -0.0075,\n",
      "         -0.0075, -0.0075, -0.0075, -0.0075, -0.0075, -0.0075, -0.0075, -0.0075,\n",
      "         -0.0075, -0.0075, -0.0075, -0.0075, -0.0075, -0.0075, -0.0075, -0.0075,\n",
      "         -0.0075, -0.0075, -0.0075, -0.0075, -0.0075, -0.0075, -0.0075, -0.0075,\n",
      "         -0.0075, -0.0075, -0.0075, -0.0075, -0.0075, -0.0075, -0.0075, -0.0075,\n",
      "         -0.0075, -0.0075],\n",
      "        [-0.0027, -0.0027, -0.0027, -0.0027, -0.0027, -0.0027, -0.0027, -0.0027,\n",
      "         -0.0027, -0.0027, -0.0027, -0.0027, -0.0027, -0.0027, -0.0027, -0.0027,\n",
      "         -0.0027, -0.0027, -0.0027, -0.0027, -0.0027, -0.0027, -0.0027, -0.0027,\n",
      "         -0.0027, -0.0027, -0.0027, -0.0027, -0.0027, -0.0027, -0.0027, -0.0027,\n",
      "         -0.0027, -0.0027, -0.0027, -0.0027, -0.0027, -0.0027, -0.0027, -0.0027,\n",
      "         -0.0027, -0.0027, -0.0027, -0.0027, -0.0027, -0.0027, -0.0027, -0.0027,\n",
      "         -0.0027, -0.0027]], device='cuda:0', grad_fn=<SelectBackward0>)\n"
     ]
    },
    {
     "name": "stderr",
     "output_type": "stream",
     "text": [
      "0.00003177:   1%|          | 1/100 [02:12<1:57:12, 71.04s/it]"
     ]
    },
    {
     "name": "stdout",
     "output_type": "stream",
     "text": [
      "tensor([1., 1.], device='cuda:0') tensor([[-0.0060, -0.0060, -0.0060, -0.0060, -0.0060, -0.0060, -0.0060, -0.0060,\n",
      "         -0.0060, -0.0060, -0.0060, -0.0060, -0.0060, -0.0060, -0.0060, -0.0060,\n",
      "         -0.0060, -0.0060, -0.0060, -0.0060, -0.0060, -0.0060, -0.0060, -0.0060,\n",
      "         -0.0060, -0.0060, -0.0060, -0.0060, -0.0060, -0.0060, -0.0060, -0.0060,\n",
      "         -0.0060, -0.0060, -0.0060, -0.0060, -0.0060, -0.0060, -0.0060, -0.0060,\n",
      "         -0.0060, -0.0060, -0.0060, -0.0060, -0.0060, -0.0060, -0.0060, -0.0060,\n",
      "         -0.0060, -0.0060],\n",
      "        [-0.0009, -0.0009, -0.0009, -0.0009, -0.0009, -0.0009, -0.0009, -0.0009,\n",
      "         -0.0009, -0.0009, -0.0009, -0.0009, -0.0009, -0.0009, -0.0009, -0.0009,\n",
      "         -0.0009, -0.0009, -0.0009, -0.0009, -0.0009, -0.0009, -0.0009, -0.0009,\n",
      "         -0.0009, -0.0009, -0.0009, -0.0009, -0.0009, -0.0009, -0.0009, -0.0009,\n",
      "         -0.0009, -0.0009, -0.0009, -0.0009, -0.0009, -0.0009, -0.0009, -0.0009,\n",
      "         -0.0009, -0.0009, -0.0009, -0.0009, -0.0009, -0.0009, -0.0009, -0.0009,\n",
      "         -0.0009, -0.0009]], device='cuda:0', grad_fn=<SelectBackward0>)\n"
     ]
    },
    {
     "name": "stderr",
     "output_type": "stream",
     "text": [
      "0.00001829:   1%|          | 1/100 [02:14<1:57:12, 71.04s/it]"
     ]
    },
    {
     "name": "stdout",
     "output_type": "stream",
     "text": [
      "tensor([1., 1.], device='cuda:0') tensor([[-0.0039, -0.0039, -0.0039, -0.0039, -0.0039, -0.0039, -0.0039, -0.0039,\n",
      "         -0.0039, -0.0039, -0.0039, -0.0039, -0.0039, -0.0039, -0.0039, -0.0039,\n",
      "         -0.0039, -0.0039, -0.0039, -0.0039, -0.0039, -0.0039, -0.0039, -0.0039,\n",
      "         -0.0039, -0.0039, -0.0039, -0.0039, -0.0039, -0.0039, -0.0039, -0.0039,\n",
      "         -0.0039, -0.0039, -0.0039, -0.0039, -0.0039, -0.0039, -0.0039, -0.0039,\n",
      "         -0.0039, -0.0039, -0.0039, -0.0039, -0.0039, -0.0039, -0.0039, -0.0039,\n",
      "         -0.0039, -0.0039],\n",
      "        [ 0.0009,  0.0009,  0.0009,  0.0009,  0.0009,  0.0009,  0.0009,  0.0009,\n",
      "          0.0009,  0.0009,  0.0009,  0.0009,  0.0009,  0.0009,  0.0009,  0.0009,\n",
      "          0.0009,  0.0009,  0.0009,  0.0009,  0.0009,  0.0009,  0.0009,  0.0009,\n",
      "          0.0009,  0.0009,  0.0009,  0.0009,  0.0009,  0.0009,  0.0009,  0.0009,\n",
      "          0.0009,  0.0009,  0.0009,  0.0009,  0.0009,  0.0009,  0.0009,  0.0009,\n",
      "          0.0009,  0.0009,  0.0009,  0.0009,  0.0009,  0.0009,  0.0009,  0.0009,\n",
      "          0.0009,  0.0009]], device='cuda:0', grad_fn=<SelectBackward0>)\n"
     ]
    },
    {
     "name": "stderr",
     "output_type": "stream",
     "text": [
      "0.00000790:   1%|          | 1/100 [02:15<1:57:12, 71.04s/it]"
     ]
    },
    {
     "name": "stdout",
     "output_type": "stream",
     "text": [
      "tensor([1., 1.], device='cuda:0') tensor([[ 0.0024,  0.0024,  0.0024,  0.0024,  0.0024,  0.0024,  0.0024,  0.0024,\n",
      "          0.0024,  0.0024,  0.0024,  0.0024,  0.0024,  0.0024,  0.0024,  0.0024,\n",
      "          0.0024,  0.0024,  0.0024,  0.0024,  0.0024,  0.0024,  0.0024,  0.0024,\n",
      "          0.0024,  0.0024,  0.0024,  0.0024,  0.0024,  0.0024,  0.0024,  0.0024,\n",
      "          0.0024,  0.0024,  0.0024,  0.0024,  0.0024,  0.0024,  0.0024,  0.0024,\n",
      "          0.0024,  0.0024,  0.0024,  0.0024,  0.0024,  0.0024,  0.0024,  0.0024,\n",
      "          0.0024,  0.0024],\n",
      "        [-0.0015, -0.0015, -0.0015, -0.0015, -0.0015, -0.0015, -0.0015, -0.0015,\n",
      "         -0.0015, -0.0015, -0.0015, -0.0015, -0.0015, -0.0015, -0.0015, -0.0015,\n",
      "         -0.0015, -0.0015, -0.0015, -0.0015, -0.0015, -0.0015, -0.0015, -0.0015,\n",
      "         -0.0015, -0.0015, -0.0015, -0.0015, -0.0015, -0.0015, -0.0015, -0.0015,\n",
      "         -0.0015, -0.0015, -0.0015, -0.0015, -0.0015, -0.0015, -0.0015, -0.0015,\n",
      "         -0.0015, -0.0015, -0.0015, -0.0015, -0.0015, -0.0015, -0.0015, -0.0015,\n",
      "         -0.0015, -0.0015]], device='cuda:0', grad_fn=<SelectBackward0>)\n"
     ]
    },
    {
     "name": "stderr",
     "output_type": "stream",
     "text": [
      "0.00000406:   1%|          | 1/100 [02:16<1:57:12, 71.04s/it]"
     ]
    },
    {
     "name": "stdout",
     "output_type": "stream",
     "text": [
      "tensor([1., 1.], device='cuda:0') tensor([[0.0036, 0.0036, 0.0036, 0.0036, 0.0036, 0.0036, 0.0036, 0.0036, 0.0036,\n",
      "         0.0036, 0.0036, 0.0036, 0.0036, 0.0036, 0.0036, 0.0036, 0.0036, 0.0036,\n",
      "         0.0036, 0.0036, 0.0036, 0.0036, 0.0036, 0.0036, 0.0036, 0.0036, 0.0036,\n",
      "         0.0036, 0.0036, 0.0036, 0.0036, 0.0036, 0.0036, 0.0036, 0.0036, 0.0036,\n",
      "         0.0036, 0.0036, 0.0036, 0.0036, 0.0036, 0.0036, 0.0036, 0.0036, 0.0036,\n",
      "         0.0036, 0.0036, 0.0036, 0.0036, 0.0036],\n",
      "        [0.0009, 0.0009, 0.0009, 0.0009, 0.0009, 0.0009, 0.0009, 0.0009, 0.0009,\n",
      "         0.0009, 0.0009, 0.0009, 0.0009, 0.0009, 0.0009, 0.0009, 0.0009, 0.0009,\n",
      "         0.0009, 0.0009, 0.0009, 0.0009, 0.0009, 0.0009, 0.0009, 0.0009, 0.0009,\n",
      "         0.0009, 0.0009, 0.0009, 0.0009, 0.0009, 0.0009, 0.0009, 0.0009, 0.0009,\n",
      "         0.0009, 0.0009, 0.0009, 0.0009, 0.0009, 0.0009, 0.0009, 0.0009, 0.0009,\n",
      "         0.0009, 0.0009, 0.0009, 0.0009, 0.0009]], device='cuda:0',\n",
      "       grad_fn=<SelectBackward0>)\n"
     ]
    },
    {
     "name": "stderr",
     "output_type": "stream",
     "text": [
      "0.00000683:   1%|          | 1/100 [02:18<1:57:12, 71.04s/it]"
     ]
    },
    {
     "name": "stdout",
     "output_type": "stream",
     "text": [
      "tensor([1., 1.], device='cuda:0') tensor([[0.0029, 0.0029, 0.0029, 0.0029, 0.0029, 0.0029, 0.0029, 0.0029, 0.0029,\n",
      "         0.0029, 0.0029, 0.0029, 0.0029, 0.0029, 0.0029, 0.0029, 0.0029, 0.0029,\n",
      "         0.0029, 0.0029, 0.0029, 0.0029, 0.0029, 0.0029, 0.0029, 0.0029, 0.0029,\n",
      "         0.0029, 0.0029, 0.0029, 0.0029, 0.0029, 0.0029, 0.0029, 0.0029, 0.0029,\n",
      "         0.0029, 0.0029, 0.0029, 0.0029, 0.0029, 0.0029, 0.0029, 0.0029, 0.0029,\n",
      "         0.0029, 0.0029, 0.0029, 0.0029, 0.0029],\n",
      "        [0.0043, 0.0043, 0.0043, 0.0043, 0.0043, 0.0043, 0.0043, 0.0043, 0.0043,\n",
      "         0.0043, 0.0043, 0.0043, 0.0043, 0.0043, 0.0043, 0.0043, 0.0043, 0.0043,\n",
      "         0.0043, 0.0043, 0.0043, 0.0043, 0.0043, 0.0043, 0.0043, 0.0043, 0.0043,\n",
      "         0.0043, 0.0043, 0.0043, 0.0043, 0.0043, 0.0043, 0.0043, 0.0043, 0.0043,\n",
      "         0.0043, 0.0043, 0.0043, 0.0043, 0.0043, 0.0043, 0.0043, 0.0043, 0.0043,\n",
      "         0.0043, 0.0043, 0.0043, 0.0043, 0.0043]], device='cuda:0',\n",
      "       grad_fn=<SelectBackward0>)\n"
     ]
    },
    {
     "name": "stderr",
     "output_type": "stream",
     "text": [
      "0.00001328:   2%|▏         | 2/100 [02:19<1:53:48, 69.68s/it]"
     ]
    },
    {
     "name": "stdout",
     "output_type": "stream",
     "text": [
      "tensor([1., 1.], device='cuda:0') tensor([[0.0045, 0.0045, 0.0045, 0.0045, 0.0045, 0.0045, 0.0045, 0.0045, 0.0045,\n",
      "         0.0045, 0.0045, 0.0045, 0.0045, 0.0045, 0.0045, 0.0045, 0.0045, 0.0045,\n",
      "         0.0045, 0.0045, 0.0045, 0.0045, 0.0045, 0.0045, 0.0045, 0.0045, 0.0045,\n",
      "         0.0045, 0.0045, 0.0045, 0.0045, 0.0045, 0.0045, 0.0045, 0.0045, 0.0045,\n",
      "         0.0045, 0.0045, 0.0045, 0.0045, 0.0045, 0.0045, 0.0045, 0.0045, 0.0045,\n",
      "         0.0045, 0.0045, 0.0045, 0.0045, 0.0045],\n",
      "        [0.0043, 0.0043, 0.0043, 0.0043, 0.0043, 0.0043, 0.0043, 0.0043, 0.0043,\n",
      "         0.0043, 0.0043, 0.0043, 0.0043, 0.0043, 0.0043, 0.0043, 0.0043, 0.0043,\n",
      "         0.0043, 0.0043, 0.0043, 0.0043, 0.0043, 0.0043, 0.0043, 0.0043, 0.0043,\n",
      "         0.0043, 0.0043, 0.0043, 0.0043, 0.0043, 0.0043, 0.0043, 0.0043, 0.0043,\n",
      "         0.0043, 0.0043, 0.0043, 0.0043, 0.0043, 0.0043, 0.0043, 0.0043, 0.0043,\n",
      "         0.0043, 0.0043, 0.0043, 0.0043, 0.0043]], device='cuda:0',\n",
      "       grad_fn=<SelectBackward0>)\n"
     ]
    },
    {
     "name": "stderr",
     "output_type": "stream",
     "text": [
      "0.00001925:   2%|▏         | 2/100 [02:21<1:53:48, 69.68s/it]"
     ]
    },
    {
     "name": "stdout",
     "output_type": "stream",
     "text": [
      "tensor([1., 1.], device='cuda:0') tensor([[0.0050, 0.0050, 0.0050, 0.0050, 0.0050, 0.0050, 0.0050, 0.0050, 0.0050,\n",
      "         0.0050, 0.0050, 0.0050, 0.0050, 0.0050, 0.0050, 0.0050, 0.0050, 0.0050,\n",
      "         0.0050, 0.0050, 0.0050, 0.0050, 0.0050, 0.0050, 0.0050, 0.0050, 0.0050,\n",
      "         0.0050, 0.0050, 0.0050, 0.0050, 0.0050, 0.0050, 0.0050, 0.0050, 0.0050,\n",
      "         0.0050, 0.0050, 0.0050, 0.0050, 0.0050, 0.0050, 0.0050, 0.0050, 0.0050,\n",
      "         0.0050, 0.0050, 0.0050, 0.0050, 0.0050],\n",
      "        [0.0042, 0.0042, 0.0042, 0.0042, 0.0042, 0.0042, 0.0042, 0.0042, 0.0042,\n",
      "         0.0042, 0.0042, 0.0042, 0.0042, 0.0042, 0.0042, 0.0042, 0.0042, 0.0042,\n",
      "         0.0042, 0.0042, 0.0042, 0.0042, 0.0042, 0.0042, 0.0042, 0.0042, 0.0042,\n",
      "         0.0042, 0.0042, 0.0042, 0.0042, 0.0042, 0.0042, 0.0042, 0.0042, 0.0042,\n",
      "         0.0042, 0.0042, 0.0042, 0.0042, 0.0042, 0.0042, 0.0042, 0.0042, 0.0042,\n",
      "         0.0042, 0.0042, 0.0042, 0.0042, 0.0042]], device='cuda:0',\n",
      "       grad_fn=<SelectBackward0>)\n"
     ]
    },
    {
     "name": "stderr",
     "output_type": "stream",
     "text": [
      "0.00002142:   2%|▏         | 2/100 [02:22<1:53:48, 69.68s/it]"
     ]
    },
    {
     "name": "stdout",
     "output_type": "stream",
     "text": [
      "tensor([1., 1.], device='cuda:0') tensor([[0.0035, 0.0035, 0.0035, 0.0035, 0.0035, 0.0035, 0.0035, 0.0035, 0.0035,\n",
      "         0.0035, 0.0035, 0.0035, 0.0035, 0.0035, 0.0035, 0.0035, 0.0035, 0.0035,\n",
      "         0.0035, 0.0035, 0.0035, 0.0035, 0.0035, 0.0035, 0.0035, 0.0035, 0.0035,\n",
      "         0.0035, 0.0035, 0.0035, 0.0035, 0.0035, 0.0035, 0.0035, 0.0035, 0.0035,\n",
      "         0.0035, 0.0035, 0.0035, 0.0035, 0.0035, 0.0035, 0.0035, 0.0035, 0.0035,\n",
      "         0.0035, 0.0035, 0.0035, 0.0035, 0.0035],\n",
      "        [0.0050, 0.0050, 0.0050, 0.0050, 0.0050, 0.0050, 0.0050, 0.0050, 0.0050,\n",
      "         0.0050, 0.0050, 0.0050, 0.0050, 0.0050, 0.0050, 0.0050, 0.0050, 0.0050,\n",
      "         0.0050, 0.0050, 0.0050, 0.0050, 0.0050, 0.0050, 0.0050, 0.0050, 0.0050,\n",
      "         0.0050, 0.0050, 0.0050, 0.0050, 0.0050, 0.0050, 0.0050, 0.0050, 0.0050,\n",
      "         0.0050, 0.0050, 0.0050, 0.0050, 0.0050, 0.0050, 0.0050, 0.0050, 0.0050,\n",
      "         0.0050, 0.0050, 0.0050, 0.0050, 0.0050]], device='cuda:0',\n",
      "       grad_fn=<SelectBackward0>)\n"
     ]
    },
    {
     "name": "stderr",
     "output_type": "stream",
     "text": [
      "0.00001875:   2%|▏         | 2/100 [02:23<1:53:48, 69.68s/it]"
     ]
    },
    {
     "name": "stdout",
     "output_type": "stream",
     "text": [
      "tensor([1., 1.], device='cuda:0') tensor([[0.0043, 0.0043, 0.0043, 0.0043, 0.0043, 0.0043, 0.0043, 0.0043, 0.0043,\n",
      "         0.0043, 0.0043, 0.0043, 0.0043, 0.0043, 0.0043, 0.0043, 0.0043, 0.0043,\n",
      "         0.0043, 0.0043, 0.0043, 0.0043, 0.0043, 0.0043, 0.0043, 0.0043, 0.0043,\n",
      "         0.0043, 0.0043, 0.0043, 0.0043, 0.0043, 0.0043, 0.0043, 0.0043, 0.0043,\n",
      "         0.0043, 0.0043, 0.0043, 0.0043, 0.0043, 0.0043, 0.0043, 0.0043, 0.0043,\n",
      "         0.0043, 0.0043, 0.0043, 0.0043, 0.0043],\n",
      "        [0.0025, 0.0025, 0.0025, 0.0025, 0.0025, 0.0025, 0.0025, 0.0025, 0.0025,\n",
      "         0.0025, 0.0025, 0.0025, 0.0025, 0.0025, 0.0025, 0.0025, 0.0025, 0.0025,\n",
      "         0.0025, 0.0025, 0.0025, 0.0025, 0.0025, 0.0025, 0.0025, 0.0025, 0.0025,\n",
      "         0.0025, 0.0025, 0.0025, 0.0025, 0.0025, 0.0025, 0.0025, 0.0025, 0.0025,\n",
      "         0.0025, 0.0025, 0.0025, 0.0025, 0.0025, 0.0025, 0.0025, 0.0025, 0.0025,\n",
      "         0.0025, 0.0025, 0.0025, 0.0025, 0.0025]], device='cuda:0',\n",
      "       grad_fn=<SelectBackward0>)\n"
     ]
    },
    {
     "name": "stderr",
     "output_type": "stream",
     "text": [
      "0.00001265:   2%|▏         | 2/100 [02:25<1:53:48, 69.68s/it]"
     ]
    },
    {
     "name": "stdout",
     "output_type": "stream",
     "text": [
      "tensor([1., 1.], device='cuda:0') tensor([[0.0014, 0.0014, 0.0014, 0.0014, 0.0014, 0.0014, 0.0014, 0.0014, 0.0014,\n",
      "         0.0014, 0.0014, 0.0014, 0.0014, 0.0014, 0.0014, 0.0014, 0.0014, 0.0014,\n",
      "         0.0014, 0.0014, 0.0014, 0.0014, 0.0014, 0.0014, 0.0014, 0.0014, 0.0014,\n",
      "         0.0014, 0.0014, 0.0014, 0.0014, 0.0014, 0.0014, 0.0014, 0.0014, 0.0014,\n",
      "         0.0014, 0.0014, 0.0014, 0.0014, 0.0014, 0.0014, 0.0014, 0.0014, 0.0014,\n",
      "         0.0014, 0.0014, 0.0014, 0.0014, 0.0014],\n",
      "        [0.0032, 0.0032, 0.0032, 0.0032, 0.0032, 0.0032, 0.0032, 0.0032, 0.0032,\n",
      "         0.0032, 0.0032, 0.0032, 0.0032, 0.0032, 0.0032, 0.0032, 0.0032, 0.0032,\n",
      "         0.0032, 0.0032, 0.0032, 0.0032, 0.0032, 0.0032, 0.0032, 0.0032, 0.0032,\n",
      "         0.0032, 0.0032, 0.0032, 0.0032, 0.0032, 0.0032, 0.0032, 0.0032, 0.0032,\n",
      "         0.0032, 0.0032, 0.0032, 0.0032, 0.0032, 0.0032, 0.0032, 0.0032, 0.0032,\n",
      "         0.0032, 0.0032, 0.0032, 0.0032, 0.0032]], device='cuda:0',\n",
      "       grad_fn=<SelectBackward0>)\n"
     ]
    },
    {
     "name": "stderr",
     "output_type": "stream",
     "text": [
      "0.00000597:   2%|▏         | 2/100 [02:26<1:53:48, 69.68s/it]"
     ]
    },
    {
     "name": "stdout",
     "output_type": "stream",
     "text": [
      "tensor([1., 1.], device='cuda:0') tensor([[0.0017, 0.0017, 0.0017, 0.0017, 0.0017, 0.0017, 0.0017, 0.0017, 0.0017,\n",
      "         0.0017, 0.0017, 0.0017, 0.0017, 0.0017, 0.0017, 0.0017, 0.0017, 0.0017,\n",
      "         0.0017, 0.0017, 0.0017, 0.0017, 0.0017, 0.0017, 0.0017, 0.0017, 0.0017,\n",
      "         0.0017, 0.0017, 0.0017, 0.0017, 0.0017, 0.0017, 0.0017, 0.0017, 0.0017,\n",
      "         0.0017, 0.0017, 0.0017, 0.0017, 0.0017, 0.0017, 0.0017, 0.0017, 0.0017,\n",
      "         0.0017, 0.0017, 0.0017, 0.0017, 0.0017],\n",
      "        [0.0002, 0.0002, 0.0002, 0.0002, 0.0002, 0.0002, 0.0002, 0.0002, 0.0002,\n",
      "         0.0002, 0.0002, 0.0002, 0.0002, 0.0002, 0.0002, 0.0002, 0.0002, 0.0002,\n",
      "         0.0002, 0.0002, 0.0002, 0.0002, 0.0002, 0.0002, 0.0002, 0.0002, 0.0002,\n",
      "         0.0002, 0.0002, 0.0002, 0.0002, 0.0002, 0.0002, 0.0002, 0.0002, 0.0002,\n",
      "         0.0002, 0.0002, 0.0002, 0.0002, 0.0002, 0.0002, 0.0002, 0.0002, 0.0002,\n",
      "         0.0002, 0.0002, 0.0002, 0.0002, 0.0002]], device='cuda:0',\n",
      "       grad_fn=<SelectBackward0>)\n"
     ]
    },
    {
     "name": "stderr",
     "output_type": "stream",
     "text": [
      "0.00000145:   2%|▏         | 2/100 [02:27<1:53:48, 69.68s/it]"
     ]
    },
    {
     "name": "stdout",
     "output_type": "stream",
     "text": [
      "tensor([1., 1.], device='cuda:0') tensor([[ 0.0001,  0.0001,  0.0001,  0.0001,  0.0001,  0.0001,  0.0001,  0.0001,\n",
      "          0.0001,  0.0001,  0.0001,  0.0001,  0.0001,  0.0001,  0.0001,  0.0001,\n",
      "          0.0001,  0.0001,  0.0001,  0.0001,  0.0001,  0.0001,  0.0001,  0.0001,\n",
      "          0.0001,  0.0001,  0.0001,  0.0001,  0.0001,  0.0001,  0.0001,  0.0001,\n",
      "          0.0001,  0.0001,  0.0001,  0.0001,  0.0001,  0.0001,  0.0001,  0.0001,\n",
      "          0.0001,  0.0001,  0.0001,  0.0001,  0.0001,  0.0001,  0.0001,  0.0001,\n",
      "          0.0001,  0.0001],\n",
      "        [-0.0009, -0.0009, -0.0009, -0.0009, -0.0009, -0.0009, -0.0009, -0.0009,\n",
      "         -0.0009, -0.0009, -0.0009, -0.0009, -0.0009, -0.0009, -0.0009, -0.0009,\n",
      "         -0.0009, -0.0009, -0.0009, -0.0009, -0.0009, -0.0009, -0.0009, -0.0009,\n",
      "         -0.0009, -0.0009, -0.0009, -0.0009, -0.0009, -0.0009, -0.0009, -0.0009,\n",
      "         -0.0009, -0.0009, -0.0009, -0.0009, -0.0009, -0.0009, -0.0009, -0.0009,\n",
      "         -0.0009, -0.0009, -0.0009, -0.0009, -0.0009, -0.0009, -0.0009, -0.0009,\n",
      "         -0.0009, -0.0009]], device='cuda:0', grad_fn=<SelectBackward0>)\n"
     ]
    },
    {
     "name": "stderr",
     "output_type": "stream",
     "text": [
      "0.00000045:   2%|▏         | 2/100 [02:29<1:53:48, 69.68s/it]"
     ]
    },
    {
     "name": "stdout",
     "output_type": "stream",
     "text": [
      "tensor([1., 1.], device='cuda:0') tensor([[-0.0019, -0.0019, -0.0019, -0.0019, -0.0019, -0.0019, -0.0019, -0.0019,\n",
      "         -0.0019, -0.0019, -0.0019, -0.0019, -0.0019, -0.0019, -0.0019, -0.0019,\n",
      "         -0.0019, -0.0019, -0.0019, -0.0019, -0.0019, -0.0019, -0.0019, -0.0019,\n",
      "         -0.0019, -0.0019, -0.0019, -0.0019, -0.0019, -0.0019, -0.0019, -0.0019,\n",
      "         -0.0019, -0.0019, -0.0019, -0.0019, -0.0019, -0.0019, -0.0019, -0.0019,\n",
      "         -0.0019, -0.0019, -0.0019, -0.0019, -0.0019, -0.0019, -0.0019, -0.0019,\n",
      "         -0.0019, -0.0019],\n",
      "        [-0.0013, -0.0013, -0.0013, -0.0013, -0.0013, -0.0013, -0.0013, -0.0013,\n",
      "         -0.0013, -0.0013, -0.0013, -0.0013, -0.0013, -0.0013, -0.0013, -0.0013,\n",
      "         -0.0013, -0.0013, -0.0013, -0.0013, -0.0013, -0.0013, -0.0013, -0.0013,\n",
      "         -0.0013, -0.0013, -0.0013, -0.0013, -0.0013, -0.0013, -0.0013, -0.0013,\n",
      "         -0.0013, -0.0013, -0.0013, -0.0013, -0.0013, -0.0013, -0.0013, -0.0013,\n",
      "         -0.0013, -0.0013, -0.0013, -0.0013, -0.0013, -0.0013, -0.0013, -0.0013,\n",
      "         -0.0013, -0.0013]], device='cuda:0', grad_fn=<SelectBackward0>)\n"
     ]
    },
    {
     "name": "stderr",
     "output_type": "stream",
     "text": [
      "0.00000256:   2%|▏         | 2/100 [02:30<1:53:48, 69.68s/it]"
     ]
    },
    {
     "name": "stdout",
     "output_type": "stream",
     "text": [
      "tensor([1., 1.], device='cuda:0') tensor([[-0.0025, -0.0025, -0.0025, -0.0025, -0.0025, -0.0025, -0.0025, -0.0025,\n",
      "         -0.0025, -0.0025, -0.0025, -0.0025, -0.0025, -0.0025, -0.0025, -0.0025,\n",
      "         -0.0025, -0.0025, -0.0025, -0.0025, -0.0025, -0.0025, -0.0025, -0.0025,\n",
      "         -0.0025, -0.0025, -0.0025, -0.0025, -0.0025, -0.0025, -0.0025, -0.0025,\n",
      "         -0.0025, -0.0025, -0.0025, -0.0025, -0.0025, -0.0025, -0.0025, -0.0025,\n",
      "         -0.0025, -0.0025, -0.0025, -0.0025, -0.0025, -0.0025, -0.0025, -0.0025,\n",
      "         -0.0025, -0.0025],\n",
      "        [-0.0024, -0.0024, -0.0024, -0.0024, -0.0024, -0.0024, -0.0024, -0.0024,\n",
      "         -0.0024, -0.0024, -0.0024, -0.0024, -0.0024, -0.0024, -0.0024, -0.0024,\n",
      "         -0.0024, -0.0024, -0.0024, -0.0024, -0.0024, -0.0024, -0.0024, -0.0024,\n",
      "         -0.0024, -0.0024, -0.0024, -0.0024, -0.0024, -0.0024, -0.0024, -0.0024,\n",
      "         -0.0024, -0.0024, -0.0024, -0.0024, -0.0024, -0.0024, -0.0024, -0.0024,\n",
      "         -0.0024, -0.0024, -0.0024, -0.0024, -0.0024, -0.0024, -0.0024, -0.0024,\n",
      "         -0.0024, -0.0024]], device='cuda:0', grad_fn=<SelectBackward0>)\n"
     ]
    },
    {
     "name": "stderr",
     "output_type": "stream",
     "text": [
      "0.00000597:   2%|▏         | 2/100 [02:31<1:53:48, 69.68s/it]"
     ]
    },
    {
     "name": "stdout",
     "output_type": "stream",
     "text": [
      "tensor([1., 1.], device='cuda:0') tensor([[-0.0028, -0.0028, -0.0028, -0.0028, -0.0028, -0.0028, -0.0028, -0.0028,\n",
      "         -0.0028, -0.0028, -0.0028, -0.0028, -0.0028, -0.0028, -0.0028, -0.0028,\n",
      "         -0.0028, -0.0028, -0.0028, -0.0028, -0.0028, -0.0028, -0.0028, -0.0028,\n",
      "         -0.0028, -0.0028, -0.0028, -0.0028, -0.0028, -0.0028, -0.0028, -0.0028,\n",
      "         -0.0028, -0.0028, -0.0028, -0.0028, -0.0028, -0.0028, -0.0028, -0.0028,\n",
      "         -0.0028, -0.0028, -0.0028, -0.0028, -0.0028, -0.0028, -0.0028, -0.0028,\n",
      "         -0.0028, -0.0028],\n",
      "        [-0.0031, -0.0031, -0.0031, -0.0031, -0.0031, -0.0031, -0.0031, -0.0031,\n",
      "         -0.0031, -0.0031, -0.0031, -0.0031, -0.0031, -0.0031, -0.0031, -0.0031,\n",
      "         -0.0031, -0.0031, -0.0031, -0.0031, -0.0031, -0.0031, -0.0031, -0.0031,\n",
      "         -0.0031, -0.0031, -0.0031, -0.0031, -0.0031, -0.0031, -0.0031, -0.0031,\n",
      "         -0.0031, -0.0031, -0.0031, -0.0031, -0.0031, -0.0031, -0.0031, -0.0031,\n",
      "         -0.0031, -0.0031, -0.0031, -0.0031, -0.0031, -0.0031, -0.0031, -0.0031,\n",
      "         -0.0031, -0.0031]], device='cuda:0', grad_fn=<SelectBackward0>)\n"
     ]
    },
    {
     "name": "stderr",
     "output_type": "stream",
     "text": [
      "0.00000863:   2%|▏         | 2/100 [02:33<1:53:48, 69.68s/it]"
     ]
    },
    {
     "name": "stdout",
     "output_type": "stream",
     "text": [
      "tensor([1., 1.], device='cuda:0') tensor([[-0.0028, -0.0028, -0.0028, -0.0028, -0.0028, -0.0028, -0.0028, -0.0028,\n",
      "         -0.0028, -0.0028, -0.0028, -0.0028, -0.0028, -0.0028, -0.0028, -0.0028,\n",
      "         -0.0028, -0.0028, -0.0028, -0.0028, -0.0028, -0.0028, -0.0028, -0.0028,\n",
      "         -0.0028, -0.0028, -0.0028, -0.0028, -0.0028, -0.0028, -0.0028, -0.0028,\n",
      "         -0.0028, -0.0028, -0.0028, -0.0028, -0.0028, -0.0028, -0.0028, -0.0028,\n",
      "         -0.0028, -0.0028, -0.0028, -0.0028, -0.0028, -0.0028, -0.0028, -0.0028,\n",
      "         -0.0028, -0.0028],\n",
      "        [-0.0033, -0.0033, -0.0033, -0.0033, -0.0033, -0.0033, -0.0033, -0.0033,\n",
      "         -0.0033, -0.0033, -0.0033, -0.0033, -0.0033, -0.0033, -0.0033, -0.0033,\n",
      "         -0.0033, -0.0033, -0.0033, -0.0033, -0.0033, -0.0033, -0.0033, -0.0033,\n",
      "         -0.0033, -0.0033, -0.0033, -0.0033, -0.0033, -0.0033, -0.0033, -0.0033,\n",
      "         -0.0033, -0.0033, -0.0033, -0.0033, -0.0033, -0.0033, -0.0033, -0.0033,\n",
      "         -0.0033, -0.0033, -0.0033, -0.0033, -0.0033, -0.0033, -0.0033, -0.0033,\n",
      "         -0.0033, -0.0033]], device='cuda:0', grad_fn=<SelectBackward0>)\n"
     ]
    },
    {
     "name": "stderr",
     "output_type": "stream",
     "text": [
      "0.00000917:   2%|▏         | 2/100 [02:34<1:53:48, 69.68s/it]"
     ]
    },
    {
     "name": "stdout",
     "output_type": "stream",
     "text": [
      "tensor([1., 1.], device='cuda:0') tensor([[-0.0024, -0.0024, -0.0024, -0.0024, -0.0024, -0.0024, -0.0024, -0.0024,\n",
      "         -0.0024, -0.0024, -0.0024, -0.0024, -0.0024, -0.0024, -0.0024, -0.0024,\n",
      "         -0.0024, -0.0024, -0.0024, -0.0024, -0.0024, -0.0024, -0.0024, -0.0024,\n",
      "         -0.0024, -0.0024, -0.0024, -0.0024, -0.0024, -0.0024, -0.0024, -0.0024,\n",
      "         -0.0024, -0.0024, -0.0024, -0.0024, -0.0024, -0.0024, -0.0024, -0.0024,\n",
      "         -0.0024, -0.0024, -0.0024, -0.0024, -0.0024, -0.0024, -0.0024, -0.0024,\n",
      "         -0.0024, -0.0024],\n",
      "        [-0.0030, -0.0030, -0.0030, -0.0030, -0.0030, -0.0030, -0.0030, -0.0030,\n",
      "         -0.0030, -0.0030, -0.0030, -0.0030, -0.0030, -0.0030, -0.0030, -0.0030,\n",
      "         -0.0030, -0.0030, -0.0030, -0.0030, -0.0030, -0.0030, -0.0030, -0.0030,\n",
      "         -0.0030, -0.0030, -0.0030, -0.0030, -0.0030, -0.0030, -0.0030, -0.0030,\n",
      "         -0.0030, -0.0030, -0.0030, -0.0030, -0.0030, -0.0030, -0.0030, -0.0030,\n",
      "         -0.0030, -0.0030, -0.0030, -0.0030, -0.0030, -0.0030, -0.0030, -0.0030,\n",
      "         -0.0030, -0.0030]], device='cuda:0', grad_fn=<SelectBackward0>)\n"
     ]
    },
    {
     "name": "stderr",
     "output_type": "stream",
     "text": [
      "0.00000746:   2%|▏         | 2/100 [02:35<1:53:48, 69.68s/it]"
     ]
    },
    {
     "name": "stdout",
     "output_type": "stream",
     "text": [
      "tensor([1., 1.], device='cuda:0') tensor([[-0.0023, -0.0023, -0.0023, -0.0023, -0.0023, -0.0023, -0.0023, -0.0023,\n",
      "         -0.0023, -0.0023, -0.0023, -0.0023, -0.0023, -0.0023, -0.0023, -0.0023,\n",
      "         -0.0023, -0.0023, -0.0023, -0.0023, -0.0023, -0.0023, -0.0023, -0.0023,\n",
      "         -0.0023, -0.0023, -0.0023, -0.0023, -0.0023, -0.0023, -0.0023, -0.0023,\n",
      "         -0.0023, -0.0023, -0.0023, -0.0023, -0.0023, -0.0023, -0.0023, -0.0023,\n",
      "         -0.0023, -0.0023, -0.0023, -0.0023, -0.0023, -0.0023, -0.0023, -0.0023,\n",
      "         -0.0023, -0.0023],\n",
      "        [-0.0019, -0.0019, -0.0019, -0.0019, -0.0019, -0.0019, -0.0019, -0.0019,\n",
      "         -0.0019, -0.0019, -0.0019, -0.0019, -0.0019, -0.0019, -0.0019, -0.0019,\n",
      "         -0.0019, -0.0019, -0.0019, -0.0019, -0.0019, -0.0019, -0.0019, -0.0019,\n",
      "         -0.0019, -0.0019, -0.0019, -0.0019, -0.0019, -0.0019, -0.0019, -0.0019,\n",
      "         -0.0019, -0.0019, -0.0019, -0.0019, -0.0019, -0.0019, -0.0019, -0.0019,\n",
      "         -0.0019, -0.0019, -0.0019, -0.0019, -0.0019, -0.0019, -0.0019, -0.0019,\n",
      "         -0.0019, -0.0019]], device='cuda:0', grad_fn=<SelectBackward0>)\n"
     ]
    },
    {
     "name": "stderr",
     "output_type": "stream",
     "text": [
      "0.00000449:   2%|▏         | 2/100 [02:37<1:53:48, 69.68s/it]"
     ]
    },
    {
     "name": "stdout",
     "output_type": "stream",
     "text": [
      "tensor([1., 1.], device='cuda:0') tensor([[-0.0012, -0.0012, -0.0012, -0.0012, -0.0012, -0.0012, -0.0012, -0.0012,\n",
      "         -0.0012, -0.0012, -0.0012, -0.0012, -0.0012, -0.0012, -0.0012, -0.0012,\n",
      "         -0.0012, -0.0012, -0.0012, -0.0012, -0.0012, -0.0012, -0.0012, -0.0012,\n",
      "         -0.0012, -0.0012, -0.0012, -0.0012, -0.0012, -0.0012, -0.0012, -0.0012,\n",
      "         -0.0012, -0.0012, -0.0012, -0.0012, -0.0012, -0.0012, -0.0012, -0.0012,\n",
      "         -0.0012, -0.0012, -0.0012, -0.0012, -0.0012, -0.0012, -0.0012, -0.0012,\n",
      "         -0.0012, -0.0012],\n",
      "        [-0.0014, -0.0014, -0.0014, -0.0014, -0.0014, -0.0014, -0.0014, -0.0014,\n",
      "         -0.0014, -0.0014, -0.0014, -0.0014, -0.0014, -0.0014, -0.0014, -0.0014,\n",
      "         -0.0014, -0.0014, -0.0014, -0.0014, -0.0014, -0.0014, -0.0014, -0.0014,\n",
      "         -0.0014, -0.0014, -0.0014, -0.0014, -0.0014, -0.0014, -0.0014, -0.0014,\n",
      "         -0.0014, -0.0014, -0.0014, -0.0014, -0.0014, -0.0014, -0.0014, -0.0014,\n",
      "         -0.0014, -0.0014, -0.0014, -0.0014, -0.0014, -0.0014, -0.0014, -0.0014,\n",
      "         -0.0014, -0.0014]], device='cuda:0', grad_fn=<SelectBackward0>)\n"
     ]
    },
    {
     "name": "stderr",
     "output_type": "stream",
     "text": [
      "0.00000168:   2%|▏         | 2/100 [02:38<1:53:48, 69.68s/it]"
     ]
    },
    {
     "name": "stdout",
     "output_type": "stream",
     "text": [
      "tensor([1., 1.], device='cuda:0') tensor([[-0.0004, -0.0004, -0.0004, -0.0004, -0.0004, -0.0004, -0.0004, -0.0004,\n",
      "         -0.0004, -0.0004, -0.0004, -0.0004, -0.0004, -0.0004, -0.0004, -0.0004,\n",
      "         -0.0004, -0.0004, -0.0004, -0.0004, -0.0004, -0.0004, -0.0004, -0.0004,\n",
      "         -0.0004, -0.0004, -0.0004, -0.0004, -0.0004, -0.0004, -0.0004, -0.0004,\n",
      "         -0.0004, -0.0004, -0.0004, -0.0004, -0.0004, -0.0004, -0.0004, -0.0004,\n",
      "         -0.0004, -0.0004, -0.0004, -0.0004, -0.0004, -0.0004, -0.0004, -0.0004,\n",
      "         -0.0004, -0.0004],\n",
      "        [-0.0004, -0.0004, -0.0004, -0.0004, -0.0004, -0.0004, -0.0004, -0.0004,\n",
      "         -0.0004, -0.0004, -0.0004, -0.0004, -0.0004, -0.0004, -0.0004, -0.0004,\n",
      "         -0.0004, -0.0004, -0.0004, -0.0004, -0.0004, -0.0004, -0.0004, -0.0004,\n",
      "         -0.0004, -0.0004, -0.0004, -0.0004, -0.0004, -0.0004, -0.0004, -0.0004,\n",
      "         -0.0004, -0.0004, -0.0004, -0.0004, -0.0004, -0.0004, -0.0004, -0.0004,\n",
      "         -0.0004, -0.0004, -0.0004, -0.0004, -0.0004, -0.0004, -0.0004, -0.0004,\n",
      "         -0.0004, -0.0004]], device='cuda:0', grad_fn=<SelectBackward0>)\n"
     ]
    },
    {
     "name": "stderr",
     "output_type": "stream",
     "text": [
      "0.00000016:   2%|▏         | 2/100 [02:39<1:53:48, 69.68s/it]"
     ]
    },
    {
     "name": "stdout",
     "output_type": "stream",
     "text": [
      "tensor([1., 1.], device='cuda:0') tensor([[ 0.0255,  0.0255,  0.0255,  0.0255,  0.0255,  0.0255,  0.0255,  0.0255,\n",
      "          0.0255,  0.0255,  0.0255,  0.0255,  0.0255,  0.0255,  0.0255,  0.0255,\n",
      "          0.0255,  0.0255,  0.0255,  0.0255,  0.0255,  0.0255,  0.0255,  0.0255,\n",
      "          0.0255,  0.0255,  0.0255,  0.0255,  0.0255,  0.0255,  0.0255,  0.0255,\n",
      "          0.0255,  0.0255,  0.0255,  0.0255,  0.0255,  0.0255,  0.0255,  0.0255,\n",
      "          0.0255,  0.0255,  0.0255,  0.0255,  0.0255,  0.0255,  0.0255,  0.0255,\n",
      "          0.0255,  0.0255],\n",
      "        [-0.0246, -0.0246, -0.0246, -0.0246, -0.0246, -0.0246, -0.0246, -0.0246,\n",
      "         -0.0246, -0.0246, -0.0246, -0.0246, -0.0246, -0.0246, -0.0246, -0.0246,\n",
      "         -0.0246, -0.0246, -0.0246, -0.0246, -0.0246, -0.0246, -0.0246, -0.0246,\n",
      "         -0.0246, -0.0246, -0.0246, -0.0246, -0.0246, -0.0246, -0.0246, -0.0246,\n",
      "         -0.0246, -0.0246, -0.0246, -0.0246, -0.0246, -0.0246, -0.0246, -0.0246,\n",
      "         -0.0246, -0.0246, -0.0246, -0.0246, -0.0246, -0.0246, -0.0246, -0.0246,\n",
      "         -0.0246, -0.0246]], device='cuda:0', grad_fn=<SelectBackward0>)\n"
     ]
    },
    {
     "name": "stderr",
     "output_type": "stream",
     "text": [
      "0.00062710:   2%|▏         | 2/100 [02:41<1:53:48, 69.68s/it]"
     ]
    },
    {
     "name": "stdout",
     "output_type": "stream",
     "text": [
      "tensor([1., 1.], device='cuda:0') tensor([[-0.0013, -0.0013, -0.0013, -0.0013, -0.0013, -0.0013, -0.0013, -0.0013,\n",
      "         -0.0013, -0.0013, -0.0013, -0.0013, -0.0013, -0.0013, -0.0013, -0.0013,\n",
      "         -0.0013, -0.0013, -0.0013, -0.0013, -0.0013, -0.0013, -0.0013, -0.0013,\n",
      "         -0.0013, -0.0013, -0.0013, -0.0013, -0.0013, -0.0013, -0.0013, -0.0013,\n",
      "         -0.0013, -0.0013, -0.0013, -0.0013, -0.0013, -0.0013, -0.0013, -0.0013,\n",
      "         -0.0013, -0.0013, -0.0013, -0.0013, -0.0013, -0.0013, -0.0013, -0.0013,\n",
      "         -0.0013, -0.0013],\n",
      "        [ 0.0048,  0.0048,  0.0048,  0.0048,  0.0048,  0.0048,  0.0048,  0.0048,\n",
      "          0.0048,  0.0048,  0.0048,  0.0048,  0.0048,  0.0048,  0.0048,  0.0048,\n",
      "          0.0048,  0.0048,  0.0048,  0.0048,  0.0048,  0.0048,  0.0048,  0.0048,\n",
      "          0.0048,  0.0048,  0.0048,  0.0048,  0.0048,  0.0048,  0.0048,  0.0048,\n",
      "          0.0048,  0.0048,  0.0048,  0.0048,  0.0048,  0.0048,  0.0048,  0.0048,\n",
      "          0.0048,  0.0048,  0.0048,  0.0048,  0.0048,  0.0048,  0.0048,  0.0048,\n",
      "          0.0048,  0.0048]], device='cuda:0', grad_fn=<SelectBackward0>)\n"
     ]
    },
    {
     "name": "stderr",
     "output_type": "stream",
     "text": [
      "0.00001218:   2%|▏         | 2/100 [02:42<1:53:48, 69.68s/it]"
     ]
    },
    {
     "name": "stdout",
     "output_type": "stream",
     "text": [
      "tensor([1., 1.], device='cuda:0') tensor([[ 0.0079,  0.0079,  0.0079,  0.0079,  0.0079,  0.0079,  0.0079,  0.0079,\n",
      "          0.0079,  0.0079,  0.0079,  0.0079,  0.0079,  0.0079,  0.0079,  0.0079,\n",
      "          0.0079,  0.0079,  0.0079,  0.0079,  0.0079,  0.0079,  0.0079,  0.0079,\n",
      "          0.0079,  0.0079,  0.0079,  0.0079,  0.0079,  0.0079,  0.0079,  0.0079,\n",
      "          0.0079,  0.0079,  0.0079,  0.0079,  0.0079,  0.0079,  0.0079,  0.0079,\n",
      "          0.0079,  0.0079,  0.0079,  0.0079,  0.0079,  0.0079,  0.0079,  0.0079,\n",
      "          0.0079,  0.0079],\n",
      "        [-0.0026, -0.0026, -0.0026, -0.0026, -0.0026, -0.0026, -0.0026, -0.0026,\n",
      "         -0.0026, -0.0026, -0.0026, -0.0026, -0.0026, -0.0026, -0.0026, -0.0026,\n",
      "         -0.0026, -0.0026, -0.0026, -0.0026, -0.0026, -0.0026, -0.0026, -0.0026,\n",
      "         -0.0026, -0.0026, -0.0026, -0.0026, -0.0026, -0.0026, -0.0026, -0.0026,\n",
      "         -0.0026, -0.0026, -0.0026, -0.0026, -0.0026, -0.0026, -0.0026, -0.0026,\n",
      "         -0.0026, -0.0026, -0.0026, -0.0026, -0.0026, -0.0026, -0.0026, -0.0026,\n",
      "         -0.0026, -0.0026]], device='cuda:0', grad_fn=<SelectBackward0>)\n"
     ]
    },
    {
     "name": "stderr",
     "output_type": "stream",
     "text": [
      "0.00003436:   2%|▏         | 2/100 [02:43<1:53:48, 69.68s/it]"
     ]
    },
    {
     "name": "stdout",
     "output_type": "stream",
     "text": [
      "tensor([1., 1.], device='cuda:0') tensor([[ 0.0096,  0.0096,  0.0096,  0.0096,  0.0096,  0.0096,  0.0096,  0.0096,\n",
      "          0.0096,  0.0096,  0.0096,  0.0096,  0.0096,  0.0096,  0.0096,  0.0096,\n",
      "          0.0096,  0.0096,  0.0096,  0.0096,  0.0096,  0.0096,  0.0096,  0.0096,\n",
      "          0.0096,  0.0096,  0.0096,  0.0096,  0.0096,  0.0096,  0.0096,  0.0096,\n",
      "          0.0096,  0.0096,  0.0096,  0.0096,  0.0096,  0.0096,  0.0096,  0.0096,\n",
      "          0.0096,  0.0096,  0.0096,  0.0096,  0.0096,  0.0096,  0.0096,  0.0096,\n",
      "          0.0096,  0.0096],\n",
      "        [-0.0036, -0.0036, -0.0036, -0.0036, -0.0036, -0.0036, -0.0036, -0.0036,\n",
      "         -0.0036, -0.0036, -0.0036, -0.0036, -0.0036, -0.0036, -0.0036, -0.0036,\n",
      "         -0.0036, -0.0036, -0.0036, -0.0036, -0.0036, -0.0036, -0.0036, -0.0036,\n",
      "         -0.0036, -0.0036, -0.0036, -0.0036, -0.0036, -0.0036, -0.0036, -0.0036,\n",
      "         -0.0036, -0.0036, -0.0036, -0.0036, -0.0036, -0.0036, -0.0036, -0.0036,\n",
      "         -0.0036, -0.0036, -0.0036, -0.0036, -0.0036, -0.0036, -0.0036, -0.0036,\n",
      "         -0.0036, -0.0036]], device='cuda:0', grad_fn=<SelectBackward0>)\n"
     ]
    },
    {
     "name": "stderr",
     "output_type": "stream",
     "text": [
      "0.00005239:   2%|▏         | 2/100 [02:45<1:53:48, 69.68s/it]"
     ]
    },
    {
     "name": "stdout",
     "output_type": "stream",
     "text": [
      "tensor([1., 1.], device='cuda:0') tensor([[ 0.0098,  0.0098,  0.0098,  0.0098,  0.0098,  0.0098,  0.0098,  0.0098,\n",
      "          0.0098,  0.0098,  0.0098,  0.0098,  0.0098,  0.0098,  0.0098,  0.0098,\n",
      "          0.0098,  0.0098,  0.0098,  0.0098,  0.0098,  0.0098,  0.0098,  0.0098,\n",
      "          0.0098,  0.0098,  0.0098,  0.0098,  0.0098,  0.0098,  0.0098,  0.0098,\n",
      "          0.0098,  0.0098,  0.0098,  0.0098,  0.0098,  0.0098,  0.0098,  0.0098,\n",
      "          0.0098,  0.0098,  0.0098,  0.0098,  0.0098,  0.0098,  0.0098,  0.0098,\n",
      "          0.0098,  0.0098],\n",
      "        [-0.0041, -0.0041, -0.0041, -0.0041, -0.0041, -0.0041, -0.0041, -0.0041,\n",
      "         -0.0041, -0.0041, -0.0041, -0.0041, -0.0041, -0.0041, -0.0041, -0.0041,\n",
      "         -0.0041, -0.0041, -0.0041, -0.0041, -0.0041, -0.0041, -0.0041, -0.0041,\n",
      "         -0.0041, -0.0041, -0.0041, -0.0041, -0.0041, -0.0041, -0.0041, -0.0041,\n",
      "         -0.0041, -0.0041, -0.0041, -0.0041, -0.0041, -0.0041, -0.0041, -0.0041,\n",
      "         -0.0041, -0.0041, -0.0041, -0.0041, -0.0041, -0.0041, -0.0041, -0.0041,\n",
      "         -0.0041, -0.0041]], device='cuda:0', grad_fn=<SelectBackward0>)\n"
     ]
    },
    {
     "name": "stderr",
     "output_type": "stream",
     "text": [
      "0.00005675:   2%|▏         | 2/100 [02:46<1:53:48, 69.68s/it]"
     ]
    },
    {
     "name": "stdout",
     "output_type": "stream",
     "text": [
      "tensor([1., 1.], device='cuda:0') tensor([[ 0.0087,  0.0087,  0.0087,  0.0087,  0.0087,  0.0087,  0.0087,  0.0087,\n",
      "          0.0087,  0.0087,  0.0087,  0.0087,  0.0087,  0.0087,  0.0087,  0.0087,\n",
      "          0.0087,  0.0087,  0.0087,  0.0087,  0.0087,  0.0087,  0.0087,  0.0087,\n",
      "          0.0087,  0.0087,  0.0087,  0.0087,  0.0087,  0.0087,  0.0087,  0.0087,\n",
      "          0.0087,  0.0087,  0.0087,  0.0087,  0.0087,  0.0087,  0.0087,  0.0087,\n",
      "          0.0087,  0.0087,  0.0087,  0.0087,  0.0087,  0.0087,  0.0087,  0.0087,\n",
      "          0.0087,  0.0087],\n",
      "        [-0.0042, -0.0042, -0.0042, -0.0042, -0.0042, -0.0042, -0.0042, -0.0042,\n",
      "         -0.0042, -0.0042, -0.0042, -0.0042, -0.0042, -0.0042, -0.0042, -0.0042,\n",
      "         -0.0042, -0.0042, -0.0042, -0.0042, -0.0042, -0.0042, -0.0042, -0.0042,\n",
      "         -0.0042, -0.0042, -0.0042, -0.0042, -0.0042, -0.0042, -0.0042, -0.0042,\n",
      "         -0.0042, -0.0042, -0.0042, -0.0042, -0.0042, -0.0042, -0.0042, -0.0042,\n",
      "         -0.0042, -0.0042, -0.0042, -0.0042, -0.0042, -0.0042, -0.0042, -0.0042,\n",
      "         -0.0042, -0.0042]], device='cuda:0', grad_fn=<SelectBackward0>)\n"
     ]
    },
    {
     "name": "stderr",
     "output_type": "stream",
     "text": [
      "0.00004652:   2%|▏         | 2/100 [02:47<1:53:48, 69.68s/it]"
     ]
    },
    {
     "name": "stdout",
     "output_type": "stream",
     "text": [
      "tensor([1., 1.], device='cuda:0') tensor([[-0.0038, -0.0038, -0.0038, -0.0038, -0.0038, -0.0038, -0.0038, -0.0038,\n",
      "         -0.0038, -0.0038, -0.0038, -0.0038, -0.0038, -0.0038, -0.0038, -0.0038,\n",
      "         -0.0038, -0.0038, -0.0038, -0.0038, -0.0038, -0.0038, -0.0038, -0.0038,\n",
      "         -0.0038, -0.0038, -0.0038, -0.0038, -0.0038, -0.0038, -0.0038, -0.0038,\n",
      "         -0.0038, -0.0038, -0.0038, -0.0038, -0.0038, -0.0038, -0.0038, -0.0038,\n",
      "         -0.0038, -0.0038, -0.0038, -0.0038, -0.0038, -0.0038, -0.0038, -0.0038,\n",
      "         -0.0038, -0.0038],\n",
      "        [ 0.0065,  0.0065,  0.0065,  0.0065,  0.0065,  0.0065,  0.0065,  0.0065,\n",
      "          0.0065,  0.0065,  0.0065,  0.0065,  0.0065,  0.0065,  0.0065,  0.0065,\n",
      "          0.0065,  0.0065,  0.0065,  0.0065,  0.0065,  0.0065,  0.0065,  0.0065,\n",
      "          0.0065,  0.0065,  0.0065,  0.0065,  0.0065,  0.0065,  0.0065,  0.0065,\n",
      "          0.0065,  0.0065,  0.0065,  0.0065,  0.0065,  0.0065,  0.0065,  0.0065,\n",
      "          0.0065,  0.0065,  0.0065,  0.0065,  0.0065,  0.0065,  0.0065,  0.0065,\n",
      "          0.0065,  0.0065]], device='cuda:0', grad_fn=<SelectBackward0>)\n"
     ]
    },
    {
     "name": "stderr",
     "output_type": "stream",
     "text": [
      "0.00002824:   2%|▏         | 2/100 [02:49<1:53:48, 69.68s/it]"
     ]
    },
    {
     "name": "stdout",
     "output_type": "stream",
     "text": [
      "tensor([1., 1.], device='cuda:0') tensor([[ 0.0036,  0.0036,  0.0036,  0.0036,  0.0036,  0.0036,  0.0036,  0.0036,\n",
      "          0.0036,  0.0036,  0.0036,  0.0036,  0.0036,  0.0036,  0.0036,  0.0036,\n",
      "          0.0036,  0.0036,  0.0036,  0.0036,  0.0036,  0.0036,  0.0036,  0.0036,\n",
      "          0.0036,  0.0036,  0.0036,  0.0036,  0.0036,  0.0036,  0.0036,  0.0036,\n",
      "          0.0036,  0.0036,  0.0036,  0.0036,  0.0036,  0.0036,  0.0036,  0.0036,\n",
      "          0.0036,  0.0036,  0.0036,  0.0036,  0.0036,  0.0036,  0.0036,  0.0036,\n",
      "          0.0036,  0.0036],\n",
      "        [-0.0031, -0.0031, -0.0031, -0.0031, -0.0031, -0.0031, -0.0031, -0.0031,\n",
      "         -0.0031, -0.0031, -0.0031, -0.0031, -0.0031, -0.0031, -0.0031, -0.0031,\n",
      "         -0.0031, -0.0031, -0.0031, -0.0031, -0.0031, -0.0031, -0.0031, -0.0031,\n",
      "         -0.0031, -0.0031, -0.0031, -0.0031, -0.0031, -0.0031, -0.0031, -0.0031,\n",
      "         -0.0031, -0.0031, -0.0031, -0.0031, -0.0031, -0.0031, -0.0031, -0.0031,\n",
      "         -0.0031, -0.0031, -0.0031, -0.0031, -0.0031, -0.0031, -0.0031, -0.0031,\n",
      "         -0.0031, -0.0031]], device='cuda:0', grad_fn=<SelectBackward0>)\n"
     ]
    },
    {
     "name": "stderr",
     "output_type": "stream",
     "text": [
      "0.00001124:   2%|▏         | 2/100 [02:50<1:53:48, 69.68s/it]"
     ]
    },
    {
     "name": "stdout",
     "output_type": "stream",
     "text": [
      "tensor([1., 1.], device='cuda:0') tensor([[ 0.0004,  0.0004,  0.0004,  0.0004,  0.0004,  0.0004,  0.0004,  0.0004,\n",
      "          0.0004,  0.0004,  0.0004,  0.0004,  0.0004,  0.0004,  0.0004,  0.0004,\n",
      "          0.0004,  0.0004,  0.0004,  0.0004,  0.0004,  0.0004,  0.0004,  0.0004,\n",
      "          0.0004,  0.0004,  0.0004,  0.0004,  0.0004,  0.0004,  0.0004,  0.0004,\n",
      "          0.0004,  0.0004,  0.0004,  0.0004,  0.0004,  0.0004,  0.0004,  0.0004,\n",
      "          0.0004,  0.0004,  0.0004,  0.0004,  0.0004,  0.0004,  0.0004,  0.0004,\n",
      "          0.0004,  0.0004],\n",
      "        [-0.0022, -0.0022, -0.0022, -0.0022, -0.0022, -0.0022, -0.0022, -0.0022,\n",
      "         -0.0022, -0.0022, -0.0022, -0.0022, -0.0022, -0.0022, -0.0022, -0.0022,\n",
      "         -0.0022, -0.0022, -0.0022, -0.0022, -0.0022, -0.0022, -0.0022, -0.0022,\n",
      "         -0.0022, -0.0022, -0.0022, -0.0022, -0.0022, -0.0022, -0.0022, -0.0022,\n",
      "         -0.0022, -0.0022, -0.0022, -0.0022, -0.0022, -0.0022, -0.0022, -0.0022,\n",
      "         -0.0022, -0.0022, -0.0022, -0.0022, -0.0022, -0.0022, -0.0022, -0.0022,\n",
      "         -0.0022, -0.0022]], device='cuda:0', grad_fn=<SelectBackward0>)\n"
     ]
    },
    {
     "name": "stderr",
     "output_type": "stream",
     "text": [
      "0.00000249:   2%|▏         | 2/100 [02:52<1:53:48, 69.68s/it]"
     ]
    },
    {
     "name": "stdout",
     "output_type": "stream",
     "text": [
      "tensor([1., 1.], device='cuda:0') tensor([[-0.0011, -0.0011, -0.0011, -0.0011, -0.0011, -0.0011, -0.0011, -0.0011,\n",
      "         -0.0011, -0.0011, -0.0011, -0.0011, -0.0011, -0.0011, -0.0011, -0.0011,\n",
      "         -0.0011, -0.0011, -0.0011, -0.0011, -0.0011, -0.0011, -0.0011, -0.0011,\n",
      "         -0.0011, -0.0011, -0.0011, -0.0011, -0.0011, -0.0011, -0.0011, -0.0011,\n",
      "         -0.0011, -0.0011, -0.0011, -0.0011, -0.0011, -0.0011, -0.0011, -0.0011,\n",
      "         -0.0011, -0.0011, -0.0011, -0.0011, -0.0011, -0.0011, -0.0011, -0.0011,\n",
      "         -0.0011, -0.0011],\n",
      "        [-0.0024, -0.0024, -0.0024, -0.0024, -0.0024, -0.0024, -0.0024, -0.0024,\n",
      "         -0.0024, -0.0024, -0.0024, -0.0024, -0.0024, -0.0024, -0.0024, -0.0024,\n",
      "         -0.0024, -0.0024, -0.0024, -0.0024, -0.0024, -0.0024, -0.0024, -0.0024,\n",
      "         -0.0024, -0.0024, -0.0024, -0.0024, -0.0024, -0.0024, -0.0024, -0.0024,\n",
      "         -0.0024, -0.0024, -0.0024, -0.0024, -0.0024, -0.0024, -0.0024, -0.0024,\n",
      "         -0.0024, -0.0024, -0.0024, -0.0024, -0.0024, -0.0024, -0.0024, -0.0024,\n",
      "         -0.0024, -0.0024]], device='cuda:0', grad_fn=<SelectBackward0>)\n"
     ]
    },
    {
     "name": "stderr",
     "output_type": "stream",
     "text": [
      "0.00000358:   2%|▏         | 2/100 [02:53<1:53:48, 69.68s/it]"
     ]
    },
    {
     "name": "stdout",
     "output_type": "stream",
     "text": [
      "tensor([1., 1.], device='cuda:0') tensor([[-4.6847e-03, -4.6847e-03, -4.6847e-03, -4.6847e-03, -4.6847e-03,\n",
      "         -4.6847e-03, -4.6847e-03, -4.6847e-03, -4.6847e-03, -4.6847e-03,\n",
      "         -4.6847e-03, -4.6847e-03, -4.6847e-03, -4.6847e-03, -4.6847e-03,\n",
      "         -4.6847e-03, -4.6847e-03, -4.6847e-03, -4.6847e-03, -4.6847e-03,\n",
      "         -4.6847e-03, -4.6847e-03, -4.6847e-03, -4.6847e-03, -4.6847e-03,\n",
      "         -4.6847e-03, -4.6847e-03, -4.6847e-03, -4.6848e-03, -4.6847e-03,\n",
      "         -4.6847e-03, -4.6847e-03, -4.6847e-03, -4.6848e-03, -4.6847e-03,\n",
      "         -4.6847e-03, -4.6847e-03, -4.6847e-03, -4.6847e-03, -4.6847e-03,\n",
      "         -4.6847e-03, -4.6847e-03, -4.6847e-03, -4.6847e-03, -4.6847e-03,\n",
      "         -4.6847e-03, -4.6848e-03, -4.6847e-03, -4.6847e-03, -4.6847e-03],\n",
      "        [ 2.7671e-05,  2.7627e-05,  2.7686e-05,  2.7657e-05,  2.7671e-05,\n",
      "          2.7671e-05,  2.7686e-05,  2.7657e-05,  2.7671e-05,  2.7642e-05,\n",
      "          2.7657e-05,  2.7686e-05,  2.7686e-05,  2.7671e-05,  2.7671e-05,\n",
      "          2.7686e-05,  2.7671e-05,  2.7657e-05,  2.7657e-05,  2.7686e-05,\n",
      "          2.7627e-05,  2.7671e-05,  2.7612e-05,  2.7657e-05,  2.7686e-05,\n",
      "          2.7657e-05,  2.7642e-05,  2.7671e-05,  2.7686e-05,  2.7671e-05,\n",
      "          2.7686e-05,  2.7657e-05,  2.7671e-05,  2.7627e-05,  2.7686e-05,\n",
      "          2.7671e-05,  2.7657e-05,  2.7671e-05,  2.7671e-05,  2.7686e-05,\n",
      "          2.7686e-05,  2.7671e-05,  2.7686e-05,  2.7686e-05,  2.7657e-05,\n",
      "          2.7657e-05,  2.7642e-05,  2.7627e-05,  2.7686e-05,  2.7657e-05]],\n",
      "       device='cuda:0', grad_fn=<SelectBackward0>)\n"
     ]
    },
    {
     "name": "stderr",
     "output_type": "stream",
     "text": [
      "0.00001097:   2%|▏         | 2/100 [02:54<1:53:48, 69.68s/it]"
     ]
    },
    {
     "name": "stdout",
     "output_type": "stream",
     "text": [
      "tensor([1., 1.], device='cuda:0') tensor([[ 0.0011,  0.0011,  0.0011,  0.0011,  0.0011,  0.0011,  0.0011,  0.0011,\n",
      "          0.0011,  0.0011,  0.0011,  0.0011,  0.0011,  0.0011,  0.0011,  0.0011,\n",
      "          0.0011,  0.0011,  0.0011,  0.0011,  0.0011,  0.0011,  0.0011,  0.0011,\n",
      "          0.0011,  0.0011,  0.0011,  0.0011,  0.0011,  0.0011,  0.0011,  0.0011,\n",
      "          0.0011,  0.0011,  0.0011,  0.0011,  0.0011,  0.0011,  0.0011,  0.0011,\n",
      "          0.0011,  0.0011,  0.0011,  0.0011,  0.0011,  0.0011,  0.0011,  0.0011,\n",
      "          0.0011,  0.0011],\n",
      "        [-0.0060, -0.0060, -0.0060, -0.0060, -0.0060, -0.0060, -0.0060, -0.0060,\n",
      "         -0.0060, -0.0060, -0.0060, -0.0060, -0.0060, -0.0060, -0.0060, -0.0060,\n",
      "         -0.0060, -0.0060, -0.0060, -0.0060, -0.0060, -0.0060, -0.0060, -0.0060,\n",
      "         -0.0060, -0.0060, -0.0060, -0.0060, -0.0060, -0.0060, -0.0060, -0.0060,\n",
      "         -0.0060, -0.0060, -0.0060, -0.0060, -0.0060, -0.0060, -0.0060, -0.0060,\n",
      "         -0.0060, -0.0060, -0.0060, -0.0060, -0.0060, -0.0060, -0.0060, -0.0060,\n",
      "         -0.0060, -0.0060]], device='cuda:0', grad_fn=<SelectBackward0>)\n"
     ]
    },
    {
     "name": "stderr",
     "output_type": "stream",
     "text": [
      "0.00001881:   2%|▏         | 2/100 [02:56<1:53:48, 69.68s/it]"
     ]
    },
    {
     "name": "stdout",
     "output_type": "stream",
     "text": [
      "tensor([1., 1.], device='cuda:0') tensor([[ 0.0019,  0.0019,  0.0019,  0.0019,  0.0019,  0.0019,  0.0019,  0.0019,\n",
      "          0.0019,  0.0019,  0.0019,  0.0019,  0.0019,  0.0019,  0.0019,  0.0019,\n",
      "          0.0019,  0.0019,  0.0019,  0.0019,  0.0019,  0.0019,  0.0019,  0.0019,\n",
      "          0.0019,  0.0019,  0.0019,  0.0019,  0.0019,  0.0019,  0.0019,  0.0019,\n",
      "          0.0019,  0.0019,  0.0019,  0.0019,  0.0019,  0.0019,  0.0019,  0.0019,\n",
      "          0.0019,  0.0019,  0.0019,  0.0019,  0.0019,  0.0019,  0.0019,  0.0019,\n",
      "          0.0019,  0.0019],\n",
      "        [-0.0064, -0.0064, -0.0064, -0.0064, -0.0064, -0.0064, -0.0064, -0.0064,\n",
      "         -0.0064, -0.0064, -0.0064, -0.0064, -0.0064, -0.0064, -0.0064, -0.0064,\n",
      "         -0.0064, -0.0064, -0.0064, -0.0064, -0.0064, -0.0064, -0.0064, -0.0064,\n",
      "         -0.0064, -0.0064, -0.0064, -0.0064, -0.0064, -0.0064, -0.0064, -0.0064,\n",
      "         -0.0064, -0.0064, -0.0064, -0.0064, -0.0064, -0.0064, -0.0064, -0.0064,\n",
      "         -0.0064, -0.0064, -0.0064, -0.0064, -0.0064, -0.0064, -0.0064, -0.0064,\n",
      "         -0.0064, -0.0064]], device='cuda:0', grad_fn=<SelectBackward0>)\n"
     ]
    },
    {
     "name": "stderr",
     "output_type": "stream",
     "text": [
      "0.00002230:   2%|▏         | 2/100 [02:57<1:53:48, 69.68s/it]"
     ]
    },
    {
     "name": "stdout",
     "output_type": "stream",
     "text": [
      "tensor([1., 1.], device='cuda:0') tensor([[ 0.0025,  0.0025,  0.0025,  0.0025,  0.0025,  0.0025,  0.0025,  0.0025,\n",
      "          0.0025,  0.0025,  0.0025,  0.0025,  0.0025,  0.0025,  0.0025,  0.0025,\n",
      "          0.0025,  0.0025,  0.0025,  0.0025,  0.0025,  0.0025,  0.0025,  0.0025,\n",
      "          0.0025,  0.0025,  0.0025,  0.0025,  0.0025,  0.0025,  0.0025,  0.0025,\n",
      "          0.0025,  0.0025,  0.0025,  0.0025,  0.0025,  0.0025,  0.0025,  0.0025,\n",
      "          0.0025,  0.0025,  0.0025,  0.0025,  0.0025,  0.0025,  0.0025,  0.0025,\n",
      "          0.0025,  0.0025],\n",
      "        [-0.0058, -0.0058, -0.0058, -0.0058, -0.0058, -0.0058, -0.0058, -0.0058,\n",
      "         -0.0058, -0.0058, -0.0058, -0.0058, -0.0058, -0.0058, -0.0058, -0.0058,\n",
      "         -0.0058, -0.0058, -0.0058, -0.0058, -0.0058, -0.0058, -0.0058, -0.0058,\n",
      "         -0.0058, -0.0058, -0.0058, -0.0058, -0.0058, -0.0058, -0.0058, -0.0058,\n",
      "         -0.0058, -0.0058, -0.0058, -0.0058, -0.0058, -0.0058, -0.0058, -0.0058,\n",
      "         -0.0058, -0.0058, -0.0058, -0.0058, -0.0058, -0.0058, -0.0058, -0.0058,\n",
      "         -0.0058, -0.0058]], device='cuda:0', grad_fn=<SelectBackward0>)\n"
     ]
    },
    {
     "name": "stderr",
     "output_type": "stream",
     "text": [
      "0.00001996:   2%|▏         | 2/100 [02:58<1:53:48, 69.68s/it]"
     ]
    },
    {
     "name": "stdout",
     "output_type": "stream",
     "text": [
      "tensor([1., 1.], device='cuda:0') tensor([[-0.0044, -0.0044, -0.0044, -0.0044, -0.0044, -0.0044, -0.0044, -0.0044,\n",
      "         -0.0044, -0.0044, -0.0044, -0.0044, -0.0044, -0.0044, -0.0044, -0.0044,\n",
      "         -0.0044, -0.0044, -0.0044, -0.0044, -0.0044, -0.0044, -0.0044, -0.0044,\n",
      "         -0.0044, -0.0044, -0.0044, -0.0044, -0.0044, -0.0044, -0.0044, -0.0044,\n",
      "         -0.0044, -0.0044, -0.0044, -0.0044, -0.0044, -0.0044, -0.0044, -0.0044,\n",
      "         -0.0044, -0.0044, -0.0044, -0.0044, -0.0044, -0.0044, -0.0044, -0.0044,\n",
      "         -0.0044, -0.0044],\n",
      "        [ 0.0028,  0.0028,  0.0028,  0.0028,  0.0028,  0.0028,  0.0028,  0.0028,\n",
      "          0.0028,  0.0028,  0.0028,  0.0028,  0.0028,  0.0028,  0.0028,  0.0028,\n",
      "          0.0028,  0.0028,  0.0028,  0.0028,  0.0028,  0.0028,  0.0028,  0.0028,\n",
      "          0.0028,  0.0028,  0.0028,  0.0028,  0.0028,  0.0028,  0.0028,  0.0028,\n",
      "          0.0028,  0.0028,  0.0028,  0.0028,  0.0028,  0.0028,  0.0028,  0.0028,\n",
      "          0.0028,  0.0028,  0.0028,  0.0028,  0.0028,  0.0028,  0.0028,  0.0028,\n",
      "          0.0028,  0.0028]], device='cuda:0', grad_fn=<SelectBackward0>)\n"
     ]
    },
    {
     "name": "stderr",
     "output_type": "stream",
     "text": [
      "0.00001367:   2%|▏         | 2/100 [03:00<1:53:48, 69.68s/it]"
     ]
    },
    {
     "name": "stdout",
     "output_type": "stream",
     "text": [
      "tensor([1., 1.], device='cuda:0') tensor([[-0.0026, -0.0026, -0.0026, -0.0026, -0.0026, -0.0026, -0.0026, -0.0026,\n",
      "         -0.0026, -0.0026, -0.0026, -0.0026, -0.0026, -0.0026, -0.0026, -0.0026,\n",
      "         -0.0026, -0.0026, -0.0026, -0.0026, -0.0026, -0.0026, -0.0026, -0.0026,\n",
      "         -0.0026, -0.0026, -0.0026, -0.0026, -0.0026, -0.0026, -0.0026, -0.0026,\n",
      "         -0.0026, -0.0026, -0.0026, -0.0026, -0.0026, -0.0026, -0.0026, -0.0026,\n",
      "         -0.0026, -0.0026, -0.0026, -0.0026, -0.0026, -0.0026, -0.0026, -0.0026,\n",
      "         -0.0026, -0.0026],\n",
      "        [ 0.0027,  0.0027,  0.0027,  0.0027,  0.0027,  0.0027,  0.0027,  0.0027,\n",
      "          0.0027,  0.0027,  0.0027,  0.0027,  0.0027,  0.0027,  0.0027,  0.0027,\n",
      "          0.0027,  0.0027,  0.0027,  0.0027,  0.0027,  0.0027,  0.0027,  0.0027,\n",
      "          0.0027,  0.0027,  0.0027,  0.0027,  0.0027,  0.0027,  0.0027,  0.0027,\n",
      "          0.0027,  0.0027,  0.0027,  0.0027,  0.0027,  0.0027,  0.0027,  0.0027,\n",
      "          0.0027,  0.0027,  0.0027,  0.0027,  0.0027,  0.0027,  0.0027,  0.0027,\n",
      "          0.0027,  0.0027]], device='cuda:0', grad_fn=<SelectBackward0>)\n"
     ]
    },
    {
     "name": "stderr",
     "output_type": "stream",
     "text": [
      "0.00000700:   2%|▏         | 2/100 [03:01<1:53:48, 69.68s/it]"
     ]
    },
    {
     "name": "stdout",
     "output_type": "stream",
     "text": [
      "tensor([1., 1.], device='cuda:0') tensor([[ 0.0024,  0.0024,  0.0024,  0.0024,  0.0024,  0.0024,  0.0024,  0.0024,\n",
      "          0.0024,  0.0024,  0.0024,  0.0024,  0.0024,  0.0024,  0.0024,  0.0024,\n",
      "          0.0024,  0.0024,  0.0024,  0.0024,  0.0024,  0.0024,  0.0024,  0.0024,\n",
      "          0.0024,  0.0024,  0.0024,  0.0024,  0.0024,  0.0024,  0.0024,  0.0024,\n",
      "          0.0024,  0.0024,  0.0024,  0.0024,  0.0024,  0.0024,  0.0024,  0.0024,\n",
      "          0.0024,  0.0024,  0.0024,  0.0024,  0.0024,  0.0024,  0.0024,  0.0024,\n",
      "          0.0024,  0.0024],\n",
      "        [-0.0005, -0.0005, -0.0005, -0.0005, -0.0005, -0.0005, -0.0005, -0.0005,\n",
      "         -0.0005, -0.0005, -0.0005, -0.0005, -0.0005, -0.0005, -0.0005, -0.0005,\n",
      "         -0.0005, -0.0005, -0.0005, -0.0005, -0.0005, -0.0005, -0.0005, -0.0005,\n",
      "         -0.0005, -0.0005, -0.0005, -0.0005, -0.0005, -0.0005, -0.0005, -0.0005,\n",
      "         -0.0005, -0.0005, -0.0005, -0.0005, -0.0005, -0.0005, -0.0005, -0.0005,\n",
      "         -0.0005, -0.0005, -0.0005, -0.0005, -0.0005, -0.0005, -0.0005, -0.0005,\n",
      "         -0.0005, -0.0005]], device='cuda:0', grad_fn=<SelectBackward0>)\n"
     ]
    },
    {
     "name": "stderr",
     "output_type": "stream",
     "text": [
      "0.00000297:   2%|▏         | 2/100 [03:02<1:53:48, 69.68s/it]"
     ]
    },
    {
     "name": "stdout",
     "output_type": "stream",
     "text": [
      "tensor([1., 1.], device='cuda:0') tensor([[0.0018, 0.0018, 0.0018, 0.0018, 0.0018, 0.0018, 0.0018, 0.0018, 0.0018,\n",
      "         0.0018, 0.0018, 0.0018, 0.0018, 0.0018, 0.0018, 0.0018, 0.0018, 0.0018,\n",
      "         0.0018, 0.0018, 0.0018, 0.0018, 0.0018, 0.0018, 0.0018, 0.0018, 0.0018,\n",
      "         0.0018, 0.0018, 0.0018, 0.0018, 0.0018, 0.0018, 0.0018, 0.0018, 0.0018,\n",
      "         0.0018, 0.0018, 0.0018, 0.0018, 0.0018, 0.0018, 0.0018, 0.0018, 0.0018,\n",
      "         0.0018, 0.0018, 0.0018, 0.0018, 0.0018],\n",
      "        [0.0014, 0.0014, 0.0014, 0.0014, 0.0014, 0.0014, 0.0014, 0.0014, 0.0014,\n",
      "         0.0014, 0.0014, 0.0014, 0.0014, 0.0014, 0.0014, 0.0014, 0.0014, 0.0014,\n",
      "         0.0014, 0.0014, 0.0014, 0.0014, 0.0014, 0.0014, 0.0014, 0.0014, 0.0014,\n",
      "         0.0014, 0.0014, 0.0014, 0.0014, 0.0014, 0.0014, 0.0014, 0.0014, 0.0014,\n",
      "         0.0014, 0.0014, 0.0014, 0.0014, 0.0014, 0.0014, 0.0014, 0.0014, 0.0014,\n",
      "         0.0014, 0.0014, 0.0014, 0.0014, 0.0014]], device='cuda:0',\n",
      "       grad_fn=<SelectBackward0>)\n"
     ]
    },
    {
     "name": "stderr",
     "output_type": "stream",
     "text": [
      "0.00000263:   2%|▏         | 2/100 [03:04<1:53:48, 69.68s/it]"
     ]
    },
    {
     "name": "stdout",
     "output_type": "stream",
     "text": [
      "tensor([1., 1.], device='cuda:0') tensor([[0.0029, 0.0029, 0.0029, 0.0029, 0.0029, 0.0029, 0.0029, 0.0029, 0.0029,\n",
      "         0.0029, 0.0029, 0.0029, 0.0029, 0.0029, 0.0029, 0.0029, 0.0029, 0.0029,\n",
      "         0.0029, 0.0029, 0.0029, 0.0029, 0.0029, 0.0029, 0.0029, 0.0029, 0.0029,\n",
      "         0.0029, 0.0029, 0.0029, 0.0029, 0.0029, 0.0029, 0.0029, 0.0029, 0.0029,\n",
      "         0.0029, 0.0029, 0.0029, 0.0029, 0.0029, 0.0029, 0.0029, 0.0029, 0.0029,\n",
      "         0.0029, 0.0029, 0.0029, 0.0029, 0.0029],\n",
      "        [0.0011, 0.0011, 0.0011, 0.0011, 0.0011, 0.0011, 0.0011, 0.0011, 0.0011,\n",
      "         0.0011, 0.0011, 0.0011, 0.0011, 0.0011, 0.0011, 0.0011, 0.0011, 0.0011,\n",
      "         0.0011, 0.0011, 0.0011, 0.0011, 0.0011, 0.0011, 0.0011, 0.0011, 0.0011,\n",
      "         0.0011, 0.0011, 0.0011, 0.0011, 0.0011, 0.0011, 0.0011, 0.0011, 0.0011,\n",
      "         0.0011, 0.0011, 0.0011, 0.0011, 0.0011, 0.0011, 0.0011, 0.0011, 0.0011,\n",
      "         0.0011, 0.0011, 0.0011, 0.0011, 0.0011]], device='cuda:0',\n",
      "       grad_fn=<SelectBackward0>)\n"
     ]
    },
    {
     "name": "stderr",
     "output_type": "stream",
     "text": [
      "0.00000487:   2%|▏         | 2/100 [03:05<1:53:48, 69.68s/it]"
     ]
    },
    {
     "name": "stdout",
     "output_type": "stream",
     "text": [
      "tensor([1., 1.], device='cuda:0') tensor([[0.0003, 0.0003, 0.0003, 0.0003, 0.0003, 0.0003, 0.0003, 0.0003, 0.0003,\n",
      "         0.0003, 0.0003, 0.0003, 0.0003, 0.0003, 0.0003, 0.0003, 0.0003, 0.0003,\n",
      "         0.0003, 0.0003, 0.0003, 0.0003, 0.0003, 0.0003, 0.0003, 0.0003, 0.0003,\n",
      "         0.0003, 0.0003, 0.0003, 0.0003, 0.0003, 0.0003, 0.0003, 0.0003, 0.0003,\n",
      "         0.0003, 0.0003, 0.0003, 0.0003, 0.0003, 0.0003, 0.0003, 0.0003, 0.0003,\n",
      "         0.0003, 0.0003, 0.0003, 0.0003, 0.0003],\n",
      "        [0.0039, 0.0039, 0.0039, 0.0039, 0.0039, 0.0039, 0.0039, 0.0039, 0.0039,\n",
      "         0.0039, 0.0039, 0.0039, 0.0039, 0.0039, 0.0039, 0.0039, 0.0039, 0.0039,\n",
      "         0.0039, 0.0039, 0.0039, 0.0039, 0.0039, 0.0039, 0.0039, 0.0039, 0.0039,\n",
      "         0.0039, 0.0039, 0.0039, 0.0039, 0.0039, 0.0039, 0.0039, 0.0039, 0.0039,\n",
      "         0.0039, 0.0039, 0.0039, 0.0039, 0.0039, 0.0039, 0.0039, 0.0039, 0.0039,\n",
      "         0.0039, 0.0039, 0.0039, 0.0039, 0.0039]], device='cuda:0',\n",
      "       grad_fn=<SelectBackward0>)\n"
     ]
    },
    {
     "name": "stderr",
     "output_type": "stream",
     "text": [
      "0.00000749:   2%|▏         | 2/100 [03:06<1:53:48, 69.68s/it]"
     ]
    },
    {
     "name": "stdout",
     "output_type": "stream",
     "text": [
      "tensor([1., 1.], device='cuda:0') tensor([[-0.0005, -0.0005, -0.0005, -0.0005, -0.0005, -0.0005, -0.0005, -0.0005,\n",
      "         -0.0005, -0.0005, -0.0005, -0.0005, -0.0005, -0.0005, -0.0005, -0.0005,\n",
      "         -0.0005, -0.0005, -0.0005, -0.0005, -0.0005, -0.0005, -0.0005, -0.0005,\n",
      "         -0.0005, -0.0005, -0.0005, -0.0005, -0.0005, -0.0005, -0.0005, -0.0005,\n",
      "         -0.0005, -0.0005, -0.0005, -0.0005, -0.0005, -0.0005, -0.0005, -0.0005,\n",
      "         -0.0005, -0.0005, -0.0005, -0.0005, -0.0005, -0.0005, -0.0005, -0.0005,\n",
      "         -0.0005, -0.0005],\n",
      "        [ 0.0041,  0.0041,  0.0041,  0.0041,  0.0041,  0.0041,  0.0041,  0.0041,\n",
      "          0.0041,  0.0041,  0.0041,  0.0041,  0.0041,  0.0041,  0.0041,  0.0041,\n",
      "          0.0041,  0.0041,  0.0041,  0.0041,  0.0041,  0.0041,  0.0041,  0.0041,\n",
      "          0.0041,  0.0041,  0.0041,  0.0041,  0.0041,  0.0041,  0.0041,  0.0041,\n",
      "          0.0041,  0.0041,  0.0041,  0.0041,  0.0041,  0.0041,  0.0041,  0.0041,\n",
      "          0.0041,  0.0041,  0.0041,  0.0041,  0.0041,  0.0041,  0.0041,  0.0041,\n",
      "          0.0041,  0.0041]], device='cuda:0', grad_fn=<SelectBackward0>)\n"
     ]
    },
    {
     "name": "stderr",
     "output_type": "stream",
     "text": [
      "0.00000864:   2%|▏         | 2/100 [03:08<1:53:48, 69.68s/it]"
     ]
    },
    {
     "name": "stdout",
     "output_type": "stream",
     "text": [
      "tensor([1., 1.], device='cuda:0') tensor([[ 0.0038,  0.0038,  0.0038,  0.0038,  0.0038,  0.0038,  0.0038,  0.0038,\n",
      "          0.0038,  0.0038,  0.0038,  0.0038,  0.0038,  0.0038,  0.0038,  0.0038,\n",
      "          0.0038,  0.0038,  0.0038,  0.0038,  0.0038,  0.0038,  0.0038,  0.0038,\n",
      "          0.0038,  0.0038,  0.0038,  0.0038,  0.0038,  0.0038,  0.0038,  0.0038,\n",
      "          0.0038,  0.0038,  0.0038,  0.0038,  0.0038,  0.0038,  0.0038,  0.0038,\n",
      "          0.0038,  0.0038,  0.0038,  0.0038,  0.0038,  0.0038,  0.0038,  0.0038,\n",
      "          0.0038,  0.0038],\n",
      "        [-0.0011, -0.0011, -0.0011, -0.0011, -0.0011, -0.0011, -0.0011, -0.0011,\n",
      "         -0.0011, -0.0011, -0.0011, -0.0011, -0.0011, -0.0011, -0.0011, -0.0011,\n",
      "         -0.0011, -0.0011, -0.0011, -0.0011, -0.0011, -0.0011, -0.0011, -0.0011,\n",
      "         -0.0011, -0.0011, -0.0011, -0.0011, -0.0011, -0.0011, -0.0011, -0.0011,\n",
      "         -0.0011, -0.0011, -0.0011, -0.0011, -0.0011, -0.0011, -0.0011, -0.0011,\n",
      "         -0.0011, -0.0011, -0.0011, -0.0011, -0.0011, -0.0011, -0.0011, -0.0011,\n",
      "         -0.0011, -0.0011]], device='cuda:0', grad_fn=<SelectBackward0>)\n"
     ]
    },
    {
     "name": "stderr",
     "output_type": "stream",
     "text": [
      "0.00000771:   2%|▏         | 2/100 [03:09<1:53:48, 69.68s/it]"
     ]
    },
    {
     "name": "stdout",
     "output_type": "stream",
     "text": [
      "tensor([1., 1.], device='cuda:0') tensor([[-0.0016, -0.0016, -0.0016, -0.0016, -0.0016, -0.0016, -0.0016, -0.0016,\n",
      "         -0.0016, -0.0016, -0.0016, -0.0016, -0.0016, -0.0016, -0.0016, -0.0016,\n",
      "         -0.0016, -0.0016, -0.0016, -0.0016, -0.0016, -0.0016, -0.0016, -0.0016,\n",
      "         -0.0016, -0.0016, -0.0016, -0.0016, -0.0016, -0.0016, -0.0016, -0.0016,\n",
      "         -0.0016, -0.0016, -0.0016, -0.0016, -0.0016, -0.0016, -0.0016, -0.0016,\n",
      "         -0.0016, -0.0016, -0.0016, -0.0016, -0.0016, -0.0016, -0.0016, -0.0016,\n",
      "         -0.0016, -0.0016],\n",
      "        [ 0.0029,  0.0029,  0.0029,  0.0029,  0.0029,  0.0029,  0.0029,  0.0029,\n",
      "          0.0029,  0.0029,  0.0029,  0.0029,  0.0029,  0.0029,  0.0029,  0.0029,\n",
      "          0.0029,  0.0029,  0.0029,  0.0029,  0.0029,  0.0029,  0.0029,  0.0029,\n",
      "          0.0029,  0.0029,  0.0029,  0.0029,  0.0029,  0.0029,  0.0029,  0.0029,\n",
      "          0.0029,  0.0029,  0.0029,  0.0029,  0.0029,  0.0029,  0.0029,  0.0029,\n",
      "          0.0029,  0.0029,  0.0029,  0.0029,  0.0029,  0.0029,  0.0029,  0.0029,\n",
      "          0.0029,  0.0029]], device='cuda:0', grad_fn=<SelectBackward0>)\n"
     ]
    },
    {
     "name": "stderr",
     "output_type": "stream",
     "text": [
      "0.00000541:   2%|▏         | 2/100 [03:11<1:53:48, 69.68s/it]"
     ]
    },
    {
     "name": "stdout",
     "output_type": "stream",
     "text": [
      "tensor([1., 1.], device='cuda:0') tensor([[-0.0019, -0.0019, -0.0019, -0.0019, -0.0019, -0.0019, -0.0019, -0.0019,\n",
      "         -0.0019, -0.0019, -0.0019, -0.0019, -0.0019, -0.0019, -0.0019, -0.0019,\n",
      "         -0.0019, -0.0019, -0.0019, -0.0019, -0.0019, -0.0019, -0.0019, -0.0019,\n",
      "         -0.0019, -0.0019, -0.0019, -0.0019, -0.0019, -0.0019, -0.0019, -0.0019,\n",
      "         -0.0019, -0.0019, -0.0019, -0.0019, -0.0019, -0.0019, -0.0019, -0.0019,\n",
      "         -0.0019, -0.0019, -0.0019, -0.0019, -0.0019, -0.0019, -0.0019, -0.0019,\n",
      "         -0.0019, -0.0019],\n",
      "        [ 0.0016,  0.0016,  0.0016,  0.0016,  0.0016,  0.0016,  0.0016,  0.0016,\n",
      "          0.0016,  0.0016,  0.0016,  0.0016,  0.0016,  0.0016,  0.0016,  0.0016,\n",
      "          0.0016,  0.0016,  0.0016,  0.0016,  0.0016,  0.0016,  0.0016,  0.0016,\n",
      "          0.0016,  0.0016,  0.0016,  0.0016,  0.0016,  0.0016,  0.0016,  0.0016,\n",
      "          0.0016,  0.0016,  0.0016,  0.0016,  0.0016,  0.0016,  0.0016,  0.0016,\n",
      "          0.0016,  0.0016,  0.0016,  0.0016,  0.0016,  0.0016,  0.0016,  0.0016,\n",
      "          0.0016,  0.0016]], device='cuda:0', grad_fn=<SelectBackward0>)\n"
     ]
    },
    {
     "name": "stderr",
     "output_type": "stream",
     "text": [
      "0.00000309:   2%|▏         | 2/100 [03:12<1:53:48, 69.68s/it]"
     ]
    },
    {
     "name": "stdout",
     "output_type": "stream",
     "text": [
      "tensor([1., 1.], device='cuda:0') tensor([[ 0.0003,  0.0003,  0.0003,  0.0003,  0.0003,  0.0003,  0.0003,  0.0003,\n",
      "          0.0003,  0.0003,  0.0003,  0.0003,  0.0003,  0.0003,  0.0003,  0.0003,\n",
      "          0.0003,  0.0003,  0.0003,  0.0003,  0.0003,  0.0003,  0.0003,  0.0003,\n",
      "          0.0003,  0.0003,  0.0003,  0.0003,  0.0003,  0.0003,  0.0003,  0.0003,\n",
      "          0.0003,  0.0003,  0.0003,  0.0003,  0.0003,  0.0003,  0.0003,  0.0003,\n",
      "          0.0003,  0.0003,  0.0003,  0.0003,  0.0003,  0.0003,  0.0003,  0.0003,\n",
      "          0.0003,  0.0003],\n",
      "        [-0.0019, -0.0019, -0.0019, -0.0019, -0.0019, -0.0019, -0.0019, -0.0019,\n",
      "         -0.0019, -0.0019, -0.0019, -0.0019, -0.0019, -0.0019, -0.0019, -0.0019,\n",
      "         -0.0019, -0.0019, -0.0019, -0.0019, -0.0019, -0.0019, -0.0019, -0.0019,\n",
      "         -0.0019, -0.0019, -0.0019, -0.0019, -0.0019, -0.0019, -0.0019, -0.0019,\n",
      "         -0.0019, -0.0019, -0.0019, -0.0019, -0.0019, -0.0019, -0.0019, -0.0019,\n",
      "         -0.0019, -0.0019, -0.0019, -0.0019, -0.0019, -0.0019, -0.0019, -0.0019,\n",
      "         -0.0019, -0.0019]], device='cuda:0', grad_fn=<SelectBackward0>)\n"
     ]
    },
    {
     "name": "stderr",
     "output_type": "stream",
     "text": [
      "0.00000185:   2%|▏         | 2/100 [03:13<1:53:48, 69.68s/it]"
     ]
    },
    {
     "name": "stdout",
     "output_type": "stream",
     "text": [
      "tensor([1., 1.], device='cuda:0') tensor([[-0.0017, -0.0017, -0.0017, -0.0017, -0.0017, -0.0017, -0.0017, -0.0017,\n",
      "         -0.0017, -0.0017, -0.0017, -0.0017, -0.0017, -0.0017, -0.0017, -0.0017,\n",
      "         -0.0017, -0.0017, -0.0017, -0.0017, -0.0017, -0.0017, -0.0017, -0.0017,\n",
      "         -0.0017, -0.0017, -0.0017, -0.0017, -0.0017, -0.0017, -0.0017, -0.0017,\n",
      "         -0.0017, -0.0017, -0.0017, -0.0017, -0.0017, -0.0017, -0.0017, -0.0017,\n",
      "         -0.0017, -0.0017, -0.0017, -0.0017, -0.0017, -0.0017, -0.0017, -0.0017,\n",
      "         -0.0017, -0.0017],\n",
      "        [-0.0010, -0.0010, -0.0010, -0.0010, -0.0010, -0.0010, -0.0010, -0.0010,\n",
      "         -0.0010, -0.0010, -0.0010, -0.0010, -0.0010, -0.0010, -0.0010, -0.0010,\n",
      "         -0.0010, -0.0010, -0.0010, -0.0010, -0.0010, -0.0010, -0.0010, -0.0010,\n",
      "         -0.0010, -0.0010, -0.0010, -0.0010, -0.0010, -0.0010, -0.0010, -0.0010,\n",
      "         -0.0010, -0.0010, -0.0010, -0.0010, -0.0010, -0.0010, -0.0010, -0.0010,\n",
      "         -0.0010, -0.0010, -0.0010, -0.0010, -0.0010, -0.0010, -0.0010, -0.0010,\n",
      "         -0.0010, -0.0010]], device='cuda:0', grad_fn=<SelectBackward0>)\n"
     ]
    },
    {
     "name": "stderr",
     "output_type": "stream",
     "text": [
      "0.00000192:   2%|▏         | 2/100 [03:15<1:53:48, 69.68s/it]"
     ]
    },
    {
     "name": "stdout",
     "output_type": "stream",
     "text": [
      "tensor([1., 1.], device='cuda:0') tensor([[-0.0019, -0.0019, -0.0019, -0.0019, -0.0019, -0.0019, -0.0019, -0.0019,\n",
      "         -0.0019, -0.0019, -0.0019, -0.0019, -0.0019, -0.0019, -0.0019, -0.0019,\n",
      "         -0.0019, -0.0019, -0.0019, -0.0019, -0.0019, -0.0019, -0.0019, -0.0019,\n",
      "         -0.0019, -0.0019, -0.0019, -0.0019, -0.0019, -0.0019, -0.0019, -0.0019,\n",
      "         -0.0019, -0.0019, -0.0019, -0.0019, -0.0019, -0.0019, -0.0019, -0.0019,\n",
      "         -0.0019, -0.0019, -0.0019, -0.0019, -0.0019, -0.0019, -0.0019, -0.0019,\n",
      "         -0.0019, -0.0019],\n",
      "        [-0.0013, -0.0013, -0.0013, -0.0013, -0.0013, -0.0013, -0.0013, -0.0013,\n",
      "         -0.0013, -0.0013, -0.0013, -0.0013, -0.0013, -0.0013, -0.0013, -0.0013,\n",
      "         -0.0013, -0.0013, -0.0013, -0.0013, -0.0013, -0.0013, -0.0013, -0.0013,\n",
      "         -0.0013, -0.0013, -0.0013, -0.0013, -0.0013, -0.0013, -0.0013, -0.0013,\n",
      "         -0.0013, -0.0013, -0.0013, -0.0013, -0.0013, -0.0013, -0.0013, -0.0013,\n",
      "         -0.0013, -0.0013, -0.0013, -0.0013, -0.0013, -0.0013, -0.0013, -0.0013,\n",
      "         -0.0013, -0.0013]], device='cuda:0', grad_fn=<SelectBackward0>)\n"
     ]
    },
    {
     "name": "stderr",
     "output_type": "stream",
     "text": [
      "0.00000277:   2%|▏         | 2/100 [03:16<1:53:48, 69.68s/it]"
     ]
    },
    {
     "name": "stdout",
     "output_type": "stream",
     "text": [
      "tensor([1., 1.], device='cuda:0') tensor([[-0.0008, -0.0008, -0.0008, -0.0008, -0.0008, -0.0008, -0.0008, -0.0008,\n",
      "         -0.0008, -0.0008, -0.0008, -0.0008, -0.0008, -0.0008, -0.0008, -0.0008,\n",
      "         -0.0008, -0.0008, -0.0008, -0.0008, -0.0008, -0.0008, -0.0008, -0.0008,\n",
      "         -0.0008, -0.0008, -0.0008, -0.0008, -0.0008, -0.0008, -0.0008, -0.0008,\n",
      "         -0.0008, -0.0008, -0.0008, -0.0008, -0.0008, -0.0008, -0.0008, -0.0008,\n",
      "         -0.0008, -0.0008, -0.0008, -0.0008, -0.0008, -0.0008, -0.0008, -0.0008,\n",
      "         -0.0008, -0.0008],\n",
      "        [-0.0025, -0.0025, -0.0025, -0.0025, -0.0025, -0.0025, -0.0025, -0.0025,\n",
      "         -0.0025, -0.0025, -0.0025, -0.0025, -0.0025, -0.0025, -0.0025, -0.0025,\n",
      "         -0.0025, -0.0025, -0.0025, -0.0025, -0.0025, -0.0025, -0.0025, -0.0025,\n",
      "         -0.0025, -0.0025, -0.0025, -0.0025, -0.0025, -0.0025, -0.0025, -0.0025,\n",
      "         -0.0025, -0.0025, -0.0025, -0.0025, -0.0025, -0.0025, -0.0025, -0.0025,\n",
      "         -0.0025, -0.0025, -0.0025, -0.0025, -0.0025, -0.0025, -0.0025, -0.0025,\n",
      "         -0.0025, -0.0025]], device='cuda:0', grad_fn=<SelectBackward0>)\n"
     ]
    },
    {
     "name": "stderr",
     "output_type": "stream",
     "text": [
      "0.00000353:   2%|▏         | 2/100 [03:18<1:53:48, 69.68s/it]"
     ]
    },
    {
     "name": "stdout",
     "output_type": "stream",
     "text": [
      "tensor([1., 1.], device='cuda:0') tensor([[-0.0003, -0.0003, -0.0003, -0.0003, -0.0003, -0.0003, -0.0003, -0.0003,\n",
      "         -0.0003, -0.0003, -0.0003, -0.0003, -0.0003, -0.0003, -0.0003, -0.0003,\n",
      "         -0.0003, -0.0003, -0.0003, -0.0003, -0.0003, -0.0003, -0.0003, -0.0003,\n",
      "         -0.0003, -0.0003, -0.0003, -0.0003, -0.0003, -0.0003, -0.0003, -0.0003,\n",
      "         -0.0003, -0.0003, -0.0003, -0.0003, -0.0003, -0.0003, -0.0003, -0.0003,\n",
      "         -0.0003, -0.0003, -0.0003, -0.0003, -0.0003, -0.0003, -0.0003, -0.0003,\n",
      "         -0.0003, -0.0003],\n",
      "        [-0.0027, -0.0027, -0.0027, -0.0027, -0.0027, -0.0027, -0.0027, -0.0027,\n",
      "         -0.0027, -0.0027, -0.0027, -0.0027, -0.0027, -0.0027, -0.0027, -0.0027,\n",
      "         -0.0027, -0.0027, -0.0027, -0.0027, -0.0027, -0.0027, -0.0027, -0.0027,\n",
      "         -0.0027, -0.0027, -0.0027, -0.0027, -0.0027, -0.0027, -0.0027, -0.0027,\n",
      "         -0.0027, -0.0027, -0.0027, -0.0027, -0.0027, -0.0027, -0.0027, -0.0027,\n",
      "         -0.0027, -0.0027, -0.0027, -0.0027, -0.0027, -0.0027, -0.0027, -0.0027,\n",
      "         -0.0027, -0.0027]], device='cuda:0', grad_fn=<SelectBackward0>)\n"
     ]
    },
    {
     "name": "stderr",
     "output_type": "stream",
     "text": [
      "0.00000357:   2%|▏         | 2/100 [03:19<1:53:48, 69.68s/it]"
     ]
    },
    {
     "name": "stdout",
     "output_type": "stream",
     "text": [
      "tensor([1., 1.], device='cuda:0') tensor([[-0.0024, -0.0024, -0.0024, -0.0024, -0.0024, -0.0024, -0.0024, -0.0024,\n",
      "         -0.0024, -0.0024, -0.0024, -0.0024, -0.0024, -0.0024, -0.0024, -0.0024,\n",
      "         -0.0024, -0.0024, -0.0024, -0.0024, -0.0024, -0.0024, -0.0024, -0.0024,\n",
      "         -0.0024, -0.0024, -0.0024, -0.0024, -0.0024, -0.0024, -0.0024, -0.0024,\n",
      "         -0.0024, -0.0024, -0.0024, -0.0024, -0.0024, -0.0024, -0.0024, -0.0024,\n",
      "         -0.0024, -0.0024, -0.0024, -0.0024, -0.0024, -0.0024, -0.0024, -0.0024,\n",
      "         -0.0024, -0.0024],\n",
      "        [ 0.0003,  0.0003,  0.0003,  0.0003,  0.0003,  0.0003,  0.0003,  0.0003,\n",
      "          0.0003,  0.0003,  0.0003,  0.0003,  0.0003,  0.0003,  0.0003,  0.0003,\n",
      "          0.0003,  0.0003,  0.0003,  0.0003,  0.0003,  0.0003,  0.0003,  0.0003,\n",
      "          0.0003,  0.0003,  0.0003,  0.0003,  0.0003,  0.0003,  0.0003,  0.0003,\n",
      "          0.0003,  0.0003,  0.0003,  0.0003,  0.0003,  0.0003,  0.0003,  0.0003,\n",
      "          0.0003,  0.0003,  0.0003,  0.0003,  0.0003,  0.0003,  0.0003,  0.0003,\n",
      "          0.0003,  0.0003]], device='cuda:0', grad_fn=<SelectBackward0>)\n"
     ]
    },
    {
     "name": "stderr",
     "output_type": "stream",
     "text": [
      "0.00000285:   2%|▏         | 2/100 [03:20<1:53:48, 69.68s/it]"
     ]
    },
    {
     "name": "stdout",
     "output_type": "stream",
     "text": [
      "tensor([1., 1.], device='cuda:0') tensor([[-0.0017, -0.0017, -0.0017, -0.0017, -0.0017, -0.0017, -0.0017, -0.0017,\n",
      "         -0.0017, -0.0017, -0.0017, -0.0017, -0.0017, -0.0017, -0.0017, -0.0017,\n",
      "         -0.0017, -0.0017, -0.0017, -0.0017, -0.0017, -0.0017, -0.0017, -0.0017,\n",
      "         -0.0017, -0.0017, -0.0017, -0.0017, -0.0017, -0.0017, -0.0017, -0.0017,\n",
      "         -0.0017, -0.0017, -0.0017, -0.0017, -0.0017, -0.0017, -0.0017, -0.0017,\n",
      "         -0.0017, -0.0017, -0.0017, -0.0017, -0.0017, -0.0017, -0.0017, -0.0017,\n",
      "         -0.0017, -0.0017],\n",
      "        [ 0.0008,  0.0008,  0.0008,  0.0008,  0.0008,  0.0008,  0.0008,  0.0008,\n",
      "          0.0008,  0.0008,  0.0008,  0.0008,  0.0008,  0.0008,  0.0008,  0.0008,\n",
      "          0.0008,  0.0008,  0.0008,  0.0008,  0.0008,  0.0008,  0.0008,  0.0008,\n",
      "          0.0008,  0.0008,  0.0008,  0.0008,  0.0008,  0.0008,  0.0008,  0.0008,\n",
      "          0.0008,  0.0008,  0.0008,  0.0008,  0.0008,  0.0008,  0.0008,  0.0008,\n",
      "          0.0008,  0.0008,  0.0008,  0.0008,  0.0008,  0.0008,  0.0008,  0.0008,\n",
      "          0.0008,  0.0008]], device='cuda:0', grad_fn=<SelectBackward0>)\n"
     ]
    },
    {
     "name": "stderr",
     "output_type": "stream",
     "text": [
      "0.00000182:   2%|▏         | 2/100 [03:22<1:53:48, 69.68s/it]"
     ]
    },
    {
     "name": "stdout",
     "output_type": "stream",
     "text": [
      "tensor([1., 1.], device='cuda:0') tensor([[ 0.0011,  0.0011,  0.0011,  0.0011,  0.0011,  0.0011,  0.0011,  0.0011,\n",
      "          0.0011,  0.0011,  0.0011,  0.0011,  0.0011,  0.0011,  0.0011,  0.0011,\n",
      "          0.0011,  0.0011,  0.0011,  0.0011,  0.0011,  0.0011,  0.0011,  0.0011,\n",
      "          0.0011,  0.0011,  0.0011,  0.0011,  0.0011,  0.0011,  0.0011,  0.0011,\n",
      "          0.0011,  0.0011,  0.0011,  0.0011,  0.0011,  0.0011,  0.0011,  0.0011,\n",
      "          0.0011,  0.0011,  0.0011,  0.0011,  0.0011,  0.0011,  0.0011,  0.0011,\n",
      "          0.0011,  0.0011],\n",
      "        [-0.0009, -0.0009, -0.0009, -0.0009, -0.0009, -0.0009, -0.0009, -0.0009,\n",
      "         -0.0009, -0.0009, -0.0009, -0.0009, -0.0009, -0.0009, -0.0009, -0.0009,\n",
      "         -0.0009, -0.0009, -0.0009, -0.0009, -0.0009, -0.0009, -0.0009, -0.0009,\n",
      "         -0.0009, -0.0009, -0.0009, -0.0009, -0.0009, -0.0009, -0.0009, -0.0009,\n",
      "         -0.0009, -0.0009, -0.0009, -0.0009, -0.0009, -0.0009, -0.0009, -0.0009,\n",
      "         -0.0009, -0.0009, -0.0009, -0.0009, -0.0009, -0.0009, -0.0009, -0.0009,\n",
      "         -0.0009, -0.0009]], device='cuda:0', grad_fn=<SelectBackward0>)\n"
     ]
    },
    {
     "name": "stderr",
     "output_type": "stream",
     "text": [
      "0.00000104:   2%|▏         | 2/100 [03:23<1:53:48, 69.68s/it]"
     ]
    },
    {
     "name": "stdout",
     "output_type": "stream",
     "text": [
      "tensor([1., 1.], device='cuda:0') tensor([[ 1.3047e-03,  1.3047e-03,  1.3047e-03,  1.3047e-03,  1.3047e-03,\n",
      "          1.3047e-03,  1.3047e-03,  1.3047e-03,  1.3048e-03,  1.3047e-03,\n",
      "          1.3047e-03,  1.3048e-03,  1.3047e-03,  1.3047e-03,  1.3047e-03,\n",
      "          1.3047e-03,  1.3047e-03,  1.3048e-03,  1.3047e-03,  1.3048e-03,\n",
      "          1.3047e-03,  1.3048e-03,  1.3047e-03,  1.3048e-03,  1.3048e-03,\n",
      "          1.3047e-03,  1.3048e-03,  1.3047e-03,  1.3047e-03,  1.3047e-03,\n",
      "          1.3048e-03,  1.3048e-03,  1.3047e-03,  1.3047e-03,  1.3048e-03,\n",
      "          1.3047e-03,  1.3047e-03,  1.3047e-03,  1.3047e-03,  1.3048e-03,\n",
      "          1.3047e-03,  1.3047e-03,  1.3047e-03,  1.3047e-03,  1.3047e-03,\n",
      "          1.3048e-03,  1.3047e-03,  1.3047e-03,  1.3047e-03,  1.3047e-03],\n",
      "        [-2.4334e-05, -2.4334e-05, -2.4334e-05, -2.4363e-05, -2.4334e-05,\n",
      "         -2.4334e-05, -2.4334e-05, -2.4348e-05, -2.4363e-05, -2.4348e-05,\n",
      "         -2.4334e-05, -2.4348e-05, -2.4348e-05, -2.4334e-05, -2.4334e-05,\n",
      "         -2.4363e-05, -2.4334e-05, -2.4348e-05, -2.4348e-05, -2.4348e-05,\n",
      "         -2.4334e-05, -2.4348e-05, -2.4334e-05, -2.4348e-05, -2.4348e-05,\n",
      "         -2.4348e-05, -2.4348e-05, -2.4334e-05, -2.4334e-05, -2.4334e-05,\n",
      "         -2.4378e-05, -2.4363e-05, -2.4348e-05, -2.4348e-05, -2.4348e-05,\n",
      "         -2.4334e-05, -2.4319e-05, -2.4348e-05, -2.4334e-05, -2.4363e-05,\n",
      "         -2.4334e-05, -2.4348e-05, -2.4363e-05, -2.4348e-05, -2.4334e-05,\n",
      "         -2.4348e-05, -2.4348e-05, -2.4334e-05, -2.4334e-05, -2.4334e-05]],\n",
      "       device='cuda:0', grad_fn=<SelectBackward0>)\n"
     ]
    },
    {
     "name": "stderr",
     "output_type": "stream",
     "text": [
      "0.00000085:   2%|▏         | 2/100 [03:24<1:53:48, 69.68s/it]"
     ]
    },
    {
     "name": "stdout",
     "output_type": "stream",
     "text": [
      "tensor([1., 1.], device='cuda:0') tensor([[0.0013, 0.0013, 0.0013, 0.0013, 0.0013, 0.0013, 0.0013, 0.0013, 0.0013,\n",
      "         0.0013, 0.0013, 0.0013, 0.0013, 0.0013, 0.0013, 0.0013, 0.0013, 0.0013,\n",
      "         0.0013, 0.0013, 0.0013, 0.0013, 0.0013, 0.0013, 0.0013, 0.0013, 0.0013,\n",
      "         0.0013, 0.0013, 0.0013, 0.0013, 0.0013, 0.0013, 0.0013, 0.0013, 0.0013,\n",
      "         0.0013, 0.0013, 0.0013, 0.0013, 0.0013, 0.0013, 0.0013, 0.0013, 0.0013,\n",
      "         0.0013, 0.0013, 0.0013, 0.0013, 0.0013],\n",
      "        [0.0008, 0.0008, 0.0008, 0.0008, 0.0008, 0.0008, 0.0008, 0.0008, 0.0008,\n",
      "         0.0008, 0.0008, 0.0008, 0.0008, 0.0008, 0.0008, 0.0008, 0.0008, 0.0008,\n",
      "         0.0008, 0.0008, 0.0008, 0.0008, 0.0008, 0.0008, 0.0008, 0.0008, 0.0008,\n",
      "         0.0008, 0.0008, 0.0008, 0.0008, 0.0008, 0.0008, 0.0008, 0.0008, 0.0008,\n",
      "         0.0008, 0.0008, 0.0008, 0.0008, 0.0008, 0.0008, 0.0008, 0.0008, 0.0008,\n",
      "         0.0008, 0.0008, 0.0008, 0.0008, 0.0008]], device='cuda:0',\n",
      "       grad_fn=<SelectBackward0>)\n"
     ]
    },
    {
     "name": "stderr",
     "output_type": "stream",
     "text": [
      "0.00000117:   2%|▏         | 2/100 [03:26<1:53:48, 69.68s/it]"
     ]
    },
    {
     "name": "stdout",
     "output_type": "stream",
     "text": [
      "tensor([1., 1.], device='cuda:0') tensor([[0.0014, 0.0014, 0.0014, 0.0014, 0.0014, 0.0014, 0.0014, 0.0014, 0.0014,\n",
      "         0.0014, 0.0014, 0.0014, 0.0014, 0.0014, 0.0014, 0.0014, 0.0014, 0.0014,\n",
      "         0.0014, 0.0014, 0.0014, 0.0014, 0.0014, 0.0014, 0.0014, 0.0014, 0.0014,\n",
      "         0.0014, 0.0014, 0.0014, 0.0014, 0.0014, 0.0014, 0.0014, 0.0014, 0.0014,\n",
      "         0.0014, 0.0014, 0.0014, 0.0014, 0.0014, 0.0014, 0.0014, 0.0014, 0.0014,\n",
      "         0.0014, 0.0014, 0.0014, 0.0014, 0.0014],\n",
      "        [0.0012, 0.0012, 0.0012, 0.0012, 0.0012, 0.0012, 0.0012, 0.0012, 0.0012,\n",
      "         0.0012, 0.0012, 0.0012, 0.0012, 0.0012, 0.0012, 0.0012, 0.0012, 0.0012,\n",
      "         0.0012, 0.0012, 0.0012, 0.0012, 0.0012, 0.0012, 0.0012, 0.0012, 0.0012,\n",
      "         0.0012, 0.0012, 0.0012, 0.0012, 0.0012, 0.0012, 0.0012, 0.0012, 0.0012,\n",
      "         0.0012, 0.0012, 0.0012, 0.0012, 0.0012, 0.0012, 0.0012, 0.0012, 0.0012,\n",
      "         0.0012, 0.0012, 0.0012, 0.0012, 0.0012]], device='cuda:0',\n",
      "       grad_fn=<SelectBackward0>)\n"
     ]
    },
    {
     "name": "stderr",
     "output_type": "stream",
     "text": [
      "0.00000161:   3%|▎         | 3/100 [03:27<1:51:18, 68.85s/it]"
     ]
    },
    {
     "name": "stdout",
     "output_type": "stream",
     "text": [
      "tensor([1., 1.], device='cuda:0') tensor([[0.0009, 0.0009, 0.0009, 0.0009, 0.0009, 0.0009, 0.0009, 0.0009, 0.0009,\n",
      "         0.0009, 0.0009, 0.0009, 0.0009, 0.0009, 0.0009, 0.0009, 0.0009, 0.0009,\n",
      "         0.0009, 0.0009, 0.0009, 0.0009, 0.0009, 0.0009, 0.0009, 0.0009, 0.0009,\n",
      "         0.0009, 0.0009, 0.0009, 0.0009, 0.0009, 0.0009, 0.0009, 0.0009, 0.0009,\n",
      "         0.0009, 0.0009, 0.0009, 0.0009, 0.0009, 0.0009, 0.0009, 0.0009, 0.0009,\n",
      "         0.0009, 0.0009, 0.0009, 0.0009, 0.0009],\n",
      "        [0.0017, 0.0017, 0.0017, 0.0017, 0.0017, 0.0017, 0.0017, 0.0017, 0.0017,\n",
      "         0.0017, 0.0017, 0.0017, 0.0017, 0.0017, 0.0017, 0.0017, 0.0017, 0.0017,\n",
      "         0.0017, 0.0017, 0.0017, 0.0017, 0.0017, 0.0017, 0.0017, 0.0017, 0.0017,\n",
      "         0.0017, 0.0017, 0.0017, 0.0017, 0.0017, 0.0017, 0.0017, 0.0017, 0.0017,\n",
      "         0.0017, 0.0017, 0.0017, 0.0017, 0.0017, 0.0017, 0.0017, 0.0017, 0.0017,\n",
      "         0.0017, 0.0017, 0.0017, 0.0017, 0.0017]], device='cuda:0',\n",
      "       grad_fn=<SelectBackward0>)\n"
     ]
    },
    {
     "name": "stderr",
     "output_type": "stream",
     "text": [
      "0.00000181:   3%|▎         | 3/100 [03:28<1:51:18, 68.85s/it]"
     ]
    },
    {
     "name": "stdout",
     "output_type": "stream",
     "text": [
      "tensor([1., 1.], device='cuda:0') tensor([[0.0005, 0.0005, 0.0005, 0.0005, 0.0005, 0.0005, 0.0005, 0.0005, 0.0005,\n",
      "         0.0005, 0.0005, 0.0005, 0.0005, 0.0005, 0.0005, 0.0005, 0.0005, 0.0005,\n",
      "         0.0005, 0.0005, 0.0005, 0.0005, 0.0005, 0.0005, 0.0005, 0.0005, 0.0005,\n",
      "         0.0005, 0.0005, 0.0005, 0.0005, 0.0005, 0.0005, 0.0005, 0.0005, 0.0005,\n",
      "         0.0005, 0.0005, 0.0005, 0.0005, 0.0005, 0.0005, 0.0005, 0.0005, 0.0005,\n",
      "         0.0005, 0.0005, 0.0005, 0.0005, 0.0005],\n",
      "        [0.0017, 0.0017, 0.0017, 0.0017, 0.0017, 0.0017, 0.0017, 0.0017, 0.0017,\n",
      "         0.0017, 0.0017, 0.0017, 0.0017, 0.0017, 0.0017, 0.0017, 0.0017, 0.0017,\n",
      "         0.0017, 0.0017, 0.0017, 0.0017, 0.0017, 0.0017, 0.0017, 0.0017, 0.0017,\n",
      "         0.0017, 0.0017, 0.0017, 0.0017, 0.0017, 0.0017, 0.0017, 0.0017, 0.0017,\n",
      "         0.0017, 0.0017, 0.0017, 0.0017, 0.0017, 0.0017, 0.0017, 0.0017, 0.0017,\n",
      "         0.0017, 0.0017, 0.0017, 0.0017, 0.0017]], device='cuda:0',\n",
      "       grad_fn=<SelectBackward0>)\n"
     ]
    },
    {
     "name": "stderr",
     "output_type": "stream",
     "text": [
      "0.00000157:   3%|▎         | 3/100 [03:30<1:51:18, 68.85s/it]"
     ]
    },
    {
     "name": "stdout",
     "output_type": "stream",
     "text": [
      "tensor([1., 1.], device='cuda:0') tensor([[0.0001, 0.0001, 0.0001, 0.0001, 0.0001, 0.0001, 0.0001, 0.0001, 0.0001,\n",
      "         0.0001, 0.0001, 0.0001, 0.0001, 0.0001, 0.0001, 0.0001, 0.0001, 0.0001,\n",
      "         0.0001, 0.0001, 0.0001, 0.0001, 0.0001, 0.0001, 0.0001, 0.0001, 0.0001,\n",
      "         0.0001, 0.0001, 0.0001, 0.0001, 0.0001, 0.0001, 0.0001, 0.0001, 0.0001,\n",
      "         0.0001, 0.0001, 0.0001, 0.0001, 0.0001, 0.0001, 0.0001, 0.0001, 0.0001,\n",
      "         0.0001, 0.0001, 0.0001, 0.0001, 0.0001],\n",
      "        [0.0014, 0.0014, 0.0014, 0.0014, 0.0014, 0.0014, 0.0014, 0.0014, 0.0014,\n",
      "         0.0014, 0.0014, 0.0014, 0.0014, 0.0014, 0.0014, 0.0014, 0.0014, 0.0014,\n",
      "         0.0014, 0.0014, 0.0014, 0.0014, 0.0014, 0.0014, 0.0014, 0.0014, 0.0014,\n",
      "         0.0014, 0.0014, 0.0014, 0.0014, 0.0014, 0.0014, 0.0014, 0.0014, 0.0014,\n",
      "         0.0014, 0.0014, 0.0014, 0.0014, 0.0014, 0.0014, 0.0014, 0.0014, 0.0014,\n",
      "         0.0014, 0.0014, 0.0014, 0.0014, 0.0014]], device='cuda:0',\n",
      "       grad_fn=<SelectBackward0>)\n"
     ]
    },
    {
     "name": "stderr",
     "output_type": "stream",
     "text": [
      "0.00000105:   3%|▎         | 3/100 [03:31<1:51:18, 68.85s/it]"
     ]
    },
    {
     "name": "stdout",
     "output_type": "stream",
     "text": [
      "tensor([1., 1.], device='cuda:0') tensor([[ 0.0010,  0.0010,  0.0010,  0.0010,  0.0010,  0.0010,  0.0010,  0.0010,\n",
      "          0.0010,  0.0010,  0.0010,  0.0010,  0.0010,  0.0010,  0.0010,  0.0010,\n",
      "          0.0010,  0.0010,  0.0010,  0.0010,  0.0010,  0.0010,  0.0010,  0.0010,\n",
      "          0.0010,  0.0010,  0.0010,  0.0010,  0.0010,  0.0010,  0.0010,  0.0010,\n",
      "          0.0010,  0.0010,  0.0010,  0.0010,  0.0010,  0.0010,  0.0010,  0.0010,\n",
      "          0.0010,  0.0010,  0.0010,  0.0010,  0.0010,  0.0010,  0.0010,  0.0010,\n",
      "          0.0010,  0.0010],\n",
      "        [-0.0003, -0.0003, -0.0003, -0.0003, -0.0003, -0.0003, -0.0003, -0.0003,\n",
      "         -0.0003, -0.0003, -0.0003, -0.0003, -0.0003, -0.0003, -0.0003, -0.0003,\n",
      "         -0.0003, -0.0003, -0.0003, -0.0003, -0.0003, -0.0003, -0.0003, -0.0003,\n",
      "         -0.0003, -0.0003, -0.0003, -0.0003, -0.0003, -0.0003, -0.0003, -0.0003,\n",
      "         -0.0003, -0.0003, -0.0003, -0.0003, -0.0003, -0.0003, -0.0003, -0.0003,\n",
      "         -0.0003, -0.0003, -0.0003, -0.0003, -0.0003, -0.0003, -0.0003, -0.0003,\n",
      "         -0.0003, -0.0003]], device='cuda:0', grad_fn=<SelectBackward0>)\n"
     ]
    },
    {
     "name": "stderr",
     "output_type": "stream",
     "text": [
      "0.00000052:   3%|▎         | 3/100 [03:33<1:51:18, 68.85s/it]"
     ]
    },
    {
     "name": "stdout",
     "output_type": "stream",
     "text": [
      "tensor([1., 1.], device='cuda:0') tensor([[-0.0006, -0.0006, -0.0006, -0.0006, -0.0006, -0.0006, -0.0006, -0.0006,\n",
      "         -0.0006, -0.0006, -0.0006, -0.0006, -0.0006, -0.0006, -0.0006, -0.0006,\n",
      "         -0.0006, -0.0006, -0.0006, -0.0006, -0.0006, -0.0006, -0.0006, -0.0006,\n",
      "         -0.0006, -0.0006, -0.0006, -0.0006, -0.0006, -0.0006, -0.0006, -0.0006,\n",
      "         -0.0006, -0.0006, -0.0006, -0.0006, -0.0006, -0.0006, -0.0006, -0.0006,\n",
      "         -0.0006, -0.0006, -0.0006, -0.0006, -0.0006, -0.0006, -0.0006, -0.0006,\n",
      "         -0.0006, -0.0006],\n",
      "        [ 0.0004,  0.0004,  0.0004,  0.0004,  0.0004,  0.0004,  0.0004,  0.0004,\n",
      "          0.0004,  0.0004,  0.0004,  0.0004,  0.0004,  0.0004,  0.0004,  0.0004,\n",
      "          0.0004,  0.0004,  0.0004,  0.0004,  0.0004,  0.0004,  0.0004,  0.0004,\n",
      "          0.0004,  0.0004,  0.0004,  0.0004,  0.0004,  0.0004,  0.0004,  0.0004,\n",
      "          0.0004,  0.0004,  0.0004,  0.0004,  0.0004,  0.0004,  0.0004,  0.0004,\n",
      "          0.0004,  0.0004,  0.0004,  0.0004,  0.0004,  0.0004,  0.0004,  0.0004,\n",
      "          0.0004,  0.0004]], device='cuda:0', grad_fn=<SelectBackward0>)\n"
     ]
    },
    {
     "name": "stderr",
     "output_type": "stream",
     "text": [
      "0.00000026:   3%|▎         | 3/100 [03:34<1:51:18, 68.85s/it]"
     ]
    },
    {
     "name": "stdout",
     "output_type": "stream",
     "text": [
      "tensor([1., 1.], device='cuda:0') tensor([[-0.0002, -0.0002, -0.0002, -0.0002, -0.0002, -0.0002, -0.0002, -0.0002,\n",
      "         -0.0002, -0.0002, -0.0002, -0.0002, -0.0002, -0.0002, -0.0002, -0.0002,\n",
      "         -0.0002, -0.0002, -0.0002, -0.0002, -0.0002, -0.0002, -0.0002, -0.0002,\n",
      "         -0.0002, -0.0002, -0.0002, -0.0002, -0.0002, -0.0002, -0.0002, -0.0002,\n",
      "         -0.0002, -0.0002, -0.0002, -0.0002, -0.0002, -0.0002, -0.0002, -0.0002,\n",
      "         -0.0002, -0.0002, -0.0002, -0.0002, -0.0002, -0.0002, -0.0002, -0.0002,\n",
      "         -0.0002, -0.0002],\n",
      "        [-0.0008, -0.0008, -0.0008, -0.0008, -0.0008, -0.0008, -0.0008, -0.0008,\n",
      "         -0.0008, -0.0008, -0.0008, -0.0008, -0.0008, -0.0008, -0.0008, -0.0008,\n",
      "         -0.0008, -0.0008, -0.0008, -0.0008, -0.0008, -0.0008, -0.0008, -0.0008,\n",
      "         -0.0008, -0.0008, -0.0008, -0.0008, -0.0008, -0.0008, -0.0008, -0.0008,\n",
      "         -0.0008, -0.0008, -0.0008, -0.0008, -0.0008, -0.0008, -0.0008, -0.0008,\n",
      "         -0.0008, -0.0008, -0.0008, -0.0008, -0.0008, -0.0008, -0.0008, -0.0008,\n",
      "         -0.0008, -0.0008]], device='cuda:0', grad_fn=<SelectBackward0>)\n"
     ]
    },
    {
     "name": "stderr",
     "output_type": "stream",
     "text": [
      "0.00000035:   3%|▎         | 3/100 [03:36<1:51:18, 68.85s/it]"
     ]
    },
    {
     "name": "stdout",
     "output_type": "stream",
     "text": [
      "tensor([1., 1.], device='cuda:0') tensor([[-0.0009, -0.0009, -0.0009, -0.0009, -0.0009, -0.0009, -0.0009, -0.0009,\n",
      "         -0.0009, -0.0009, -0.0009, -0.0009, -0.0009, -0.0009, -0.0009, -0.0009,\n",
      "         -0.0009, -0.0009, -0.0009, -0.0009, -0.0009, -0.0009, -0.0009, -0.0009,\n",
      "         -0.0009, -0.0009, -0.0009, -0.0009, -0.0009, -0.0009, -0.0009, -0.0009,\n",
      "         -0.0009, -0.0009, -0.0009, -0.0009, -0.0009, -0.0009, -0.0009, -0.0009,\n",
      "         -0.0009, -0.0009, -0.0009, -0.0009, -0.0009, -0.0009, -0.0009, -0.0009,\n",
      "         -0.0009, -0.0009],\n",
      "        [-0.0007, -0.0007, -0.0007, -0.0007, -0.0007, -0.0007, -0.0007, -0.0007,\n",
      "         -0.0007, -0.0007, -0.0007, -0.0007, -0.0007, -0.0007, -0.0007, -0.0007,\n",
      "         -0.0007, -0.0007, -0.0007, -0.0007, -0.0007, -0.0007, -0.0007, -0.0007,\n",
      "         -0.0007, -0.0007, -0.0007, -0.0007, -0.0007, -0.0007, -0.0007, -0.0007,\n",
      "         -0.0007, -0.0007, -0.0007, -0.0007, -0.0007, -0.0007, -0.0007, -0.0007,\n",
      "         -0.0007, -0.0007, -0.0007, -0.0007, -0.0007, -0.0007, -0.0007, -0.0007,\n",
      "         -0.0007, -0.0007]], device='cuda:0', grad_fn=<SelectBackward0>)\n"
     ]
    },
    {
     "name": "stderr",
     "output_type": "stream",
     "text": [
      "0.00000064:   3%|▎         | 3/100 [03:37<1:51:18, 68.85s/it]"
     ]
    },
    {
     "name": "stdout",
     "output_type": "stream",
     "text": [
      "tensor([1., 1.], device='cuda:0') tensor([[-0.0009, -0.0009, -0.0009, -0.0009, -0.0009, -0.0009, -0.0009, -0.0009,\n",
      "         -0.0009, -0.0009, -0.0009, -0.0009, -0.0009, -0.0009, -0.0009, -0.0009,\n",
      "         -0.0009, -0.0009, -0.0009, -0.0009, -0.0009, -0.0009, -0.0009, -0.0009,\n",
      "         -0.0009, -0.0009, -0.0009, -0.0009, -0.0009, -0.0009, -0.0009, -0.0009,\n",
      "         -0.0009, -0.0009, -0.0009, -0.0009, -0.0009, -0.0009, -0.0009, -0.0009,\n",
      "         -0.0009, -0.0009, -0.0009, -0.0009, -0.0009, -0.0009, -0.0009, -0.0009,\n",
      "         -0.0009, -0.0009],\n",
      "        [-0.0010, -0.0010, -0.0010, -0.0010, -0.0010, -0.0010, -0.0010, -0.0010,\n",
      "         -0.0010, -0.0010, -0.0010, -0.0010, -0.0010, -0.0010, -0.0010, -0.0010,\n",
      "         -0.0010, -0.0010, -0.0010, -0.0010, -0.0010, -0.0010, -0.0010, -0.0010,\n",
      "         -0.0010, -0.0010, -0.0010, -0.0010, -0.0010, -0.0010, -0.0010, -0.0010,\n",
      "         -0.0010, -0.0010, -0.0010, -0.0010, -0.0010, -0.0010, -0.0010, -0.0010,\n",
      "         -0.0010, -0.0010, -0.0010, -0.0010, -0.0010, -0.0010, -0.0010, -0.0010,\n",
      "         -0.0010, -0.0010]], device='cuda:0', grad_fn=<SelectBackward0>)\n"
     ]
    },
    {
     "name": "stderr",
     "output_type": "stream",
     "text": [
      "0.00000088:   3%|▎         | 3/100 [03:39<1:51:18, 68.85s/it]"
     ]
    },
    {
     "name": "stdout",
     "output_type": "stream",
     "text": [
      "tensor([1., 1.], device='cuda:0') tensor([[-0.0007, -0.0007, -0.0007, -0.0007, -0.0007, -0.0007, -0.0007, -0.0007,\n",
      "         -0.0007, -0.0007, -0.0007, -0.0007, -0.0007, -0.0007, -0.0007, -0.0007,\n",
      "         -0.0007, -0.0007, -0.0007, -0.0007, -0.0007, -0.0007, -0.0007, -0.0007,\n",
      "         -0.0007, -0.0007, -0.0007, -0.0007, -0.0007, -0.0007, -0.0007, -0.0007,\n",
      "         -0.0007, -0.0007, -0.0007, -0.0007, -0.0007, -0.0007, -0.0007, -0.0007,\n",
      "         -0.0007, -0.0007, -0.0007, -0.0007, -0.0007, -0.0007, -0.0007, -0.0007,\n",
      "         -0.0007, -0.0007],\n",
      "        [-0.0011, -0.0011, -0.0011, -0.0011, -0.0011, -0.0011, -0.0011, -0.0011,\n",
      "         -0.0011, -0.0011, -0.0011, -0.0011, -0.0011, -0.0011, -0.0011, -0.0011,\n",
      "         -0.0011, -0.0011, -0.0011, -0.0011, -0.0011, -0.0011, -0.0011, -0.0011,\n",
      "         -0.0011, -0.0011, -0.0011, -0.0011, -0.0011, -0.0011, -0.0011, -0.0011,\n",
      "         -0.0011, -0.0011, -0.0011, -0.0011, -0.0011, -0.0011, -0.0011, -0.0011,\n",
      "         -0.0011, -0.0011, -0.0011, -0.0011, -0.0011, -0.0011, -0.0011, -0.0011,\n",
      "         -0.0011, -0.0011]], device='cuda:0', grad_fn=<SelectBackward0>)\n"
     ]
    },
    {
     "name": "stderr",
     "output_type": "stream",
     "text": [
      "0.00000091:   3%|▎         | 3/100 [03:40<1:51:18, 68.85s/it]"
     ]
    },
    {
     "name": "stdout",
     "output_type": "stream",
     "text": [
      "tensor([1., 1.], device='cuda:0') tensor([[-0.0005, -0.0005, -0.0005, -0.0005, -0.0005, -0.0005, -0.0005, -0.0005,\n",
      "         -0.0005, -0.0005, -0.0005, -0.0005, -0.0005, -0.0005, -0.0005, -0.0005,\n",
      "         -0.0005, -0.0005, -0.0005, -0.0005, -0.0005, -0.0005, -0.0005, -0.0005,\n",
      "         -0.0005, -0.0005, -0.0005, -0.0005, -0.0005, -0.0005, -0.0005, -0.0005,\n",
      "         -0.0005, -0.0005, -0.0005, -0.0005, -0.0005, -0.0005, -0.0005, -0.0005,\n",
      "         -0.0005, -0.0005, -0.0005, -0.0005, -0.0005, -0.0005, -0.0005, -0.0005,\n",
      "         -0.0005, -0.0005],\n",
      "        [-0.0011, -0.0011, -0.0011, -0.0011, -0.0011, -0.0011, -0.0011, -0.0011,\n",
      "         -0.0011, -0.0011, -0.0011, -0.0011, -0.0011, -0.0011, -0.0011, -0.0011,\n",
      "         -0.0011, -0.0011, -0.0011, -0.0011, -0.0011, -0.0011, -0.0011, -0.0011,\n",
      "         -0.0011, -0.0011, -0.0011, -0.0011, -0.0011, -0.0011, -0.0011, -0.0011,\n",
      "         -0.0011, -0.0011, -0.0011, -0.0011, -0.0011, -0.0011, -0.0011, -0.0011,\n",
      "         -0.0011, -0.0011, -0.0011, -0.0011, -0.0011, -0.0011, -0.0011, -0.0011,\n",
      "         -0.0011, -0.0011]], device='cuda:0', grad_fn=<SelectBackward0>)\n"
     ]
    },
    {
     "name": "stderr",
     "output_type": "stream",
     "text": [
      "0.00000070:   3%|▎         | 3/100 [03:42<1:51:18, 68.85s/it]"
     ]
    },
    {
     "name": "stdout",
     "output_type": "stream",
     "text": [
      "tensor([1., 1.], device='cuda:0') tensor([[-0.0002, -0.0002, -0.0002, -0.0002, -0.0002, -0.0002, -0.0002, -0.0002,\n",
      "         -0.0002, -0.0002, -0.0002, -0.0002, -0.0002, -0.0002, -0.0002, -0.0002,\n",
      "         -0.0002, -0.0002, -0.0002, -0.0002, -0.0002, -0.0002, -0.0002, -0.0002,\n",
      "         -0.0002, -0.0002, -0.0002, -0.0002, -0.0002, -0.0002, -0.0002, -0.0002,\n",
      "         -0.0002, -0.0002, -0.0002, -0.0002, -0.0002, -0.0002, -0.0002, -0.0002,\n",
      "         -0.0002, -0.0002, -0.0002, -0.0002, -0.0002, -0.0002, -0.0002, -0.0002,\n",
      "         -0.0002, -0.0002],\n",
      "        [-0.0008, -0.0008, -0.0008, -0.0008, -0.0008, -0.0008, -0.0008, -0.0008,\n",
      "         -0.0008, -0.0008, -0.0008, -0.0008, -0.0008, -0.0008, -0.0008, -0.0008,\n",
      "         -0.0008, -0.0008, -0.0008, -0.0008, -0.0008, -0.0008, -0.0008, -0.0008,\n",
      "         -0.0008, -0.0008, -0.0008, -0.0008, -0.0008, -0.0008, -0.0008, -0.0008,\n",
      "         -0.0008, -0.0008, -0.0008, -0.0008, -0.0008, -0.0008, -0.0008, -0.0008,\n",
      "         -0.0008, -0.0008, -0.0008, -0.0008, -0.0008, -0.0008, -0.0008, -0.0008,\n",
      "         -0.0008, -0.0008]], device='cuda:0', grad_fn=<SelectBackward0>)\n"
     ]
    },
    {
     "name": "stderr",
     "output_type": "stream",
     "text": [
      "0.00000037:   3%|▎         | 3/100 [03:43<1:51:18, 68.85s/it]"
     ]
    },
    {
     "name": "stdout",
     "output_type": "stream",
     "text": [
      "tensor([1., 1.], device='cuda:0') tensor([[ 4.5583e-05,  4.5568e-05,  4.5598e-05,  4.5612e-05,  4.5538e-05,\n",
      "          4.5627e-05,  4.5553e-05,  4.5612e-05,  4.5538e-05,  4.5612e-05,\n",
      "          4.5612e-05,  4.5568e-05,  4.5583e-05,  4.5583e-05,  4.5598e-05,\n",
      "          4.5553e-05,  4.5568e-05,  4.5598e-05,  4.5598e-05,  4.5612e-05,\n",
      "          4.5598e-05,  4.5583e-05,  4.5583e-05,  4.5612e-05,  4.5568e-05,\n",
      "          4.5568e-05,  4.5612e-05,  4.5612e-05,  4.5538e-05,  4.5568e-05,\n",
      "          4.5598e-05,  4.5598e-05,  4.5598e-05,  4.5568e-05,  4.5612e-05,\n",
      "          4.5583e-05,  4.5568e-05,  4.5612e-05,  4.5598e-05,  4.5627e-05,\n",
      "          4.5598e-05,  4.5583e-05,  4.5598e-05,  4.5612e-05,  4.5568e-05,\n",
      "          4.5568e-05,  4.5538e-05,  4.5583e-05,  4.5568e-05,  4.5598e-05],\n",
      "        [-4.7995e-04, -4.7997e-04, -4.7991e-04, -4.7989e-04, -4.7991e-04,\n",
      "         -4.7992e-04, -4.7997e-04, -4.7994e-04, -4.7995e-04, -4.7994e-04,\n",
      "         -4.7992e-04, -4.7989e-04, -4.7989e-04, -4.7991e-04, -4.7989e-04,\n",
      "         -4.7989e-04, -4.7997e-04, -4.7991e-04, -4.7991e-04, -4.7991e-04,\n",
      "         -4.7992e-04, -4.7995e-04, -4.7991e-04, -4.7994e-04, -4.7991e-04,\n",
      "         -4.7992e-04, -4.7995e-04, -4.7989e-04, -4.7991e-04, -4.7991e-04,\n",
      "         -4.7995e-04, -4.7989e-04, -4.7992e-04, -4.7991e-04, -4.7994e-04,\n",
      "         -4.7989e-04, -4.7988e-04, -4.7992e-04, -4.7992e-04, -4.7992e-04,\n",
      "         -4.7991e-04, -4.7991e-04, -4.7994e-04, -4.7991e-04, -4.7994e-04,\n",
      "         -4.7997e-04, -4.7989e-04, -4.7991e-04, -4.7997e-04, -4.7991e-04]],\n",
      "       device='cuda:0', grad_fn=<SelectBackward0>)\n"
     ]
    },
    {
     "name": "stderr",
     "output_type": "stream",
     "text": [
      "0.00000012:   3%|▎         | 3/100 [03:44<1:51:18, 68.85s/it]"
     ]
    },
    {
     "name": "stdout",
     "output_type": "stream",
     "text": [
      "tensor([1., 1.], device='cuda:0') tensor([[-8.5592e-05, -8.5622e-05, -8.5592e-05, -8.5652e-05, -8.5592e-05,\n",
      "         -8.5592e-05, -8.5622e-05, -8.5592e-05, -8.5592e-05, -8.5592e-05,\n",
      "         -8.5592e-05, -8.5652e-05, -8.5592e-05, -8.5592e-05, -8.5622e-05,\n",
      "         -8.5592e-05, -8.5592e-05, -8.5592e-05, -8.5607e-05, -8.5592e-05,\n",
      "         -8.5562e-05, -8.5592e-05, -8.5592e-05, -8.5622e-05, -8.5592e-05,\n",
      "         -8.5592e-05, -8.5592e-05, -8.5592e-05, -8.5592e-05, -8.5622e-05,\n",
      "         -8.5637e-05, -8.5592e-05, -8.5622e-05, -8.5592e-05, -8.5652e-05,\n",
      "         -8.5622e-05, -8.5577e-05, -8.5592e-05, -8.5652e-05, -8.5592e-05,\n",
      "         -8.5577e-05, -8.5622e-05, -8.5592e-05, -8.5622e-05, -8.5622e-05,\n",
      "         -8.5592e-05, -8.5592e-05, -8.5622e-05, -8.5622e-05, -8.5592e-05],\n",
      "        [ 2.9589e-04,  2.9588e-04,  2.9586e-04,  2.9589e-04,  2.9589e-04,\n",
      "          2.9589e-04,  2.9588e-04,  2.9585e-04,  2.9589e-04,  2.9589e-04,\n",
      "          2.9589e-04,  2.9588e-04,  2.9589e-04,  2.9589e-04,  2.9589e-04,\n",
      "          2.9589e-04,  2.9588e-04,  2.9589e-04,  2.9588e-04,  2.9589e-04,\n",
      "          2.9586e-04,  2.9591e-04,  2.9588e-04,  2.9588e-04,  2.9589e-04,\n",
      "          2.9588e-04,  2.9589e-04,  2.9591e-04,  2.9589e-04,  2.9588e-04,\n",
      "          2.9589e-04,  2.9589e-04,  2.9588e-04,  2.9589e-04,  2.9589e-04,\n",
      "          2.9588e-04,  2.9588e-04,  2.9591e-04,  2.9588e-04,  2.9589e-04,\n",
      "          2.9589e-04,  2.9588e-04,  2.9589e-04,  2.9586e-04,  2.9588e-04,\n",
      "          2.9589e-04,  2.9589e-04,  2.9588e-04,  2.9588e-04,  2.9589e-04]],\n",
      "       device='cuda:0', grad_fn=<SelectBackward0>)\n"
     ]
    },
    {
     "name": "stderr",
     "output_type": "stream",
     "text": [
      "0.00000005:   3%|▎         | 3/100 [03:45<1:51:18, 68.85s/it]"
     ]
    },
    {
     "name": "stdout",
     "output_type": "stream",
     "text": [
      "tensor([1., 1.], device='cuda:0') tensor([[0.0005, 0.0005, 0.0005, 0.0005, 0.0005, 0.0005, 0.0005, 0.0005, 0.0005,\n",
      "         0.0005, 0.0005, 0.0005, 0.0005, 0.0005, 0.0005, 0.0005, 0.0005, 0.0005,\n",
      "         0.0005, 0.0005, 0.0005, 0.0005, 0.0005, 0.0005, 0.0005, 0.0005, 0.0005,\n",
      "         0.0005, 0.0005, 0.0005, 0.0005, 0.0005, 0.0005, 0.0005, 0.0005, 0.0005,\n",
      "         0.0005, 0.0005, 0.0005, 0.0005, 0.0005, 0.0005, 0.0005, 0.0005, 0.0005,\n",
      "         0.0005, 0.0005, 0.0005, 0.0005, 0.0005],\n",
      "        [0.0003, 0.0003, 0.0003, 0.0003, 0.0003, 0.0003, 0.0003, 0.0003, 0.0003,\n",
      "         0.0003, 0.0003, 0.0003, 0.0003, 0.0003, 0.0003, 0.0003, 0.0003, 0.0003,\n",
      "         0.0003, 0.0003, 0.0003, 0.0003, 0.0003, 0.0003, 0.0003, 0.0003, 0.0003,\n",
      "         0.0003, 0.0003, 0.0003, 0.0003, 0.0003, 0.0003, 0.0003, 0.0003, 0.0003,\n",
      "         0.0003, 0.0003, 0.0003, 0.0003, 0.0003, 0.0003, 0.0003, 0.0003, 0.0003,\n",
      "         0.0003, 0.0003, 0.0003, 0.0003, 0.0003]], device='cuda:0',\n",
      "       grad_fn=<SelectBackward0>)\n"
     ]
    },
    {
     "name": "stderr",
     "output_type": "stream",
     "text": [
      "0.00000016:   3%|▎         | 3/100 [03:47<1:51:18, 68.85s/it]"
     ]
    },
    {
     "name": "stdout",
     "output_type": "stream",
     "text": [
      "tensor([1., 1.], device='cuda:0') tensor([[0.0006, 0.0006, 0.0006, 0.0006, 0.0006, 0.0006, 0.0006, 0.0006, 0.0006,\n",
      "         0.0006, 0.0006, 0.0006, 0.0006, 0.0006, 0.0006, 0.0006, 0.0006, 0.0006,\n",
      "         0.0006, 0.0006, 0.0006, 0.0006, 0.0006, 0.0006, 0.0006, 0.0006, 0.0006,\n",
      "         0.0006, 0.0006, 0.0006, 0.0006, 0.0006, 0.0006, 0.0006, 0.0006, 0.0006,\n",
      "         0.0006, 0.0006, 0.0006, 0.0006, 0.0006, 0.0006, 0.0006, 0.0006, 0.0006,\n",
      "         0.0006, 0.0006, 0.0006, 0.0006, 0.0006],\n",
      "        [0.0006, 0.0006, 0.0006, 0.0006, 0.0006, 0.0006, 0.0006, 0.0006, 0.0006,\n",
      "         0.0006, 0.0006, 0.0006, 0.0006, 0.0006, 0.0006, 0.0006, 0.0006, 0.0006,\n",
      "         0.0006, 0.0006, 0.0006, 0.0006, 0.0006, 0.0006, 0.0006, 0.0006, 0.0006,\n",
      "         0.0006, 0.0006, 0.0006, 0.0006, 0.0006, 0.0006, 0.0006, 0.0006, 0.0006,\n",
      "         0.0006, 0.0006, 0.0006, 0.0006, 0.0006, 0.0006, 0.0006, 0.0006, 0.0006,\n",
      "         0.0006, 0.0006, 0.0006, 0.0006, 0.0006]], device='cuda:0',\n",
      "       grad_fn=<SelectBackward0>)\n"
     ]
    },
    {
     "name": "stderr",
     "output_type": "stream",
     "text": [
      "0.00000034:   3%|▎         | 3/100 [03:48<1:51:18, 68.85s/it]"
     ]
    },
    {
     "name": "stdout",
     "output_type": "stream",
     "text": [
      "tensor([1., 1.], device='cuda:0') tensor([[0.0006, 0.0006, 0.0006, 0.0006, 0.0006, 0.0006, 0.0006, 0.0006, 0.0006,\n",
      "         0.0006, 0.0006, 0.0006, 0.0006, 0.0006, 0.0006, 0.0006, 0.0006, 0.0006,\n",
      "         0.0006, 0.0006, 0.0006, 0.0006, 0.0006, 0.0006, 0.0006, 0.0006, 0.0006,\n",
      "         0.0006, 0.0006, 0.0006, 0.0006, 0.0006, 0.0006, 0.0006, 0.0006, 0.0006,\n",
      "         0.0006, 0.0006, 0.0006, 0.0006, 0.0006, 0.0006, 0.0006, 0.0006, 0.0006,\n",
      "         0.0006, 0.0006, 0.0006, 0.0006, 0.0006],\n",
      "        [0.0007, 0.0007, 0.0007, 0.0007, 0.0007, 0.0007, 0.0007, 0.0007, 0.0007,\n",
      "         0.0007, 0.0007, 0.0007, 0.0007, 0.0007, 0.0007, 0.0007, 0.0007, 0.0007,\n",
      "         0.0007, 0.0007, 0.0007, 0.0007, 0.0007, 0.0007, 0.0007, 0.0007, 0.0007,\n",
      "         0.0007, 0.0007, 0.0007, 0.0007, 0.0007, 0.0007, 0.0007, 0.0007, 0.0007,\n",
      "         0.0007, 0.0007, 0.0007, 0.0007, 0.0007, 0.0007, 0.0007, 0.0007, 0.0007,\n",
      "         0.0007, 0.0007, 0.0007, 0.0007, 0.0007]], device='cuda:0',\n",
      "       grad_fn=<SelectBackward0>)\n"
     ]
    },
    {
     "name": "stderr",
     "output_type": "stream",
     "text": [
      "0.00000045:   3%|▎         | 3/100 [03:49<1:51:18, 68.85s/it]"
     ]
    },
    {
     "name": "stdout",
     "output_type": "stream",
     "text": [
      "tensor([1., 1.], device='cuda:0') tensor([[0.0005, 0.0005, 0.0005, 0.0005, 0.0005, 0.0005, 0.0005, 0.0005, 0.0005,\n",
      "         0.0005, 0.0005, 0.0005, 0.0005, 0.0005, 0.0005, 0.0005, 0.0005, 0.0005,\n",
      "         0.0005, 0.0005, 0.0005, 0.0005, 0.0005, 0.0005, 0.0005, 0.0005, 0.0005,\n",
      "         0.0005, 0.0005, 0.0005, 0.0005, 0.0005, 0.0005, 0.0005, 0.0005, 0.0005,\n",
      "         0.0005, 0.0005, 0.0005, 0.0005, 0.0005, 0.0005, 0.0005, 0.0005, 0.0005,\n",
      "         0.0005, 0.0005, 0.0005, 0.0005, 0.0005],\n",
      "        [0.0007, 0.0007, 0.0007, 0.0007, 0.0007, 0.0007, 0.0007, 0.0007, 0.0007,\n",
      "         0.0007, 0.0007, 0.0007, 0.0007, 0.0007, 0.0007, 0.0007, 0.0007, 0.0007,\n",
      "         0.0007, 0.0007, 0.0007, 0.0007, 0.0007, 0.0007, 0.0007, 0.0007, 0.0007,\n",
      "         0.0007, 0.0007, 0.0007, 0.0007, 0.0007, 0.0007, 0.0007, 0.0007, 0.0007,\n",
      "         0.0007, 0.0007, 0.0007, 0.0007, 0.0007, 0.0007, 0.0007, 0.0007, 0.0007,\n",
      "         0.0007, 0.0007, 0.0007, 0.0007, 0.0007]], device='cuda:0',\n",
      "       grad_fn=<SelectBackward0>)\n"
     ]
    },
    {
     "name": "stderr",
     "output_type": "stream",
     "text": [
      "0.00000043:   3%|▎         | 3/100 [03:50<1:51:18, 68.85s/it]"
     ]
    },
    {
     "name": "stdout",
     "output_type": "stream",
     "text": [
      "tensor([1., 1.], device='cuda:0') tensor([[0.0006, 0.0006, 0.0006, 0.0006, 0.0006, 0.0006, 0.0006, 0.0006, 0.0006,\n",
      "         0.0006, 0.0006, 0.0006, 0.0006, 0.0006, 0.0006, 0.0006, 0.0006, 0.0006,\n",
      "         0.0006, 0.0006, 0.0006, 0.0006, 0.0006, 0.0006, 0.0006, 0.0006, 0.0006,\n",
      "         0.0006, 0.0006, 0.0006, 0.0006, 0.0006, 0.0006, 0.0006, 0.0006, 0.0006,\n",
      "         0.0006, 0.0006, 0.0006, 0.0006, 0.0006, 0.0006, 0.0006, 0.0006, 0.0006,\n",
      "         0.0006, 0.0006, 0.0006, 0.0006, 0.0006],\n",
      "        [0.0004, 0.0004, 0.0004, 0.0004, 0.0004, 0.0004, 0.0004, 0.0004, 0.0004,\n",
      "         0.0004, 0.0004, 0.0004, 0.0004, 0.0004, 0.0004, 0.0004, 0.0004, 0.0004,\n",
      "         0.0004, 0.0004, 0.0004, 0.0004, 0.0004, 0.0004, 0.0004, 0.0004, 0.0004,\n",
      "         0.0004, 0.0004, 0.0004, 0.0004, 0.0004, 0.0004, 0.0004, 0.0004, 0.0004,\n",
      "         0.0004, 0.0004, 0.0004, 0.0004, 0.0004, 0.0004, 0.0004, 0.0004, 0.0004,\n",
      "         0.0004, 0.0004, 0.0004, 0.0004, 0.0004]], device='cuda:0',\n",
      "       grad_fn=<SelectBackward0>)\n"
     ]
    },
    {
     "name": "stderr",
     "output_type": "stream",
     "text": [
      "0.00000029:   3%|▎         | 3/100 [03:52<1:51:18, 68.85s/it]"
     ]
    },
    {
     "name": "stdout",
     "output_type": "stream",
     "text": [
      "tensor([1., 1.], device='cuda:0') tensor([[0.0004, 0.0004, 0.0004, 0.0004, 0.0004, 0.0004, 0.0004, 0.0004, 0.0004,\n",
      "         0.0004, 0.0004, 0.0004, 0.0004, 0.0004, 0.0004, 0.0004, 0.0004, 0.0004,\n",
      "         0.0004, 0.0004, 0.0004, 0.0004, 0.0004, 0.0004, 0.0004, 0.0004, 0.0004,\n",
      "         0.0004, 0.0004, 0.0004, 0.0004, 0.0004, 0.0004, 0.0004, 0.0004, 0.0004,\n",
      "         0.0004, 0.0004, 0.0004, 0.0004, 0.0004, 0.0004, 0.0004, 0.0004, 0.0004,\n",
      "         0.0004, 0.0004, 0.0004, 0.0004, 0.0004],\n",
      "        [0.0002, 0.0002, 0.0002, 0.0002, 0.0002, 0.0002, 0.0002, 0.0002, 0.0002,\n",
      "         0.0002, 0.0002, 0.0002, 0.0002, 0.0002, 0.0002, 0.0002, 0.0002, 0.0002,\n",
      "         0.0002, 0.0002, 0.0002, 0.0002, 0.0002, 0.0002, 0.0002, 0.0002, 0.0002,\n",
      "         0.0002, 0.0002, 0.0002, 0.0002, 0.0002, 0.0002, 0.0002, 0.0002, 0.0002,\n",
      "         0.0002, 0.0002, 0.0002, 0.0002, 0.0002, 0.0002, 0.0002, 0.0002, 0.0002,\n",
      "         0.0002, 0.0002, 0.0002, 0.0002, 0.0002]], device='cuda:0',\n",
      "       grad_fn=<SelectBackward0>)\n"
     ]
    },
    {
     "name": "stderr",
     "output_type": "stream",
     "text": [
      "0.00000012:   3%|▎         | 3/100 [03:53<1:51:18, 68.85s/it]"
     ]
    },
    {
     "name": "stdout",
     "output_type": "stream",
     "text": [
      "tensor([1., 1.], device='cuda:0') tensor([[1.6950e-04, 1.6946e-04, 1.6946e-04, 1.6946e-04, 1.6950e-04, 1.6946e-04,\n",
      "         1.6949e-04, 1.6950e-04, 1.6947e-04, 1.6946e-04, 1.6946e-04, 1.6950e-04,\n",
      "         1.6946e-04, 1.6950e-04, 1.6950e-04, 1.6946e-04, 1.6946e-04, 1.6946e-04,\n",
      "         1.6946e-04, 1.6947e-04, 1.6946e-04, 1.6947e-04, 1.6944e-04, 1.6946e-04,\n",
      "         1.6947e-04, 1.6944e-04, 1.6946e-04, 1.6949e-04, 1.6950e-04, 1.6946e-04,\n",
      "         1.6947e-04, 1.6946e-04, 1.6947e-04, 1.6947e-04, 1.6947e-04, 1.6950e-04,\n",
      "         1.6946e-04, 1.6947e-04, 1.6947e-04, 1.6947e-04, 1.6946e-04, 1.6946e-04,\n",
      "         1.6946e-04, 1.6946e-04, 1.6950e-04, 1.6950e-04, 1.6944e-04, 1.6950e-04,\n",
      "         1.6950e-04, 1.6949e-04],\n",
      "        [4.7877e-05, 4.7907e-05, 4.7892e-05, 4.7892e-05, 4.7907e-05, 4.7892e-05,\n",
      "         4.7892e-05, 4.7907e-05, 4.7877e-05, 4.7892e-05, 4.7892e-05, 4.7907e-05,\n",
      "         4.7892e-05, 4.7907e-05, 4.7907e-05, 4.7877e-05, 4.7892e-05, 4.7892e-05,\n",
      "         4.7892e-05, 4.7892e-05, 4.7892e-05, 4.7877e-05, 4.7877e-05, 4.7892e-05,\n",
      "         4.7863e-05, 4.7877e-05, 4.7892e-05, 4.7877e-05, 4.7907e-05, 4.7892e-05,\n",
      "         4.7877e-05, 4.7892e-05, 4.7892e-05, 4.7907e-05, 4.7877e-05, 4.7907e-05,\n",
      "         4.7892e-05, 4.7907e-05, 4.7877e-05, 4.7877e-05, 4.7892e-05, 4.7892e-05,\n",
      "         4.7892e-05, 4.7892e-05, 4.7863e-05, 4.7907e-05, 4.7907e-05, 4.7907e-05,\n",
      "         4.7907e-05, 4.7907e-05]], device='cuda:0', grad_fn=<SelectBackward0>)\n"
     ]
    },
    {
     "name": "stderr",
     "output_type": "stream",
     "text": [
      "0.00000002:   3%|▎         | 3/100 [03:54<1:51:18, 68.85s/it]"
     ]
    },
    {
     "name": "stdout",
     "output_type": "stream",
     "text": [
      "tensor([1., 1.], device='cuda:0') tensor([[-1.3241e-04, -1.3238e-04, -1.3241e-04, -1.3241e-04, -1.3238e-04,\n",
      "         -1.3241e-04, -1.3238e-04, -1.3238e-04, -1.3238e-04, -1.3238e-04,\n",
      "         -1.3241e-04, -1.3238e-04, -1.3238e-04, -1.3238e-04, -1.3241e-04,\n",
      "         -1.3241e-04, -1.3241e-04, -1.3238e-04, -1.3238e-04, -1.3238e-04,\n",
      "         -1.3238e-04, -1.3238e-04, -1.3238e-04, -1.3241e-04, -1.3238e-04,\n",
      "         -1.3238e-04, -1.3241e-04, -1.3238e-04, -1.3241e-04, -1.3238e-04,\n",
      "         -1.3238e-04, -1.3241e-04, -1.3238e-04, -1.3240e-04, -1.3243e-04,\n",
      "         -1.3238e-04, -1.3241e-04, -1.3238e-04, -1.3238e-04, -1.3241e-04,\n",
      "         -1.3241e-04, -1.3241e-04, -1.3238e-04, -1.3241e-04, -1.3238e-04,\n",
      "         -1.3241e-04, -1.3240e-04, -1.3241e-04, -1.3241e-04, -1.3238e-04],\n",
      "        [-9.4444e-05, -9.4444e-05, -9.4444e-05, -9.4414e-05, -9.4444e-05,\n",
      "         -9.4458e-05, -9.4444e-05, -9.4414e-05, -9.4444e-05, -9.4444e-05,\n",
      "         -9.4458e-05, -9.4444e-05, -9.4444e-05, -9.4444e-05, -9.4414e-05,\n",
      "         -9.4444e-05, -9.4473e-05, -9.4444e-05, -9.4444e-05, -9.4414e-05,\n",
      "         -9.4429e-05, -9.4444e-05, -9.4444e-05, -9.4458e-05, -9.4444e-05,\n",
      "         -9.4444e-05, -9.4444e-05, -9.4444e-05, -9.4414e-05, -9.4444e-05,\n",
      "         -9.4444e-05, -9.4473e-05, -9.4444e-05, -9.4444e-05, -9.4444e-05,\n",
      "         -9.4444e-05, -9.4444e-05, -9.4444e-05, -9.4444e-05, -9.4458e-05,\n",
      "         -9.4458e-05, -9.4444e-05, -9.4444e-05, -9.4458e-05, -9.4429e-05,\n",
      "         -9.4458e-05, -9.4458e-05, -9.4458e-05, -9.4444e-05, -9.4429e-05]],\n",
      "       device='cuda:0', grad_fn=<SelectBackward0>)\n"
     ]
    },
    {
     "name": "stderr",
     "output_type": "stream",
     "text": [
      "0.00000001:   3%|▎         | 3/100 [03:56<1:51:18, 68.85s/it]"
     ]
    },
    {
     "name": "stdout",
     "output_type": "stream",
     "text": [
      "tensor([1., 1.], device='cuda:0') tensor([[-0.0003, -0.0003, -0.0003, -0.0003, -0.0003, -0.0003, -0.0003, -0.0003,\n",
      "         -0.0003, -0.0003, -0.0003, -0.0003, -0.0003, -0.0003, -0.0003, -0.0003,\n",
      "         -0.0003, -0.0003, -0.0003, -0.0003, -0.0003, -0.0003, -0.0003, -0.0003,\n",
      "         -0.0003, -0.0003, -0.0003, -0.0003, -0.0003, -0.0003, -0.0003, -0.0003,\n",
      "         -0.0003, -0.0003, -0.0003, -0.0003, -0.0003, -0.0003, -0.0003, -0.0003,\n",
      "         -0.0003, -0.0003, -0.0003, -0.0003, -0.0003, -0.0003, -0.0003, -0.0003,\n",
      "         -0.0003, -0.0003],\n",
      "        [-0.0003, -0.0003, -0.0003, -0.0003, -0.0003, -0.0003, -0.0003, -0.0003,\n",
      "         -0.0003, -0.0003, -0.0003, -0.0003, -0.0003, -0.0003, -0.0003, -0.0003,\n",
      "         -0.0003, -0.0003, -0.0003, -0.0003, -0.0003, -0.0003, -0.0003, -0.0003,\n",
      "         -0.0003, -0.0003, -0.0003, -0.0003, -0.0003, -0.0003, -0.0003, -0.0003,\n",
      "         -0.0003, -0.0003, -0.0003, -0.0003, -0.0003, -0.0003, -0.0003, -0.0003,\n",
      "         -0.0003, -0.0003, -0.0003, -0.0003, -0.0003, -0.0003, -0.0003, -0.0003,\n",
      "         -0.0003, -0.0003]], device='cuda:0', grad_fn=<SelectBackward0>)\n"
     ]
    },
    {
     "name": "stderr",
     "output_type": "stream",
     "text": [
      "0.00000009:   3%|▎         | 3/100 [03:57<1:51:18, 68.85s/it]"
     ]
    },
    {
     "name": "stdout",
     "output_type": "stream",
     "text": [
      "tensor([1., 1.], device='cuda:0') tensor([[-0.0005, -0.0005, -0.0005, -0.0005, -0.0005, -0.0005, -0.0005, -0.0005,\n",
      "         -0.0005, -0.0005, -0.0005, -0.0005, -0.0005, -0.0005, -0.0005, -0.0005,\n",
      "         -0.0005, -0.0005, -0.0005, -0.0005, -0.0005, -0.0005, -0.0005, -0.0005,\n",
      "         -0.0005, -0.0005, -0.0005, -0.0005, -0.0005, -0.0005, -0.0005, -0.0005,\n",
      "         -0.0005, -0.0005, -0.0005, -0.0005, -0.0005, -0.0005, -0.0005, -0.0005,\n",
      "         -0.0005, -0.0005, -0.0005, -0.0005, -0.0005, -0.0005, -0.0005, -0.0005,\n",
      "         -0.0005, -0.0005],\n",
      "        [-0.0004, -0.0004, -0.0004, -0.0004, -0.0004, -0.0004, -0.0004, -0.0004,\n",
      "         -0.0004, -0.0004, -0.0004, -0.0004, -0.0004, -0.0004, -0.0004, -0.0004,\n",
      "         -0.0004, -0.0004, -0.0004, -0.0004, -0.0004, -0.0004, -0.0004, -0.0004,\n",
      "         -0.0004, -0.0004, -0.0004, -0.0004, -0.0004, -0.0004, -0.0004, -0.0004,\n",
      "         -0.0004, -0.0004, -0.0004, -0.0004, -0.0004, -0.0004, -0.0004, -0.0004,\n",
      "         -0.0004, -0.0004, -0.0004, -0.0004, -0.0004, -0.0004, -0.0004, -0.0004,\n",
      "         -0.0004, -0.0004]], device='cuda:0', grad_fn=<SelectBackward0>)\n"
     ]
    },
    {
     "name": "stderr",
     "output_type": "stream",
     "text": [
      "0.00000018:   3%|▎         | 3/100 [03:58<1:51:18, 68.85s/it]"
     ]
    },
    {
     "name": "stdout",
     "output_type": "stream",
     "text": [
      "tensor([1., 1.], device='cuda:0') tensor([[-0.0004, -0.0004, -0.0004, -0.0004, -0.0004, -0.0004, -0.0004, -0.0004,\n",
      "         -0.0004, -0.0004, -0.0004, -0.0004, -0.0004, -0.0004, -0.0004, -0.0004,\n",
      "         -0.0004, -0.0004, -0.0004, -0.0004, -0.0004, -0.0004, -0.0004, -0.0004,\n",
      "         -0.0004, -0.0004, -0.0004, -0.0004, -0.0004, -0.0004, -0.0004, -0.0004,\n",
      "         -0.0004, -0.0004, -0.0004, -0.0004, -0.0004, -0.0004, -0.0004, -0.0004,\n",
      "         -0.0004, -0.0004, -0.0004, -0.0004, -0.0004, -0.0004, -0.0004, -0.0004,\n",
      "         -0.0004, -0.0004],\n",
      "        [-0.0005, -0.0005, -0.0005, -0.0005, -0.0005, -0.0005, -0.0005, -0.0005,\n",
      "         -0.0005, -0.0005, -0.0005, -0.0005, -0.0005, -0.0005, -0.0005, -0.0005,\n",
      "         -0.0005, -0.0005, -0.0005, -0.0005, -0.0005, -0.0005, -0.0005, -0.0005,\n",
      "         -0.0005, -0.0005, -0.0005, -0.0005, -0.0005, -0.0005, -0.0005, -0.0005,\n",
      "         -0.0005, -0.0005, -0.0005, -0.0005, -0.0005, -0.0005, -0.0005, -0.0005,\n",
      "         -0.0005, -0.0005, -0.0005, -0.0005, -0.0005, -0.0005, -0.0005, -0.0005,\n",
      "         -0.0005, -0.0005]], device='cuda:0', grad_fn=<SelectBackward0>)\n"
     ]
    },
    {
     "name": "stderr",
     "output_type": "stream",
     "text": [
      "0.00000021:   3%|▎         | 3/100 [03:59<1:51:18, 68.85s/it]"
     ]
    },
    {
     "name": "stdout",
     "output_type": "stream",
     "text": [
      "tensor([1., 1.], device='cuda:0') tensor([[-0.0004, -0.0004, -0.0004, -0.0004, -0.0004, -0.0004, -0.0004, -0.0004,\n",
      "         -0.0004, -0.0004, -0.0004, -0.0004, -0.0004, -0.0004, -0.0004, -0.0004,\n",
      "         -0.0004, -0.0004, -0.0004, -0.0004, -0.0004, -0.0004, -0.0004, -0.0004,\n",
      "         -0.0004, -0.0004, -0.0004, -0.0004, -0.0004, -0.0004, -0.0004, -0.0004,\n",
      "         -0.0004, -0.0004, -0.0004, -0.0004, -0.0004, -0.0004, -0.0004, -0.0004,\n",
      "         -0.0004, -0.0004, -0.0004, -0.0004, -0.0004, -0.0004, -0.0004, -0.0004,\n",
      "         -0.0004, -0.0004],\n",
      "        [-0.0005, -0.0005, -0.0005, -0.0005, -0.0005, -0.0005, -0.0005, -0.0005,\n",
      "         -0.0005, -0.0005, -0.0005, -0.0005, -0.0005, -0.0005, -0.0005, -0.0005,\n",
      "         -0.0005, -0.0005, -0.0005, -0.0005, -0.0005, -0.0005, -0.0005, -0.0005,\n",
      "         -0.0005, -0.0005, -0.0005, -0.0005, -0.0005, -0.0005, -0.0005, -0.0005,\n",
      "         -0.0005, -0.0005, -0.0005, -0.0005, -0.0005, -0.0005, -0.0005, -0.0005,\n",
      "         -0.0005, -0.0005, -0.0005, -0.0005, -0.0005, -0.0005, -0.0005, -0.0005,\n",
      "         -0.0005, -0.0005]], device='cuda:0', grad_fn=<SelectBackward0>)\n"
     ]
    },
    {
     "name": "stderr",
     "output_type": "stream",
     "text": [
      "0.00000018:   3%|▎         | 3/100 [04:01<1:51:18, 68.85s/it]"
     ]
    },
    {
     "name": "stdout",
     "output_type": "stream",
     "text": [
      "tensor([1., 1.], device='cuda:0') tensor([[-0.0003, -0.0003, -0.0003, -0.0003, -0.0003, -0.0003, -0.0003, -0.0003,\n",
      "         -0.0003, -0.0003, -0.0003, -0.0003, -0.0003, -0.0003, -0.0003, -0.0003,\n",
      "         -0.0003, -0.0003, -0.0003, -0.0003, -0.0003, -0.0003, -0.0003, -0.0003,\n",
      "         -0.0003, -0.0003, -0.0003, -0.0003, -0.0003, -0.0003, -0.0003, -0.0003,\n",
      "         -0.0003, -0.0003, -0.0003, -0.0003, -0.0003, -0.0003, -0.0003, -0.0003,\n",
      "         -0.0003, -0.0003, -0.0003, -0.0003, -0.0003, -0.0003, -0.0003, -0.0003,\n",
      "         -0.0003, -0.0003],\n",
      "        [-0.0003, -0.0003, -0.0003, -0.0003, -0.0003, -0.0003, -0.0003, -0.0003,\n",
      "         -0.0003, -0.0003, -0.0003, -0.0003, -0.0003, -0.0003, -0.0003, -0.0003,\n",
      "         -0.0003, -0.0003, -0.0003, -0.0003, -0.0003, -0.0003, -0.0003, -0.0003,\n",
      "         -0.0003, -0.0003, -0.0003, -0.0003, -0.0003, -0.0003, -0.0003, -0.0003,\n",
      "         -0.0003, -0.0003, -0.0003, -0.0003, -0.0003, -0.0003, -0.0003, -0.0003,\n",
      "         -0.0003, -0.0003, -0.0003, -0.0003, -0.0003, -0.0003, -0.0003, -0.0003,\n",
      "         -0.0003, -0.0003]], device='cuda:0', grad_fn=<SelectBackward0>)\n"
     ]
    },
    {
     "name": "stderr",
     "output_type": "stream",
     "text": [
      "0.00000011:   3%|▎         | 3/100 [04:02<1:51:18, 68.85s/it]"
     ]
    },
    {
     "name": "stdout",
     "output_type": "stream",
     "text": [
      "tensor([1., 1.], device='cuda:0') tensor([[-0.0002, -0.0002, -0.0002, -0.0002, -0.0002, -0.0002, -0.0002, -0.0002,\n",
      "         -0.0002, -0.0002, -0.0002, -0.0002, -0.0002, -0.0002, -0.0002, -0.0002,\n",
      "         -0.0002, -0.0002, -0.0002, -0.0002, -0.0002, -0.0002, -0.0002, -0.0002,\n",
      "         -0.0002, -0.0002, -0.0002, -0.0002, -0.0002, -0.0002, -0.0002, -0.0002,\n",
      "         -0.0002, -0.0002, -0.0002, -0.0002, -0.0002, -0.0002, -0.0002, -0.0002,\n",
      "         -0.0002, -0.0002, -0.0002, -0.0002, -0.0002, -0.0002, -0.0002, -0.0002,\n",
      "         -0.0002, -0.0002],\n",
      "        [-0.0002, -0.0002, -0.0002, -0.0002, -0.0002, -0.0002, -0.0002, -0.0002,\n",
      "         -0.0002, -0.0002, -0.0002, -0.0002, -0.0002, -0.0002, -0.0002, -0.0002,\n",
      "         -0.0002, -0.0002, -0.0002, -0.0002, -0.0002, -0.0002, -0.0002, -0.0002,\n",
      "         -0.0002, -0.0002, -0.0002, -0.0002, -0.0002, -0.0002, -0.0002, -0.0002,\n",
      "         -0.0002, -0.0002, -0.0002, -0.0002, -0.0002, -0.0002, -0.0002, -0.0002,\n",
      "         -0.0002, -0.0002, -0.0002, -0.0002, -0.0002, -0.0002, -0.0002, -0.0002,\n",
      "         -0.0002, -0.0002]], device='cuda:0', grad_fn=<SelectBackward0>)\n"
     ]
    },
    {
     "name": "stderr",
     "output_type": "stream",
     "text": [
      "0.00000003:   3%|▎         | 3/100 [04:04<1:51:18, 68.85s/it]"
     ]
    },
    {
     "name": "stdout",
     "output_type": "stream",
     "text": [
      "tensor([1., 1.], device='cuda:0') tensor([[ 9.3728e-06,  9.3430e-06,  9.3430e-06,  9.3430e-06,  9.3430e-06,\n",
      "          9.3430e-06,  9.3579e-06,  9.3728e-06,  9.3430e-06,  9.3728e-06,\n",
      "          9.3728e-06,  9.3579e-06,  9.4026e-06,  9.3430e-06,  9.3430e-06,\n",
      "          9.3579e-06,  9.3430e-06,  9.3132e-06,  9.3430e-06,  9.3430e-06,\n",
      "          9.3430e-06,  9.3728e-06,  9.3430e-06,  9.3430e-06,  9.3430e-06,\n",
      "          9.3728e-06,  9.3132e-06,  9.3728e-06,  9.3430e-06,  9.3430e-06,\n",
      "          9.3579e-06,  9.3728e-06,  9.3579e-06,  9.3430e-06,  9.3281e-06,\n",
      "          9.3281e-06,  9.3430e-06,  9.3132e-06,  9.3579e-06,  9.3430e-06,\n",
      "          9.3430e-06,  9.3579e-06,  9.3430e-06,  9.3728e-06,  9.3579e-06,\n",
      "          9.3430e-06,  9.3728e-06,  9.3430e-06,  9.3430e-06,  9.3728e-06],\n",
      "        [-6.8799e-05, -6.8799e-05, -6.8799e-05, -6.8799e-05, -6.8769e-05,\n",
      "         -6.8799e-05, -6.8784e-05, -6.8828e-05, -6.8799e-05, -6.8769e-05,\n",
      "         -6.8799e-05, -6.8769e-05, -6.8769e-05, -6.8799e-05, -6.8724e-05,\n",
      "         -6.8754e-05, -6.8769e-05, -6.8769e-05, -6.8769e-05, -6.8769e-05,\n",
      "         -6.8784e-05, -6.8799e-05, -6.8769e-05, -6.8769e-05, -6.8754e-05,\n",
      "         -6.8799e-05, -6.8784e-05, -6.8769e-05, -6.8769e-05, -6.8828e-05,\n",
      "         -6.8828e-05, -6.8754e-05, -6.8754e-05, -6.8754e-05, -6.8754e-05,\n",
      "         -6.8814e-05, -6.8769e-05, -6.8769e-05, -6.8769e-05, -6.8769e-05,\n",
      "         -6.8769e-05, -6.8754e-05, -6.8799e-05, -6.8799e-05, -6.8754e-05,\n",
      "         -6.8799e-05, -6.8799e-05, -6.8799e-05, -6.8799e-05, -6.8769e-05]],\n",
      "       device='cuda:0', grad_fn=<SelectBackward0>)\n"
     ]
    },
    {
     "name": "stderr",
     "output_type": "stream",
     "text": [
      "0.00000000:   3%|▎         | 3/100 [04:05<1:51:18, 68.85s/it]"
     ]
    },
    {
     "name": "stdout",
     "output_type": "stream",
     "text": [
      "tensor([1., 1.], device='cuda:0') tensor([[5.3599e-05, 5.3614e-05, 5.3599e-05, 5.3614e-05, 5.3599e-05, 5.3599e-05,\n",
      "         5.3599e-05, 5.3599e-05, 5.3585e-05, 5.3585e-05, 5.3570e-05, 5.3629e-05,\n",
      "         5.3585e-05, 5.3570e-05, 5.3570e-05, 5.3614e-05, 5.3570e-05, 5.3599e-05,\n",
      "         5.3599e-05, 5.3599e-05, 5.3599e-05, 5.3599e-05, 5.3599e-05, 5.3599e-05,\n",
      "         5.3599e-05, 5.3599e-05, 5.3585e-05, 5.3599e-05, 5.3599e-05, 5.3599e-05,\n",
      "         5.3599e-05, 5.3599e-05, 5.3585e-05, 5.3614e-05, 5.3599e-05, 5.3599e-05,\n",
      "         5.3599e-05, 5.3599e-05, 5.3585e-05, 5.3570e-05, 5.3570e-05, 5.3614e-05,\n",
      "         5.3599e-05, 5.3599e-05, 5.3585e-05, 5.3585e-05, 5.3585e-05, 5.3585e-05,\n",
      "         5.3599e-05, 5.3599e-05],\n",
      "        [1.7555e-04, 1.7558e-04, 1.7555e-04, 1.7557e-04, 1.7554e-04, 1.7555e-04,\n",
      "         1.7555e-04, 1.7555e-04, 1.7558e-04, 1.7555e-04, 1.7555e-04, 1.7558e-04,\n",
      "         1.7558e-04, 1.7558e-04, 1.7555e-04, 1.7555e-04, 1.7555e-04, 1.7555e-04,\n",
      "         1.7555e-04, 1.7555e-04, 1.7555e-04, 1.7555e-04, 1.7555e-04, 1.7555e-04,\n",
      "         1.7557e-04, 1.7555e-04, 1.7555e-04, 1.7555e-04, 1.7555e-04, 1.7555e-04,\n",
      "         1.7558e-04, 1.7555e-04, 1.7555e-04, 1.7552e-04, 1.7555e-04, 1.7558e-04,\n",
      "         1.7555e-04, 1.7555e-04, 1.7555e-04, 1.7555e-04, 1.7555e-04, 1.7561e-04,\n",
      "         1.7555e-04, 1.7555e-04, 1.7555e-04, 1.7554e-04, 1.7555e-04, 1.7555e-04,\n",
      "         1.7555e-04, 1.7555e-04]], device='cuda:0', grad_fn=<SelectBackward0>)\n"
     ]
    },
    {
     "name": "stderr",
     "output_type": "stream",
     "text": [
      "0.00000002:   3%|▎         | 3/100 [04:06<1:51:18, 68.85s/it]"
     ]
    },
    {
     "name": "stdout",
     "output_type": "stream",
     "text": [
      "tensor([1., 1.], device='cuda:0') tensor([[0.0003, 0.0003, 0.0003, 0.0003, 0.0003, 0.0003, 0.0003, 0.0003, 0.0003,\n",
      "         0.0003, 0.0003, 0.0003, 0.0003, 0.0003, 0.0003, 0.0003, 0.0003, 0.0003,\n",
      "         0.0003, 0.0003, 0.0003, 0.0003, 0.0003, 0.0003, 0.0003, 0.0003, 0.0003,\n",
      "         0.0003, 0.0003, 0.0003, 0.0003, 0.0003, 0.0003, 0.0003, 0.0003, 0.0003,\n",
      "         0.0003, 0.0003, 0.0003, 0.0003, 0.0003, 0.0003, 0.0003, 0.0003, 0.0003,\n",
      "         0.0003, 0.0003, 0.0003, 0.0003, 0.0003],\n",
      "        [0.0002, 0.0002, 0.0002, 0.0002, 0.0002, 0.0002, 0.0002, 0.0002, 0.0002,\n",
      "         0.0002, 0.0002, 0.0002, 0.0002, 0.0002, 0.0002, 0.0002, 0.0002, 0.0002,\n",
      "         0.0002, 0.0002, 0.0002, 0.0002, 0.0002, 0.0002, 0.0002, 0.0002, 0.0002,\n",
      "         0.0002, 0.0002, 0.0002, 0.0002, 0.0002, 0.0002, 0.0002, 0.0002, 0.0002,\n",
      "         0.0002, 0.0002, 0.0002, 0.0002, 0.0002, 0.0002, 0.0002, 0.0002, 0.0002,\n",
      "         0.0002, 0.0002, 0.0002, 0.0002, 0.0002]], device='cuda:0',\n",
      "       grad_fn=<SelectBackward0>)\n"
     ]
    },
    {
     "name": "stderr",
     "output_type": "stream",
     "text": [
      "0.00000006:   3%|▎         | 3/100 [04:08<1:51:18, 68.85s/it]"
     ]
    },
    {
     "name": "stdout",
     "output_type": "stream",
     "text": [
      "tensor([1., 1.], device='cuda:0') tensor([[0.0004, 0.0004, 0.0004, 0.0004, 0.0004, 0.0004, 0.0004, 0.0004, 0.0004,\n",
      "         0.0004, 0.0004, 0.0004, 0.0004, 0.0004, 0.0004, 0.0004, 0.0004, 0.0004,\n",
      "         0.0004, 0.0004, 0.0004, 0.0004, 0.0004, 0.0004, 0.0004, 0.0004, 0.0004,\n",
      "         0.0004, 0.0004, 0.0004, 0.0004, 0.0004, 0.0004, 0.0004, 0.0004, 0.0004,\n",
      "         0.0004, 0.0004, 0.0004, 0.0004, 0.0004, 0.0004, 0.0004, 0.0004, 0.0004,\n",
      "         0.0004, 0.0004, 0.0004, 0.0004, 0.0004],\n",
      "        [0.0002, 0.0002, 0.0002, 0.0002, 0.0002, 0.0002, 0.0002, 0.0002, 0.0002,\n",
      "         0.0002, 0.0002, 0.0002, 0.0002, 0.0002, 0.0002, 0.0002, 0.0002, 0.0002,\n",
      "         0.0002, 0.0002, 0.0002, 0.0002, 0.0002, 0.0002, 0.0002, 0.0002, 0.0002,\n",
      "         0.0002, 0.0002, 0.0002, 0.0002, 0.0002, 0.0002, 0.0002, 0.0002, 0.0002,\n",
      "         0.0002, 0.0002, 0.0002, 0.0002, 0.0002, 0.0002, 0.0002, 0.0002, 0.0002,\n",
      "         0.0002, 0.0002, 0.0002, 0.0002, 0.0002]], device='cuda:0',\n",
      "       grad_fn=<SelectBackward0>)\n"
     ]
    },
    {
     "name": "stderr",
     "output_type": "stream",
     "text": [
      "0.00000009:   3%|▎         | 3/100 [04:09<1:51:18, 68.85s/it]"
     ]
    },
    {
     "name": "stdout",
     "output_type": "stream",
     "text": [
      "tensor([1., 1.], device='cuda:0') tensor([[0.0003, 0.0003, 0.0003, 0.0003, 0.0003, 0.0003, 0.0003, 0.0003, 0.0003,\n",
      "         0.0003, 0.0003, 0.0003, 0.0003, 0.0003, 0.0003, 0.0003, 0.0003, 0.0003,\n",
      "         0.0003, 0.0003, 0.0003, 0.0003, 0.0003, 0.0003, 0.0003, 0.0003, 0.0003,\n",
      "         0.0003, 0.0003, 0.0003, 0.0003, 0.0003, 0.0003, 0.0003, 0.0003, 0.0003,\n",
      "         0.0003, 0.0003, 0.0003, 0.0003, 0.0003, 0.0003, 0.0003, 0.0003, 0.0003,\n",
      "         0.0003, 0.0003, 0.0003, 0.0003, 0.0003],\n",
      "        [0.0003, 0.0003, 0.0003, 0.0003, 0.0003, 0.0003, 0.0003, 0.0003, 0.0003,\n",
      "         0.0003, 0.0003, 0.0003, 0.0003, 0.0003, 0.0003, 0.0003, 0.0003, 0.0003,\n",
      "         0.0003, 0.0003, 0.0003, 0.0003, 0.0003, 0.0003, 0.0003, 0.0003, 0.0003,\n",
      "         0.0003, 0.0003, 0.0003, 0.0003, 0.0003, 0.0003, 0.0003, 0.0003, 0.0003,\n",
      "         0.0003, 0.0003, 0.0003, 0.0003, 0.0003, 0.0003, 0.0003, 0.0003, 0.0003,\n",
      "         0.0003, 0.0003, 0.0003, 0.0003, 0.0003]], device='cuda:0',\n",
      "       grad_fn=<SelectBackward0>)\n"
     ]
    },
    {
     "name": "stderr",
     "output_type": "stream",
     "text": [
      "0.00000009:   3%|▎         | 3/100 [04:10<1:51:18, 68.85s/it]"
     ]
    },
    {
     "name": "stdout",
     "output_type": "stream",
     "text": [
      "tensor([1., 1.], device='cuda:0') tensor([[0.0003, 0.0003, 0.0003, 0.0003, 0.0003, 0.0003, 0.0003, 0.0003, 0.0003,\n",
      "         0.0003, 0.0003, 0.0003, 0.0003, 0.0003, 0.0003, 0.0003, 0.0003, 0.0003,\n",
      "         0.0003, 0.0003, 0.0003, 0.0003, 0.0003, 0.0003, 0.0003, 0.0003, 0.0003,\n",
      "         0.0003, 0.0003, 0.0003, 0.0003, 0.0003, 0.0003, 0.0003, 0.0003, 0.0003,\n",
      "         0.0003, 0.0003, 0.0003, 0.0003, 0.0003, 0.0003, 0.0003, 0.0003, 0.0003,\n",
      "         0.0003, 0.0003, 0.0003, 0.0003, 0.0003],\n",
      "        [0.0002, 0.0002, 0.0002, 0.0002, 0.0002, 0.0002, 0.0002, 0.0002, 0.0002,\n",
      "         0.0002, 0.0002, 0.0002, 0.0002, 0.0002, 0.0002, 0.0002, 0.0002, 0.0002,\n",
      "         0.0002, 0.0002, 0.0002, 0.0002, 0.0002, 0.0002, 0.0002, 0.0002, 0.0002,\n",
      "         0.0002, 0.0002, 0.0002, 0.0002, 0.0002, 0.0002, 0.0002, 0.0002, 0.0002,\n",
      "         0.0002, 0.0002, 0.0002, 0.0002, 0.0002, 0.0002, 0.0002, 0.0002, 0.0002,\n",
      "         0.0002, 0.0002, 0.0002, 0.0002, 0.0002]], device='cuda:0',\n",
      "       grad_fn=<SelectBackward0>)\n"
     ]
    },
    {
     "name": "stderr",
     "output_type": "stream",
     "text": [
      "0.00000007:   3%|▎         | 3/100 [04:12<1:51:18, 68.85s/it]"
     ]
    },
    {
     "name": "stdout",
     "output_type": "stream",
     "text": [
      "tensor([1., 1.], device='cuda:0') tensor([[0.0002, 0.0002, 0.0002, 0.0002, 0.0002, 0.0002, 0.0002, 0.0002, 0.0002,\n",
      "         0.0002, 0.0002, 0.0002, 0.0002, 0.0002, 0.0002, 0.0002, 0.0002, 0.0002,\n",
      "         0.0002, 0.0002, 0.0002, 0.0002, 0.0002, 0.0002, 0.0002, 0.0002, 0.0002,\n",
      "         0.0002, 0.0002, 0.0002, 0.0002, 0.0002, 0.0002, 0.0002, 0.0002, 0.0002,\n",
      "         0.0002, 0.0002, 0.0002, 0.0002, 0.0002, 0.0002, 0.0002, 0.0002, 0.0002,\n",
      "         0.0002, 0.0002, 0.0002, 0.0002, 0.0002],\n",
      "        [0.0002, 0.0002, 0.0002, 0.0002, 0.0002, 0.0002, 0.0002, 0.0002, 0.0002,\n",
      "         0.0002, 0.0002, 0.0002, 0.0002, 0.0002, 0.0002, 0.0002, 0.0002, 0.0002,\n",
      "         0.0002, 0.0002, 0.0002, 0.0002, 0.0002, 0.0002, 0.0002, 0.0002, 0.0002,\n",
      "         0.0002, 0.0002, 0.0002, 0.0002, 0.0002, 0.0002, 0.0002, 0.0002, 0.0002,\n",
      "         0.0002, 0.0002, 0.0002, 0.0002, 0.0002, 0.0002, 0.0002, 0.0002, 0.0002,\n",
      "         0.0002, 0.0002, 0.0002, 0.0002, 0.0002]], device='cuda:0',\n",
      "       grad_fn=<SelectBackward0>)\n"
     ]
    },
    {
     "name": "stderr",
     "output_type": "stream",
     "text": [
      "0.00000003:   3%|▎         | 3/100 [04:13<1:51:18, 68.85s/it]"
     ]
    },
    {
     "name": "stdout",
     "output_type": "stream",
     "text": [
      "tensor([1., 1.], device='cuda:0') tensor([[1.3994e-04, 1.3994e-04, 1.3994e-04, 1.3997e-04, 1.3994e-04, 1.3994e-04,\n",
      "         1.3989e-04, 1.3997e-04, 1.3997e-04, 1.3991e-04, 1.3991e-04, 1.3991e-04,\n",
      "         1.3994e-04, 1.3989e-04, 1.3994e-04, 1.3994e-04, 1.3997e-04, 1.3997e-04,\n",
      "         1.3994e-04, 1.3997e-04, 1.3994e-04, 1.3989e-04, 1.3988e-04, 1.3989e-04,\n",
      "         1.3997e-04, 1.3994e-04, 1.3997e-04, 1.3986e-04, 1.3988e-04, 1.3997e-04,\n",
      "         1.3997e-04, 1.3991e-04, 1.3989e-04, 1.3994e-04, 1.3991e-04, 1.3988e-04,\n",
      "         1.3994e-04, 1.3994e-04, 1.3997e-04, 1.3988e-04, 1.3991e-04, 1.3991e-04,\n",
      "         1.3989e-04, 1.3997e-04, 1.3997e-04, 1.3994e-04, 1.3994e-04, 1.3994e-04,\n",
      "         1.3997e-04, 1.3997e-04],\n",
      "        [2.4706e-05, 2.4736e-05, 2.4676e-05, 2.4691e-05, 2.4706e-05, 2.4691e-05,\n",
      "         2.4706e-05, 2.4691e-05, 2.4691e-05, 2.4706e-05, 2.4706e-05, 2.4706e-05,\n",
      "         2.4706e-05, 2.4706e-05, 2.4691e-05, 2.4706e-05, 2.4706e-05, 2.4691e-05,\n",
      "         2.4706e-05, 2.4691e-05, 2.4691e-05, 2.4706e-05, 2.4706e-05, 2.4706e-05,\n",
      "         2.4691e-05, 2.4721e-05, 2.4691e-05, 2.4706e-05, 2.4706e-05, 2.4691e-05,\n",
      "         2.4691e-05, 2.4706e-05, 2.4706e-05, 2.4736e-05, 2.4676e-05, 2.4691e-05,\n",
      "         2.4706e-05, 2.4736e-05, 2.4691e-05, 2.4706e-05, 2.4706e-05, 2.4706e-05,\n",
      "         2.4706e-05, 2.4691e-05, 2.4691e-05, 2.4706e-05, 2.4691e-05, 2.4706e-05,\n",
      "         2.4691e-05, 2.4691e-05]], device='cuda:0', grad_fn=<SelectBackward0>)\n"
     ]
    },
    {
     "name": "stderr",
     "output_type": "stream",
     "text": [
      "0.00000001:   3%|▎         | 3/100 [04:15<1:51:18, 68.85s/it]"
     ]
    },
    {
     "name": "stdout",
     "output_type": "stream",
     "text": [
      "tensor([1., 1.], device='cuda:0') tensor([[ 6.0439e-05,  6.0424e-05,  6.0439e-05,  6.0424e-05,  6.0424e-05,\n",
      "          6.0424e-05,  6.0394e-05,  6.0424e-05,  6.0439e-05,  6.0424e-05,\n",
      "          6.0439e-05,  6.0424e-05,  6.0424e-05,  6.0424e-05,  6.0424e-05,\n",
      "          6.0424e-05,  6.0424e-05,  6.0409e-05,  6.0454e-05,  6.0424e-05,\n",
      "          6.0424e-05,  6.0424e-05,  6.0439e-05,  6.0424e-05,  6.0424e-05,\n",
      "          6.0394e-05,  6.0454e-05,  6.0424e-05,  6.0424e-05,  6.0424e-05,\n",
      "          6.0424e-05,  6.0394e-05,  6.0424e-05,  6.0409e-05,  6.0439e-05,\n",
      "          6.0439e-05,  6.0424e-05,  6.0424e-05,  6.0409e-05,  6.0409e-05,\n",
      "          6.0394e-05,  6.0424e-05,  6.0424e-05,  6.0409e-05,  6.0424e-05,\n",
      "          6.0424e-05,  6.0424e-05,  6.0424e-05,  6.0424e-05,  6.0424e-05],\n",
      "        [-9.7692e-05, -9.7707e-05, -9.7737e-05, -9.7707e-05, -9.7707e-05,\n",
      "         -9.7722e-05, -9.7707e-05, -9.7737e-05, -9.7737e-05, -9.7707e-05,\n",
      "         -9.7707e-05, -9.7707e-05, -9.7722e-05, -9.7707e-05, -9.7707e-05,\n",
      "         -9.7707e-05, -9.7707e-05, -9.7722e-05, -9.7722e-05, -9.7722e-05,\n",
      "         -9.7707e-05, -9.7707e-05, -9.7722e-05, -9.7707e-05, -9.7707e-05,\n",
      "         -9.7722e-05, -9.7737e-05, -9.7722e-05, -9.7707e-05, -9.7722e-05,\n",
      "         -9.7707e-05, -9.7722e-05, -9.7707e-05, -9.7737e-05, -9.7722e-05,\n",
      "         -9.7722e-05, -9.7722e-05, -9.7707e-05, -9.7737e-05, -9.7737e-05,\n",
      "         -9.7722e-05, -9.7722e-05, -9.7722e-05, -9.7692e-05, -9.7722e-05,\n",
      "         -9.7707e-05, -9.7722e-05, -9.7722e-05, -9.7707e-05, -9.7737e-05]],\n",
      "       device='cuda:0', grad_fn=<SelectBackward0>)\n"
     ]
    },
    {
     "name": "stderr",
     "output_type": "stream",
     "text": [
      "0.00000001:   3%|▎         | 3/100 [04:16<1:51:18, 68.85s/it]"
     ]
    },
    {
     "name": "stdout",
     "output_type": "stream",
     "text": [
      "tensor([1., 1.], device='cuda:0') tensor([[-1.9126e-04, -1.9127e-04, -1.9129e-04, -1.9132e-04, -1.9132e-04,\n",
      "         -1.9130e-04, -1.9130e-04, -1.9130e-04, -1.9126e-04, -1.9126e-04,\n",
      "         -1.9132e-04, -1.9127e-04, -1.9130e-04, -1.9130e-04, -1.9132e-04,\n",
      "         -1.9126e-04, -1.9127e-04, -1.9132e-04, -1.9130e-04, -1.9127e-04,\n",
      "         -1.9130e-04, -1.9127e-04, -1.9132e-04, -1.9127e-04, -1.9130e-04,\n",
      "         -1.9130e-04, -1.9130e-04, -1.9127e-04, -1.9129e-04, -1.9127e-04,\n",
      "         -1.9126e-04, -1.9132e-04, -1.9130e-04, -1.9129e-04, -1.9127e-04,\n",
      "         -1.9127e-04, -1.9127e-04, -1.9132e-04, -1.9127e-04, -1.9127e-04,\n",
      "         -1.9130e-04, -1.9129e-04, -1.9127e-04, -1.9127e-04, -1.9133e-04,\n",
      "         -1.9130e-04, -1.9130e-04, -1.9127e-04, -1.9127e-04, -1.9133e-04],\n",
      "        [-1.9029e-05, -1.8984e-05, -1.8999e-05, -1.8984e-05, -1.8984e-05,\n",
      "         -1.8999e-05, -1.8984e-05, -1.8984e-05, -1.9029e-05, -1.9029e-05,\n",
      "         -1.8984e-05, -1.8984e-05, -1.8999e-05, -1.8984e-05, -1.8984e-05,\n",
      "         -1.9014e-05, -1.8984e-05, -1.8984e-05, -1.8999e-05, -1.8999e-05,\n",
      "         -1.8999e-05, -1.8984e-05, -1.8984e-05, -1.8984e-05, -1.8984e-05,\n",
      "         -1.8999e-05, -1.8984e-05, -1.8999e-05, -1.8969e-05, -1.8984e-05,\n",
      "         -1.8969e-05, -1.8984e-05, -1.9029e-05, -1.8984e-05, -1.8984e-05,\n",
      "         -1.8984e-05, -1.8999e-05, -1.8999e-05, -1.8984e-05, -1.8984e-05,\n",
      "         -1.8984e-05, -1.8984e-05, -1.8969e-05, -1.9029e-05, -1.8999e-05,\n",
      "         -1.8984e-05, -1.8999e-05, -1.8984e-05, -1.9029e-05, -1.8999e-05]],\n",
      "       device='cuda:0', grad_fn=<SelectBackward0>)\n"
     ]
    },
    {
     "name": "stderr",
     "output_type": "stream",
     "text": [
      "0.00000002:   3%|▎         | 3/100 [04:17<1:51:18, 68.85s/it]"
     ]
    },
    {
     "name": "stdout",
     "output_type": "stream",
     "text": [
      "tensor([1., 1.], device='cuda:0') tensor([[-2.4174e-04, -2.4173e-04, -2.4173e-04, -2.4174e-04, -2.4176e-04,\n",
      "         -2.4174e-04, -2.4173e-04, -2.4171e-04, -2.4176e-04, -2.4174e-04,\n",
      "         -2.4174e-04, -2.4171e-04, -2.4176e-04, -2.4174e-04, -2.4176e-04,\n",
      "         -2.4173e-04, -2.4176e-04, -2.4171e-04, -2.4171e-04, -2.4170e-04,\n",
      "         -2.4168e-04, -2.4168e-04, -2.4174e-04, -2.4173e-04, -2.4174e-04,\n",
      "         -2.4171e-04, -2.4173e-04, -2.4174e-04, -2.4171e-04, -2.4176e-04,\n",
      "         -2.4173e-04, -2.4171e-04, -2.4171e-04, -2.4173e-04, -2.4176e-04,\n",
      "         -2.4173e-04, -2.4174e-04, -2.4174e-04, -2.4174e-04, -2.4173e-04,\n",
      "         -2.4174e-04, -2.4171e-04, -2.4174e-04, -2.4171e-04, -2.4173e-04,\n",
      "         -2.4174e-04, -2.4171e-04, -2.4174e-04, -2.4174e-04, -2.4176e-04],\n",
      "        [-8.7008e-05, -8.6978e-05, -8.6978e-05, -8.7008e-05, -8.7038e-05,\n",
      "         -8.7008e-05, -8.6978e-05, -8.6978e-05, -8.7008e-05, -8.7008e-05,\n",
      "         -8.7008e-05, -8.7008e-05, -8.7023e-05, -8.7038e-05, -8.7008e-05,\n",
      "         -8.6978e-05, -8.7008e-05, -8.6978e-05, -8.6978e-05, -8.7008e-05,\n",
      "         -8.7023e-05, -8.6993e-05, -8.7008e-05, -8.6978e-05, -8.7008e-05,\n",
      "         -8.7038e-05, -8.7008e-05, -8.7008e-05, -8.7008e-05, -8.7008e-05,\n",
      "         -8.7008e-05, -8.7008e-05, -8.7038e-05, -8.6978e-05, -8.7038e-05,\n",
      "         -8.7008e-05, -8.7008e-05, -8.7008e-05, -8.7008e-05, -8.6993e-05,\n",
      "         -8.6993e-05, -8.7008e-05, -8.7008e-05, -8.7023e-05, -8.7008e-05,\n",
      "         -8.7008e-05, -8.7008e-05, -8.7008e-05, -8.7008e-05, -8.7008e-05]],\n",
      "       device='cuda:0', grad_fn=<SelectBackward0>)\n"
     ]
    },
    {
     "name": "stderr",
     "output_type": "stream",
     "text": [
      "0.00000003:   3%|▎         | 3/100 [04:19<1:51:18, 68.85s/it]"
     ]
    },
    {
     "name": "stdout",
     "output_type": "stream",
     "text": [
      "tensor([1., 1.], device='cuda:0') tensor([[-0.0001, -0.0001, -0.0001, -0.0001, -0.0001, -0.0001, -0.0001, -0.0001,\n",
      "         -0.0001, -0.0001, -0.0001, -0.0001, -0.0001, -0.0001, -0.0001, -0.0001,\n",
      "         -0.0001, -0.0001, -0.0001, -0.0001, -0.0001, -0.0001, -0.0001, -0.0001,\n",
      "         -0.0001, -0.0001, -0.0001, -0.0001, -0.0001, -0.0001, -0.0001, -0.0001,\n",
      "         -0.0001, -0.0001, -0.0001, -0.0001, -0.0001, -0.0001, -0.0001, -0.0001,\n",
      "         -0.0001, -0.0001, -0.0001, -0.0001, -0.0001, -0.0001, -0.0001, -0.0001,\n",
      "         -0.0001, -0.0001],\n",
      "        [-0.0002, -0.0002, -0.0002, -0.0002, -0.0002, -0.0002, -0.0002, -0.0002,\n",
      "         -0.0002, -0.0002, -0.0002, -0.0002, -0.0002, -0.0002, -0.0002, -0.0002,\n",
      "         -0.0002, -0.0002, -0.0002, -0.0002, -0.0002, -0.0002, -0.0002, -0.0002,\n",
      "         -0.0002, -0.0002, -0.0002, -0.0002, -0.0002, -0.0002, -0.0002, -0.0002,\n",
      "         -0.0002, -0.0002, -0.0002, -0.0002, -0.0002, -0.0002, -0.0002, -0.0002,\n",
      "         -0.0002, -0.0002, -0.0002, -0.0002, -0.0002, -0.0002, -0.0002, -0.0002,\n",
      "         -0.0002, -0.0002]], device='cuda:0', grad_fn=<SelectBackward0>)\n"
     ]
    },
    {
     "name": "stderr",
     "output_type": "stream",
     "text": [
      "0.00000004:   3%|▎         | 3/100 [04:20<1:51:18, 68.85s/it]"
     ]
    },
    {
     "name": "stdout",
     "output_type": "stream",
     "text": [
      "tensor([1., 1.], device='cuda:0') tensor([[-0.0002, -0.0002, -0.0002, -0.0002, -0.0002, -0.0002, -0.0002, -0.0002,\n",
      "         -0.0002, -0.0002, -0.0002, -0.0002, -0.0002, -0.0002, -0.0002, -0.0002,\n",
      "         -0.0002, -0.0002, -0.0002, -0.0002, -0.0002, -0.0002, -0.0002, -0.0002,\n",
      "         -0.0002, -0.0002, -0.0002, -0.0002, -0.0002, -0.0002, -0.0002, -0.0002,\n",
      "         -0.0002, -0.0002, -0.0002, -0.0002, -0.0002, -0.0002, -0.0002, -0.0002,\n",
      "         -0.0002, -0.0002, -0.0002, -0.0002, -0.0002, -0.0002, -0.0002, -0.0002,\n",
      "         -0.0002, -0.0002],\n",
      "        [-0.0002, -0.0002, -0.0002, -0.0002, -0.0002, -0.0002, -0.0002, -0.0002,\n",
      "         -0.0002, -0.0002, -0.0002, -0.0002, -0.0002, -0.0002, -0.0002, -0.0002,\n",
      "         -0.0002, -0.0002, -0.0002, -0.0002, -0.0002, -0.0002, -0.0002, -0.0002,\n",
      "         -0.0002, -0.0002, -0.0002, -0.0002, -0.0002, -0.0002, -0.0002, -0.0002,\n",
      "         -0.0002, -0.0002, -0.0002, -0.0002, -0.0002, -0.0002, -0.0002, -0.0002,\n",
      "         -0.0002, -0.0002, -0.0002, -0.0002, -0.0002, -0.0002, -0.0002, -0.0002,\n",
      "         -0.0002, -0.0002]], device='cuda:0', grad_fn=<SelectBackward0>)\n"
     ]
    },
    {
     "name": "stderr",
     "output_type": "stream",
     "text": [
      "0.00000003:   3%|▎         | 3/100 [04:21<1:51:18, 68.85s/it]"
     ]
    },
    {
     "name": "stdout",
     "output_type": "stream",
     "text": [
      "tensor([1., 1.], device='cuda:0') tensor([[-0.0002, -0.0002, -0.0002, -0.0002, -0.0002, -0.0002, -0.0002, -0.0002,\n",
      "         -0.0002, -0.0002, -0.0002, -0.0002, -0.0002, -0.0002, -0.0002, -0.0002,\n",
      "         -0.0002, -0.0002, -0.0002, -0.0002, -0.0002, -0.0002, -0.0002, -0.0002,\n",
      "         -0.0002, -0.0002, -0.0002, -0.0002, -0.0002, -0.0002, -0.0002, -0.0002,\n",
      "         -0.0002, -0.0002, -0.0002, -0.0002, -0.0002, -0.0002, -0.0002, -0.0002,\n",
      "         -0.0002, -0.0002, -0.0002, -0.0002, -0.0002, -0.0002, -0.0002, -0.0002,\n",
      "         -0.0002, -0.0002],\n",
      "        [-0.0001, -0.0001, -0.0001, -0.0001, -0.0001, -0.0001, -0.0001, -0.0001,\n",
      "         -0.0001, -0.0001, -0.0001, -0.0001, -0.0001, -0.0001, -0.0001, -0.0001,\n",
      "         -0.0001, -0.0001, -0.0001, -0.0001, -0.0001, -0.0001, -0.0001, -0.0001,\n",
      "         -0.0001, -0.0001, -0.0001, -0.0001, -0.0001, -0.0001, -0.0001, -0.0001,\n",
      "         -0.0001, -0.0001, -0.0001, -0.0001, -0.0001, -0.0001, -0.0001, -0.0001,\n",
      "         -0.0001, -0.0001, -0.0001, -0.0001, -0.0001, -0.0001, -0.0001, -0.0001,\n",
      "         -0.0001, -0.0001]], device='cuda:0', grad_fn=<SelectBackward0>)\n"
     ]
    },
    {
     "name": "stderr",
     "output_type": "stream",
     "text": [
      "0.00000002:   3%|▎         | 3/100 [04:23<1:51:18, 68.85s/it]"
     ]
    },
    {
     "name": "stdout",
     "output_type": "stream",
     "text": [
      "tensor([1., 1.], device='cuda:0') tensor([[-3.4928e-05, -3.4943e-05, -3.4928e-05, -3.4928e-05, -3.4928e-05,\n",
      "         -3.4913e-05, -3.4913e-05, -3.4988e-05, -3.4928e-05, -3.4973e-05,\n",
      "         -3.4943e-05, -3.4973e-05, -3.4973e-05, -3.4928e-05, -3.4928e-05,\n",
      "         -3.4928e-05, -3.4913e-05, -3.4973e-05, -3.4913e-05, -3.4928e-05,\n",
      "         -3.4943e-05, -3.4943e-05, -3.4913e-05, -3.4913e-05, -3.4943e-05,\n",
      "         -3.4943e-05, -3.4943e-05, -3.4928e-05, -3.4928e-05, -3.4988e-05,\n",
      "         -3.4928e-05, -3.4928e-05, -3.4943e-05, -3.4973e-05, -3.4928e-05,\n",
      "         -3.4913e-05, -3.4913e-05, -3.5003e-05, -3.4928e-05, -3.4928e-05,\n",
      "         -3.4973e-05, -3.4973e-05, -3.4943e-05, -3.4928e-05, -3.4958e-05,\n",
      "         -3.4943e-05, -3.4928e-05, -3.4973e-05, -3.4928e-05, -3.4928e-05],\n",
      "        [-1.3360e-04, -1.3359e-04, -1.3360e-04, -1.3360e-04, -1.3360e-04,\n",
      "         -1.3360e-04, -1.3365e-04, -1.3362e-04, -1.3362e-04, -1.3359e-04,\n",
      "         -1.3365e-04, -1.3362e-04, -1.3365e-04, -1.3360e-04, -1.3360e-04,\n",
      "         -1.3360e-04, -1.3360e-04, -1.3360e-04, -1.3365e-04, -1.3360e-04,\n",
      "         -1.3363e-04, -1.3362e-04, -1.3360e-04, -1.3360e-04, -1.3365e-04,\n",
      "         -1.3359e-04, -1.3363e-04, -1.3360e-04, -1.3360e-04, -1.3359e-04,\n",
      "         -1.3360e-04, -1.3360e-04, -1.3365e-04, -1.3362e-04, -1.3360e-04,\n",
      "         -1.3360e-04, -1.3362e-04, -1.3362e-04, -1.3360e-04, -1.3360e-04,\n",
      "         -1.3363e-04, -1.3360e-04, -1.3362e-04, -1.3360e-04, -1.3362e-04,\n",
      "         -1.3362e-04, -1.3360e-04, -1.3360e-04, -1.3360e-04, -1.3360e-04]],\n",
      "       device='cuda:0', grad_fn=<SelectBackward0>)\n"
     ]
    },
    {
     "name": "stderr",
     "output_type": "stream",
     "text": [
      "0.00000001:   3%|▎         | 3/100 [04:24<1:51:18, 68.85s/it]"
     ]
    },
    {
     "name": "stdout",
     "output_type": "stream",
     "text": [
      "tensor([1., 1.], device='cuda:0') tensor([[ 5.4538e-05,  5.4523e-05,  5.4538e-05,  5.4523e-05,  5.4553e-05,\n",
      "          5.4523e-05,  5.4538e-05,  5.4553e-05,  5.4538e-05,  5.4479e-05,\n",
      "          5.4553e-05,  5.4508e-05,  5.4538e-05,  5.4523e-05,  5.4508e-05,\n",
      "          5.4523e-05,  5.4538e-05,  5.4538e-05,  5.4479e-05,  5.4523e-05,\n",
      "          5.4508e-05,  5.4553e-05,  5.4553e-05,  5.4523e-05,  5.4553e-05,\n",
      "          5.4508e-05,  5.4553e-05,  5.4568e-05,  5.4538e-05,  5.4523e-05,\n",
      "          5.4538e-05,  5.4508e-05,  5.4523e-05,  5.4553e-05,  5.4538e-05,\n",
      "          5.4553e-05,  5.4523e-05,  5.4479e-05,  5.4538e-05,  5.4508e-05,\n",
      "          5.4538e-05,  5.4553e-05,  5.4523e-05,  5.4508e-05,  5.4494e-05,\n",
      "          5.4538e-05,  5.4508e-05,  5.4523e-05,  5.4523e-05,  5.4523e-05],\n",
      "        [-9.3520e-05, -9.3520e-05, -9.3520e-05, -9.3520e-05, -9.3505e-05,\n",
      "         -9.3520e-05, -9.3520e-05, -9.3505e-05, -9.3520e-05, -9.3520e-05,\n",
      "         -9.3535e-05, -9.3520e-05, -9.3505e-05, -9.3520e-05, -9.3520e-05,\n",
      "         -9.3490e-05, -9.3505e-05, -9.3520e-05, -9.3520e-05, -9.3520e-05,\n",
      "         -9.3535e-05, -9.3520e-05, -9.3505e-05, -9.3520e-05, -9.3505e-05,\n",
      "         -9.3520e-05, -9.3505e-05, -9.3520e-05, -9.3520e-05, -9.3520e-05,\n",
      "         -9.3520e-05, -9.3549e-05, -9.3520e-05, -9.3505e-05, -9.3520e-05,\n",
      "         -9.3505e-05, -9.3535e-05, -9.3520e-05, -9.3520e-05, -9.3520e-05,\n",
      "         -9.3520e-05, -9.3505e-05, -9.3520e-05, -9.3505e-05, -9.3520e-05,\n",
      "         -9.3535e-05, -9.3549e-05, -9.3520e-05, -9.3520e-05, -9.3520e-05]],\n",
      "       device='cuda:0', grad_fn=<SelectBackward0>)\n"
     ]
    },
    {
     "name": "stderr",
     "output_type": "stream",
     "text": [
      "0.00000001:   3%|▎         | 3/100 [04:25<1:51:18, 68.85s/it]"
     ]
    },
    {
     "name": "stdout",
     "output_type": "stream",
     "text": [
      "tensor([1., 1.], device='cuda:0') tensor([[-4.4733e-05, -4.4718e-05, -4.4689e-05, -4.4733e-05, -4.4703e-05,\n",
      "         -4.4733e-05, -4.4703e-05, -4.4718e-05, -4.4689e-05, -4.4703e-05,\n",
      "         -4.4718e-05, -4.4703e-05, -4.4689e-05, -4.4703e-05, -4.4689e-05,\n",
      "         -4.4718e-05, -4.4733e-05, -4.4689e-05, -4.4718e-05, -4.4733e-05,\n",
      "         -4.4733e-05, -4.4718e-05, -4.4703e-05, -4.4718e-05, -4.4733e-05,\n",
      "         -4.4703e-05, -4.4733e-05, -4.4733e-05, -4.4733e-05, -4.4689e-05,\n",
      "         -4.4733e-05, -4.4703e-05, -4.4763e-05, -4.4703e-05, -4.4733e-05,\n",
      "         -4.4689e-05, -4.4733e-05, -4.4748e-05, -4.4689e-05, -4.4689e-05,\n",
      "         -4.4733e-05, -4.4689e-05, -4.4733e-05, -4.4733e-05, -4.4703e-05,\n",
      "         -4.4703e-05, -4.4689e-05, -4.4703e-05, -4.4733e-05, -4.4733e-05],\n",
      "        [ 1.2593e-04,  1.2599e-04,  1.2594e-04,  1.2593e-04,  1.2594e-04,\n",
      "          1.2597e-04,  1.2599e-04,  1.2599e-04,  1.2594e-04,  1.2597e-04,\n",
      "          1.2599e-04,  1.2594e-04,  1.2594e-04,  1.2597e-04,  1.2594e-04,\n",
      "          1.2599e-04,  1.2597e-04,  1.2594e-04,  1.2599e-04,  1.2597e-04,\n",
      "          1.2593e-04,  1.2599e-04,  1.2594e-04,  1.2599e-04,  1.2597e-04,\n",
      "          1.2594e-04,  1.2593e-04,  1.2594e-04,  1.2596e-04,  1.2594e-04,\n",
      "          1.2596e-04,  1.2597e-04,  1.2597e-04,  1.2593e-04,  1.2594e-04,\n",
      "          1.2594e-04,  1.2593e-04,  1.2599e-04,  1.2594e-04,  1.2594e-04,\n",
      "          1.2593e-04,  1.2594e-04,  1.2596e-04,  1.2593e-04,  1.2599e-04,\n",
      "          1.2594e-04,  1.2594e-04,  1.2594e-04,  1.2593e-04,  1.2594e-04]],\n",
      "       device='cuda:0', grad_fn=<SelectBackward0>)\n"
     ]
    },
    {
     "name": "stderr",
     "output_type": "stream",
     "text": [
      "0.00000001:   3%|▎         | 3/100 [04:27<1:51:18, 68.85s/it]"
     ]
    },
    {
     "name": "stdout",
     "output_type": "stream",
     "text": [
      "tensor([1., 1.], device='cuda:0') tensor([[1.6785e-04, 1.6792e-04, 1.6794e-04, 1.6785e-04, 1.6792e-04, 1.6786e-04,\n",
      "         1.6786e-04, 1.6792e-04, 1.6786e-04, 1.6786e-04, 1.6786e-04, 1.6786e-04,\n",
      "         1.6786e-04, 1.6792e-04, 1.6786e-04, 1.6786e-04, 1.6789e-04, 1.6791e-04,\n",
      "         1.6789e-04, 1.6792e-04, 1.6786e-04, 1.6785e-04, 1.6786e-04, 1.6785e-04,\n",
      "         1.6786e-04, 1.6792e-04, 1.6792e-04, 1.6786e-04, 1.6792e-04, 1.6785e-04,\n",
      "         1.6786e-04, 1.6786e-04, 1.6789e-04, 1.6788e-04, 1.6786e-04, 1.6786e-04,\n",
      "         1.6792e-04, 1.6786e-04, 1.6786e-04, 1.6792e-04, 1.6788e-04, 1.6786e-04,\n",
      "         1.6792e-04, 1.6792e-04, 1.6792e-04, 1.6792e-04, 1.6792e-04, 1.6786e-04,\n",
      "         1.6789e-04, 1.6792e-04],\n",
      "        [4.8131e-06, 4.8131e-06, 4.8131e-06, 4.8131e-06, 4.8429e-06, 4.8429e-06,\n",
      "         4.7833e-06, 4.8429e-06, 4.7833e-06, 4.8429e-06, 4.7833e-06, 4.7833e-06,\n",
      "         4.8429e-06, 4.7833e-06, 4.8131e-06, 4.7833e-06, 4.8131e-06, 4.8131e-06,\n",
      "         4.8429e-06, 4.8131e-06, 4.8131e-06, 4.8131e-06, 4.8429e-06, 4.8131e-06,\n",
      "         4.8429e-06, 4.8131e-06, 4.8131e-06, 4.7833e-06, 4.8429e-06, 4.8131e-06,\n",
      "         4.7833e-06, 4.8429e-06, 4.7982e-06, 4.8131e-06, 4.8429e-06, 4.8429e-06,\n",
      "         4.8429e-06, 4.8131e-06, 4.8429e-06, 4.8429e-06, 4.8131e-06, 4.7833e-06,\n",
      "         4.8131e-06, 4.8131e-06, 4.8131e-06, 4.8131e-06, 4.7833e-06, 4.8429e-06,\n",
      "         4.8429e-06, 4.8131e-06]], device='cuda:0', grad_fn=<SelectBackward0>)\n"
     ]
    },
    {
     "name": "stderr",
     "output_type": "stream",
     "text": [
      "0.00000001:   3%|▎         | 3/100 [04:28<1:51:18, 68.85s/it]"
     ]
    },
    {
     "name": "stdout",
     "output_type": "stream",
     "text": [
      "tensor([1., 1.], device='cuda:0') tensor([[1.7524e-04, 1.7525e-04, 1.7524e-04, 1.7527e-04, 1.7525e-04, 1.7527e-04,\n",
      "         1.7527e-04, 1.7527e-04, 1.7524e-04, 1.7527e-04, 1.7525e-04, 1.7524e-04,\n",
      "         1.7527e-04, 1.7527e-04, 1.7525e-04, 1.7527e-04, 1.7525e-04, 1.7527e-04,\n",
      "         1.7528e-04, 1.7524e-04, 1.7527e-04, 1.7524e-04, 1.7527e-04, 1.7522e-04,\n",
      "         1.7527e-04, 1.7527e-04, 1.7525e-04, 1.7524e-04, 1.7524e-04, 1.7528e-04,\n",
      "         1.7524e-04, 1.7527e-04, 1.7527e-04, 1.7524e-04, 1.7522e-04, 1.7524e-04,\n",
      "         1.7524e-04, 1.7527e-04, 1.7527e-04, 1.7525e-04, 1.7524e-04, 1.7522e-04,\n",
      "         1.7525e-04, 1.7527e-04, 1.7525e-04, 1.7524e-04, 1.7525e-04, 1.7524e-04,\n",
      "         1.7522e-04, 1.7525e-04],\n",
      "        [4.7922e-05, 4.7922e-05, 4.7877e-05, 4.7907e-05, 4.7892e-05, 4.7907e-05,\n",
      "         4.7892e-05, 4.7892e-05, 4.7907e-05, 4.7907e-05, 4.7892e-05, 4.7907e-05,\n",
      "         4.7892e-05, 4.7907e-05, 4.7922e-05, 4.7907e-05, 4.7922e-05, 4.7892e-05,\n",
      "         4.7952e-05, 4.7907e-05, 4.7922e-05, 4.7922e-05, 4.7907e-05, 4.7892e-05,\n",
      "         4.7922e-05, 4.7907e-05, 4.7892e-05, 4.7907e-05, 4.7922e-05, 4.7907e-05,\n",
      "         4.7907e-05, 4.7892e-05, 4.7892e-05, 4.7922e-05, 4.7937e-05, 4.7907e-05,\n",
      "         4.7907e-05, 4.7922e-05, 4.7892e-05, 4.7892e-05, 4.7892e-05, 4.7892e-05,\n",
      "         4.7922e-05, 4.7907e-05, 4.7907e-05, 4.7922e-05, 4.7892e-05, 4.7892e-05,\n",
      "         4.7892e-05, 4.7892e-05]], device='cuda:0', grad_fn=<SelectBackward0>)\n"
     ]
    },
    {
     "name": "stderr",
     "output_type": "stream",
     "text": [
      "0.00000002:   3%|▎         | 3/100 [04:29<1:51:18, 68.85s/it]"
     ]
    },
    {
     "name": "stdout",
     "output_type": "stream",
     "text": [
      "tensor([1., 1.], device='cuda:0') tensor([[1.4974e-04, 1.4971e-04, 1.4974e-04, 1.4971e-04, 1.4974e-04, 1.4974e-04,\n",
      "         1.4974e-04, 1.4971e-04, 1.4977e-04, 1.4977e-04, 1.4977e-04, 1.4977e-04,\n",
      "         1.4971e-04, 1.4977e-04, 1.4971e-04, 1.4977e-04, 1.4977e-04, 1.4977e-04,\n",
      "         1.4977e-04, 1.4974e-04, 1.4977e-04, 1.4971e-04, 1.4977e-04, 1.4974e-04,\n",
      "         1.4973e-04, 1.4974e-04, 1.4977e-04, 1.4971e-04, 1.4971e-04, 1.4977e-04,\n",
      "         1.4974e-04, 1.4974e-04, 1.4973e-04, 1.4977e-04, 1.4977e-04, 1.4971e-04,\n",
      "         1.4974e-04, 1.4974e-04, 1.4977e-04, 1.4977e-04, 1.4977e-04, 1.4968e-04,\n",
      "         1.4977e-04, 1.4977e-04, 1.4974e-04, 1.4977e-04, 1.4977e-04, 1.4977e-04,\n",
      "         1.4977e-04, 1.4977e-04],\n",
      "        [7.9185e-05, 7.9185e-05, 7.9185e-05, 7.9185e-05, 7.9140e-05, 7.9140e-05,\n",
      "         7.9185e-05, 7.9140e-05, 7.9185e-05, 7.9185e-05, 7.9185e-05, 7.9185e-05,\n",
      "         7.9200e-05, 7.9185e-05, 7.9185e-05, 7.9185e-05, 7.9185e-05, 7.9185e-05,\n",
      "         7.9185e-05, 7.9185e-05, 7.9185e-05, 7.9185e-05, 7.9185e-05, 7.9185e-05,\n",
      "         7.9170e-05, 7.9185e-05, 7.9185e-05, 7.9185e-05, 7.9200e-05, 7.9185e-05,\n",
      "         7.9185e-05, 7.9155e-05, 7.9155e-05, 7.9185e-05, 7.9185e-05, 7.9200e-05,\n",
      "         7.9200e-05, 7.9185e-05, 7.9185e-05, 7.9185e-05, 7.9140e-05, 7.9170e-05,\n",
      "         7.9185e-05, 7.9185e-05, 7.9185e-05, 7.9185e-05, 7.9185e-05, 7.9185e-05,\n",
      "         7.9185e-05, 7.9185e-05]], device='cuda:0', grad_fn=<SelectBackward0>)\n"
     ]
    },
    {
     "name": "stderr",
     "output_type": "stream",
     "text": [
      "0.00000001:   3%|▎         | 3/100 [04:31<1:51:18, 68.85s/it]"
     ]
    },
    {
     "name": "stdout",
     "output_type": "stream",
     "text": [
      "tensor([1., 1.], device='cuda:0') tensor([[9.5412e-05, 9.5412e-05, 9.5397e-05, 9.5382e-05, 9.5412e-05, 9.5412e-05,\n",
      "         9.5412e-05, 9.5412e-05, 9.5397e-05, 9.5412e-05, 9.5427e-05, 9.5382e-05,\n",
      "         9.5412e-05, 9.5382e-05, 9.5412e-05, 9.5412e-05, 9.5397e-05, 9.5397e-05,\n",
      "         9.5412e-05, 9.5382e-05, 9.5397e-05, 9.5397e-05, 9.5412e-05, 9.5382e-05,\n",
      "         9.5397e-05, 9.5412e-05, 9.5382e-05, 9.5427e-05, 9.5397e-05, 9.5427e-05,\n",
      "         9.5397e-05, 9.5397e-05, 9.5412e-05, 9.5412e-05, 9.5382e-05, 9.5397e-05,\n",
      "         9.5397e-05, 9.5412e-05, 9.5427e-05, 9.5382e-05, 9.5412e-05, 9.5427e-05,\n",
      "         9.5382e-05, 9.5412e-05, 9.5427e-05, 9.5382e-05, 9.5412e-05, 9.5427e-05,\n",
      "         9.5397e-05, 9.5427e-05],\n",
      "        [9.8959e-05, 9.8959e-05, 9.8974e-05, 9.8988e-05, 9.8959e-05, 9.8959e-05,\n",
      "         9.8974e-05, 9.8974e-05, 9.8944e-05, 9.8974e-05, 9.8959e-05, 9.8974e-05,\n",
      "         9.8974e-05, 9.8988e-05, 9.8929e-05, 9.8959e-05, 9.8944e-05, 9.8974e-05,\n",
      "         9.8974e-05, 9.8974e-05, 9.8974e-05, 9.8944e-05, 9.8959e-05, 9.8974e-05,\n",
      "         9.8974e-05, 9.8974e-05, 9.8974e-05, 9.8959e-05, 9.8959e-05, 9.8929e-05,\n",
      "         9.8944e-05, 9.8944e-05, 9.8929e-05, 9.8974e-05, 9.8974e-05, 9.8974e-05,\n",
      "         9.9003e-05, 9.8974e-05, 9.8959e-05, 9.8944e-05, 9.8959e-05, 9.8944e-05,\n",
      "         9.8988e-05, 9.8974e-05, 9.8959e-05, 9.8974e-05, 9.8974e-05, 9.8959e-05,\n",
      "         9.8959e-05, 9.8959e-05]], device='cuda:0', grad_fn=<SelectBackward0>)\n"
     ]
    },
    {
     "name": "stderr",
     "output_type": "stream",
     "text": [
      "0.00000001:   3%|▎         | 3/100 [04:32<1:51:18, 68.85s/it]"
     ]
    },
    {
     "name": "stdout",
     "output_type": "stream",
     "text": [
      "tensor([1., 1.], device='cuda:0') tensor([[9.6112e-05, 9.6127e-05, 9.6098e-05, 9.6127e-05, 9.6142e-05, 9.6112e-05,\n",
      "         9.6127e-05, 9.6112e-05, 9.6112e-05, 9.6112e-05, 9.6142e-05, 9.6112e-05,\n",
      "         9.6112e-05, 9.6142e-05, 9.6142e-05, 9.6127e-05, 9.6127e-05, 9.6127e-05,\n",
      "         9.6127e-05, 9.6127e-05, 9.6127e-05, 9.6142e-05, 9.6127e-05, 9.6112e-05,\n",
      "         9.6142e-05, 9.6127e-05, 9.6142e-05, 9.6112e-05, 9.6112e-05, 9.6127e-05,\n",
      "         9.6142e-05, 9.6142e-05, 9.6127e-05, 9.6142e-05, 9.6112e-05, 9.6112e-05,\n",
      "         9.6127e-05, 9.6127e-05, 9.6127e-05, 9.6127e-05, 9.6112e-05, 9.6112e-05,\n",
      "         9.6142e-05, 9.6112e-05, 9.6112e-05, 9.6142e-05, 9.6112e-05, 9.6127e-05,\n",
      "         9.6112e-05, 9.6112e-05],\n",
      "        [3.4466e-05, 3.4466e-05, 3.4496e-05, 3.4466e-05, 3.4526e-05, 3.4466e-05,\n",
      "         3.4466e-05, 3.4466e-05, 3.4526e-05, 3.4466e-05, 3.4496e-05, 3.4496e-05,\n",
      "         3.4466e-05, 3.4496e-05, 3.4496e-05, 3.4466e-05, 3.4466e-05, 3.4496e-05,\n",
      "         3.4466e-05, 3.4466e-05, 3.4496e-05, 3.4496e-05, 3.4466e-05, 3.4466e-05,\n",
      "         3.4511e-05, 3.4466e-05, 3.4496e-05, 3.4466e-05, 3.4466e-05, 3.4496e-05,\n",
      "         3.4496e-05, 3.4496e-05, 3.4466e-05, 3.4496e-05, 3.4466e-05, 3.4496e-05,\n",
      "         3.4496e-05, 3.4496e-05, 3.4496e-05, 3.4496e-05, 3.4466e-05, 3.4496e-05,\n",
      "         3.4496e-05, 3.4466e-05, 3.4466e-05, 3.4496e-05, 3.4466e-05, 3.4466e-05,\n",
      "         3.4526e-05, 3.4526e-05]], device='cuda:0', grad_fn=<SelectBackward0>)\n"
     ]
    },
    {
     "name": "stderr",
     "output_type": "stream",
     "text": [
      "0.00000001:   3%|▎         | 3/100 [04:34<1:51:18, 68.85s/it]"
     ]
    },
    {
     "name": "stdout",
     "output_type": "stream",
     "text": [
      "tensor([1., 1.], device='cuda:0') tensor([[-3.0532e-05, -3.0532e-05, -3.0532e-05, -3.0532e-05, -3.0562e-05,\n",
      "         -3.0532e-05, -3.0532e-05, -3.0532e-05, -3.0532e-05, -3.0532e-05,\n",
      "         -3.0532e-05, -3.0532e-05, -3.0532e-05, -3.0532e-05, -3.0532e-05,\n",
      "         -3.0532e-05, -3.0532e-05, -3.0532e-05, -3.0532e-05, -3.0532e-05,\n",
      "         -3.0518e-05, -3.0532e-05, -3.0532e-05, -3.0547e-05, -3.0532e-05,\n",
      "         -3.0532e-05, -3.0532e-05, -3.0532e-05, -3.0532e-05, -3.0532e-05,\n",
      "         -3.0532e-05, -3.0532e-05, -3.0532e-05, -3.0532e-05, -3.0562e-05,\n",
      "         -3.0547e-05, -3.0562e-05, -3.0532e-05, -3.0532e-05, -3.0532e-05,\n",
      "         -3.0562e-05, -3.0532e-05, -3.0532e-05, -3.0532e-05, -3.0562e-05,\n",
      "         -3.0532e-05, -3.0532e-05, -3.0532e-05, -3.0532e-05, -3.0532e-05],\n",
      "        [ 8.3074e-05,  8.3074e-05,  8.3059e-05,  8.3074e-05,  8.3059e-05,\n",
      "          8.3074e-05,  8.3074e-05,  8.3029e-05,  8.3074e-05,  8.3074e-05,\n",
      "          8.3029e-05,  8.3044e-05,  8.3074e-05,  8.3059e-05,  8.3074e-05,\n",
      "          8.3074e-05,  8.3074e-05,  8.3074e-05,  8.3074e-05,  8.3074e-05,\n",
      "          8.3044e-05,  8.3074e-05,  8.3074e-05,  8.3044e-05,  8.3074e-05,\n",
      "          8.3074e-05,  8.3074e-05,  8.3059e-05,  8.3074e-05,  8.3074e-05,\n",
      "          8.3074e-05,  8.3029e-05,  8.3074e-05,  8.3074e-05,  8.3059e-05,\n",
      "          8.3029e-05,  8.3059e-05,  8.3074e-05,  8.3074e-05,  8.3074e-05,\n",
      "          8.3059e-05,  8.3074e-05,  8.3029e-05,  8.3074e-05,  8.3059e-05,\n",
      "          8.3059e-05,  8.3074e-05,  8.3074e-05,  8.3074e-05,  8.3074e-05]],\n",
      "       device='cuda:0', grad_fn=<SelectBackward0>)\n"
     ]
    },
    {
     "name": "stderr",
     "output_type": "stream",
     "text": [
      "0.00000000:   4%|▍         | 4/100 [04:35<1:49:28, 68.43s/it]"
     ]
    },
    {
     "name": "stdout",
     "output_type": "stream",
     "text": [
      "tensor([1., 1.], device='cuda:0') tensor([[ 5.9724e-05,  5.9694e-05,  5.9724e-05,  5.9724e-05,  5.9694e-05,\n",
      "          5.9694e-05,  5.9694e-05,  5.9694e-05,  5.9694e-05,  5.9694e-05,\n",
      "          5.9694e-05,  5.9724e-05,  5.9694e-05,  5.9724e-05,  5.9724e-05,\n",
      "          5.9694e-05,  5.9694e-05,  5.9694e-05,  5.9709e-05,  5.9724e-05,\n",
      "          5.9724e-05,  5.9694e-05,  5.9694e-05,  5.9724e-05,  5.9694e-05,\n",
      "          5.9724e-05,  5.9694e-05,  5.9694e-05,  5.9724e-05,  5.9694e-05,\n",
      "          5.9724e-05,  5.9694e-05,  5.9724e-05,  5.9724e-05,  5.9724e-05,\n",
      "          5.9724e-05,  5.9724e-05,  5.9694e-05,  5.9694e-05,  5.9694e-05,\n",
      "          5.9724e-05,  5.9694e-05,  5.9694e-05,  5.9694e-05,  5.9724e-05,\n",
      "          5.9694e-05,  5.9709e-05,  5.9694e-05,  5.9694e-05,  5.9694e-05],\n",
      "        [-8.4087e-05, -8.4087e-05, -8.4087e-05, -8.4087e-05, -8.4132e-05,\n",
      "         -8.4102e-05, -8.4132e-05, -8.4102e-05, -8.4117e-05, -8.4147e-05,\n",
      "         -8.4087e-05, -8.4087e-05, -8.4147e-05, -8.4072e-05, -8.4087e-05,\n",
      "         -8.4087e-05, -8.4117e-05, -8.4117e-05, -8.4087e-05, -8.4087e-05,\n",
      "         -8.4087e-05, -8.4147e-05, -8.4087e-05, -8.4087e-05, -8.4147e-05,\n",
      "         -8.4087e-05, -8.4132e-05, -8.4087e-05, -8.4087e-05, -8.4102e-05,\n",
      "         -8.4087e-05, -8.4132e-05, -8.4087e-05, -8.4087e-05, -8.4087e-05,\n",
      "         -8.4102e-05, -8.4087e-05, -8.4147e-05, -8.4102e-05, -8.4087e-05,\n",
      "         -8.4072e-05, -8.4117e-05, -8.4087e-05, -8.4147e-05, -8.4087e-05,\n",
      "         -8.4132e-05, -8.4102e-05, -8.4132e-05, -8.4087e-05, -8.4132e-05]],\n",
      "       device='cuda:0', grad_fn=<SelectBackward0>)\n"
     ]
    },
    {
     "name": "stderr",
     "output_type": "stream",
     "text": [
      "0.00000001:   4%|▍         | 4/100 [04:36<1:49:28, 68.43s/it]"
     ]
    },
    {
     "name": "stdout",
     "output_type": "stream",
     "text": [
      "tensor([1., 1.], device='cuda:0') tensor([[ 3.0652e-05,  3.0667e-05,  3.0652e-05,  3.0652e-05,  3.0667e-05,\n",
      "          3.0652e-05,  3.0652e-05,  3.0652e-05,  3.0652e-05,  3.0652e-05,\n",
      "          3.0681e-05,  3.0681e-05,  3.0681e-05,  3.0652e-05,  3.0652e-05,\n",
      "          3.0652e-05,  3.0667e-05,  3.0667e-05,  3.0681e-05,  3.0681e-05,\n",
      "          3.0652e-05,  3.0681e-05,  3.0652e-05,  3.0667e-05,  3.0667e-05,\n",
      "          3.0681e-05,  3.0652e-05,  3.0652e-05,  3.0652e-05,  3.0652e-05,\n",
      "          3.0681e-05,  3.0652e-05,  3.0652e-05,  3.0652e-05,  3.0667e-05,\n",
      "          3.0652e-05,  3.0667e-05,  3.0652e-05,  3.0652e-05,  3.0652e-05,\n",
      "          3.0652e-05,  3.0667e-05,  3.0652e-05,  3.0681e-05,  3.0711e-05,\n",
      "          3.0652e-05,  3.0681e-05,  3.0652e-05,  3.0681e-05,  3.0652e-05],\n",
      "        [-1.1733e-04, -1.1733e-04, -1.1733e-04, -1.1733e-04, -1.1732e-04,\n",
      "         -1.1733e-04, -1.1730e-04, -1.1733e-04, -1.1733e-04, -1.1729e-04,\n",
      "         -1.1727e-04, -1.1732e-04, -1.1732e-04, -1.1733e-04, -1.1730e-04,\n",
      "         -1.1733e-04, -1.1733e-04, -1.1732e-04, -1.1732e-04, -1.1732e-04,\n",
      "         -1.1730e-04, -1.1730e-04, -1.1733e-04, -1.1732e-04, -1.1732e-04,\n",
      "         -1.1732e-04, -1.1730e-04, -1.1735e-04, -1.1730e-04, -1.1735e-04,\n",
      "         -1.1727e-04, -1.1730e-04, -1.1730e-04, -1.1733e-04, -1.1732e-04,\n",
      "         -1.1733e-04, -1.1726e-04, -1.1733e-04, -1.1730e-04, -1.1730e-04,\n",
      "         -1.1733e-04, -1.1733e-04, -1.1733e-04, -1.1732e-04, -1.1733e-04,\n",
      "         -1.1733e-04, -1.1727e-04, -1.1732e-04, -1.1729e-04, -1.1732e-04]],\n",
      "       device='cuda:0', grad_fn=<SelectBackward0>)\n"
     ]
    },
    {
     "name": "stderr",
     "output_type": "stream",
     "text": [
      "0.00000001:   4%|▍         | 4/100 [04:38<1:49:28, 68.43s/it]"
     ]
    },
    {
     "name": "stdout",
     "output_type": "stream",
     "text": [
      "tensor([1., 1.], device='cuda:0') tensor([[ 7.5996e-07,  7.5996e-07,  7.5996e-07,  7.5996e-07,  7.5996e-07,\n",
      "          7.5996e-07,  7.5996e-07,  7.4506e-07,  7.5996e-07,  7.4506e-07,\n",
      "          7.5996e-07,  7.7486e-07,  7.7486e-07,  7.7486e-07,  7.7486e-07,\n",
      "          7.5996e-07,  7.5996e-07,  7.5996e-07,  7.4506e-07,  7.7486e-07,\n",
      "          7.7486e-07,  7.5996e-07,  7.5996e-07,  7.5996e-07,  7.5996e-07,\n",
      "          7.7486e-07,  7.5996e-07,  7.7486e-07,  7.7486e-07,  7.5996e-07,\n",
      "          7.5996e-07,  7.4506e-07,  7.7486e-07,  7.5996e-07,  7.5996e-07,\n",
      "          8.0466e-07,  7.5996e-07,  7.5996e-07,  7.5996e-07,  7.7486e-07,\n",
      "          7.5996e-07,  7.5996e-07,  7.5996e-07,  7.5996e-07,  7.5996e-07,\n",
      "          7.5996e-07,  7.7486e-07,  7.7486e-07,  7.5996e-07,  7.5996e-07],\n",
      "        [-1.2578e-04, -1.2578e-04, -1.2578e-04, -1.2578e-04, -1.2574e-04,\n",
      "         -1.2577e-04, -1.2574e-04, -1.2572e-04, -1.2578e-04, -1.2575e-04,\n",
      "         -1.2574e-04, -1.2575e-04, -1.2574e-04, -1.2574e-04, -1.2574e-04,\n",
      "         -1.2578e-04, -1.2578e-04, -1.2571e-04, -1.2572e-04, -1.2575e-04,\n",
      "         -1.2574e-04, -1.2578e-04, -1.2577e-04, -1.2574e-04, -1.2574e-04,\n",
      "         -1.2575e-04, -1.2578e-04, -1.2574e-04, -1.2574e-04, -1.2574e-04,\n",
      "         -1.2574e-04, -1.2572e-04, -1.2574e-04, -1.2578e-04, -1.2577e-04,\n",
      "         -1.2577e-04, -1.2578e-04, -1.2577e-04, -1.2578e-04, -1.2574e-04,\n",
      "         -1.2578e-04, -1.2574e-04, -1.2578e-04, -1.2578e-04, -1.2574e-04,\n",
      "         -1.2578e-04, -1.2575e-04, -1.2571e-04, -1.2574e-04, -1.2578e-04]],\n",
      "       device='cuda:0', grad_fn=<SelectBackward0>)\n"
     ]
    },
    {
     "name": "stderr",
     "output_type": "stream",
     "text": [
      "0.00000001:   4%|▍         | 4/100 [04:39<1:49:28, 68.43s/it]"
     ]
    },
    {
     "name": "stdout",
     "output_type": "stream",
     "text": [
      "tensor([1., 1.], device='cuda:0') tensor([[-1.1000e-04, -1.1000e-04, -1.1000e-04, -1.1000e-04, -1.1000e-04,\n",
      "         -1.0997e-04, -1.1000e-04, -1.1000e-04, -1.1002e-04, -1.1002e-04,\n",
      "         -1.1000e-04, -1.1000e-04, -1.1003e-04, -1.1000e-04, -1.1000e-04,\n",
      "         -1.1000e-04, -1.1000e-04, -1.1000e-04, -1.1000e-04, -1.1000e-04,\n",
      "         -1.0997e-04, -1.1000e-04, -1.1000e-04, -1.1000e-04, -1.1000e-04,\n",
      "         -1.1003e-04, -1.1000e-04, -1.1000e-04, -1.0997e-04, -1.1000e-04,\n",
      "         -1.1002e-04, -1.1000e-04, -1.1000e-04, -1.1002e-04, -1.1000e-04,\n",
      "         -1.1000e-04, -1.1000e-04, -1.1000e-04, -1.1000e-04, -1.1000e-04,\n",
      "         -1.1000e-04, -1.1002e-04, -1.1000e-04, -1.0999e-04, -1.1000e-04,\n",
      "         -1.1000e-04, -1.1000e-04, -1.1002e-04, -1.1000e-04, -1.1000e-04],\n",
      "        [-2.5615e-05, -2.5600e-05, -2.5600e-05, -2.5615e-05, -2.5615e-05,\n",
      "         -2.5600e-05, -2.5615e-05, -2.5615e-05, -2.5570e-05, -2.5600e-05,\n",
      "         -2.5615e-05, -2.5615e-05, -2.5600e-05, -2.5615e-05, -2.5600e-05,\n",
      "         -2.5600e-05, -2.5600e-05, -2.5600e-05, -2.5615e-05, -2.5600e-05,\n",
      "         -2.5600e-05, -2.5615e-05, -2.5615e-05, -2.5615e-05, -2.5600e-05,\n",
      "         -2.5600e-05, -2.5615e-05, -2.5615e-05, -2.5585e-05, -2.5600e-05,\n",
      "         -2.5585e-05, -2.5600e-05, -2.5600e-05, -2.5600e-05, -2.5585e-05,\n",
      "         -2.5600e-05, -2.5600e-05, -2.5615e-05, -2.5600e-05, -2.5600e-05,\n",
      "         -2.5615e-05, -2.5585e-05, -2.5615e-05, -2.5615e-05, -2.5615e-05,\n",
      "         -2.5600e-05, -2.5600e-05, -2.5585e-05, -2.5615e-05, -2.5615e-05]],\n",
      "       device='cuda:0', grad_fn=<SelectBackward0>)\n"
     ]
    },
    {
     "name": "stderr",
     "output_type": "stream",
     "text": [
      "0.00000001:   4%|▍         | 4/100 [04:40<1:49:28, 68.43s/it]"
     ]
    },
    {
     "name": "stdout",
     "output_type": "stream",
     "text": [
      "tensor([1., 1.], device='cuda:0') tensor([[-4.5121e-05, -4.5076e-05, -4.5091e-05, -4.5076e-05, -4.5076e-05,\n",
      "         -4.5121e-05, -4.5121e-05, -4.5076e-05, -4.5091e-05, -4.5121e-05,\n",
      "         -4.5061e-05, -4.5091e-05, -4.5121e-05, -4.5136e-05, -4.5061e-05,\n",
      "         -4.5091e-05, -4.5076e-05, -4.5091e-05, -4.5091e-05, -4.5121e-05,\n",
      "         -4.5091e-05, -4.5076e-05, -4.5091e-05, -4.5076e-05, -4.5076e-05,\n",
      "         -4.5121e-05, -4.5091e-05, -4.5076e-05, -4.5121e-05, -4.5076e-05,\n",
      "         -4.5076e-05, -4.5076e-05, -4.5076e-05, -4.5061e-05, -4.5091e-05,\n",
      "         -4.5091e-05, -4.5076e-05, -4.5091e-05, -4.5076e-05, -4.5121e-05,\n",
      "         -4.5076e-05, -4.5076e-05, -4.5121e-05, -4.5091e-05, -4.5076e-05,\n",
      "         -4.5121e-05, -4.5091e-05, -4.5076e-05, -4.5091e-05, -4.5076e-05],\n",
      "        [-7.5191e-05, -7.5221e-05, -7.5206e-05, -7.5221e-05, -7.5221e-05,\n",
      "         -7.5221e-05, -7.5191e-05, -7.5176e-05, -7.5236e-05, -7.5221e-05,\n",
      "         -7.5221e-05, -7.5221e-05, -7.5191e-05, -7.5206e-05, -7.5191e-05,\n",
      "         -7.5221e-05, -7.5221e-05, -7.5221e-05, -7.5221e-05, -7.5191e-05,\n",
      "         -7.5221e-05, -7.5221e-05, -7.5221e-05, -7.5221e-05, -7.5221e-05,\n",
      "         -7.5191e-05, -7.5206e-05, -7.5221e-05, -7.5191e-05, -7.5221e-05,\n",
      "         -7.5221e-05, -7.5221e-05, -7.5176e-05, -7.5191e-05, -7.5221e-05,\n",
      "         -7.5236e-05, -7.5251e-05, -7.5191e-05, -7.5221e-05, -7.5191e-05,\n",
      "         -7.5221e-05, -7.5221e-05, -7.5191e-05, -7.5191e-05, -7.5221e-05,\n",
      "         -7.5221e-05, -7.5221e-05, -7.5221e-05, -7.5191e-05, -7.5221e-05]],\n",
      "       device='cuda:0', grad_fn=<SelectBackward0>)\n"
     ]
    },
    {
     "name": "stderr",
     "output_type": "stream",
     "text": [
      "0.00000000:   4%|▍         | 4/100 [04:42<1:49:28, 68.43s/it]"
     ]
    },
    {
     "name": "stdout",
     "output_type": "stream",
     "text": [
      "tensor([1., 1.], device='cuda:0') tensor([[-2.9534e-05, -2.9519e-05, -2.9564e-05, -2.9519e-05, -2.9519e-05,\n",
      "         -2.9549e-05, -2.9534e-05, -2.9519e-05, -2.9534e-05, -2.9534e-05,\n",
      "         -2.9519e-05, -2.9519e-05, -2.9564e-05, -2.9534e-05, -2.9519e-05,\n",
      "         -2.9519e-05, -2.9534e-05, -2.9519e-05, -2.9534e-05, -2.9534e-05,\n",
      "         -2.9519e-05, -2.9519e-05, -2.9519e-05, -2.9549e-05, -2.9519e-05,\n",
      "         -2.9504e-05, -2.9504e-05, -2.9534e-05, -2.9534e-05, -2.9504e-05,\n",
      "         -2.9519e-05, -2.9534e-05, -2.9534e-05, -2.9519e-05, -2.9549e-05,\n",
      "         -2.9534e-05, -2.9519e-05, -2.9519e-05, -2.9534e-05, -2.9549e-05,\n",
      "         -2.9534e-05, -2.9534e-05, -2.9504e-05, -2.9519e-05, -2.9534e-05,\n",
      "         -2.9534e-05, -2.9534e-05, -2.9534e-05, -2.9549e-05, -2.9534e-05],\n",
      "        [-5.5850e-05, -5.5805e-05, -5.5775e-05, -5.5820e-05, -5.5850e-05,\n",
      "         -5.5775e-05, -5.5805e-05, -5.5805e-05, -5.5850e-05, -5.5850e-05,\n",
      "         -5.5805e-05, -5.5850e-05, -5.5775e-05, -5.5850e-05, -5.5805e-05,\n",
      "         -5.5850e-05, -5.5850e-05, -5.5835e-05, -5.5850e-05, -5.5805e-05,\n",
      "         -5.5820e-05, -5.5805e-05, -5.5850e-05, -5.5775e-05, -5.5850e-05,\n",
      "         -5.5805e-05, -5.5775e-05, -5.5805e-05, -5.5850e-05, -5.5820e-05,\n",
      "         -5.5805e-05, -5.5850e-05, -5.5835e-05, -5.5820e-05, -5.5805e-05,\n",
      "         -5.5850e-05, -5.5805e-05, -5.5805e-05, -5.5850e-05, -5.5790e-05,\n",
      "         -5.5850e-05, -5.5850e-05, -5.5850e-05, -5.5850e-05, -5.5850e-05,\n",
      "         -5.5835e-05, -5.5835e-05, -5.5850e-05, -5.5805e-05, -5.5850e-05]],\n",
      "       device='cuda:0', grad_fn=<SelectBackward0>)\n"
     ]
    },
    {
     "name": "stderr",
     "output_type": "stream",
     "text": [
      "0.00000000:   4%|▍         | 4/100 [04:43<1:49:28, 68.43s/it]"
     ]
    },
    {
     "name": "stdout",
     "output_type": "stream",
     "text": [
      "tensor([1., 1.], device='cuda:0') tensor([[-5.7295e-05, -5.7295e-05, -5.7295e-05, -5.7265e-05, -5.7265e-05,\n",
      "         -5.7295e-05, -5.7295e-05, -5.7310e-05, -5.7295e-05, -5.7295e-05,\n",
      "         -5.7280e-05, -5.7295e-05, -5.7295e-05, -5.7310e-05, -5.7295e-05,\n",
      "         -5.7265e-05, -5.7295e-05, -5.7265e-05, -5.7295e-05, -5.7295e-05,\n",
      "         -5.7295e-05, -5.7295e-05, -5.7295e-05, -5.7295e-05, -5.7295e-05,\n",
      "         -5.7280e-05, -5.7280e-05, -5.7295e-05, -5.7295e-05, -5.7295e-05,\n",
      "         -5.7295e-05, -5.7295e-05, -5.7280e-05, -5.7295e-05, -5.7340e-05,\n",
      "         -5.7295e-05, -5.7265e-05, -5.7295e-05, -5.7295e-05, -5.7295e-05,\n",
      "         -5.7295e-05, -5.7250e-05, -5.7295e-05, -5.7295e-05, -5.7295e-05,\n",
      "         -5.7295e-05, -5.7295e-05, -5.7280e-05, -5.7295e-05, -5.7295e-05],\n",
      "        [ 1.7539e-05,  1.7568e-05,  1.7539e-05,  1.7509e-05,  1.7568e-05,\n",
      "          1.7568e-05,  1.7554e-05,  1.7568e-05,  1.7568e-05,  1.7568e-05,\n",
      "          1.7539e-05,  1.7568e-05,  1.7568e-05,  1.7539e-05,  1.7539e-05,\n",
      "          1.7539e-05,  1.7539e-05,  1.7539e-05,  1.7568e-05,  1.7568e-05,\n",
      "          1.7554e-05,  1.7539e-05,  1.7568e-05,  1.7568e-05,  1.7568e-05,\n",
      "          1.7539e-05,  1.7554e-05,  1.7568e-05,  1.7554e-05,  1.7539e-05,\n",
      "          1.7568e-05,  1.7568e-05,  1.7539e-05,  1.7568e-05,  1.7539e-05,\n",
      "          1.7554e-05,  1.7539e-05,  1.7568e-05,  1.7568e-05,  1.7568e-05,\n",
      "          1.7568e-05,  1.7568e-05,  1.7539e-05,  1.7568e-05,  1.7568e-05,\n",
      "          1.7568e-05,  1.7568e-05,  1.7539e-05,  1.7568e-05,  1.7568e-05]],\n",
      "       device='cuda:0', grad_fn=<SelectBackward0>)\n"
     ]
    },
    {
     "name": "stderr",
     "output_type": "stream",
     "text": [
      "0.00000000:   4%|▍         | 4/100 [04:44<1:49:28, 68.43s/it]"
     ]
    },
    {
     "name": "stdout",
     "output_type": "stream",
     "text": [
      "tensor([1., 1.], device='cuda:0') tensor([[-5.0530e-05, -5.0530e-05, -5.0530e-05, -5.0560e-05, -5.0530e-05,\n",
      "         -5.0530e-05, -5.0515e-05, -5.0560e-05, -5.0560e-05, -5.0530e-05,\n",
      "         -5.0530e-05, -5.0560e-05, -5.0515e-05, -5.0545e-05, -5.0560e-05,\n",
      "         -5.0530e-05, -5.0560e-05, -5.0530e-05, -5.0560e-05, -5.0560e-05,\n",
      "         -5.0515e-05, -5.0560e-05, -5.0560e-05, -5.0530e-05, -5.0545e-05,\n",
      "         -5.0530e-05, -5.0530e-05, -5.0515e-05, -5.0560e-05, -5.0530e-05,\n",
      "         -5.0530e-05, -5.0560e-05, -5.0560e-05, -5.0500e-05, -5.0530e-05,\n",
      "         -5.0530e-05, -5.0530e-05, -5.0545e-05, -5.0560e-05, -5.0545e-05,\n",
      "         -5.0530e-05, -5.0530e-05, -5.0500e-05, -5.0560e-05, -5.0530e-05,\n",
      "         -5.0500e-05, -5.0515e-05, -5.0560e-05, -5.0560e-05, -5.0560e-05],\n",
      "        [ 5.7057e-05,  5.7027e-05,  5.7071e-05,  5.7057e-05,  5.7057e-05,\n",
      "          5.7057e-05,  5.7057e-05,  5.7057e-05,  5.7057e-05,  5.7086e-05,\n",
      "          5.7057e-05,  5.7057e-05,  5.7057e-05,  5.7057e-05,  5.7057e-05,\n",
      "          5.7057e-05,  5.7086e-05,  5.7071e-05,  5.7057e-05,  5.7057e-05,\n",
      "          5.7042e-05,  5.7057e-05,  5.7057e-05,  5.7057e-05,  5.7027e-05,\n",
      "          5.7057e-05,  5.7101e-05,  5.7042e-05,  5.7057e-05,  5.7042e-05,\n",
      "          5.7071e-05,  5.7057e-05,  5.7057e-05,  5.7042e-05,  5.7057e-05,\n",
      "          5.7057e-05,  5.7057e-05,  5.7086e-05,  5.7057e-05,  5.7027e-05,\n",
      "          5.7057e-05,  5.7057e-05,  5.7042e-05,  5.7057e-05,  5.7057e-05,\n",
      "          5.7042e-05,  5.7057e-05,  5.7057e-05,  5.7057e-05,  5.7086e-05]],\n",
      "       device='cuda:0', grad_fn=<SelectBackward0>)\n"
     ]
    },
    {
     "name": "stderr",
     "output_type": "stream",
     "text": [
      "0.00000000:   4%|▍         | 4/100 [04:46<1:49:28, 68.43s/it]"
     ]
    },
    {
     "name": "stdout",
     "output_type": "stream",
     "text": [
      "tensor([1., 1.], device='cuda:0') tensor([[-3.7462e-05, -3.7462e-05, -3.7462e-05, -3.7447e-05, -3.7462e-05,\n",
      "         -3.7462e-05, -3.7462e-05, -3.7462e-05, -3.7447e-05, -3.7447e-05,\n",
      "         -3.7462e-05, -3.7462e-05, -3.7462e-05, -3.7462e-05, -3.7462e-05,\n",
      "         -3.7462e-05, -3.7462e-05, -3.7462e-05, -3.7432e-05, -3.7447e-05,\n",
      "         -3.7462e-05, -3.7447e-05, -3.7432e-05, -3.7447e-05, -3.7447e-05,\n",
      "         -3.7462e-05, -3.7432e-05, -3.7462e-05, -3.7462e-05, -3.7462e-05,\n",
      "         -3.7462e-05, -3.7447e-05, -3.7462e-05, -3.7432e-05, -3.7462e-05,\n",
      "         -3.7462e-05, -3.7462e-05, -3.7447e-05, -3.7462e-05, -3.7462e-05,\n",
      "         -3.7432e-05, -3.7462e-05, -3.7447e-05, -3.7462e-05, -3.7447e-05,\n",
      "         -3.7462e-05, -3.7462e-05, -3.7462e-05, -3.7462e-05, -3.7432e-05],\n",
      "        [ 8.2284e-05,  8.2284e-05,  8.2284e-05,  8.2314e-05,  8.2284e-05,\n",
      "          8.2284e-05,  8.2284e-05,  8.2284e-05,  8.2329e-05,  8.2314e-05,\n",
      "          8.2284e-05,  8.2284e-05,  8.2284e-05,  8.2284e-05,  8.2284e-05,\n",
      "          8.2284e-05,  8.2314e-05,  8.2284e-05,  8.2314e-05,  8.2314e-05,\n",
      "          8.2284e-05,  8.2314e-05,  8.2284e-05,  8.2329e-05,  8.2314e-05,\n",
      "          8.2284e-05,  8.2314e-05,  8.2284e-05,  8.2284e-05,  8.2284e-05,\n",
      "          8.2284e-05,  8.2314e-05,  8.2284e-05,  8.2314e-05,  8.2284e-05,\n",
      "          8.2284e-05,  8.2284e-05,  8.2314e-05,  8.2284e-05,  8.2284e-05,\n",
      "          8.2314e-05,  8.2284e-05,  8.2314e-05,  8.2284e-05,  8.2314e-05,\n",
      "          8.2284e-05,  8.2284e-05,  8.2284e-05,  8.2284e-05,  8.2284e-05]],\n",
      "       device='cuda:0', grad_fn=<SelectBackward0>)\n"
     ]
    },
    {
     "name": "stderr",
     "output_type": "stream",
     "text": [
      "0.00000000:   4%|▍         | 4/100 [04:47<1:49:28, 68.43s/it]"
     ]
    },
    {
     "name": "stdout",
     "output_type": "stream",
     "text": [
      "tensor([1., 1.], device='cuda:0') tensor([[-2.0698e-05, -2.0698e-05, -2.0683e-05, -2.0683e-05, -2.0698e-05,\n",
      "         -2.0668e-05, -2.0698e-05, -2.0698e-05, -2.0698e-05, -2.0713e-05,\n",
      "         -2.0683e-05, -2.0683e-05, -2.0683e-05, -2.0698e-05, -2.0683e-05,\n",
      "         -2.0698e-05, -2.0698e-05, -2.0683e-05, -2.0728e-05, -2.0698e-05,\n",
      "         -2.0698e-05, -2.0683e-05, -2.0698e-05, -2.0698e-05, -2.0668e-05,\n",
      "         -2.0698e-05, -2.0698e-05, -2.0683e-05, -2.0698e-05, -2.0698e-05,\n",
      "         -2.0668e-05, -2.0683e-05, -2.0698e-05, -2.0668e-05, -2.0683e-05,\n",
      "         -2.0698e-05, -2.0683e-05, -2.0683e-05, -2.0683e-05, -2.0713e-05,\n",
      "         -2.0698e-05, -2.0698e-05, -2.0698e-05, -2.0698e-05, -2.0698e-05,\n",
      "         -2.0698e-05, -2.0728e-05, -2.0653e-05, -2.0698e-05, -2.0683e-05],\n",
      "        [ 8.9809e-05,  8.9809e-05,  8.9824e-05,  8.9839e-05,  8.9809e-05,\n",
      "          8.9809e-05,  8.9839e-05,  8.9809e-05,  8.9809e-05,  8.9824e-05,\n",
      "          8.9824e-05,  8.9839e-05,  8.9839e-05,  8.9809e-05,  8.9824e-05,\n",
      "          8.9809e-05,  8.9809e-05,  8.9824e-05,  8.9839e-05,  8.9809e-05,\n",
      "          8.9809e-05,  8.9824e-05,  8.9839e-05,  8.9809e-05,  8.9809e-05,\n",
      "          8.9824e-05,  8.9809e-05,  8.9839e-05,  8.9809e-05,  8.9809e-05,\n",
      "          8.9809e-05,  8.9839e-05,  8.9809e-05,  8.9839e-05,  8.9824e-05,\n",
      "          8.9809e-05,  8.9839e-05,  8.9839e-05,  8.9839e-05,  8.9824e-05,\n",
      "          8.9809e-05,  8.9809e-05,  8.9809e-05,  8.9809e-05,  8.9809e-05,\n",
      "          8.9809e-05,  8.9839e-05,  8.9794e-05,  8.9809e-05,  8.9839e-05]],\n",
      "       device='cuda:0', grad_fn=<SelectBackward0>)\n"
     ]
    },
    {
     "name": "stderr",
     "output_type": "stream",
     "text": [
      "0.00000000:   4%|▍         | 4/100 [04:48<1:49:28, 68.43s/it]"
     ]
    },
    {
     "name": "stdout",
     "output_type": "stream",
     "text": [
      "tensor([1., 1.], device='cuda:0') tensor([[-3.0696e-06, -3.0696e-06, -3.1441e-06, -3.0696e-06, -3.0994e-06,\n",
      "         -3.0696e-06, -3.1143e-06, -3.0696e-06, -3.0845e-06, -3.0696e-06,\n",
      "         -3.0845e-06, -3.0845e-06, -3.0696e-06, -3.0845e-06, -3.0696e-06,\n",
      "         -3.1292e-06, -3.0696e-06, -3.0994e-06, -3.0994e-06, -3.1143e-06,\n",
      "         -3.0696e-06, -3.1143e-06, -3.0994e-06, -3.0994e-06, -3.0696e-06,\n",
      "         -3.0696e-06, -3.0696e-06, -3.1292e-06, -3.0696e-06, -3.1143e-06,\n",
      "         -3.0994e-06, -3.0994e-06, -3.1292e-06, -3.0845e-06, -3.1292e-06,\n",
      "         -3.1292e-06, -3.0845e-06, -3.0696e-06, -3.0696e-06, -3.0994e-06,\n",
      "         -3.0696e-06, -3.0845e-06, -3.0696e-06, -3.0696e-06, -3.0994e-06,\n",
      "         -3.1441e-06, -3.0696e-06, -3.0845e-06, -3.0994e-06, -3.0845e-06],\n",
      "        [ 7.9721e-05,  7.9721e-05,  7.9706e-05,  7.9662e-05,  7.9721e-05,\n",
      "          7.9662e-05,  7.9662e-05,  7.9721e-05,  7.9662e-05,  7.9706e-05,\n",
      "          7.9721e-05,  7.9662e-05,  7.9721e-05,  7.9662e-05,  7.9706e-05,\n",
      "          7.9706e-05,  7.9721e-05,  7.9691e-05,  7.9706e-05,  7.9691e-05,\n",
      "          7.9691e-05,  7.9706e-05,  7.9677e-05,  7.9721e-05,  7.9706e-05,\n",
      "          7.9677e-05,  7.9662e-05,  7.9706e-05,  7.9721e-05,  7.9706e-05,\n",
      "          7.9721e-05,  7.9721e-05,  7.9706e-05,  7.9662e-05,  7.9691e-05,\n",
      "          7.9706e-05,  7.9721e-05,  7.9662e-05,  7.9677e-05,  7.9706e-05,\n",
      "          7.9677e-05,  7.9677e-05,  7.9721e-05,  7.9662e-05,  7.9721e-05,\n",
      "          7.9706e-05,  7.9662e-05,  7.9662e-05,  7.9662e-05,  7.9691e-05]],\n",
      "       device='cuda:0', grad_fn=<SelectBackward0>)\n"
     ]
    },
    {
     "name": "stderr",
     "output_type": "stream",
     "text": [
      "0.00000000:   4%|▍         | 4/100 [04:50<1:49:28, 68.43s/it]"
     ]
    },
    {
     "name": "stdout",
     "output_type": "stream",
     "text": [
      "tensor([1., 1.], device='cuda:0') tensor([[1.2740e-05, 1.2770e-05, 1.2815e-05, 1.2726e-05, 1.2755e-05, 1.2770e-05,\n",
      "         1.2740e-05, 1.2740e-05, 1.2755e-05, 1.2755e-05, 1.2785e-05, 1.2711e-05,\n",
      "         1.2740e-05, 1.2815e-05, 1.2785e-05, 1.2770e-05, 1.2755e-05, 1.2770e-05,\n",
      "         1.2770e-05, 1.2711e-05, 1.2800e-05, 1.2726e-05, 1.2755e-05, 1.2755e-05,\n",
      "         1.2755e-05, 1.2785e-05, 1.2755e-05, 1.2755e-05, 1.2726e-05, 1.2755e-05,\n",
      "         1.2770e-05, 1.2740e-05, 1.2726e-05, 1.2800e-05, 1.2770e-05, 1.2740e-05,\n",
      "         1.2755e-05, 1.2785e-05, 1.2726e-05, 1.2770e-05, 1.2740e-05, 1.2755e-05,\n",
      "         1.2755e-05, 1.2726e-05, 1.2726e-05, 1.2785e-05, 1.2755e-05, 1.2755e-05,\n",
      "         1.2785e-05, 1.2755e-05],\n",
      "        [5.5492e-05, 5.5432e-05, 5.5492e-05, 5.5477e-05, 5.5477e-05, 5.5507e-05,\n",
      "         5.5492e-05, 5.5492e-05, 5.5492e-05, 5.5403e-05, 5.5492e-05, 5.5477e-05,\n",
      "         5.5477e-05, 5.5462e-05, 5.5432e-05, 5.5492e-05, 5.5477e-05, 5.5492e-05,\n",
      "         5.5477e-05, 5.5492e-05, 5.5492e-05, 5.5522e-05, 5.5492e-05, 5.5492e-05,\n",
      "         5.5477e-05, 5.5492e-05, 5.5492e-05, 5.5462e-05, 5.5462e-05, 5.5522e-05,\n",
      "         5.5492e-05, 5.5462e-05, 5.5477e-05, 5.5462e-05, 5.5462e-05, 5.5492e-05,\n",
      "         5.5492e-05, 5.5477e-05, 5.5492e-05, 5.5477e-05, 5.5462e-05, 5.5522e-05,\n",
      "         5.5477e-05, 5.5462e-05, 5.5432e-05, 5.5492e-05, 5.5537e-05, 5.5462e-05,\n",
      "         5.5492e-05, 5.5447e-05]], device='cuda:0', grad_fn=<SelectBackward0>)\n"
     ]
    },
    {
     "name": "stderr",
     "output_type": "stream",
     "text": [
      "0.00000000:   4%|▍         | 4/100 [04:51<1:49:28, 68.43s/it]"
     ]
    },
    {
     "name": "stdout",
     "output_type": "stream",
     "text": [
      "tensor([1., 1.], device='cuda:0') tensor([[2.2963e-05, 2.3007e-05, 2.3007e-05, 2.2992e-05, 2.2992e-05, 2.2963e-05,\n",
      "         2.2992e-05, 2.2992e-05, 2.2963e-05, 2.3022e-05, 2.2992e-05, 2.2963e-05,\n",
      "         2.2963e-05, 2.2963e-05, 2.2992e-05, 2.2963e-05, 2.3022e-05, 2.2963e-05,\n",
      "         2.2992e-05, 2.2963e-05, 2.2992e-05, 2.2963e-05, 2.3022e-05, 2.2992e-05,\n",
      "         2.2992e-05, 2.2992e-05, 2.2992e-05, 2.3022e-05, 2.2963e-05, 2.3022e-05,\n",
      "         2.2992e-05, 2.2992e-05, 2.2992e-05, 2.2963e-05, 2.2992e-05, 2.2978e-05,\n",
      "         2.3022e-05, 2.2978e-05, 2.3022e-05, 2.2963e-05, 2.3022e-05, 2.3022e-05,\n",
      "         2.2963e-05, 2.2992e-05, 2.3022e-05, 2.2963e-05, 2.2992e-05, 2.3022e-05,\n",
      "         2.3022e-05, 2.2963e-05],\n",
      "        [2.4930e-05, 2.4930e-05, 2.4930e-05, 2.4930e-05, 2.4900e-05, 2.4930e-05,\n",
      "         2.4930e-05, 2.4900e-05, 2.4930e-05, 2.4900e-05, 2.4900e-05, 2.4900e-05,\n",
      "         2.4930e-05, 2.4930e-05, 2.4930e-05, 2.4930e-05, 2.4930e-05, 2.4930e-05,\n",
      "         2.4930e-05, 2.4900e-05, 2.4900e-05, 2.4930e-05, 2.4930e-05, 2.4930e-05,\n",
      "         2.4900e-05, 2.4930e-05, 2.4900e-05, 2.4930e-05, 2.4900e-05, 2.4930e-05,\n",
      "         2.4900e-05, 2.4930e-05, 2.4930e-05, 2.4930e-05, 2.4930e-05, 2.4930e-05,\n",
      "         2.4930e-05, 2.4930e-05, 2.4930e-05, 2.4930e-05, 2.4930e-05, 2.4930e-05,\n",
      "         2.4930e-05, 2.4900e-05, 2.4930e-05, 2.4930e-05, 2.4900e-05, 2.4930e-05,\n",
      "         2.4930e-05, 2.4900e-05]], device='cuda:0', grad_fn=<SelectBackward0>)\n"
     ]
    },
    {
     "name": "stderr",
     "output_type": "stream",
     "text": [
      "0.00000000:   4%|▍         | 4/100 [04:52<1:49:28, 68.43s/it]"
     ]
    },
    {
     "name": "stdout",
     "output_type": "stream",
     "text": [
      "tensor([1., 1.], device='cuda:0') tensor([[ 3.2052e-05,  3.2037e-05,  3.2052e-05,  3.2052e-05,  3.2067e-05,\n",
      "          3.2052e-05,  3.2067e-05,  3.2052e-05,  3.2052e-05,  3.2052e-05,\n",
      "          3.2052e-05,  3.2052e-05,  3.2023e-05,  3.2067e-05,  3.2052e-05,\n",
      "          3.2052e-05,  3.2067e-05,  3.2052e-05,  3.2082e-05,  3.2052e-05,\n",
      "          3.2052e-05,  3.2052e-05,  3.2052e-05,  3.2052e-05,  3.2052e-05,\n",
      "          3.2067e-05,  3.2052e-05,  3.2067e-05,  3.2037e-05,  3.2052e-05,\n",
      "          3.2067e-05,  3.2052e-05,  3.2067e-05,  3.2052e-05,  3.2052e-05,\n",
      "          3.2052e-05,  3.2052e-05,  3.2052e-05,  3.2052e-05,  3.2052e-05,\n",
      "          3.2037e-05,  3.2052e-05,  3.2067e-05,  3.2052e-05,  3.2067e-05,\n",
      "          3.2052e-05,  3.2067e-05,  3.2067e-05,  3.2067e-05,  3.2052e-05],\n",
      "        [-1.0818e-05, -1.0788e-05, -1.0788e-05, -1.0833e-05, -1.0818e-05,\n",
      "         -1.0788e-05, -1.0788e-05, -1.0788e-05, -1.0788e-05, -1.0788e-05,\n",
      "         -1.0788e-05, -1.0818e-05, -1.0803e-05, -1.0788e-05, -1.0788e-05,\n",
      "         -1.0788e-05, -1.0818e-05, -1.0788e-05, -1.0774e-05, -1.0818e-05,\n",
      "         -1.0818e-05, -1.0788e-05, -1.0848e-05, -1.0788e-05, -1.0788e-05,\n",
      "         -1.0788e-05, -1.0788e-05, -1.0788e-05, -1.0774e-05, -1.0788e-05,\n",
      "         -1.0788e-05, -1.0788e-05, -1.0788e-05, -1.0788e-05, -1.0788e-05,\n",
      "         -1.0788e-05, -1.0788e-05, -1.0788e-05, -1.0848e-05, -1.0759e-05,\n",
      "         -1.0788e-05, -1.0788e-05, -1.0818e-05, -1.0833e-05, -1.0818e-05,\n",
      "         -1.0788e-05, -1.0818e-05, -1.0818e-05, -1.0803e-05, -1.0818e-05]],\n",
      "       device='cuda:0', grad_fn=<SelectBackward0>)\n"
     ]
    },
    {
     "name": "stderr",
     "output_type": "stream",
     "text": [
      "0.00000000:   4%|▍         | 4/100 [04:54<1:49:28, 68.43s/it]"
     ]
    },
    {
     "name": "stdout",
     "output_type": "stream",
     "text": [
      "tensor([1., 1.], device='cuda:0') tensor([[ 3.3900e-05,  3.3900e-05,  3.3915e-05,  3.3915e-05,  3.3885e-05,\n",
      "          3.3915e-05,  3.3900e-05,  3.3900e-05,  3.3885e-05,  3.3900e-05,\n",
      "          3.3915e-05,  3.3900e-05,  3.3885e-05,  3.3900e-05,  3.3915e-05,\n",
      "          3.3915e-05,  3.3900e-05,  3.3885e-05,  3.3885e-05,  3.3915e-05,\n",
      "          3.3885e-05,  3.3885e-05,  3.3900e-05,  3.3900e-05,  3.3900e-05,\n",
      "          3.3900e-05,  3.3885e-05,  3.3915e-05,  3.3915e-05,  3.3885e-05,\n",
      "          3.3885e-05,  3.3900e-05,  3.3900e-05,  3.3885e-05,  3.3885e-05,\n",
      "          3.3915e-05,  3.3915e-05,  3.3885e-05,  3.3900e-05,  3.3885e-05,\n",
      "          3.3915e-05,  3.3915e-05,  3.3885e-05,  3.3900e-05,  3.3885e-05,\n",
      "          3.3900e-05,  3.3915e-05,  3.3900e-05,  3.3900e-05,  3.3885e-05],\n",
      "        [-3.9443e-05, -3.9399e-05, -3.9458e-05, -3.9488e-05, -3.9443e-05,\n",
      "         -3.9488e-05, -3.9414e-05, -3.9399e-05, -3.9458e-05, -3.9414e-05,\n",
      "         -3.9488e-05, -3.9399e-05, -3.9458e-05, -3.9399e-05, -3.9443e-05,\n",
      "         -3.9443e-05, -3.9414e-05, -3.9443e-05, -3.9458e-05, -3.9473e-05,\n",
      "         -3.9458e-05, -3.9458e-05, -3.9399e-05, -3.9428e-05, -3.9414e-05,\n",
      "         -3.9443e-05, -3.9458e-05, -3.9488e-05, -3.9488e-05, -3.9443e-05,\n",
      "         -3.9458e-05, -3.9458e-05, -3.9428e-05, -3.9443e-05, -3.9443e-05,\n",
      "         -3.9428e-05, -3.9458e-05, -3.9443e-05, -3.9414e-05, -3.9488e-05,\n",
      "         -3.9488e-05, -3.9458e-05, -3.9443e-05, -3.9414e-05, -3.9458e-05,\n",
      "         -3.9399e-05, -3.9473e-05, -3.9414e-05, -3.9399e-05, -3.9458e-05]],\n",
      "       device='cuda:0', grad_fn=<SelectBackward0>)\n"
     ]
    },
    {
     "name": "stderr",
     "output_type": "stream",
     "text": [
      "0.00000000:   4%|▍         | 4/100 [04:55<1:49:28, 68.43s/it]"
     ]
    },
    {
     "name": "stdout",
     "output_type": "stream",
     "text": [
      "tensor([1., 1.], device='cuda:0') tensor([[ 3.0771e-05,  3.0816e-05,  3.0786e-05,  3.0771e-05,  3.0801e-05,\n",
      "          3.0801e-05,  3.0801e-05,  3.0786e-05,  3.0786e-05,  3.0816e-05,\n",
      "          3.0771e-05,  3.0801e-05,  3.0801e-05,  3.0786e-05,  3.0801e-05,\n",
      "          3.0801e-05,  3.0786e-05,  3.0786e-05,  3.0756e-05,  3.0786e-05,\n",
      "          3.0816e-05,  3.0786e-05,  3.0786e-05,  3.0801e-05,  3.0801e-05,\n",
      "          3.0786e-05,  3.0786e-05,  3.0771e-05,  3.0801e-05,  3.0801e-05,\n",
      "          3.0801e-05,  3.0801e-05,  3.0786e-05,  3.0786e-05,  3.0801e-05,\n",
      "          3.0771e-05,  3.0771e-05,  3.0756e-05,  3.0801e-05,  3.0786e-05,\n",
      "          3.0756e-05,  3.0771e-05,  3.0801e-05,  3.0786e-05,  3.0801e-05,\n",
      "          3.0786e-05,  3.0786e-05,  3.0771e-05,  3.0816e-05,  3.0801e-05],\n",
      "        [-5.7936e-05, -5.7876e-05, -5.7951e-05, -5.7891e-05, -5.7980e-05,\n",
      "         -5.7936e-05, -5.7936e-05, -5.7876e-05, -5.7936e-05, -5.7951e-05,\n",
      "         -5.7921e-05, -5.7906e-05, -5.7951e-05, -5.7891e-05, -5.7980e-05,\n",
      "         -5.7951e-05, -5.7966e-05, -5.7906e-05, -5.7921e-05, -5.7951e-05,\n",
      "         -5.7936e-05, -5.7921e-05, -5.7906e-05, -5.7876e-05, -5.7891e-05,\n",
      "         -5.7891e-05, -5.7921e-05, -5.7951e-05, -5.7921e-05, -5.7906e-05,\n",
      "         -5.7951e-05, -5.7921e-05, -5.7906e-05, -5.7980e-05, -5.7936e-05,\n",
      "         -5.7921e-05, -5.7876e-05, -5.7966e-05, -5.7936e-05, -5.7921e-05,\n",
      "         -5.7936e-05, -5.7921e-05, -5.7921e-05, -5.7921e-05, -5.7951e-05,\n",
      "         -5.7921e-05, -5.7966e-05, -5.7906e-05, -5.7921e-05, -5.7980e-05]],\n",
      "       device='cuda:0', grad_fn=<SelectBackward0>)\n"
     ]
    },
    {
     "name": "stderr",
     "output_type": "stream",
     "text": [
      "0.00000000:   4%|▍         | 4/100 [04:56<1:49:28, 68.43s/it]"
     ]
    },
    {
     "name": "stdout",
     "output_type": "stream",
     "text": [
      "tensor([1., 1.], device='cuda:0') tensor([[ 2.3797e-05,  2.3797e-05,  2.3767e-05,  2.3797e-05,  2.3767e-05,\n",
      "          2.3797e-05,  2.3797e-05,  2.3767e-05,  2.3797e-05,  2.3797e-05,\n",
      "          2.3767e-05,  2.3797e-05,  2.3797e-05,  2.3797e-05,  2.3767e-05,\n",
      "          2.3767e-05,  2.3767e-05,  2.3797e-05,  2.3797e-05,  2.3797e-05,\n",
      "          2.3767e-05,  2.3797e-05,  2.3797e-05,  2.3797e-05,  2.3797e-05,\n",
      "          2.3797e-05,  2.3767e-05,  2.3797e-05,  2.3767e-05,  2.3767e-05,\n",
      "          2.3767e-05,  2.3797e-05,  2.3797e-05,  2.3797e-05,  2.3797e-05,\n",
      "          2.3797e-05,  2.3797e-05,  2.3797e-05,  2.3767e-05,  2.3767e-05,\n",
      "          2.3797e-05,  2.3797e-05,  2.3797e-05,  2.3767e-05,  2.3797e-05,\n",
      "          2.3797e-05,  2.3797e-05,  2.3797e-05,  2.3797e-05,  2.3797e-05],\n",
      "        [-6.3673e-05, -6.3673e-05, -6.3702e-05, -6.3673e-05, -6.3643e-05,\n",
      "         -6.3673e-05, -6.3673e-05, -6.3702e-05, -6.3673e-05, -6.3673e-05,\n",
      "         -6.3688e-05, -6.3658e-05, -6.3643e-05, -6.3673e-05, -6.3673e-05,\n",
      "         -6.3702e-05, -6.3702e-05, -6.3673e-05, -6.3673e-05, -6.3673e-05,\n",
      "         -6.3702e-05, -6.3673e-05, -6.3643e-05, -6.3673e-05, -6.3643e-05,\n",
      "         -6.3688e-05, -6.3688e-05, -6.3673e-05, -6.3702e-05, -6.3658e-05,\n",
      "         -6.3702e-05, -6.3673e-05, -6.3658e-05, -6.3673e-05, -6.3643e-05,\n",
      "         -6.3673e-05, -6.3673e-05, -6.3673e-05, -6.3702e-05, -6.3702e-05,\n",
      "         -6.3673e-05, -6.3643e-05, -6.3643e-05, -6.3688e-05, -6.3673e-05,\n",
      "         -6.3673e-05, -6.3673e-05, -6.3643e-05, -6.3688e-05, -6.3673e-05]],\n",
      "       device='cuda:0', grad_fn=<SelectBackward0>)\n"
     ]
    },
    {
     "name": "stderr",
     "output_type": "stream",
     "text": [
      "0.00000000:   4%|▍         | 4/100 [04:58<1:49:28, 68.43s/it]"
     ]
    },
    {
     "name": "stdout",
     "output_type": "stream",
     "text": [
      "tensor([1., 1.], device='cuda:0') tensor([[-5.6759e-05, -5.6729e-05, -5.6744e-05, -5.6759e-05, -5.6744e-05,\n",
      "         -5.6759e-05, -5.6759e-05, -5.6729e-05, -5.6744e-05, -5.6729e-05,\n",
      "         -5.6714e-05, -5.6714e-05, -5.6744e-05, -5.6729e-05, -5.6729e-05,\n",
      "         -5.6744e-05, -5.6729e-05, -5.6773e-05, -5.6773e-05, -5.6684e-05,\n",
      "         -5.6714e-05, -5.6729e-05, -5.6773e-05, -5.6744e-05, -5.6759e-05,\n",
      "         -5.6729e-05, -5.6759e-05, -5.6759e-05, -5.6729e-05, -5.6729e-05,\n",
      "         -5.6729e-05, -5.6729e-05, -5.6759e-05, -5.6714e-05, -5.6729e-05,\n",
      "         -5.6714e-05, -5.6729e-05, -5.6744e-05, -5.6729e-05, -5.6714e-05,\n",
      "         -5.6729e-05, -5.6759e-05, -5.6773e-05, -5.6729e-05, -5.6729e-05,\n",
      "         -5.6729e-05, -5.6744e-05, -5.6744e-05, -5.6729e-05, -5.6773e-05],\n",
      "        [ 1.4335e-05,  1.4335e-05,  1.4305e-05,  1.4335e-05,  1.4335e-05,\n",
      "          1.4335e-05,  1.4335e-05,  1.4335e-05,  1.4335e-05,  1.4335e-05,\n",
      "          1.4335e-05,  1.4335e-05,  1.4365e-05,  1.4335e-05,  1.4335e-05,\n",
      "          1.4335e-05,  1.4335e-05,  1.4335e-05,  1.4335e-05,  1.4335e-05,\n",
      "          1.4335e-05,  1.4335e-05,  1.4335e-05,  1.4305e-05,  1.4335e-05,\n",
      "          1.4335e-05,  1.4335e-05,  1.4335e-05,  1.4335e-05,  1.4335e-05,\n",
      "          1.4335e-05,  1.4335e-05,  1.4335e-05,  1.4335e-05,  1.4335e-05,\n",
      "          1.4350e-05,  1.4335e-05,  1.4305e-05,  1.4335e-05,  1.4335e-05,\n",
      "          1.4335e-05,  1.4335e-05,  1.4335e-05,  1.4335e-05,  1.4335e-05,\n",
      "          1.4335e-05,  1.4335e-05,  1.4335e-05,  1.4335e-05,  1.4335e-05]],\n",
      "       device='cuda:0', grad_fn=<SelectBackward0>)\n"
     ]
    },
    {
     "name": "stderr",
     "output_type": "stream",
     "text": [
      "0.00000000:   4%|▍         | 4/100 [04:59<1:49:28, 68.43s/it]"
     ]
    },
    {
     "name": "stdout",
     "output_type": "stream",
     "text": [
      "tensor([1., 1.], device='cuda:0') tensor([[-3.9592e-05, -3.9592e-05, -3.9592e-05, -3.9592e-05, -3.9637e-05,\n",
      "         -3.9592e-05, -3.9637e-05, -3.9622e-05, -3.9592e-05, -3.9622e-05,\n",
      "         -3.9592e-05, -3.9622e-05, -3.9592e-05, -3.9592e-05, -3.9622e-05,\n",
      "         -3.9592e-05, -3.9622e-05, -3.9622e-05, -3.9607e-05, -3.9592e-05,\n",
      "         -3.9592e-05, -3.9592e-05, -3.9592e-05, -3.9622e-05, -3.9607e-05,\n",
      "         -3.9592e-05, -3.9592e-05, -3.9622e-05, -3.9592e-05, -3.9592e-05,\n",
      "         -3.9592e-05, -3.9622e-05, -3.9592e-05, -3.9592e-05, -3.9622e-05,\n",
      "         -3.9592e-05, -3.9592e-05, -3.9607e-05, -3.9622e-05, -3.9622e-05,\n",
      "         -3.9592e-05, -3.9622e-05, -3.9592e-05, -3.9592e-05, -3.9592e-05,\n",
      "         -3.9622e-05, -3.9607e-05, -3.9622e-05, -3.9622e-05, -3.9592e-05],\n",
      "        [ 4.0382e-06,  4.0829e-06,  4.0084e-06,  4.0531e-06,  4.0382e-06,\n",
      "          4.0382e-06,  4.0382e-06,  4.0680e-06,  4.0382e-06,  4.0829e-06,\n",
      "          4.0233e-06,  4.0680e-06,  4.0382e-06,  4.0680e-06,  4.0680e-06,\n",
      "          4.0382e-06,  4.0382e-06,  4.0531e-06,  4.0829e-06,  4.0382e-06,\n",
      "          4.0382e-06,  4.0680e-06,  4.0382e-06,  4.0382e-06,  4.0084e-06,\n",
      "          4.0680e-06,  4.0382e-06,  4.0382e-06,  4.0382e-06,  4.0382e-06,\n",
      "          4.0680e-06,  4.0680e-06,  4.0829e-06,  4.0233e-06,  4.0680e-06,\n",
      "          4.0531e-06,  4.0382e-06,  4.0531e-06,  4.0680e-06,  4.0680e-06,\n",
      "          4.0382e-06,  4.0680e-06,  4.0680e-06,  4.0382e-06,  4.0382e-06,\n",
      "          4.0680e-06,  4.0382e-06,  4.0680e-06,  4.0680e-06,  4.0382e-06]],\n",
      "       device='cuda:0', grad_fn=<SelectBackward0>)\n"
     ]
    },
    {
     "name": "stderr",
     "output_type": "stream",
     "text": [
      "0.00000000:   4%|▍         | 4/100 [05:01<1:49:28, 68.43s/it]"
     ]
    },
    {
     "name": "stdout",
     "output_type": "stream",
     "text": [
      "tensor([1., 1.], device='cuda:0') tensor([[-1.6540e-05, -1.6496e-05, -1.6510e-05, -1.6540e-05, -1.6510e-05,\n",
      "         -1.6540e-05, -1.6540e-05, -1.6510e-05, -1.6510e-05, -1.6540e-05,\n",
      "         -1.6540e-05, -1.6510e-05, -1.6540e-05, -1.6510e-05, -1.6510e-05,\n",
      "         -1.6510e-05, -1.6540e-05, -1.6540e-05, -1.6540e-05, -1.6510e-05,\n",
      "         -1.6540e-05, -1.6525e-05, -1.6525e-05, -1.6540e-05, -1.6510e-05,\n",
      "         -1.6510e-05, -1.6540e-05, -1.6540e-05, -1.6510e-05, -1.6540e-05,\n",
      "         -1.6496e-05, -1.6540e-05, -1.6540e-05, -1.6481e-05, -1.6510e-05,\n",
      "         -1.6510e-05, -1.6540e-05, -1.6540e-05, -1.6510e-05, -1.6510e-05,\n",
      "         -1.6540e-05, -1.6540e-05, -1.6540e-05, -1.6540e-05, -1.6525e-05,\n",
      "         -1.6510e-05, -1.6525e-05, -1.6510e-05, -1.6496e-05, -1.6510e-05],\n",
      "        [-5.6177e-06, -5.5879e-06, -5.5879e-06, -5.5879e-06, -5.6028e-06,\n",
      "         -5.5879e-06, -5.5879e-06, -5.6028e-06, -5.5730e-06, -5.5879e-06,\n",
      "         -5.5879e-06, -5.6028e-06, -5.5879e-06, -5.6028e-06, -5.6028e-06,\n",
      "         -5.5879e-06, -5.5879e-06, -5.5879e-06, -5.5879e-06, -5.5879e-06,\n",
      "         -5.5879e-06, -5.5879e-06, -5.5879e-06, -5.5879e-06, -5.5730e-06,\n",
      "         -5.5879e-06, -5.5879e-06, -5.6028e-06, -5.6028e-06, -5.5879e-06,\n",
      "         -5.5879e-06, -5.5879e-06, -5.5879e-06, -5.5879e-06, -5.5879e-06,\n",
      "         -5.6028e-06, -5.5879e-06, -5.5879e-06, -5.5879e-06, -5.6177e-06,\n",
      "         -5.5879e-06, -5.5879e-06, -5.5879e-06, -5.5879e-06, -5.6028e-06,\n",
      "         -5.6028e-06, -5.6326e-06, -5.6028e-06, -5.6028e-06, -5.6028e-06]],\n",
      "       device='cuda:0', grad_fn=<SelectBackward0>)\n"
     ]
    },
    {
     "name": "stderr",
     "output_type": "stream",
     "text": [
      "0.00000000:   4%|▍         | 4/100 [05:02<1:49:28, 68.43s/it]"
     ]
    },
    {
     "name": "stdout",
     "output_type": "stream",
     "text": [
      "tensor([1., 1.], device='cuda:0') tensor([[-1.3337e-05, -1.3366e-05, -1.3351e-05, -1.3351e-05, -1.3366e-05,\n",
      "         -1.3381e-05, -1.3366e-05, -1.3351e-05, -1.3366e-05, -1.3381e-05,\n",
      "         -1.3396e-05, -1.3366e-05, -1.3366e-05, -1.3366e-05, -1.3396e-05,\n",
      "         -1.3381e-05, -1.3381e-05, -1.3366e-05, -1.3351e-05, -1.3411e-05,\n",
      "         -1.3381e-05, -1.3351e-05, -1.3366e-05, -1.3396e-05, -1.3366e-05,\n",
      "         -1.3366e-05, -1.3396e-05, -1.3366e-05, -1.3381e-05, -1.3366e-05,\n",
      "         -1.3366e-05, -1.3381e-05, -1.3351e-05, -1.3366e-05, -1.3366e-05,\n",
      "         -1.3366e-05, -1.3396e-05, -1.3366e-05, -1.3366e-05, -1.3396e-05,\n",
      "         -1.3381e-05, -1.3366e-05, -1.3366e-05, -1.3396e-05, -1.3366e-05,\n",
      "         -1.3381e-05, -1.3396e-05, -1.3396e-05, -1.3381e-05, -1.3366e-05],\n",
      "        [ 7.5400e-06,  7.5698e-06,  7.5400e-06,  7.5400e-06,  7.5400e-06,\n",
      "          7.5102e-06,  7.5400e-06,  7.5251e-06,  7.5400e-06,  7.5400e-06,\n",
      "          7.5400e-06,  7.5698e-06,  7.5400e-06,  7.5400e-06,  7.5400e-06,\n",
      "          7.5698e-06,  7.5400e-06,  7.5400e-06,  7.5400e-06,  7.5400e-06,\n",
      "          7.5251e-06,  7.5400e-06,  7.5400e-06,  7.5400e-06,  7.5400e-06,\n",
      "          7.5400e-06,  7.5400e-06,  7.5400e-06,  7.5698e-06,  7.5251e-06,\n",
      "          7.5549e-06,  7.5698e-06,  7.5400e-06,  7.5400e-06,  7.5400e-06,\n",
      "          7.5400e-06,  7.5400e-06,  7.5400e-06,  7.5400e-06,  7.5400e-06,\n",
      "          7.5698e-06,  7.5251e-06,  7.5400e-06,  7.5102e-06,  7.5698e-06,\n",
      "          7.5698e-06,  7.5400e-06,  7.5400e-06,  7.5400e-06,  7.5698e-06]],\n",
      "       device='cuda:0', grad_fn=<SelectBackward0>)\n"
     ]
    },
    {
     "name": "stderr",
     "output_type": "stream",
     "text": [
      "0.00000000:   4%|▍         | 4/100 [05:03<1:49:28, 68.43s/it]"
     ]
    },
    {
     "name": "stdout",
     "output_type": "stream",
     "text": [
      "tensor([1., 1.], device='cuda:0') tensor([[-1.8418e-05, -1.8433e-05, -1.8448e-05, -1.8433e-05, -1.8448e-05,\n",
      "         -1.8448e-05, -1.8448e-05, -1.8433e-05, -1.8418e-05, -1.8448e-05,\n",
      "         -1.8418e-05, -1.8448e-05, -1.8418e-05, -1.8448e-05, -1.8418e-05,\n",
      "         -1.8448e-05, -1.8448e-05, -1.8448e-05, -1.8448e-05, -1.8448e-05,\n",
      "         -1.8403e-05, -1.8433e-05, -1.8418e-05, -1.8418e-05, -1.8448e-05,\n",
      "         -1.8403e-05, -1.8433e-05, -1.8433e-05, -1.8418e-05, -1.8388e-05,\n",
      "         -1.8433e-05, -1.8433e-05, -1.8448e-05, -1.8403e-05, -1.8448e-05,\n",
      "         -1.8418e-05, -1.8433e-05, -1.8448e-05, -1.8448e-05, -1.8448e-05,\n",
      "         -1.8448e-05, -1.8448e-05, -1.8448e-05, -1.8418e-05, -1.8418e-05,\n",
      "         -1.8418e-05, -1.8448e-05, -1.8448e-05, -1.8433e-05, -1.8403e-05],\n",
      "        [ 2.7865e-05,  2.7835e-05,  2.7835e-05,  2.7880e-05,  2.7835e-05,\n",
      "          2.7835e-05,  2.7835e-05,  2.7835e-05,  2.7880e-05,  2.7850e-05,\n",
      "          2.7865e-05,  2.7835e-05,  2.7880e-05,  2.7835e-05,  2.7880e-05,\n",
      "          2.7835e-05,  2.7835e-05,  2.7835e-05,  2.7835e-05,  2.7835e-05,\n",
      "          2.7850e-05,  2.7880e-05,  2.7850e-05,  2.7865e-05,  2.7835e-05,\n",
      "          2.7865e-05,  2.7850e-05,  2.7835e-05,  2.7865e-05,  2.7865e-05,\n",
      "          2.7880e-05,  2.7880e-05,  2.7835e-05,  2.7850e-05,  2.7835e-05,\n",
      "          2.7880e-05,  2.7880e-05,  2.7835e-05,  2.7835e-05,  2.7910e-05,\n",
      "          2.7835e-05,  2.7835e-05,  2.7835e-05,  2.7910e-05,  2.7850e-05,\n",
      "          2.7880e-05,  2.7835e-05,  2.7835e-05,  2.7880e-05,  2.7850e-05]],\n",
      "       device='cuda:0', grad_fn=<SelectBackward0>)\n"
     ]
    },
    {
     "name": "stderr",
     "output_type": "stream",
     "text": [
      "0.00000000:   4%|▍         | 4/100 [05:05<1:49:28, 68.43s/it]"
     ]
    },
    {
     "name": "stdout",
     "output_type": "stream",
     "text": [
      "tensor([1., 1.], device='cuda:0') tensor([[ 4.0844e-05,  4.0874e-05,  4.0874e-05,  4.0889e-05,  4.0889e-05,\n",
      "          4.0874e-05,  4.0889e-05,  4.0919e-05,  4.0844e-05,  4.0859e-05,\n",
      "          4.0874e-05,  4.0889e-05,  4.0874e-05,  4.0874e-05,  4.0859e-05,\n",
      "          4.0859e-05,  4.0904e-05,  4.0889e-05,  4.0859e-05,  4.0889e-05,\n",
      "          4.0859e-05,  4.0889e-05,  4.0874e-05,  4.0889e-05,  4.0874e-05,\n",
      "          4.0874e-05,  4.0859e-05,  4.0859e-05,  4.0874e-05,  4.0874e-05,\n",
      "          4.0874e-05,  4.0874e-05,  4.0874e-05,  4.0859e-05,  4.0859e-05,\n",
      "          4.0889e-05,  4.0889e-05,  4.0874e-05,  4.0889e-05,  4.0919e-05,\n",
      "          4.0889e-05,  4.0874e-05,  4.0919e-05,  4.0889e-05,  4.0889e-05,\n",
      "          4.0889e-05,  4.0889e-05,  4.0919e-05,  4.0889e-05,  4.0874e-05],\n",
      "        [-2.0400e-05, -2.0429e-05, -2.0474e-05, -2.0444e-05, -2.0429e-05,\n",
      "         -2.0429e-05, -2.0429e-05, -2.0444e-05, -2.0385e-05, -2.0444e-05,\n",
      "         -2.0429e-05, -2.0429e-05, -2.0429e-05, -2.0444e-05, -2.0429e-05,\n",
      "         -2.0429e-05, -2.0444e-05, -2.0429e-05, -2.0429e-05, -2.0444e-05,\n",
      "         -2.0415e-05, -2.0429e-05, -2.0474e-05, -2.0429e-05, -2.0474e-05,\n",
      "         -2.0444e-05, -2.0459e-05, -2.0429e-05, -2.0429e-05, -2.0429e-05,\n",
      "         -2.0429e-05, -2.0444e-05, -2.0444e-05, -2.0385e-05, -2.0429e-05,\n",
      "         -2.0444e-05, -2.0429e-05, -2.0429e-05, -2.0429e-05, -2.0429e-05,\n",
      "         -2.0429e-05, -2.0429e-05, -2.0459e-05, -2.0444e-05, -2.0429e-05,\n",
      "         -2.0444e-05, -2.0429e-05, -2.0444e-05, -2.0429e-05, -2.0429e-05]],\n",
      "       device='cuda:0', grad_fn=<SelectBackward0>)\n"
     ]
    },
    {
     "name": "stderr",
     "output_type": "stream",
     "text": [
      "0.00000000:   4%|▍         | 4/100 [05:06<1:49:28, 68.43s/it]"
     ]
    },
    {
     "name": "stdout",
     "output_type": "stream",
     "text": [
      "tensor([1., 1.], device='cuda:0') tensor([[-1.9401e-05, -1.9431e-05, -1.9431e-05, -1.9431e-05, -1.9401e-05,\n",
      "         -1.9416e-05, -1.9401e-05, -1.9401e-05, -1.9401e-05, -1.9431e-05,\n",
      "         -1.9386e-05, -1.9372e-05, -1.9431e-05, -1.9431e-05, -1.9401e-05,\n",
      "         -1.9431e-05, -1.9372e-05, -1.9431e-05, -1.9401e-05, -1.9431e-05,\n",
      "         -1.9431e-05, -1.9357e-05, -1.9372e-05, -1.9416e-05, -1.9431e-05,\n",
      "         -1.9401e-05, -1.9386e-05, -1.9431e-05, -1.9401e-05, -1.9416e-05,\n",
      "         -1.9401e-05, -1.9372e-05, -1.9416e-05, -1.9401e-05, -1.9431e-05,\n",
      "         -1.9401e-05, -1.9416e-05, -1.9401e-05, -1.9372e-05, -1.9401e-05,\n",
      "         -1.9431e-05, -1.9416e-05, -1.9401e-05, -1.9386e-05, -1.9401e-05,\n",
      "         -1.9401e-05, -1.9401e-05, -1.9401e-05, -1.9416e-05, -1.9401e-05],\n",
      "        [ 4.4763e-05,  4.4763e-05,  4.4793e-05,  4.4748e-05,  4.4808e-05,\n",
      "          4.4748e-05,  4.4733e-05,  4.4763e-05,  4.4778e-05,  4.4763e-05,\n",
      "          4.4793e-05,  4.4763e-05,  4.4748e-05,  4.4733e-05,  4.4778e-05,\n",
      "          4.4763e-05,  4.4793e-05,  4.4763e-05,  4.4733e-05,  4.4748e-05,\n",
      "          4.4793e-05,  4.4793e-05,  4.4763e-05,  4.4763e-05,  4.4733e-05,\n",
      "          4.4793e-05,  4.4763e-05,  4.4733e-05,  4.4763e-05,  4.4718e-05,\n",
      "          4.4763e-05,  4.4763e-05,  4.4763e-05,  4.4763e-05,  4.4778e-05,\n",
      "          4.4793e-05,  4.4763e-05,  4.4733e-05,  4.4823e-05,  4.4793e-05,\n",
      "          4.4748e-05,  4.4763e-05,  4.4763e-05,  4.4733e-05,  4.4793e-05,\n",
      "          4.4733e-05,  4.4733e-05,  4.4808e-05,  4.4793e-05,  4.4763e-05]],\n",
      "       device='cuda:0', grad_fn=<SelectBackward0>)\n"
     ]
    },
    {
     "name": "stderr",
     "output_type": "stream",
     "text": [
      "0.00000000:   4%|▍         | 4/100 [05:07<1:49:28, 68.43s/it]"
     ]
    },
    {
     "name": "stdout",
     "output_type": "stream",
     "text": [
      "tensor([1., 1.], device='cuda:0') tensor([[-1.5840e-05, -1.5825e-05, -1.5810e-05, -1.5840e-05, -1.5840e-05,\n",
      "         -1.5840e-05, -1.5870e-05, -1.5840e-05, -1.5840e-05, -1.5840e-05,\n",
      "         -1.5840e-05, -1.5840e-05, -1.5840e-05, -1.5840e-05, -1.5870e-05,\n",
      "         -1.5810e-05, -1.5840e-05, -1.5840e-05, -1.5825e-05, -1.5840e-05,\n",
      "         -1.5840e-05, -1.5825e-05, -1.5840e-05, -1.5840e-05, -1.5840e-05,\n",
      "         -1.5825e-05, -1.5840e-05, -1.5840e-05, -1.5840e-05, -1.5855e-05,\n",
      "         -1.5840e-05, -1.5825e-05, -1.5840e-05, -1.5840e-05, -1.5840e-05,\n",
      "         -1.5825e-05, -1.5840e-05, -1.5840e-05, -1.5825e-05, -1.5840e-05,\n",
      "         -1.5840e-05, -1.5825e-05, -1.5825e-05, -1.5840e-05, -1.5840e-05,\n",
      "         -1.5840e-05, -1.5840e-05, -1.5870e-05, -1.5840e-05, -1.5840e-05],\n",
      "        [ 3.9592e-05,  3.9622e-05,  3.9652e-05,  3.9592e-05,  3.9622e-05,\n",
      "          3.9622e-05,  3.9607e-05,  3.9592e-05,  3.9637e-05,  3.9622e-05,\n",
      "          3.9622e-05,  3.9577e-05,  3.9592e-05,  3.9607e-05,  3.9592e-05,\n",
      "          3.9637e-05,  3.9622e-05,  3.9592e-05,  3.9622e-05,  3.9622e-05,\n",
      "          3.9622e-05,  3.9622e-05,  3.9622e-05,  3.9622e-05,  3.9563e-05,\n",
      "          3.9622e-05,  3.9592e-05,  3.9622e-05,  3.9622e-05,  3.9607e-05,\n",
      "          3.9637e-05,  3.9622e-05,  3.9592e-05,  3.9592e-05,  3.9622e-05,\n",
      "          3.9607e-05,  3.9607e-05,  3.9622e-05,  3.9622e-05,  3.9622e-05,\n",
      "          3.9622e-05,  3.9622e-05,  3.9622e-05,  3.9622e-05,  3.9622e-05,\n",
      "          3.9592e-05,  3.9607e-05,  3.9607e-05,  3.9622e-05,  3.9592e-05]],\n",
      "       device='cuda:0', grad_fn=<SelectBackward0>)\n"
     ]
    },
    {
     "name": "stderr",
     "output_type": "stream",
     "text": [
      "0.00000000:   4%|▍         | 4/100 [05:09<1:49:28, 68.43s/it]"
     ]
    },
    {
     "name": "stdout",
     "output_type": "stream",
     "text": [
      "tensor([1., 1.], device='cuda:0') tensor([[ 2.7284e-05,  2.7284e-05,  2.7314e-05,  2.7284e-05,  2.7314e-05,\n",
      "          2.7284e-05,  2.7284e-05,  2.7314e-05,  2.7269e-05,  2.7314e-05,\n",
      "          2.7314e-05,  2.7284e-05,  2.7284e-05,  2.7299e-05,  2.7284e-05,\n",
      "          2.7314e-05,  2.7314e-05,  2.7284e-05,  2.7314e-05,  2.7329e-05,\n",
      "          2.7299e-05,  2.7314e-05,  2.7254e-05,  2.7314e-05,  2.7299e-05,\n",
      "          2.7299e-05,  2.7299e-05,  2.7314e-05,  2.7284e-05,  2.7314e-05,\n",
      "          2.7314e-05,  2.7314e-05,  2.7299e-05,  2.7284e-05,  2.7284e-05,\n",
      "          2.7299e-05,  2.7284e-05,  2.7284e-05,  2.7284e-05,  2.7284e-05,\n",
      "          2.7284e-05,  2.7314e-05,  2.7299e-05,  2.7314e-05,  2.7329e-05,\n",
      "          2.7314e-05,  2.7314e-05,  2.7284e-05,  2.7284e-05,  2.7284e-05],\n",
      "        [-1.0505e-05, -1.0476e-05, -1.0505e-05, -1.0490e-05, -1.0461e-05,\n",
      "         -1.0505e-05, -1.0490e-05, -1.0490e-05, -1.0490e-05, -1.0490e-05,\n",
      "         -1.0490e-05, -1.0476e-05, -1.0476e-05, -1.0505e-05, -1.0490e-05,\n",
      "         -1.0461e-05, -1.0461e-05, -1.0476e-05, -1.0461e-05, -1.0461e-05,\n",
      "         -1.0446e-05, -1.0461e-05, -1.0476e-05, -1.0490e-05, -1.0446e-05,\n",
      "         -1.0505e-05, -1.0505e-05, -1.0461e-05, -1.0461e-05, -1.0461e-05,\n",
      "         -1.0461e-05, -1.0461e-05, -1.0476e-05, -1.0476e-05, -1.0476e-05,\n",
      "         -1.0490e-05, -1.0461e-05, -1.0476e-05, -1.0505e-05, -1.0505e-05,\n",
      "         -1.0490e-05, -1.0461e-05, -1.0461e-05, -1.0490e-05, -1.0490e-05,\n",
      "         -1.0446e-05, -1.0490e-05, -1.0505e-05, -1.0476e-05, -1.0446e-05]],\n",
      "       device='cuda:0', grad_fn=<SelectBackward0>)\n"
     ]
    },
    {
     "name": "stderr",
     "output_type": "stream",
     "text": [
      "0.00000000:   4%|▍         | 4/100 [05:10<1:49:28, 68.43s/it]"
     ]
    },
    {
     "name": "stdout",
     "output_type": "stream",
     "text": [
      "tensor([1., 1.], device='cuda:0') tensor([[-4.2468e-06, -4.1872e-06, -4.2319e-06, -4.2170e-06, -4.2319e-06,\n",
      "         -4.2468e-06, -4.2617e-06, -4.2319e-06, -4.2468e-06, -4.2468e-06,\n",
      "         -4.2468e-06, -4.2617e-06, -4.2468e-06, -4.2170e-06, -4.2021e-06,\n",
      "         -4.2319e-06, -4.2468e-06, -4.2170e-06, -4.2468e-06, -4.2468e-06,\n",
      "         -4.2468e-06, -4.2617e-06, -4.2468e-06, -4.2468e-06, -4.2766e-06,\n",
      "         -4.2468e-06, -4.2468e-06, -4.2468e-06, -4.2021e-06, -4.2468e-06,\n",
      "         -4.2617e-06, -4.2468e-06, -4.2170e-06, -4.2468e-06, -4.2766e-06,\n",
      "         -4.2468e-06, -4.2468e-06, -4.2468e-06, -4.2617e-06, -4.2170e-06,\n",
      "         -4.2766e-06, -4.2468e-06, -4.2468e-06, -4.2468e-06, -4.2021e-06,\n",
      "         -4.2170e-06, -4.2468e-06, -4.2170e-06, -4.2468e-06, -4.2617e-06],\n",
      "        [ 1.0863e-05,  1.0893e-05,  1.0863e-05,  1.0863e-05,  1.0863e-05,\n",
      "          1.0863e-05,  1.0848e-05,  1.0818e-05,  1.0863e-05,  1.0878e-05,\n",
      "          1.0878e-05,  1.0878e-05,  1.0833e-05,  1.0863e-05,  1.0878e-05,\n",
      "          1.0863e-05,  1.0863e-05,  1.0863e-05,  1.0863e-05,  1.0833e-05,\n",
      "          1.0863e-05,  1.0863e-05,  1.0833e-05,  1.0878e-05,  1.0863e-05,\n",
      "          1.0863e-05,  1.0833e-05,  1.0848e-05,  1.0893e-05,  1.0833e-05,\n",
      "          1.0863e-05,  1.0833e-05,  1.0863e-05,  1.0833e-05,  1.0863e-05,\n",
      "          1.0863e-05,  1.0878e-05,  1.0863e-05,  1.0863e-05,  1.0863e-05,\n",
      "          1.0863e-05,  1.0833e-05,  1.0863e-05,  1.0863e-05,  1.0893e-05,\n",
      "          1.0863e-05,  1.0833e-05,  1.0863e-05,  1.0863e-05,  1.0878e-05]],\n",
      "       device='cuda:0', grad_fn=<SelectBackward0>)\n"
     ]
    },
    {
     "name": "stderr",
     "output_type": "stream",
     "text": [
      "0.00000000:   4%|▍         | 4/100 [05:11<1:49:28, 68.43s/it]"
     ]
    },
    {
     "name": "stdout",
     "output_type": "stream",
     "text": [
      "tensor([1., 1.], device='cuda:0') tensor([[ 2.0266e-06,  2.0266e-06,  1.9968e-06,  1.9968e-06,  1.9968e-06,\n",
      "          1.9968e-06,  1.9670e-06,  1.9968e-06,  1.9968e-06,  1.9819e-06,\n",
      "          1.9670e-06,  2.0266e-06,  1.9968e-06,  2.0415e-06,  1.9968e-06,\n",
      "          1.9968e-06,  1.9968e-06,  1.9968e-06,  2.0266e-06,  1.9968e-06,\n",
      "          2.0266e-06,  2.0266e-06,  2.0266e-06,  1.9670e-06,  1.9968e-06,\n",
      "          1.9968e-06,  1.9968e-06,  1.9968e-06,  1.9968e-06,  1.9968e-06,\n",
      "          1.9819e-06,  1.9968e-06,  1.9819e-06,  1.9968e-06,  1.9968e-06,\n",
      "          1.9670e-06,  1.9968e-06,  2.0266e-06,  1.9968e-06,  1.9968e-06,\n",
      "          1.9968e-06,  2.0266e-06,  1.9819e-06,  1.9968e-06,  1.9968e-06,\n",
      "          1.9968e-06,  1.9968e-06,  1.9968e-06,  1.9670e-06,  1.9819e-06],\n",
      "        [-6.0797e-06, -6.0797e-06, -6.0499e-06, -6.0648e-06, -6.0946e-06,\n",
      "         -6.0499e-06, -6.0499e-06, -6.0946e-06, -6.0350e-06, -6.0797e-06,\n",
      "         -6.0350e-06, -6.0797e-06, -6.0797e-06, -6.0350e-06, -6.0797e-06,\n",
      "         -6.1095e-06, -6.0946e-06, -6.0350e-06, -6.1095e-06, -6.1244e-06,\n",
      "         -6.0499e-06, -6.1095e-06, -6.0797e-06, -6.1095e-06, -6.0946e-06,\n",
      "         -6.0797e-06, -6.0350e-06, -6.0946e-06, -6.0350e-06, -6.0499e-06,\n",
      "         -6.0797e-06, -6.0797e-06, -6.0797e-06, -6.0648e-06, -6.0797e-06,\n",
      "         -6.1095e-06, -6.0350e-06, -6.0499e-06, -6.0648e-06, -6.0648e-06,\n",
      "         -6.0648e-06, -6.0797e-06, -6.0797e-06, -6.0648e-06, -6.0797e-06,\n",
      "         -6.0797e-06, -6.0946e-06, -6.0350e-06, -6.0946e-06, -6.0797e-06]],\n",
      "       device='cuda:0', grad_fn=<SelectBackward0>)\n"
     ]
    },
    {
     "name": "stderr",
     "output_type": "stream",
     "text": [
      "0.00000000:   4%|▍         | 4/100 [05:13<1:49:28, 68.43s/it]"
     ]
    },
    {
     "name": "stdout",
     "output_type": "stream",
     "text": [
      "tensor([1., 1.], device='cuda:0') tensor([[ 7.3463e-06,  7.3016e-06,  7.3463e-06,  7.3314e-06,  7.3463e-06,\n",
      "          7.3463e-06,  7.3314e-06,  7.3314e-06,  7.3463e-06,  7.3463e-06,\n",
      "          7.3612e-06,  7.3314e-06,  7.3314e-06,  7.3016e-06,  7.3165e-06,\n",
      "          7.3314e-06,  7.3612e-06,  7.3463e-06,  7.3463e-06,  7.3463e-06,\n",
      "          7.3463e-06,  7.3314e-06,  7.3463e-06,  7.3463e-06,  7.3463e-06,\n",
      "          7.3463e-06,  7.3463e-06,  7.3314e-06,  7.3463e-06,  7.3463e-06,\n",
      "          7.3016e-06,  7.3463e-06,  7.3463e-06,  7.3463e-06,  7.3463e-06,\n",
      "          7.3463e-06,  7.3463e-06,  7.3463e-06,  7.3463e-06,  7.3463e-06,\n",
      "          7.3314e-06,  7.3463e-06,  7.3463e-06,  7.3463e-06,  7.3463e-06,\n",
      "          7.3314e-06,  7.3463e-06,  7.3463e-06,  7.3463e-06,  7.3463e-06],\n",
      "        [-2.0176e-05, -2.0236e-05, -2.0191e-05, -2.0176e-05, -2.0146e-05,\n",
      "         -2.0176e-05, -2.0146e-05, -2.0236e-05, -2.0221e-05, -2.0221e-05,\n",
      "         -2.0161e-05, -2.0206e-05, -2.0236e-05, -2.0251e-05, -2.0206e-05,\n",
      "         -2.0206e-05, -2.0161e-05, -2.0191e-05, -2.0206e-05, -2.0176e-05,\n",
      "         -2.0191e-05, -2.0206e-05, -2.0176e-05, -2.0191e-05, -2.0176e-05,\n",
      "         -2.0191e-05, -2.0221e-05, -2.0191e-05, -2.0191e-05, -2.0191e-05,\n",
      "         -2.0206e-05, -2.0176e-05, -2.0221e-05, -2.0176e-05, -2.0176e-05,\n",
      "         -2.0236e-05, -2.0191e-05, -2.0191e-05, -2.0236e-05, -2.0146e-05,\n",
      "         -2.0206e-05, -2.0221e-05, -2.0191e-05, -2.0176e-05, -2.0221e-05,\n",
      "         -2.0206e-05, -2.0221e-05, -2.0221e-05, -2.0191e-05, -2.0191e-05]],\n",
      "       device='cuda:0', grad_fn=<SelectBackward0>)\n"
     ]
    },
    {
     "name": "stderr",
     "output_type": "stream",
     "text": [
      "0.00000000:   4%|▍         | 4/100 [05:14<1:49:28, 68.43s/it]"
     ]
    },
    {
     "name": "stdout",
     "output_type": "stream",
     "text": [
      "tensor([1., 1.], device='cuda:0') tensor([[-2.8923e-05, -2.8923e-05, -2.8923e-05, -2.8908e-05, -2.8923e-05,\n",
      "         -2.8923e-05, -2.8953e-05, -2.8953e-05, -2.8938e-05, -2.8938e-05,\n",
      "         -2.8953e-05, -2.8953e-05, -2.8923e-05, -2.8953e-05, -2.8923e-05,\n",
      "         -2.8968e-05, -2.8953e-05, -2.8923e-05, -2.8953e-05, -2.8923e-05,\n",
      "         -2.8923e-05, -2.8923e-05, -2.8923e-05, -2.8923e-05, -2.8953e-05,\n",
      "         -2.8923e-05, -2.8923e-05, -2.8953e-05, -2.8923e-05, -2.8953e-05,\n",
      "         -2.8923e-05, -2.8923e-05, -2.8923e-05, -2.8938e-05, -2.8923e-05,\n",
      "         -2.8923e-05, -2.8923e-05, -2.8923e-05, -2.8953e-05, -2.8953e-05,\n",
      "         -2.8923e-05, -2.8938e-05, -2.8938e-05, -2.8938e-05, -2.8923e-05,\n",
      "         -2.8938e-05, -2.8923e-05, -2.8953e-05, -2.8938e-05, -2.8953e-05],\n",
      "        [ 1.1191e-05,  1.1161e-05,  1.1191e-05,  1.1191e-05,  1.1191e-05,\n",
      "          1.1191e-05,  1.1161e-05,  1.1161e-05,  1.1191e-05,  1.1191e-05,\n",
      "          1.1161e-05,  1.1161e-05,  1.1161e-05,  1.1161e-05,  1.1191e-05,\n",
      "          1.1191e-05,  1.1161e-05,  1.1161e-05,  1.1161e-05,  1.1161e-05,\n",
      "          1.1191e-05,  1.1191e-05,  1.1191e-05,  1.1191e-05,  1.1161e-05,\n",
      "          1.1191e-05,  1.1191e-05,  1.1161e-05,  1.1191e-05,  1.1161e-05,\n",
      "          1.1191e-05,  1.1161e-05,  1.1191e-05,  1.1161e-05,  1.1191e-05,\n",
      "          1.1191e-05,  1.1191e-05,  1.1191e-05,  1.1161e-05,  1.1161e-05,\n",
      "          1.1191e-05,  1.1176e-05,  1.1161e-05,  1.1161e-05,  1.1191e-05,\n",
      "          1.1161e-05,  1.1191e-05,  1.1161e-05,  1.1191e-05,  1.1176e-05]],\n",
      "       device='cuda:0', grad_fn=<SelectBackward0>)\n"
     ]
    },
    {
     "name": "stderr",
     "output_type": "stream",
     "text": [
      "0.00000000:   4%|▍         | 4/100 [05:15<1:49:28, 68.43s/it]"
     ]
    },
    {
     "name": "stdout",
     "output_type": "stream",
     "text": [
      "tensor([1., 1.], device='cuda:0') tensor([[-3.1114e-05, -3.1143e-05, -3.1158e-05, -3.1143e-05, -3.1114e-05,\n",
      "         -3.1129e-05, -3.1114e-05, -3.1143e-05, -3.1143e-05, -3.1129e-05,\n",
      "         -3.1129e-05, -3.1143e-05, -3.1129e-05, -3.1114e-05, -3.1114e-05,\n",
      "         -3.1114e-05, -3.1143e-05, -3.1143e-05, -3.1143e-05, -3.1114e-05,\n",
      "         -3.1143e-05, -3.1143e-05, -3.1158e-05, -3.1129e-05, -3.1143e-05,\n",
      "         -3.1143e-05, -3.1143e-05, -3.1129e-05, -3.1114e-05, -3.1129e-05,\n",
      "         -3.1114e-05, -3.1129e-05, -3.1143e-05, -3.1114e-05, -3.1143e-05,\n",
      "         -3.1143e-05, -3.1143e-05, -3.1143e-05, -3.1114e-05, -3.1143e-05,\n",
      "         -3.1143e-05, -3.1129e-05, -3.1129e-05, -3.1143e-05, -3.1129e-05,\n",
      "         -3.1143e-05, -3.1143e-05, -3.1129e-05, -3.1114e-05, -3.1129e-05],\n",
      "        [ 1.3113e-05,  1.3143e-05,  1.3098e-05,  1.3143e-05,  1.3113e-05,\n",
      "          1.3098e-05,  1.3098e-05,  1.3098e-05,  1.3143e-05,  1.3098e-05,\n",
      "          1.3098e-05,  1.3143e-05,  1.3098e-05,  1.3113e-05,  1.3113e-05,\n",
      "          1.3098e-05,  1.3143e-05,  1.3143e-05,  1.3143e-05,  1.3098e-05,\n",
      "          1.3143e-05,  1.3068e-05,  1.3098e-05,  1.3098e-05,  1.3098e-05,\n",
      "          1.3143e-05,  1.3113e-05,  1.3098e-05,  1.3113e-05,  1.3098e-05,\n",
      "          1.3113e-05,  1.3098e-05,  1.3143e-05,  1.3113e-05,  1.3143e-05,\n",
      "          1.3098e-05,  1.3143e-05,  1.3143e-05,  1.3113e-05,  1.3143e-05,\n",
      "          1.3143e-05,  1.3098e-05,  1.3098e-05,  1.3143e-05,  1.3098e-05,\n",
      "          1.3098e-05,  1.3068e-05,  1.3098e-05,  1.3098e-05,  1.3098e-05]],\n",
      "       device='cuda:0', grad_fn=<SelectBackward0>)\n"
     ]
    },
    {
     "name": "stderr",
     "output_type": "stream",
     "text": [
      "0.00000000:   4%|▍         | 4/100 [05:17<1:49:28, 68.43s/it]"
     ]
    },
    {
     "name": "stdout",
     "output_type": "stream",
     "text": [
      "tensor([1., 1.], device='cuda:0') tensor([[ 1.3024e-05,  1.3053e-05,  1.3053e-05,  1.3024e-05,  1.3024e-05,\n",
      "          1.3053e-05,  1.2994e-05,  1.3053e-05,  1.3053e-05,  1.3024e-05,\n",
      "          1.2994e-05,  1.3024e-05,  1.3053e-05,  1.3024e-05,  1.3053e-05,\n",
      "          1.3053e-05,  1.3053e-05,  1.2994e-05,  1.2994e-05,  1.3024e-05,\n",
      "          1.3039e-05,  1.3039e-05,  1.3053e-05,  1.2994e-05,  1.3053e-05,\n",
      "          1.3053e-05,  1.3053e-05,  1.3053e-05,  1.3024e-05,  1.3053e-05,\n",
      "          1.3053e-05,  1.3024e-05,  1.2994e-05,  1.3053e-05,  1.2994e-05,\n",
      "          1.3039e-05,  1.2994e-05,  1.2994e-05,  1.3053e-05,  1.3053e-05,\n",
      "          1.3053e-05,  1.2994e-05,  1.3024e-05,  1.3024e-05,  1.3024e-05,\n",
      "          1.3053e-05,  1.2994e-05,  1.3039e-05,  1.2994e-05,  1.3053e-05],\n",
      "        [-2.6986e-05, -2.7001e-05, -2.7001e-05, -2.7001e-05, -2.7001e-05,\n",
      "         -2.6971e-05, -2.7001e-05, -2.7001e-05, -2.7031e-05, -2.7001e-05,\n",
      "         -2.7001e-05, -2.7001e-05, -2.7031e-05, -2.7001e-05, -2.7001e-05,\n",
      "         -2.7001e-05, -2.7001e-05, -2.7001e-05, -2.7001e-05, -2.6986e-05,\n",
      "         -2.7001e-05, -2.7016e-05, -2.7001e-05, -2.7001e-05, -2.7001e-05,\n",
      "         -2.7001e-05, -2.7001e-05, -2.7031e-05, -2.6971e-05, -2.7031e-05,\n",
      "         -2.7001e-05, -2.7001e-05, -2.6986e-05, -2.7001e-05, -2.7001e-05,\n",
      "         -2.7001e-05, -2.7001e-05, -2.7001e-05, -2.7001e-05, -2.7001e-05,\n",
      "         -2.7001e-05, -2.7001e-05, -2.7001e-05, -2.7016e-05, -2.7031e-05,\n",
      "         -2.7001e-05, -2.6986e-05, -2.7001e-05, -2.7001e-05, -2.7001e-05]],\n",
      "       device='cuda:0', grad_fn=<SelectBackward0>)\n"
     ]
    },
    {
     "name": "stderr",
     "output_type": "stream",
     "text": [
      "0.00000000:   4%|▍         | 4/100 [05:18<1:49:28, 68.43s/it]"
     ]
    },
    {
     "name": "stdout",
     "output_type": "stream",
     "text": [
      "tensor([1., 1.], device='cuda:0') tensor([[-1.8016e-05, -1.8016e-05, -1.7986e-05, -1.7986e-05, -1.8016e-05,\n",
      "         -1.8016e-05, -1.8016e-05, -1.8001e-05, -1.7986e-05, -1.8016e-05,\n",
      "         -1.8016e-05, -1.8016e-05, -1.8016e-05, -1.8016e-05, -1.8016e-05,\n",
      "         -1.8016e-05, -1.7986e-05, -1.7986e-05, -1.8016e-05, -1.8016e-05,\n",
      "         -1.7986e-05, -1.8016e-05, -1.8016e-05, -1.7986e-05, -1.8016e-05,\n",
      "         -1.8016e-05, -1.8016e-05, -1.7986e-05, -1.8016e-05, -1.7986e-05,\n",
      "         -1.8030e-05, -1.7986e-05, -1.8016e-05, -1.7986e-05, -1.8016e-05,\n",
      "         -1.7986e-05, -1.7986e-05, -1.8001e-05, -1.8016e-05, -1.8016e-05,\n",
      "         -1.8030e-05, -1.8001e-05, -1.7986e-05, -1.8016e-05, -1.7986e-05,\n",
      "         -1.7986e-05, -1.8001e-05, -1.7986e-05, -1.7986e-05, -1.8016e-05],\n",
      "        [ 1.1161e-05,  1.1146e-05,  1.1161e-05,  1.1146e-05,  1.1131e-05,\n",
      "          1.1146e-05,  1.1146e-05,  1.1131e-05,  1.1146e-05,  1.1131e-05,\n",
      "          1.1146e-05,  1.1116e-05,  1.1146e-05,  1.1131e-05,  1.1131e-05,\n",
      "          1.1131e-05,  1.1161e-05,  1.1161e-05,  1.1131e-05,  1.1146e-05,\n",
      "          1.1161e-05,  1.1146e-05,  1.1146e-05,  1.1146e-05,  1.1146e-05,\n",
      "          1.1146e-05,  1.1146e-05,  1.1161e-05,  1.1146e-05,  1.1161e-05,\n",
      "          1.1131e-05,  1.1161e-05,  1.1131e-05,  1.1161e-05,  1.1146e-05,\n",
      "          1.1131e-05,  1.1161e-05,  1.1131e-05,  1.1131e-05,  1.1146e-05,\n",
      "          1.1131e-05,  1.1131e-05,  1.1131e-05,  1.1131e-05,  1.1146e-05,\n",
      "          1.1161e-05,  1.1146e-05,  1.1146e-05,  1.1161e-05,  1.1146e-05]],\n",
      "       device='cuda:0', grad_fn=<SelectBackward0>)\n"
     ]
    },
    {
     "name": "stderr",
     "output_type": "stream",
     "text": [
      "0.00000000:   4%|▍         | 4/100 [05:19<1:49:28, 68.43s/it]"
     ]
    },
    {
     "name": "stdout",
     "output_type": "stream",
     "text": [
      "tensor([1., 1.], device='cuda:0') tensor([[ 7.8529e-06,  7.8529e-06,  7.8380e-06,  7.8529e-06,  7.8529e-06,\n",
      "          7.8529e-06,  7.8529e-06,  7.8529e-06,  7.8380e-06,  7.8529e-06,\n",
      "          7.8529e-06,  7.8082e-06,  7.8231e-06,  7.8529e-06,  7.8529e-06,\n",
      "          7.8678e-06,  7.8678e-06,  7.8529e-06,  7.7933e-06,  7.8529e-06,\n",
      "          7.8082e-06,  7.8380e-06,  7.8529e-06,  7.8529e-06,  7.8380e-06,\n",
      "          7.8082e-06,  7.8529e-06,  7.8529e-06,  7.8380e-06,  7.8380e-06,\n",
      "          7.8529e-06,  7.8529e-06,  7.8082e-06,  7.8529e-06,  7.8082e-06,\n",
      "          7.8529e-06,  7.8082e-06,  7.8529e-06,  7.8082e-06,  7.8082e-06,\n",
      "          7.8529e-06,  7.8529e-06,  7.8529e-06,  7.8082e-06,  7.8529e-06,\n",
      "          7.8529e-06,  7.8529e-06,  7.8380e-06,  7.8529e-06,  7.8529e-06],\n",
      "        [-6.2287e-06, -6.2287e-06, -6.2883e-06, -6.2287e-06, -6.2287e-06,\n",
      "         -6.2287e-06, -6.2287e-06, -6.2287e-06, -6.3181e-06, -6.2883e-06,\n",
      "         -6.2883e-06, -6.2883e-06, -6.2883e-06, -6.2287e-06, -6.2287e-06,\n",
      "         -6.2734e-06, -6.2883e-06, -6.2287e-06, -6.2883e-06, -6.3032e-06,\n",
      "         -6.2883e-06, -6.3181e-06, -6.2287e-06, -6.3032e-06, -6.3181e-06,\n",
      "         -6.2883e-06, -6.3032e-06, -6.2287e-06, -6.3181e-06, -6.3181e-06,\n",
      "         -6.2734e-06, -6.2287e-06, -6.2883e-06, -6.2287e-06, -6.2883e-06,\n",
      "         -6.2585e-06, -6.2883e-06, -6.2436e-06, -6.2883e-06, -6.2883e-06,\n",
      "         -6.2287e-06, -6.2585e-06, -6.2287e-06, -6.2883e-06, -6.2883e-06,\n",
      "         -6.2287e-06, -6.2287e-06, -6.3181e-06, -6.2287e-06, -6.2287e-06]],\n",
      "       device='cuda:0', grad_fn=<SelectBackward0>)\n"
     ]
    },
    {
     "name": "stderr",
     "output_type": "stream",
     "text": [
      "0.00000000:   4%|▍         | 4/100 [05:21<1:49:28, 68.43s/it]"
     ]
    },
    {
     "name": "stdout",
     "output_type": "stream",
     "text": [
      "tensor([1., 1.], device='cuda:0') tensor([[3.6508e-06, 3.7104e-06, 3.6955e-06, 3.6508e-06, 3.6955e-06, 3.7104e-06,\n",
      "         3.6806e-06, 3.6806e-06, 3.6806e-06, 3.6806e-06, 3.7104e-06, 3.7253e-06,\n",
      "         3.7104e-06, 3.6806e-06, 3.7104e-06, 3.6806e-06, 3.7104e-06, 3.6508e-06,\n",
      "         3.7104e-06, 3.6955e-06, 3.7104e-06, 3.7104e-06, 3.7104e-06, 3.6508e-06,\n",
      "         3.7104e-06, 3.7104e-06, 3.6806e-06, 3.7104e-06, 3.7104e-06, 3.6806e-06,\n",
      "         3.6806e-06, 3.6806e-06, 3.7104e-06, 3.7104e-06, 3.7104e-06, 3.7104e-06,\n",
      "         3.7104e-06, 3.7104e-06, 3.6806e-06, 3.7104e-06, 3.7104e-06, 3.7104e-06,\n",
      "         3.7104e-06, 3.7104e-06, 3.6508e-06, 3.6508e-06, 3.6806e-06, 3.7104e-06,\n",
      "         3.6806e-06, 3.7104e-06],\n",
      "        [5.4687e-06, 5.4836e-06, 5.4687e-06, 5.4687e-06, 5.4687e-06, 5.5283e-06,\n",
      "         5.4687e-06, 5.4687e-06, 5.4687e-06, 5.4836e-06, 5.4687e-06, 5.4985e-06,\n",
      "         5.4687e-06, 5.4538e-06, 5.5283e-06, 5.4985e-06, 5.4687e-06, 5.4687e-06,\n",
      "         5.4687e-06, 5.4538e-06, 5.4836e-06, 5.4836e-06, 5.5283e-06, 5.4687e-06,\n",
      "         5.4687e-06, 5.4836e-06, 5.4687e-06, 5.4836e-06, 5.5283e-06, 5.4687e-06,\n",
      "         5.4687e-06, 5.4538e-06, 5.4389e-06, 5.4836e-06, 5.4836e-06, 5.5283e-06,\n",
      "         5.4687e-06, 5.4836e-06, 5.4687e-06, 5.5283e-06, 5.4687e-06, 5.4836e-06,\n",
      "         5.4836e-06, 5.4687e-06, 5.4687e-06, 5.4687e-06, 5.4091e-06, 5.4836e-06,\n",
      "         5.4687e-06, 5.4836e-06]], device='cuda:0', grad_fn=<SelectBackward0>)\n"
     ]
    },
    {
     "name": "stderr",
     "output_type": "stream",
     "text": [
      "0.00000000:   4%|▍         | 4/100 [05:22<1:49:28, 68.43s/it]"
     ]
    },
    {
     "name": "stdout",
     "output_type": "stream",
     "text": [
      "tensor([1., 1.], device='cuda:0') tensor([[-6.8545e-07, -6.8545e-07, -6.8545e-07, -7.1526e-07, -6.8545e-07,\n",
      "         -6.5565e-07, -6.5565e-07, -6.8545e-07, -6.8545e-07, -6.8545e-07,\n",
      "         -7.0035e-07, -6.8545e-07, -6.8545e-07, -6.8545e-07, -6.8545e-07,\n",
      "         -6.8545e-07, -6.8545e-07, -7.0035e-07, -6.8545e-07, -6.5565e-07,\n",
      "         -6.8545e-07, -6.8545e-07, -6.8545e-07, -6.5565e-07, -6.5565e-07,\n",
      "         -6.8545e-07, -6.5565e-07, -6.8545e-07, -6.8545e-07, -6.8545e-07,\n",
      "         -6.5565e-07, -7.0035e-07, -6.8545e-07, -6.8545e-07, -6.5565e-07,\n",
      "         -6.8545e-07, -6.8545e-07, -6.8545e-07, -7.0035e-07, -6.4075e-07,\n",
      "         -6.8545e-07, -6.5565e-07, -6.5565e-07, -6.7055e-07, -6.8545e-07,\n",
      "         -6.8545e-07, -6.8545e-07, -6.8545e-07, -6.5565e-07, -6.5565e-07],\n",
      "        [ 1.4946e-05,  1.4931e-05,  1.4931e-05,  1.4961e-05,  1.4931e-05,\n",
      "          1.4931e-05,  1.4961e-05,  1.4931e-05,  1.4931e-05,  1.4961e-05,\n",
      "          1.4901e-05,  1.4961e-05,  1.4931e-05,  1.4931e-05,  1.4961e-05,\n",
      "          1.4931e-05,  1.4931e-05,  1.4991e-05,  1.4961e-05,  1.4946e-05,\n",
      "          1.4931e-05,  1.4961e-05,  1.4931e-05,  1.4946e-05,  1.4946e-05,\n",
      "          1.4931e-05,  1.4931e-05,  1.4931e-05,  1.4961e-05,  1.4931e-05,\n",
      "          1.4946e-05,  1.4931e-05,  1.4961e-05,  1.4931e-05,  1.4961e-05,\n",
      "          1.4931e-05,  1.4961e-05,  1.4931e-05,  1.4961e-05,  1.4961e-05,\n",
      "          1.4946e-05,  1.4946e-05,  1.4946e-05,  1.4931e-05,  1.4931e-05,\n",
      "          1.4946e-05,  1.4961e-05,  1.4931e-05,  1.4946e-05,  1.4961e-05]],\n",
      "       device='cuda:0', grad_fn=<SelectBackward0>)\n"
     ]
    },
    {
     "name": "stderr",
     "output_type": "stream",
     "text": [
      "0.00000000:   4%|▍         | 4/100 [05:23<1:49:28, 68.43s/it]"
     ]
    },
    {
     "name": "stdout",
     "output_type": "stream",
     "text": [
      "tensor([1., 1.], device='cuda:0') tensor([[ 2.0489e-05,  2.0504e-05,  2.0459e-05,  2.0489e-05,  2.0489e-05,\n",
      "          2.0489e-05,  2.0519e-05,  2.0489e-05,  2.0459e-05,  2.0459e-05,\n",
      "          2.0489e-05,  2.0519e-05,  2.0489e-05,  2.0519e-05,  2.0489e-05,\n",
      "          2.0504e-05,  2.0519e-05,  2.0489e-05,  2.0504e-05,  2.0489e-05,\n",
      "          2.0489e-05,  2.0489e-05,  2.0489e-05,  2.0519e-05,  2.0459e-05,\n",
      "          2.0489e-05,  2.0519e-05,  2.0489e-05,  2.0489e-05,  2.0519e-05,\n",
      "          2.0489e-05,  2.0489e-05,  2.0519e-05,  2.0489e-05,  2.0489e-05,\n",
      "          2.0504e-05,  2.0519e-05,  2.0489e-05,  2.0489e-05,  2.0489e-05,\n",
      "          2.0519e-05,  2.0519e-05,  2.0489e-05,  2.0519e-05,  2.0459e-05,\n",
      "          2.0519e-05,  2.0504e-05,  2.0489e-05,  2.0489e-05,  2.0519e-05],\n",
      "        [-4.5449e-06, -4.5598e-06, -4.5747e-06, -4.5747e-06, -4.5747e-06,\n",
      "         -4.5896e-06, -4.6045e-06, -4.6045e-06, -4.5747e-06, -4.5449e-06,\n",
      "         -4.5747e-06, -4.6194e-06, -4.5747e-06, -4.6045e-06, -4.5747e-06,\n",
      "         -4.5598e-06, -4.6194e-06, -4.5747e-06, -4.5896e-06, -4.5747e-06,\n",
      "         -4.5896e-06, -4.6194e-06, -4.5747e-06, -4.6194e-06, -4.5896e-06,\n",
      "         -4.5896e-06, -4.6045e-06, -4.5449e-06, -4.6194e-06, -4.6194e-06,\n",
      "         -4.5896e-06, -4.5747e-06, -4.5747e-06, -4.6194e-06, -4.6194e-06,\n",
      "         -4.6194e-06, -4.6343e-06, -4.5747e-06, -4.5747e-06, -4.6194e-06,\n",
      "         -4.6045e-06, -4.5896e-06, -4.6045e-06, -4.6194e-06, -4.6045e-06,\n",
      "         -4.6194e-06, -4.5896e-06, -4.6194e-06, -4.5449e-06, -4.5896e-06]],\n",
      "       device='cuda:0', grad_fn=<SelectBackward0>)\n"
     ]
    },
    {
     "name": "stderr",
     "output_type": "stream",
     "text": [
      "0.00000000:   4%|▍         | 4/100 [05:25<1:49:28, 68.43s/it]"
     ]
    },
    {
     "name": "stdout",
     "output_type": "stream",
     "text": [
      "tensor([1., 1.], device='cuda:0') tensor([[ 2.1383e-05,  2.1413e-05,  2.1413e-05,  2.1383e-05,  2.1353e-05,\n",
      "          2.1383e-05,  2.1413e-05,  2.1398e-05,  2.1413e-05,  2.1383e-05,\n",
      "          2.1383e-05,  2.1413e-05,  2.1383e-05,  2.1413e-05,  2.1383e-05,\n",
      "          2.1413e-05,  2.1413e-05,  2.1398e-05,  2.1398e-05,  2.1383e-05,\n",
      "          2.1413e-05,  2.1383e-05,  2.1383e-05,  2.1413e-05,  2.1383e-05,\n",
      "          2.1383e-05,  2.1413e-05,  2.1383e-05,  2.1368e-05,  2.1383e-05,\n",
      "          2.1413e-05,  2.1398e-05,  2.1398e-05,  2.1413e-05,  2.1383e-05,\n",
      "          2.1443e-05,  2.1383e-05,  2.1383e-05,  2.1383e-05,  2.1413e-05,\n",
      "          2.1413e-05,  2.1413e-05,  2.1383e-05,  2.1413e-05,  2.1413e-05,\n",
      "          2.1383e-05,  2.1398e-05,  2.1383e-05,  2.1383e-05,  2.1413e-05],\n",
      "        [-7.5400e-06, -7.5400e-06, -7.5698e-06, -7.5400e-06, -7.5400e-06,\n",
      "         -7.5400e-06, -7.5698e-06, -7.5400e-06, -7.5400e-06, -7.5400e-06,\n",
      "         -7.5400e-06, -7.5698e-06, -7.5400e-06, -7.5400e-06, -7.5400e-06,\n",
      "         -7.5698e-06, -7.5400e-06, -7.5549e-06, -7.5549e-06, -7.5400e-06,\n",
      "         -7.5698e-06, -7.5400e-06, -7.5400e-06, -7.5698e-06, -7.5400e-06,\n",
      "         -7.5400e-06, -7.5400e-06, -7.5400e-06, -7.5549e-06, -7.5400e-06,\n",
      "         -7.5400e-06, -7.5400e-06, -7.5400e-06, -7.5698e-06, -7.5400e-06,\n",
      "         -7.5847e-06, -7.5400e-06, -7.5400e-06, -7.5400e-06, -7.5549e-06,\n",
      "         -7.5549e-06, -7.5698e-06, -7.5400e-06, -7.5698e-06, -7.5400e-06,\n",
      "         -7.5400e-06, -7.5400e-06, -7.5400e-06, -7.5400e-06, -7.5698e-06]],\n",
      "       device='cuda:0', grad_fn=<SelectBackward0>)\n"
     ]
    },
    {
     "name": "stderr",
     "output_type": "stream",
     "text": [
      "0.00000000:   4%|▍         | 4/100 [05:26<1:49:28, 68.43s/it]"
     ]
    },
    {
     "name": "stdout",
     "output_type": "stream",
     "text": [
      "tensor([1., 1.], device='cuda:0') tensor([[-9.1493e-06, -9.1493e-06, -9.1493e-06, -9.1642e-06, -9.1493e-06,\n",
      "         -9.1195e-06, -9.1493e-06, -9.1195e-06, -9.1642e-06, -9.1493e-06,\n",
      "         -9.1195e-06, -9.1642e-06, -9.1493e-06, -9.1195e-06, -9.1493e-06,\n",
      "         -9.1195e-06, -9.1493e-06, -9.1493e-06, -9.1493e-06, -9.1195e-06,\n",
      "         -9.1642e-06, -9.1642e-06, -9.1195e-06, -9.1493e-06, -9.1195e-06,\n",
      "         -9.1493e-06, -9.1642e-06, -9.1493e-06, -9.1493e-06, -9.1493e-06,\n",
      "         -9.1493e-06, -9.1195e-06, -9.1195e-06, -9.1493e-06, -9.1493e-06,\n",
      "         -9.1642e-06, -9.1493e-06, -9.1493e-06, -9.1195e-06, -9.1195e-06,\n",
      "         -9.1195e-06, -9.1642e-06, -9.1195e-06, -9.1344e-06, -9.1642e-06,\n",
      "         -9.1791e-06, -9.1493e-06, -9.1642e-06, -9.1642e-06, -9.1493e-06],\n",
      "        [ 1.7911e-05,  1.7881e-05,  1.7852e-05,  1.7866e-05,  1.7866e-05,\n",
      "          1.7881e-05,  1.7881e-05,  1.7881e-05,  1.7866e-05,  1.7866e-05,\n",
      "          1.7881e-05,  1.7866e-05,  1.7911e-05,  1.7881e-05,  1.7881e-05,\n",
      "          1.7881e-05,  1.7911e-05,  1.7926e-05,  1.7911e-05,  1.7881e-05,\n",
      "          1.7866e-05,  1.7866e-05,  1.7852e-05,  1.7866e-05,  1.7881e-05,\n",
      "          1.7896e-05,  1.7866e-05,  1.7926e-05,  1.7926e-05,  1.7896e-05,\n",
      "          1.7881e-05,  1.7881e-05,  1.7896e-05,  1.7866e-05,  1.7881e-05,\n",
      "          1.7866e-05,  1.7881e-05,  1.7866e-05,  1.7896e-05,  1.7852e-05,\n",
      "          1.7881e-05,  1.7866e-05,  1.7852e-05,  1.7866e-05,  1.7866e-05,\n",
      "          1.7911e-05,  1.7881e-05,  1.7941e-05,  1.7941e-05,  1.7926e-05]],\n",
      "       device='cuda:0', grad_fn=<SelectBackward0>)\n"
     ]
    },
    {
     "name": "stderr",
     "output_type": "stream",
     "text": [
      "0.00000000:   4%|▍         | 4/100 [05:27<1:49:28, 68.43s/it]"
     ]
    },
    {
     "name": "stdout",
     "output_type": "stream",
     "text": [
      "tensor([1., 1.], device='cuda:0') tensor([[ 1.1176e-05,  1.1176e-05,  1.1176e-05,  1.1176e-05,  1.1161e-05,\n",
      "          1.1161e-05,  1.1176e-05,  1.1176e-05,  1.1176e-05,  1.1146e-05,\n",
      "          1.1161e-05,  1.1176e-05,  1.1146e-05,  1.1176e-05,  1.1176e-05,\n",
      "          1.1146e-05,  1.1176e-05,  1.1176e-05,  1.1146e-05,  1.1176e-05,\n",
      "          1.1176e-05,  1.1176e-05,  1.1176e-05,  1.1161e-05,  1.1176e-05,\n",
      "          1.1176e-05,  1.1176e-05,  1.1176e-05,  1.1176e-05,  1.1176e-05,\n",
      "          1.1176e-05,  1.1161e-05,  1.1176e-05,  1.1176e-05,  1.1206e-05,\n",
      "          1.1161e-05,  1.1176e-05,  1.1161e-05,  1.1161e-05,  1.1176e-05,\n",
      "          1.1176e-05,  1.1176e-05,  1.1116e-05,  1.1176e-05,  1.1176e-05,\n",
      "          1.1161e-05,  1.1161e-05,  1.1161e-05,  1.1176e-05,  1.1176e-05],\n",
      "        [-9.3281e-06, -9.3281e-06, -9.2983e-06, -9.2834e-06, -9.2685e-06,\n",
      "         -9.2685e-06, -9.2536e-06, -9.2685e-06, -9.2983e-06, -9.2983e-06,\n",
      "         -9.2983e-06, -9.2685e-06, -9.2536e-06, -9.3281e-06, -9.2685e-06,\n",
      "         -9.2536e-06, -9.3132e-06, -9.2834e-06, -9.2536e-06, -9.2536e-06,\n",
      "         -9.2685e-06, -9.2834e-06, -9.2536e-06, -9.2685e-06, -9.3281e-06,\n",
      "         -9.2834e-06, -9.2685e-06, -9.3281e-06, -9.2536e-06, -9.2983e-06,\n",
      "         -9.3281e-06, -9.2685e-06, -9.2685e-06, -9.3281e-06, -9.2536e-06,\n",
      "         -9.2685e-06, -9.2685e-06, -9.2685e-06, -9.2685e-06, -9.2983e-06,\n",
      "         -9.2685e-06, -9.2983e-06, -9.2983e-06, -9.2685e-06, -9.2685e-06,\n",
      "         -9.2685e-06, -9.2834e-06, -9.2685e-06, -9.2983e-06, -9.2685e-06]],\n",
      "       device='cuda:0', grad_fn=<SelectBackward0>)\n"
     ]
    },
    {
     "name": "stderr",
     "output_type": "stream",
     "text": [
      "0.00000000:   4%|▍         | 4/100 [05:28<1:49:28, 68.43s/it]"
     ]
    },
    {
     "name": "stdout",
     "output_type": "stream",
     "text": [
      "tensor([1., 1.], device='cuda:0') tensor([[-8.0764e-06, -8.0615e-06, -8.0466e-06, -8.0913e-06, -8.0764e-06,\n",
      "         -8.0913e-06, -8.0913e-06, -8.0764e-06, -8.0913e-06, -8.0764e-06,\n",
      "         -8.0913e-06, -8.0615e-06, -8.0764e-06, -8.0913e-06, -8.0913e-06,\n",
      "         -8.0764e-06, -8.0615e-06, -8.0764e-06, -8.0913e-06, -8.0913e-06,\n",
      "         -8.0764e-06, -8.0764e-06, -8.0913e-06, -8.0913e-06, -8.0615e-06,\n",
      "         -8.0913e-06, -8.0317e-06, -8.0913e-06, -8.0764e-06, -8.0913e-06,\n",
      "         -8.0615e-06, -8.0615e-06, -8.0764e-06, -8.0913e-06, -8.0764e-06,\n",
      "         -8.0913e-06, -8.0913e-06, -8.0615e-06, -8.0913e-06, -8.0615e-06,\n",
      "         -8.0764e-06, -8.0764e-06, -8.0317e-06, -8.0317e-06, -8.0764e-06,\n",
      "         -8.0913e-06, -8.0317e-06, -8.0764e-06, -8.0764e-06, -8.0913e-06],\n",
      "        [ 2.8461e-06,  2.8610e-06,  2.8908e-06,  2.8759e-06,  2.8461e-06,\n",
      "          2.8461e-06,  2.8610e-06,  2.8461e-06,  2.8461e-06,  2.8461e-06,\n",
      "          2.8610e-06,  2.8610e-06,  2.8461e-06,  2.8461e-06,  2.8610e-06,\n",
      "          2.8461e-06,  2.8759e-06,  2.8461e-06,  2.8461e-06,  2.8610e-06,\n",
      "          2.8461e-06,  2.8759e-06,  2.8461e-06,  2.8461e-06,  2.8610e-06,\n",
      "          2.8610e-06,  2.8461e-06,  2.8461e-06,  2.8461e-06,  2.8461e-06,\n",
      "          2.8759e-06,  2.8312e-06,  2.8610e-06,  2.8610e-06,  2.8461e-06,\n",
      "          2.8461e-06,  2.8610e-06,  2.8461e-06,  2.8610e-06,  2.8610e-06,\n",
      "          2.8461e-06,  2.8461e-06,  2.8610e-06,  2.8461e-06,  2.8461e-06,\n",
      "          2.8610e-06,  2.8610e-06,  2.8461e-06,  2.8461e-06,  2.8610e-06]],\n",
      "       device='cuda:0', grad_fn=<SelectBackward0>)\n"
     ]
    },
    {
     "name": "stderr",
     "output_type": "stream",
     "text": [
      "0.00000000:   4%|▍         | 4/100 [05:30<1:49:28, 68.43s/it]"
     ]
    },
    {
     "name": "stdout",
     "output_type": "stream",
     "text": [
      "tensor([1., 1.], device='cuda:0') tensor([[-5.1111e-06, -5.1409e-06, -5.1111e-06, -5.1111e-06, -5.1111e-06,\n",
      "         -5.1111e-06, -5.1558e-06, -5.1409e-06, -5.1707e-06, -5.1111e-06,\n",
      "         -5.1409e-06, -5.1409e-06, -5.1707e-06, -5.1111e-06, -5.1111e-06,\n",
      "         -5.1111e-06, -5.1558e-06, -5.1409e-06, -5.1409e-06, -5.1111e-06,\n",
      "         -5.1409e-06, -5.1111e-06, -5.1558e-06, -5.1558e-06, -5.1409e-06,\n",
      "         -5.1409e-06, -5.1111e-06, -5.1111e-06, -5.1111e-06, -5.1111e-06,\n",
      "         -5.1409e-06, -5.1409e-06, -5.1111e-06, -5.1111e-06, -5.1111e-06,\n",
      "         -5.1260e-06, -5.1409e-06, -5.1409e-06, -5.1111e-06, -5.1111e-06,\n",
      "         -5.1111e-06, -5.1111e-06, -5.1409e-06, -5.1111e-06, -5.0962e-06,\n",
      "         -5.1111e-06, -5.1111e-06, -5.1558e-06, -5.1111e-06, -5.1111e-06],\n",
      "        [-5.6475e-06, -5.6624e-06, -5.6475e-06, -5.6475e-06, -5.6475e-06,\n",
      "         -5.6624e-06, -5.6773e-06, -5.6475e-06, -5.6773e-06, -5.6475e-06,\n",
      "         -5.6773e-06, -5.6773e-06, -5.6773e-06, -5.6475e-06, -5.6475e-06,\n",
      "         -5.6475e-06, -5.6773e-06, -5.6624e-06, -5.6326e-06, -5.6624e-06,\n",
      "         -5.6773e-06, -5.6475e-06, -5.6773e-06, -5.6773e-06, -5.6773e-06,\n",
      "         -5.6773e-06, -5.6326e-06, -5.6475e-06, -5.6475e-06, -5.6475e-06,\n",
      "         -5.6624e-06, -5.6475e-06, -5.6475e-06, -5.6475e-06, -5.6475e-06,\n",
      "         -5.7071e-06, -5.6922e-06, -5.6624e-06, -5.6475e-06, -5.6475e-06,\n",
      "         -5.6475e-06, -5.6773e-06, -5.6475e-06, -5.6475e-06, -5.6624e-06,\n",
      "         -5.6922e-06, -5.6475e-06, -5.6624e-06, -5.6475e-06, -5.6475e-06]],\n",
      "       device='cuda:0', grad_fn=<SelectBackward0>)\n"
     ]
    },
    {
     "name": "stderr",
     "output_type": "stream",
     "text": [
      "0.00000000:   4%|▍         | 4/100 [05:31<1:49:28, 68.43s/it]"
     ]
    },
    {
     "name": "stdout",
     "output_type": "stream",
     "text": [
      "tensor([1., 1.], device='cuda:0') tensor([[-1.1235e-05, -1.1250e-05, -1.1250e-05, -1.1235e-05, -1.1280e-05,\n",
      "         -1.1235e-05, -1.1250e-05, -1.1250e-05, -1.1235e-05, -1.1250e-05,\n",
      "         -1.1250e-05, -1.1250e-05, -1.1265e-05, -1.1250e-05, -1.1250e-05,\n",
      "         -1.1265e-05, -1.1250e-05, -1.1250e-05, -1.1250e-05, -1.1250e-05,\n",
      "         -1.1280e-05, -1.1250e-05, -1.1235e-05, -1.1235e-05, -1.1265e-05,\n",
      "         -1.1280e-05, -1.1250e-05, -1.1250e-05, -1.1235e-05, -1.1250e-05,\n",
      "         -1.1235e-05, -1.1280e-05, -1.1235e-05, -1.1265e-05, -1.1235e-05,\n",
      "         -1.1250e-05, -1.1280e-05, -1.1280e-05, -1.1235e-05, -1.1250e-05,\n",
      "         -1.1250e-05, -1.1235e-05, -1.1235e-05, -1.1235e-05, -1.1250e-05,\n",
      "         -1.1250e-05, -1.1235e-05, -1.1250e-05, -1.1250e-05, -1.1235e-05],\n",
      "        [-2.5928e-06, -2.5928e-06, -2.5928e-06, -2.5779e-06, -2.6077e-06,\n",
      "         -2.5928e-06, -2.5928e-06, -2.6077e-06, -2.5928e-06, -2.6226e-06,\n",
      "         -2.6226e-06, -2.6226e-06, -2.6226e-06, -2.5928e-06, -2.6226e-06,\n",
      "         -2.5779e-06, -2.6077e-06, -2.6077e-06, -2.6226e-06, -2.6226e-06,\n",
      "         -2.6077e-06, -2.5928e-06, -2.5779e-06, -2.5779e-06, -2.6077e-06,\n",
      "         -2.5928e-06, -2.6226e-06, -2.6077e-06, -2.5928e-06, -2.6226e-06,\n",
      "         -2.5928e-06, -2.6077e-06, -2.5779e-06, -2.5928e-06, -2.5779e-06,\n",
      "         -2.5779e-06, -2.6077e-06, -2.6077e-06, -2.5928e-06, -2.6226e-06,\n",
      "         -2.5779e-06, -2.6077e-06, -2.5779e-06, -2.5928e-06, -2.6226e-06,\n",
      "         -2.6226e-06, -2.5779e-06, -2.5779e-06, -2.5779e-06, -2.5779e-06]],\n",
      "       device='cuda:0', grad_fn=<SelectBackward0>)\n"
     ]
    },
    {
     "name": "stderr",
     "output_type": "stream",
     "text": [
      "0.00000000:   4%|▍         | 4/100 [05:32<1:49:28, 68.43s/it]"
     ]
    },
    {
     "name": "stdout",
     "output_type": "stream",
     "text": [
      "tensor([1., 1.], device='cuda:0') tensor([[-1.4499e-05, -1.4499e-05, -1.4499e-05, -1.4499e-05, -1.4514e-05,\n",
      "         -1.4499e-05, -1.4499e-05, -1.4499e-05, -1.4499e-05, -1.4514e-05,\n",
      "         -1.4499e-05, -1.4499e-05, -1.4514e-05, -1.4499e-05, -1.4514e-05,\n",
      "         -1.4484e-05, -1.4499e-05, -1.4499e-05, -1.4499e-05, -1.4499e-05,\n",
      "         -1.4499e-05, -1.4499e-05, -1.4499e-05, -1.4499e-05, -1.4499e-05,\n",
      "         -1.4499e-05, -1.4499e-05, -1.4499e-05, -1.4499e-05, -1.4499e-05,\n",
      "         -1.4499e-05, -1.4499e-05, -1.4499e-05, -1.4499e-05, -1.4499e-05,\n",
      "         -1.4514e-05, -1.4499e-05, -1.4484e-05, -1.4499e-05, -1.4514e-05,\n",
      "         -1.4514e-05, -1.4499e-05, -1.4499e-05, -1.4499e-05, -1.4499e-05,\n",
      "         -1.4499e-05, -1.4499e-05, -1.4499e-05, -1.4499e-05, -1.4499e-05],\n",
      "        [ 6.2585e-07,  6.1095e-07,  6.4075e-07,  6.7055e-07,  6.4075e-07,\n",
      "          6.1095e-07,  6.1095e-07,  6.2585e-07,  6.1095e-07,  6.4075e-07,\n",
      "          6.4075e-07,  6.2585e-07,  6.1095e-07,  6.2585e-07,  6.1095e-07,\n",
      "          6.2585e-07,  6.2585e-07,  6.1095e-07,  6.1095e-07,  6.2585e-07,\n",
      "          6.2585e-07,  6.2585e-07,  6.2585e-07,  6.1095e-07,  6.1095e-07,\n",
      "          6.2585e-07,  6.2585e-07,  6.2585e-07,  6.2585e-07,  6.1095e-07,\n",
      "          6.2585e-07,  6.2585e-07,  6.1095e-07,  6.2585e-07,  6.2585e-07,\n",
      "          6.4075e-07,  6.2585e-07,  6.2585e-07,  6.1095e-07,  6.4075e-07,\n",
      "          6.5565e-07,  6.1095e-07,  6.2585e-07,  6.1095e-07,  6.1095e-07,\n",
      "          6.2585e-07,  6.1095e-07,  6.2585e-07,  6.2585e-07,  6.2585e-07]],\n",
      "       device='cuda:0', grad_fn=<SelectBackward0>)\n"
     ]
    },
    {
     "name": "stderr",
     "output_type": "stream",
     "text": [
      "0.00000000:   4%|▍         | 4/100 [05:34<1:49:28, 68.43s/it]"
     ]
    },
    {
     "name": "stdout",
     "output_type": "stream",
     "text": [
      "tensor([1., 1.], device='cuda:0') tensor([[-1.4439e-05, -1.4409e-05, -1.4409e-05, -1.4409e-05, -1.4409e-05,\n",
      "         -1.4409e-05, -1.4395e-05, -1.4409e-05, -1.4395e-05, -1.4409e-05,\n",
      "         -1.4395e-05, -1.4395e-05, -1.4395e-05, -1.4380e-05, -1.4395e-05,\n",
      "         -1.4395e-05, -1.4395e-05, -1.4409e-05, -1.4409e-05, -1.4409e-05,\n",
      "         -1.4409e-05, -1.4409e-05, -1.4395e-05, -1.4439e-05, -1.4395e-05,\n",
      "         -1.4409e-05, -1.4409e-05, -1.4395e-05, -1.4409e-05, -1.4409e-05,\n",
      "         -1.4395e-05, -1.4409e-05, -1.4409e-05, -1.4395e-05, -1.4395e-05,\n",
      "         -1.4380e-05, -1.4409e-05, -1.4439e-05, -1.4395e-05, -1.4409e-05,\n",
      "         -1.4365e-05, -1.4395e-05, -1.4409e-05, -1.4409e-05, -1.4409e-05,\n",
      "         -1.4409e-05, -1.4380e-05, -1.4395e-05, -1.4409e-05, -1.4409e-05],\n",
      "        [ 3.5614e-06,  3.5614e-06,  3.6210e-06,  3.5614e-06,  3.5018e-06,\n",
      "          3.5316e-06,  3.5167e-06,  3.5018e-06,  3.5167e-06,  3.5316e-06,\n",
      "          3.5167e-06,  3.5167e-06,  3.5316e-06,  3.5167e-06,  3.5316e-06,\n",
      "          3.5167e-06,  3.5167e-06,  3.5465e-06,  3.5316e-06,  3.5614e-06,\n",
      "          3.5018e-06,  3.5614e-06,  3.5316e-06,  3.5614e-06,  3.5316e-06,\n",
      "          3.5614e-06,  3.5614e-06,  3.5167e-06,  3.5018e-06,  3.5614e-06,\n",
      "          3.5167e-06,  3.5316e-06,  3.5167e-06,  3.5316e-06,  3.5018e-06,\n",
      "          3.5316e-06,  3.5018e-06,  3.5614e-06,  3.5316e-06,  3.5018e-06,\n",
      "          3.5465e-06,  3.5167e-06,  3.5614e-06,  3.5614e-06,  3.5614e-06,\n",
      "          3.5167e-06,  3.5316e-06,  3.5316e-06,  3.5316e-06,  3.5614e-06]],\n",
      "       device='cuda:0', grad_fn=<SelectBackward0>)\n"
     ]
    },
    {
     "name": "stderr",
     "output_type": "stream",
     "text": [
      "0.00000000:   4%|▍         | 4/100 [05:35<1:49:28, 68.43s/it]"
     ]
    },
    {
     "name": "stdout",
     "output_type": "stream",
     "text": [
      "tensor([1., 1.], device='cuda:0') tensor([[-1.1340e-05, -1.1340e-05, -1.1399e-05, -1.1384e-05, -1.1384e-05,\n",
      "         -1.1399e-05, -1.1384e-05, -1.1370e-05, -1.1399e-05, -1.1370e-05,\n",
      "         -1.1384e-05, -1.1399e-05, -1.1370e-05, -1.1370e-05, -1.1399e-05,\n",
      "         -1.1370e-05, -1.1399e-05, -1.1384e-05, -1.1399e-05, -1.1399e-05,\n",
      "         -1.1399e-05, -1.1340e-05, -1.1370e-05, -1.1414e-05, -1.1399e-05,\n",
      "         -1.1370e-05, -1.1384e-05, -1.1399e-05, -1.1370e-05, -1.1370e-05,\n",
      "         -1.1399e-05, -1.1384e-05, -1.1370e-05, -1.1370e-05, -1.1340e-05,\n",
      "         -1.1370e-05, -1.1370e-05, -1.1370e-05, -1.1384e-05, -1.1384e-05,\n",
      "         -1.1370e-05, -1.1384e-05, -1.1399e-05, -1.1370e-05, -1.1399e-05,\n",
      "         -1.1370e-05, -1.1370e-05, -1.1370e-05, -1.1384e-05, -1.1384e-05],\n",
      "        [ 5.6922e-06,  5.7071e-06,  5.7071e-06,  5.7071e-06,  5.6922e-06,\n",
      "          5.6773e-06,  5.6773e-06,  5.6922e-06,  5.6922e-06,  5.6922e-06,\n",
      "          5.6773e-06,  5.7220e-06,  5.6922e-06,  5.6922e-06,  5.7071e-06,\n",
      "          5.6922e-06,  5.7071e-06,  5.6773e-06,  5.7071e-06,  5.7220e-06,\n",
      "          5.7071e-06,  5.6922e-06,  5.6922e-06,  5.6922e-06,  5.7071e-06,\n",
      "          5.6922e-06,  5.6922e-06,  5.7220e-06,  5.6922e-06,  5.7071e-06,\n",
      "          5.7071e-06,  5.6922e-06,  5.6922e-06,  5.6922e-06,  5.7369e-06,\n",
      "          5.7071e-06,  5.7220e-06,  5.7071e-06,  5.7071e-06,  5.6922e-06,\n",
      "          5.6773e-06,  5.6922e-06,  5.7071e-06,  5.6922e-06,  5.7071e-06,\n",
      "          5.7071e-06,  5.6773e-06,  5.6922e-06,  5.6922e-06,  5.6922e-06]],\n",
      "       device='cuda:0', grad_fn=<SelectBackward0>)\n"
     ]
    },
    {
     "name": "stderr",
     "output_type": "stream",
     "text": [
      "0.00000000:   4%|▍         | 4/100 [05:36<1:49:28, 68.43s/it]"
     ]
    },
    {
     "name": "stdout",
     "output_type": "stream",
     "text": [
      "tensor([1., 1.], device='cuda:0') tensor([[ 6.8396e-06,  6.8396e-06,  6.8247e-06,  6.8545e-06,  6.8098e-06,\n",
      "          6.8694e-06,  6.8843e-06,  6.8545e-06,  6.8694e-06,  6.8098e-06,\n",
      "          6.8098e-06,  6.8396e-06,  6.8098e-06,  6.8247e-06,  6.8396e-06,\n",
      "          6.8098e-06,  6.8247e-06,  6.8247e-06,  6.8545e-06,  6.8545e-06,\n",
      "          6.7949e-06,  6.8396e-06,  6.8694e-06,  6.8694e-06,  6.8396e-06,\n",
      "          6.8545e-06,  6.8396e-06,  6.8396e-06,  6.8694e-06,  6.8247e-06,\n",
      "          6.8396e-06,  6.8098e-06,  6.8396e-06,  6.8545e-06,  6.8545e-06,\n",
      "          6.8545e-06,  6.8247e-06,  6.8098e-06,  6.8247e-06,  6.8545e-06,\n",
      "          6.8843e-06,  6.8098e-06,  6.8545e-06,  6.8396e-06,  6.8098e-06,\n",
      "          6.8694e-06,  6.8992e-06,  6.8545e-06,  6.8545e-06,  6.8098e-06],\n",
      "        [-6.3181e-06, -6.3479e-06, -6.3181e-06, -6.3181e-06, -6.2883e-06,\n",
      "         -6.3330e-06, -6.3032e-06, -6.3032e-06, -6.2883e-06, -6.3330e-06,\n",
      "         -6.3181e-06, -6.2883e-06, -6.2883e-06, -6.2883e-06, -6.3479e-06,\n",
      "         -6.2883e-06, -6.2883e-06, -6.3181e-06, -6.2585e-06, -6.3181e-06,\n",
      "         -6.3181e-06, -6.3181e-06, -6.2883e-06, -6.3628e-06, -6.2734e-06,\n",
      "         -6.2585e-06, -6.2883e-06, -6.3777e-06, -6.3181e-06, -6.2585e-06,\n",
      "         -6.3181e-06, -6.2883e-06, -6.3181e-06, -6.3032e-06, -6.2883e-06,\n",
      "         -6.2883e-06, -6.3181e-06, -6.2883e-06, -6.2883e-06, -6.3181e-06,\n",
      "         -6.2883e-06, -6.3032e-06, -6.2734e-06, -6.2883e-06, -6.2585e-06,\n",
      "         -6.2883e-06, -6.3181e-06, -6.2585e-06, -6.2883e-06, -6.3777e-06]],\n",
      "       device='cuda:0', grad_fn=<SelectBackward0>)\n"
     ]
    },
    {
     "name": "stderr",
     "output_type": "stream",
     "text": [
      "0.00000000:   4%|▍         | 4/100 [05:38<1:49:28, 68.43s/it]"
     ]
    },
    {
     "name": "stdout",
     "output_type": "stream",
     "text": [
      "tensor([1., 1.], device='cuda:0') tensor([[ 6.7949e-06,  6.7651e-06,  6.7800e-06,  6.7800e-06,  6.7651e-06,\n",
      "          6.7949e-06,  6.7949e-06,  6.7651e-06,  6.7651e-06,  6.7651e-06,\n",
      "          6.7949e-06,  6.7651e-06,  6.7651e-06,  6.7800e-06,  6.7949e-06,\n",
      "          6.7949e-06,  6.7800e-06,  6.7502e-06,  6.7651e-06,  6.7651e-06,\n",
      "          6.7800e-06,  6.7800e-06,  6.7949e-06,  6.7651e-06,  6.7651e-06,\n",
      "          6.7651e-06,  6.7651e-06,  6.7949e-06,  6.7651e-06,  6.7949e-06,\n",
      "          6.7651e-06,  6.7651e-06,  6.7651e-06,  6.7651e-06,  6.7651e-06,\n",
      "          6.7800e-06,  6.7949e-06,  6.7651e-06,  6.7949e-06,  6.7651e-06,\n",
      "          6.7949e-06,  6.7651e-06,  6.7800e-06,  6.7651e-06,  6.7800e-06,\n",
      "          6.7502e-06,  6.7651e-06,  6.7949e-06,  6.7800e-06,  6.7800e-06],\n",
      "        [-5.2154e-07, -5.2154e-07, -4.9174e-07, -5.0664e-07, -5.2154e-07,\n",
      "         -5.2154e-07, -5.2154e-07, -5.2154e-07, -5.5134e-07, -5.2154e-07,\n",
      "         -5.3644e-07, -5.5134e-07, -5.2154e-07, -5.0664e-07, -5.0664e-07,\n",
      "         -5.2154e-07, -5.2154e-07, -5.0664e-07, -5.2154e-07, -5.5134e-07,\n",
      "         -4.9174e-07, -5.5134e-07, -5.2154e-07, -5.5134e-07, -5.2154e-07,\n",
      "         -5.2154e-07, -5.5134e-07, -5.3644e-07, -5.2154e-07, -5.2154e-07,\n",
      "         -5.5134e-07, -5.5134e-07, -5.2154e-07, -5.2154e-07, -5.5134e-07,\n",
      "         -4.9174e-07, -5.2154e-07, -5.2154e-07, -5.3644e-07, -5.5134e-07,\n",
      "         -5.2154e-07, -5.2154e-07, -5.0664e-07, -5.2154e-07, -5.3644e-07,\n",
      "         -5.0664e-07, -5.2154e-07, -5.3644e-07, -5.0664e-07, -5.2154e-07]],\n",
      "       device='cuda:0', grad_fn=<SelectBackward0>)\n"
     ]
    },
    {
     "name": "stderr",
     "output_type": "stream",
     "text": [
      "0.00000000:   4%|▍         | 4/100 [05:39<1:49:28, 68.43s/it]"
     ]
    },
    {
     "name": "stdout",
     "output_type": "stream",
     "text": [
      "tensor([1., 1.], device='cuda:0') tensor([[5.6922e-06, 5.6773e-06, 5.6773e-06, 5.7071e-06, 5.6922e-06, 5.6922e-06,\n",
      "         5.7220e-06, 5.6922e-06, 5.6922e-06, 5.6922e-06, 5.7071e-06, 5.6922e-06,\n",
      "         5.6922e-06, 5.7071e-06, 5.7071e-06, 5.7071e-06, 5.7071e-06, 5.6922e-06,\n",
      "         5.7071e-06, 5.7071e-06, 5.7071e-06, 5.7071e-06, 5.7071e-06, 5.6922e-06,\n",
      "         5.6922e-06, 5.7071e-06, 5.6922e-06, 5.6922e-06, 5.6922e-06, 5.7220e-06,\n",
      "         5.7071e-06, 5.7369e-06, 5.6773e-06, 5.7071e-06, 5.6922e-06, 5.6922e-06,\n",
      "         5.6922e-06, 5.7071e-06, 5.6922e-06, 5.6922e-06, 5.6922e-06, 5.7071e-06,\n",
      "         5.6773e-06, 5.6922e-06, 5.6922e-06, 5.7220e-06, 5.6922e-06, 5.7071e-06,\n",
      "         5.6922e-06, 5.7071e-06],\n",
      "        [4.7833e-06, 4.7535e-06, 4.7535e-06, 4.7833e-06, 4.7982e-06, 4.7833e-06,\n",
      "         4.7684e-06, 4.7833e-06, 4.8131e-06, 4.7833e-06, 4.7833e-06, 4.7833e-06,\n",
      "         4.7833e-06, 4.7535e-06, 4.7833e-06, 4.7684e-06, 4.7684e-06, 4.7833e-06,\n",
      "         4.7684e-06, 4.7684e-06, 4.7684e-06, 4.7833e-06, 4.7684e-06, 4.7833e-06,\n",
      "         4.7982e-06, 4.7684e-06, 4.7833e-06, 4.7833e-06, 4.7833e-06, 4.7833e-06,\n",
      "         4.7833e-06, 4.7833e-06, 4.7535e-06, 4.7684e-06, 4.7833e-06, 4.7833e-06,\n",
      "         4.8131e-06, 4.7684e-06, 4.7833e-06, 4.7535e-06, 4.7833e-06, 4.7833e-06,\n",
      "         4.7833e-06, 4.7833e-06, 4.7833e-06, 4.7982e-06, 4.7833e-06, 4.7684e-06,\n",
      "         4.8131e-06, 4.7684e-06]], device='cuda:0', grad_fn=<SelectBackward0>)\n"
     ]
    },
    {
     "name": "stderr",
     "output_type": "stream",
     "text": [
      "0.00000000:   4%|▍         | 4/100 [05:40<1:49:28, 68.43s/it]"
     ]
    },
    {
     "name": "stdout",
     "output_type": "stream",
     "text": [
      "tensor([1., 1.], device='cuda:0') tensor([[8.5682e-06, 8.5682e-06, 8.5384e-06, 8.5682e-06, 8.5682e-06, 8.5682e-06,\n",
      "         8.5682e-06, 8.5682e-06, 8.5682e-06, 8.5682e-06, 8.5384e-06, 8.5682e-06,\n",
      "         8.5682e-06, 8.5682e-06, 8.5682e-06, 8.5682e-06, 8.5682e-06, 8.5682e-06,\n",
      "         8.5682e-06, 8.5682e-06, 8.5682e-06, 8.5682e-06, 8.5682e-06, 8.5682e-06,\n",
      "         8.5682e-06, 8.5682e-06, 8.5682e-06, 8.5682e-06, 8.5682e-06, 8.5682e-06,\n",
      "         8.5682e-06, 8.5682e-06, 8.5682e-06, 8.5682e-06, 8.5682e-06, 8.5682e-06,\n",
      "         8.5682e-06, 8.5682e-06, 8.5682e-06, 8.5682e-06, 8.5682e-06, 8.5682e-06,\n",
      "         8.5533e-06, 8.5682e-06, 8.5682e-06, 8.5682e-06, 8.5682e-06, 8.5682e-06,\n",
      "         8.5682e-06, 8.5682e-06],\n",
      "        [3.7700e-06, 3.7700e-06, 3.7849e-06, 3.7700e-06, 3.7849e-06, 3.7700e-06,\n",
      "         3.7700e-06, 3.7700e-06, 3.7700e-06, 3.7700e-06, 3.7998e-06, 3.7700e-06,\n",
      "         3.7700e-06, 3.7849e-06, 3.7700e-06, 3.7700e-06, 3.7700e-06, 3.7700e-06,\n",
      "         3.7700e-06, 3.7700e-06, 3.7849e-06, 3.7700e-06, 3.7700e-06, 3.7700e-06,\n",
      "         3.7700e-06, 3.7700e-06, 3.7700e-06, 3.7849e-06, 3.7700e-06, 3.7700e-06,\n",
      "         3.7700e-06, 3.7700e-06, 3.7700e-06, 3.7700e-06, 3.7849e-06, 3.7700e-06,\n",
      "         3.7849e-06, 3.7700e-06, 3.7700e-06, 3.7700e-06, 3.7849e-06, 3.7700e-06,\n",
      "         3.7700e-06, 3.7700e-06, 3.7849e-06, 3.7700e-06, 3.7700e-06, 3.7700e-06,\n",
      "         3.7700e-06, 3.7700e-06]], device='cuda:0', grad_fn=<SelectBackward0>)\n"
     ]
    },
    {
     "name": "stderr",
     "output_type": "stream",
     "text": [
      "0.00000000:   5%|▌         | 5/100 [05:42<1:47:23, 67.82s/it]"
     ]
    },
    {
     "name": "stdout",
     "output_type": "stream",
     "text": [
      "tensor([1., 1.], device='cuda:0') tensor([[1.3709e-06, 1.4007e-06, 1.3709e-06, 1.3709e-06, 1.3858e-06, 1.3858e-06,\n",
      "         1.4007e-06, 1.4156e-06, 1.3858e-06, 1.3858e-06, 1.4007e-06, 1.3709e-06,\n",
      "         1.4007e-06, 1.3858e-06, 1.3858e-06, 1.4007e-06, 1.3709e-06, 1.3858e-06,\n",
      "         1.3858e-06, 1.3709e-06, 1.3858e-06, 1.4007e-06, 1.3709e-06, 1.3709e-06,\n",
      "         1.4007e-06, 1.3858e-06, 1.3858e-06, 1.4007e-06, 1.3709e-06, 1.3858e-06,\n",
      "         1.3858e-06, 1.4007e-06, 1.3709e-06, 1.3709e-06, 1.3709e-06, 1.3709e-06,\n",
      "         1.3858e-06, 1.3858e-06, 1.3858e-06, 1.4007e-06, 1.3858e-06, 1.4007e-06,\n",
      "         1.4305e-06, 1.4007e-06, 1.3709e-06, 1.3858e-06, 1.4007e-06, 1.4007e-06,\n",
      "         1.4305e-06, 1.3858e-06],\n",
      "        [1.0163e-05, 1.0103e-05, 1.0163e-05, 1.0163e-05, 1.0103e-05, 1.0103e-05,\n",
      "         1.0103e-05, 1.0103e-05, 1.0103e-05, 1.0103e-05, 1.0103e-05, 1.0163e-05,\n",
      "         1.0103e-05, 1.0103e-05, 1.0103e-05, 1.0088e-05, 1.0073e-05, 1.0103e-05,\n",
      "         1.0103e-05, 1.0163e-05, 1.0103e-05, 1.0103e-05, 1.0103e-05, 1.0163e-05,\n",
      "         1.0103e-05, 1.0163e-05, 1.0103e-05, 1.0103e-05, 1.0163e-05, 1.0103e-05,\n",
      "         1.0103e-05, 1.0103e-05, 1.0163e-05, 1.0163e-05, 1.0163e-05, 1.0133e-05,\n",
      "         1.0163e-05, 1.0103e-05, 1.0103e-05, 1.0177e-05, 1.0103e-05, 1.0133e-05,\n",
      "         1.0163e-05, 1.0103e-05, 1.0163e-05, 1.0103e-05, 1.0133e-05, 1.0103e-05,\n",
      "         1.0163e-05, 1.0103e-05]], device='cuda:0', grad_fn=<SelectBackward0>)\n"
     ]
    },
    {
     "name": "stderr",
     "output_type": "stream",
     "text": [
      "0.00000000:   5%|▌         | 5/100 [05:43<1:47:23, 67.82s/it]"
     ]
    },
    {
     "name": "stdout",
     "output_type": "stream",
     "text": [
      "tensor([1., 1.], device='cuda:0') tensor([[-1.0431e-06, -1.0729e-06, -1.0580e-06, -1.0580e-06, -1.0729e-06,\n",
      "         -1.0580e-06, -1.0580e-06, -1.0431e-06, -1.0431e-06, -1.0729e-06,\n",
      "         -1.0729e-06, -1.0580e-06, -1.0580e-06, -1.0729e-06, -1.0431e-06,\n",
      "         -1.0729e-06, -1.0729e-06, -1.0729e-06, -1.0729e-06, -1.0729e-06,\n",
      "         -1.0580e-06, -1.0580e-06, -1.0729e-06, -1.0729e-06, -1.0729e-06,\n",
      "         -1.0580e-06, -1.0729e-06, -1.0431e-06, -1.0580e-06, -1.0431e-06,\n",
      "         -1.0729e-06, -1.0580e-06, -1.0580e-06, -1.0580e-06, -1.0729e-06,\n",
      "         -1.0431e-06, -1.0729e-06, -1.0431e-06, -1.0580e-06, -1.0729e-06,\n",
      "         -1.0580e-06, -1.0729e-06, -1.0431e-06, -1.0729e-06, -1.0729e-06,\n",
      "         -1.0431e-06, -1.0729e-06, -1.0282e-06, -1.0431e-06, -1.0729e-06],\n",
      "        [ 9.4622e-06,  9.4473e-06,  9.3877e-06,  9.4175e-06,  9.4473e-06,\n",
      "          9.4026e-06,  9.4175e-06,  9.4622e-06,  9.4622e-06,  9.4473e-06,\n",
      "          9.4473e-06,  9.4175e-06,  9.4324e-06,  9.4026e-06,  9.4324e-06,\n",
      "          9.4026e-06,  9.4473e-06,  9.4473e-06,  9.4473e-06,  9.4473e-06,\n",
      "          9.4324e-06,  9.4026e-06,  9.4175e-06,  9.4473e-06,  9.4473e-06,\n",
      "          9.4175e-06,  9.4026e-06,  9.4622e-06,  9.4324e-06,  9.4324e-06,\n",
      "          9.4473e-06,  9.4026e-06,  9.4026e-06,  9.4026e-06,  9.4473e-06,\n",
      "          9.4622e-06,  9.4473e-06,  9.4771e-06,  9.4473e-06,  9.4026e-06,\n",
      "          9.4175e-06,  9.4473e-06,  9.4622e-06,  9.4473e-06,  9.4473e-06,\n",
      "          9.4175e-06,  9.4473e-06,  9.4473e-06,  9.4771e-06,  9.4622e-06]],\n",
      "       device='cuda:0', grad_fn=<SelectBackward0>)\n"
     ]
    },
    {
     "name": "stderr",
     "output_type": "stream",
     "text": [
      "0.00000000:   5%|▌         | 5/100 [05:45<1:47:23, 67.82s/it]"
     ]
    },
    {
     "name": "stdout",
     "output_type": "stream",
     "text": [
      "tensor([1., 1.], device='cuda:0') tensor([[ 6.8247e-06,  6.8098e-06,  6.8396e-06,  6.8396e-06,  6.8247e-06,\n",
      "          6.8247e-06,  6.8396e-06,  6.8247e-06,  6.7800e-06,  6.8098e-06,\n",
      "          6.8098e-06,  6.8396e-06,  6.8396e-06,  6.7949e-06,  6.8396e-06,\n",
      "          6.8396e-06,  6.8098e-06,  6.7949e-06,  6.8396e-06,  6.8247e-06,\n",
      "          6.8396e-06,  6.8396e-06,  6.8098e-06,  6.8545e-06,  6.8694e-06,\n",
      "          6.8545e-06,  6.8098e-06,  6.8396e-06,  6.8694e-06,  6.8396e-06,\n",
      "          6.8694e-06,  6.8247e-06,  6.8396e-06,  6.8396e-06,  6.8545e-06,\n",
      "          6.8098e-06,  6.7949e-06,  6.8098e-06,  6.8396e-06,  6.8247e-06,\n",
      "          6.8098e-06,  6.7800e-06,  6.8396e-06,  6.8098e-06,  6.8247e-06,\n",
      "          6.8247e-06,  6.8396e-06,  6.8396e-06,  6.8545e-06,  6.8396e-06],\n",
      "        [-3.1292e-06, -3.1441e-06, -3.1292e-06, -3.1292e-06, -3.1441e-06,\n",
      "         -3.1441e-06, -3.1441e-06, -3.1143e-06, -3.1292e-06, -3.1292e-06,\n",
      "         -3.1441e-06, -3.1292e-06, -3.1143e-06, -3.1292e-06, -3.1143e-06,\n",
      "         -3.1292e-06, -3.1739e-06, -3.1292e-06, -3.1143e-06, -3.1143e-06,\n",
      "         -3.0994e-06, -3.1590e-06, -3.1441e-06, -3.1441e-06, -3.1441e-06,\n",
      "         -3.1292e-06, -3.1292e-06, -3.1292e-06, -3.1292e-06, -3.1441e-06,\n",
      "         -3.0994e-06, -3.1143e-06, -3.1292e-06, -3.1292e-06, -3.1441e-06,\n",
      "         -3.1143e-06, -3.1292e-06, -3.1441e-06, -3.1292e-06, -3.0994e-06,\n",
      "         -3.1739e-06, -3.1441e-06, -3.1292e-06, -3.1292e-06, -3.1292e-06,\n",
      "         -3.1441e-06, -3.1292e-06, -3.1292e-06, -3.1441e-06, -3.1441e-06]],\n",
      "       device='cuda:0', grad_fn=<SelectBackward0>)\n"
     ]
    },
    {
     "name": "stderr",
     "output_type": "stream",
     "text": [
      "0.00000000:   5%|▌         | 5/100 [05:46<1:47:23, 67.82s/it]"
     ]
    },
    {
     "name": "stdout",
     "output_type": "stream",
     "text": [
      "tensor([1., 1.], device='cuda:0') tensor([[ 3.0845e-06,  3.0845e-06,  3.0845e-06,  3.0845e-06,  3.0845e-06,\n",
      "          3.0994e-06,  3.0845e-06,  3.0845e-06,  3.0994e-06,  3.0696e-06,\n",
      "          3.0696e-06,  3.0845e-06,  3.0696e-06,  3.0845e-06,  3.0696e-06,\n",
      "          3.0696e-06,  3.0845e-06,  3.0845e-06,  3.0845e-06,  3.0994e-06,\n",
      "          3.0696e-06,  3.0845e-06,  3.0845e-06,  3.0845e-06,  3.0845e-06,\n",
      "          3.0845e-06,  3.0845e-06,  3.0845e-06,  3.0398e-06,  3.0696e-06,\n",
      "          3.0696e-06,  3.0696e-06,  3.0994e-06,  3.0845e-06,  3.0845e-06,\n",
      "          3.0696e-06,  3.0845e-06,  3.0845e-06,  3.0845e-06,  3.0845e-06,\n",
      "          3.0845e-06,  3.0696e-06,  3.0845e-06,  3.0696e-06,  3.0845e-06,\n",
      "          3.0845e-06,  3.0845e-06,  3.0696e-06,  3.0845e-06,  3.0845e-06],\n",
      "        [-4.5747e-06, -4.5747e-06, -4.5747e-06, -4.5598e-06, -4.5598e-06,\n",
      "         -4.5747e-06, -4.5598e-06, -4.5598e-06, -4.5598e-06, -4.5598e-06,\n",
      "         -4.5598e-06, -4.5598e-06, -4.5598e-06, -4.5598e-06, -4.5747e-06,\n",
      "         -4.5747e-06, -4.5747e-06, -4.5747e-06, -4.5747e-06, -4.5747e-06,\n",
      "         -4.5747e-06, -4.5598e-06, -4.5598e-06, -4.5598e-06, -4.5747e-06,\n",
      "         -4.5747e-06, -4.5598e-06, -4.5598e-06, -4.5598e-06, -4.5598e-06,\n",
      "         -4.5598e-06, -4.5598e-06, -4.5896e-06, -4.5598e-06, -4.5747e-06,\n",
      "         -4.5747e-06, -4.5747e-06, -4.5598e-06, -4.5747e-06, -4.5747e-06,\n",
      "         -4.5747e-06, -4.5598e-06, -4.5598e-06, -4.5598e-06, -4.5598e-06,\n",
      "         -4.5747e-06, -4.5747e-06, -4.5598e-06, -4.5598e-06, -4.5598e-06]],\n",
      "       device='cuda:0', grad_fn=<SelectBackward0>)\n"
     ]
    },
    {
     "name": "stderr",
     "output_type": "stream",
     "text": [
      "0.00000000:   5%|▌         | 5/100 [05:48<1:47:23, 67.82s/it]"
     ]
    },
    {
     "name": "stdout",
     "output_type": "stream",
     "text": [
      "tensor([1., 1.], device='cuda:0') tensor([[-5.1856e-06, -5.1409e-06, -5.1409e-06, -5.1558e-06, -5.1260e-06,\n",
      "         -5.1707e-06, -5.1856e-06, -5.1707e-06, -5.1558e-06, -5.1707e-06,\n",
      "         -5.1856e-06, -5.1260e-06, -5.1856e-06, -5.1260e-06, -5.1260e-06,\n",
      "         -5.1260e-06, -5.1856e-06, -5.1856e-06, -5.1260e-06, -5.1856e-06,\n",
      "         -5.1856e-06, -5.1409e-06, -5.1260e-06, -5.1260e-06, -5.1260e-06,\n",
      "         -5.1856e-06, -5.1707e-06, -5.1260e-06, -5.1856e-06, -5.1260e-06,\n",
      "         -5.1260e-06, -5.1260e-06, -5.1707e-06, -5.1707e-06, -5.1856e-06,\n",
      "         -5.1707e-06, -5.1558e-06, -5.1409e-06, -5.1260e-06, -5.1856e-06,\n",
      "         -5.1260e-06, -5.1260e-06, -5.1856e-06, -5.1707e-06, -5.1260e-06,\n",
      "         -5.1856e-06, -5.1409e-06, -5.1260e-06, -5.2005e-06, -5.1260e-06],\n",
      "        [-9.8348e-07, -9.8348e-07, -9.2387e-07, -9.5367e-07, -9.8348e-07,\n",
      "         -9.5367e-07, -9.3877e-07, -9.5367e-07, -9.2387e-07, -9.3877e-07,\n",
      "         -9.5367e-07, -9.5367e-07, -9.3877e-07, -9.8348e-07, -9.2387e-07,\n",
      "         -9.6858e-07, -9.5367e-07, -9.8348e-07, -9.5367e-07, -9.5367e-07,\n",
      "         -9.5367e-07, -9.5367e-07, -9.5367e-07, -9.5367e-07, -9.6858e-07,\n",
      "         -9.3877e-07, -9.2387e-07, -9.5367e-07, -9.5367e-07, -9.5367e-07,\n",
      "         -9.8348e-07, -9.5367e-07, -9.5367e-07, -9.5367e-07, -9.2387e-07,\n",
      "         -9.2387e-07, -9.3877e-07, -9.3877e-07, -9.5367e-07, -9.5367e-07,\n",
      "         -9.5367e-07, -9.8348e-07, -9.3877e-07, -9.5367e-07, -9.5367e-07,\n",
      "         -9.5367e-07, -9.5367e-07, -9.5367e-07, -9.5367e-07, -9.5367e-07]],\n",
      "       device='cuda:0', grad_fn=<SelectBackward0>)\n"
     ]
    },
    {
     "name": "stderr",
     "output_type": "stream",
     "text": [
      "0.00000000:   5%|▌         | 5/100 [05:49<1:47:23, 67.82s/it]"
     ]
    },
    {
     "name": "stdout",
     "output_type": "stream",
     "text": [
      "tensor([1., 1.], device='cuda:0') tensor([[-4.3511e-06, -4.3213e-06, -4.3064e-06, -4.3213e-06, -4.2766e-06,\n",
      "         -4.3213e-06, -4.3213e-06, -4.3064e-06, -4.3511e-06, -4.3511e-06,\n",
      "         -4.3213e-06, -4.3213e-06, -4.3213e-06, -4.3511e-06, -4.2766e-06,\n",
      "         -4.3362e-06, -4.3511e-06, -4.3213e-06, -4.3511e-06, -4.3213e-06,\n",
      "         -4.3213e-06, -4.3213e-06, -4.3213e-06, -4.3213e-06, -4.3213e-06,\n",
      "         -4.3064e-06, -4.3362e-06, -4.3362e-06, -4.3511e-06, -4.3213e-06,\n",
      "         -4.3213e-06, -4.3064e-06, -4.3213e-06, -4.3213e-06, -4.3213e-06,\n",
      "         -4.3511e-06, -4.3064e-06, -4.3362e-06, -4.3511e-06, -4.3064e-06,\n",
      "         -4.3511e-06, -4.3511e-06, -4.3064e-06, -4.3064e-06, -4.3511e-06,\n",
      "         -4.3064e-06, -4.3213e-06, -4.3511e-06, -4.3213e-06, -4.3213e-06],\n",
      "        [-4.8727e-06, -4.8578e-06, -4.8578e-06, -4.8578e-06, -4.8429e-06,\n",
      "         -4.8578e-06, -4.8578e-06, -4.8727e-06, -4.8727e-06, -4.8727e-06,\n",
      "         -4.8727e-06, -4.8578e-06, -4.8578e-06, -4.8727e-06, -4.8727e-06,\n",
      "         -4.8727e-06, -4.8727e-06, -4.8578e-06, -4.8727e-06, -4.8727e-06,\n",
      "         -4.8578e-06, -4.8727e-06, -4.8727e-06, -4.8578e-06, -4.8429e-06,\n",
      "         -4.8578e-06, -4.8429e-06, -4.8727e-06, -4.8727e-06, -4.8578e-06,\n",
      "         -4.8578e-06, -4.8429e-06, -4.8727e-06, -4.8578e-06, -4.8578e-06,\n",
      "         -4.8727e-06, -4.8429e-06, -4.8429e-06, -4.8727e-06, -4.8578e-06,\n",
      "         -4.8727e-06, -4.8727e-06, -4.8429e-06, -4.8429e-06, -4.8280e-06,\n",
      "         -4.8429e-06, -4.8727e-06, -4.8727e-06, -4.8578e-06, -4.8578e-06]],\n",
      "       device='cuda:0', grad_fn=<SelectBackward0>)\n"
     ]
    },
    {
     "name": "stderr",
     "output_type": "stream",
     "text": [
      "0.00000000:   5%|▌         | 5/100 [05:51<1:47:23, 67.82s/it]"
     ]
    },
    {
     "name": "stdout",
     "output_type": "stream",
     "text": [
      "tensor([1., 1.], device='cuda:0') tensor([[-3.7402e-06, -3.7402e-06, -3.7402e-06, -3.7551e-06, -3.7700e-06,\n",
      "         -3.7402e-06, -3.7849e-06, -3.7402e-06, -3.7402e-06, -3.7402e-06,\n",
      "         -3.7700e-06, -3.7402e-06, -3.7402e-06, -3.7402e-06, -3.7849e-06,\n",
      "         -3.7551e-06, -3.7402e-06, -3.7551e-06, -3.7402e-06, -3.7402e-06,\n",
      "         -3.7551e-06, -3.7849e-06, -3.7402e-06, -3.7402e-06, -3.7402e-06,\n",
      "         -3.7551e-06, -3.7551e-06, -3.7402e-06, -3.7849e-06, -3.7402e-06,\n",
      "         -3.7402e-06, -3.7402e-06, -3.7551e-06, -3.7402e-06, -3.7700e-06,\n",
      "         -3.7849e-06, -3.7700e-06, -3.7402e-06, -3.7402e-06, -3.7402e-06,\n",
      "         -3.7402e-06, -3.7402e-06, -3.7551e-06, -3.7402e-06, -3.7402e-06,\n",
      "         -3.7402e-06, -3.7402e-06, -3.7551e-06, -3.7402e-06, -3.7402e-06],\n",
      "        [-6.4522e-06, -6.4224e-06, -6.4224e-06, -6.4075e-06, -6.4522e-06,\n",
      "         -6.4224e-06, -6.4224e-06, -6.4224e-06, -6.4224e-06, -6.4224e-06,\n",
      "         -6.4075e-06, -6.4224e-06, -6.4224e-06, -6.4224e-06, -6.4224e-06,\n",
      "         -6.4075e-06, -6.4224e-06, -6.4075e-06, -6.4224e-06, -6.4224e-06,\n",
      "         -6.4224e-06, -6.4224e-06, -6.4224e-06, -6.4224e-06, -6.4224e-06,\n",
      "         -6.3926e-06, -6.4522e-06, -6.4224e-06, -6.4224e-06, -6.4224e-06,\n",
      "         -6.4224e-06, -6.4224e-06, -6.4522e-06, -6.4224e-06, -6.4373e-06,\n",
      "         -6.4522e-06, -6.4075e-06, -6.4224e-06, -6.4224e-06, -6.4224e-06,\n",
      "         -6.4224e-06, -6.4373e-06, -6.4224e-06, -6.4224e-06, -6.4224e-06,\n",
      "         -6.4224e-06, -6.4224e-06, -6.3926e-06, -6.4224e-06, -6.4224e-06]],\n",
      "       device='cuda:0', grad_fn=<SelectBackward0>)\n"
     ]
    },
    {
     "name": "stderr",
     "output_type": "stream",
     "text": [
      "0.00000000:   5%|▌         | 5/100 [05:52<1:47:23, 67.82s/it]"
     ]
    },
    {
     "name": "stdout",
     "output_type": "stream",
     "text": [
      "tensor([1., 1.], device='cuda:0') tensor([[-2.1458e-06, -2.1011e-06, -2.1458e-06, -2.1309e-06, -2.1011e-06,\n",
      "         -2.1458e-06, -2.1458e-06, -2.1309e-06, -2.1309e-06, -2.1458e-06,\n",
      "         -2.1160e-06, -2.1160e-06, -2.1458e-06, -2.1309e-06, -2.1309e-06,\n",
      "         -2.1011e-06, -2.1309e-06, -2.1309e-06, -2.1309e-06, -2.1309e-06,\n",
      "         -2.1309e-06, -2.1309e-06, -2.1309e-06, -2.1458e-06, -2.1458e-06,\n",
      "         -2.1160e-06, -2.1458e-06, -2.1458e-06, -2.1309e-06, -2.1458e-06,\n",
      "         -2.1011e-06, -2.1309e-06, -2.1309e-06, -2.1160e-06, -2.1160e-06,\n",
      "         -2.1011e-06, -2.1011e-06, -2.1309e-06, -2.1309e-06, -2.1458e-06,\n",
      "         -2.1309e-06, -2.1160e-06, -2.0862e-06, -2.1309e-06, -2.1011e-06,\n",
      "         -2.1160e-06, -2.1160e-06, -2.1160e-06, -2.1160e-06, -2.1309e-06],\n",
      "        [-6.9141e-06, -6.9141e-06, -6.9290e-06, -6.9439e-06, -6.9290e-06,\n",
      "         -6.9439e-06, -6.9141e-06, -6.9588e-06, -6.9737e-06, -6.9141e-06,\n",
      "         -6.9141e-06, -6.9141e-06, -6.9439e-06, -6.9588e-06, -6.9439e-06,\n",
      "         -6.9439e-06, -7.0035e-06, -6.9588e-06, -6.9439e-06, -6.9737e-06,\n",
      "         -7.0035e-06, -6.9439e-06, -6.9439e-06, -6.9141e-06, -6.9886e-06,\n",
      "         -6.9439e-06, -6.9439e-06, -6.9141e-06, -6.9439e-06, -6.9141e-06,\n",
      "         -6.9141e-06, -6.9588e-06, -6.9439e-06, -6.9439e-06, -6.8992e-06,\n",
      "         -6.9439e-06, -6.9141e-06, -6.9439e-06, -6.9588e-06, -6.9290e-06,\n",
      "         -6.9588e-06, -6.9290e-06, -6.9439e-06, -6.9588e-06, -6.9290e-06,\n",
      "         -6.9439e-06, -6.9290e-06, -6.9439e-06, -6.9439e-06, -6.9588e-06]],\n",
      "       device='cuda:0', grad_fn=<SelectBackward0>)\n"
     ]
    },
    {
     "name": "stderr",
     "output_type": "stream",
     "text": [
      "0.00000000:   5%|▌         | 5/100 [05:54<1:47:23, 67.82s/it]"
     ]
    },
    {
     "name": "stdout",
     "output_type": "stream",
     "text": [
      "tensor([1., 1.], device='cuda:0') tensor([[-2.2352e-07, -2.2352e-07, -2.2352e-07, -2.2352e-07, -2.2352e-07,\n",
      "         -2.2352e-07, -2.2352e-07, -2.2352e-07, -2.2352e-07, -2.2352e-07,\n",
      "         -2.5332e-07, -2.2352e-07, -2.2352e-07, -2.2352e-07, -2.2352e-07,\n",
      "         -2.2352e-07, -2.2352e-07, -2.2352e-07, -2.2352e-07, -2.2352e-07,\n",
      "         -2.2352e-07, -2.2352e-07, -2.2352e-07, -2.2352e-07, -2.2352e-07,\n",
      "         -2.2352e-07, -2.2352e-07, -2.2352e-07, -2.2352e-07, -2.2352e-07,\n",
      "         -2.2352e-07, -2.2352e-07, -2.2352e-07, -2.2352e-07, -2.2352e-07,\n",
      "         -2.2352e-07, -2.2352e-07, -2.2352e-07, -2.2352e-07, -2.2352e-07,\n",
      "         -2.2352e-07, -2.2352e-07, -2.2352e-07, -2.2352e-07, -2.2352e-07,\n",
      "         -2.2352e-07, -2.2352e-07, -2.2352e-07, -2.2352e-07, -2.2352e-07],\n",
      "        [-5.8860e-06, -5.8860e-06, -5.8860e-06, -5.8860e-06, -5.8860e-06,\n",
      "         -5.8860e-06, -5.8860e-06, -5.8860e-06, -5.8860e-06, -5.8860e-06,\n",
      "         -5.8860e-06, -5.8860e-06, -5.8860e-06, -5.8860e-06, -5.9009e-06,\n",
      "         -5.9009e-06, -5.9158e-06, -5.9158e-06, -5.8860e-06, -5.8860e-06,\n",
      "         -5.8860e-06, -5.8860e-06, -5.8860e-06, -5.9158e-06, -5.8860e-06,\n",
      "         -5.8860e-06, -5.8860e-06, -5.8860e-06, -5.8860e-06, -5.9158e-06,\n",
      "         -5.8860e-06, -5.8860e-06, -5.8860e-06, -5.8860e-06, -5.8860e-06,\n",
      "         -5.8860e-06, -5.9158e-06, -5.8860e-06, -5.8860e-06, -5.8860e-06,\n",
      "         -5.8860e-06, -5.8860e-06, -5.9158e-06, -5.8860e-06, -5.9158e-06,\n",
      "         -5.8860e-06, -5.8860e-06, -5.8860e-06, -5.8860e-06, -5.8860e-06]],\n",
      "       device='cuda:0', grad_fn=<SelectBackward0>)\n"
     ]
    },
    {
     "name": "stderr",
     "output_type": "stream",
     "text": [
      "0.00000000:   5%|▌         | 5/100 [05:55<1:47:23, 67.82s/it]"
     ]
    },
    {
     "name": "stdout",
     "output_type": "stream",
     "text": [
      "tensor([1., 1.], device='cuda:0') tensor([[ 1.5050e-06,  1.5050e-06,  1.5348e-06,  1.5199e-06,  1.5050e-06,\n",
      "          1.5050e-06,  1.5199e-06,  1.5050e-06,  1.5050e-06,  1.5199e-06,\n",
      "          1.5199e-06,  1.5199e-06,  1.5199e-06,  1.5050e-06,  1.5199e-06,\n",
      "          1.5050e-06,  1.5050e-06,  1.5199e-06,  1.5050e-06,  1.5050e-06,\n",
      "          1.5050e-06,  1.5199e-06,  1.5348e-06,  1.5050e-06,  1.5199e-06,\n",
      "          1.5199e-06,  1.5050e-06,  1.5199e-06,  1.5050e-06,  1.5050e-06,\n",
      "          1.4901e-06,  1.5199e-06,  1.5050e-06,  1.5348e-06,  1.5199e-06,\n",
      "          1.5348e-06,  1.5199e-06,  1.5199e-06,  1.5199e-06,  1.4752e-06,\n",
      "          1.5050e-06,  1.5050e-06,  1.4901e-06,  1.5050e-06,  1.5050e-06,\n",
      "          1.5050e-06,  1.5348e-06,  1.5050e-06,  1.5050e-06,  1.5199e-06],\n",
      "        [-3.7402e-06, -3.7402e-06, -3.7104e-06, -3.7551e-06, -3.7402e-06,\n",
      "         -3.7104e-06, -3.7253e-06, -3.7402e-06, -3.7402e-06, -3.7253e-06,\n",
      "         -3.7402e-06, -3.7402e-06, -3.7402e-06, -3.7402e-06, -3.7402e-06,\n",
      "         -3.7402e-06, -3.7402e-06, -3.7402e-06, -3.7253e-06, -3.7402e-06,\n",
      "         -3.7402e-06, -3.7551e-06, -3.6955e-06, -3.7402e-06, -3.6955e-06,\n",
      "         -3.7253e-06, -3.7402e-06, -3.7402e-06, -3.7402e-06, -3.7402e-06,\n",
      "         -3.7253e-06, -3.7402e-06, -3.7402e-06, -3.7402e-06, -3.7402e-06,\n",
      "         -3.7253e-06, -3.7402e-06, -3.7402e-06, -3.7402e-06, -3.7402e-06,\n",
      "         -3.7402e-06, -3.7402e-06, -3.7402e-06, -3.7402e-06, -3.7402e-06,\n",
      "         -3.7104e-06, -3.7104e-06, -3.7551e-06, -3.7104e-06, -3.7402e-06]],\n",
      "       device='cuda:0', grad_fn=<SelectBackward0>)\n"
     ]
    },
    {
     "name": "stderr",
     "output_type": "stream",
     "text": [
      "0.00000000:   5%|▌         | 5/100 [05:57<1:47:23, 67.82s/it]"
     ]
    },
    {
     "name": "stdout",
     "output_type": "stream",
     "text": [
      "tensor([1., 1.], device='cuda:0') tensor([[ 2.8759e-06,  2.8759e-06,  2.8610e-06,  2.8908e-06,  2.8759e-06,\n",
      "          2.8908e-06,  2.8759e-06,  2.8759e-06,  2.8908e-06,  2.9057e-06,\n",
      "          2.8610e-06,  2.8908e-06,  2.8759e-06,  2.8908e-06,  2.8908e-06,\n",
      "          2.8908e-06,  2.8759e-06,  2.8908e-06,  2.8461e-06,  2.8908e-06,\n",
      "          2.9057e-06,  2.8908e-06,  2.8908e-06,  2.8759e-06,  2.8759e-06,\n",
      "          2.8759e-06,  2.8908e-06,  2.8759e-06,  2.8759e-06,  2.8908e-06,\n",
      "          2.8759e-06,  2.8759e-06,  2.8610e-06,  2.8908e-06,  2.8759e-06,\n",
      "          2.8908e-06,  2.8610e-06,  2.8908e-06,  2.8908e-06,  2.8908e-06,\n",
      "          2.8908e-06,  2.8908e-06,  2.8759e-06,  2.8908e-06,  2.8759e-06,\n",
      "          2.8759e-06,  2.8908e-06,  2.8908e-06,  2.8908e-06,  2.8908e-06],\n",
      "        [-9.6858e-07, -9.6858e-07, -9.6858e-07, -9.6858e-07, -9.6858e-07,\n",
      "         -9.6858e-07, -9.5367e-07, -9.6858e-07, -9.6858e-07, -9.6858e-07,\n",
      "         -9.8348e-07, -9.6858e-07, -9.6858e-07, -9.6858e-07, -9.6858e-07,\n",
      "         -9.9838e-07, -9.6858e-07, -9.6858e-07, -9.6858e-07, -9.6858e-07,\n",
      "         -9.8348e-07, -9.6858e-07, -9.6858e-07, -9.6858e-07, -9.6858e-07,\n",
      "         -9.8348e-07, -9.6858e-07, -9.6858e-07, -9.6858e-07, -9.6858e-07,\n",
      "         -1.0133e-06, -9.8348e-07, -9.3877e-07, -9.6858e-07, -9.5367e-07,\n",
      "         -9.6858e-07, -9.6858e-07, -9.6858e-07, -9.6858e-07, -9.6858e-07,\n",
      "         -9.8348e-07, -9.6858e-07, -9.5367e-07, -9.6858e-07, -9.6858e-07,\n",
      "         -9.6858e-07, -9.6858e-07, -9.6858e-07, -9.6858e-07, -9.3877e-07]],\n",
      "       device='cuda:0', grad_fn=<SelectBackward0>)\n"
     ]
    },
    {
     "name": "stderr",
     "output_type": "stream",
     "text": [
      "0.00000000:   5%|▌         | 5/100 [05:59<1:47:23, 67.82s/it]"
     ]
    },
    {
     "name": "stdout",
     "output_type": "stream",
     "text": [
      "tensor([1., 1.], device='cuda:0') tensor([[3.6508e-06, 3.6508e-06, 3.6657e-06, 3.6210e-06, 3.6806e-06, 3.6210e-06,\n",
      "         3.6061e-06, 3.6657e-06, 3.6657e-06, 3.6359e-06, 3.6657e-06, 3.6061e-06,\n",
      "         3.6359e-06, 3.6508e-06, 3.6359e-06, 3.6061e-06, 3.6657e-06, 3.6359e-06,\n",
      "         3.6806e-06, 3.6657e-06, 3.6359e-06, 3.6508e-06, 3.6210e-06, 3.6508e-06,\n",
      "         3.6359e-06, 3.6508e-06, 3.6806e-06, 3.6508e-06, 3.6359e-06, 3.6806e-06,\n",
      "         3.6508e-06, 3.6657e-06, 3.6359e-06, 3.6657e-06, 3.6508e-06, 3.6657e-06,\n",
      "         3.6508e-06, 3.6508e-06, 3.6508e-06, 3.6657e-06, 3.6210e-06, 3.6657e-06,\n",
      "         3.6359e-06, 3.6359e-06, 3.6210e-06, 3.6359e-06, 3.6359e-06, 3.6359e-06,\n",
      "         3.6359e-06, 3.6806e-06],\n",
      "        [1.6540e-06, 1.6689e-06, 1.6689e-06, 1.6391e-06, 1.6689e-06, 1.6689e-06,\n",
      "         1.6391e-06, 1.6391e-06, 1.6689e-06, 1.6093e-06, 1.6540e-06, 1.6093e-06,\n",
      "         1.6689e-06, 1.6540e-06, 1.6391e-06, 1.6689e-06, 1.6391e-06, 1.6391e-06,\n",
      "         1.6391e-06, 1.6987e-06, 1.6838e-06, 1.6391e-06, 1.6689e-06, 1.6391e-06,\n",
      "         1.6689e-06, 1.6391e-06, 1.6540e-06, 1.6838e-06, 1.6987e-06, 1.6689e-06,\n",
      "         1.6242e-06, 1.6391e-06, 1.6391e-06, 1.6391e-06, 1.6689e-06, 1.6689e-06,\n",
      "         1.6838e-06, 1.6391e-06, 1.6540e-06, 1.6838e-06, 1.6391e-06, 1.6540e-06,\n",
      "         1.6391e-06, 1.6391e-06, 1.6391e-06, 1.6838e-06, 1.6391e-06, 1.6689e-06,\n",
      "         1.6689e-06, 1.6689e-06]], device='cuda:0', grad_fn=<SelectBackward0>)\n"
     ]
    },
    {
     "name": "stderr",
     "output_type": "stream",
     "text": [
      "0.00000000:   5%|▌         | 5/100 [06:00<1:47:23, 67.82s/it]"
     ]
    },
    {
     "name": "stdout",
     "output_type": "stream",
     "text": [
      "tensor([1., 1.], device='cuda:0') tensor([[3.6359e-06, 3.6508e-06, 3.6508e-06, 3.6657e-06, 3.6657e-06, 3.6359e-06,\n",
      "         3.6657e-06, 3.6657e-06, 3.6359e-06, 3.6508e-06, 3.6657e-06, 3.6359e-06,\n",
      "         3.6359e-06, 3.6359e-06, 3.6508e-06, 3.6061e-06, 3.6657e-06, 3.6359e-06,\n",
      "         3.6657e-06, 3.6657e-06, 3.6806e-06, 3.6359e-06, 3.6657e-06, 3.6359e-06,\n",
      "         3.6806e-06, 3.6657e-06, 3.6955e-06, 3.6508e-06, 3.6657e-06, 3.6806e-06,\n",
      "         3.6359e-06, 3.6657e-06, 3.6359e-06, 3.6061e-06, 3.6657e-06, 3.6359e-06,\n",
      "         3.6657e-06, 3.6359e-06, 3.6657e-06, 3.6359e-06, 3.6657e-06, 3.6657e-06,\n",
      "         3.6359e-06, 3.6657e-06, 3.6806e-06, 3.6061e-06, 3.6657e-06, 3.6657e-06,\n",
      "         3.6806e-06, 3.6657e-06],\n",
      "        [3.7253e-06, 3.7253e-06, 3.6657e-06, 3.7104e-06, 3.7402e-06, 3.7253e-06,\n",
      "         3.7253e-06, 3.7104e-06, 3.7253e-06, 3.7104e-06, 3.7253e-06, 3.7253e-06,\n",
      "         3.7253e-06, 3.7253e-06, 3.6657e-06, 3.7253e-06, 3.7253e-06, 3.7253e-06,\n",
      "         3.7104e-06, 3.7402e-06, 3.7104e-06, 3.7253e-06, 3.7253e-06, 3.6806e-06,\n",
      "         3.7402e-06, 3.7253e-06, 3.7402e-06, 3.7402e-06, 3.7402e-06, 3.7253e-06,\n",
      "         3.6806e-06, 3.7253e-06, 3.6955e-06, 3.7253e-06, 3.6955e-06, 3.6806e-06,\n",
      "         3.7253e-06, 3.7253e-06, 3.7253e-06, 3.7253e-06, 3.7253e-06, 3.7253e-06,\n",
      "         3.7253e-06, 3.7402e-06, 3.7253e-06, 3.7253e-06, 3.7253e-06, 3.7253e-06,\n",
      "         3.7253e-06, 3.7402e-06]], device='cuda:0', grad_fn=<SelectBackward0>)\n"
     ]
    },
    {
     "name": "stderr",
     "output_type": "stream",
     "text": [
      "0.00000000:   5%|▌         | 5/100 [06:01<1:47:23, 67.82s/it]"
     ]
    },
    {
     "name": "stdout",
     "output_type": "stream",
     "text": [
      "tensor([1., 1.], device='cuda:0') tensor([[3.1441e-06, 3.1143e-06, 3.1441e-06, 3.1590e-06, 3.1441e-06, 3.1590e-06,\n",
      "         3.1888e-06, 3.1590e-06, 3.1590e-06, 3.1590e-06, 3.1590e-06, 3.1590e-06,\n",
      "         3.1739e-06, 3.1590e-06, 3.1590e-06, 3.1143e-06, 3.1441e-06, 3.1590e-06,\n",
      "         3.1441e-06, 3.1590e-06, 3.1143e-06, 3.1441e-06, 3.1739e-06, 3.1590e-06,\n",
      "         3.1590e-06, 3.1441e-06, 3.1590e-06, 3.1143e-06, 3.1143e-06, 3.1590e-06,\n",
      "         3.1441e-06, 3.1590e-06, 3.1292e-06, 3.1590e-06, 3.1590e-06, 3.1590e-06,\n",
      "         3.1590e-06, 3.1739e-06, 3.1739e-06, 3.1441e-06, 3.1143e-06, 3.1739e-06,\n",
      "         3.1441e-06, 3.1441e-06, 3.1441e-06, 3.1590e-06, 3.1441e-06, 3.1143e-06,\n",
      "         3.1143e-06, 3.1590e-06],\n",
      "        [4.7237e-06, 4.6641e-06, 4.7088e-06, 4.6641e-06, 4.6641e-06, 4.6790e-06,\n",
      "         4.6939e-06, 4.6939e-06, 4.7237e-06, 4.6939e-06, 4.6939e-06, 4.6939e-06,\n",
      "         4.7088e-06, 4.6939e-06, 4.6790e-06, 4.6939e-06, 4.6641e-06, 4.6939e-06,\n",
      "         4.7088e-06, 4.7237e-06, 4.6939e-06, 4.7088e-06, 4.6939e-06, 4.6939e-06,\n",
      "         4.6939e-06, 4.6641e-06, 4.6790e-06, 4.6790e-06, 4.6939e-06, 4.6790e-06,\n",
      "         4.6939e-06, 4.6939e-06, 4.6939e-06, 4.6939e-06, 4.6939e-06, 4.6939e-06,\n",
      "         4.6939e-06, 4.6939e-06, 4.6939e-06, 4.7386e-06, 4.7088e-06, 4.6939e-06,\n",
      "         4.6641e-06, 4.6641e-06, 4.6939e-06, 4.6939e-06, 4.6641e-06, 4.6939e-06,\n",
      "         4.6939e-06, 4.6939e-06]], device='cuda:0', grad_fn=<SelectBackward0>)\n"
     ]
    },
    {
     "name": "stderr",
     "output_type": "stream",
     "text": [
      "0.00000000:   5%|▌         | 5/100 [06:03<1:47:23, 67.82s/it]"
     ]
    },
    {
     "name": "stdout",
     "output_type": "stream",
     "text": [
      "tensor([1., 1.], device='cuda:0') tensor([[2.0564e-06, 2.0862e-06, 2.0862e-06, 2.0862e-06, 2.0713e-06, 2.0862e-06,\n",
      "         2.0862e-06, 2.0862e-06, 2.1011e-06, 2.0862e-06, 2.0862e-06, 2.0862e-06,\n",
      "         2.1011e-06, 2.0862e-06, 2.0862e-06, 2.0862e-06, 2.0862e-06, 2.1011e-06,\n",
      "         2.1011e-06, 2.0713e-06, 2.0564e-06, 2.1011e-06, 2.0862e-06, 2.0862e-06,\n",
      "         2.0862e-06, 2.0564e-06, 2.0862e-06, 2.0862e-06, 2.0862e-06, 2.0862e-06,\n",
      "         2.1011e-06, 2.1011e-06, 2.0564e-06, 2.0862e-06, 2.0862e-06, 2.0564e-06,\n",
      "         2.0564e-06, 2.1011e-06, 2.0862e-06, 2.0713e-06, 2.0564e-06, 2.0862e-06,\n",
      "         2.1011e-06, 2.0862e-06, 2.0564e-06, 2.0862e-06, 2.0862e-06, 2.0862e-06,\n",
      "         2.0862e-06, 2.0564e-06],\n",
      "        [4.5896e-06, 4.5747e-06, 4.6194e-06, 4.6194e-06, 4.6343e-06, 4.6194e-06,\n",
      "         4.5747e-06, 4.5747e-06, 4.5747e-06, 4.5747e-06, 4.6194e-06, 4.5747e-06,\n",
      "         4.5747e-06, 4.5747e-06, 4.6194e-06, 4.5598e-06, 4.5747e-06, 4.5747e-06,\n",
      "         4.5747e-06, 4.5598e-06, 4.6492e-06, 4.5747e-06, 4.5747e-06, 4.5598e-06,\n",
      "         4.5747e-06, 4.5896e-06, 4.6194e-06, 4.5896e-06, 4.6194e-06, 4.5896e-06,\n",
      "         4.5747e-06, 4.5747e-06, 4.5896e-06, 4.6194e-06, 4.6194e-06, 4.5896e-06,\n",
      "         4.6194e-06, 4.5747e-06, 4.5747e-06, 4.5896e-06, 4.5896e-06, 4.5896e-06,\n",
      "         4.5747e-06, 4.5747e-06, 4.5896e-06, 4.5747e-06, 4.5896e-06, 4.5747e-06,\n",
      "         4.5747e-06, 4.6045e-06]], device='cuda:0', grad_fn=<SelectBackward0>)\n"
     ]
    },
    {
     "name": "stderr",
     "output_type": "stream",
     "text": [
      "0.00000000:   5%|▌         | 5/100 [06:05<1:47:23, 67.82s/it]"
     ]
    },
    {
     "name": "stdout",
     "output_type": "stream",
     "text": [
      "tensor([1., 1.], device='cuda:0') tensor([[7.7486e-07, 7.8976e-07, 7.7486e-07, 7.5996e-07, 7.7486e-07, 8.0466e-07,\n",
      "         7.5996e-07, 7.4506e-07, 7.8976e-07, 8.1956e-07, 7.4506e-07, 7.4506e-07,\n",
      "         7.7486e-07, 7.7486e-07, 7.4506e-07, 7.7486e-07, 7.7486e-07, 7.4506e-07,\n",
      "         8.0466e-07, 7.5996e-07, 7.7486e-07, 8.0466e-07, 7.5996e-07, 7.4506e-07,\n",
      "         7.7486e-07, 7.5996e-07, 7.7486e-07, 7.7486e-07, 7.7486e-07, 8.0466e-07,\n",
      "         7.8976e-07, 7.7486e-07, 8.0466e-07, 7.7486e-07, 8.0466e-07, 8.0466e-07,\n",
      "         7.7486e-07, 7.8976e-07, 7.5996e-07, 7.5996e-07, 7.7486e-07, 8.0466e-07,\n",
      "         7.7486e-07, 8.0466e-07, 7.4506e-07, 7.7486e-07, 7.5996e-07, 7.5996e-07,\n",
      "         7.7486e-07, 7.7486e-07],\n",
      "        [3.5167e-06, 3.4571e-06, 3.4571e-06, 3.4869e-06, 3.4720e-06, 3.4869e-06,\n",
      "         3.5167e-06, 3.5018e-06, 3.4720e-06, 3.4869e-06, 3.4720e-06, 3.4869e-06,\n",
      "         3.5167e-06, 3.4869e-06, 3.4869e-06, 3.5018e-06, 3.4869e-06, 3.4869e-06,\n",
      "         3.5167e-06, 3.5018e-06, 3.4869e-06, 3.4869e-06, 3.4571e-06, 3.4869e-06,\n",
      "         3.5167e-06, 3.5316e-06, 3.4869e-06, 3.4869e-06, 3.4571e-06, 3.4869e-06,\n",
      "         3.4869e-06, 3.4869e-06, 3.4869e-06, 3.5167e-06, 3.4720e-06, 3.4869e-06,\n",
      "         3.5018e-06, 3.5018e-06, 3.5018e-06, 3.4720e-06, 3.4720e-06, 3.4869e-06,\n",
      "         3.5167e-06, 3.5167e-06, 3.5167e-06, 3.4571e-06, 3.4869e-06, 3.4869e-06,\n",
      "         3.4869e-06, 3.4869e-06]], device='cuda:0', grad_fn=<SelectBackward0>)\n"
     ]
    },
    {
     "name": "stderr",
     "output_type": "stream",
     "text": [
      "0.00000000:   5%|▌         | 5/100 [06:06<1:47:23, 67.82s/it]"
     ]
    },
    {
     "name": "stdout",
     "output_type": "stream",
     "text": [
      "tensor([1., 1.], device='cuda:0') tensor([[-5.5134e-07, -5.8115e-07, -5.5134e-07, -5.5134e-07, -6.1095e-07,\n",
      "         -5.5134e-07, -5.5134e-07, -5.5134e-07, -5.5134e-07, -5.5134e-07,\n",
      "         -5.5134e-07, -5.5134e-07, -5.8115e-07, -5.8115e-07, -5.5134e-07,\n",
      "         -5.8115e-07, -5.5134e-07, -5.5134e-07, -5.5134e-07, -5.5134e-07,\n",
      "         -5.5134e-07, -5.5134e-07, -5.8115e-07, -5.5134e-07, -5.8115e-07,\n",
      "         -5.6624e-07, -5.2154e-07, -5.8115e-07, -5.5134e-07, -5.8115e-07,\n",
      "         -5.5134e-07, -5.5134e-07, -5.6624e-07, -5.5134e-07, -5.5134e-07,\n",
      "         -5.5134e-07, -5.5134e-07, -5.5134e-07, -5.5134e-07, -5.5134e-07,\n",
      "         -5.5134e-07, -5.8115e-07, -5.8115e-07, -5.6624e-07, -5.5134e-07,\n",
      "         -5.5134e-07, -5.5134e-07, -5.8115e-07, -5.8115e-07, -5.5134e-07],\n",
      "        [ 1.7136e-06,  1.7136e-06,  1.7136e-06,  1.7136e-06,  1.6689e-06,\n",
      "          1.7136e-06,  1.7136e-06,  1.7434e-06,  1.7136e-06,  1.7136e-06,\n",
      "          1.7136e-06,  1.7136e-06,  1.7434e-06,  1.7136e-06,  1.7434e-06,\n",
      "          1.7136e-06,  1.7285e-06,  1.7136e-06,  1.7136e-06,  1.7136e-06,\n",
      "          1.7285e-06,  1.7136e-06,  1.7434e-06,  1.7136e-06,  1.7434e-06,\n",
      "          1.7136e-06,  1.6838e-06,  1.7434e-06,  1.7285e-06,  1.7136e-06,\n",
      "          1.7285e-06,  1.7136e-06,  1.7136e-06,  1.7136e-06,  1.7136e-06,\n",
      "          1.7136e-06,  1.7136e-06,  1.7136e-06,  1.7285e-06,  1.7434e-06,\n",
      "          1.7136e-06,  1.7434e-06,  1.7434e-06,  1.7136e-06,  1.7136e-06,\n",
      "          1.7136e-06,  1.7136e-06,  1.7136e-06,  1.7136e-06,  1.7136e-06]],\n",
      "       device='cuda:0', grad_fn=<SelectBackward0>)\n"
     ]
    },
    {
     "name": "stderr",
     "output_type": "stream",
     "text": [
      "0.00000000:   5%|▌         | 5/100 [06:08<1:47:23, 67.82s/it]"
     ]
    },
    {
     "name": "stdout",
     "output_type": "stream",
     "text": [
      "tensor([1., 1.], device='cuda:0') tensor([[-2.5332e-07, -2.0862e-07, -2.2352e-07, -2.5332e-07, -2.3842e-07,\n",
      "         -2.5332e-07, -2.5332e-07, -2.0862e-07, -2.6822e-07, -2.3842e-07,\n",
      "         -2.6822e-07, -2.8312e-07, -2.5332e-07, -2.0862e-07, -2.0862e-07,\n",
      "         -2.3842e-07, -2.0862e-07, -2.5332e-07, -2.5332e-07, -2.5332e-07,\n",
      "         -2.0862e-07, -2.0862e-07, -2.5332e-07, -2.2352e-07, -2.5332e-07,\n",
      "         -2.0862e-07, -2.5332e-07, -2.5332e-07, -2.0862e-07, -2.0862e-07,\n",
      "         -2.3842e-07, -2.0862e-07, -2.5332e-07, -2.0862e-07, -2.0862e-07,\n",
      "         -2.3842e-07, -2.3842e-07, -2.3842e-07, -2.0862e-07, -2.0862e-07,\n",
      "         -2.0862e-07, -2.0862e-07, -2.6822e-07, -2.6822e-07, -2.0862e-07,\n",
      "         -2.0862e-07, -2.5332e-07, -2.5332e-07, -2.0862e-07, -2.5332e-07],\n",
      "        [-1.7136e-06, -1.7285e-06, -1.7285e-06, -1.7136e-06, -1.7285e-06,\n",
      "         -1.7136e-06, -1.7136e-06, -1.7285e-06, -1.6987e-06, -1.7136e-06,\n",
      "         -1.6987e-06, -1.7136e-06, -1.7285e-06, -1.7285e-06, -1.7285e-06,\n",
      "         -1.7285e-06, -1.7285e-06, -1.7136e-06, -1.7136e-06, -1.7136e-06,\n",
      "         -1.7285e-06, -1.7285e-06, -1.7136e-06, -1.6987e-06, -1.7136e-06,\n",
      "         -1.7285e-06, -1.7285e-06, -1.7136e-06, -1.7285e-06, -1.7285e-06,\n",
      "         -1.7136e-06, -1.7285e-06, -1.7136e-06, -1.7285e-06, -1.7285e-06,\n",
      "         -1.6987e-06, -1.7136e-06, -1.6987e-06, -1.7285e-06, -1.7285e-06,\n",
      "         -1.7285e-06, -1.7136e-06, -1.7285e-06, -1.7136e-06, -1.7285e-06,\n",
      "         -1.7285e-06, -1.7136e-06, -1.7136e-06, -1.7285e-06, -1.7136e-06]],\n",
      "       device='cuda:0', grad_fn=<SelectBackward0>)\n"
     ]
    },
    {
     "name": "stderr",
     "output_type": "stream",
     "text": [
      "0.00000000:   5%|▌         | 5/100 [06:09<1:47:23, 67.82s/it]"
     ]
    },
    {
     "name": "stdout",
     "output_type": "stream",
     "text": [
      "tensor([1., 1.], device='cuda:0') tensor([[-1.9521e-06, -1.9372e-06, -1.9521e-06, -1.9521e-06, -1.9222e-06,\n",
      "         -1.9521e-06, -1.9521e-06, -1.9521e-06, -1.9521e-06, -1.9521e-06,\n",
      "         -1.9521e-06, -1.9521e-06, -1.9521e-06, -1.9521e-06, -1.9521e-06,\n",
      "         -1.9521e-06, -1.9670e-06, -1.9222e-06, -1.9372e-06, -1.9521e-06,\n",
      "         -1.9521e-06, -1.9521e-06, -1.9521e-06, -1.9521e-06, -1.9521e-06,\n",
      "         -1.9521e-06, -1.9521e-06, -1.9521e-06, -1.9372e-06, -1.9372e-06,\n",
      "         -1.9521e-06, -1.9521e-06, -1.9521e-06, -1.9222e-06, -1.9372e-06,\n",
      "         -1.9521e-06, -1.9521e-06, -1.9372e-06, -1.9372e-06, -1.9521e-06,\n",
      "         -1.9521e-06, -1.9521e-06, -1.9521e-06, -1.9372e-06, -1.9521e-06,\n",
      "         -1.9521e-06, -1.9521e-06, -1.9521e-06, -1.9521e-06, -1.9521e-06],\n",
      "        [-2.4587e-06, -2.4289e-06, -2.4587e-06, -2.4289e-06, -2.4289e-06,\n",
      "         -2.4587e-06, -2.3991e-06, -2.4289e-06, -2.4587e-06, -2.3991e-06,\n",
      "         -2.4289e-06, -2.4587e-06, -2.4587e-06, -2.4289e-06, -2.4289e-06,\n",
      "         -2.4289e-06, -2.3991e-06, -2.4289e-06, -2.4289e-06, -2.4587e-06,\n",
      "         -2.4587e-06, -2.4289e-06, -2.4289e-06, -2.3991e-06, -2.4289e-06,\n",
      "         -2.3991e-06, -2.4587e-06, -2.4587e-06, -2.4587e-06, -2.4140e-06,\n",
      "         -2.4289e-06, -2.4289e-06, -2.3991e-06, -2.3991e-06, -2.4289e-06,\n",
      "         -2.4587e-06, -2.4587e-06, -2.4587e-06, -2.4289e-06, -2.4587e-06,\n",
      "         -2.4438e-06, -2.4289e-06, -2.4289e-06, -2.4438e-06, -2.4587e-06,\n",
      "         -2.4587e-06, -2.4587e-06, -2.4587e-06, -2.4587e-06, -2.4438e-06]],\n",
      "       device='cuda:0', grad_fn=<SelectBackward0>)\n"
     ]
    },
    {
     "name": "stderr",
     "output_type": "stream",
     "text": [
      "0.00000000:   5%|▌         | 5/100 [06:11<1:47:23, 67.82s/it]"
     ]
    },
    {
     "name": "stdout",
     "output_type": "stream",
     "text": [
      "tensor([1., 1.], device='cuda:0') tensor([[-3.0398e-06, -3.0398e-06, -3.0398e-06, -3.0398e-06, -3.0398e-06,\n",
      "         -3.0398e-06, -3.0547e-06, -3.0398e-06, -3.0547e-06, -3.0398e-06,\n",
      "         -3.0398e-06, -3.0398e-06, -3.0398e-06, -3.0398e-06, -3.0398e-06,\n",
      "         -3.0398e-06, -3.0398e-06, -3.0398e-06, -3.0398e-06, -3.0398e-06,\n",
      "         -3.0398e-06, -3.0547e-06, -3.0398e-06, -3.0398e-06, -3.0398e-06,\n",
      "         -3.0398e-06, -3.0398e-06, -3.0696e-06, -3.0398e-06, -3.0398e-06,\n",
      "         -3.0398e-06, -3.0398e-06, -3.0249e-06, -3.0398e-06, -3.0398e-06,\n",
      "         -3.0398e-06, -3.0398e-06, -3.0398e-06, -3.0547e-06, -3.0398e-06,\n",
      "         -3.0398e-06, -3.0398e-06, -3.0398e-06, -3.0398e-06, -3.0398e-06,\n",
      "         -3.0398e-06, -3.0398e-06, -3.0398e-06, -3.0249e-06, -3.0398e-06],\n",
      "        [-2.6971e-06, -2.6524e-06, -2.6673e-06, -2.6673e-06, -2.6524e-06,\n",
      "         -2.6673e-06, -2.6673e-06, -2.6524e-06, -2.6822e-06, -2.6673e-06,\n",
      "         -2.6673e-06, -2.6524e-06, -2.6673e-06, -2.6524e-06, -2.6524e-06,\n",
      "         -2.6822e-06, -2.6673e-06, -2.6673e-06, -2.6673e-06, -2.6822e-06,\n",
      "         -2.6673e-06, -2.6524e-06, -2.6673e-06, -2.6673e-06, -2.6524e-06,\n",
      "         -2.6822e-06, -2.6673e-06, -2.6673e-06, -2.6524e-06, -2.6673e-06,\n",
      "         -2.6822e-06, -2.6673e-06, -2.6375e-06, -2.6822e-06, -2.6822e-06,\n",
      "         -2.6524e-06, -2.6673e-06, -2.6375e-06, -2.6524e-06, -2.6524e-06,\n",
      "         -2.6673e-06, -2.6673e-06, -2.6673e-06, -2.6673e-06, -2.6822e-06,\n",
      "         -2.6524e-06, -2.6822e-06, -2.6524e-06, -2.7120e-06, -2.7269e-06]],\n",
      "       device='cuda:0', grad_fn=<SelectBackward0>)\n"
     ]
    },
    {
     "name": "stderr",
     "output_type": "stream",
     "text": [
      "0.00000000:   5%|▌         | 5/100 [06:12<1:47:23, 67.82s/it]"
     ]
    },
    {
     "name": "stdout",
     "output_type": "stream",
     "text": [
      "tensor([1., 1.], device='cuda:0') tensor([[-2.4438e-06, -2.4438e-06, -2.4438e-06, -2.4587e-06, -2.4438e-06,\n",
      "         -2.4289e-06, -2.4587e-06, -2.4438e-06, -2.4587e-06, -2.4438e-06,\n",
      "         -2.4587e-06, -2.4736e-06, -2.4736e-06, -2.4587e-06, -2.4438e-06,\n",
      "         -2.4736e-06, -2.4438e-06, -2.4438e-06, -2.4736e-06, -2.4289e-06,\n",
      "         -2.4587e-06, -2.4289e-06, -2.4736e-06, -2.4587e-06, -2.4587e-06,\n",
      "         -2.4438e-06, -2.4587e-06, -2.4587e-06, -2.4587e-06, -2.4438e-06,\n",
      "         -2.4587e-06, -2.4140e-06, -2.4587e-06, -2.4289e-06, -2.4587e-06,\n",
      "         -2.4587e-06, -2.4438e-06, -2.4736e-06, -2.4587e-06, -2.4587e-06,\n",
      "         -2.4587e-06, -2.4438e-06, -2.4587e-06, -2.4587e-06, -2.4587e-06,\n",
      "         -2.4736e-06, -2.4736e-06, -2.4587e-06, -2.4736e-06, -2.4587e-06],\n",
      "        [-3.3081e-06, -3.3081e-06, -3.2932e-06, -3.3379e-06, -3.3230e-06,\n",
      "         -3.2783e-06, -3.2783e-06, -3.3081e-06, -3.3677e-06, -3.3081e-06,\n",
      "         -3.3081e-06, -3.3230e-06, -3.2783e-06, -3.2783e-06, -3.3081e-06,\n",
      "         -3.3081e-06, -3.3081e-06, -3.3081e-06, -3.3081e-06, -3.3230e-06,\n",
      "         -3.3379e-06, -3.3677e-06, -3.2783e-06, -3.3677e-06, -3.2783e-06,\n",
      "         -3.3230e-06, -3.3677e-06, -3.3081e-06, -3.3081e-06, -3.3230e-06,\n",
      "         -3.2932e-06, -3.3379e-06, -3.2783e-06, -3.3081e-06, -3.3379e-06,\n",
      "         -3.2783e-06, -3.3379e-06, -3.3081e-06, -3.2932e-06, -3.3379e-06,\n",
      "         -3.3230e-06, -3.3379e-06, -3.2783e-06, -3.3379e-06, -3.3081e-06,\n",
      "         -3.3081e-06, -3.3081e-06, -3.3379e-06, -3.2783e-06, -3.3379e-06]],\n",
      "       device='cuda:0', grad_fn=<SelectBackward0>)\n"
     ]
    },
    {
     "name": "stderr",
     "output_type": "stream",
     "text": [
      "0.00000000:   5%|▌         | 5/100 [06:14<1:47:23, 67.82s/it]"
     ]
    },
    {
     "name": "stdout",
     "output_type": "stream",
     "text": [
      "tensor([1., 1.], device='cuda:0') tensor([[-1.7881e-06, -1.8030e-06, -1.7881e-06, -1.8179e-06, -1.7881e-06,\n",
      "         -1.7881e-06, -1.7881e-06, -1.7732e-06, -1.7732e-06, -1.7881e-06,\n",
      "         -1.7881e-06, -1.7881e-06, -1.7881e-06, -1.7881e-06, -1.7881e-06,\n",
      "         -1.7881e-06, -1.7881e-06, -1.7881e-06, -1.7881e-06, -1.7881e-06,\n",
      "         -1.7881e-06, -1.7881e-06, -1.8030e-06, -1.7881e-06, -1.7881e-06,\n",
      "         -1.8328e-06, -1.7881e-06, -1.7434e-06, -1.7881e-06, -1.7583e-06,\n",
      "         -1.8328e-06, -1.8179e-06, -1.7881e-06, -1.8030e-06, -1.7881e-06,\n",
      "         -1.7583e-06, -1.8328e-06, -1.7881e-06, -1.7881e-06, -1.7881e-06,\n",
      "         -1.7881e-06, -1.7881e-06, -1.7881e-06, -1.8030e-06, -1.7732e-06,\n",
      "         -1.7881e-06, -1.7881e-06, -1.7881e-06, -1.8179e-06, -1.7881e-06],\n",
      "        [-2.8461e-06, -2.8461e-06, -2.8461e-06, -2.8610e-06, -2.8461e-06,\n",
      "         -2.8461e-06, -2.8461e-06, -2.8461e-06, -2.8908e-06, -2.8461e-06,\n",
      "         -2.8461e-06, -2.8461e-06, -2.8461e-06, -2.8461e-06, -2.8461e-06,\n",
      "         -2.8461e-06, -2.8461e-06, -2.8461e-06, -2.8461e-06, -2.8461e-06,\n",
      "         -2.9057e-06, -2.8610e-06, -2.9057e-06, -2.9057e-06, -2.8461e-06,\n",
      "         -2.9206e-06, -2.8461e-06, -2.8461e-06, -2.8461e-06, -2.8461e-06,\n",
      "         -2.8759e-06, -2.8759e-06, -2.8461e-06, -2.9057e-06, -2.8461e-06,\n",
      "         -2.9057e-06, -2.8759e-06, -2.8461e-06, -2.8461e-06, -2.8461e-06,\n",
      "         -2.8461e-06, -2.8461e-06, -2.8461e-06, -2.8759e-06, -2.8759e-06,\n",
      "         -2.8461e-06, -2.8461e-06, -2.8461e-06, -2.8759e-06, -2.8759e-06]],\n",
      "       device='cuda:0', grad_fn=<SelectBackward0>)\n"
     ]
    },
    {
     "name": "stderr",
     "output_type": "stream",
     "text": [
      "0.00000000:   5%|▌         | 5/100 [06:15<1:47:23, 67.82s/it]"
     ]
    },
    {
     "name": "stdout",
     "output_type": "stream",
     "text": [
      "tensor([1., 1.], device='cuda:0') tensor([[-1.8179e-06, -1.8179e-06, -1.8030e-06, -1.8030e-06, -1.8328e-06,\n",
      "         -1.8179e-06, -1.8328e-06, -1.7881e-06, -1.8030e-06, -1.8030e-06,\n",
      "         -1.8179e-06, -1.8328e-06, -1.8179e-06, -1.8328e-06, -1.8179e-06,\n",
      "         -1.8328e-06, -1.8030e-06, -1.8328e-06, -1.8328e-06, -1.7732e-06,\n",
      "         -1.8030e-06, -1.8030e-06, -1.8179e-06, -1.8030e-06, -1.8030e-06,\n",
      "         -1.7881e-06, -1.8030e-06, -1.8328e-06, -1.8179e-06, -1.8179e-06,\n",
      "         -1.8328e-06, -1.7881e-06, -1.7881e-06, -1.8030e-06, -1.8328e-06,\n",
      "         -1.7881e-06, -1.8328e-06, -1.8030e-06, -1.8328e-06, -1.8328e-06,\n",
      "         -1.8179e-06, -1.8179e-06, -1.8179e-06, -1.8179e-06, -1.8328e-06,\n",
      "         -1.8179e-06, -1.8030e-06, -1.7881e-06, -1.8030e-06, -1.8179e-06],\n",
      "        [-9.0897e-07, -8.4937e-07, -9.0897e-07, -8.7917e-07, -8.4937e-07,\n",
      "         -8.4937e-07, -8.4937e-07, -9.0897e-07, -9.2387e-07, -8.6427e-07,\n",
      "         -8.4937e-07, -8.4937e-07, -8.4937e-07, -9.0897e-07, -8.4937e-07,\n",
      "         -8.4937e-07, -8.7917e-07, -8.4937e-07, -8.4937e-07, -8.7917e-07,\n",
      "         -9.0897e-07, -9.0897e-07, -9.0897e-07, -8.9407e-07, -9.3877e-07,\n",
      "         -9.0897e-07, -8.7917e-07, -8.4937e-07, -8.4937e-07, -8.4937e-07,\n",
      "         -8.4937e-07, -9.0897e-07, -8.7917e-07, -9.0897e-07, -8.4937e-07,\n",
      "         -8.4937e-07, -8.4937e-07, -8.4937e-07, -8.4937e-07, -9.0897e-07,\n",
      "         -8.7917e-07, -8.4937e-07, -8.7917e-07, -9.0897e-07, -8.4937e-07,\n",
      "         -9.2387e-07, -9.2387e-07, -9.0897e-07, -8.4937e-07, -8.4937e-07]],\n",
      "       device='cuda:0', grad_fn=<SelectBackward0>)\n"
     ]
    },
    {
     "name": "stderr",
     "output_type": "stream",
     "text": [
      "0.00000000:   5%|▌         | 5/100 [06:17<1:47:23, 67.82s/it]"
     ]
    },
    {
     "name": "stdout",
     "output_type": "stream",
     "text": [
      "tensor([1., 1.], device='cuda:0') tensor([[ 1.1921e-07,  1.3411e-07,  1.1921e-07,  1.0431e-07,  1.1921e-07,\n",
      "          1.3411e-07,  1.0431e-07,  1.1921e-07,  1.1921e-07,  1.1921e-07,\n",
      "          1.1921e-07,  1.1921e-07,  1.1921e-07,  1.0431e-07,  1.1921e-07,\n",
      "          1.1921e-07,  1.1921e-07,  1.1921e-07,  1.1921e-07,  1.1921e-07,\n",
      "          1.3411e-07,  1.0431e-07,  1.0431e-07,  1.1921e-07,  1.1921e-07,\n",
      "          1.1921e-07,  1.0431e-07,  1.1921e-07,  1.1921e-07,  1.1921e-07,\n",
      "          1.0431e-07,  1.1921e-07,  1.0431e-07,  1.1921e-07,  1.0431e-07,\n",
      "          1.1921e-07,  1.1921e-07,  1.1921e-07,  1.1921e-07,  1.0431e-07,\n",
      "          1.1921e-07,  1.3411e-07,  1.0431e-07,  1.1921e-07,  1.1921e-07,\n",
      "          1.1921e-07,  1.1921e-07,  8.9407e-08,  1.1921e-07,  1.1921e-07],\n",
      "        [-4.4703e-07, -4.6194e-07, -4.1723e-07, -4.7684e-07, -4.6194e-07,\n",
      "         -4.4703e-07, -4.1723e-07, -4.3213e-07, -4.1723e-07, -4.6194e-07,\n",
      "         -4.6194e-07, -4.6194e-07, -4.6194e-07, -4.6194e-07, -4.1723e-07,\n",
      "         -4.6194e-07, -4.0233e-07, -4.4703e-07, -4.4703e-07, -4.6194e-07,\n",
      "         -4.4703e-07, -4.4703e-07, -4.3213e-07, -4.6194e-07, -4.6194e-07,\n",
      "         -4.4703e-07, -4.4703e-07, -4.1723e-07, -4.6194e-07, -4.1723e-07,\n",
      "         -4.4703e-07, -4.6194e-07, -4.4703e-07, -4.1723e-07, -4.4703e-07,\n",
      "         -4.4703e-07, -4.6194e-07, -4.6194e-07, -4.4703e-07, -4.4703e-07,\n",
      "         -4.1723e-07, -4.4703e-07, -4.7684e-07, -4.6194e-07, -4.1723e-07,\n",
      "         -4.6194e-07, -4.6194e-07, -4.4703e-07, -4.1723e-07, -4.1723e-07]],\n",
      "       device='cuda:0', grad_fn=<SelectBackward0>)\n"
     ]
    },
    {
     "name": "stderr",
     "output_type": "stream",
     "text": [
      "0.00000000:   5%|▌         | 5/100 [06:19<1:47:23, 67.82s/it]"
     ]
    },
    {
     "name": "stdout",
     "output_type": "stream",
     "text": [
      "tensor([1., 1.], device='cuda:0') tensor([[9.6858e-07, 9.6858e-07, 9.8348e-07, 9.6858e-07, 9.9838e-07, 9.9838e-07,\n",
      "         1.0282e-06, 9.6858e-07, 9.9838e-07, 9.9838e-07, 9.6858e-07, 9.6858e-07,\n",
      "         9.6858e-07, 9.6858e-07, 1.0282e-06, 1.0133e-06, 9.9838e-07, 9.6858e-07,\n",
      "         9.5367e-07, 9.9838e-07, 9.9838e-07, 9.8348e-07, 9.9838e-07, 9.9838e-07,\n",
      "         9.5367e-07, 9.5367e-07, 9.9838e-07, 9.9838e-07, 9.9838e-07, 9.9838e-07,\n",
      "         9.9838e-07, 9.5367e-07, 9.6858e-07, 9.9838e-07, 9.9838e-07, 1.0133e-06,\n",
      "         9.9838e-07, 9.9838e-07, 9.5367e-07, 9.9838e-07, 9.9838e-07, 9.5367e-07,\n",
      "         9.5367e-07, 9.9838e-07, 9.9838e-07, 9.6858e-07, 9.9838e-07, 1.0133e-06,\n",
      "         9.9838e-07, 9.6858e-07],\n",
      "        [8.7917e-07, 8.7917e-07, 8.9407e-07, 8.7917e-07, 8.7917e-07, 8.7917e-07,\n",
      "         9.0897e-07, 8.7917e-07, 8.7917e-07, 8.7917e-07, 8.9407e-07, 8.7917e-07,\n",
      "         8.7917e-07, 8.7917e-07, 9.0897e-07, 8.7917e-07, 8.7917e-07, 8.7917e-07,\n",
      "         8.7917e-07, 8.7917e-07, 8.7917e-07, 8.7917e-07, 8.7917e-07, 8.7917e-07,\n",
      "         8.6427e-07, 8.7917e-07, 8.7917e-07, 8.7917e-07, 8.7917e-07, 8.7917e-07,\n",
      "         8.7917e-07, 8.7917e-07, 8.7917e-07, 8.7917e-07, 8.7917e-07, 8.7917e-07,\n",
      "         8.7917e-07, 8.7917e-07, 8.7917e-07, 8.7917e-07, 8.7917e-07, 8.7917e-07,\n",
      "         8.7917e-07, 8.7917e-07, 8.7917e-07, 8.7917e-07, 8.7917e-07, 9.0897e-07,\n",
      "         8.7917e-07, 8.7917e-07]], device='cuda:0', grad_fn=<SelectBackward0>)\n"
     ]
    },
    {
     "name": "stderr",
     "output_type": "stream",
     "text": [
      "0.00000000:   5%|▌         | 5/100 [06:21<1:47:23, 67.82s/it]"
     ]
    },
    {
     "name": "stdout",
     "output_type": "stream",
     "text": [
      "tensor([1., 1.], device='cuda:0') tensor([[1.8924e-06, 1.9222e-06, 1.9222e-06, 1.9222e-06, 1.8775e-06, 1.9222e-06,\n",
      "         1.8626e-06, 1.8626e-06, 1.8775e-06, 1.9521e-06, 1.9073e-06, 1.8924e-06,\n",
      "         1.9222e-06, 1.9073e-06, 1.8924e-06, 1.8626e-06, 1.8626e-06, 1.8626e-06,\n",
      "         1.8626e-06, 1.8924e-06, 1.9222e-06, 1.8775e-06, 1.8626e-06, 1.8626e-06,\n",
      "         1.8775e-06, 1.9372e-06, 1.9222e-06, 1.8626e-06, 1.8626e-06, 1.8775e-06,\n",
      "         1.8924e-06, 1.8626e-06, 1.9073e-06, 1.9222e-06, 1.9521e-06, 1.8924e-06,\n",
      "         1.9222e-06, 1.9222e-06, 1.9073e-06, 1.8924e-06, 1.9372e-06, 1.8775e-06,\n",
      "         1.9073e-06, 1.8924e-06, 1.9222e-06, 1.9073e-06, 1.9670e-06, 1.9521e-06,\n",
      "         1.9222e-06, 1.9372e-06],\n",
      "        [1.6242e-06, 1.6391e-06, 1.6093e-06, 1.6093e-06, 1.6093e-06, 1.6391e-06,\n",
      "         1.6242e-06, 1.6391e-06, 1.5944e-06, 1.6242e-06, 1.6242e-06, 1.5795e-06,\n",
      "         1.6391e-06, 1.6093e-06, 1.5795e-06, 1.6391e-06, 1.6391e-06, 1.6391e-06,\n",
      "         1.6391e-06, 1.6391e-06, 1.6391e-06, 1.6391e-06, 1.6242e-06, 1.6391e-06,\n",
      "         1.6242e-06, 1.6391e-06, 1.6391e-06, 1.6391e-06, 1.5795e-06, 1.6391e-06,\n",
      "         1.5795e-06, 1.6391e-06, 1.6391e-06, 1.6242e-06, 1.6093e-06, 1.6391e-06,\n",
      "         1.6391e-06, 1.6391e-06, 1.5795e-06, 1.6242e-06, 1.6242e-06, 1.6391e-06,\n",
      "         1.6391e-06, 1.5944e-06, 1.6689e-06, 1.6391e-06, 1.6242e-06, 1.6391e-06,\n",
      "         1.5944e-06, 1.6242e-06]], device='cuda:0', grad_fn=<SelectBackward0>)\n"
     ]
    },
    {
     "name": "stderr",
     "output_type": "stream",
     "text": [
      "0.00000000:   5%|▌         | 5/100 [06:22<1:47:23, 67.82s/it]"
     ]
    },
    {
     "name": "stdout",
     "output_type": "stream",
     "text": [
      "tensor([1., 1.], device='cuda:0') tensor([[1.7881e-06, 1.8328e-06, 1.8626e-06, 1.8626e-06, 1.8328e-06, 1.7881e-06,\n",
      "         1.7732e-06, 1.8328e-06, 1.8179e-06, 1.8328e-06, 1.8626e-06, 1.8328e-06,\n",
      "         1.8626e-06, 1.8626e-06, 1.8477e-06, 1.8477e-06, 1.7881e-06, 1.8626e-06,\n",
      "         1.8328e-06, 1.8030e-06, 1.8328e-06, 1.8179e-06, 1.8328e-06, 1.8477e-06,\n",
      "         1.8179e-06, 1.8328e-06, 1.8030e-06, 1.8328e-06, 1.8477e-06, 1.8030e-06,\n",
      "         1.8328e-06, 1.8030e-06, 1.8626e-06, 1.8179e-06, 1.8179e-06, 1.8328e-06,\n",
      "         1.8328e-06, 1.8179e-06, 1.8328e-06, 1.8030e-06, 1.8179e-06, 1.8030e-06,\n",
      "         1.8328e-06, 1.8030e-06, 1.8328e-06, 1.8626e-06, 1.8328e-06, 1.8328e-06,\n",
      "         1.8328e-06, 1.8030e-06],\n",
      "        [2.3842e-06, 2.3991e-06, 2.4289e-06, 2.3395e-06, 2.3991e-06, 2.3842e-06,\n",
      "         2.3991e-06, 2.3991e-06, 2.3991e-06, 2.3693e-06, 2.3842e-06, 2.3693e-06,\n",
      "         2.3693e-06, 2.3991e-06, 2.3991e-06, 2.3991e-06, 2.3842e-06, 2.3991e-06,\n",
      "         2.3693e-06, 2.3842e-06, 2.3991e-06, 2.3991e-06, 2.3693e-06, 2.3693e-06,\n",
      "         2.3991e-06, 2.3544e-06, 2.3991e-06, 2.3842e-06, 2.4140e-06, 2.3991e-06,\n",
      "         2.3991e-06, 2.3991e-06, 2.3991e-06, 2.3693e-06, 2.3991e-06, 2.3544e-06,\n",
      "         2.3693e-06, 2.3693e-06, 2.3991e-06, 2.3991e-06, 2.3991e-06, 2.3842e-06,\n",
      "         2.4289e-06, 2.3991e-06, 2.3991e-06, 2.3991e-06, 2.3842e-06, 2.3842e-06,\n",
      "         2.3544e-06, 2.3842e-06]], device='cuda:0', grad_fn=<SelectBackward0>)\n"
     ]
    },
    {
     "name": "stderr",
     "output_type": "stream",
     "text": [
      "0.00000000:   5%|▌         | 5/100 [06:24<1:47:23, 67.82s/it]"
     ]
    },
    {
     "name": "stdout",
     "output_type": "stream",
     "text": [
      "tensor([1., 1.], device='cuda:0') tensor([[1.7434e-06, 1.7583e-06, 1.7434e-06, 1.7732e-06, 1.7583e-06, 1.7732e-06,\n",
      "         1.7583e-06, 1.7583e-06, 1.7732e-06, 1.7583e-06, 1.7583e-06, 1.7583e-06,\n",
      "         1.7434e-06, 1.7583e-06, 1.7732e-06, 1.7583e-06, 1.7881e-06, 1.7583e-06,\n",
      "         1.8030e-06, 1.7583e-06, 1.7434e-06, 1.7732e-06, 1.7583e-06, 1.7583e-06,\n",
      "         1.7285e-06, 1.7583e-06, 1.7583e-06, 1.7285e-06, 1.7732e-06, 1.7583e-06,\n",
      "         1.7583e-06, 1.7583e-06, 1.7583e-06, 1.7434e-06, 1.7583e-06, 1.7732e-06,\n",
      "         1.7732e-06, 1.7434e-06, 1.7583e-06, 1.7732e-06, 1.7732e-06, 1.8030e-06,\n",
      "         1.7583e-06, 1.7583e-06, 1.7285e-06, 1.7583e-06, 1.7434e-06, 1.7732e-06,\n",
      "         1.7732e-06, 1.7583e-06],\n",
      "        [2.2799e-06, 2.2799e-06, 2.2799e-06, 2.2948e-06, 2.2948e-06, 2.2501e-06,\n",
      "         2.2948e-06, 2.3097e-06, 2.2948e-06, 2.2948e-06, 2.2948e-06, 2.2948e-06,\n",
      "         2.2799e-06, 2.2948e-06, 2.2799e-06, 2.3097e-06, 2.2948e-06, 2.2948e-06,\n",
      "         2.3097e-06, 2.2799e-06, 2.2799e-06, 2.2948e-06, 2.2799e-06, 2.3097e-06,\n",
      "         2.3097e-06, 2.2799e-06, 2.2948e-06, 2.3097e-06, 2.3097e-06, 2.2948e-06,\n",
      "         2.2650e-06, 2.2948e-06, 2.2948e-06, 2.2650e-06, 2.2799e-06, 2.2948e-06,\n",
      "         2.3097e-06, 2.2799e-06, 2.2948e-06, 2.3097e-06, 2.3097e-06, 2.2501e-06,\n",
      "         2.2799e-06, 2.2799e-06, 2.3097e-06, 2.2948e-06, 2.3097e-06, 2.3097e-06,\n",
      "         2.2799e-06, 2.2948e-06]], device='cuda:0', grad_fn=<SelectBackward0>)\n"
     ]
    },
    {
     "name": "stderr",
     "output_type": "stream",
     "text": [
      "0.00000000:   5%|▌         | 5/100 [06:25<1:47:23, 67.82s/it]"
     ]
    },
    {
     "name": "stdout",
     "output_type": "stream",
     "text": [
      "tensor([1., 1.], device='cuda:0') tensor([[1.4007e-06, 1.3709e-06, 1.4007e-06, 1.3858e-06, 1.4156e-06, 1.4007e-06,\n",
      "         1.3709e-06, 1.4305e-06, 1.4156e-06, 1.4156e-06, 1.3858e-06, 1.4156e-06,\n",
      "         1.4007e-06, 1.4156e-06, 1.4007e-06, 1.3858e-06, 1.3858e-06, 1.4007e-06,\n",
      "         1.4156e-06, 1.3858e-06, 1.4007e-06, 1.4007e-06, 1.4007e-06, 1.4007e-06,\n",
      "         1.4007e-06, 1.4007e-06, 1.4156e-06, 1.4156e-06, 1.3858e-06, 1.4007e-06,\n",
      "         1.3858e-06, 1.4007e-06, 1.4156e-06, 1.3858e-06, 1.4007e-06, 1.4156e-06,\n",
      "         1.4007e-06, 1.4007e-06, 1.4156e-06, 1.3858e-06, 1.3858e-06, 1.3858e-06,\n",
      "         1.4007e-06, 1.4007e-06, 1.4156e-06, 1.3858e-06, 1.4156e-06, 1.4156e-06,\n",
      "         1.4007e-06, 1.4007e-06],\n",
      "        [1.6540e-06, 1.6838e-06, 1.6540e-06, 1.6838e-06, 1.6838e-06, 1.6540e-06,\n",
      "         1.6540e-06, 1.6689e-06, 1.6540e-06, 1.6540e-06, 1.7136e-06, 1.6838e-06,\n",
      "         1.6689e-06, 1.6540e-06, 1.6838e-06, 1.6242e-06, 1.7136e-06, 1.6540e-06,\n",
      "         1.6540e-06, 1.6540e-06, 1.6540e-06, 1.6540e-06, 1.6540e-06, 1.6540e-06,\n",
      "         1.6540e-06, 1.6540e-06, 1.6540e-06, 1.6838e-06, 1.6540e-06, 1.6540e-06,\n",
      "         1.6838e-06, 1.6540e-06, 1.6540e-06, 1.6540e-06, 1.6540e-06, 1.6540e-06,\n",
      "         1.6540e-06, 1.6540e-06, 1.6540e-06, 1.7136e-06, 1.6540e-06, 1.6540e-06,\n",
      "         1.6540e-06, 1.6540e-06, 1.6540e-06, 1.6391e-06, 1.6540e-06, 1.6540e-06,\n",
      "         1.6540e-06, 1.6540e-06]], device='cuda:0', grad_fn=<SelectBackward0>)\n"
     ]
    },
    {
     "name": "stderr",
     "output_type": "stream",
     "text": [
      "0.00000000:   5%|▌         | 5/100 [06:27<1:47:23, 67.82s/it]"
     ]
    },
    {
     "name": "stdout",
     "output_type": "stream",
     "text": [
      "tensor([1., 1.], device='cuda:0') tensor([[6.7055e-07, 6.8545e-07, 6.7055e-07, 6.7055e-07, 7.0035e-07, 6.7055e-07,\n",
      "         6.8545e-07, 6.5565e-07, 7.4506e-07, 7.4506e-07, 6.8545e-07, 6.8545e-07,\n",
      "         6.8545e-07, 6.8545e-07, 6.7055e-07, 6.4075e-07, 7.1526e-07, 7.0035e-07,\n",
      "         6.7055e-07, 6.8545e-07, 6.8545e-07, 6.7055e-07, 7.1526e-07, 6.7055e-07,\n",
      "         6.8545e-07, 6.7055e-07, 6.7055e-07, 6.8545e-07, 6.7055e-07, 6.8545e-07,\n",
      "         6.7055e-07, 6.8545e-07, 6.7055e-07, 6.8545e-07, 7.3016e-07, 6.7055e-07,\n",
      "         7.1526e-07, 6.8545e-07, 6.7055e-07, 6.5565e-07, 6.7055e-07, 6.5565e-07,\n",
      "         6.8545e-07, 7.1526e-07, 6.7055e-07, 6.8545e-07, 6.7055e-07, 6.8545e-07,\n",
      "         7.4506e-07, 6.8545e-07],\n",
      "        [8.0466e-07, 7.5996e-07, 8.0466e-07, 8.0466e-07, 8.1956e-07, 8.0466e-07,\n",
      "         7.5996e-07, 7.5996e-07, 7.7486e-07, 7.7486e-07, 7.5996e-07, 7.7486e-07,\n",
      "         7.4506e-07, 7.8976e-07, 8.0466e-07, 7.8976e-07, 8.1956e-07, 8.0466e-07,\n",
      "         7.8976e-07, 7.5996e-07, 8.0466e-07, 8.0466e-07, 8.3447e-07, 8.0466e-07,\n",
      "         7.5996e-07, 8.0466e-07, 8.0466e-07, 8.0466e-07, 8.0466e-07, 8.0466e-07,\n",
      "         8.0466e-07, 7.4506e-07, 8.0466e-07, 7.7486e-07, 7.7486e-07, 8.0466e-07,\n",
      "         7.8976e-07, 7.7486e-07, 7.5996e-07, 7.5996e-07, 8.0466e-07, 8.1956e-07,\n",
      "         7.8976e-07, 7.8976e-07, 8.0466e-07, 8.1956e-07, 8.0466e-07, 7.5996e-07,\n",
      "         7.7486e-07, 8.1956e-07]], device='cuda:0', grad_fn=<SelectBackward0>)\n"
     ]
    },
    {
     "name": "stderr",
     "output_type": "stream",
     "text": [
      "0.00000000:   5%|▌         | 5/100 [06:28<1:47:23, 67.82s/it]"
     ]
    },
    {
     "name": "stdout",
     "output_type": "stream",
     "text": [
      "tensor([1., 1.], device='cuda:0') tensor([[-3.2783e-07, -3.4273e-07, -3.4273e-07, -3.4273e-07, -3.7253e-07,\n",
      "         -3.2783e-07, -3.5763e-07, -3.5763e-07, -3.4273e-07, -2.9802e-07,\n",
      "         -2.9802e-07, -3.4273e-07, -3.5763e-07, -3.5763e-07, -3.2783e-07,\n",
      "         -3.5763e-07, -3.4273e-07, -3.4273e-07, -3.4273e-07, -3.5763e-07,\n",
      "         -3.4273e-07, -2.9802e-07, -3.2783e-07, -3.1292e-07, -2.8312e-07,\n",
      "         -3.4273e-07, -3.2783e-07, -3.5763e-07, -3.2783e-07, -3.5763e-07,\n",
      "         -3.2783e-07, -3.5763e-07, -3.4273e-07, -3.2783e-07, -3.4273e-07,\n",
      "         -3.5763e-07, -3.4273e-07, -3.5763e-07, -3.4273e-07, -3.4273e-07,\n",
      "         -3.4273e-07, -2.9802e-07, -3.5763e-07, -3.4273e-07, -3.2783e-07,\n",
      "         -2.9802e-07, -3.1292e-07, -3.5763e-07, -3.5763e-07, -3.5763e-07],\n",
      "        [ 7.4506e-08,  1.1921e-07,  8.9407e-08,  1.1921e-07,  7.4506e-08,\n",
      "          1.4901e-07,  8.9407e-08,  8.9407e-08,  1.1921e-07,  1.4901e-07,\n",
      "          1.4901e-07,  1.1921e-07,  8.9407e-08,  7.4506e-08,  7.4506e-08,\n",
      "          8.9407e-08,  1.1921e-07,  1.1921e-07,  1.1921e-07,  8.9407e-08,\n",
      "          1.1921e-07,  1.4901e-07,  8.9407e-08,  1.0431e-07,  8.9407e-08,\n",
      "          1.1921e-07,  7.4506e-08,  8.9407e-08,  7.4506e-08,  8.9407e-08,\n",
      "          7.4506e-08,  8.9407e-08,  1.3411e-07,  7.4506e-08,  1.1921e-07,\n",
      "          1.4901e-07,  1.1921e-07,  1.1921e-07,  7.4506e-08,  1.1921e-07,\n",
      "          1.1921e-07,  1.4901e-07,  8.9407e-08,  1.1921e-07,  1.4901e-07,\n",
      "          1.1921e-07,  1.3411e-07,  8.9407e-08,  8.9407e-08,  8.9407e-08]],\n",
      "       device='cuda:0', grad_fn=<SelectBackward0>)\n"
     ]
    },
    {
     "name": "stderr",
     "output_type": "stream",
     "text": [
      "0.00000000:   5%|▌         | 5/100 [06:30<1:47:23, 67.82s/it]"
     ]
    },
    {
     "name": "stdout",
     "output_type": "stream",
     "text": [
      "tensor([1., 1.], device='cuda:0') tensor([[-5.6624e-07, -5.3644e-07, -5.3644e-07, -5.3644e-07, -5.3644e-07,\n",
      "         -5.3644e-07, -5.6624e-07, -5.3644e-07, -5.5134e-07, -5.3644e-07,\n",
      "         -5.6624e-07, -5.3644e-07, -5.5134e-07, -5.3644e-07, -5.3644e-07,\n",
      "         -5.3644e-07, -5.3644e-07, -5.6624e-07, -5.6624e-07, -5.2154e-07,\n",
      "         -5.6624e-07, -5.2154e-07, -5.2154e-07, -5.6624e-07, -5.3644e-07,\n",
      "         -5.3644e-07, -5.3644e-07, -5.2154e-07, -5.3644e-07, -5.5134e-07,\n",
      "         -5.3644e-07, -5.3644e-07, -5.3644e-07, -5.5134e-07, -5.6624e-07,\n",
      "         -5.6624e-07, -5.6624e-07, -5.6624e-07, -5.3644e-07, -5.3644e-07,\n",
      "         -5.3644e-07, -5.5134e-07, -5.3644e-07, -5.2154e-07, -5.3644e-07,\n",
      "         -5.3644e-07, -5.3644e-07, -5.5134e-07, -5.6624e-07, -5.3644e-07],\n",
      "        [-1.1772e-06, -1.1176e-06, -1.1176e-06, -1.1474e-06, -1.1474e-06,\n",
      "         -1.1176e-06, -1.1474e-06, -1.1176e-06, -1.1325e-06, -1.1474e-06,\n",
      "         -1.1474e-06, -1.1474e-06, -1.1325e-06, -1.1474e-06, -1.1176e-06,\n",
      "         -1.1176e-06, -1.1176e-06, -1.1474e-06, -1.1474e-06, -1.1474e-06,\n",
      "         -1.1772e-06, -1.1325e-06, -1.1623e-06, -1.1474e-06, -1.1176e-06,\n",
      "         -1.1176e-06, -1.1176e-06, -1.1474e-06, -1.1474e-06, -1.1325e-06,\n",
      "         -1.1176e-06, -1.1474e-06, -1.1772e-06, -1.1772e-06, -1.1474e-06,\n",
      "         -1.1474e-06, -1.1474e-06, -1.1474e-06, -1.1176e-06, -1.1176e-06,\n",
      "         -1.1176e-06, -1.1474e-06, -1.1474e-06, -1.1474e-06, -1.1772e-06,\n",
      "         -1.1176e-06, -1.1772e-06, -1.1176e-06, -1.1474e-06, -1.1176e-06]],\n",
      "       device='cuda:0', grad_fn=<SelectBackward0>)\n"
     ]
    },
    {
     "name": "stderr",
     "output_type": "stream",
     "text": [
      "0.00000000:   5%|▌         | 5/100 [06:31<1:47:23, 67.82s/it]"
     ]
    },
    {
     "name": "stdout",
     "output_type": "stream",
     "text": [
      "tensor([1., 1.], device='cuda:0') tensor([[-1.6540e-06, -1.6242e-06, -1.6242e-06, -1.6540e-06, -1.5944e-06,\n",
      "         -1.6540e-06, -1.6242e-06, -1.6242e-06, -1.6093e-06, -1.6242e-06,\n",
      "         -1.6242e-06, -1.6242e-06, -1.6242e-06, -1.6242e-06, -1.6242e-06,\n",
      "         -1.6242e-06, -1.6242e-06, -1.6242e-06, -1.6540e-06, -1.6242e-06,\n",
      "         -1.6242e-06, -1.6242e-06, -1.6242e-06, -1.6391e-06, -1.6242e-06,\n",
      "         -1.6242e-06, -1.6242e-06, -1.6242e-06, -1.6242e-06, -1.6242e-06,\n",
      "         -1.6391e-06, -1.6093e-06, -1.6391e-06, -1.6242e-06, -1.6540e-06,\n",
      "         -1.6540e-06, -1.6242e-06, -1.6391e-06, -1.6391e-06, -1.6242e-06,\n",
      "         -1.6242e-06, -1.6838e-06, -1.5944e-06, -1.6540e-06, -1.6242e-06,\n",
      "         -1.6242e-06, -1.6242e-06, -1.6093e-06, -1.6391e-06, -1.6242e-06],\n",
      "        [-1.0282e-06, -1.0133e-06, -9.6858e-07, -9.8348e-07, -9.6858e-07,\n",
      "         -1.0133e-06, -9.8348e-07, -9.8348e-07, -9.8348e-07, -9.8348e-07,\n",
      "         -9.9838e-07, -9.6858e-07, -1.0133e-06, -9.9838e-07, -1.0133e-06,\n",
      "         -9.6858e-07, -9.6858e-07, -9.6858e-07, -9.8348e-07, -9.9838e-07,\n",
      "         -9.6858e-07, -1.0133e-06, -1.0133e-06, -9.8348e-07, -9.9838e-07,\n",
      "         -1.0133e-06, -1.0133e-06, -9.6858e-07, -1.0133e-06, -9.6858e-07,\n",
      "         -9.8348e-07, -9.6858e-07, -9.8348e-07, -9.6858e-07, -1.0133e-06,\n",
      "         -1.0133e-06, -9.6858e-07, -9.8348e-07, -9.8348e-07, -1.0133e-06,\n",
      "         -9.8348e-07, -9.6858e-07, -9.6858e-07, -9.8348e-07, -9.8348e-07,\n",
      "         -9.6858e-07, -9.9838e-07, -9.8348e-07, -9.3877e-07, -9.8348e-07]],\n",
      "       device='cuda:0', grad_fn=<SelectBackward0>)\n"
     ]
    },
    {
     "name": "stderr",
     "output_type": "stream",
     "text": [
      "0.00000000:   5%|▌         | 5/100 [06:33<1:47:23, 67.82s/it]"
     ]
    },
    {
     "name": "stdout",
     "output_type": "stream",
     "text": [
      "tensor([1., 1.], device='cuda:0') tensor([[-1.2219e-06, -1.2219e-06, -1.2368e-06, -1.2219e-06, -1.2219e-06,\n",
      "         -1.2219e-06, -1.2219e-06, -1.2219e-06, -1.1772e-06, -1.1921e-06,\n",
      "         -1.1921e-06, -1.2219e-06, -1.1921e-06, -1.2219e-06, -1.2219e-06,\n",
      "         -1.2219e-06, -1.2070e-06, -1.2219e-06, -1.2219e-06, -1.2219e-06,\n",
      "         -1.2219e-06, -1.1772e-06, -1.2219e-06, -1.1921e-06, -1.1772e-06,\n",
      "         -1.2219e-06, -1.1921e-06, -1.2219e-06, -1.1772e-06, -1.1772e-06,\n",
      "         -1.2368e-06, -1.2219e-06, -1.2219e-06, -1.2219e-06, -1.2219e-06,\n",
      "         -1.2070e-06, -1.2219e-06, -1.1921e-06, -1.2219e-06, -1.2219e-06,\n",
      "         -1.2219e-06, -1.2368e-06, -1.2219e-06, -1.2219e-06, -1.2070e-06,\n",
      "         -1.2219e-06, -1.2219e-06, -1.1772e-06, -1.2219e-06, -1.2219e-06],\n",
      "        [-1.7136e-06, -1.7136e-06, -1.7285e-06, -1.7136e-06, -1.7136e-06,\n",
      "         -1.7285e-06, -1.7136e-06, -1.7136e-06, -1.6987e-06, -1.6987e-06,\n",
      "         -1.6987e-06, -1.6987e-06, -1.7285e-06, -1.7136e-06, -1.7136e-06,\n",
      "         -1.6838e-06, -1.6987e-06, -1.7136e-06, -1.6987e-06, -1.7285e-06,\n",
      "         -1.6987e-06, -1.6987e-06, -1.7136e-06, -1.6987e-06, -1.6987e-06,\n",
      "         -1.6987e-06, -1.6987e-06, -1.7136e-06, -1.6987e-06, -1.6987e-06,\n",
      "         -1.7285e-06, -1.7136e-06, -1.6987e-06, -1.7136e-06, -1.6987e-06,\n",
      "         -1.7136e-06, -1.6987e-06, -1.6987e-06, -1.6987e-06, -1.6987e-06,\n",
      "         -1.7136e-06, -1.7285e-06, -1.7136e-06, -1.6987e-06, -1.7285e-06,\n",
      "         -1.7136e-06, -1.7136e-06, -1.6987e-06, -1.7136e-06, -1.7136e-06]],\n",
      "       device='cuda:0', grad_fn=<SelectBackward0>)\n"
     ]
    },
    {
     "name": "stderr",
     "output_type": "stream",
     "text": [
      "0.00000000:   5%|▌         | 5/100 [06:34<1:47:23, 67.82s/it]"
     ]
    },
    {
     "name": "stdout",
     "output_type": "stream",
     "text": [
      "tensor([1., 1.], device='cuda:0') tensor([[-1.1772e-06, -1.2070e-06, -1.1772e-06, -1.2070e-06, -1.1772e-06,\n",
      "         -1.1772e-06, -1.1772e-06, -1.2070e-06, -1.1772e-06, -1.1772e-06,\n",
      "         -1.1921e-06, -1.1772e-06, -1.2070e-06, -1.1772e-06, -1.1772e-06,\n",
      "         -1.1921e-06, -1.2070e-06, -1.2070e-06, -1.1772e-06, -1.1921e-06,\n",
      "         -1.2070e-06, -1.2070e-06, -1.1772e-06, -1.1772e-06, -1.2070e-06,\n",
      "         -1.2070e-06, -1.2070e-06, -1.1772e-06, -1.1772e-06, -1.2070e-06,\n",
      "         -1.1772e-06, -1.1772e-06, -1.2070e-06, -1.2070e-06, -1.2070e-06,\n",
      "         -1.1772e-06, -1.1772e-06, -1.2070e-06, -1.2070e-06, -1.1772e-06,\n",
      "         -1.2070e-06, -1.2070e-06, -1.2070e-06, -1.2070e-06, -1.1772e-06,\n",
      "         -1.1772e-06, -1.1623e-06, -1.1772e-06, -1.1772e-06, -1.2070e-06],\n",
      "        [-1.4156e-06, -1.4007e-06, -1.3858e-06, -1.4156e-06, -1.3858e-06,\n",
      "         -1.4007e-06, -1.4305e-06, -1.4156e-06, -1.4156e-06, -1.4156e-06,\n",
      "         -1.4156e-06, -1.3858e-06, -1.3858e-06, -1.4007e-06, -1.4007e-06,\n",
      "         -1.4156e-06, -1.3858e-06, -1.4007e-06, -1.3858e-06, -1.3709e-06,\n",
      "         -1.4007e-06, -1.3858e-06, -1.4007e-06, -1.4156e-06, -1.3858e-06,\n",
      "         -1.4007e-06, -1.4156e-06, -1.4156e-06, -1.4007e-06, -1.4156e-06,\n",
      "         -1.3858e-06, -1.4156e-06, -1.3858e-06, -1.3858e-06, -1.4007e-06,\n",
      "         -1.4007e-06, -1.4156e-06, -1.3858e-06, -1.4156e-06, -1.4007e-06,\n",
      "         -1.4007e-06, -1.4007e-06, -1.3858e-06, -1.3858e-06, -1.4156e-06,\n",
      "         -1.4156e-06, -1.3858e-06, -1.4156e-06, -1.3858e-06, -1.4156e-06]],\n",
      "       device='cuda:0', grad_fn=<SelectBackward0>)\n"
     ]
    },
    {
     "name": "stderr",
     "output_type": "stream",
     "text": [
      "0.00000000:   5%|▌         | 5/100 [06:35<1:47:23, 67.82s/it]"
     ]
    },
    {
     "name": "stdout",
     "output_type": "stream",
     "text": [
      "tensor([1., 1.], device='cuda:0') tensor([[-1.0282e-06, -9.8348e-07, -1.0282e-06, -9.9838e-07, -9.8348e-07,\n",
      "         -9.9838e-07, -9.5367e-07, -9.9838e-07, -1.0282e-06, -9.8348e-07,\n",
      "         -1.0282e-06, -9.8348e-07, -9.8348e-07, -9.8348e-07, -9.8348e-07,\n",
      "         -9.8348e-07, -9.8348e-07, -9.9838e-07, -9.6858e-07, -1.0133e-06,\n",
      "         -9.8348e-07, -9.8348e-07, -1.0282e-06, -1.0133e-06, -1.0133e-06,\n",
      "         -9.9838e-07, -9.9838e-07, -1.0133e-06, -9.8348e-07, -9.8348e-07,\n",
      "         -1.0133e-06, -9.8348e-07, -9.8348e-07, -9.8348e-07, -1.0133e-06,\n",
      "         -1.0282e-06, -9.8348e-07, -9.8348e-07, -9.9838e-07, -9.8348e-07,\n",
      "         -9.9838e-07, -1.0133e-06, -9.8348e-07, -9.9838e-07, -9.9838e-07,\n",
      "         -9.6858e-07, -9.8348e-07, -9.8348e-07, -9.9838e-07, -9.6858e-07],\n",
      "        [-7.8976e-07, -7.5996e-07, -7.7486e-07, -7.8976e-07, -7.5996e-07,\n",
      "         -8.1956e-07, -7.5996e-07, -7.8976e-07, -7.7486e-07, -7.5996e-07,\n",
      "         -7.8976e-07, -7.5996e-07, -7.5996e-07, -7.5996e-07, -7.5996e-07,\n",
      "         -7.5996e-07, -7.5996e-07, -7.8976e-07, -7.7486e-07, -7.5996e-07,\n",
      "         -7.5996e-07, -7.5996e-07, -7.8976e-07, -7.5996e-07, -7.5996e-07,\n",
      "         -7.8976e-07, -7.7486e-07, -7.8976e-07, -7.5996e-07, -7.5996e-07,\n",
      "         -7.5996e-07, -7.5996e-07, -7.5996e-07, -7.8976e-07, -7.8976e-07,\n",
      "         -7.8976e-07, -7.5996e-07, -7.5996e-07, -7.8976e-07, -7.7486e-07,\n",
      "         -7.8976e-07, -7.5996e-07, -7.5996e-07, -7.5996e-07, -7.8976e-07,\n",
      "         -8.1956e-07, -7.5996e-07, -7.5996e-07, -7.8976e-07, -7.7486e-07]],\n",
      "       device='cuda:0', grad_fn=<SelectBackward0>)\n"
     ]
    },
    {
     "name": "stderr",
     "output_type": "stream",
     "text": [
      "0.00000000:   5%|▌         | 5/100 [06:37<1:47:23, 67.82s/it]"
     ]
    },
    {
     "name": "stdout",
     "output_type": "stream",
     "text": [
      "tensor([1., 1.], device='cuda:0') tensor([[-4.4703e-08, -7.4506e-08, -2.9802e-08, -7.4506e-08, -7.4506e-08,\n",
      "         -7.4506e-08, -2.9802e-08, -7.4506e-08, -4.4703e-08, -4.4703e-08,\n",
      "         -7.4506e-08, -7.4506e-08, -7.4506e-08, -2.9802e-08, -7.4506e-08,\n",
      "         -4.4703e-08, -4.4703e-08, -7.4506e-08, -7.4506e-08, -2.9802e-08,\n",
      "         -4.4703e-08, -4.4703e-08, -7.4506e-08, -4.4703e-08, -8.9407e-08,\n",
      "         -4.4703e-08, -2.9802e-08, -4.4703e-08, -7.4506e-08, -4.4703e-08,\n",
      "         -7.4506e-08, -7.4506e-08, -7.4506e-08, -4.4703e-08, -4.4703e-08,\n",
      "         -4.4703e-08, -7.4506e-08, -7.4506e-08, -7.4506e-08, -4.4703e-08,\n",
      "         -2.9802e-08, -7.4506e-08, -5.9605e-08, -7.4506e-08, -2.9802e-08,\n",
      "         -7.4506e-08, -2.9802e-08, -4.4703e-08, -4.4703e-08, -7.4506e-08],\n",
      "        [-6.7055e-07, -6.5565e-07, -6.4075e-07, -6.4075e-07, -6.4075e-07,\n",
      "         -6.5565e-07, -6.2585e-07, -6.1095e-07, -6.7055e-07, -6.7055e-07,\n",
      "         -6.4075e-07, -6.5565e-07, -6.4075e-07, -6.2585e-07, -6.4075e-07,\n",
      "         -6.7055e-07, -6.5565e-07, -6.4075e-07, -6.5565e-07, -6.4075e-07,\n",
      "         -6.5565e-07, -6.5565e-07, -6.4075e-07, -6.5565e-07, -6.4075e-07,\n",
      "         -6.5565e-07, -6.2585e-07, -6.4075e-07, -6.4075e-07, -6.5565e-07,\n",
      "         -6.4075e-07, -6.4075e-07, -7.0035e-07, -6.5565e-07, -6.5565e-07,\n",
      "         -6.5565e-07, -6.7055e-07, -6.4075e-07, -6.4075e-07, -6.5565e-07,\n",
      "         -6.2585e-07, -6.4075e-07, -6.4075e-07, -6.5565e-07, -6.5565e-07,\n",
      "         -6.5565e-07, -6.2585e-07, -6.5565e-07, -6.7055e-07, -6.5565e-07]],\n",
      "       device='cuda:0', grad_fn=<SelectBackward0>)\n"
     ]
    },
    {
     "name": "stderr",
     "output_type": "stream",
     "text": [
      "0.00000000:   5%|▌         | 5/100 [06:38<1:47:23, 67.82s/it]"
     ]
    },
    {
     "name": "stdout",
     "output_type": "stream",
     "text": [
      "tensor([1., 1.], device='cuda:0') tensor([[ 5.6624e-07,  5.9605e-07,  6.2585e-07,  5.6624e-07,  6.5565e-07,\n",
      "          5.6624e-07,  6.2585e-07,  6.4075e-07,  5.8115e-07,  5.6624e-07,\n",
      "          5.9605e-07,  6.1095e-07,  6.2585e-07,  5.9605e-07,  5.8115e-07,\n",
      "          6.2585e-07,  6.5565e-07,  6.2585e-07,  6.5565e-07,  5.6624e-07,\n",
      "          6.4075e-07,  5.9605e-07,  5.6624e-07,  6.2585e-07,  5.6624e-07,\n",
      "          6.2585e-07,  6.1095e-07,  5.6624e-07,  6.2585e-07,  6.5565e-07,\n",
      "          5.9605e-07,  6.4075e-07,  6.4075e-07,  6.1095e-07,  5.9605e-07,\n",
      "          5.8115e-07,  5.6624e-07,  5.6624e-07,  6.5565e-07,  6.2585e-07,\n",
      "          6.2585e-07,  6.1095e-07,  5.6624e-07,  6.2585e-07,  6.1095e-07,\n",
      "          5.6624e-07,  6.5565e-07,  5.6624e-07,  6.2585e-07,  6.2585e-07],\n",
      "        [-2.2352e-07, -2.0862e-07, -2.2352e-07, -2.2352e-07, -2.2352e-07,\n",
      "         -2.2352e-07, -2.3842e-07, -2.0862e-07, -2.2352e-07, -2.2352e-07,\n",
      "         -2.3842e-07, -1.9372e-07, -2.2352e-07, -2.0862e-07, -2.2352e-07,\n",
      "         -2.2352e-07, -2.2352e-07, -2.0862e-07, -1.9372e-07, -2.2352e-07,\n",
      "         -2.0862e-07, -2.3842e-07, -2.2352e-07, -2.2352e-07, -2.2352e-07,\n",
      "         -2.2352e-07, -2.3842e-07, -2.2352e-07, -2.0862e-07, -2.3842e-07,\n",
      "         -2.3842e-07, -2.2352e-07, -2.2352e-07, -2.2352e-07, -2.3842e-07,\n",
      "         -2.2352e-07, -2.2352e-07, -2.2352e-07, -2.3842e-07, -2.2352e-07,\n",
      "         -2.3842e-07, -2.0862e-07, -2.2352e-07, -2.3842e-07, -2.3842e-07,\n",
      "         -2.2352e-07, -2.0862e-07, -2.2352e-07, -2.3842e-07, -2.3842e-07]],\n",
      "       device='cuda:0', grad_fn=<SelectBackward0>)\n"
     ]
    },
    {
     "name": "stderr",
     "output_type": "stream",
     "text": [
      "0.00000000:   5%|▌         | 5/100 [06:40<1:47:23, 67.82s/it]"
     ]
    },
    {
     "name": "stdout",
     "output_type": "stream",
     "text": [
      "tensor([1., 1.], device='cuda:0') tensor([[2.2352e-07, 2.0862e-07, 2.0862e-07, 1.7881e-07, 1.7881e-07, 2.0862e-07,\n",
      "         2.0862e-07, 2.0862e-07, 1.7881e-07, 2.0862e-07, 2.0862e-07, 1.7881e-07,\n",
      "         2.2352e-07, 2.0862e-07, 1.7881e-07, 2.0862e-07, 2.2352e-07, 2.0862e-07,\n",
      "         2.2352e-07, 2.0862e-07, 1.7881e-07, 1.7881e-07, 2.3842e-07, 1.7881e-07,\n",
      "         2.0862e-07, 2.0862e-07, 1.7881e-07, 2.3842e-07, 2.0862e-07, 2.0862e-07,\n",
      "         2.0862e-07, 1.7881e-07, 2.0862e-07, 1.7881e-07, 2.0862e-07, 1.7881e-07,\n",
      "         2.0862e-07, 2.0862e-07, 2.0862e-07, 1.9372e-07, 2.0862e-07, 1.7881e-07,\n",
      "         2.0862e-07, 2.0862e-07, 1.7881e-07, 2.3842e-07, 2.0862e-07, 1.9372e-07,\n",
      "         2.2352e-07, 2.0862e-07],\n",
      "        [1.1176e-06, 1.0878e-06, 1.0580e-06, 1.1623e-06, 1.1623e-06, 1.0878e-06,\n",
      "         1.1325e-06, 1.0878e-06, 1.1623e-06, 1.1325e-06, 1.0878e-06, 1.1623e-06,\n",
      "         1.1176e-06, 1.0878e-06, 1.1027e-06, 1.0878e-06, 1.1176e-06, 1.1176e-06,\n",
      "         1.1176e-06, 1.0878e-06, 1.1623e-06, 1.1623e-06, 1.1027e-06, 1.1325e-06,\n",
      "         1.0878e-06, 1.0878e-06, 1.1623e-06, 1.1325e-06, 1.1325e-06, 1.1027e-06,\n",
      "         1.1325e-06, 1.1027e-06, 1.0878e-06, 1.1623e-06, 1.1176e-06, 1.1623e-06,\n",
      "         1.0729e-06, 1.1325e-06, 1.0878e-06, 1.1325e-06, 1.0878e-06, 1.1623e-06,\n",
      "         1.1027e-06, 1.1176e-06, 1.1623e-06, 1.1027e-06, 1.0729e-06, 1.1325e-06,\n",
      "         1.1176e-06, 1.0729e-06]], device='cuda:0', grad_fn=<SelectBackward0>)\n"
     ]
    },
    {
     "name": "stderr",
     "output_type": "stream",
     "text": [
      "0.00000000:   5%|▌         | 5/100 [06:41<1:47:23, 67.82s/it]"
     ]
    },
    {
     "name": "stdout",
     "output_type": "stream",
     "text": [
      "tensor([1., 1.], device='cuda:0') tensor([[1.2666e-06, 1.2666e-06, 1.2517e-06, 1.2666e-06, 1.2219e-06, 1.2219e-06,\n",
      "         1.2666e-06, 1.2666e-06, 1.2517e-06, 1.2666e-06, 1.2368e-06, 1.2964e-06,\n",
      "         1.2368e-06, 1.2666e-06, 1.2964e-06, 1.2517e-06, 1.2666e-06, 1.2219e-06,\n",
      "         1.2517e-06, 1.2368e-06, 1.2964e-06, 1.2666e-06, 1.2666e-06, 1.2219e-06,\n",
      "         1.2666e-06, 1.2219e-06, 1.2964e-06, 1.2666e-06, 1.2517e-06, 1.2666e-06,\n",
      "         1.2666e-06, 1.2219e-06, 1.2964e-06, 1.2666e-06, 1.2517e-06, 1.2070e-06,\n",
      "         1.2964e-06, 1.2219e-06, 1.2219e-06, 1.2666e-06, 1.2815e-06, 1.2368e-06,\n",
      "         1.2666e-06, 1.2666e-06, 1.2666e-06, 1.2219e-06, 1.2219e-06, 1.2219e-06,\n",
      "         1.2666e-06, 1.2666e-06],\n",
      "        [5.5134e-07, 5.5134e-07, 5.2154e-07, 5.0664e-07, 5.3644e-07, 5.3644e-07,\n",
      "         5.5134e-07, 5.5134e-07, 5.2154e-07, 5.2154e-07, 5.3644e-07, 5.2154e-07,\n",
      "         5.5134e-07, 5.5134e-07, 5.2154e-07, 5.5134e-07, 5.2154e-07, 5.3644e-07,\n",
      "         5.5134e-07, 5.0664e-07, 5.2154e-07, 5.2154e-07, 5.3644e-07, 5.3644e-07,\n",
      "         5.5134e-07, 5.3644e-07, 5.2154e-07, 5.5134e-07, 5.5134e-07, 5.2154e-07,\n",
      "         5.5134e-07, 5.3644e-07, 5.2154e-07, 5.5134e-07, 5.5134e-07, 5.3644e-07,\n",
      "         5.2154e-07, 5.3644e-07, 5.3644e-07, 5.3644e-07, 5.2154e-07, 5.2154e-07,\n",
      "         5.0664e-07, 5.5134e-07, 5.2154e-07, 5.3644e-07, 5.3644e-07, 5.3644e-07,\n",
      "         5.2154e-07, 5.0664e-07]], device='cuda:0', grad_fn=<SelectBackward0>)\n"
     ]
    },
    {
     "name": "stderr",
     "output_type": "stream",
     "text": [
      "0.00000000:   5%|▌         | 5/100 [06:43<1:47:23, 67.82s/it]"
     ]
    },
    {
     "name": "stdout",
     "output_type": "stream",
     "text": [
      "tensor([1., 1.], device='cuda:0') tensor([[-0.0460, -0.0460, -0.0460, -0.0460, -0.0460, -0.0460, -0.0460, -0.0460,\n",
      "         -0.0460, -0.0460, -0.0460, -0.0460, -0.0460, -0.0460, -0.0460, -0.0460,\n",
      "         -0.0460, -0.0460, -0.0460, -0.0460, -0.0460, -0.0569, -0.0460, -0.0460,\n",
      "         -0.0460, -0.0460, -0.0460, -0.0460, -0.0460, -0.0569, -0.0460, -0.0460,\n",
      "         -0.0569, -0.0569, -0.1690, -0.0569, -0.0460, -0.0460, -0.0460, -0.0460,\n",
      "         -0.0460, -0.0460, -0.0460, -0.0460, -0.0460, -0.0460, -0.0460, -0.0460,\n",
      "         -0.0460, -0.0460],\n",
      "        [ 0.0460,  0.0460,  0.0460,  0.0461,  0.0460,  0.0460,  0.0460,  0.0460,\n",
      "          0.0460,  0.0460,  0.0460,  0.0460,  0.0460,  0.0460,  0.0460,  0.0460,\n",
      "          0.0460,  0.0460,  0.0460,  0.0460,  0.0460,  0.0569,  0.0460,  0.0460,\n",
      "          0.0460,  0.0460,  0.0460,  0.0460,  0.0460,  0.0569,  0.0460,  0.0460,\n",
      "          0.0569,  0.0569,  0.1690,  0.0569,  0.0460,  0.0460,  0.0460,  0.0460,\n",
      "          0.0460,  0.0460,  0.0460,  0.0460,  0.0460,  0.0460,  0.0460,  0.0460,\n",
      "          0.0460,  0.0460]], device='cuda:0', grad_fn=<SelectBackward0>)\n"
     ]
    },
    {
     "name": "stderr",
     "output_type": "stream",
     "text": [
      "0.00275897:   5%|▌         | 5/100 [06:44<1:47:23, 67.82s/it]"
     ]
    },
    {
     "name": "stdout",
     "output_type": "stream",
     "text": [
      "tensor([1., 1.], device='cuda:0') tensor([[ 0.1880,  0.1880,  0.1880,  0.1880,  0.1880,  0.1880,  0.1880,  0.1880,\n",
      "          0.1880,  0.1880,  0.1880,  0.1880,  0.1880,  0.1880,  0.1880,  0.1880,\n",
      "          0.1880,  0.1880,  0.1880,  0.1880,  0.1880,  0.1880,  0.1880,  0.1880,\n",
      "          0.1880,  0.1880,  0.1880,  0.1880,  0.1880,  0.1880,  0.1880,  0.1880,\n",
      "          0.1880,  0.1880,  0.1880,  0.1880,  0.1880,  0.1880,  0.1880,  0.1880,\n",
      "          0.1880,  0.1880,  0.1880,  0.1880,  0.1880,  0.1880,  0.1880,  0.1880,\n",
      "          0.1880,  0.1880],\n",
      "        [-0.1911, -0.1911, -0.1911, -0.1911, -0.1911, -0.1911, -0.1911, -0.1911,\n",
      "         -0.1911, -0.1911, -0.1911, -0.1911, -0.1911, -0.1911, -0.1911, -0.1911,\n",
      "         -0.1911, -0.1911, -0.1911, -0.1911, -0.1911, -0.1911, -0.1911, -0.1911,\n",
      "         -0.1911, -0.1911, -0.1911, -0.1911, -0.1911, -0.1911, -0.1911, -0.1911,\n",
      "         -0.1911, -0.1911, -0.1911, -0.1911, -0.1911, -0.1911, -0.1911, -0.1911,\n",
      "         -0.1911, -0.1911, -0.1911, -0.1911, -0.1911, -0.1911, -0.1911, -0.1911,\n",
      "         -0.1911, -0.1911]], device='cuda:0', grad_fn=<SelectBackward0>)\n"
     ]
    },
    {
     "name": "stderr",
     "output_type": "stream",
     "text": [
      "0.03592996:   5%|▌         | 5/100 [06:46<1:47:23, 67.82s/it]"
     ]
    },
    {
     "name": "stdout",
     "output_type": "stream",
     "text": [
      "tensor([1., 1.], device='cuda:0') tensor([[ 0.0377,  0.0377,  0.0377,  0.0377,  0.0377,  0.0377,  0.0377,  0.0377,\n",
      "          0.0377,  0.0377,  0.0377,  0.0377,  0.0377,  0.0377,  0.0377,  0.0377,\n",
      "          0.0377,  0.0377,  0.0377,  0.0377,  0.0377,  0.0377,  0.0377,  0.0377,\n",
      "          0.0377,  0.0377,  0.0377,  0.0377,  0.0377,  0.0377,  0.0377,  0.0377,\n",
      "          0.0377,  0.0377,  0.0377,  0.0377,  0.0377,  0.0377,  0.0377,  0.0377,\n",
      "          0.0377,  0.0377,  0.0377,  0.0377,  0.0377,  0.0377,  0.0377,  0.0377,\n",
      "          0.0377,  0.0377],\n",
      "        [-0.0535, -0.0535, -0.0535, -0.0535, -0.0535, -0.0535, -0.0535, -0.0535,\n",
      "         -0.0535, -0.0535, -0.0535, -0.0535, -0.0535, -0.0535, -0.0535, -0.0535,\n",
      "         -0.0535, -0.0535, -0.0535, -0.0535, -0.0535, -0.0535, -0.0535, -0.0535,\n",
      "         -0.0535, -0.0535, -0.0535, -0.0535, -0.0535, -0.0535, -0.0535, -0.0535,\n",
      "         -0.0535, -0.0535, -0.0535, -0.0535, -0.0535, -0.0535, -0.0535, -0.0535,\n",
      "         -0.0535, -0.0535, -0.0535, -0.0535, -0.0535, -0.0535, -0.0535, -0.0535,\n",
      "         -0.0535, -0.0535]], device='cuda:0', grad_fn=<SelectBackward0>)\n"
     ]
    },
    {
     "name": "stderr",
     "output_type": "stream",
     "text": [
      "0.00214088:   5%|▌         | 5/100 [06:47<1:47:23, 67.82s/it]"
     ]
    },
    {
     "name": "stdout",
     "output_type": "stream",
     "text": [
      "tensor([1., 1.], device='cuda:0') tensor([[-0.0806, -0.0806, -0.0806, -0.0806, -0.0806, -0.0806, -0.0806, -0.0806,\n",
      "         -0.0806, -0.0806, -0.0806, -0.0806, -0.0806, -0.0806, -0.0806, -0.0806,\n",
      "         -0.0806, -0.0806, -0.0806, -0.0806, -0.0806, -0.0806, -0.0806, -0.0806,\n",
      "         -0.0806, -0.0806, -0.0806, -0.0806, -0.0806, -0.0806, -0.0806, -0.0806,\n",
      "         -0.0806, -0.0806, -0.0806, -0.0806, -0.0806, -0.0806, -0.0806, -0.0806,\n",
      "         -0.0806, -0.0806, -0.0806, -0.0806, -0.0806, -0.0806, -0.0806, -0.0806,\n",
      "         -0.0806, -0.0806],\n",
      "        [ 0.0589,  0.0589,  0.0589,  0.0589,  0.0589,  0.0589,  0.0589,  0.0589,\n",
      "          0.0589,  0.0589,  0.0589,  0.0589,  0.0589,  0.0589,  0.0589,  0.0589,\n",
      "          0.0589,  0.0589,  0.0589,  0.0589,  0.0589,  0.0589,  0.0589,  0.0589,\n",
      "          0.0589,  0.0589,  0.0589,  0.0589,  0.0589,  0.0589,  0.0589,  0.0589,\n",
      "          0.0589,  0.0589,  0.0589,  0.0589,  0.0589,  0.0589,  0.0589,  0.0589,\n",
      "          0.0589,  0.0589,  0.0589,  0.0589,  0.0589,  0.0589,  0.0589,  0.0589,\n",
      "          0.0589,  0.0589]], device='cuda:0', grad_fn=<SelectBackward0>)\n"
     ]
    },
    {
     "name": "stderr",
     "output_type": "stream",
     "text": [
      "0.00497935:   5%|▌         | 5/100 [06:49<1:47:23, 67.82s/it]"
     ]
    },
    {
     "name": "stdout",
     "output_type": "stream",
     "text": [
      "tensor([1., 1.], device='cuda:0') tensor([[-0.0874, -0.0874, -0.0874, -0.0874, -0.0874, -0.0874, -0.0874, -0.0874,\n",
      "         -0.0874, -0.0874, -0.0874, -0.0874, -0.0874, -0.0874, -0.0874, -0.0874,\n",
      "         -0.0874, -0.0874, -0.0874, -0.0874, -0.0874, -0.0874, -0.0874, -0.0874,\n",
      "         -0.0874, -0.0874, -0.0874, -0.0874, -0.0874, -0.0874, -0.0874, -0.0874,\n",
      "         -0.0874, -0.0874, -0.0874, -0.0874, -0.0874, -0.0874, -0.0874, -0.0874,\n",
      "         -0.0874, -0.0874, -0.0874, -0.0874, -0.0874, -0.0874, -0.0874, -0.0874,\n",
      "         -0.0874, -0.0874],\n",
      "        [ 0.0683,  0.0683,  0.0683,  0.0683,  0.0683,  0.0683,  0.0683,  0.0683,\n",
      "          0.0683,  0.0683,  0.0683,  0.0683,  0.0683,  0.0683,  0.0683,  0.0683,\n",
      "          0.0683,  0.0683,  0.0683,  0.0683,  0.0683,  0.0683,  0.0683,  0.0683,\n",
      "          0.0683,  0.0683,  0.0683,  0.0683,  0.0683,  0.0683,  0.0683,  0.0683,\n",
      "          0.0683,  0.0683,  0.0683,  0.0683,  0.0683,  0.0683,  0.0683,  0.0683,\n",
      "          0.0683,  0.0683,  0.0683,  0.0683,  0.0683,  0.0683,  0.0683,  0.0683,\n",
      "          0.0683,  0.0683]], device='cuda:0', grad_fn=<SelectBackward0>)\n"
     ]
    },
    {
     "name": "stderr",
     "output_type": "stream",
     "text": [
      "0.00615063:   5%|▌         | 5/100 [06:50<1:47:23, 67.82s/it]"
     ]
    },
    {
     "name": "stdout",
     "output_type": "stream",
     "text": [
      "tensor([1., 1.], device='cuda:0') tensor([[-0.0746, -0.0746, -0.0746, -0.0746, -0.0746, -0.0746, -0.0746, -0.0746,\n",
      "         -0.0746, -0.0746, -0.0746, -0.0746, -0.0746, -0.0746, -0.0746, -0.0746,\n",
      "         -0.0746, -0.0746, -0.0746, -0.0746, -0.0746, -0.0746, -0.0746, -0.0746,\n",
      "         -0.0746, -0.0746, -0.0746, -0.0746, -0.0746, -0.0746, -0.0746, -0.0746,\n",
      "         -0.0746, -0.0746, -0.0746, -0.0746, -0.0746, -0.0746, -0.0746, -0.0746,\n",
      "         -0.0746, -0.0746, -0.0746, -0.0746, -0.0746, -0.0746, -0.0746, -0.0746,\n",
      "         -0.0746, -0.0746],\n",
      "        [ 0.0655,  0.0655,  0.0655,  0.0655,  0.0655,  0.0655,  0.0655,  0.0655,\n",
      "          0.0655,  0.0655,  0.0655,  0.0655,  0.0655,  0.0655,  0.0655,  0.0655,\n",
      "          0.0655,  0.0655,  0.0655,  0.0655,  0.0655,  0.0655,  0.0655,  0.0655,\n",
      "          0.0655,  0.0655,  0.0655,  0.0655,  0.0655,  0.0655,  0.0655,  0.0655,\n",
      "          0.0655,  0.0655,  0.0655,  0.0655,  0.0655,  0.0655,  0.0655,  0.0655,\n",
      "          0.0655,  0.0655,  0.0655,  0.0655,  0.0655,  0.0655,  0.0655,  0.0655,\n",
      "          0.0655,  0.0655]], device='cuda:0', grad_fn=<SelectBackward0>)\n"
     ]
    },
    {
     "name": "stderr",
     "output_type": "stream",
     "text": [
      "0.00492856:   5%|▌         | 5/100 [06:52<1:47:23, 67.82s/it]"
     ]
    },
    {
     "name": "stdout",
     "output_type": "stream",
     "text": [
      "tensor([1., 1.], device='cuda:0') tensor([[ 0.0520,  0.0520,  0.0520,  0.0520,  0.0520,  0.0520,  0.0520,  0.0520,\n",
      "          0.0520,  0.0520,  0.0520,  0.0520,  0.0520,  0.0520,  0.0520,  0.0520,\n",
      "          0.0520,  0.0520,  0.0520,  0.0520,  0.0520,  0.0520,  0.0520,  0.0520,\n",
      "          0.0520,  0.0520,  0.0520,  0.0520,  0.0520,  0.0520,  0.0520,  0.0520,\n",
      "          0.0520,  0.0520,  0.0520,  0.0520,  0.0520,  0.0520,  0.0520,  0.0520,\n",
      "          0.0520,  0.0520,  0.0520,  0.0520,  0.0520,  0.0520,  0.0520,  0.0520,\n",
      "          0.0520,  0.0520],\n",
      "        [-0.0471, -0.0471, -0.0471, -0.0471, -0.0471, -0.0471, -0.0471, -0.0471,\n",
      "         -0.0471, -0.0471, -0.0471, -0.0471, -0.0471, -0.0471, -0.0471, -0.0471,\n",
      "         -0.0471, -0.0471, -0.0471, -0.0471, -0.0471, -0.0471, -0.0471, -0.0471,\n",
      "         -0.0471, -0.0471, -0.0471, -0.0471, -0.0471, -0.0471, -0.0471, -0.0471,\n",
      "         -0.0471, -0.0471, -0.0471, -0.0471, -0.0471, -0.0471, -0.0471, -0.0471,\n",
      "         -0.0471, -0.0471, -0.0471, -0.0471, -0.0471, -0.0471, -0.0471, -0.0471,\n",
      "         -0.0471, -0.0471]], device='cuda:0', grad_fn=<SelectBackward0>)\n"
     ]
    },
    {
     "name": "stderr",
     "output_type": "stream",
     "text": [
      "0.00246452:   5%|▌         | 5/100 [06:53<1:47:23, 67.82s/it]"
     ]
    },
    {
     "name": "stdout",
     "output_type": "stream",
     "text": [
      "tensor([1., 1.], device='cuda:0') tensor([[ 0.0311,  0.0311,  0.0311,  0.0311,  0.0311,  0.0311,  0.0311,  0.0311,\n",
      "          0.0311,  0.0311,  0.0311,  0.0311,  0.0311,  0.0311,  0.0311,  0.0311,\n",
      "          0.0311,  0.0311,  0.0311,  0.0311,  0.0311,  0.0311,  0.0311,  0.0311,\n",
      "          0.0311,  0.0311,  0.0311,  0.0311,  0.0311,  0.0311,  0.0311,  0.0311,\n",
      "          0.0311,  0.0311,  0.0311,  0.0311,  0.0311,  0.0311,  0.0311,  0.0311,\n",
      "          0.0311,  0.0311,  0.0311,  0.0311,  0.0311,  0.0311,  0.0311,  0.0311,\n",
      "          0.0311,  0.0311],\n",
      "        [-0.0124, -0.0124, -0.0124, -0.0124, -0.0124, -0.0124, -0.0124, -0.0124,\n",
      "         -0.0124, -0.0124, -0.0124, -0.0124, -0.0124, -0.0124, -0.0124, -0.0124,\n",
      "         -0.0124, -0.0124, -0.0124, -0.0124, -0.0124, -0.0124, -0.0124, -0.0124,\n",
      "         -0.0124, -0.0124, -0.0124, -0.0124, -0.0124, -0.0124, -0.0124, -0.0124,\n",
      "         -0.0124, -0.0124, -0.0124, -0.0124, -0.0124, -0.0124, -0.0124, -0.0124,\n",
      "         -0.0124, -0.0124, -0.0124, -0.0124, -0.0124, -0.0124, -0.0124, -0.0124,\n",
      "         -0.0124, -0.0124]], device='cuda:0', grad_fn=<SelectBackward0>)\n"
     ]
    },
    {
     "name": "stderr",
     "output_type": "stream",
     "text": [
      "0.00056170:   5%|▌         | 5/100 [06:54<1:47:23, 67.82s/it]"
     ]
    },
    {
     "name": "stdout",
     "output_type": "stream",
     "text": [
      "tensor([1., 1.], device='cuda:0') tensor([[0.0070, 0.0070, 0.0070, 0.0070, 0.0070, 0.0070, 0.0070, 0.0070, 0.0070,\n",
      "         0.0070, 0.0070, 0.0070, 0.0070, 0.0070, 0.0070, 0.0070, 0.0070, 0.0070,\n",
      "         0.0070, 0.0070, 0.0070, 0.0070, 0.0070, 0.0070, 0.0070, 0.0070, 0.0070,\n",
      "         0.0070, 0.0070, 0.0070, 0.0070, 0.0070, 0.0070, 0.0070, 0.0070, 0.0070,\n",
      "         0.0070, 0.0070, 0.0070, 0.0070, 0.0070, 0.0070, 0.0070, 0.0070, 0.0070,\n",
      "         0.0070, 0.0070, 0.0070, 0.0070, 0.0070],\n",
      "        [0.0214, 0.0214, 0.0214, 0.0214, 0.0214, 0.0214, 0.0214, 0.0214, 0.0214,\n",
      "         0.0214, 0.0214, 0.0214, 0.0214, 0.0214, 0.0214, 0.0214, 0.0214, 0.0214,\n",
      "         0.0214, 0.0214, 0.0214, 0.0214, 0.0214, 0.0214, 0.0214, 0.0214, 0.0214,\n",
      "         0.0214, 0.0214, 0.0214, 0.0214, 0.0214, 0.0214, 0.0214, 0.0214, 0.0214,\n",
      "         0.0214, 0.0214, 0.0214, 0.0214, 0.0214, 0.0214, 0.0214, 0.0214, 0.0214,\n",
      "         0.0214, 0.0214, 0.0214, 0.0214, 0.0214]], device='cuda:0',\n",
      "       grad_fn=<SelectBackward0>)\n"
     ]
    },
    {
     "name": "stderr",
     "output_type": "stream",
     "text": [
      "0.00025264:   5%|▌         | 5/100 [06:56<1:47:23, 67.82s/it]"
     ]
    },
    {
     "name": "stdout",
     "output_type": "stream",
     "text": [
      "tensor([1., 1.], device='cuda:0') tensor([[ 0.0470,  0.0470,  0.0470,  0.0470,  0.0470,  0.0470,  0.0470,  0.0470,\n",
      "          0.0470,  0.0470,  0.0470,  0.0470,  0.0470,  0.0470,  0.0470,  0.0470,\n",
      "          0.0470,  0.0470,  0.0470,  0.0470,  0.0470,  0.0470,  0.0470,  0.0470,\n",
      "          0.0470,  0.0470,  0.0470,  0.0470,  0.0470,  0.0470,  0.0470,  0.0470,\n",
      "          0.0470,  0.0470,  0.0470,  0.0470,  0.0470,  0.0470,  0.0470,  0.0470,\n",
      "          0.0470,  0.0470,  0.0470,  0.0470,  0.0470,  0.0470,  0.0470,  0.0470,\n",
      "          0.0470,  0.0470],\n",
      "        [-0.0162, -0.0162, -0.0162, -0.0162, -0.0162, -0.0162, -0.0162, -0.0162,\n",
      "         -0.0162, -0.0162, -0.0162, -0.0162, -0.0162, -0.0162, -0.0162, -0.0162,\n",
      "         -0.0162, -0.0162, -0.0162, -0.0162, -0.0162, -0.0162, -0.0162, -0.0162,\n",
      "         -0.0162, -0.0162, -0.0162, -0.0162, -0.0162, -0.0162, -0.0162, -0.0162,\n",
      "         -0.0162, -0.0162, -0.0162, -0.0162, -0.0162, -0.0162, -0.0162, -0.0162,\n",
      "         -0.0162, -0.0162, -0.0162, -0.0162, -0.0162, -0.0162, -0.0162, -0.0162,\n",
      "         -0.0162, -0.0162]], device='cuda:0', grad_fn=<SelectBackward0>)\n"
     ]
    },
    {
     "name": "stderr",
     "output_type": "stream",
     "text": [
      "0.00123286:   6%|▌         | 6/100 [06:57<1:50:31, 70.55s/it]"
     ]
    },
    {
     "name": "stdout",
     "output_type": "stream",
     "text": [
      "tensor([1., 1.], device='cuda:0') tensor([[-0.0345, -0.0345, -0.0345, -0.0345, -0.0345, -0.0345, -0.0345, -0.0345,\n",
      "         -0.0345, -0.0345, -0.0345, -0.0345, -0.0345, -0.0345, -0.0345, -0.0345,\n",
      "         -0.0345, -0.0345, -0.0345, -0.0345, -0.0345, -0.0345, -0.0345, -0.0345,\n",
      "         -0.0345, -0.0345, -0.0345, -0.0345, -0.0345, -0.0345, -0.0345, -0.0345,\n",
      "         -0.0345, -0.0345, -0.0345, -0.0345, -0.0345, -0.0345, -0.0345, -0.0345,\n",
      "         -0.0345, -0.0345, -0.0345, -0.0345, -0.0345, -0.0345, -0.0345, -0.0345,\n",
      "         -0.0345, -0.0345],\n",
      "        [ 0.0596,  0.0596,  0.0596,  0.0596,  0.0596,  0.0596,  0.0596,  0.0596,\n",
      "          0.0596,  0.0596,  0.0596,  0.0596,  0.0596,  0.0596,  0.0596,  0.0596,\n",
      "          0.0596,  0.0596,  0.0596,  0.0596,  0.0596,  0.0596,  0.0596,  0.0596,\n",
      "          0.0596,  0.0596,  0.0596,  0.0596,  0.0596,  0.0596,  0.0596,  0.0596,\n",
      "          0.0596,  0.0596,  0.0596,  0.0596,  0.0596,  0.0596,  0.0596,  0.0596,\n",
      "          0.0596,  0.0596,  0.0596,  0.0596,  0.0596,  0.0596,  0.0596,  0.0596,\n",
      "          0.0596,  0.0596]], device='cuda:0', grad_fn=<SelectBackward0>)\n"
     ]
    },
    {
     "name": "stderr",
     "output_type": "stream",
     "text": [
      "0.00237409:   6%|▌         | 6/100 [06:59<1:50:31, 70.55s/it]"
     ]
    },
    {
     "name": "stdout",
     "output_type": "stream",
     "text": [
      "tensor([1., 1.], device='cuda:0') tensor([[ 0.0580,  0.0580,  0.0580,  0.0580,  0.0580,  0.0580,  0.0580,  0.0580,\n",
      "          0.0580,  0.0580,  0.0580,  0.0580,  0.0580,  0.0580,  0.0580,  0.0580,\n",
      "          0.0580,  0.0580,  0.0580,  0.0580,  0.0580,  0.0580,  0.0580,  0.0580,\n",
      "          0.0580,  0.0580,  0.0580,  0.0580,  0.0580,  0.0580,  0.0580,  0.0580,\n",
      "          0.0580,  0.0580,  0.0580,  0.0580,  0.0580,  0.0580,  0.0580,  0.0580,\n",
      "          0.0580,  0.0580,  0.0580,  0.0580,  0.0580,  0.0580,  0.0580,  0.0580,\n",
      "          0.0580,  0.0580],\n",
      "        [-0.0454, -0.0454, -0.0454, -0.0454, -0.0454, -0.0454, -0.0454, -0.0454,\n",
      "         -0.0454, -0.0454, -0.0454, -0.0454, -0.0454, -0.0454, -0.0454, -0.0454,\n",
      "         -0.0454, -0.0454, -0.0454, -0.0454, -0.0454, -0.0454, -0.0454, -0.0454,\n",
      "         -0.0454, -0.0454, -0.0454, -0.0454, -0.0454, -0.0454, -0.0454, -0.0454,\n",
      "         -0.0454, -0.0454, -0.0454, -0.0454, -0.0454, -0.0454, -0.0454, -0.0454,\n",
      "         -0.0454, -0.0454, -0.0454, -0.0454, -0.0454, -0.0454, -0.0454, -0.0454,\n",
      "         -0.0454, -0.0454]], device='cuda:0', grad_fn=<SelectBackward0>)\n"
     ]
    },
    {
     "name": "stderr",
     "output_type": "stream",
     "text": [
      "0.00271700:   6%|▌         | 6/100 [07:00<1:50:31, 70.55s/it]"
     ]
    },
    {
     "name": "stdout",
     "output_type": "stream",
     "text": [
      "tensor([1., 1.], device='cuda:0') tensor([[ 0.0441,  0.0441,  0.0441,  0.0441,  0.0441,  0.0441,  0.0441,  0.0441,\n",
      "          0.0441,  0.0441,  0.0441,  0.0441,  0.0441,  0.0441,  0.0441,  0.0441,\n",
      "          0.0441,  0.0441,  0.0441,  0.0441,  0.0441,  0.0441,  0.0441,  0.0441,\n",
      "          0.0441,  0.0441,  0.0441,  0.0441,  0.0441,  0.0441,  0.0441,  0.0441,\n",
      "          0.0441,  0.0441,  0.0441,  0.0441,  0.0441,  0.0441,  0.0441,  0.0441,\n",
      "          0.0441,  0.0441,  0.0441,  0.0441,  0.0441,  0.0441,  0.0441,  0.0441,\n",
      "          0.0441,  0.0441],\n",
      "        [-0.0477, -0.0477, -0.0477, -0.0477, -0.0477, -0.0477, -0.0477, -0.0477,\n",
      "         -0.0477, -0.0477, -0.0477, -0.0477, -0.0477, -0.0477, -0.0477, -0.0477,\n",
      "         -0.0477, -0.0477, -0.0477, -0.0477, -0.0477, -0.0477, -0.0477, -0.0477,\n",
      "         -0.0477, -0.0477, -0.0477, -0.0477, -0.0477, -0.0477, -0.0477, -0.0477,\n",
      "         -0.0477, -0.0477, -0.0477, -0.0477, -0.0477, -0.0477, -0.0477, -0.0477,\n",
      "         -0.0477, -0.0477, -0.0477, -0.0477, -0.0477, -0.0477, -0.0477, -0.0477,\n",
      "         -0.0477, -0.0477]], device='cuda:0', grad_fn=<SelectBackward0>)\n"
     ]
    },
    {
     "name": "stderr",
     "output_type": "stream",
     "text": [
      "0.00211081:   6%|▌         | 6/100 [07:02<1:50:31, 70.55s/it]"
     ]
    },
    {
     "name": "stdout",
     "output_type": "stream",
     "text": [
      "tensor([1., 1.], device='cuda:0') tensor([[ 0.0221,  0.0221,  0.0221,  0.0221,  0.0221,  0.0221,  0.0221,  0.0221,\n",
      "          0.0221,  0.0221,  0.0221,  0.0221,  0.0221,  0.0221,  0.0221,  0.0221,\n",
      "          0.0221,  0.0221,  0.0221,  0.0221,  0.0221,  0.0221,  0.0221,  0.0221,\n",
      "          0.0221,  0.0221,  0.0221,  0.0221,  0.0221,  0.0221,  0.0221,  0.0221,\n",
      "          0.0221,  0.0221,  0.0221,  0.0221,  0.0221,  0.0221,  0.0221,  0.0221,\n",
      "          0.0221,  0.0221,  0.0221,  0.0221,  0.0221,  0.0221,  0.0221,  0.0221,\n",
      "          0.0221,  0.0221],\n",
      "        [-0.0418, -0.0418, -0.0418, -0.0418, -0.0418, -0.0418, -0.0418, -0.0418,\n",
      "         -0.0418, -0.0418, -0.0418, -0.0418, -0.0418, -0.0418, -0.0418, -0.0418,\n",
      "         -0.0418, -0.0418, -0.0418, -0.0418, -0.0418, -0.0418, -0.0418, -0.0418,\n",
      "         -0.0418, -0.0418, -0.0418, -0.0418, -0.0418, -0.0418, -0.0418, -0.0418,\n",
      "         -0.0418, -0.0418, -0.0418, -0.0418, -0.0418, -0.0418, -0.0418, -0.0418,\n",
      "         -0.0418, -0.0418, -0.0418, -0.0418, -0.0418, -0.0418, -0.0418, -0.0418,\n",
      "         -0.0418, -0.0418]], device='cuda:0', grad_fn=<SelectBackward0>)\n"
     ]
    },
    {
     "name": "stderr",
     "output_type": "stream",
     "text": [
      "0.00111659:   6%|▌         | 6/100 [07:03<1:50:31, 70.55s/it]"
     ]
    },
    {
     "name": "stdout",
     "output_type": "stream",
     "text": [
      "tensor([1., 1.], device='cuda:0') tensor([[-0.0292, -0.0292, -0.0292, -0.0292, -0.0292, -0.0292, -0.0292, -0.0292,\n",
      "         -0.0292, -0.0292, -0.0292, -0.0292, -0.0292, -0.0292, -0.0292, -0.0292,\n",
      "         -0.0292, -0.0292, -0.0292, -0.0292, -0.0292, -0.0292, -0.0292, -0.0292,\n",
      "         -0.0292, -0.0292, -0.0292, -0.0292, -0.0292, -0.0292, -0.0292, -0.0292,\n",
      "         -0.0292, -0.0292, -0.0292, -0.0292, -0.0292, -0.0292, -0.0292, -0.0292,\n",
      "         -0.0292, -0.0292, -0.0292, -0.0292, -0.0292, -0.0292, -0.0292, -0.0292,\n",
      "         -0.0292, -0.0292],\n",
      "        [-0.0022, -0.0022, -0.0022, -0.0022, -0.0022, -0.0022, -0.0022, -0.0022,\n",
      "         -0.0022, -0.0022, -0.0022, -0.0022, -0.0022, -0.0022, -0.0022, -0.0022,\n",
      "         -0.0022, -0.0022, -0.0022, -0.0022, -0.0022, -0.0022, -0.0022, -0.0022,\n",
      "         -0.0022, -0.0022, -0.0022, -0.0022, -0.0022, -0.0022, -0.0022, -0.0022,\n",
      "         -0.0022, -0.0022, -0.0022, -0.0022, -0.0022, -0.0022, -0.0022, -0.0022,\n",
      "         -0.0022, -0.0022, -0.0022, -0.0022, -0.0022, -0.0022, -0.0022, -0.0022,\n",
      "         -0.0022, -0.0022]], device='cuda:0', grad_fn=<SelectBackward0>)\n"
     ]
    },
    {
     "name": "stderr",
     "output_type": "stream",
     "text": [
      "0.00042929:   6%|▌         | 6/100 [07:05<1:50:31, 70.55s/it]"
     ]
    },
    {
     "name": "stdout",
     "output_type": "stream",
     "text": [
      "tensor([1., 1.], device='cuda:0') tensor([[-0.0234, -0.0234, -0.0234, -0.0234, -0.0234, -0.0234, -0.0234, -0.0234,\n",
      "         -0.0234, -0.0234, -0.0234, -0.0234, -0.0234, -0.0234, -0.0234, -0.0234,\n",
      "         -0.0234, -0.0234, -0.0234, -0.0234, -0.0234, -0.0234, -0.0234, -0.0234,\n",
      "         -0.0234, -0.0234, -0.0234, -0.0234, -0.0234, -0.0234, -0.0234, -0.0234,\n",
      "         -0.0234, -0.0234, -0.0234, -0.0234, -0.0234, -0.0234, -0.0234, -0.0234,\n",
      "         -0.0234, -0.0234, -0.0234, -0.0234, -0.0234, -0.0234, -0.0234, -0.0234,\n",
      "         -0.0234, -0.0234],\n",
      "        [-0.0127, -0.0127, -0.0127, -0.0127, -0.0127, -0.0127, -0.0127, -0.0127,\n",
      "         -0.0127, -0.0127, -0.0127, -0.0127, -0.0127, -0.0127, -0.0127, -0.0127,\n",
      "         -0.0127, -0.0127, -0.0127, -0.0127, -0.0127, -0.0127, -0.0127, -0.0127,\n",
      "         -0.0127, -0.0127, -0.0127, -0.0127, -0.0127, -0.0127, -0.0127, -0.0127,\n",
      "         -0.0127, -0.0127, -0.0127, -0.0127, -0.0127, -0.0127, -0.0127, -0.0127,\n",
      "         -0.0127, -0.0127, -0.0127, -0.0127, -0.0127, -0.0127, -0.0127, -0.0127,\n",
      "         -0.0127, -0.0127]], device='cuda:0', grad_fn=<SelectBackward0>)\n"
     ]
    },
    {
     "name": "stderr",
     "output_type": "stream",
     "text": [
      "0.00035581:   6%|▌         | 6/100 [07:06<1:50:31, 70.55s/it]"
     ]
    },
    {
     "name": "stdout",
     "output_type": "stream",
     "text": [
      "tensor([1., 1.], device='cuda:0') tensor([[ 0.0045,  0.0045,  0.0045,  0.0045,  0.0045,  0.0045,  0.0045,  0.0045,\n",
      "          0.0045,  0.0045,  0.0045,  0.0045,  0.0045,  0.0045,  0.0045,  0.0045,\n",
      "          0.0045,  0.0045,  0.0045,  0.0045,  0.0045,  0.0045,  0.0045,  0.0045,\n",
      "          0.0045,  0.0045,  0.0045,  0.0045,  0.0045,  0.0045,  0.0045,  0.0045,\n",
      "          0.0045,  0.0045,  0.0045,  0.0045,  0.0045,  0.0045,  0.0045,  0.0045,\n",
      "          0.0045,  0.0045,  0.0045,  0.0045,  0.0045,  0.0045,  0.0045,  0.0045,\n",
      "          0.0045,  0.0045],\n",
      "        [-0.0373, -0.0373, -0.0373, -0.0373, -0.0373, -0.0373, -0.0373, -0.0373,\n",
      "         -0.0373, -0.0373, -0.0373, -0.0373, -0.0373, -0.0373, -0.0373, -0.0373,\n",
      "         -0.0373, -0.0373, -0.0373, -0.0373, -0.0373, -0.0373, -0.0373, -0.0373,\n",
      "         -0.0373, -0.0373, -0.0373, -0.0373, -0.0373, -0.0373, -0.0373, -0.0373,\n",
      "         -0.0373, -0.0373, -0.0373, -0.0373, -0.0373, -0.0373, -0.0373, -0.0373,\n",
      "         -0.0373, -0.0373, -0.0373, -0.0373, -0.0373, -0.0373, -0.0373, -0.0373,\n",
      "         -0.0373, -0.0373]], device='cuda:0', grad_fn=<SelectBackward0>)\n"
     ]
    },
    {
     "name": "stderr",
     "output_type": "stream",
     "text": [
      "0.00070439:   6%|▌         | 6/100 [07:08<1:50:31, 70.55s/it]"
     ]
    },
    {
     "name": "stdout",
     "output_type": "stream",
     "text": [
      "tensor([1., 1.], device='cuda:0') tensor([[ 0.0196,  0.0196,  0.0196,  0.0196,  0.0196,  0.0196,  0.0196,  0.0196,\n",
      "          0.0196,  0.0196,  0.0196,  0.0196,  0.0196,  0.0196,  0.0196,  0.0196,\n",
      "          0.0196,  0.0196,  0.0196,  0.0196,  0.0196,  0.0196,  0.0196,  0.0196,\n",
      "          0.0196,  0.0196,  0.0196,  0.0196,  0.0196,  0.0196,  0.0196,  0.0196,\n",
      "          0.0196,  0.0196,  0.0196,  0.0196,  0.0196,  0.0196,  0.0196,  0.0196,\n",
      "          0.0196,  0.0196,  0.0196,  0.0196,  0.0196,  0.0196,  0.0196,  0.0196,\n",
      "          0.0196,  0.0196],\n",
      "        [-0.0415, -0.0415, -0.0415, -0.0415, -0.0415, -0.0415, -0.0415, -0.0415,\n",
      "         -0.0415, -0.0415, -0.0415, -0.0415, -0.0415, -0.0415, -0.0415, -0.0415,\n",
      "         -0.0415, -0.0415, -0.0415, -0.0415, -0.0415, -0.0415, -0.0415, -0.0415,\n",
      "         -0.0415, -0.0415, -0.0415, -0.0415, -0.0415, -0.0415, -0.0415, -0.0415,\n",
      "         -0.0415, -0.0415, -0.0415, -0.0415, -0.0415, -0.0415, -0.0415, -0.0415,\n",
      "         -0.0415, -0.0415, -0.0415, -0.0415, -0.0415, -0.0415, -0.0415, -0.0415,\n",
      "         -0.0415, -0.0415]], device='cuda:0', grad_fn=<SelectBackward0>)\n"
     ]
    },
    {
     "name": "stderr",
     "output_type": "stream",
     "text": [
      "0.00105420:   6%|▌         | 6/100 [07:09<1:50:31, 70.55s/it]"
     ]
    },
    {
     "name": "stdout",
     "output_type": "stream",
     "text": [
      "tensor([1., 1.], device='cuda:0') tensor([[ 0.0300,  0.0300,  0.0300,  0.0300,  0.0300,  0.0300,  0.0300,  0.0300,\n",
      "          0.0300,  0.0300,  0.0300,  0.0300,  0.0300,  0.0300,  0.0300,  0.0300,\n",
      "          0.0300,  0.0300,  0.0300,  0.0300,  0.0300,  0.0300,  0.0300,  0.0300,\n",
      "          0.0300,  0.0300,  0.0300,  0.0300,  0.0300,  0.0300,  0.0300,  0.0300,\n",
      "          0.0300,  0.0300,  0.0300,  0.0300,  0.0300,  0.0300,  0.0300,  0.0300,\n",
      "          0.0300,  0.0300,  0.0300,  0.0300,  0.0300,  0.0300,  0.0300,  0.0300,\n",
      "          0.0300,  0.0300],\n",
      "        [-0.0364, -0.0364, -0.0364, -0.0364, -0.0364, -0.0364, -0.0364, -0.0364,\n",
      "         -0.0364, -0.0364, -0.0364, -0.0364, -0.0364, -0.0364, -0.0364, -0.0364,\n",
      "         -0.0364, -0.0364, -0.0364, -0.0364, -0.0364, -0.0364, -0.0364, -0.0364,\n",
      "         -0.0364, -0.0364, -0.0364, -0.0364, -0.0364, -0.0364, -0.0364, -0.0364,\n",
      "         -0.0364, -0.0364, -0.0364, -0.0364, -0.0364, -0.0364, -0.0364, -0.0364,\n",
      "         -0.0364, -0.0364, -0.0364, -0.0364, -0.0364, -0.0364, -0.0364, -0.0364,\n",
      "         -0.0364, -0.0364]], device='cuda:0', grad_fn=<SelectBackward0>)\n"
     ]
    },
    {
     "name": "stderr",
     "output_type": "stream",
     "text": [
      "0.00111139:   6%|▌         | 6/100 [07:11<1:50:31, 70.55s/it]"
     ]
    },
    {
     "name": "stdout",
     "output_type": "stream",
     "text": [
      "tensor([1., 1.], device='cuda:0') tensor([[ 0.0343,  0.0343,  0.0343,  0.0343,  0.0343,  0.0343,  0.0343,  0.0343,\n",
      "          0.0343,  0.0343,  0.0343,  0.0343,  0.0343,  0.0343,  0.0343,  0.0343,\n",
      "          0.0343,  0.0343,  0.0343,  0.0343,  0.0343,  0.0343,  0.0343,  0.0343,\n",
      "          0.0343,  0.0343,  0.0343,  0.0343,  0.0343,  0.0343,  0.0343,  0.0343,\n",
      "          0.0343,  0.0343,  0.0343,  0.0343,  0.0343,  0.0343,  0.0343,  0.0343,\n",
      "          0.0343,  0.0343,  0.0343,  0.0343,  0.0343,  0.0343,  0.0343,  0.0343,\n",
      "          0.0343,  0.0343],\n",
      "        [-0.0239, -0.0239, -0.0239, -0.0239, -0.0239, -0.0239, -0.0239, -0.0239,\n",
      "         -0.0239, -0.0239, -0.0239, -0.0239, -0.0239, -0.0239, -0.0239, -0.0239,\n",
      "         -0.0239, -0.0239, -0.0239, -0.0239, -0.0239, -0.0239, -0.0239, -0.0239,\n",
      "         -0.0239, -0.0239, -0.0239, -0.0239, -0.0239, -0.0239, -0.0239, -0.0239,\n",
      "         -0.0239, -0.0239, -0.0239, -0.0239, -0.0239, -0.0239, -0.0239, -0.0239,\n",
      "         -0.0239, -0.0239, -0.0239, -0.0239, -0.0239, -0.0239, -0.0239, -0.0239,\n",
      "         -0.0239, -0.0239]], device='cuda:0', grad_fn=<SelectBackward0>)\n"
     ]
    },
    {
     "name": "stderr",
     "output_type": "stream",
     "text": [
      "0.00087516:   6%|▌         | 6/100 [07:12<1:50:31, 70.55s/it]"
     ]
    },
    {
     "name": "stdout",
     "output_type": "stream",
     "text": [
      "tensor([1., 1.], device='cuda:0') tensor([[ 0.0323,  0.0323,  0.0323,  0.0323,  0.0323,  0.0323,  0.0323,  0.0323,\n",
      "          0.0323,  0.0323,  0.0323,  0.0323,  0.0323,  0.0323,  0.0323,  0.0323,\n",
      "          0.0323,  0.0323,  0.0323,  0.0323,  0.0323,  0.0323,  0.0323,  0.0323,\n",
      "          0.0323,  0.0323,  0.0323,  0.0323,  0.0323,  0.0323,  0.0323,  0.0323,\n",
      "          0.0323,  0.0323,  0.0323,  0.0323,  0.0323,  0.0323,  0.0323,  0.0323,\n",
      "          0.0323,  0.0323,  0.0323,  0.0323,  0.0323,  0.0323,  0.0323,  0.0323,\n",
      "          0.0323,  0.0323],\n",
      "        [-0.0077, -0.0077, -0.0077, -0.0077, -0.0077, -0.0077, -0.0077, -0.0077,\n",
      "         -0.0077, -0.0077, -0.0077, -0.0077, -0.0077, -0.0077, -0.0077, -0.0077,\n",
      "         -0.0077, -0.0077, -0.0077, -0.0077, -0.0077, -0.0077, -0.0077, -0.0077,\n",
      "         -0.0077, -0.0077, -0.0077, -0.0077, -0.0077, -0.0077, -0.0077, -0.0077,\n",
      "         -0.0077, -0.0077, -0.0077, -0.0077, -0.0077, -0.0077, -0.0077, -0.0077,\n",
      "         -0.0077, -0.0077, -0.0077, -0.0077, -0.0077, -0.0077, -0.0077, -0.0077,\n",
      "         -0.0077, -0.0077]], device='cuda:0', grad_fn=<SelectBackward0>)\n"
     ]
    },
    {
     "name": "stderr",
     "output_type": "stream",
     "text": [
      "0.00055017:   6%|▌         | 6/100 [07:14<1:50:31, 70.55s/it]"
     ]
    },
    {
     "name": "stdout",
     "output_type": "stream",
     "text": [
      "tensor([1., 1.], device='cuda:0') tensor([[0.0247, 0.0247, 0.0247, 0.0247, 0.0247, 0.0247, 0.0247, 0.0247, 0.0247,\n",
      "         0.0247, 0.0247, 0.0247, 0.0247, 0.0247, 0.0247, 0.0247, 0.0247, 0.0247,\n",
      "         0.0247, 0.0247, 0.0247, 0.0247, 0.0247, 0.0247, 0.0247, 0.0247, 0.0247,\n",
      "         0.0247, 0.0247, 0.0247, 0.0247, 0.0247, 0.0247, 0.0247, 0.0247, 0.0247,\n",
      "         0.0247, 0.0247, 0.0247, 0.0247, 0.0247, 0.0247, 0.0247, 0.0247, 0.0247,\n",
      "         0.0247, 0.0247, 0.0247, 0.0247, 0.0247],\n",
      "        [0.0084, 0.0084, 0.0084, 0.0084, 0.0084, 0.0084, 0.0084, 0.0084, 0.0084,\n",
      "         0.0084, 0.0084, 0.0084, 0.0084, 0.0084, 0.0084, 0.0084, 0.0084, 0.0084,\n",
      "         0.0084, 0.0084, 0.0084, 0.0084, 0.0084, 0.0084, 0.0084, 0.0084, 0.0084,\n",
      "         0.0084, 0.0084, 0.0084, 0.0084, 0.0084, 0.0084, 0.0084, 0.0084, 0.0084,\n",
      "         0.0084, 0.0084, 0.0084, 0.0084, 0.0084, 0.0084, 0.0084, 0.0084, 0.0084,\n",
      "         0.0084, 0.0084, 0.0084, 0.0084, 0.0084]], device='cuda:0',\n",
      "       grad_fn=<SelectBackward0>)\n"
     ]
    },
    {
     "name": "stderr",
     "output_type": "stream",
     "text": [
      "0.00034051:   6%|▌         | 6/100 [07:15<1:50:31, 70.55s/it]"
     ]
    },
    {
     "name": "stdout",
     "output_type": "stream",
     "text": [
      "tensor([1., 1.], device='cuda:0') tensor([[0.0135, 0.0135, 0.0135, 0.0135, 0.0135, 0.0135, 0.0135, 0.0135, 0.0135,\n",
      "         0.0135, 0.0135, 0.0135, 0.0135, 0.0135, 0.0135, 0.0135, 0.0135, 0.0135,\n",
      "         0.0135, 0.0135, 0.0135, 0.0135, 0.0135, 0.0135, 0.0135, 0.0135, 0.0135,\n",
      "         0.0135, 0.0135, 0.0135, 0.0135, 0.0135, 0.0135, 0.0135, 0.0135, 0.0135,\n",
      "         0.0135, 0.0135, 0.0135, 0.0135, 0.0135, 0.0135, 0.0135, 0.0135, 0.0135,\n",
      "         0.0135, 0.0135, 0.0135, 0.0135, 0.0135],\n",
      "        [0.0208, 0.0208, 0.0208, 0.0208, 0.0208, 0.0208, 0.0208, 0.0208, 0.0208,\n",
      "         0.0208, 0.0208, 0.0208, 0.0208, 0.0208, 0.0208, 0.0208, 0.0208, 0.0208,\n",
      "         0.0208, 0.0208, 0.0208, 0.0208, 0.0208, 0.0208, 0.0208, 0.0208, 0.0208,\n",
      "         0.0208, 0.0208, 0.0208, 0.0208, 0.0208, 0.0208, 0.0208, 0.0208, 0.0208,\n",
      "         0.0208, 0.0208, 0.0208, 0.0208, 0.0208, 0.0208, 0.0208, 0.0208, 0.0208,\n",
      "         0.0208, 0.0208, 0.0208, 0.0208, 0.0208]], device='cuda:0',\n",
      "       grad_fn=<SelectBackward0>)\n"
     ]
    },
    {
     "name": "stderr",
     "output_type": "stream",
     "text": [
      "0.00030730:   6%|▌         | 6/100 [07:17<1:50:31, 70.55s/it]"
     ]
    },
    {
     "name": "stdout",
     "output_type": "stream",
     "text": [
      "tensor([1., 1.], device='cuda:0') tensor([[0.0008, 0.0008, 0.0008, 0.0008, 0.0008, 0.0008, 0.0008, 0.0008, 0.0008,\n",
      "         0.0008, 0.0008, 0.0008, 0.0008, 0.0008, 0.0008, 0.0008, 0.0008, 0.0008,\n",
      "         0.0008, 0.0008, 0.0008, 0.0008, 0.0008, 0.0008, 0.0008, 0.0008, 0.0008,\n",
      "         0.0008, 0.0008, 0.0008, 0.0008, 0.0008, 0.0008, 0.0008, 0.0008, 0.0008,\n",
      "         0.0008, 0.0008, 0.0008, 0.0008, 0.0008, 0.0008, 0.0008, 0.0008, 0.0008,\n",
      "         0.0008, 0.0008, 0.0008, 0.0008, 0.0008],\n",
      "        [0.0273, 0.0273, 0.0273, 0.0273, 0.0273, 0.0273, 0.0273, 0.0273, 0.0273,\n",
      "         0.0273, 0.0273, 0.0273, 0.0273, 0.0273, 0.0273, 0.0273, 0.0273, 0.0273,\n",
      "         0.0273, 0.0273, 0.0273, 0.0273, 0.0273, 0.0273, 0.0273, 0.0273, 0.0273,\n",
      "         0.0273, 0.0273, 0.0273, 0.0273, 0.0273, 0.0273, 0.0273, 0.0273, 0.0273,\n",
      "         0.0273, 0.0273, 0.0273, 0.0273, 0.0273, 0.0273, 0.0273, 0.0273, 0.0273,\n",
      "         0.0273, 0.0273, 0.0273, 0.0273, 0.0273]], device='cuda:0',\n",
      "       grad_fn=<SelectBackward0>)\n"
     ]
    },
    {
     "name": "stderr",
     "output_type": "stream",
     "text": [
      "0.00037393:   6%|▌         | 6/100 [07:18<1:50:31, 70.55s/it]"
     ]
    },
    {
     "name": "stdout",
     "output_type": "stream",
     "text": [
      "tensor([1., 1.], device='cuda:0') tensor([[-0.0110, -0.0110, -0.0110, -0.0110, -0.0110, -0.0110, -0.0110, -0.0110,\n",
      "         -0.0110, -0.0110, -0.0110, -0.0110, -0.0110, -0.0110, -0.0110, -0.0110,\n",
      "         -0.0110, -0.0110, -0.0110, -0.0110, -0.0110, -0.0110, -0.0110, -0.0110,\n",
      "         -0.0110, -0.0110, -0.0110, -0.0110, -0.0110, -0.0110, -0.0110, -0.0110,\n",
      "         -0.0110, -0.0110, -0.0110, -0.0110, -0.0110, -0.0110, -0.0110, -0.0110,\n",
      "         -0.0110, -0.0110, -0.0110, -0.0110, -0.0110, -0.0110, -0.0110, -0.0110,\n",
      "         -0.0110, -0.0110],\n",
      "        [ 0.0271,  0.0271,  0.0271,  0.0271,  0.0271,  0.0271,  0.0271,  0.0271,\n",
      "          0.0271,  0.0271,  0.0271,  0.0271,  0.0271,  0.0271,  0.0271,  0.0271,\n",
      "          0.0271,  0.0271,  0.0271,  0.0271,  0.0271,  0.0271,  0.0271,  0.0271,\n",
      "          0.0271,  0.0271,  0.0271,  0.0271,  0.0271,  0.0271,  0.0271,  0.0271,\n",
      "          0.0271,  0.0271,  0.0271,  0.0271,  0.0271,  0.0271,  0.0271,  0.0271,\n",
      "          0.0271,  0.0271,  0.0271,  0.0271,  0.0271,  0.0271,  0.0271,  0.0271,\n",
      "          0.0271,  0.0271]], device='cuda:0', grad_fn=<SelectBackward0>)\n"
     ]
    },
    {
     "name": "stderr",
     "output_type": "stream",
     "text": [
      "0.00042907:   6%|▌         | 6/100 [07:19<1:50:31, 70.55s/it]"
     ]
    },
    {
     "name": "stdout",
     "output_type": "stream",
     "text": [
      "tensor([1., 1.], device='cuda:0') tensor([[ 0.0210,  0.0210,  0.0210,  0.0210,  0.0210,  0.0210,  0.0210,  0.0210,\n",
      "          0.0210,  0.0210,  0.0210,  0.0210,  0.0210,  0.0210,  0.0210,  0.0210,\n",
      "          0.0210,  0.0210,  0.0210,  0.0210,  0.0210,  0.0210,  0.0210,  0.0210,\n",
      "          0.0210,  0.0210,  0.0210,  0.0210,  0.0210,  0.0210,  0.0210,  0.0210,\n",
      "          0.0210,  0.0210,  0.0210,  0.0210,  0.0210,  0.0210,  0.0210,  0.0210,\n",
      "          0.0210,  0.0210,  0.0210,  0.0210,  0.0210,  0.0210,  0.0210,  0.0210,\n",
      "          0.0210,  0.0210],\n",
      "        [-0.0199, -0.0199, -0.0199, -0.0199, -0.0199, -0.0199, -0.0199, -0.0199,\n",
      "         -0.0199, -0.0199, -0.0199, -0.0199, -0.0199, -0.0199, -0.0199, -0.0199,\n",
      "         -0.0199, -0.0199, -0.0199, -0.0199, -0.0199, -0.0199, -0.0199, -0.0199,\n",
      "         -0.0199, -0.0199, -0.0199, -0.0199, -0.0199, -0.0199, -0.0199, -0.0199,\n",
      "         -0.0199, -0.0199, -0.0199, -0.0199, -0.0199, -0.0199, -0.0199, -0.0199,\n",
      "         -0.0199, -0.0199, -0.0199, -0.0199, -0.0199, -0.0199, -0.0199, -0.0199,\n",
      "         -0.0199, -0.0199]], device='cuda:0', grad_fn=<SelectBackward0>)\n"
     ]
    },
    {
     "name": "stderr",
     "output_type": "stream",
     "text": [
      "0.00041839:   6%|▌         | 6/100 [07:21<1:50:31, 70.55s/it]"
     ]
    },
    {
     "name": "stdout",
     "output_type": "stream",
     "text": [
      "tensor([1., 1.], device='cuda:0') tensor([[-0.0244, -0.0244, -0.0244, -0.0244, -0.0244, -0.0244, -0.0244, -0.0244,\n",
      "         -0.0244, -0.0244, -0.0244, -0.0244, -0.0244, -0.0244, -0.0244, -0.0244,\n",
      "         -0.0244, -0.0244, -0.0244, -0.0244, -0.0244, -0.0244, -0.0244, -0.0244,\n",
      "         -0.0244, -0.0244, -0.0244, -0.0244, -0.0244, -0.0244, -0.0244, -0.0244,\n",
      "         -0.0244, -0.0244, -0.0244, -0.0244, -0.0244, -0.0244, -0.0244, -0.0244,\n",
      "         -0.0244, -0.0244, -0.0244, -0.0244, -0.0244, -0.0244, -0.0244, -0.0244,\n",
      "         -0.0244, -0.0244],\n",
      "        [ 0.0110,  0.0110,  0.0110,  0.0110,  0.0110,  0.0110,  0.0110,  0.0110,\n",
      "          0.0110,  0.0110,  0.0110,  0.0110,  0.0110,  0.0110,  0.0110,  0.0110,\n",
      "          0.0110,  0.0110,  0.0110,  0.0110,  0.0110,  0.0110,  0.0110,  0.0110,\n",
      "          0.0110,  0.0110,  0.0110,  0.0110,  0.0110,  0.0110,  0.0110,  0.0110,\n",
      "          0.0110,  0.0110,  0.0110,  0.0110,  0.0110,  0.0110,  0.0110,  0.0110,\n",
      "          0.0110,  0.0110,  0.0110,  0.0110,  0.0110,  0.0110,  0.0110,  0.0110,\n",
      "          0.0110,  0.0110]], device='cuda:0', grad_fn=<SelectBackward0>)\n"
     ]
    },
    {
     "name": "stderr",
     "output_type": "stream",
     "text": [
      "0.00035905:   6%|▌         | 6/100 [07:22<1:50:31, 70.55s/it]"
     ]
    },
    {
     "name": "stdout",
     "output_type": "stream",
     "text": [
      "tensor([1., 1.], device='cuda:0') tensor([[-0.0003, -0.0003, -0.0003, -0.0003, -0.0003, -0.0003, -0.0003, -0.0003,\n",
      "         -0.0003, -0.0003, -0.0003, -0.0003, -0.0003, -0.0003, -0.0003, -0.0003,\n",
      "         -0.0003, -0.0003, -0.0003, -0.0003, -0.0003, -0.0003, -0.0003, -0.0003,\n",
      "         -0.0003, -0.0003, -0.0003, -0.0003, -0.0003, -0.0003, -0.0003, -0.0003,\n",
      "         -0.0003, -0.0003, -0.0003, -0.0003, -0.0003, -0.0003, -0.0003, -0.0003,\n",
      "         -0.0003, -0.0003, -0.0003, -0.0003, -0.0003, -0.0003, -0.0003, -0.0003,\n",
      "         -0.0003, -0.0003],\n",
      "        [-0.0243, -0.0243, -0.0243, -0.0243, -0.0243, -0.0243, -0.0243, -0.0243,\n",
      "         -0.0243, -0.0243, -0.0243, -0.0243, -0.0243, -0.0243, -0.0243, -0.0243,\n",
      "         -0.0243, -0.0243, -0.0243, -0.0243, -0.0243, -0.0243, -0.0243, -0.0243,\n",
      "         -0.0243, -0.0243, -0.0243, -0.0243, -0.0243, -0.0243, -0.0243, -0.0243,\n",
      "         -0.0243, -0.0243, -0.0243, -0.0243, -0.0243, -0.0243, -0.0243, -0.0243,\n",
      "         -0.0243, -0.0243, -0.0243, -0.0243, -0.0243, -0.0243, -0.0243, -0.0243,\n",
      "         -0.0243, -0.0243]], device='cuda:0', grad_fn=<SelectBackward0>)\n"
     ]
    },
    {
     "name": "stderr",
     "output_type": "stream",
     "text": [
      "0.00029427:   6%|▌         | 6/100 [07:24<1:50:31, 70.55s/it]"
     ]
    },
    {
     "name": "stdout",
     "output_type": "stream",
     "text": [
      "tensor([1., 1.], device='cuda:0') tensor([[-0.0102, -0.0102, -0.0102, -0.0102, -0.0102, -0.0102, -0.0102, -0.0102,\n",
      "         -0.0102, -0.0102, -0.0102, -0.0102, -0.0102, -0.0102, -0.0102, -0.0102,\n",
      "         -0.0102, -0.0102, -0.0102, -0.0102, -0.0102, -0.0102, -0.0102, -0.0102,\n",
      "         -0.0102, -0.0102, -0.0102, -0.0102, -0.0102, -0.0102, -0.0102, -0.0102,\n",
      "         -0.0102, -0.0102, -0.0102, -0.0102, -0.0102, -0.0102, -0.0102, -0.0102,\n",
      "         -0.0102, -0.0102, -0.0102, -0.0102, -0.0102, -0.0102, -0.0102, -0.0102,\n",
      "         -0.0102, -0.0102],\n",
      "        [-0.0197, -0.0197, -0.0197, -0.0197, -0.0197, -0.0197, -0.0197, -0.0197,\n",
      "         -0.0197, -0.0197, -0.0197, -0.0197, -0.0197, -0.0197, -0.0197, -0.0197,\n",
      "         -0.0197, -0.0197, -0.0197, -0.0197, -0.0197, -0.0197, -0.0197, -0.0197,\n",
      "         -0.0197, -0.0197, -0.0197, -0.0197, -0.0197, -0.0197, -0.0197, -0.0197,\n",
      "         -0.0197, -0.0197, -0.0197, -0.0197, -0.0197, -0.0197, -0.0197, -0.0197,\n",
      "         -0.0197, -0.0197, -0.0197, -0.0197, -0.0197, -0.0197, -0.0197, -0.0197,\n",
      "         -0.0197, -0.0197]], device='cuda:0', grad_fn=<SelectBackward0>)\n"
     ]
    },
    {
     "name": "stderr",
     "output_type": "stream",
     "text": [
      "0.00024714:   6%|▌         | 6/100 [07:25<1:50:31, 70.55s/it]"
     ]
    },
    {
     "name": "stdout",
     "output_type": "stream",
     "text": [
      "tensor([1., 1.], device='cuda:0') tensor([[-0.0167, -0.0167, -0.0167, -0.0167, -0.0167, -0.0167, -0.0167, -0.0167,\n",
      "         -0.0167, -0.0167, -0.0167, -0.0167, -0.0167, -0.0167, -0.0167, -0.0167,\n",
      "         -0.0167, -0.0167, -0.0167, -0.0167, -0.0167, -0.0167, -0.0167, -0.0167,\n",
      "         -0.0167, -0.0167, -0.0167, -0.0167, -0.0167, -0.0167, -0.0167, -0.0167,\n",
      "         -0.0167, -0.0167, -0.0167, -0.0167, -0.0167, -0.0167, -0.0167, -0.0167,\n",
      "         -0.0167, -0.0167, -0.0167, -0.0167, -0.0167, -0.0167, -0.0167, -0.0167,\n",
      "         -0.0167, -0.0167],\n",
      "        [-0.0120, -0.0120, -0.0120, -0.0120, -0.0120, -0.0120, -0.0120, -0.0120,\n",
      "         -0.0120, -0.0120, -0.0120, -0.0120, -0.0120, -0.0120, -0.0120, -0.0120,\n",
      "         -0.0120, -0.0120, -0.0120, -0.0120, -0.0120, -0.0120, -0.0120, -0.0120,\n",
      "         -0.0120, -0.0120, -0.0120, -0.0120, -0.0120, -0.0120, -0.0120, -0.0120,\n",
      "         -0.0120, -0.0120, -0.0120, -0.0120, -0.0120, -0.0120, -0.0120, -0.0120,\n",
      "         -0.0120, -0.0120, -0.0120, -0.0120, -0.0120, -0.0120, -0.0120, -0.0120,\n",
      "         -0.0120, -0.0120]], device='cuda:0', grad_fn=<SelectBackward0>)\n"
     ]
    },
    {
     "name": "stderr",
     "output_type": "stream",
     "text": [
      "0.00021283:   6%|▌         | 6/100 [07:27<1:50:31, 70.55s/it]"
     ]
    },
    {
     "name": "stdout",
     "output_type": "stream",
     "text": [
      "tensor([1., 1.], device='cuda:0') tensor([[-0.0188, -0.0188, -0.0188, -0.0188, -0.0188, -0.0188, -0.0188, -0.0188,\n",
      "         -0.0188, -0.0188, -0.0188, -0.0188, -0.0188, -0.0188, -0.0188, -0.0188,\n",
      "         -0.0188, -0.0188, -0.0188, -0.0188, -0.0188, -0.0188, -0.0188, -0.0188,\n",
      "         -0.0188, -0.0188, -0.0188, -0.0188, -0.0188, -0.0188, -0.0188, -0.0188,\n",
      "         -0.0188, -0.0188, -0.0188, -0.0188, -0.0188, -0.0188, -0.0188, -0.0188,\n",
      "         -0.0188, -0.0188, -0.0188, -0.0188, -0.0188, -0.0188, -0.0188, -0.0188,\n",
      "         -0.0188, -0.0188],\n",
      "        [-0.0028, -0.0028, -0.0028, -0.0028, -0.0028, -0.0028, -0.0028, -0.0028,\n",
      "         -0.0028, -0.0028, -0.0028, -0.0028, -0.0028, -0.0028, -0.0028, -0.0028,\n",
      "         -0.0028, -0.0028, -0.0028, -0.0028, -0.0028, -0.0028, -0.0028, -0.0028,\n",
      "         -0.0028, -0.0028, -0.0028, -0.0028, -0.0028, -0.0028, -0.0028, -0.0028,\n",
      "         -0.0028, -0.0028, -0.0028, -0.0028, -0.0028, -0.0028, -0.0028, -0.0028,\n",
      "         -0.0028, -0.0028, -0.0028, -0.0028, -0.0028, -0.0028, -0.0028, -0.0028,\n",
      "         -0.0028, -0.0028]], device='cuda:0', grad_fn=<SelectBackward0>)\n"
     ]
    },
    {
     "name": "stderr",
     "output_type": "stream",
     "text": [
      "0.00018094:   6%|▌         | 6/100 [07:29<1:50:31, 70.55s/it]"
     ]
    },
    {
     "name": "stdout",
     "output_type": "stream",
     "text": [
      "tensor([1., 1.], device='cuda:0') tensor([[ 0.0062,  0.0062,  0.0062,  0.0062,  0.0062,  0.0062,  0.0062,  0.0062,\n",
      "          0.0062,  0.0062,  0.0062,  0.0062,  0.0062,  0.0062,  0.0062,  0.0062,\n",
      "          0.0062,  0.0062,  0.0062,  0.0062,  0.0062,  0.0062,  0.0062,  0.0062,\n",
      "          0.0062,  0.0062,  0.0062,  0.0062,  0.0062,  0.0062,  0.0062,  0.0062,\n",
      "          0.0062,  0.0062,  0.0062,  0.0062,  0.0062,  0.0062,  0.0062,  0.0062,\n",
      "          0.0062,  0.0062,  0.0062,  0.0062,  0.0062,  0.0062,  0.0062,  0.0062,\n",
      "          0.0062,  0.0062],\n",
      "        [-0.0165, -0.0165, -0.0165, -0.0165, -0.0165, -0.0165, -0.0165, -0.0165,\n",
      "         -0.0165, -0.0165, -0.0165, -0.0165, -0.0165, -0.0165, -0.0165, -0.0165,\n",
      "         -0.0165, -0.0165, -0.0165, -0.0165, -0.0165, -0.0165, -0.0165, -0.0165,\n",
      "         -0.0165, -0.0165, -0.0165, -0.0165, -0.0165, -0.0165, -0.0165, -0.0165,\n",
      "         -0.0165, -0.0165, -0.0165, -0.0165, -0.0165, -0.0165, -0.0165, -0.0165,\n",
      "         -0.0165, -0.0165, -0.0165, -0.0165, -0.0165, -0.0165, -0.0165, -0.0165,\n",
      "         -0.0165, -0.0165]], device='cuda:0', grad_fn=<SelectBackward0>)\n"
     ]
    },
    {
     "name": "stderr",
     "output_type": "stream",
     "text": [
      "0.00015450:   6%|▌         | 6/100 [07:30<1:50:31, 70.55s/it]"
     ]
    },
    {
     "name": "stdout",
     "output_type": "stream",
     "text": [
      "tensor([1., 1.], device='cuda:0') tensor([[-0.0107, -0.0107, -0.0107, -0.0107, -0.0107, -0.0107, -0.0107, -0.0107,\n",
      "         -0.0107, -0.0107, -0.0107, -0.0107, -0.0107, -0.0107, -0.0107, -0.0107,\n",
      "         -0.0107, -0.0107, -0.0107, -0.0107, -0.0107, -0.0107, -0.0107, -0.0107,\n",
      "         -0.0107, -0.0107, -0.0107, -0.0107, -0.0107, -0.0107, -0.0107, -0.0107,\n",
      "         -0.0107, -0.0107, -0.0107, -0.0107, -0.0107, -0.0107, -0.0107, -0.0107,\n",
      "         -0.0107, -0.0107, -0.0107, -0.0107, -0.0107, -0.0107, -0.0107, -0.0107,\n",
      "         -0.0107, -0.0107],\n",
      "        [ 0.0133,  0.0133,  0.0133,  0.0133,  0.0133,  0.0133,  0.0133,  0.0133,\n",
      "          0.0133,  0.0133,  0.0133,  0.0133,  0.0133,  0.0133,  0.0133,  0.0133,\n",
      "          0.0133,  0.0133,  0.0133,  0.0133,  0.0133,  0.0133,  0.0133,  0.0133,\n",
      "          0.0133,  0.0133,  0.0133,  0.0133,  0.0133,  0.0133,  0.0133,  0.0133,\n",
      "          0.0133,  0.0133,  0.0133,  0.0133,  0.0133,  0.0133,  0.0133,  0.0133,\n",
      "          0.0133,  0.0133,  0.0133,  0.0133,  0.0133,  0.0133,  0.0133,  0.0133,\n",
      "          0.0133,  0.0133]], device='cuda:0', grad_fn=<SelectBackward0>)\n"
     ]
    },
    {
     "name": "stderr",
     "output_type": "stream",
     "text": [
      "0.00014538:   6%|▌         | 6/100 [07:32<1:50:31, 70.55s/it]"
     ]
    },
    {
     "name": "stdout",
     "output_type": "stream",
     "text": [
      "tensor([1., 1.], device='cuda:0') tensor([[ 0.0173,  0.0173,  0.0173,  0.0173,  0.0173,  0.0173,  0.0173,  0.0173,\n",
      "          0.0173,  0.0173,  0.0173,  0.0173,  0.0173,  0.0173,  0.0173,  0.0173,\n",
      "          0.0173,  0.0173,  0.0173,  0.0173,  0.0173,  0.0173,  0.0173,  0.0173,\n",
      "          0.0173,  0.0173,  0.0173,  0.0173,  0.0173,  0.0173,  0.0173,  0.0173,\n",
      "          0.0173,  0.0173,  0.0173,  0.0173,  0.0173,  0.0173,  0.0173,  0.0173,\n",
      "          0.0173,  0.0173,  0.0173,  0.0173,  0.0173,  0.0173,  0.0173,  0.0173,\n",
      "          0.0173,  0.0173],\n",
      "        [-0.0032, -0.0032, -0.0032, -0.0032, -0.0032, -0.0032, -0.0032, -0.0032,\n",
      "         -0.0032, -0.0032, -0.0032, -0.0032, -0.0032, -0.0032, -0.0032, -0.0032,\n",
      "         -0.0032, -0.0032, -0.0032, -0.0032, -0.0032, -0.0032, -0.0032, -0.0032,\n",
      "         -0.0032, -0.0032, -0.0032, -0.0032, -0.0032, -0.0032, -0.0032, -0.0032,\n",
      "         -0.0032, -0.0032, -0.0032, -0.0032, -0.0032, -0.0032, -0.0032, -0.0032,\n",
      "         -0.0032, -0.0032, -0.0032, -0.0032, -0.0032, -0.0032, -0.0032, -0.0032,\n",
      "         -0.0032, -0.0032]], device='cuda:0', grad_fn=<SelectBackward0>)\n"
     ]
    },
    {
     "name": "stderr",
     "output_type": "stream",
     "text": [
      "0.00015555:   6%|▌         | 6/100 [07:33<1:50:31, 70.55s/it]"
     ]
    },
    {
     "name": "stdout",
     "output_type": "stream",
     "text": [
      "tensor([1., 1.], device='cuda:0') tensor([[0.0041, 0.0041, 0.0041, 0.0041, 0.0041, 0.0041, 0.0041, 0.0041, 0.0041,\n",
      "         0.0041, 0.0041, 0.0041, 0.0041, 0.0041, 0.0041, 0.0041, 0.0041, 0.0041,\n",
      "         0.0041, 0.0041, 0.0041, 0.0041, 0.0041, 0.0041, 0.0041, 0.0041, 0.0041,\n",
      "         0.0041, 0.0041, 0.0041, 0.0041, 0.0041, 0.0041, 0.0041, 0.0041, 0.0041,\n",
      "         0.0041, 0.0041, 0.0041, 0.0041, 0.0041, 0.0041, 0.0041, 0.0041, 0.0041,\n",
      "         0.0041, 0.0041, 0.0041, 0.0041, 0.0041],\n",
      "        [0.0179, 0.0179, 0.0179, 0.0179, 0.0179, 0.0179, 0.0179, 0.0179, 0.0179,\n",
      "         0.0179, 0.0179, 0.0179, 0.0179, 0.0179, 0.0179, 0.0179, 0.0179, 0.0179,\n",
      "         0.0179, 0.0179, 0.0179, 0.0179, 0.0179, 0.0179, 0.0179, 0.0179, 0.0179,\n",
      "         0.0179, 0.0179, 0.0179, 0.0179, 0.0179, 0.0179, 0.0179, 0.0179, 0.0179,\n",
      "         0.0179, 0.0179, 0.0179, 0.0179, 0.0179, 0.0179, 0.0179, 0.0179, 0.0179,\n",
      "         0.0179, 0.0179, 0.0179, 0.0179, 0.0179]], device='cuda:0',\n",
      "       grad_fn=<SelectBackward0>)\n"
     ]
    },
    {
     "name": "stderr",
     "output_type": "stream",
     "text": [
      "0.00016830:   6%|▌         | 6/100 [07:35<1:50:31, 70.55s/it]"
     ]
    },
    {
     "name": "stdout",
     "output_type": "stream",
     "text": [
      "tensor([1., 1.], device='cuda:0') tensor([[0.0096, 0.0096, 0.0096, 0.0096, 0.0096, 0.0096, 0.0096, 0.0096, 0.0096,\n",
      "         0.0096, 0.0096, 0.0096, 0.0096, 0.0096, 0.0096, 0.0096, 0.0096, 0.0096,\n",
      "         0.0096, 0.0096, 0.0096, 0.0096, 0.0096, 0.0096, 0.0096, 0.0096, 0.0096,\n",
      "         0.0096, 0.0096, 0.0096, 0.0096, 0.0096, 0.0096, 0.0096, 0.0096, 0.0096,\n",
      "         0.0096, 0.0096, 0.0096, 0.0096, 0.0096, 0.0096, 0.0096, 0.0096, 0.0096,\n",
      "         0.0096, 0.0096, 0.0096, 0.0096, 0.0096],\n",
      "        [0.0151, 0.0151, 0.0151, 0.0151, 0.0151, 0.0151, 0.0151, 0.0151, 0.0151,\n",
      "         0.0151, 0.0151, 0.0151, 0.0151, 0.0151, 0.0151, 0.0151, 0.0151, 0.0151,\n",
      "         0.0151, 0.0151, 0.0151, 0.0151, 0.0151, 0.0151, 0.0151, 0.0151, 0.0151,\n",
      "         0.0151, 0.0151, 0.0151, 0.0151, 0.0151, 0.0151, 0.0151, 0.0151, 0.0151,\n",
      "         0.0151, 0.0151, 0.0151, 0.0151, 0.0151, 0.0151, 0.0151, 0.0151, 0.0151,\n",
      "         0.0151, 0.0151, 0.0151, 0.0151, 0.0151]], device='cuda:0',\n",
      "       grad_fn=<SelectBackward0>)\n"
     ]
    },
    {
     "name": "stderr",
     "output_type": "stream",
     "text": [
      "0.00016047:   6%|▌         | 6/100 [07:37<1:50:31, 70.55s/it]"
     ]
    },
    {
     "name": "stdout",
     "output_type": "stream",
     "text": [
      "tensor([1., 1.], device='cuda:0') tensor([[0.0098, 0.0098, 0.0098, 0.0098, 0.0098, 0.0098, 0.0098, 0.0098, 0.0098,\n",
      "         0.0098, 0.0098, 0.0098, 0.0098, 0.0098, 0.0098, 0.0098, 0.0098, 0.0098,\n",
      "         0.0098, 0.0098, 0.0098, 0.0098, 0.0098, 0.0098, 0.0098, 0.0098, 0.0098,\n",
      "         0.0098, 0.0098, 0.0098, 0.0098, 0.0098, 0.0098, 0.0098, 0.0098, 0.0098,\n",
      "         0.0098, 0.0098, 0.0098, 0.0098, 0.0098, 0.0098, 0.0098, 0.0098, 0.0098,\n",
      "         0.0098, 0.0098, 0.0098, 0.0098, 0.0098],\n",
      "        [0.0124, 0.0124, 0.0124, 0.0124, 0.0124, 0.0124, 0.0124, 0.0124, 0.0124,\n",
      "         0.0124, 0.0124, 0.0124, 0.0124, 0.0124, 0.0124, 0.0124, 0.0124, 0.0124,\n",
      "         0.0124, 0.0124, 0.0124, 0.0124, 0.0124, 0.0124, 0.0124, 0.0124, 0.0124,\n",
      "         0.0124, 0.0124, 0.0124, 0.0124, 0.0124, 0.0124, 0.0124, 0.0124, 0.0124,\n",
      "         0.0124, 0.0124, 0.0124, 0.0124, 0.0124, 0.0124, 0.0124, 0.0124, 0.0124,\n",
      "         0.0124, 0.0124, 0.0124, 0.0124, 0.0124]], device='cuda:0',\n",
      "       grad_fn=<SelectBackward0>)\n"
     ]
    },
    {
     "name": "stderr",
     "output_type": "stream",
     "text": [
      "0.00012426:   6%|▌         | 6/100 [07:38<1:50:31, 70.55s/it]"
     ]
    },
    {
     "name": "stdout",
     "output_type": "stream",
     "text": [
      "tensor([1., 1.], device='cuda:0') tensor([[0.0031, 0.0031, 0.0031, 0.0031, 0.0031, 0.0031, 0.0031, 0.0031, 0.0031,\n",
      "         0.0031, 0.0031, 0.0031, 0.0031, 0.0031, 0.0031, 0.0031, 0.0031, 0.0031,\n",
      "         0.0031, 0.0031, 0.0031, 0.0031, 0.0031, 0.0031, 0.0031, 0.0031, 0.0031,\n",
      "         0.0031, 0.0031, 0.0031, 0.0031, 0.0031, 0.0031, 0.0031, 0.0031, 0.0031,\n",
      "         0.0031, 0.0031, 0.0031, 0.0031, 0.0031, 0.0031, 0.0031, 0.0031, 0.0031,\n",
      "         0.0031, 0.0031, 0.0031, 0.0031, 0.0031],\n",
      "        [0.0120, 0.0120, 0.0120, 0.0120, 0.0120, 0.0120, 0.0120, 0.0120, 0.0120,\n",
      "         0.0120, 0.0120, 0.0120, 0.0120, 0.0120, 0.0120, 0.0120, 0.0120, 0.0120,\n",
      "         0.0120, 0.0120, 0.0120, 0.0120, 0.0120, 0.0120, 0.0120, 0.0120, 0.0120,\n",
      "         0.0120, 0.0120, 0.0120, 0.0120, 0.0120, 0.0120, 0.0120, 0.0120, 0.0120,\n",
      "         0.0120, 0.0120, 0.0120, 0.0120, 0.0120, 0.0120, 0.0120, 0.0120, 0.0120,\n",
      "         0.0120, 0.0120, 0.0120, 0.0120, 0.0120]], device='cuda:0',\n",
      "       grad_fn=<SelectBackward0>)\n"
     ]
    },
    {
     "name": "stderr",
     "output_type": "stream",
     "text": [
      "0.00007658:   6%|▌         | 6/100 [07:40<1:50:31, 70.55s/it]"
     ]
    },
    {
     "name": "stdout",
     "output_type": "stream",
     "text": [
      "tensor([1., 1.], device='cuda:0') tensor([[-0.0036, -0.0036, -0.0036, -0.0036, -0.0036, -0.0036, -0.0036, -0.0036,\n",
      "         -0.0036, -0.0036, -0.0036, -0.0036, -0.0036, -0.0036, -0.0036, -0.0036,\n",
      "         -0.0036, -0.0036, -0.0036, -0.0036, -0.0036, -0.0036, -0.0036, -0.0036,\n",
      "         -0.0036, -0.0036, -0.0036, -0.0036, -0.0036, -0.0036, -0.0036, -0.0036,\n",
      "         -0.0036, -0.0036, -0.0036, -0.0036, -0.0036, -0.0036, -0.0036, -0.0036,\n",
      "         -0.0036, -0.0036, -0.0036, -0.0036, -0.0036, -0.0036, -0.0036, -0.0036,\n",
      "         -0.0036, -0.0036],\n",
      "        [ 0.0089,  0.0089,  0.0089,  0.0089,  0.0089,  0.0089,  0.0089,  0.0089,\n",
      "          0.0089,  0.0089,  0.0089,  0.0089,  0.0089,  0.0089,  0.0089,  0.0089,\n",
      "          0.0089,  0.0089,  0.0089,  0.0089,  0.0089,  0.0089,  0.0089,  0.0089,\n",
      "          0.0089,  0.0089,  0.0089,  0.0089,  0.0089,  0.0089,  0.0089,  0.0089,\n",
      "          0.0089,  0.0089,  0.0089,  0.0089,  0.0089,  0.0089,  0.0089,  0.0089,\n",
      "          0.0089,  0.0089,  0.0089,  0.0089,  0.0089,  0.0089,  0.0089,  0.0089,\n",
      "          0.0089,  0.0089]], device='cuda:0', grad_fn=<SelectBackward0>)\n"
     ]
    },
    {
     "name": "stderr",
     "output_type": "stream",
     "text": [
      "0.00004618:   6%|▌         | 6/100 [07:41<1:50:31, 70.55s/it]"
     ]
    },
    {
     "name": "stdout",
     "output_type": "stream",
     "text": [
      "tensor([1., 1.], device='cuda:0') tensor([[ 0.0042,  0.0042,  0.0042,  0.0042,  0.0042,  0.0042,  0.0042,  0.0042,\n",
      "          0.0042,  0.0042,  0.0042,  0.0042,  0.0042,  0.0042,  0.0042,  0.0042,\n",
      "          0.0042,  0.0042,  0.0042,  0.0042,  0.0042,  0.0042,  0.0042,  0.0042,\n",
      "          0.0042,  0.0042,  0.0042,  0.0042,  0.0042,  0.0042,  0.0042,  0.0042,\n",
      "          0.0042,  0.0042,  0.0042,  0.0042,  0.0042,  0.0042,  0.0042,  0.0042,\n",
      "          0.0042,  0.0042,  0.0042,  0.0042,  0.0042,  0.0042,  0.0042,  0.0042,\n",
      "          0.0042,  0.0042],\n",
      "        [-0.0090, -0.0090, -0.0090, -0.0090, -0.0090, -0.0090, -0.0090, -0.0090,\n",
      "         -0.0090, -0.0090, -0.0090, -0.0090, -0.0090, -0.0090, -0.0090, -0.0090,\n",
      "         -0.0090, -0.0090, -0.0090, -0.0090, -0.0090, -0.0090, -0.0090, -0.0090,\n",
      "         -0.0090, -0.0090, -0.0090, -0.0090, -0.0090, -0.0090, -0.0090, -0.0090,\n",
      "         -0.0090, -0.0090, -0.0090, -0.0090, -0.0090, -0.0090, -0.0090, -0.0090,\n",
      "         -0.0090, -0.0090, -0.0090, -0.0090, -0.0090, -0.0090, -0.0090, -0.0090,\n",
      "         -0.0090, -0.0090]], device='cuda:0', grad_fn=<SelectBackward0>)\n"
     ]
    },
    {
     "name": "stderr",
     "output_type": "stream",
     "text": [
      "0.00004934:   6%|▌         | 6/100 [07:43<1:50:31, 70.55s/it]"
     ]
    },
    {
     "name": "stdout",
     "output_type": "stream",
     "text": [
      "tensor([1., 1.], device='cuda:0') tensor([[-0.0010, -0.0010, -0.0010, -0.0010, -0.0010, -0.0010, -0.0010, -0.0010,\n",
      "         -0.0010, -0.0010, -0.0010, -0.0010, -0.0010, -0.0010, -0.0010, -0.0010,\n",
      "         -0.0010, -0.0010, -0.0010, -0.0010, -0.0010, -0.0010, -0.0010, -0.0010,\n",
      "         -0.0010, -0.0010, -0.0010, -0.0010, -0.0010, -0.0010, -0.0010, -0.0010,\n",
      "         -0.0010, -0.0010, -0.0010, -0.0010, -0.0010, -0.0010, -0.0010, -0.0010,\n",
      "         -0.0010, -0.0010, -0.0010, -0.0010, -0.0010, -0.0010, -0.0010, -0.0010,\n",
      "         -0.0010, -0.0010],\n",
      "        [-0.0123, -0.0123, -0.0123, -0.0123, -0.0123, -0.0123, -0.0123, -0.0123,\n",
      "         -0.0123, -0.0123, -0.0123, -0.0123, -0.0123, -0.0123, -0.0123, -0.0123,\n",
      "         -0.0123, -0.0123, -0.0123, -0.0123, -0.0123, -0.0123, -0.0123, -0.0123,\n",
      "         -0.0123, -0.0123, -0.0123, -0.0123, -0.0123, -0.0123, -0.0123, -0.0123,\n",
      "         -0.0123, -0.0123, -0.0123, -0.0123, -0.0123, -0.0123, -0.0123, -0.0123,\n",
      "         -0.0123, -0.0123, -0.0123, -0.0123, -0.0123, -0.0123, -0.0123, -0.0123,\n",
      "         -0.0123, -0.0123]], device='cuda:0', grad_fn=<SelectBackward0>)\n"
     ]
    },
    {
     "name": "stderr",
     "output_type": "stream",
     "text": [
      "0.00007604:   6%|▌         | 6/100 [07:44<1:50:31, 70.55s/it]"
     ]
    },
    {
     "name": "stdout",
     "output_type": "stream",
     "text": [
      "tensor([1., 1.], device='cuda:0') tensor([[-0.0130, -0.0130, -0.0130, -0.0130, -0.0130, -0.0130, -0.0130, -0.0130,\n",
      "         -0.0130, -0.0130, -0.0130, -0.0130, -0.0130, -0.0130, -0.0130, -0.0130,\n",
      "         -0.0130, -0.0130, -0.0130, -0.0130, -0.0130, -0.0130, -0.0130, -0.0130,\n",
      "         -0.0130, -0.0130, -0.0130, -0.0130, -0.0130, -0.0130, -0.0130, -0.0130,\n",
      "         -0.0130, -0.0130, -0.0130, -0.0130, -0.0130, -0.0130, -0.0130, -0.0130,\n",
      "         -0.0130, -0.0130, -0.0130, -0.0130, -0.0130, -0.0130, -0.0130, -0.0130,\n",
      "         -0.0130, -0.0130],\n",
      "        [-0.0053, -0.0053, -0.0053, -0.0053, -0.0053, -0.0053, -0.0053, -0.0053,\n",
      "         -0.0053, -0.0053, -0.0053, -0.0053, -0.0053, -0.0053, -0.0053, -0.0053,\n",
      "         -0.0053, -0.0053, -0.0053, -0.0053, -0.0053, -0.0053, -0.0053, -0.0053,\n",
      "         -0.0053, -0.0053, -0.0053, -0.0053, -0.0053, -0.0053, -0.0053, -0.0053,\n",
      "         -0.0053, -0.0053, -0.0053, -0.0053, -0.0053, -0.0053, -0.0053, -0.0053,\n",
      "         -0.0053, -0.0053, -0.0053, -0.0053, -0.0053, -0.0053, -0.0053, -0.0053,\n",
      "         -0.0053, -0.0053]], device='cuda:0', grad_fn=<SelectBackward0>)\n"
     ]
    },
    {
     "name": "stderr",
     "output_type": "stream",
     "text": [
      "0.00009840:   6%|▌         | 6/100 [07:46<1:50:31, 70.55s/it]"
     ]
    },
    {
     "name": "stdout",
     "output_type": "stream",
     "text": [
      "tensor([1., 1.], device='cuda:0') tensor([[-0.0079, -0.0079, -0.0079, -0.0079, -0.0079, -0.0079, -0.0079, -0.0079,\n",
      "         -0.0079, -0.0079, -0.0079, -0.0079, -0.0079, -0.0079, -0.0079, -0.0079,\n",
      "         -0.0079, -0.0079, -0.0079, -0.0079, -0.0079, -0.0079, -0.0079, -0.0079,\n",
      "         -0.0079, -0.0079, -0.0079, -0.0079, -0.0079, -0.0079, -0.0079, -0.0079,\n",
      "         -0.0079, -0.0079, -0.0079, -0.0079, -0.0079, -0.0079, -0.0079, -0.0079,\n",
      "         -0.0079, -0.0079, -0.0079, -0.0079, -0.0079, -0.0079, -0.0079, -0.0079,\n",
      "         -0.0079, -0.0079],\n",
      "        [-0.0112, -0.0112, -0.0112, -0.0112, -0.0112, -0.0112, -0.0112, -0.0112,\n",
      "         -0.0112, -0.0112, -0.0112, -0.0112, -0.0112, -0.0112, -0.0112, -0.0112,\n",
      "         -0.0112, -0.0112, -0.0112, -0.0112, -0.0112, -0.0112, -0.0112, -0.0112,\n",
      "         -0.0112, -0.0112, -0.0112, -0.0112, -0.0112, -0.0112, -0.0112, -0.0112,\n",
      "         -0.0112, -0.0112, -0.0112, -0.0112, -0.0112, -0.0112, -0.0112, -0.0112,\n",
      "         -0.0112, -0.0112, -0.0112, -0.0112, -0.0112, -0.0112, -0.0112, -0.0112,\n",
      "         -0.0112, -0.0112]], device='cuda:0', grad_fn=<SelectBackward0>)\n"
     ]
    },
    {
     "name": "stderr",
     "output_type": "stream",
     "text": [
      "0.00009382:   6%|▌         | 6/100 [07:47<1:50:31, 70.55s/it]"
     ]
    },
    {
     "name": "stdout",
     "output_type": "stream",
     "text": [
      "tensor([1., 1.], device='cuda:0') tensor([[-0.0084, -0.0084, -0.0084, -0.0084, -0.0084, -0.0084, -0.0084, -0.0084,\n",
      "         -0.0084, -0.0084, -0.0084, -0.0084, -0.0084, -0.0084, -0.0084, -0.0084,\n",
      "         -0.0084, -0.0084, -0.0084, -0.0084, -0.0084, -0.0084, -0.0084, -0.0084,\n",
      "         -0.0084, -0.0084, -0.0084, -0.0084, -0.0084, -0.0084, -0.0084, -0.0084,\n",
      "         -0.0084, -0.0084, -0.0084, -0.0084, -0.0084, -0.0084, -0.0084, -0.0084,\n",
      "         -0.0084, -0.0084, -0.0084, -0.0084, -0.0084, -0.0084, -0.0084, -0.0084,\n",
      "         -0.0084, -0.0084],\n",
      "        [-0.0074, -0.0074, -0.0074, -0.0074, -0.0074, -0.0074, -0.0074, -0.0074,\n",
      "         -0.0074, -0.0074, -0.0074, -0.0074, -0.0074, -0.0074, -0.0074, -0.0074,\n",
      "         -0.0074, -0.0074, -0.0074, -0.0074, -0.0074, -0.0074, -0.0074, -0.0074,\n",
      "         -0.0074, -0.0074, -0.0074, -0.0074, -0.0074, -0.0074, -0.0074, -0.0074,\n",
      "         -0.0074, -0.0074, -0.0074, -0.0074, -0.0074, -0.0074, -0.0074, -0.0074,\n",
      "         -0.0074, -0.0074, -0.0074, -0.0074, -0.0074, -0.0074, -0.0074, -0.0074,\n",
      "         -0.0074, -0.0074]], device='cuda:0', grad_fn=<SelectBackward0>)\n"
     ]
    },
    {
     "name": "stderr",
     "output_type": "stream",
     "text": [
      "0.00006276:   6%|▌         | 6/100 [07:49<1:50:31, 70.55s/it]"
     ]
    },
    {
     "name": "stdout",
     "output_type": "stream",
     "text": [
      "tensor([1., 1.], device='cuda:0') tensor([[-0.0026, -0.0026, -0.0026, -0.0026, -0.0026, -0.0026, -0.0026, -0.0026,\n",
      "         -0.0026, -0.0026, -0.0026, -0.0026, -0.0026, -0.0026, -0.0026, -0.0026,\n",
      "         -0.0026, -0.0026, -0.0026, -0.0026, -0.0026, -0.0026, -0.0026, -0.0026,\n",
      "         -0.0026, -0.0026, -0.0026, -0.0026, -0.0026, -0.0026, -0.0026, -0.0026,\n",
      "         -0.0026, -0.0026, -0.0026, -0.0026, -0.0026, -0.0026, -0.0026, -0.0026,\n",
      "         -0.0026, -0.0026, -0.0026, -0.0026, -0.0026, -0.0026, -0.0026, -0.0026,\n",
      "         -0.0026, -0.0026],\n",
      "        [-0.0068, -0.0068, -0.0068, -0.0068, -0.0068, -0.0068, -0.0068, -0.0068,\n",
      "         -0.0068, -0.0068, -0.0068, -0.0068, -0.0068, -0.0068, -0.0068, -0.0068,\n",
      "         -0.0068, -0.0068, -0.0068, -0.0068, -0.0068, -0.0068, -0.0068, -0.0068,\n",
      "         -0.0068, -0.0068, -0.0068, -0.0068, -0.0068, -0.0068, -0.0068, -0.0068,\n",
      "         -0.0068, -0.0068, -0.0068, -0.0068, -0.0068, -0.0068, -0.0068, -0.0068,\n",
      "         -0.0068, -0.0068, -0.0068, -0.0068, -0.0068, -0.0068, -0.0068, -0.0068,\n",
      "         -0.0068, -0.0068]], device='cuda:0', grad_fn=<SelectBackward0>)\n"
     ]
    },
    {
     "name": "stderr",
     "output_type": "stream",
     "text": [
      "0.00002683:   6%|▌         | 6/100 [07:50<1:50:31, 70.55s/it]"
     ]
    },
    {
     "name": "stdout",
     "output_type": "stream",
     "text": [
      "tensor([1., 1.], device='cuda:0') tensor([[ 0.0022,  0.0022,  0.0022,  0.0022,  0.0022,  0.0022,  0.0022,  0.0022,\n",
      "          0.0022,  0.0022,  0.0022,  0.0022,  0.0022,  0.0022,  0.0022,  0.0022,\n",
      "          0.0022,  0.0022,  0.0022,  0.0022,  0.0022,  0.0022,  0.0022,  0.0022,\n",
      "          0.0022,  0.0022,  0.0022,  0.0022,  0.0022,  0.0022,  0.0022,  0.0022,\n",
      "          0.0022,  0.0022,  0.0022,  0.0022,  0.0022,  0.0022,  0.0022,  0.0022,\n",
      "          0.0022,  0.0022,  0.0022,  0.0022,  0.0022,  0.0022,  0.0022,  0.0022,\n",
      "          0.0022,  0.0022],\n",
      "        [-0.0039, -0.0039, -0.0039, -0.0039, -0.0039, -0.0039, -0.0039, -0.0039,\n",
      "         -0.0039, -0.0039, -0.0039, -0.0039, -0.0039, -0.0039, -0.0039, -0.0039,\n",
      "         -0.0039, -0.0039, -0.0039, -0.0039, -0.0039, -0.0039, -0.0039, -0.0039,\n",
      "         -0.0039, -0.0039, -0.0039, -0.0039, -0.0039, -0.0039, -0.0039, -0.0039,\n",
      "         -0.0039, -0.0039, -0.0039, -0.0039, -0.0039, -0.0039, -0.0039, -0.0039,\n",
      "         -0.0039, -0.0039, -0.0039, -0.0039, -0.0039, -0.0039, -0.0039, -0.0039,\n",
      "         -0.0039, -0.0039]], device='cuda:0', grad_fn=<SelectBackward0>)\n"
     ]
    },
    {
     "name": "stderr",
     "output_type": "stream",
     "text": [
      "0.00001002:   6%|▌         | 6/100 [07:52<1:50:31, 70.55s/it]"
     ]
    },
    {
     "name": "stdout",
     "output_type": "stream",
     "text": [
      "tensor([1., 1.], device='cuda:0') tensor([[-0.0003, -0.0003, -0.0003, -0.0003, -0.0003, -0.0003, -0.0003, -0.0003,\n",
      "         -0.0003, -0.0003, -0.0003, -0.0003, -0.0003, -0.0003, -0.0003, -0.0003,\n",
      "         -0.0003, -0.0003, -0.0003, -0.0003, -0.0003, -0.0003, -0.0003, -0.0003,\n",
      "         -0.0003, -0.0003, -0.0003, -0.0003, -0.0003, -0.0003, -0.0003, -0.0003,\n",
      "         -0.0003, -0.0003, -0.0003, -0.0003, -0.0003, -0.0003, -0.0003, -0.0003,\n",
      "         -0.0003, -0.0003, -0.0003, -0.0003, -0.0003, -0.0003, -0.0003, -0.0003,\n",
      "         -0.0003, -0.0003],\n",
      "        [ 0.0063,  0.0063,  0.0063,  0.0063,  0.0063,  0.0063,  0.0063,  0.0063,\n",
      "          0.0063,  0.0063,  0.0063,  0.0063,  0.0063,  0.0063,  0.0063,  0.0063,\n",
      "          0.0063,  0.0063,  0.0063,  0.0063,  0.0063,  0.0063,  0.0063,  0.0063,\n",
      "          0.0063,  0.0063,  0.0063,  0.0063,  0.0063,  0.0063,  0.0063,  0.0063,\n",
      "          0.0063,  0.0063,  0.0063,  0.0063,  0.0063,  0.0063,  0.0063,  0.0063,\n",
      "          0.0063,  0.0063,  0.0063,  0.0063,  0.0063,  0.0063,  0.0063,  0.0063,\n",
      "          0.0063,  0.0063]], device='cuda:0', grad_fn=<SelectBackward0>)\n"
     ]
    },
    {
     "name": "stderr",
     "output_type": "stream",
     "text": [
      "0.00001961:   6%|▌         | 6/100 [07:53<1:50:31, 70.55s/it]"
     ]
    },
    {
     "name": "stdout",
     "output_type": "stream",
     "text": [
      "tensor([1., 1.], device='cuda:0') tensor([[0.0029, 0.0029, 0.0029, 0.0029, 0.0029, 0.0029, 0.0029, 0.0029, 0.0029,\n",
      "         0.0029, 0.0029, 0.0029, 0.0029, 0.0029, 0.0029, 0.0029, 0.0029, 0.0029,\n",
      "         0.0029, 0.0029, 0.0029, 0.0029, 0.0029, 0.0029, 0.0029, 0.0029, 0.0029,\n",
      "         0.0029, 0.0029, 0.0029, 0.0029, 0.0029, 0.0029, 0.0029, 0.0029, 0.0029,\n",
      "         0.0029, 0.0029, 0.0029, 0.0029, 0.0029, 0.0029, 0.0029, 0.0029, 0.0029,\n",
      "         0.0029, 0.0029, 0.0029, 0.0029, 0.0029],\n",
      "        [0.0087, 0.0087, 0.0087, 0.0087, 0.0087, 0.0087, 0.0087, 0.0087, 0.0087,\n",
      "         0.0087, 0.0087, 0.0087, 0.0087, 0.0087, 0.0087, 0.0087, 0.0087, 0.0087,\n",
      "         0.0087, 0.0087, 0.0087, 0.0087, 0.0087, 0.0087, 0.0087, 0.0087, 0.0087,\n",
      "         0.0087, 0.0087, 0.0087, 0.0087, 0.0087, 0.0087, 0.0087, 0.0087, 0.0087,\n",
      "         0.0087, 0.0087, 0.0087, 0.0087, 0.0087, 0.0087, 0.0087, 0.0087, 0.0087,\n",
      "         0.0087, 0.0087, 0.0087, 0.0087, 0.0087]], device='cuda:0',\n",
      "       grad_fn=<SelectBackward0>)\n"
     ]
    },
    {
     "name": "stderr",
     "output_type": "stream",
     "text": [
      "0.00004209:   6%|▌         | 6/100 [07:55<1:50:31, 70.55s/it]"
     ]
    },
    {
     "name": "stdout",
     "output_type": "stream",
     "text": [
      "tensor([1., 1.], device='cuda:0') tensor([[0.0093, 0.0093, 0.0093, 0.0093, 0.0093, 0.0093, 0.0093, 0.0093, 0.0093,\n",
      "         0.0093, 0.0093, 0.0093, 0.0093, 0.0093, 0.0093, 0.0093, 0.0093, 0.0093,\n",
      "         0.0093, 0.0093, 0.0093, 0.0093, 0.0093, 0.0093, 0.0093, 0.0093, 0.0093,\n",
      "         0.0093, 0.0093, 0.0093, 0.0093, 0.0093, 0.0093, 0.0093, 0.0093, 0.0093,\n",
      "         0.0093, 0.0093, 0.0093, 0.0093, 0.0093, 0.0093, 0.0093, 0.0093, 0.0093,\n",
      "         0.0093, 0.0093, 0.0093, 0.0093, 0.0093],\n",
      "        [0.0051, 0.0051, 0.0051, 0.0051, 0.0051, 0.0051, 0.0051, 0.0051, 0.0051,\n",
      "         0.0051, 0.0051, 0.0051, 0.0051, 0.0051, 0.0051, 0.0051, 0.0051, 0.0051,\n",
      "         0.0051, 0.0051, 0.0051, 0.0051, 0.0051, 0.0051, 0.0051, 0.0051, 0.0051,\n",
      "         0.0051, 0.0051, 0.0051, 0.0051, 0.0051, 0.0051, 0.0051, 0.0051, 0.0051,\n",
      "         0.0051, 0.0051, 0.0051, 0.0051, 0.0051, 0.0051, 0.0051, 0.0051, 0.0051,\n",
      "         0.0051, 0.0051, 0.0051, 0.0051, 0.0051]], device='cuda:0',\n",
      "       grad_fn=<SelectBackward0>)\n"
     ]
    },
    {
     "name": "stderr",
     "output_type": "stream",
     "text": [
      "0.00005590:   6%|▌         | 6/100 [07:57<1:50:31, 70.55s/it]"
     ]
    },
    {
     "name": "stdout",
     "output_type": "stream",
     "text": [
      "tensor([1., 1.], device='cuda:0') tensor([[0.0058, 0.0058, 0.0058, 0.0058, 0.0058, 0.0058, 0.0058, 0.0058, 0.0058,\n",
      "         0.0058, 0.0058, 0.0058, 0.0058, 0.0058, 0.0058, 0.0058, 0.0058, 0.0058,\n",
      "         0.0058, 0.0058, 0.0058, 0.0058, 0.0058, 0.0058, 0.0058, 0.0058, 0.0058,\n",
      "         0.0058, 0.0058, 0.0058, 0.0058, 0.0058, 0.0058, 0.0058, 0.0058, 0.0058,\n",
      "         0.0058, 0.0058, 0.0058, 0.0058, 0.0058, 0.0058, 0.0058, 0.0058, 0.0058,\n",
      "         0.0058, 0.0058, 0.0058, 0.0058, 0.0058],\n",
      "        [0.0080, 0.0080, 0.0080, 0.0080, 0.0080, 0.0080, 0.0080, 0.0080, 0.0080,\n",
      "         0.0080, 0.0080, 0.0080, 0.0080, 0.0080, 0.0080, 0.0080, 0.0080, 0.0080,\n",
      "         0.0080, 0.0080, 0.0080, 0.0080, 0.0080, 0.0080, 0.0080, 0.0080, 0.0080,\n",
      "         0.0080, 0.0080, 0.0080, 0.0080, 0.0080, 0.0080, 0.0080, 0.0080, 0.0080,\n",
      "         0.0080, 0.0080, 0.0080, 0.0080, 0.0080, 0.0080, 0.0080, 0.0080, 0.0080,\n",
      "         0.0080, 0.0080, 0.0080, 0.0080, 0.0080]], device='cuda:0',\n",
      "       grad_fn=<SelectBackward0>)\n"
     ]
    },
    {
     "name": "stderr",
     "output_type": "stream",
     "text": [
      "0.00004905:   6%|▌         | 6/100 [07:58<1:50:31, 70.55s/it]"
     ]
    },
    {
     "name": "stdout",
     "output_type": "stream",
     "text": [
      "tensor([1., 1.], device='cuda:0') tensor([[0.0054, 0.0054, 0.0054, 0.0054, 0.0054, 0.0054, 0.0054, 0.0054, 0.0054,\n",
      "         0.0054, 0.0054, 0.0054, 0.0054, 0.0054, 0.0054, 0.0054, 0.0054, 0.0054,\n",
      "         0.0054, 0.0054, 0.0054, 0.0054, 0.0054, 0.0054, 0.0054, 0.0054, 0.0054,\n",
      "         0.0054, 0.0054, 0.0054, 0.0054, 0.0054, 0.0054, 0.0054, 0.0054, 0.0054,\n",
      "         0.0054, 0.0054, 0.0054, 0.0054, 0.0054, 0.0054, 0.0054, 0.0054, 0.0054,\n",
      "         0.0054, 0.0054, 0.0054, 0.0054, 0.0054],\n",
      "        [0.0051, 0.0051, 0.0051, 0.0051, 0.0051, 0.0051, 0.0051, 0.0051, 0.0051,\n",
      "         0.0051, 0.0051, 0.0051, 0.0051, 0.0051, 0.0051, 0.0051, 0.0051, 0.0051,\n",
      "         0.0051, 0.0051, 0.0051, 0.0051, 0.0051, 0.0051, 0.0051, 0.0051, 0.0051,\n",
      "         0.0051, 0.0051, 0.0051, 0.0051, 0.0051, 0.0051, 0.0051, 0.0051, 0.0051,\n",
      "         0.0051, 0.0051, 0.0051, 0.0051, 0.0051, 0.0051, 0.0051, 0.0051, 0.0051,\n",
      "         0.0051, 0.0051, 0.0051, 0.0051, 0.0051]], device='cuda:0',\n",
      "       grad_fn=<SelectBackward0>)\n"
     ]
    },
    {
     "name": "stderr",
     "output_type": "stream",
     "text": [
      "0.00002721:   6%|▌         | 6/100 [08:00<1:50:31, 70.55s/it]"
     ]
    },
    {
     "name": "stdout",
     "output_type": "stream",
     "text": [
      "tensor([1., 1.], device='cuda:0') tensor([[0.0019, 0.0019, 0.0019, 0.0019, 0.0019, 0.0019, 0.0019, 0.0019, 0.0019,\n",
      "         0.0019, 0.0019, 0.0019, 0.0019, 0.0019, 0.0019, 0.0019, 0.0019, 0.0019,\n",
      "         0.0019, 0.0019, 0.0019, 0.0019, 0.0019, 0.0019, 0.0019, 0.0019, 0.0019,\n",
      "         0.0019, 0.0019, 0.0019, 0.0019, 0.0019, 0.0019, 0.0019, 0.0019, 0.0019,\n",
      "         0.0019, 0.0019, 0.0019, 0.0019, 0.0019, 0.0019, 0.0019, 0.0019, 0.0019,\n",
      "         0.0019, 0.0019, 0.0019, 0.0019, 0.0019],\n",
      "        [0.0032, 0.0032, 0.0032, 0.0032, 0.0032, 0.0032, 0.0032, 0.0032, 0.0032,\n",
      "         0.0032, 0.0032, 0.0032, 0.0032, 0.0032, 0.0032, 0.0032, 0.0032, 0.0032,\n",
      "         0.0032, 0.0032, 0.0032, 0.0032, 0.0032, 0.0032, 0.0032, 0.0032, 0.0032,\n",
      "         0.0032, 0.0032, 0.0032, 0.0032, 0.0032, 0.0032, 0.0032, 0.0032, 0.0032,\n",
      "         0.0032, 0.0032, 0.0032, 0.0032, 0.0032, 0.0032, 0.0032, 0.0032, 0.0032,\n",
      "         0.0032, 0.0032, 0.0032, 0.0032, 0.0032]], device='cuda:0',\n",
      "       grad_fn=<SelectBackward0>)\n"
     ]
    },
    {
     "name": "stderr",
     "output_type": "stream",
     "text": [
      "0.00000696:   6%|▌         | 6/100 [08:01<1:50:31, 70.55s/it]"
     ]
    },
    {
     "name": "stdout",
     "output_type": "stream",
     "text": [
      "tensor([1., 1.], device='cuda:0') tensor([[ 0.0008,  0.0008,  0.0008,  0.0008,  0.0008,  0.0008,  0.0008,  0.0008,\n",
      "          0.0008,  0.0008,  0.0008,  0.0008,  0.0008,  0.0008,  0.0008,  0.0008,\n",
      "          0.0008,  0.0008,  0.0008,  0.0008,  0.0008,  0.0008,  0.0008,  0.0008,\n",
      "          0.0008,  0.0008,  0.0008,  0.0008,  0.0008,  0.0008,  0.0008,  0.0008,\n",
      "          0.0008,  0.0008,  0.0008,  0.0008,  0.0008,  0.0008,  0.0008,  0.0008,\n",
      "          0.0008,  0.0008,  0.0008,  0.0008,  0.0008,  0.0008,  0.0008,  0.0008,\n",
      "          0.0008,  0.0008],\n",
      "        [-0.0016, -0.0016, -0.0016, -0.0016, -0.0016, -0.0016, -0.0016, -0.0016,\n",
      "         -0.0016, -0.0016, -0.0016, -0.0016, -0.0016, -0.0016, -0.0016, -0.0016,\n",
      "         -0.0016, -0.0016, -0.0016, -0.0016, -0.0016, -0.0016, -0.0016, -0.0016,\n",
      "         -0.0016, -0.0016, -0.0016, -0.0016, -0.0016, -0.0016, -0.0016, -0.0016,\n",
      "         -0.0016, -0.0016, -0.0016, -0.0016, -0.0016, -0.0016, -0.0016, -0.0016,\n",
      "         -0.0016, -0.0016, -0.0016, -0.0016, -0.0016, -0.0016, -0.0016, -0.0016,\n",
      "         -0.0016, -0.0016]], device='cuda:0', grad_fn=<SelectBackward0>)\n"
     ]
    },
    {
     "name": "stderr",
     "output_type": "stream",
     "text": [
      "0.00000152:   6%|▌         | 6/100 [08:03<1:50:31, 70.55s/it]"
     ]
    },
    {
     "name": "stdout",
     "output_type": "stream",
     "text": [
      "tensor([1., 1.], device='cuda:0') tensor([[-0.0016, -0.0016, -0.0016, -0.0016, -0.0016, -0.0016, -0.0016, -0.0016,\n",
      "         -0.0016, -0.0016, -0.0016, -0.0016, -0.0016, -0.0016, -0.0016, -0.0016,\n",
      "         -0.0016, -0.0016, -0.0016, -0.0016, -0.0016, -0.0016, -0.0016, -0.0016,\n",
      "         -0.0016, -0.0016, -0.0016, -0.0016, -0.0016, -0.0016, -0.0016, -0.0016,\n",
      "         -0.0016, -0.0016, -0.0016, -0.0016, -0.0016, -0.0016, -0.0016, -0.0016,\n",
      "         -0.0016, -0.0016, -0.0016, -0.0016, -0.0016, -0.0016, -0.0016, -0.0016,\n",
      "         -0.0016, -0.0016],\n",
      "        [-0.0044, -0.0044, -0.0044, -0.0044, -0.0044, -0.0044, -0.0044, -0.0044,\n",
      "         -0.0044, -0.0044, -0.0044, -0.0044, -0.0044, -0.0044, -0.0044, -0.0044,\n",
      "         -0.0044, -0.0044, -0.0044, -0.0044, -0.0044, -0.0044, -0.0044, -0.0044,\n",
      "         -0.0044, -0.0044, -0.0044, -0.0044, -0.0044, -0.0044, -0.0044, -0.0044,\n",
      "         -0.0044, -0.0044, -0.0044, -0.0044, -0.0044, -0.0044, -0.0044, -0.0044,\n",
      "         -0.0044, -0.0044, -0.0044, -0.0044, -0.0044, -0.0044, -0.0044, -0.0044,\n",
      "         -0.0044, -0.0044]], device='cuda:0', grad_fn=<SelectBackward0>)\n"
     ]
    },
    {
     "name": "stderr",
     "output_type": "stream",
     "text": [
      "0.00001105:   6%|▌         | 6/100 [08:05<1:50:31, 70.55s/it]"
     ]
    },
    {
     "name": "stdout",
     "output_type": "stream",
     "text": [
      "tensor([1., 1.], device='cuda:0') tensor([[-0.0033, -0.0033, -0.0033, -0.0033, -0.0033, -0.0033, -0.0033, -0.0033,\n",
      "         -0.0033, -0.0033, -0.0033, -0.0033, -0.0033, -0.0033, -0.0033, -0.0033,\n",
      "         -0.0033, -0.0033, -0.0033, -0.0033, -0.0033, -0.0033, -0.0033, -0.0033,\n",
      "         -0.0033, -0.0033, -0.0033, -0.0033, -0.0033, -0.0033, -0.0033, -0.0033,\n",
      "         -0.0033, -0.0033, -0.0033, -0.0033, -0.0033, -0.0033, -0.0033, -0.0033,\n",
      "         -0.0033, -0.0033, -0.0033, -0.0033, -0.0033, -0.0033, -0.0033, -0.0033,\n",
      "         -0.0033, -0.0033],\n",
      "        [-0.0062, -0.0062, -0.0062, -0.0062, -0.0062, -0.0062, -0.0062, -0.0062,\n",
      "         -0.0062, -0.0062, -0.0062, -0.0062, -0.0062, -0.0062, -0.0062, -0.0062,\n",
      "         -0.0062, -0.0062, -0.0062, -0.0062, -0.0062, -0.0062, -0.0062, -0.0062,\n",
      "         -0.0062, -0.0062, -0.0062, -0.0062, -0.0062, -0.0062, -0.0062, -0.0062,\n",
      "         -0.0062, -0.0062, -0.0062, -0.0062, -0.0062, -0.0062, -0.0062, -0.0062,\n",
      "         -0.0062, -0.0062, -0.0062, -0.0062, -0.0062, -0.0062, -0.0062, -0.0062,\n",
      "         -0.0062, -0.0062]], device='cuda:0', grad_fn=<SelectBackward0>)\n"
     ]
    },
    {
     "name": "stderr",
     "output_type": "stream",
     "text": [
      "0.00002445:   6%|▌         | 6/100 [08:07<1:50:31, 70.55s/it]"
     ]
    },
    {
     "name": "stdout",
     "output_type": "stream",
     "text": [
      "tensor([1., 1.], device='cuda:0') tensor([[-0.0041, -0.0041, -0.0041, -0.0041, -0.0041, -0.0041, -0.0041, -0.0041,\n",
      "         -0.0041, -0.0041, -0.0041, -0.0041, -0.0041, -0.0041, -0.0041, -0.0041,\n",
      "         -0.0041, -0.0041, -0.0041, -0.0041, -0.0041, -0.0041, -0.0041, -0.0041,\n",
      "         -0.0041, -0.0041, -0.0041, -0.0041, -0.0041, -0.0041, -0.0041, -0.0041,\n",
      "         -0.0041, -0.0041, -0.0041, -0.0041, -0.0041, -0.0041, -0.0041, -0.0041,\n",
      "         -0.0041, -0.0041, -0.0041, -0.0041, -0.0041, -0.0041, -0.0041, -0.0041,\n",
      "         -0.0041, -0.0041],\n",
      "        [-0.0065, -0.0065, -0.0065, -0.0065, -0.0065, -0.0065, -0.0065, -0.0065,\n",
      "         -0.0065, -0.0065, -0.0065, -0.0065, -0.0065, -0.0065, -0.0065, -0.0065,\n",
      "         -0.0065, -0.0065, -0.0065, -0.0065, -0.0065, -0.0065, -0.0065, -0.0065,\n",
      "         -0.0065, -0.0065, -0.0065, -0.0065, -0.0065, -0.0065, -0.0065, -0.0065,\n",
      "         -0.0065, -0.0065, -0.0065, -0.0065, -0.0065, -0.0065, -0.0065, -0.0065,\n",
      "         -0.0065, -0.0065, -0.0065, -0.0065, -0.0065, -0.0065, -0.0065, -0.0065,\n",
      "         -0.0065, -0.0065]], device='cuda:0', grad_fn=<SelectBackward0>)\n"
     ]
    },
    {
     "name": "stderr",
     "output_type": "stream",
     "text": [
      "0.00002959:   6%|▌         | 6/100 [08:08<1:50:31, 70.55s/it]"
     ]
    },
    {
     "name": "stdout",
     "output_type": "stream",
     "text": [
      "tensor([1., 1.], device='cuda:0') tensor([[-0.0056, -0.0056, -0.0056, -0.0056, -0.0056, -0.0056, -0.0056, -0.0056,\n",
      "         -0.0056, -0.0056, -0.0056, -0.0056, -0.0056, -0.0056, -0.0056, -0.0056,\n",
      "         -0.0056, -0.0056, -0.0056, -0.0056, -0.0056, -0.0056, -0.0056, -0.0056,\n",
      "         -0.0056, -0.0056, -0.0056, -0.0056, -0.0056, -0.0056, -0.0056, -0.0056,\n",
      "         -0.0056, -0.0056, -0.0056, -0.0056, -0.0056, -0.0056, -0.0056, -0.0056,\n",
      "         -0.0056, -0.0056, -0.0056, -0.0056, -0.0056, -0.0056, -0.0056, -0.0056,\n",
      "         -0.0056, -0.0056],\n",
      "        [-0.0037, -0.0037, -0.0037, -0.0037, -0.0037, -0.0037, -0.0037, -0.0037,\n",
      "         -0.0037, -0.0037, -0.0037, -0.0037, -0.0037, -0.0037, -0.0037, -0.0037,\n",
      "         -0.0037, -0.0037, -0.0037, -0.0037, -0.0037, -0.0037, -0.0037, -0.0037,\n",
      "         -0.0037, -0.0037, -0.0037, -0.0037, -0.0037, -0.0037, -0.0037, -0.0037,\n",
      "         -0.0037, -0.0037, -0.0037, -0.0037, -0.0037, -0.0037, -0.0037, -0.0037,\n",
      "         -0.0037, -0.0037, -0.0037, -0.0037, -0.0037, -0.0037, -0.0037, -0.0037,\n",
      "         -0.0037, -0.0037]], device='cuda:0', grad_fn=<SelectBackward0>)\n"
     ]
    },
    {
     "name": "stderr",
     "output_type": "stream",
     "text": [
      "0.00002277:   6%|▌         | 6/100 [08:10<1:50:31, 70.55s/it]"
     ]
    },
    {
     "name": "stdout",
     "output_type": "stream",
     "text": [
      "tensor([1., 1.], device='cuda:0') tensor([[-0.0037, -0.0037, -0.0037, -0.0037, -0.0037, -0.0037, -0.0037, -0.0037,\n",
      "         -0.0037, -0.0037, -0.0037, -0.0037, -0.0037, -0.0037, -0.0037, -0.0037,\n",
      "         -0.0037, -0.0037, -0.0037, -0.0037, -0.0037, -0.0037, -0.0037, -0.0037,\n",
      "         -0.0037, -0.0037, -0.0037, -0.0037, -0.0037, -0.0037, -0.0037, -0.0037,\n",
      "         -0.0037, -0.0037, -0.0037, -0.0037, -0.0037, -0.0037, -0.0037, -0.0037,\n",
      "         -0.0037, -0.0037, -0.0037, -0.0037, -0.0037, -0.0037, -0.0037, -0.0037,\n",
      "         -0.0037, -0.0037],\n",
      "        [-0.0025, -0.0025, -0.0025, -0.0025, -0.0025, -0.0025, -0.0025, -0.0025,\n",
      "         -0.0025, -0.0025, -0.0025, -0.0025, -0.0025, -0.0025, -0.0025, -0.0025,\n",
      "         -0.0025, -0.0025, -0.0025, -0.0025, -0.0025, -0.0025, -0.0025, -0.0025,\n",
      "         -0.0025, -0.0025, -0.0025, -0.0025, -0.0025, -0.0025, -0.0025, -0.0025,\n",
      "         -0.0025, -0.0025, -0.0025, -0.0025, -0.0025, -0.0025, -0.0025, -0.0025,\n",
      "         -0.0025, -0.0025, -0.0025, -0.0025, -0.0025, -0.0025, -0.0025, -0.0025,\n",
      "         -0.0025, -0.0025]], device='cuda:0', grad_fn=<SelectBackward0>)\n"
     ]
    },
    {
     "name": "stderr",
     "output_type": "stream",
     "text": [
      "0.00001008:   6%|▌         | 6/100 [08:11<1:50:31, 70.55s/it]"
     ]
    },
    {
     "name": "stdout",
     "output_type": "stream",
     "text": [
      "tensor([1., 1.], device='cuda:0') tensor([[-0.0013, -0.0013, -0.0013, -0.0013, -0.0013, -0.0013, -0.0013, -0.0013,\n",
      "         -0.0013, -0.0013, -0.0013, -0.0013, -0.0013, -0.0013, -0.0013, -0.0013,\n",
      "         -0.0013, -0.0013, -0.0013, -0.0013, -0.0013, -0.0013, -0.0013, -0.0013,\n",
      "         -0.0013, -0.0013, -0.0013, -0.0013, -0.0013, -0.0013, -0.0013, -0.0013,\n",
      "         -0.0013, -0.0013, -0.0013, -0.0013, -0.0013, -0.0013, -0.0013, -0.0013,\n",
      "         -0.0013, -0.0013, -0.0013, -0.0013, -0.0013, -0.0013, -0.0013, -0.0013,\n",
      "         -0.0013, -0.0013],\n",
      "        [-0.0008, -0.0008, -0.0008, -0.0008, -0.0008, -0.0008, -0.0008, -0.0008,\n",
      "         -0.0008, -0.0008, -0.0008, -0.0008, -0.0008, -0.0008, -0.0008, -0.0008,\n",
      "         -0.0008, -0.0008, -0.0008, -0.0008, -0.0008, -0.0008, -0.0008, -0.0008,\n",
      "         -0.0008, -0.0008, -0.0008, -0.0008, -0.0008, -0.0008, -0.0008, -0.0008,\n",
      "         -0.0008, -0.0008, -0.0008, -0.0008, -0.0008, -0.0008, -0.0008, -0.0008,\n",
      "         -0.0008, -0.0008, -0.0008, -0.0008, -0.0008, -0.0008, -0.0008, -0.0008,\n",
      "         -0.0008, -0.0008]], device='cuda:0', grad_fn=<SelectBackward0>)\n"
     ]
    },
    {
     "name": "stderr",
     "output_type": "stream",
     "text": [
      "0.00000114:   6%|▌         | 6/100 [08:13<1:50:31, 70.55s/it]"
     ]
    },
    {
     "name": "stdout",
     "output_type": "stream",
     "text": [
      "tensor([1., 1.], device='cuda:0') tensor([[0.0009, 0.0009, 0.0009, 0.0009, 0.0009, 0.0009, 0.0009, 0.0009, 0.0009,\n",
      "         0.0009, 0.0009, 0.0009, 0.0009, 0.0009, 0.0009, 0.0009, 0.0009, 0.0009,\n",
      "         0.0009, 0.0009, 0.0009, 0.0009, 0.0009, 0.0009, 0.0009, 0.0009, 0.0009,\n",
      "         0.0009, 0.0009, 0.0009, 0.0009, 0.0009, 0.0009, 0.0009, 0.0009, 0.0009,\n",
      "         0.0009, 0.0009, 0.0009, 0.0009, 0.0009, 0.0009, 0.0009, 0.0009, 0.0009,\n",
      "         0.0009, 0.0009, 0.0009, 0.0009, 0.0009],\n",
      "        [0.0012, 0.0012, 0.0012, 0.0012, 0.0012, 0.0012, 0.0012, 0.0012, 0.0012,\n",
      "         0.0012, 0.0012, 0.0012, 0.0012, 0.0012, 0.0012, 0.0012, 0.0012, 0.0012,\n",
      "         0.0012, 0.0012, 0.0012, 0.0012, 0.0012, 0.0012, 0.0012, 0.0012, 0.0012,\n",
      "         0.0012, 0.0012, 0.0012, 0.0012, 0.0012, 0.0012, 0.0012, 0.0012, 0.0012,\n",
      "         0.0012, 0.0012, 0.0012, 0.0012, 0.0012, 0.0012, 0.0012, 0.0012, 0.0012,\n",
      "         0.0012, 0.0012, 0.0012, 0.0012, 0.0012]], device='cuda:0',\n",
      "       grad_fn=<SelectBackward0>)\n"
     ]
    },
    {
     "name": "stderr",
     "output_type": "stream",
     "text": [
      "0.00000111:   7%|▋         | 7/100 [08:15<1:52:44, 72.74s/it]"
     ]
    },
    {
     "name": "stdout",
     "output_type": "stream",
     "text": [
      "tensor([1., 1.], device='cuda:0') tensor([[0.0032, 0.0032, 0.0032, 0.0032, 0.0032, 0.0032, 0.0032, 0.0032, 0.0032,\n",
      "         0.0032, 0.0032, 0.0032, 0.0032, 0.0032, 0.0032, 0.0032, 0.0032, 0.0032,\n",
      "         0.0032, 0.0032, 0.0032, 0.0032, 0.0032, 0.0032, 0.0032, 0.0032, 0.0032,\n",
      "         0.0032, 0.0032, 0.0032, 0.0032, 0.0032, 0.0032, 0.0032, 0.0032, 0.0032,\n",
      "         0.0032, 0.0032, 0.0032, 0.0032, 0.0032, 0.0032, 0.0032, 0.0032, 0.0032,\n",
      "         0.0032, 0.0032, 0.0032, 0.0032, 0.0032],\n",
      "        [0.0022, 0.0022, 0.0022, 0.0022, 0.0022, 0.0022, 0.0022, 0.0022, 0.0022,\n",
      "         0.0022, 0.0022, 0.0022, 0.0022, 0.0022, 0.0022, 0.0022, 0.0022, 0.0022,\n",
      "         0.0022, 0.0022, 0.0022, 0.0022, 0.0022, 0.0022, 0.0022, 0.0022, 0.0022,\n",
      "         0.0022, 0.0022, 0.0022, 0.0022, 0.0022, 0.0022, 0.0022, 0.0022, 0.0022,\n",
      "         0.0022, 0.0022, 0.0022, 0.0022, 0.0022, 0.0022, 0.0022, 0.0022, 0.0022,\n",
      "         0.0022, 0.0022, 0.0022, 0.0022, 0.0022]], device='cuda:0',\n",
      "       grad_fn=<SelectBackward0>)\n"
     ]
    },
    {
     "name": "stderr",
     "output_type": "stream",
     "text": [
      "0.00000753:   7%|▋         | 7/100 [08:16<1:52:44, 72.74s/it]"
     ]
    },
    {
     "name": "stdout",
     "output_type": "stream",
     "text": [
      "tensor([1., 1.], device='cuda:0') tensor([[0.0043, 0.0043, 0.0043, 0.0043, 0.0043, 0.0043, 0.0043, 0.0043, 0.0043,\n",
      "         0.0043, 0.0043, 0.0043, 0.0043, 0.0043, 0.0043, 0.0043, 0.0043, 0.0043,\n",
      "         0.0043, 0.0043, 0.0043, 0.0043, 0.0043, 0.0043, 0.0043, 0.0043, 0.0043,\n",
      "         0.0043, 0.0043, 0.0043, 0.0043, 0.0043, 0.0043, 0.0043, 0.0043, 0.0043,\n",
      "         0.0043, 0.0043, 0.0043, 0.0043, 0.0043, 0.0043, 0.0043, 0.0043, 0.0043,\n",
      "         0.0043, 0.0043, 0.0043, 0.0043, 0.0043],\n",
      "        [0.0029, 0.0029, 0.0029, 0.0029, 0.0029, 0.0029, 0.0029, 0.0029, 0.0029,\n",
      "         0.0029, 0.0029, 0.0029, 0.0029, 0.0029, 0.0029, 0.0029, 0.0029, 0.0029,\n",
      "         0.0029, 0.0029, 0.0029, 0.0029, 0.0029, 0.0029, 0.0029, 0.0029, 0.0029,\n",
      "         0.0029, 0.0029, 0.0029, 0.0029, 0.0029, 0.0029, 0.0029, 0.0029, 0.0029,\n",
      "         0.0029, 0.0029, 0.0029, 0.0029, 0.0029, 0.0029, 0.0029, 0.0029, 0.0029,\n",
      "         0.0029, 0.0029, 0.0029, 0.0029, 0.0029]], device='cuda:0',\n",
      "       grad_fn=<SelectBackward0>)\n"
     ]
    },
    {
     "name": "stderr",
     "output_type": "stream",
     "text": [
      "0.00001360:   7%|▋         | 7/100 [08:18<1:52:44, 72.74s/it]"
     ]
    },
    {
     "name": "stdout",
     "output_type": "stream",
     "text": [
      "tensor([1., 1.], device='cuda:0') tensor([[0.0028, 0.0028, 0.0028, 0.0028, 0.0028, 0.0028, 0.0028, 0.0028, 0.0028,\n",
      "         0.0028, 0.0028, 0.0028, 0.0028, 0.0028, 0.0028, 0.0028, 0.0028, 0.0028,\n",
      "         0.0028, 0.0028, 0.0028, 0.0028, 0.0028, 0.0028, 0.0028, 0.0028, 0.0028,\n",
      "         0.0028, 0.0028, 0.0028, 0.0028, 0.0028, 0.0028, 0.0028, 0.0028, 0.0028,\n",
      "         0.0028, 0.0028, 0.0028, 0.0028, 0.0028, 0.0028, 0.0028, 0.0028, 0.0028,\n",
      "         0.0028, 0.0028, 0.0028, 0.0028, 0.0028],\n",
      "        [0.0045, 0.0045, 0.0045, 0.0045, 0.0045, 0.0045, 0.0045, 0.0045, 0.0045,\n",
      "         0.0045, 0.0045, 0.0045, 0.0045, 0.0045, 0.0045, 0.0045, 0.0045, 0.0045,\n",
      "         0.0045, 0.0045, 0.0045, 0.0045, 0.0045, 0.0045, 0.0045, 0.0045, 0.0045,\n",
      "         0.0045, 0.0045, 0.0045, 0.0045, 0.0045, 0.0045, 0.0045, 0.0045, 0.0045,\n",
      "         0.0045, 0.0045, 0.0045, 0.0045, 0.0045, 0.0045, 0.0045, 0.0045, 0.0045,\n",
      "         0.0045, 0.0045, 0.0045, 0.0045, 0.0045]], device='cuda:0',\n",
      "       grad_fn=<SelectBackward0>)\n"
     ]
    },
    {
     "name": "stderr",
     "output_type": "stream",
     "text": [
      "0.00001417:   7%|▋         | 7/100 [08:19<1:52:44, 72.74s/it]"
     ]
    },
    {
     "name": "stdout",
     "output_type": "stream",
     "text": [
      "tensor([1., 1.], device='cuda:0') tensor([[0.0020, 0.0020, 0.0020, 0.0020, 0.0020, 0.0020, 0.0020, 0.0020, 0.0020,\n",
      "         0.0020, 0.0020, 0.0020, 0.0020, 0.0020, 0.0020, 0.0020, 0.0020, 0.0020,\n",
      "         0.0020, 0.0020, 0.0020, 0.0020, 0.0020, 0.0020, 0.0020, 0.0020, 0.0020,\n",
      "         0.0020, 0.0020, 0.0020, 0.0020, 0.0020, 0.0020, 0.0020, 0.0020, 0.0020,\n",
      "         0.0020, 0.0020, 0.0020, 0.0020, 0.0020, 0.0020, 0.0020, 0.0020, 0.0020,\n",
      "         0.0020, 0.0020, 0.0020, 0.0020, 0.0020],\n",
      "        [0.0038, 0.0038, 0.0038, 0.0038, 0.0038, 0.0038, 0.0038, 0.0038, 0.0038,\n",
      "         0.0038, 0.0038, 0.0038, 0.0038, 0.0038, 0.0038, 0.0038, 0.0038, 0.0038,\n",
      "         0.0038, 0.0038, 0.0038, 0.0038, 0.0038, 0.0038, 0.0038, 0.0038, 0.0038,\n",
      "         0.0038, 0.0038, 0.0038, 0.0038, 0.0038, 0.0038, 0.0038, 0.0038, 0.0038,\n",
      "         0.0038, 0.0038, 0.0038, 0.0038, 0.0038, 0.0038, 0.0038, 0.0038, 0.0038,\n",
      "         0.0038, 0.0038, 0.0038, 0.0038, 0.0038]], device='cuda:0',\n",
      "       grad_fn=<SelectBackward0>)\n"
     ]
    },
    {
     "name": "stderr",
     "output_type": "stream",
     "text": [
      "0.00000934:   7%|▋         | 7/100 [08:21<1:52:44, 72.74s/it]"
     ]
    },
    {
     "name": "stdout",
     "output_type": "stream",
     "text": [
      "tensor([1., 1.], device='cuda:0') tensor([[0.0025, 0.0025, 0.0025, 0.0025, 0.0025, 0.0025, 0.0025, 0.0025, 0.0025,\n",
      "         0.0025, 0.0025, 0.0025, 0.0025, 0.0025, 0.0025, 0.0025, 0.0025, 0.0025,\n",
      "         0.0025, 0.0025, 0.0025, 0.0025, 0.0025, 0.0025, 0.0025, 0.0025, 0.0025,\n",
      "         0.0025, 0.0025, 0.0025, 0.0025, 0.0025, 0.0025, 0.0025, 0.0025, 0.0025,\n",
      "         0.0025, 0.0025, 0.0025, 0.0025, 0.0025, 0.0025, 0.0025, 0.0025, 0.0025,\n",
      "         0.0025, 0.0025, 0.0025, 0.0025, 0.0025],\n",
      "        [0.0008, 0.0008, 0.0008, 0.0008, 0.0008, 0.0008, 0.0008, 0.0008, 0.0008,\n",
      "         0.0008, 0.0008, 0.0008, 0.0008, 0.0008, 0.0008, 0.0008, 0.0008, 0.0008,\n",
      "         0.0008, 0.0008, 0.0008, 0.0008, 0.0008, 0.0008, 0.0008, 0.0008, 0.0008,\n",
      "         0.0008, 0.0008, 0.0008, 0.0008, 0.0008, 0.0008, 0.0008, 0.0008, 0.0008,\n",
      "         0.0008, 0.0008, 0.0008, 0.0008, 0.0008, 0.0008, 0.0008, 0.0008, 0.0008,\n",
      "         0.0008, 0.0008, 0.0008, 0.0008, 0.0008]], device='cuda:0',\n",
      "       grad_fn=<SelectBackward0>)\n"
     ]
    },
    {
     "name": "stderr",
     "output_type": "stream",
     "text": [
      "0.00000332:   7%|▋         | 7/100 [08:23<1:52:44, 72.74s/it]"
     ]
    },
    {
     "name": "stdout",
     "output_type": "stream",
     "text": [
      "tensor([1., 1.], device='cuda:0') tensor([[-0.0005, -0.0005, -0.0005, -0.0005, -0.0005, -0.0005, -0.0005, -0.0005,\n",
      "         -0.0005, -0.0005, -0.0005, -0.0005, -0.0005, -0.0005, -0.0005, -0.0005,\n",
      "         -0.0005, -0.0005, -0.0005, -0.0005, -0.0005, -0.0005, -0.0005, -0.0005,\n",
      "         -0.0005, -0.0005, -0.0005, -0.0005, -0.0005, -0.0005, -0.0005, -0.0005,\n",
      "         -0.0005, -0.0005, -0.0005, -0.0005, -0.0005, -0.0005, -0.0005, -0.0005,\n",
      "         -0.0005, -0.0005, -0.0005, -0.0005, -0.0005, -0.0005, -0.0005, -0.0005,\n",
      "         -0.0005, -0.0005],\n",
      "        [ 0.0007,  0.0007,  0.0007,  0.0007,  0.0007,  0.0007,  0.0007,  0.0007,\n",
      "          0.0007,  0.0007,  0.0007,  0.0007,  0.0007,  0.0007,  0.0007,  0.0007,\n",
      "          0.0007,  0.0007,  0.0007,  0.0007,  0.0007,  0.0007,  0.0007,  0.0007,\n",
      "          0.0007,  0.0007,  0.0007,  0.0007,  0.0007,  0.0007,  0.0007,  0.0007,\n",
      "          0.0007,  0.0007,  0.0007,  0.0007,  0.0007,  0.0007,  0.0007,  0.0007,\n",
      "          0.0007,  0.0007,  0.0007,  0.0007,  0.0007,  0.0007,  0.0007,  0.0007,\n",
      "          0.0007,  0.0007]], device='cuda:0', grad_fn=<SelectBackward0>)\n"
     ]
    },
    {
     "name": "stderr",
     "output_type": "stream",
     "text": [
      "0.00000041:   7%|▋         | 7/100 [08:24<1:52:44, 72.74s/it]"
     ]
    },
    {
     "name": "stdout",
     "output_type": "stream",
     "text": [
      "tensor([1., 1.], device='cuda:0') tensor([[-0.0016, -0.0016, -0.0016, -0.0016, -0.0016, -0.0016, -0.0016, -0.0016,\n",
      "         -0.0016, -0.0016, -0.0016, -0.0016, -0.0016, -0.0016, -0.0016, -0.0016,\n",
      "         -0.0016, -0.0016, -0.0016, -0.0016, -0.0016, -0.0016, -0.0016, -0.0016,\n",
      "         -0.0016, -0.0016, -0.0016, -0.0016, -0.0016, -0.0016, -0.0016, -0.0016,\n",
      "         -0.0016, -0.0016, -0.0016, -0.0016, -0.0016, -0.0016, -0.0016, -0.0016,\n",
      "         -0.0016, -0.0016, -0.0016, -0.0016, -0.0016, -0.0016, -0.0016, -0.0016,\n",
      "         -0.0016, -0.0016],\n",
      "        [-0.0009, -0.0009, -0.0009, -0.0009, -0.0009, -0.0009, -0.0009, -0.0009,\n",
      "         -0.0009, -0.0009, -0.0009, -0.0009, -0.0009, -0.0009, -0.0009, -0.0009,\n",
      "         -0.0009, -0.0009, -0.0009, -0.0009, -0.0009, -0.0009, -0.0009, -0.0009,\n",
      "         -0.0009, -0.0009, -0.0009, -0.0009, -0.0009, -0.0009, -0.0009, -0.0009,\n",
      "         -0.0009, -0.0009, -0.0009, -0.0009, -0.0009, -0.0009, -0.0009, -0.0009,\n",
      "         -0.0009, -0.0009, -0.0009, -0.0009, -0.0009, -0.0009, -0.0009, -0.0009,\n",
      "         -0.0009, -0.0009]], device='cuda:0', grad_fn=<SelectBackward0>)\n"
     ]
    },
    {
     "name": "stderr",
     "output_type": "stream",
     "text": [
      "0.00000168:   7%|▋         | 7/100 [08:26<1:52:44, 72.74s/it]"
     ]
    },
    {
     "name": "stdout",
     "output_type": "stream",
     "text": [
      "tensor([1., 1.], device='cuda:0') tensor([[-0.0021, -0.0021, -0.0021, -0.0021, -0.0021, -0.0021, -0.0021, -0.0021,\n",
      "         -0.0021, -0.0021, -0.0021, -0.0021, -0.0021, -0.0021, -0.0021, -0.0021,\n",
      "         -0.0021, -0.0021, -0.0021, -0.0021, -0.0021, -0.0021, -0.0021, -0.0021,\n",
      "         -0.0021, -0.0021, -0.0021, -0.0021, -0.0021, -0.0021, -0.0021, -0.0021,\n",
      "         -0.0021, -0.0021, -0.0021, -0.0021, -0.0021, -0.0021, -0.0021, -0.0021,\n",
      "         -0.0021, -0.0021, -0.0021, -0.0021, -0.0021, -0.0021, -0.0021, -0.0021,\n",
      "         -0.0021, -0.0021],\n",
      "        [-0.0023, -0.0023, -0.0023, -0.0023, -0.0023, -0.0023, -0.0023, -0.0023,\n",
      "         -0.0023, -0.0023, -0.0023, -0.0023, -0.0023, -0.0023, -0.0023, -0.0023,\n",
      "         -0.0023, -0.0023, -0.0023, -0.0023, -0.0023, -0.0023, -0.0023, -0.0023,\n",
      "         -0.0023, -0.0023, -0.0023, -0.0023, -0.0023, -0.0023, -0.0023, -0.0023,\n",
      "         -0.0023, -0.0023, -0.0023, -0.0023, -0.0023, -0.0023, -0.0023, -0.0023,\n",
      "         -0.0023, -0.0023, -0.0023, -0.0023, -0.0023, -0.0023, -0.0023, -0.0023,\n",
      "         -0.0023, -0.0023]], device='cuda:0', grad_fn=<SelectBackward0>)\n"
     ]
    },
    {
     "name": "stderr",
     "output_type": "stream",
     "text": [
      "0.00000488:   7%|▋         | 7/100 [08:27<1:52:44, 72.74s/it]"
     ]
    },
    {
     "name": "stdout",
     "output_type": "stream",
     "text": [
      "tensor([1., 1.], device='cuda:0') tensor([[-0.0030, -0.0030, -0.0030, -0.0030, -0.0030, -0.0030, -0.0030, -0.0030,\n",
      "         -0.0030, -0.0030, -0.0030, -0.0030, -0.0030, -0.0030, -0.0030, -0.0030,\n",
      "         -0.0030, -0.0030, -0.0030, -0.0030, -0.0030, -0.0030, -0.0030, -0.0030,\n",
      "         -0.0030, -0.0030, -0.0030, -0.0030, -0.0030, -0.0030, -0.0030, -0.0030,\n",
      "         -0.0030, -0.0030, -0.0030, -0.0030, -0.0030, -0.0030, -0.0030, -0.0030,\n",
      "         -0.0030, -0.0030, -0.0030, -0.0030, -0.0030, -0.0030, -0.0030, -0.0030,\n",
      "         -0.0030, -0.0030],\n",
      "        [-0.0021, -0.0021, -0.0021, -0.0021, -0.0021, -0.0021, -0.0021, -0.0021,\n",
      "         -0.0021, -0.0021, -0.0021, -0.0021, -0.0021, -0.0021, -0.0021, -0.0021,\n",
      "         -0.0021, -0.0021, -0.0021, -0.0021, -0.0021, -0.0021, -0.0021, -0.0021,\n",
      "         -0.0021, -0.0021, -0.0021, -0.0021, -0.0021, -0.0021, -0.0021, -0.0021,\n",
      "         -0.0021, -0.0021, -0.0021, -0.0021, -0.0021, -0.0021, -0.0021, -0.0021,\n",
      "         -0.0021, -0.0021, -0.0021, -0.0021, -0.0021, -0.0021, -0.0021, -0.0021,\n",
      "         -0.0021, -0.0021]], device='cuda:0', grad_fn=<SelectBackward0>)\n"
     ]
    },
    {
     "name": "stderr",
     "output_type": "stream",
     "text": [
      "0.00000682:   7%|▋         | 7/100 [08:29<1:52:44, 72.74s/it]"
     ]
    },
    {
     "name": "stdout",
     "output_type": "stream",
     "text": [
      "tensor([1., 1.], device='cuda:0') tensor([[-0.0031, -0.0031, -0.0031, -0.0031, -0.0031, -0.0031, -0.0031, -0.0031,\n",
      "         -0.0031, -0.0031, -0.0031, -0.0031, -0.0031, -0.0031, -0.0031, -0.0031,\n",
      "         -0.0031, -0.0031, -0.0031, -0.0031, -0.0031, -0.0031, -0.0031, -0.0031,\n",
      "         -0.0031, -0.0031, -0.0031, -0.0031, -0.0031, -0.0031, -0.0031, -0.0031,\n",
      "         -0.0031, -0.0031, -0.0031, -0.0031, -0.0031, -0.0031, -0.0031, -0.0031,\n",
      "         -0.0031, -0.0031, -0.0031, -0.0031, -0.0031, -0.0031, -0.0031, -0.0031,\n",
      "         -0.0031, -0.0031],\n",
      "        [-0.0016, -0.0016, -0.0016, -0.0016, -0.0016, -0.0016, -0.0016, -0.0016,\n",
      "         -0.0016, -0.0016, -0.0016, -0.0016, -0.0016, -0.0016, -0.0016, -0.0016,\n",
      "         -0.0016, -0.0016, -0.0016, -0.0016, -0.0016, -0.0016, -0.0016, -0.0016,\n",
      "         -0.0016, -0.0016, -0.0016, -0.0016, -0.0016, -0.0016, -0.0016, -0.0016,\n",
      "         -0.0016, -0.0016, -0.0016, -0.0016, -0.0016, -0.0016, -0.0016, -0.0016,\n",
      "         -0.0016, -0.0016, -0.0016, -0.0016, -0.0016, -0.0016, -0.0016, -0.0016,\n",
      "         -0.0016, -0.0016]], device='cuda:0', grad_fn=<SelectBackward0>)\n"
     ]
    },
    {
     "name": "stderr",
     "output_type": "stream",
     "text": [
      "0.00000604:   7%|▋         | 7/100 [08:31<1:52:44, 72.74s/it]"
     ]
    },
    {
     "name": "stdout",
     "output_type": "stream",
     "text": [
      "tensor([1., 1.], device='cuda:0') tensor([[-0.0007, -0.0007, -0.0007, -0.0007, -0.0007, -0.0007, -0.0007, -0.0007,\n",
      "         -0.0007, -0.0007, -0.0007, -0.0007, -0.0007, -0.0007, -0.0007, -0.0007,\n",
      "         -0.0007, -0.0007, -0.0007, -0.0007, -0.0007, -0.0007, -0.0007, -0.0007,\n",
      "         -0.0007, -0.0007, -0.0007, -0.0007, -0.0007, -0.0007, -0.0007, -0.0007,\n",
      "         -0.0007, -0.0007, -0.0007, -0.0007, -0.0007, -0.0007, -0.0007, -0.0007,\n",
      "         -0.0007, -0.0007, -0.0007, -0.0007, -0.0007, -0.0007, -0.0007, -0.0007,\n",
      "         -0.0007, -0.0007],\n",
      "        [-0.0025, -0.0025, -0.0025, -0.0025, -0.0025, -0.0025, -0.0025, -0.0025,\n",
      "         -0.0025, -0.0025, -0.0025, -0.0025, -0.0025, -0.0025, -0.0025, -0.0025,\n",
      "         -0.0025, -0.0025, -0.0025, -0.0025, -0.0025, -0.0025, -0.0025, -0.0025,\n",
      "         -0.0025, -0.0025, -0.0025, -0.0025, -0.0025, -0.0025, -0.0025, -0.0025,\n",
      "         -0.0025, -0.0025, -0.0025, -0.0025, -0.0025, -0.0025, -0.0025, -0.0025,\n",
      "         -0.0025, -0.0025, -0.0025, -0.0025, -0.0025, -0.0025, -0.0025, -0.0025,\n",
      "         -0.0025, -0.0025]], device='cuda:0', grad_fn=<SelectBackward0>)\n"
     ]
    },
    {
     "name": "stderr",
     "output_type": "stream",
     "text": [
      "0.00000349:   7%|▋         | 7/100 [08:32<1:52:44, 72.74s/it]"
     ]
    },
    {
     "name": "stdout",
     "output_type": "stream",
     "text": [
      "tensor([1., 1.], device='cuda:0') tensor([[ 0.0003,  0.0003,  0.0003,  0.0003,  0.0003,  0.0003,  0.0003,  0.0003,\n",
      "          0.0003,  0.0003,  0.0003,  0.0003,  0.0003,  0.0003,  0.0003,  0.0003,\n",
      "          0.0003,  0.0003,  0.0003,  0.0003,  0.0003,  0.0003,  0.0003,  0.0003,\n",
      "          0.0003,  0.0003,  0.0003,  0.0003,  0.0003,  0.0003,  0.0003,  0.0003,\n",
      "          0.0003,  0.0003,  0.0003,  0.0003,  0.0003,  0.0003,  0.0003,  0.0003,\n",
      "          0.0003,  0.0003,  0.0003,  0.0003,  0.0003,  0.0003,  0.0003,  0.0003,\n",
      "          0.0003,  0.0003],\n",
      "        [-0.0016, -0.0016, -0.0016, -0.0016, -0.0016, -0.0016, -0.0016, -0.0016,\n",
      "         -0.0016, -0.0016, -0.0016, -0.0016, -0.0016, -0.0016, -0.0016, -0.0016,\n",
      "         -0.0016, -0.0016, -0.0016, -0.0016, -0.0016, -0.0016, -0.0016, -0.0016,\n",
      "         -0.0016, -0.0016, -0.0016, -0.0016, -0.0016, -0.0016, -0.0016, -0.0016,\n",
      "         -0.0016, -0.0016, -0.0016, -0.0016, -0.0016, -0.0016, -0.0016, -0.0016,\n",
      "         -0.0016, -0.0016, -0.0016, -0.0016, -0.0016, -0.0016, -0.0016, -0.0016,\n",
      "         -0.0016, -0.0016]], device='cuda:0', grad_fn=<SelectBackward0>)\n"
     ]
    },
    {
     "name": "stderr",
     "output_type": "stream",
     "text": [
      "0.00000125:   7%|▋         | 7/100 [08:34<1:52:44, 72.74s/it]"
     ]
    },
    {
     "name": "stdout",
     "output_type": "stream",
     "text": [
      "tensor([1., 1.], device='cuda:0') tensor([[-0.0004, -0.0004, -0.0004, -0.0004, -0.0004, -0.0004, -0.0004, -0.0004,\n",
      "         -0.0004, -0.0004, -0.0004, -0.0004, -0.0004, -0.0004, -0.0004, -0.0004,\n",
      "         -0.0004, -0.0004, -0.0004, -0.0004, -0.0004, -0.0004, -0.0004, -0.0004,\n",
      "         -0.0004, -0.0004, -0.0004, -0.0004, -0.0004, -0.0004, -0.0004, -0.0004,\n",
      "         -0.0004, -0.0004, -0.0004, -0.0004, -0.0004, -0.0004, -0.0004, -0.0004,\n",
      "         -0.0004, -0.0004, -0.0004, -0.0004, -0.0004, -0.0004, -0.0004, -0.0004,\n",
      "         -0.0004, -0.0004],\n",
      "        [ 0.0011,  0.0011,  0.0011,  0.0011,  0.0011,  0.0011,  0.0011,  0.0011,\n",
      "          0.0011,  0.0011,  0.0011,  0.0011,  0.0011,  0.0011,  0.0011,  0.0011,\n",
      "          0.0011,  0.0011,  0.0011,  0.0011,  0.0011,  0.0011,  0.0011,  0.0011,\n",
      "          0.0011,  0.0011,  0.0011,  0.0011,  0.0011,  0.0011,  0.0011,  0.0011,\n",
      "          0.0011,  0.0011,  0.0011,  0.0011,  0.0011,  0.0011,  0.0011,  0.0011,\n",
      "          0.0011,  0.0011,  0.0011,  0.0011,  0.0011,  0.0011,  0.0011,  0.0011,\n",
      "          0.0011,  0.0011]], device='cuda:0', grad_fn=<SelectBackward0>)\n"
     ]
    },
    {
     "name": "stderr",
     "output_type": "stream",
     "text": [
      "0.00000069:   7%|▋         | 7/100 [08:35<1:52:44, 72.74s/it]"
     ]
    },
    {
     "name": "stdout",
     "output_type": "stream",
     "text": [
      "tensor([1., 1.], device='cuda:0') tensor([[0.0008, 0.0008, 0.0008, 0.0008, 0.0008, 0.0008, 0.0008, 0.0008, 0.0008,\n",
      "         0.0008, 0.0008, 0.0008, 0.0008, 0.0008, 0.0008, 0.0008, 0.0008, 0.0008,\n",
      "         0.0008, 0.0008, 0.0008, 0.0008, 0.0008, 0.0008, 0.0008, 0.0008, 0.0008,\n",
      "         0.0008, 0.0008, 0.0008, 0.0008, 0.0008, 0.0008, 0.0008, 0.0008, 0.0008,\n",
      "         0.0008, 0.0008, 0.0008, 0.0008, 0.0008, 0.0008, 0.0008, 0.0008, 0.0008,\n",
      "         0.0008, 0.0008, 0.0008, 0.0008, 0.0008],\n",
      "        [0.0016, 0.0016, 0.0016, 0.0016, 0.0016, 0.0016, 0.0016, 0.0016, 0.0016,\n",
      "         0.0016, 0.0016, 0.0016, 0.0016, 0.0016, 0.0016, 0.0016, 0.0016, 0.0016,\n",
      "         0.0016, 0.0016, 0.0016, 0.0016, 0.0016, 0.0016, 0.0016, 0.0016, 0.0016,\n",
      "         0.0016, 0.0016, 0.0016, 0.0016, 0.0016, 0.0016, 0.0016, 0.0016, 0.0016,\n",
      "         0.0016, 0.0016, 0.0016, 0.0016, 0.0016, 0.0016, 0.0016, 0.0016, 0.0016,\n",
      "         0.0016, 0.0016, 0.0016, 0.0016, 0.0016]], device='cuda:0',\n",
      "       grad_fn=<SelectBackward0>)\n"
     ]
    },
    {
     "name": "stderr",
     "output_type": "stream",
     "text": [
      "0.00000158:   7%|▋         | 7/100 [08:37<1:52:44, 72.74s/it]"
     ]
    },
    {
     "name": "stdout",
     "output_type": "stream",
     "text": [
      "tensor([1., 1.], device='cuda:0') tensor([[0.0016, 0.0016, 0.0016, 0.0016, 0.0016, 0.0016, 0.0016, 0.0016, 0.0016,\n",
      "         0.0016, 0.0016, 0.0016, 0.0016, 0.0016, 0.0016, 0.0016, 0.0016, 0.0016,\n",
      "         0.0016, 0.0016, 0.0016, 0.0016, 0.0016, 0.0016, 0.0016, 0.0016, 0.0016,\n",
      "         0.0016, 0.0016, 0.0016, 0.0016, 0.0016, 0.0016, 0.0016, 0.0016, 0.0016,\n",
      "         0.0016, 0.0016, 0.0016, 0.0016, 0.0016, 0.0016, 0.0016, 0.0016, 0.0016,\n",
      "         0.0016, 0.0016, 0.0016, 0.0016, 0.0016],\n",
      "        [0.0017, 0.0017, 0.0017, 0.0017, 0.0017, 0.0017, 0.0017, 0.0017, 0.0017,\n",
      "         0.0017, 0.0017, 0.0017, 0.0017, 0.0017, 0.0017, 0.0017, 0.0017, 0.0017,\n",
      "         0.0017, 0.0017, 0.0017, 0.0017, 0.0017, 0.0017, 0.0017, 0.0017, 0.0017,\n",
      "         0.0017, 0.0017, 0.0017, 0.0017, 0.0017, 0.0017, 0.0017, 0.0017, 0.0017,\n",
      "         0.0017, 0.0017, 0.0017, 0.0017, 0.0017, 0.0017, 0.0017, 0.0017, 0.0017,\n",
      "         0.0017, 0.0017, 0.0017, 0.0017, 0.0017]], device='cuda:0',\n",
      "       grad_fn=<SelectBackward0>)\n"
     ]
    },
    {
     "name": "stderr",
     "output_type": "stream",
     "text": [
      "0.00000270:   7%|▋         | 7/100 [08:38<1:52:44, 72.74s/it]"
     ]
    },
    {
     "name": "stdout",
     "output_type": "stream",
     "text": [
      "tensor([1., 1.], device='cuda:0') tensor([[0.0013, 0.0013, 0.0013, 0.0013, 0.0013, 0.0013, 0.0013, 0.0013, 0.0013,\n",
      "         0.0013, 0.0013, 0.0013, 0.0013, 0.0013, 0.0013, 0.0013, 0.0013, 0.0013,\n",
      "         0.0013, 0.0013, 0.0013, 0.0013, 0.0013, 0.0013, 0.0013, 0.0013, 0.0013,\n",
      "         0.0013, 0.0013, 0.0013, 0.0013, 0.0013, 0.0013, 0.0013, 0.0013, 0.0013,\n",
      "         0.0013, 0.0013, 0.0013, 0.0013, 0.0013, 0.0013, 0.0013, 0.0013, 0.0013,\n",
      "         0.0013, 0.0013, 0.0013, 0.0013, 0.0013],\n",
      "        [0.0021, 0.0021, 0.0021, 0.0021, 0.0021, 0.0021, 0.0021, 0.0021, 0.0021,\n",
      "         0.0021, 0.0021, 0.0021, 0.0021, 0.0021, 0.0021, 0.0021, 0.0021, 0.0021,\n",
      "         0.0021, 0.0021, 0.0021, 0.0021, 0.0021, 0.0021, 0.0021, 0.0021, 0.0021,\n",
      "         0.0021, 0.0021, 0.0021, 0.0021, 0.0021, 0.0021, 0.0021, 0.0021, 0.0021,\n",
      "         0.0021, 0.0021, 0.0021, 0.0021, 0.0021, 0.0021, 0.0021, 0.0021, 0.0021,\n",
      "         0.0021, 0.0021, 0.0021, 0.0021, 0.0021]], device='cuda:0',\n",
      "       grad_fn=<SelectBackward0>)\n"
     ]
    },
    {
     "name": "stderr",
     "output_type": "stream",
     "text": [
      "0.00000299:   7%|▋         | 7/100 [08:40<1:52:44, 72.74s/it]"
     ]
    },
    {
     "name": "stdout",
     "output_type": "stream",
     "text": [
      "tensor([1., 1.], device='cuda:0') tensor([[0.0021, 0.0021, 0.0021, 0.0021, 0.0021, 0.0021, 0.0021, 0.0021, 0.0021,\n",
      "         0.0021, 0.0021, 0.0021, 0.0021, 0.0021, 0.0021, 0.0021, 0.0021, 0.0021,\n",
      "         0.0021, 0.0021, 0.0021, 0.0021, 0.0021, 0.0021, 0.0021, 0.0021, 0.0021,\n",
      "         0.0021, 0.0021, 0.0021, 0.0021, 0.0021, 0.0021, 0.0021, 0.0021, 0.0021,\n",
      "         0.0021, 0.0021, 0.0021, 0.0021, 0.0021, 0.0021, 0.0021, 0.0021, 0.0021,\n",
      "         0.0021, 0.0021, 0.0021, 0.0021, 0.0021],\n",
      "        [0.0006, 0.0006, 0.0006, 0.0006, 0.0006, 0.0006, 0.0006, 0.0006, 0.0006,\n",
      "         0.0006, 0.0006, 0.0006, 0.0006, 0.0006, 0.0006, 0.0006, 0.0006, 0.0006,\n",
      "         0.0006, 0.0006, 0.0006, 0.0006, 0.0006, 0.0006, 0.0006, 0.0006, 0.0006,\n",
      "         0.0006, 0.0006, 0.0006, 0.0006, 0.0006, 0.0006, 0.0006, 0.0006, 0.0006,\n",
      "         0.0006, 0.0006, 0.0006, 0.0006, 0.0006, 0.0006, 0.0006, 0.0006, 0.0006,\n",
      "         0.0006, 0.0006, 0.0006, 0.0006, 0.0006]], device='cuda:0',\n",
      "       grad_fn=<SelectBackward0>)\n"
     ]
    },
    {
     "name": "stderr",
     "output_type": "stream",
     "text": [
      "0.00000233:   7%|▋         | 7/100 [08:41<1:52:44, 72.74s/it]"
     ]
    },
    {
     "name": "stdout",
     "output_type": "stream",
     "text": [
      "tensor([1., 1.], device='cuda:0') tensor([[-0.0001, -0.0001, -0.0001, -0.0001, -0.0001, -0.0001, -0.0001, -0.0001,\n",
      "         -0.0001, -0.0001, -0.0001, -0.0001, -0.0001, -0.0001, -0.0001, -0.0001,\n",
      "         -0.0001, -0.0001, -0.0001, -0.0001, -0.0001, -0.0001, -0.0001, -0.0001,\n",
      "         -0.0001, -0.0001, -0.0001, -0.0001, -0.0001, -0.0001, -0.0001, -0.0001,\n",
      "         -0.0001, -0.0001, -0.0001, -0.0001, -0.0001, -0.0001, -0.0001, -0.0001,\n",
      "         -0.0001, -0.0001, -0.0001, -0.0001, -0.0001, -0.0001, -0.0001, -0.0001,\n",
      "         -0.0001, -0.0001],\n",
      "        [ 0.0016,  0.0016,  0.0016,  0.0016,  0.0016,  0.0016,  0.0016,  0.0016,\n",
      "          0.0016,  0.0016,  0.0016,  0.0016,  0.0016,  0.0016,  0.0016,  0.0016,\n",
      "          0.0016,  0.0016,  0.0016,  0.0016,  0.0016,  0.0016,  0.0016,  0.0016,\n",
      "          0.0016,  0.0016,  0.0016,  0.0016,  0.0016,  0.0016,  0.0016,  0.0016,\n",
      "          0.0016,  0.0016,  0.0016,  0.0016,  0.0016,  0.0016,  0.0016,  0.0016,\n",
      "          0.0016,  0.0016,  0.0016,  0.0016,  0.0016,  0.0016,  0.0016,  0.0016,\n",
      "          0.0016,  0.0016]], device='cuda:0', grad_fn=<SelectBackward0>)\n"
     ]
    },
    {
     "name": "stderr",
     "output_type": "stream",
     "text": [
      "0.00000136:   7%|▋         | 7/100 [08:43<1:52:44, 72.74s/it]"
     ]
    },
    {
     "name": "stdout",
     "output_type": "stream",
     "text": [
      "tensor([1., 1.], device='cuda:0') tensor([[-0.0008, -0.0008, -0.0008, -0.0008, -0.0008, -0.0008, -0.0008, -0.0008,\n",
      "         -0.0008, -0.0008, -0.0008, -0.0008, -0.0008, -0.0008, -0.0008, -0.0008,\n",
      "         -0.0008, -0.0008, -0.0008, -0.0008, -0.0008, -0.0008, -0.0008, -0.0008,\n",
      "         -0.0008, -0.0008, -0.0008, -0.0008, -0.0008, -0.0008, -0.0008, -0.0008,\n",
      "         -0.0008, -0.0008, -0.0008, -0.0008, -0.0008, -0.0008, -0.0008, -0.0008,\n",
      "         -0.0008, -0.0008, -0.0008, -0.0008, -0.0008, -0.0008, -0.0008, -0.0008,\n",
      "         -0.0008, -0.0008],\n",
      "        [ 0.0010,  0.0010,  0.0010,  0.0010,  0.0010,  0.0010,  0.0010,  0.0010,\n",
      "          0.0010,  0.0010,  0.0010,  0.0010,  0.0010,  0.0010,  0.0010,  0.0010,\n",
      "          0.0010,  0.0010,  0.0010,  0.0010,  0.0010,  0.0010,  0.0010,  0.0010,\n",
      "          0.0010,  0.0010,  0.0010,  0.0010,  0.0010,  0.0010,  0.0010,  0.0010,\n",
      "          0.0010,  0.0010,  0.0010,  0.0010,  0.0010,  0.0010,  0.0010,  0.0010,\n",
      "          0.0010,  0.0010,  0.0010,  0.0010,  0.0010,  0.0010,  0.0010,  0.0010,\n",
      "          0.0010,  0.0010]], device='cuda:0', grad_fn=<SelectBackward0>)\n"
     ]
    },
    {
     "name": "stderr",
     "output_type": "stream",
     "text": [
      "0.00000076:   7%|▋         | 7/100 [08:45<1:52:44, 72.74s/it]"
     ]
    },
    {
     "name": "stdout",
     "output_type": "stream",
     "text": [
      "tensor([1., 1.], device='cuda:0') tensor([[-0.0012, -0.0012, -0.0012, -0.0012, -0.0012, -0.0012, -0.0012, -0.0012,\n",
      "         -0.0012, -0.0012, -0.0012, -0.0012, -0.0012, -0.0012, -0.0012, -0.0012,\n",
      "         -0.0012, -0.0012, -0.0012, -0.0012, -0.0012, -0.0012, -0.0012, -0.0012,\n",
      "         -0.0012, -0.0012, -0.0012, -0.0012, -0.0012, -0.0012, -0.0012, -0.0012,\n",
      "         -0.0012, -0.0012, -0.0012, -0.0012, -0.0012, -0.0012, -0.0012, -0.0012,\n",
      "         -0.0012, -0.0012, -0.0012, -0.0012, -0.0012, -0.0012, -0.0012, -0.0012,\n",
      "         -0.0012, -0.0012],\n",
      "        [ 0.0001,  0.0001,  0.0001,  0.0001,  0.0001,  0.0001,  0.0001,  0.0001,\n",
      "          0.0001,  0.0001,  0.0001,  0.0001,  0.0001,  0.0001,  0.0001,  0.0001,\n",
      "          0.0001,  0.0001,  0.0001,  0.0001,  0.0001,  0.0001,  0.0001,  0.0001,\n",
      "          0.0001,  0.0001,  0.0001,  0.0001,  0.0001,  0.0001,  0.0001,  0.0001,\n",
      "          0.0001,  0.0001,  0.0001,  0.0001,  0.0001,  0.0001,  0.0001,  0.0001,\n",
      "          0.0001,  0.0001,  0.0001,  0.0001,  0.0001,  0.0001,  0.0001,  0.0001,\n",
      "          0.0001,  0.0001]], device='cuda:0', grad_fn=<SelectBackward0>)\n"
     ]
    },
    {
     "name": "stderr",
     "output_type": "stream",
     "text": [
      "0.00000074:   7%|▋         | 7/100 [08:46<1:52:44, 72.74s/it]"
     ]
    },
    {
     "name": "stdout",
     "output_type": "stream",
     "text": [
      "tensor([1., 1.], device='cuda:0') tensor([[-0.0013, -0.0013, -0.0013, -0.0013, -0.0013, -0.0013, -0.0013, -0.0013,\n",
      "         -0.0013, -0.0013, -0.0013, -0.0013, -0.0013, -0.0013, -0.0013, -0.0013,\n",
      "         -0.0013, -0.0013, -0.0013, -0.0013, -0.0013, -0.0013, -0.0013, -0.0013,\n",
      "         -0.0013, -0.0013, -0.0013, -0.0013, -0.0013, -0.0013, -0.0013, -0.0013,\n",
      "         -0.0013, -0.0013, -0.0013, -0.0013, -0.0013, -0.0013, -0.0013, -0.0013,\n",
      "         -0.0013, -0.0013, -0.0013, -0.0013, -0.0013, -0.0013, -0.0013, -0.0013,\n",
      "         -0.0013, -0.0013],\n",
      "        [-0.0006, -0.0006, -0.0006, -0.0006, -0.0006, -0.0006, -0.0006, -0.0006,\n",
      "         -0.0006, -0.0006, -0.0006, -0.0006, -0.0006, -0.0006, -0.0006, -0.0006,\n",
      "         -0.0006, -0.0006, -0.0006, -0.0006, -0.0006, -0.0006, -0.0006, -0.0006,\n",
      "         -0.0006, -0.0006, -0.0006, -0.0006, -0.0006, -0.0006, -0.0006, -0.0006,\n",
      "         -0.0006, -0.0006, -0.0006, -0.0006, -0.0006, -0.0006, -0.0006, -0.0006,\n",
      "         -0.0006, -0.0006, -0.0006, -0.0006, -0.0006, -0.0006, -0.0006, -0.0006,\n",
      "         -0.0006, -0.0006]], device='cuda:0', grad_fn=<SelectBackward0>)\n"
     ]
    },
    {
     "name": "stderr",
     "output_type": "stream",
     "text": [
      "0.00000103:   7%|▋         | 7/100 [08:48<1:52:44, 72.74s/it]"
     ]
    },
    {
     "name": "stdout",
     "output_type": "stream",
     "text": [
      "tensor([1., 1.], device='cuda:0') tensor([[-0.0011, -0.0011, -0.0011, -0.0011, -0.0011, -0.0011, -0.0011, -0.0011,\n",
      "         -0.0011, -0.0011, -0.0011, -0.0011, -0.0011, -0.0011, -0.0011, -0.0011,\n",
      "         -0.0011, -0.0011, -0.0011, -0.0011, -0.0011, -0.0011, -0.0011, -0.0011,\n",
      "         -0.0011, -0.0011, -0.0011, -0.0011, -0.0011, -0.0011, -0.0011, -0.0011,\n",
      "         -0.0011, -0.0011, -0.0011, -0.0011, -0.0011, -0.0011, -0.0011, -0.0011,\n",
      "         -0.0011, -0.0011, -0.0011, -0.0011, -0.0011, -0.0011, -0.0011, -0.0011,\n",
      "         -0.0011, -0.0011],\n",
      "        [-0.0011, -0.0011, -0.0011, -0.0011, -0.0011, -0.0011, -0.0011, -0.0011,\n",
      "         -0.0011, -0.0011, -0.0011, -0.0011, -0.0011, -0.0011, -0.0011, -0.0011,\n",
      "         -0.0011, -0.0011, -0.0011, -0.0011, -0.0011, -0.0011, -0.0011, -0.0011,\n",
      "         -0.0011, -0.0011, -0.0011, -0.0011, -0.0011, -0.0011, -0.0011, -0.0011,\n",
      "         -0.0011, -0.0011, -0.0011, -0.0011, -0.0011, -0.0011, -0.0011, -0.0011,\n",
      "         -0.0011, -0.0011, -0.0011, -0.0011, -0.0011, -0.0011, -0.0011, -0.0011,\n",
      "         -0.0011, -0.0011]], device='cuda:0', grad_fn=<SelectBackward0>)\n"
     ]
    },
    {
     "name": "stderr",
     "output_type": "stream",
     "text": [
      "0.00000122:   7%|▋         | 7/100 [08:49<1:52:44, 72.74s/it]"
     ]
    },
    {
     "name": "stdout",
     "output_type": "stream",
     "text": [
      "tensor([1., 1.], device='cuda:0') tensor([[-0.0006, -0.0006, -0.0006, -0.0006, -0.0006, -0.0006, -0.0006, -0.0006,\n",
      "         -0.0006, -0.0006, -0.0006, -0.0006, -0.0006, -0.0006, -0.0006, -0.0006,\n",
      "         -0.0006, -0.0006, -0.0006, -0.0006, -0.0006, -0.0006, -0.0006, -0.0006,\n",
      "         -0.0006, -0.0006, -0.0006, -0.0006, -0.0006, -0.0006, -0.0006, -0.0006,\n",
      "         -0.0006, -0.0006, -0.0006, -0.0006, -0.0006, -0.0006, -0.0006, -0.0006,\n",
      "         -0.0006, -0.0006, -0.0006, -0.0006, -0.0006, -0.0006, -0.0006, -0.0006,\n",
      "         -0.0006, -0.0006],\n",
      "        [-0.0014, -0.0014, -0.0014, -0.0014, -0.0014, -0.0014, -0.0014, -0.0014,\n",
      "         -0.0014, -0.0014, -0.0014, -0.0014, -0.0014, -0.0014, -0.0014, -0.0014,\n",
      "         -0.0014, -0.0014, -0.0014, -0.0014, -0.0014, -0.0014, -0.0014, -0.0014,\n",
      "         -0.0014, -0.0014, -0.0014, -0.0014, -0.0014, -0.0014, -0.0014, -0.0014,\n",
      "         -0.0014, -0.0014, -0.0014, -0.0014, -0.0014, -0.0014, -0.0014, -0.0014,\n",
      "         -0.0014, -0.0014, -0.0014, -0.0014, -0.0014, -0.0014, -0.0014, -0.0014,\n",
      "         -0.0014, -0.0014]], device='cuda:0', grad_fn=<SelectBackward0>)\n"
     ]
    },
    {
     "name": "stderr",
     "output_type": "stream",
     "text": [
      "0.00000115:   7%|▋         | 7/100 [08:51<1:52:44, 72.74s/it]"
     ]
    },
    {
     "name": "stdout",
     "output_type": "stream",
     "text": [
      "tensor([1., 1.], device='cuda:0') tensor([[-1.3516e-03, -1.3516e-03, -1.3516e-03, -1.3516e-03, -1.3515e-03,\n",
      "         -1.3516e-03, -1.3515e-03, -1.3516e-03, -1.3516e-03, -1.3515e-03,\n",
      "         -1.3516e-03, -1.3515e-03, -1.3515e-03, -1.3516e-03, -1.3516e-03,\n",
      "         -1.3516e-03, -1.3515e-03, -1.3516e-03, -1.3516e-03, -1.3515e-03,\n",
      "         -1.3515e-03, -1.3515e-03, -1.3515e-03, -1.3515e-03, -1.3515e-03,\n",
      "         -1.3516e-03, -1.3516e-03, -1.3516e-03, -1.3515e-03, -1.3516e-03,\n",
      "         -1.3516e-03, -1.3515e-03, -1.3516e-03, -1.3516e-03, -1.3516e-03,\n",
      "         -1.3516e-03, -1.3515e-03, -1.3515e-03, -1.3515e-03, -1.3516e-03,\n",
      "         -1.3516e-03, -1.3515e-03, -1.3516e-03, -1.3515e-03, -1.3516e-03,\n",
      "         -1.3515e-03, -1.3515e-03, -1.3516e-03, -1.3516e-03, -1.3516e-03],\n",
      "        [-1.7434e-06, -1.7285e-06, -1.7360e-06, -1.7360e-06, -1.6838e-06,\n",
      "         -1.7062e-06, -1.6764e-06, -1.7360e-06, -1.7285e-06, -1.6689e-06,\n",
      "         -1.7136e-06, -1.6838e-06, -1.6838e-06, -1.7285e-06, -1.7360e-06,\n",
      "         -1.7062e-06, -1.6913e-06, -1.7136e-06, -1.7136e-06, -1.6615e-06,\n",
      "         -1.6764e-06, -1.6764e-06, -1.6764e-06, -1.6689e-06, -1.6689e-06,\n",
      "         -1.6987e-06, -1.7211e-06, -1.7211e-06, -1.6689e-06, -1.7285e-06,\n",
      "         -1.7136e-06, -1.6689e-06, -1.7211e-06, -1.7285e-06, -1.7285e-06,\n",
      "         -1.7285e-06, -1.6838e-06, -1.6615e-06, -1.7285e-06, -1.7434e-06,\n",
      "         -1.7360e-06, -1.6764e-06, -1.6913e-06, -1.6838e-06, -1.7360e-06,\n",
      "         -1.6764e-06, -1.6838e-06, -1.7285e-06, -1.7285e-06, -1.7360e-06]],\n",
      "       device='cuda:0', grad_fn=<SelectBackward0>)\n"
     ]
    },
    {
     "name": "stderr",
     "output_type": "stream",
     "text": [
      "0.00000091:   7%|▋         | 7/100 [08:52<1:52:44, 72.74s/it]"
     ]
    },
    {
     "name": "stdout",
     "output_type": "stream",
     "text": [
      "tensor([1., 1.], device='cuda:0') tensor([[ 0.0005,  0.0005,  0.0005,  0.0005,  0.0005,  0.0005,  0.0005,  0.0005,\n",
      "          0.0005,  0.0005,  0.0005,  0.0005,  0.0005,  0.0005,  0.0005,  0.0005,\n",
      "          0.0005,  0.0005,  0.0005,  0.0005,  0.0005,  0.0005,  0.0005,  0.0005,\n",
      "          0.0005,  0.0005,  0.0005,  0.0005,  0.0005,  0.0005,  0.0005,  0.0005,\n",
      "          0.0005,  0.0005,  0.0005,  0.0005,  0.0005,  0.0005,  0.0005,  0.0005,\n",
      "          0.0005,  0.0005,  0.0005,  0.0005,  0.0005,  0.0005,  0.0005,  0.0005,\n",
      "          0.0005,  0.0005],\n",
      "        [-0.0010, -0.0010, -0.0010, -0.0010, -0.0010, -0.0010, -0.0010, -0.0010,\n",
      "         -0.0010, -0.0010, -0.0010, -0.0010, -0.0010, -0.0010, -0.0010, -0.0010,\n",
      "         -0.0010, -0.0010, -0.0010, -0.0010, -0.0010, -0.0010, -0.0010, -0.0010,\n",
      "         -0.0010, -0.0010, -0.0010, -0.0010, -0.0010, -0.0010, -0.0010, -0.0010,\n",
      "         -0.0010, -0.0010, -0.0010, -0.0010, -0.0010, -0.0010, -0.0010, -0.0010,\n",
      "         -0.0010, -0.0010, -0.0010, -0.0010, -0.0010, -0.0010, -0.0010, -0.0010,\n",
      "         -0.0010, -0.0010]], device='cuda:0', grad_fn=<SelectBackward0>)\n"
     ]
    },
    {
     "name": "stderr",
     "output_type": "stream",
     "text": [
      "0.00000069:   7%|▋         | 7/100 [08:54<1:52:44, 72.74s/it]"
     ]
    },
    {
     "name": "stdout",
     "output_type": "stream",
     "text": [
      "tensor([1., 1.], device='cuda:0') tensor([[ 0.0995,  0.0995,  0.0995,  0.0995,  0.0995,  0.0995,  0.0995,  0.0995,\n",
      "          0.0995,  0.0995,  0.0995,  0.0995,  0.0995,  0.0995,  0.0995,  0.0995,\n",
      "          0.0995,  0.0995,  0.0995,  0.0995,  0.0995,  0.0995,  0.0995,  0.0995,\n",
      "          0.0995,  0.0995,  0.0995,  0.0995,  0.0995,  0.0995,  0.0995,  0.0995,\n",
      "          0.0995,  0.0995,  0.0995,  0.0995,  0.0995,  0.0995,  0.0995,  0.0995,\n",
      "          0.0995,  0.0995,  0.0995,  0.0995,  0.0995,  0.0995,  0.0995,  0.0995,\n",
      "          0.0995,  0.0995],\n",
      "        [-0.0992, -0.0992, -0.0992, -0.0992, -0.0992, -0.0992, -0.0992, -0.0992,\n",
      "         -0.0992, -0.0992, -0.0992, -0.0992, -0.0992, -0.0992, -0.0992, -0.0992,\n",
      "         -0.0992, -0.0992, -0.0992, -0.0992, -0.0992, -0.0992, -0.0992, -0.0992,\n",
      "         -0.0992, -0.0992, -0.0992, -0.0992, -0.0992, -0.0992, -0.0992, -0.0992,\n",
      "         -0.0992, -0.0992, -0.0992, -0.0992, -0.0992, -0.0992, -0.0992, -0.0992,\n",
      "         -0.0992, -0.0992, -0.0992, -0.0992, -0.0992, -0.0992, -0.0992, -0.0992,\n",
      "         -0.0992, -0.0992]], device='cuda:0', grad_fn=<SelectBackward0>)\n"
     ]
    },
    {
     "name": "stderr",
     "output_type": "stream",
     "text": [
      "0.00986649:   7%|▋         | 7/100 [08:55<1:52:44, 72.74s/it]"
     ]
    },
    {
     "name": "stdout",
     "output_type": "stream",
     "text": [
      "tensor([1., 1.], device='cuda:0') tensor([[-0.0189, -0.0189, -0.0189, -0.0189, -0.0189, -0.0189, -0.0189, -0.0189,\n",
      "         -0.0189, -0.0189, -0.0189, -0.0189, -0.0189, -0.0189, -0.0189, -0.0189,\n",
      "         -0.0189, -0.0189, -0.0189, -0.0189, -0.0189, -0.0189, -0.0189, -0.0189,\n",
      "         -0.0189, -0.0189, -0.0189, -0.0189, -0.0189, -0.0189, -0.0189, -0.0189,\n",
      "         -0.0189, -0.0189, -0.0189, -0.0189, -0.0189, -0.0189, -0.0189, -0.0189,\n",
      "         -0.0189, -0.0189, -0.0189, -0.0189, -0.0189, -0.0189, -0.0189, -0.0189,\n",
      "         -0.0189, -0.0189],\n",
      "        [ 0.0192,  0.0192,  0.0192,  0.0192,  0.0192,  0.0192,  0.0192,  0.0192,\n",
      "          0.0192,  0.0192,  0.0192,  0.0192,  0.0192,  0.0192,  0.0192,  0.0192,\n",
      "          0.0192,  0.0192,  0.0192,  0.0192,  0.0192,  0.0192,  0.0192,  0.0192,\n",
      "          0.0192,  0.0192,  0.0192,  0.0192,  0.0192,  0.0192,  0.0192,  0.0192,\n",
      "          0.0192,  0.0192,  0.0192,  0.0192,  0.0192,  0.0192,  0.0192,  0.0192,\n",
      "          0.0192,  0.0192,  0.0192,  0.0192,  0.0192,  0.0192,  0.0192,  0.0192,\n",
      "          0.0192,  0.0192]], device='cuda:0', grad_fn=<SelectBackward0>)\n"
     ]
    },
    {
     "name": "stderr",
     "output_type": "stream",
     "text": [
      "0.00036392:   7%|▋         | 7/100 [08:57<1:52:44, 72.74s/it]"
     ]
    },
    {
     "name": "stdout",
     "output_type": "stream",
     "text": [
      "tensor([1., 1.], device='cuda:0') tensor([[-0.0319, -0.0319, -0.0319, -0.0319, -0.0319, -0.0319, -0.0319, -0.0319,\n",
      "         -0.0319, -0.0319, -0.0319, -0.0319, -0.0319, -0.0319, -0.0319, -0.0319,\n",
      "         -0.0319, -0.0319, -0.0319, -0.0319, -0.0319, -0.0319, -0.0319, -0.0319,\n",
      "         -0.0319, -0.0319, -0.0319, -0.0319, -0.0319, -0.0319, -0.0319, -0.0319,\n",
      "         -0.0319, -0.0319, -0.0319, -0.0319, -0.0319, -0.0319, -0.0319, -0.0319,\n",
      "         -0.0319, -0.0319, -0.0319, -0.0319, -0.0319, -0.0319, -0.0319, -0.0319,\n",
      "         -0.0319, -0.0319],\n",
      "        [ 0.0313,  0.0313,  0.0313,  0.0313,  0.0313,  0.0313,  0.0313,  0.0313,\n",
      "          0.0313,  0.0313,  0.0313,  0.0313,  0.0313,  0.0313,  0.0313,  0.0313,\n",
      "          0.0313,  0.0313,  0.0313,  0.0313,  0.0313,  0.0313,  0.0313,  0.0313,\n",
      "          0.0313,  0.0313,  0.0313,  0.0313,  0.0313,  0.0313,  0.0313,  0.0313,\n",
      "          0.0313,  0.0313,  0.0313,  0.0313,  0.0313,  0.0313,  0.0313,  0.0313,\n",
      "          0.0313,  0.0313,  0.0313,  0.0313,  0.0313,  0.0313,  0.0313,  0.0313,\n",
      "          0.0313,  0.0313]], device='cuda:0', grad_fn=<SelectBackward0>)\n"
     ]
    },
    {
     "name": "stderr",
     "output_type": "stream",
     "text": [
      "0.00099674:   7%|▋         | 7/100 [08:58<1:52:44, 72.74s/it]"
     ]
    },
    {
     "name": "stdout",
     "output_type": "stream",
     "text": [
      "tensor([1., 1.], device='cuda:0') tensor([[-0.0375, -0.0375, -0.0375, -0.0375, -0.0375, -0.0375, -0.0375, -0.0375,\n",
      "         -0.0375, -0.0375, -0.0375, -0.0375, -0.0375, -0.0375, -0.0375, -0.0375,\n",
      "         -0.0375, -0.0375, -0.0375, -0.0375, -0.0375, -0.0375, -0.0375, -0.0375,\n",
      "         -0.0375, -0.0375, -0.0375, -0.0375, -0.0375, -0.0375, -0.0375, -0.0375,\n",
      "         -0.0375, -0.0375, -0.0375, -0.0375, -0.0375, -0.0375, -0.0375, -0.0375,\n",
      "         -0.0375, -0.0375, -0.0375, -0.0375, -0.0375, -0.0375, -0.0375, -0.0375,\n",
      "         -0.0375, -0.0375],\n",
      "        [ 0.0348,  0.0348,  0.0348,  0.0348,  0.0348,  0.0348,  0.0348,  0.0348,\n",
      "          0.0348,  0.0348,  0.0348,  0.0348,  0.0348,  0.0348,  0.0348,  0.0348,\n",
      "          0.0348,  0.0348,  0.0348,  0.0348,  0.0348,  0.0348,  0.0348,  0.0348,\n",
      "          0.0348,  0.0348,  0.0348,  0.0348,  0.0348,  0.0348,  0.0348,  0.0348,\n",
      "          0.0348,  0.0348,  0.0348,  0.0348,  0.0348,  0.0348,  0.0348,  0.0348,\n",
      "          0.0348,  0.0348,  0.0348,  0.0348,  0.0348,  0.0348,  0.0348,  0.0348,\n",
      "          0.0348,  0.0348]], device='cuda:0', grad_fn=<SelectBackward0>)\n"
     ]
    },
    {
     "name": "stderr",
     "output_type": "stream",
     "text": [
      "0.00130912:   7%|▋         | 7/100 [09:00<1:52:44, 72.74s/it]"
     ]
    },
    {
     "name": "stdout",
     "output_type": "stream",
     "text": [
      "tensor([1., 1.], device='cuda:0') tensor([[ 0.0298,  0.0298,  0.0298,  0.0298,  0.0298,  0.0298,  0.0298,  0.0298,\n",
      "          0.0298,  0.0298,  0.0298,  0.0298,  0.0298,  0.0298,  0.0298,  0.0298,\n",
      "          0.0298,  0.0298,  0.0298,  0.0298,  0.0298,  0.0298,  0.0298,  0.0298,\n",
      "          0.0298,  0.0298,  0.0298,  0.0298,  0.0298,  0.0298,  0.0298,  0.0298,\n",
      "          0.0298,  0.0298,  0.0298,  0.0298,  0.0298,  0.0298,  0.0298,  0.0298,\n",
      "          0.0298,  0.0298,  0.0298,  0.0298,  0.0298,  0.0298,  0.0298,  0.0298,\n",
      "          0.0298,  0.0298],\n",
      "        [-0.0355, -0.0355, -0.0355, -0.0355, -0.0355, -0.0355, -0.0355, -0.0355,\n",
      "         -0.0355, -0.0355, -0.0355, -0.0355, -0.0355, -0.0355, -0.0355, -0.0355,\n",
      "         -0.0355, -0.0355, -0.0355, -0.0355, -0.0355, -0.0355, -0.0355, -0.0355,\n",
      "         -0.0355, -0.0355, -0.0355, -0.0355, -0.0355, -0.0355, -0.0355, -0.0355,\n",
      "         -0.0355, -0.0355, -0.0355, -0.0355, -0.0355, -0.0355, -0.0355, -0.0355,\n",
      "         -0.0355, -0.0355, -0.0355, -0.0355, -0.0355, -0.0355, -0.0355, -0.0355,\n",
      "         -0.0355, -0.0355]], device='cuda:0', grad_fn=<SelectBackward0>)\n"
     ]
    },
    {
     "name": "stderr",
     "output_type": "stream",
     "text": [
      "0.00107536:   7%|▋         | 7/100 [09:02<1:52:44, 72.74s/it]"
     ]
    },
    {
     "name": "stdout",
     "output_type": "stream",
     "text": [
      "tensor([1., 1.], device='cuda:0') tensor([[ 0.0185,  0.0185,  0.0185,  0.0185,  0.0185,  0.0185,  0.0185,  0.0185,\n",
      "          0.0185,  0.0185,  0.0185,  0.0185,  0.0185,  0.0185,  0.0185,  0.0185,\n",
      "          0.0185,  0.0185,  0.0185,  0.0185,  0.0185,  0.0185,  0.0185,  0.0185,\n",
      "          0.0185,  0.0185,  0.0185,  0.0185,  0.0185,  0.0185,  0.0185,  0.0185,\n",
      "          0.0185,  0.0185,  0.0185,  0.0185,  0.0185,  0.0185,  0.0185,  0.0185,\n",
      "          0.0185,  0.0185,  0.0185,  0.0185,  0.0185,  0.0185,  0.0185,  0.0185,\n",
      "          0.0185,  0.0185],\n",
      "        [-0.0269, -0.0269, -0.0269, -0.0269, -0.0269, -0.0269, -0.0269, -0.0269,\n",
      "         -0.0269, -0.0269, -0.0269, -0.0269, -0.0269, -0.0269, -0.0269, -0.0269,\n",
      "         -0.0269, -0.0269, -0.0269, -0.0269, -0.0269, -0.0269, -0.0269, -0.0269,\n",
      "         -0.0269, -0.0269, -0.0269, -0.0269, -0.0269, -0.0269, -0.0269, -0.0269,\n",
      "         -0.0269, -0.0269, -0.0269, -0.0269, -0.0269, -0.0269, -0.0269, -0.0269,\n",
      "         -0.0269, -0.0269, -0.0269, -0.0269, -0.0269, -0.0269, -0.0269, -0.0269,\n",
      "         -0.0269, -0.0269]], device='cuda:0', grad_fn=<SelectBackward0>)\n"
     ]
    },
    {
     "name": "stderr",
     "output_type": "stream",
     "text": [
      "0.00053239:   7%|▋         | 7/100 [09:03<1:52:44, 72.74s/it]"
     ]
    },
    {
     "name": "stdout",
     "output_type": "stream",
     "text": [
      "tensor([1., 1.], device='cuda:0') tensor([[-0.0140, -0.0140, -0.0140, -0.0140, -0.0140, -0.0140, -0.0140, -0.0140,\n",
      "         -0.0140, -0.0140, -0.0140, -0.0140, -0.0140, -0.0140, -0.0140, -0.0140,\n",
      "         -0.0140, -0.0140, -0.0140, -0.0140, -0.0140, -0.0140, -0.0140, -0.0140,\n",
      "         -0.0140, -0.0140, -0.0140, -0.0140, -0.0140, -0.0140, -0.0140, -0.0140,\n",
      "         -0.0140, -0.0140, -0.0140, -0.0140, -0.0140, -0.0140, -0.0140, -0.0140,\n",
      "         -0.0140, -0.0140, -0.0140, -0.0140, -0.0140, -0.0140, -0.0140, -0.0140,\n",
      "         -0.0140, -0.0140],\n",
      "        [ 0.0040,  0.0040,  0.0040,  0.0040,  0.0040,  0.0040,  0.0040,  0.0040,\n",
      "          0.0040,  0.0040,  0.0040,  0.0040,  0.0040,  0.0040,  0.0040,  0.0040,\n",
      "          0.0040,  0.0040,  0.0040,  0.0040,  0.0040,  0.0040,  0.0040,  0.0040,\n",
      "          0.0040,  0.0040,  0.0040,  0.0040,  0.0040,  0.0040,  0.0040,  0.0040,\n",
      "          0.0040,  0.0040,  0.0040,  0.0040,  0.0040,  0.0040,  0.0040,  0.0040,\n",
      "          0.0040,  0.0040,  0.0040,  0.0040,  0.0040,  0.0040,  0.0040,  0.0040,\n",
      "          0.0040,  0.0040]], device='cuda:0', grad_fn=<SelectBackward0>)\n"
     ]
    },
    {
     "name": "stderr",
     "output_type": "stream",
     "text": [
      "0.00010572:   7%|▋         | 7/100 [09:05<1:52:44, 72.74s/it]"
     ]
    },
    {
     "name": "stdout",
     "output_type": "stream",
     "text": [
      "tensor([1., 1.], device='cuda:0') tensor([[ 0.0004,  0.0004,  0.0004,  0.0004,  0.0004,  0.0004,  0.0004,  0.0004,\n",
      "          0.0004,  0.0004,  0.0004,  0.0004,  0.0004,  0.0004,  0.0004,  0.0004,\n",
      "          0.0004,  0.0004,  0.0004,  0.0004,  0.0004,  0.0004,  0.0004,  0.0004,\n",
      "          0.0004,  0.0004,  0.0004,  0.0004,  0.0004,  0.0004,  0.0004,  0.0004,\n",
      "          0.0004,  0.0004,  0.0004,  0.0004,  0.0004,  0.0004,  0.0004,  0.0004,\n",
      "          0.0004,  0.0004,  0.0004,  0.0004,  0.0004,  0.0004,  0.0004,  0.0004,\n",
      "          0.0004,  0.0004],\n",
      "        [-0.0099, -0.0099, -0.0099, -0.0099, -0.0099, -0.0099, -0.0099, -0.0099,\n",
      "         -0.0099, -0.0099, -0.0099, -0.0099, -0.0099, -0.0099, -0.0099, -0.0099,\n",
      "         -0.0099, -0.0099, -0.0099, -0.0099, -0.0099, -0.0099, -0.0099, -0.0099,\n",
      "         -0.0099, -0.0099, -0.0099, -0.0099, -0.0099, -0.0099, -0.0099, -0.0099,\n",
      "         -0.0099, -0.0099, -0.0099, -0.0099, -0.0099, -0.0099, -0.0099, -0.0099,\n",
      "         -0.0099, -0.0099, -0.0099, -0.0099, -0.0099, -0.0099, -0.0099, -0.0099,\n",
      "         -0.0099, -0.0099]], device='cuda:0', grad_fn=<SelectBackward0>)\n"
     ]
    },
    {
     "name": "stderr",
     "output_type": "stream",
     "text": [
      "0.00004899:   7%|▋         | 7/100 [09:07<1:52:44, 72.74s/it]"
     ]
    },
    {
     "name": "stdout",
     "output_type": "stream",
     "text": [
      "tensor([1., 1.], device='cuda:0') tensor([[-0.0200, -0.0200, -0.0200, -0.0200, -0.0200, -0.0200, -0.0200, -0.0200,\n",
      "         -0.0200, -0.0200, -0.0200, -0.0200, -0.0200, -0.0200, -0.0200, -0.0200,\n",
      "         -0.0200, -0.0200, -0.0200, -0.0200, -0.0200, -0.0200, -0.0200, -0.0200,\n",
      "         -0.0200, -0.0200, -0.0200, -0.0200, -0.0200, -0.0200, -0.0200, -0.0200,\n",
      "         -0.0200, -0.0200, -0.0200, -0.0200, -0.0200, -0.0200, -0.0200, -0.0200,\n",
      "         -0.0200, -0.0200, -0.0200, -0.0200, -0.0200, -0.0200, -0.0200, -0.0200,\n",
      "         -0.0200, -0.0200],\n",
      "        [ 0.0134,  0.0134,  0.0134,  0.0134,  0.0134,  0.0134,  0.0134,  0.0134,\n",
      "          0.0134,  0.0134,  0.0134,  0.0134,  0.0134,  0.0134,  0.0134,  0.0134,\n",
      "          0.0134,  0.0134,  0.0134,  0.0134,  0.0134,  0.0134,  0.0134,  0.0134,\n",
      "          0.0134,  0.0134,  0.0134,  0.0134,  0.0134,  0.0134,  0.0134,  0.0134,\n",
      "          0.0134,  0.0134,  0.0134,  0.0134,  0.0134,  0.0134,  0.0134,  0.0134,\n",
      "          0.0134,  0.0134,  0.0134,  0.0134,  0.0134,  0.0134,  0.0134,  0.0134,\n",
      "          0.0134,  0.0134]], device='cuda:0', grad_fn=<SelectBackward0>)\n"
     ]
    },
    {
     "name": "stderr",
     "output_type": "stream",
     "text": [
      "0.00028905:   7%|▋         | 7/100 [09:08<1:52:44, 72.74s/it]"
     ]
    },
    {
     "name": "stdout",
     "output_type": "stream",
     "text": [
      "tensor([1., 1.], device='cuda:0') tensor([[-0.0243, -0.0243, -0.0243, -0.0243, -0.0243, -0.0243, -0.0243, -0.0243,\n",
      "         -0.0243, -0.0243, -0.0243, -0.0243, -0.0243, -0.0243, -0.0243, -0.0243,\n",
      "         -0.0243, -0.0243, -0.0243, -0.0243, -0.0243, -0.0243, -0.0243, -0.0243,\n",
      "         -0.0243, -0.0243, -0.0243, -0.0243, -0.0243, -0.0243, -0.0243, -0.0243,\n",
      "         -0.0243, -0.0243, -0.0243, -0.0243, -0.0243, -0.0243, -0.0243, -0.0243,\n",
      "         -0.0243, -0.0243, -0.0243, -0.0243, -0.0243, -0.0243, -0.0243, -0.0243,\n",
      "         -0.0243, -0.0243],\n",
      "        [ 0.0226,  0.0226,  0.0226,  0.0226,  0.0226,  0.0226,  0.0226,  0.0226,\n",
      "          0.0226,  0.0226,  0.0226,  0.0226,  0.0226,  0.0226,  0.0226,  0.0226,\n",
      "          0.0226,  0.0226,  0.0226,  0.0226,  0.0226,  0.0226,  0.0226,  0.0226,\n",
      "          0.0226,  0.0226,  0.0226,  0.0226,  0.0226,  0.0226,  0.0226,  0.0226,\n",
      "          0.0226,  0.0226,  0.0226,  0.0226,  0.0226,  0.0226,  0.0226,  0.0226,\n",
      "          0.0226,  0.0226,  0.0226,  0.0226,  0.0226,  0.0226,  0.0226,  0.0226,\n",
      "          0.0226,  0.0226]], device='cuda:0', grad_fn=<SelectBackward0>)\n"
     ]
    },
    {
     "name": "stderr",
     "output_type": "stream",
     "text": [
      "0.00055054:   7%|▋         | 7/100 [09:10<1:52:44, 72.74s/it]"
     ]
    },
    {
     "name": "stdout",
     "output_type": "stream",
     "text": [
      "tensor([1., 1.], device='cuda:0') tensor([[ 0.0266,  0.0266,  0.0266,  0.0266,  0.0266,  0.0266,  0.0266,  0.0266,\n",
      "          0.0266,  0.0266,  0.0266,  0.0266,  0.0266,  0.0266,  0.0266,  0.0266,\n",
      "          0.0266,  0.0266,  0.0266,  0.0266,  0.0266,  0.0266,  0.0266,  0.0266,\n",
      "          0.0266,  0.0266,  0.0266,  0.0266,  0.0266,  0.0266,  0.0266,  0.0266,\n",
      "          0.0266,  0.0266,  0.0266,  0.0266,  0.0266,  0.0266,  0.0266,  0.0266,\n",
      "          0.0266,  0.0266,  0.0266,  0.0266,  0.0266,  0.0266,  0.0266,  0.0266,\n",
      "          0.0266,  0.0266],\n",
      "        [-0.0225, -0.0225, -0.0225, -0.0225, -0.0225, -0.0225, -0.0225, -0.0225,\n",
      "         -0.0225, -0.0225, -0.0225, -0.0225, -0.0225, -0.0225, -0.0225, -0.0225,\n",
      "         -0.0225, -0.0225, -0.0225, -0.0225, -0.0225, -0.0225, -0.0225, -0.0225,\n",
      "         -0.0225, -0.0225, -0.0225, -0.0225, -0.0225, -0.0225, -0.0225, -0.0225,\n",
      "         -0.0225, -0.0225, -0.0225, -0.0225, -0.0225, -0.0225, -0.0225, -0.0225,\n",
      "         -0.0225, -0.0225, -0.0225, -0.0225, -0.0225, -0.0225, -0.0225, -0.0225,\n",
      "         -0.0225, -0.0225]], device='cuda:0', grad_fn=<SelectBackward0>)\n"
     ]
    },
    {
     "name": "stderr",
     "output_type": "stream",
     "text": [
      "0.00060605:   7%|▋         | 7/100 [09:11<1:52:44, 72.74s/it]"
     ]
    },
    {
     "name": "stdout",
     "output_type": "stream",
     "text": [
      "tensor([1., 1.], device='cuda:0') tensor([[-0.0156, -0.0156, -0.0156, -0.0156, -0.0156, -0.0156, -0.0156, -0.0156,\n",
      "         -0.0156, -0.0156, -0.0156, -0.0156, -0.0156, -0.0156, -0.0156, -0.0156,\n",
      "         -0.0156, -0.0156, -0.0156, -0.0156, -0.0156, -0.0156, -0.0156, -0.0156,\n",
      "         -0.0156, -0.0156, -0.0156, -0.0156, -0.0156, -0.0156, -0.0156, -0.0156,\n",
      "         -0.0156, -0.0156, -0.0156, -0.0156, -0.0156, -0.0156, -0.0156, -0.0156,\n",
      "         -0.0156, -0.0156, -0.0156, -0.0156, -0.0156, -0.0156, -0.0156, -0.0156,\n",
      "         -0.0156, -0.0156],\n",
      "        [ 0.0250,  0.0250,  0.0250,  0.0250,  0.0250,  0.0250,  0.0250,  0.0250,\n",
      "          0.0250,  0.0250,  0.0250,  0.0250,  0.0250,  0.0250,  0.0250,  0.0250,\n",
      "          0.0250,  0.0250,  0.0250,  0.0250,  0.0250,  0.0250,  0.0250,  0.0250,\n",
      "          0.0250,  0.0250,  0.0250,  0.0250,  0.0250,  0.0250,  0.0250,  0.0250,\n",
      "          0.0250,  0.0250,  0.0250,  0.0250,  0.0250,  0.0250,  0.0250,  0.0250,\n",
      "          0.0250,  0.0250,  0.0250,  0.0250,  0.0250,  0.0250,  0.0250,  0.0250,\n",
      "          0.0250,  0.0250]], device='cuda:0', grad_fn=<SelectBackward0>)\n"
     ]
    },
    {
     "name": "stderr",
     "output_type": "stream",
     "text": [
      "0.00043531:   7%|▋         | 7/100 [09:13<1:52:44, 72.74s/it]"
     ]
    },
    {
     "name": "stdout",
     "output_type": "stream",
     "text": [
      "tensor([1., 1.], device='cuda:0') tensor([[ 0.0188,  0.0188,  0.0188,  0.0188,  0.0188,  0.0188,  0.0188,  0.0188,\n",
      "          0.0188,  0.0188,  0.0188,  0.0188,  0.0188,  0.0188,  0.0188,  0.0188,\n",
      "          0.0188,  0.0188,  0.0188,  0.0188,  0.0188,  0.0188,  0.0188,  0.0188,\n",
      "          0.0188,  0.0188,  0.0188,  0.0188,  0.0188,  0.0188,  0.0188,  0.0188,\n",
      "          0.0188,  0.0188,  0.0188,  0.0188,  0.0188,  0.0188,  0.0188,  0.0188,\n",
      "          0.0188,  0.0188,  0.0188,  0.0188,  0.0188,  0.0188,  0.0188,  0.0188,\n",
      "          0.0188,  0.0188],\n",
      "        [-0.0058, -0.0058, -0.0058, -0.0058, -0.0058, -0.0058, -0.0058, -0.0058,\n",
      "         -0.0058, -0.0058, -0.0058, -0.0058, -0.0058, -0.0058, -0.0058, -0.0058,\n",
      "         -0.0058, -0.0058, -0.0058, -0.0058, -0.0058, -0.0058, -0.0058, -0.0058,\n",
      "         -0.0058, -0.0058, -0.0058, -0.0058, -0.0058, -0.0058, -0.0058, -0.0058,\n",
      "         -0.0058, -0.0058, -0.0058, -0.0058, -0.0058, -0.0058, -0.0058, -0.0058,\n",
      "         -0.0058, -0.0058, -0.0058, -0.0058, -0.0058, -0.0058, -0.0058, -0.0058,\n",
      "         -0.0058, -0.0058]], device='cuda:0', grad_fn=<SelectBackward0>)\n"
     ]
    },
    {
     "name": "stderr",
     "output_type": "stream",
     "text": [
      "0.00019313:   7%|▋         | 7/100 [09:14<1:52:44, 72.74s/it]"
     ]
    },
    {
     "name": "stdout",
     "output_type": "stream",
     "text": [
      "tensor([1., 1.], device='cuda:0') tensor([[0.0094, 0.0094, 0.0094, 0.0094, 0.0094, 0.0094, 0.0094, 0.0094, 0.0094,\n",
      "         0.0094, 0.0094, 0.0094, 0.0094, 0.0094, 0.0094, 0.0094, 0.0094, 0.0094,\n",
      "         0.0094, 0.0094, 0.0094, 0.0094, 0.0094, 0.0094, 0.0094, 0.0094, 0.0094,\n",
      "         0.0094, 0.0094, 0.0094, 0.0094, 0.0094, 0.0094, 0.0094, 0.0094, 0.0094,\n",
      "         0.0094, 0.0094, 0.0094, 0.0094, 0.0094, 0.0094, 0.0094, 0.0094, 0.0094,\n",
      "         0.0094, 0.0094, 0.0094, 0.0094, 0.0094],\n",
      "        [0.0043, 0.0043, 0.0043, 0.0043, 0.0043, 0.0043, 0.0043, 0.0043, 0.0043,\n",
      "         0.0043, 0.0043, 0.0043, 0.0043, 0.0043, 0.0043, 0.0043, 0.0043, 0.0043,\n",
      "         0.0043, 0.0043, 0.0043, 0.0043, 0.0043, 0.0043, 0.0043, 0.0043, 0.0043,\n",
      "         0.0043, 0.0043, 0.0043, 0.0043, 0.0043, 0.0043, 0.0043, 0.0043, 0.0043,\n",
      "         0.0043, 0.0043, 0.0043, 0.0043, 0.0043, 0.0043, 0.0043, 0.0043, 0.0043,\n",
      "         0.0043, 0.0043, 0.0043, 0.0043, 0.0043]], device='cuda:0',\n",
      "       grad_fn=<SelectBackward0>)\n"
     ]
    },
    {
     "name": "stderr",
     "output_type": "stream",
     "text": [
      "0.00005339:   7%|▋         | 7/100 [09:16<1:52:44, 72.74s/it]"
     ]
    },
    {
     "name": "stdout",
     "output_type": "stream",
     "text": [
      "tensor([1., 1.], device='cuda:0') tensor([[ 0.0122,  0.0122,  0.0122,  0.0122,  0.0122,  0.0122,  0.0122,  0.0122,\n",
      "          0.0122,  0.0122,  0.0122,  0.0122,  0.0122,  0.0122,  0.0122,  0.0122,\n",
      "          0.0122,  0.0122,  0.0122,  0.0122,  0.0122,  0.0122,  0.0122,  0.0122,\n",
      "          0.0122,  0.0122,  0.0122,  0.0122,  0.0122,  0.0122,  0.0122,  0.0122,\n",
      "          0.0122,  0.0122,  0.0122,  0.0122,  0.0122,  0.0122,  0.0122,  0.0122,\n",
      "          0.0122,  0.0122,  0.0122,  0.0122,  0.0122,  0.0122,  0.0122,  0.0122,\n",
      "          0.0122,  0.0122],\n",
      "        [-0.0009, -0.0009, -0.0009, -0.0009, -0.0009, -0.0009, -0.0009, -0.0009,\n",
      "         -0.0009, -0.0009, -0.0009, -0.0009, -0.0009, -0.0009, -0.0009, -0.0009,\n",
      "         -0.0009, -0.0009, -0.0009, -0.0009, -0.0009, -0.0009, -0.0009, -0.0009,\n",
      "         -0.0009, -0.0009, -0.0009, -0.0009, -0.0009, -0.0009, -0.0009, -0.0009,\n",
      "         -0.0009, -0.0009, -0.0009, -0.0009, -0.0009, -0.0009, -0.0009, -0.0009,\n",
      "         -0.0009, -0.0009, -0.0009, -0.0009, -0.0009, -0.0009, -0.0009, -0.0009,\n",
      "         -0.0009, -0.0009]], device='cuda:0', grad_fn=<SelectBackward0>)\n"
     ]
    },
    {
     "name": "stderr",
     "output_type": "stream",
     "text": [
      "0.00007527:   7%|▋         | 7/100 [09:17<1:52:44, 72.74s/it]"
     ]
    },
    {
     "name": "stdout",
     "output_type": "stream",
     "text": [
      "tensor([1., 1.], device='cuda:0') tensor([[-0.0102, -0.0102, -0.0102, -0.0102, -0.0102, -0.0102, -0.0102, -0.0102,\n",
      "         -0.0102, -0.0102, -0.0102, -0.0102, -0.0102, -0.0102, -0.0102, -0.0102,\n",
      "         -0.0102, -0.0102, -0.0102, -0.0102, -0.0102, -0.0102, -0.0102, -0.0102,\n",
      "         -0.0102, -0.0102, -0.0102, -0.0102, -0.0102, -0.0102, -0.0102, -0.0102,\n",
      "         -0.0102, -0.0102, -0.0102, -0.0102, -0.0102, -0.0102, -0.0102, -0.0102,\n",
      "         -0.0102, -0.0102, -0.0102, -0.0102, -0.0102, -0.0102, -0.0102, -0.0102,\n",
      "         -0.0102, -0.0102],\n",
      "        [ 0.0164,  0.0164,  0.0164,  0.0164,  0.0164,  0.0164,  0.0164,  0.0164,\n",
      "          0.0164,  0.0164,  0.0164,  0.0164,  0.0164,  0.0164,  0.0164,  0.0164,\n",
      "          0.0164,  0.0164,  0.0164,  0.0164,  0.0164,  0.0164,  0.0164,  0.0164,\n",
      "          0.0164,  0.0164,  0.0164,  0.0164,  0.0164,  0.0164,  0.0164,  0.0164,\n",
      "          0.0164,  0.0164,  0.0164,  0.0164,  0.0164,  0.0164,  0.0164,  0.0164,\n",
      "          0.0164,  0.0164,  0.0164,  0.0164,  0.0164,  0.0164,  0.0164,  0.0164,\n",
      "          0.0164,  0.0164]], device='cuda:0', grad_fn=<SelectBackward0>)\n"
     ]
    },
    {
     "name": "stderr",
     "output_type": "stream",
     "text": [
      "0.00018691:   7%|▋         | 7/100 [09:19<1:52:44, 72.74s/it]"
     ]
    },
    {
     "name": "stdout",
     "output_type": "stream",
     "text": [
      "tensor([1., 1.], device='cuda:0') tensor([[-0.0166, -0.0166, -0.0166, -0.0166, -0.0166, -0.0166, -0.0166, -0.0166,\n",
      "         -0.0166, -0.0166, -0.0166, -0.0166, -0.0166, -0.0166, -0.0166, -0.0166,\n",
      "         -0.0166, -0.0166, -0.0166, -0.0166, -0.0166, -0.0166, -0.0166, -0.0166,\n",
      "         -0.0166, -0.0166, -0.0166, -0.0166, -0.0166, -0.0166, -0.0166, -0.0166,\n",
      "         -0.0166, -0.0166, -0.0166, -0.0166, -0.0166, -0.0166, -0.0166, -0.0166,\n",
      "         -0.0166, -0.0166, -0.0166, -0.0166, -0.0166, -0.0166, -0.0166, -0.0166,\n",
      "         -0.0166, -0.0166],\n",
      "        [ 0.0163,  0.0163,  0.0163,  0.0163,  0.0163,  0.0163,  0.0163,  0.0163,\n",
      "          0.0163,  0.0163,  0.0163,  0.0163,  0.0163,  0.0163,  0.0163,  0.0163,\n",
      "          0.0163,  0.0163,  0.0163,  0.0163,  0.0163,  0.0163,  0.0163,  0.0163,\n",
      "          0.0163,  0.0163,  0.0163,  0.0163,  0.0163,  0.0163,  0.0163,  0.0163,\n",
      "          0.0163,  0.0163,  0.0163,  0.0163,  0.0163,  0.0163,  0.0163,  0.0163,\n",
      "          0.0163,  0.0163,  0.0163,  0.0163,  0.0163,  0.0163,  0.0163,  0.0163,\n",
      "          0.0163,  0.0163]], device='cuda:0', grad_fn=<SelectBackward0>)\n"
     ]
    },
    {
     "name": "stderr",
     "output_type": "stream",
     "text": [
      "0.00027049:   7%|▋         | 7/100 [09:20<1:52:44, 72.74s/it]"
     ]
    },
    {
     "name": "stdout",
     "output_type": "stream",
     "text": [
      "tensor([1., 1.], device='cuda:0') tensor([[ 0.0123,  0.0123,  0.0123,  0.0123,  0.0123,  0.0123,  0.0123,  0.0123,\n",
      "          0.0123,  0.0123,  0.0123,  0.0123,  0.0123,  0.0123,  0.0123,  0.0123,\n",
      "          0.0123,  0.0123,  0.0123,  0.0123,  0.0123,  0.0123,  0.0123,  0.0123,\n",
      "          0.0123,  0.0123,  0.0123,  0.0123,  0.0123,  0.0123,  0.0123,  0.0123,\n",
      "          0.0123,  0.0123,  0.0123,  0.0123,  0.0123,  0.0123,  0.0123,  0.0123,\n",
      "          0.0123,  0.0123,  0.0123,  0.0123,  0.0123,  0.0123,  0.0123,  0.0123,\n",
      "          0.0123,  0.0123],\n",
      "        [-0.0192, -0.0192, -0.0192, -0.0192, -0.0192, -0.0192, -0.0192, -0.0192,\n",
      "         -0.0192, -0.0192, -0.0192, -0.0192, -0.0192, -0.0192, -0.0192, -0.0192,\n",
      "         -0.0192, -0.0192, -0.0192, -0.0192, -0.0192, -0.0192, -0.0192, -0.0192,\n",
      "         -0.0192, -0.0192, -0.0192, -0.0192, -0.0192, -0.0192, -0.0192, -0.0192,\n",
      "         -0.0192, -0.0192, -0.0192, -0.0192, -0.0192, -0.0192, -0.0192, -0.0192,\n",
      "         -0.0192, -0.0192, -0.0192, -0.0192, -0.0192, -0.0192, -0.0192, -0.0192,\n",
      "         -0.0192, -0.0192]], device='cuda:0', grad_fn=<SelectBackward0>)\n"
     ]
    },
    {
     "name": "stderr",
     "output_type": "stream",
     "text": [
      "0.00025989:   7%|▋         | 7/100 [09:22<1:52:44, 72.74s/it]"
     ]
    },
    {
     "name": "stdout",
     "output_type": "stream",
     "text": [
      "tensor([1., 1.], device='cuda:0') tensor([[-0.0178, -0.0178, -0.0178, -0.0178, -0.0178, -0.0178, -0.0178, -0.0178,\n",
      "         -0.0178, -0.0178, -0.0178, -0.0178, -0.0178, -0.0178, -0.0178, -0.0178,\n",
      "         -0.0178, -0.0178, -0.0178, -0.0178, -0.0178, -0.0178, -0.0178, -0.0178,\n",
      "         -0.0178, -0.0178, -0.0178, -0.0178, -0.0178, -0.0178, -0.0178, -0.0178,\n",
      "         -0.0178, -0.0178, -0.0178, -0.0178, -0.0178, -0.0178, -0.0178, -0.0178,\n",
      "         -0.0178, -0.0178, -0.0178, -0.0178, -0.0178, -0.0178, -0.0178, -0.0178,\n",
      "         -0.0178, -0.0178],\n",
      "        [ 0.0059,  0.0059,  0.0059,  0.0059,  0.0059,  0.0059,  0.0059,  0.0059,\n",
      "          0.0059,  0.0059,  0.0059,  0.0059,  0.0059,  0.0059,  0.0059,  0.0059,\n",
      "          0.0059,  0.0059,  0.0059,  0.0059,  0.0059,  0.0059,  0.0059,  0.0059,\n",
      "          0.0059,  0.0059,  0.0059,  0.0059,  0.0059,  0.0059,  0.0059,  0.0059,\n",
      "          0.0059,  0.0059,  0.0059,  0.0059,  0.0059,  0.0059,  0.0059,  0.0059,\n",
      "          0.0059,  0.0059,  0.0059,  0.0059,  0.0059,  0.0059,  0.0059,  0.0059,\n",
      "          0.0059,  0.0059]], device='cuda:0', grad_fn=<SelectBackward0>)\n"
     ]
    },
    {
     "name": "stderr",
     "output_type": "stream",
     "text": [
      "0.00017504:   7%|▋         | 7/100 [09:24<1:52:44, 72.74s/it]"
     ]
    },
    {
     "name": "stdout",
     "output_type": "stream",
     "text": [
      "tensor([1., 1.], device='cuda:0') tensor([[-0.0012, -0.0012, -0.0012, -0.0012, -0.0012, -0.0012, -0.0012, -0.0012,\n",
      "         -0.0012, -0.0012, -0.0012, -0.0012, -0.0012, -0.0012, -0.0012, -0.0012,\n",
      "         -0.0012, -0.0012, -0.0012, -0.0012, -0.0012, -0.0012, -0.0012, -0.0012,\n",
      "         -0.0012, -0.0012, -0.0012, -0.0012, -0.0012, -0.0012, -0.0012, -0.0012,\n",
      "         -0.0012, -0.0012, -0.0012, -0.0012, -0.0012, -0.0012, -0.0012, -0.0012,\n",
      "         -0.0012, -0.0012, -0.0012, -0.0012, -0.0012, -0.0012, -0.0012, -0.0012,\n",
      "         -0.0012, -0.0012],\n",
      "        [-0.0130, -0.0130, -0.0130, -0.0130, -0.0130, -0.0130, -0.0130, -0.0130,\n",
      "         -0.0130, -0.0130, -0.0130, -0.0130, -0.0130, -0.0130, -0.0130, -0.0130,\n",
      "         -0.0130, -0.0130, -0.0130, -0.0130, -0.0130, -0.0130, -0.0130, -0.0130,\n",
      "         -0.0130, -0.0130, -0.0130, -0.0130, -0.0130, -0.0130, -0.0130, -0.0130,\n",
      "         -0.0130, -0.0130, -0.0130, -0.0130, -0.0130, -0.0130, -0.0130, -0.0130,\n",
      "         -0.0130, -0.0130, -0.0130, -0.0130, -0.0130, -0.0130, -0.0130, -0.0130,\n",
      "         -0.0130, -0.0130]], device='cuda:0', grad_fn=<SelectBackward0>)\n"
     ]
    },
    {
     "name": "stderr",
     "output_type": "stream",
     "text": [
      "0.00008464:   7%|▋         | 7/100 [09:25<1:52:44, 72.74s/it]"
     ]
    },
    {
     "name": "stdout",
     "output_type": "stream",
     "text": [
      "tensor([1., 1.], device='cuda:0') tensor([[-0.0072, -0.0072, -0.0072, -0.0072, -0.0072, -0.0072, -0.0072, -0.0072,\n",
      "         -0.0072, -0.0072, -0.0072, -0.0072, -0.0072, -0.0072, -0.0072, -0.0072,\n",
      "         -0.0072, -0.0072, -0.0072, -0.0072, -0.0072, -0.0072, -0.0072, -0.0072,\n",
      "         -0.0072, -0.0072, -0.0072, -0.0072, -0.0072, -0.0072, -0.0072, -0.0072,\n",
      "         -0.0072, -0.0072, -0.0072, -0.0072, -0.0072, -0.0072, -0.0072, -0.0072,\n",
      "         -0.0072, -0.0072, -0.0072, -0.0072, -0.0072, -0.0072, -0.0072, -0.0072,\n",
      "         -0.0072, -0.0072],\n",
      "        [-0.0060, -0.0060, -0.0060, -0.0060, -0.0060, -0.0060, -0.0060, -0.0060,\n",
      "         -0.0060, -0.0060, -0.0060, -0.0060, -0.0060, -0.0060, -0.0060, -0.0060,\n",
      "         -0.0060, -0.0060, -0.0060, -0.0060, -0.0060, -0.0060, -0.0060, -0.0060,\n",
      "         -0.0060, -0.0060, -0.0060, -0.0060, -0.0060, -0.0060, -0.0060, -0.0060,\n",
      "         -0.0060, -0.0060, -0.0060, -0.0060, -0.0060, -0.0060, -0.0060, -0.0060,\n",
      "         -0.0060, -0.0060, -0.0060, -0.0060, -0.0060, -0.0060, -0.0060, -0.0060,\n",
      "         -0.0060, -0.0060]], device='cuda:0', grad_fn=<SelectBackward0>)\n"
     ]
    },
    {
     "name": "stderr",
     "output_type": "stream",
     "text": [
      "0.00004386:   7%|▋         | 7/100 [09:27<1:52:44, 72.74s/it]"
     ]
    },
    {
     "name": "stdout",
     "output_type": "stream",
     "text": [
      "tensor([1., 1.], device='cuda:0') tensor([[ 0.0015,  0.0015,  0.0015,  0.0015,  0.0015,  0.0015,  0.0015,  0.0015,\n",
      "          0.0015,  0.0015,  0.0015,  0.0015,  0.0015,  0.0015,  0.0015,  0.0015,\n",
      "          0.0015,  0.0015,  0.0015,  0.0015,  0.0015,  0.0015,  0.0015,  0.0015,\n",
      "          0.0015,  0.0015,  0.0015,  0.0015,  0.0015,  0.0015,  0.0015,  0.0015,\n",
      "          0.0015,  0.0015,  0.0015,  0.0015,  0.0015,  0.0015,  0.0015,  0.0015,\n",
      "          0.0015,  0.0015,  0.0015,  0.0015,  0.0015,  0.0015,  0.0015,  0.0015,\n",
      "          0.0015,  0.0015],\n",
      "        [-0.0108, -0.0108, -0.0108, -0.0108, -0.0108, -0.0108, -0.0108, -0.0108,\n",
      "         -0.0108, -0.0108, -0.0108, -0.0108, -0.0108, -0.0108, -0.0108, -0.0108,\n",
      "         -0.0108, -0.0108, -0.0108, -0.0108, -0.0108, -0.0108, -0.0108, -0.0108,\n",
      "         -0.0108, -0.0108, -0.0108, -0.0108, -0.0108, -0.0108, -0.0108, -0.0108,\n",
      "         -0.0108, -0.0108, -0.0108, -0.0108, -0.0108, -0.0108, -0.0108, -0.0108,\n",
      "         -0.0108, -0.0108, -0.0108, -0.0108, -0.0108, -0.0108, -0.0108, -0.0108,\n",
      "         -0.0108, -0.0108]], device='cuda:0', grad_fn=<SelectBackward0>)\n"
     ]
    },
    {
     "name": "stderr",
     "output_type": "stream",
     "text": [
      "0.00005915:   7%|▋         | 7/100 [09:28<1:52:44, 72.74s/it]"
     ]
    },
    {
     "name": "stdout",
     "output_type": "stream",
     "text": [
      "tensor([1., 1.], device='cuda:0') tensor([[ 0.0081,  0.0081,  0.0081,  0.0081,  0.0081,  0.0081,  0.0081,  0.0081,\n",
      "          0.0081,  0.0081,  0.0081,  0.0081,  0.0081,  0.0081,  0.0081,  0.0081,\n",
      "          0.0081,  0.0081,  0.0081,  0.0081,  0.0081,  0.0081,  0.0081,  0.0081,\n",
      "          0.0081,  0.0081,  0.0081,  0.0081,  0.0081,  0.0081,  0.0081,  0.0081,\n",
      "          0.0081,  0.0081,  0.0081,  0.0081,  0.0081,  0.0081,  0.0081,  0.0081,\n",
      "          0.0081,  0.0081,  0.0081,  0.0081,  0.0081,  0.0081,  0.0081,  0.0081,\n",
      "          0.0081,  0.0081],\n",
      "        [-0.0114, -0.0114, -0.0114, -0.0114, -0.0114, -0.0114, -0.0114, -0.0114,\n",
      "         -0.0114, -0.0114, -0.0114, -0.0114, -0.0114, -0.0114, -0.0114, -0.0114,\n",
      "         -0.0114, -0.0114, -0.0114, -0.0114, -0.0114, -0.0114, -0.0114, -0.0114,\n",
      "         -0.0114, -0.0114, -0.0114, -0.0114, -0.0114, -0.0114, -0.0114, -0.0114,\n",
      "         -0.0114, -0.0114, -0.0114, -0.0114, -0.0114, -0.0114, -0.0114, -0.0114,\n",
      "         -0.0114, -0.0114, -0.0114, -0.0114, -0.0114, -0.0114, -0.0114, -0.0114,\n",
      "         -0.0114, -0.0114]], device='cuda:0', grad_fn=<SelectBackward0>)\n"
     ]
    },
    {
     "name": "stderr",
     "output_type": "stream",
     "text": [
      "0.00009742:   7%|▋         | 7/100 [09:30<1:52:44, 72.74s/it]"
     ]
    },
    {
     "name": "stdout",
     "output_type": "stream",
     "text": [
      "tensor([1., 1.], device='cuda:0') tensor([[ 0.0125,  0.0125,  0.0125,  0.0125,  0.0125,  0.0125,  0.0125,  0.0125,\n",
      "          0.0125,  0.0125,  0.0125,  0.0125,  0.0125,  0.0125,  0.0125,  0.0125,\n",
      "          0.0125,  0.0125,  0.0125,  0.0125,  0.0125,  0.0125,  0.0125,  0.0125,\n",
      "          0.0125,  0.0125,  0.0125,  0.0125,  0.0125,  0.0125,  0.0125,  0.0125,\n",
      "          0.0125,  0.0125,  0.0125,  0.0125,  0.0125,  0.0125,  0.0125,  0.0125,\n",
      "          0.0125,  0.0125,  0.0125,  0.0125,  0.0125,  0.0125,  0.0125,  0.0125,\n",
      "          0.0125,  0.0125],\n",
      "        [-0.0092, -0.0092, -0.0092, -0.0092, -0.0092, -0.0092, -0.0092, -0.0092,\n",
      "         -0.0092, -0.0092, -0.0092, -0.0092, -0.0092, -0.0092, -0.0092, -0.0092,\n",
      "         -0.0092, -0.0092, -0.0092, -0.0092, -0.0092, -0.0092, -0.0092, -0.0092,\n",
      "         -0.0092, -0.0092, -0.0092, -0.0092, -0.0092, -0.0092, -0.0092, -0.0092,\n",
      "         -0.0092, -0.0092, -0.0092, -0.0092, -0.0092, -0.0092, -0.0092, -0.0092,\n",
      "         -0.0092, -0.0092, -0.0092, -0.0092, -0.0092, -0.0092, -0.0092, -0.0092,\n",
      "         -0.0092, -0.0092]], device='cuda:0', grad_fn=<SelectBackward0>)\n"
     ]
    },
    {
     "name": "stderr",
     "output_type": "stream",
     "text": [
      "0.00012002:   7%|▋         | 7/100 [09:32<1:52:44, 72.74s/it]"
     ]
    },
    {
     "name": "stdout",
     "output_type": "stream",
     "text": [
      "tensor([1., 1.], device='cuda:0') tensor([[-0.0050, -0.0050, -0.0050, -0.0050, -0.0050, -0.0050, -0.0050, -0.0050,\n",
      "         -0.0050, -0.0050, -0.0050, -0.0050, -0.0050, -0.0050, -0.0050, -0.0050,\n",
      "         -0.0050, -0.0050, -0.0050, -0.0050, -0.0050, -0.0050, -0.0050, -0.0050,\n",
      "         -0.0050, -0.0050, -0.0050, -0.0050, -0.0050, -0.0050, -0.0050, -0.0050,\n",
      "         -0.0050, -0.0050, -0.0050, -0.0050, -0.0050, -0.0050, -0.0050, -0.0050,\n",
      "         -0.0050, -0.0050, -0.0050, -0.0050, -0.0050, -0.0050, -0.0050, -0.0050,\n",
      "         -0.0050, -0.0050],\n",
      "        [ 0.0140,  0.0140,  0.0140,  0.0140,  0.0140,  0.0140,  0.0140,  0.0140,\n",
      "          0.0140,  0.0140,  0.0140,  0.0140,  0.0140,  0.0140,  0.0140,  0.0140,\n",
      "          0.0140,  0.0140,  0.0140,  0.0140,  0.0140,  0.0140,  0.0140,  0.0140,\n",
      "          0.0140,  0.0140,  0.0140,  0.0140,  0.0140,  0.0140,  0.0140,  0.0140,\n",
      "          0.0140,  0.0140,  0.0140,  0.0140,  0.0140,  0.0140,  0.0140,  0.0140,\n",
      "          0.0140,  0.0140,  0.0140,  0.0140,  0.0140,  0.0140,  0.0140,  0.0140,\n",
      "          0.0140,  0.0140]], device='cuda:0', grad_fn=<SelectBackward0>)\n"
     ]
    },
    {
     "name": "stderr",
     "output_type": "stream",
     "text": [
      "0.00011038:   8%|▊         | 8/100 [09:33<1:54:20, 74.57s/it]"
     ]
    },
    {
     "name": "stdout",
     "output_type": "stream",
     "text": [
      "tensor([1., 1.], device='cuda:0') tensor([[ 0.0125,  0.0125,  0.0125,  0.0125,  0.0125,  0.0125,  0.0125,  0.0125,\n",
      "          0.0125,  0.0125,  0.0125,  0.0125,  0.0125,  0.0125,  0.0125,  0.0125,\n",
      "          0.0125,  0.0125,  0.0125,  0.0125,  0.0125,  0.0125,  0.0125,  0.0125,\n",
      "          0.0125,  0.0125,  0.0125,  0.0125,  0.0125,  0.0125,  0.0125,  0.0125,\n",
      "          0.0125,  0.0125,  0.0125,  0.0125,  0.0125,  0.0125,  0.0125,  0.0125,\n",
      "          0.0125,  0.0125,  0.0125,  0.0125,  0.0125,  0.0125,  0.0125,  0.0125,\n",
      "          0.0125,  0.0125],\n",
      "        [-0.0002, -0.0002, -0.0002, -0.0002, -0.0002, -0.0002, -0.0002, -0.0002,\n",
      "         -0.0002, -0.0002, -0.0002, -0.0002, -0.0002, -0.0002, -0.0002, -0.0002,\n",
      "         -0.0002, -0.0002, -0.0002, -0.0002, -0.0002, -0.0002, -0.0002, -0.0002,\n",
      "         -0.0002, -0.0002, -0.0002, -0.0002, -0.0002, -0.0002, -0.0002, -0.0002,\n",
      "         -0.0002, -0.0002, -0.0002, -0.0002, -0.0002, -0.0002, -0.0002, -0.0002,\n",
      "         -0.0002, -0.0002, -0.0002, -0.0002, -0.0002, -0.0002, -0.0002, -0.0002,\n",
      "         -0.0002, -0.0002]], device='cuda:0', grad_fn=<SelectBackward0>)\n"
     ]
    },
    {
     "name": "stderr",
     "output_type": "stream",
     "text": [
      "0.00007837:   8%|▊         | 8/100 [09:35<1:54:20, 74.57s/it]"
     ]
    },
    {
     "name": "stdout",
     "output_type": "stream",
     "text": [
      "tensor([1., 1.], device='cuda:0') tensor([[0.0087, 0.0087, 0.0087, 0.0087, 0.0087, 0.0087, 0.0087, 0.0087, 0.0087,\n",
      "         0.0087, 0.0087, 0.0087, 0.0087, 0.0087, 0.0087, 0.0087, 0.0087, 0.0087,\n",
      "         0.0087, 0.0087, 0.0087, 0.0087, 0.0087, 0.0087, 0.0087, 0.0087, 0.0087,\n",
      "         0.0087, 0.0087, 0.0087, 0.0087, 0.0087, 0.0087, 0.0087, 0.0087, 0.0087,\n",
      "         0.0087, 0.0087, 0.0087, 0.0087, 0.0087, 0.0087, 0.0087, 0.0087, 0.0087,\n",
      "         0.0087, 0.0087, 0.0087, 0.0087, 0.0087],\n",
      "        [0.0041, 0.0041, 0.0041, 0.0041, 0.0041, 0.0041, 0.0041, 0.0041, 0.0041,\n",
      "         0.0041, 0.0041, 0.0041, 0.0041, 0.0041, 0.0041, 0.0041, 0.0041, 0.0041,\n",
      "         0.0041, 0.0041, 0.0041, 0.0041, 0.0041, 0.0041, 0.0041, 0.0041, 0.0041,\n",
      "         0.0041, 0.0041, 0.0041, 0.0041, 0.0041, 0.0041, 0.0041, 0.0041, 0.0041,\n",
      "         0.0041, 0.0041, 0.0041, 0.0041, 0.0041, 0.0041, 0.0041, 0.0041, 0.0041,\n",
      "         0.0041, 0.0041, 0.0041, 0.0041, 0.0041]], device='cuda:0',\n",
      "       grad_fn=<SelectBackward0>)\n"
     ]
    },
    {
     "name": "stderr",
     "output_type": "stream",
     "text": [
      "0.00004593:   8%|▊         | 8/100 [09:36<1:54:20, 74.57s/it]"
     ]
    },
    {
     "name": "stdout",
     "output_type": "stream",
     "text": [
      "tensor([1., 1.], device='cuda:0') tensor([[0.0069, 0.0069, 0.0069, 0.0069, 0.0069, 0.0069, 0.0069, 0.0069, 0.0069,\n",
      "         0.0069, 0.0069, 0.0069, 0.0069, 0.0069, 0.0069, 0.0069, 0.0069, 0.0069,\n",
      "         0.0069, 0.0069, 0.0069, 0.0069, 0.0069, 0.0069, 0.0069, 0.0069, 0.0069,\n",
      "         0.0069, 0.0069, 0.0069, 0.0069, 0.0069, 0.0069, 0.0069, 0.0069, 0.0069,\n",
      "         0.0069, 0.0069, 0.0069, 0.0069, 0.0069, 0.0069, 0.0069, 0.0069, 0.0069,\n",
      "         0.0069, 0.0069, 0.0069, 0.0069, 0.0069],\n",
      "        [0.0034, 0.0034, 0.0034, 0.0034, 0.0034, 0.0034, 0.0034, 0.0034, 0.0034,\n",
      "         0.0034, 0.0034, 0.0034, 0.0034, 0.0034, 0.0034, 0.0034, 0.0034, 0.0034,\n",
      "         0.0034, 0.0034, 0.0034, 0.0034, 0.0034, 0.0034, 0.0034, 0.0034, 0.0034,\n",
      "         0.0034, 0.0034, 0.0034, 0.0034, 0.0034, 0.0034, 0.0034, 0.0034, 0.0034,\n",
      "         0.0034, 0.0034, 0.0034, 0.0034, 0.0034, 0.0034, 0.0034, 0.0034, 0.0034,\n",
      "         0.0034, 0.0034, 0.0034, 0.0034, 0.0034]], device='cuda:0',\n",
      "       grad_fn=<SelectBackward0>)\n"
     ]
    },
    {
     "name": "stderr",
     "output_type": "stream",
     "text": [
      "0.00002957:   8%|▊         | 8/100 [09:38<1:54:20, 74.57s/it]"
     ]
    },
    {
     "name": "stdout",
     "output_type": "stream",
     "text": [
      "tensor([1., 1.], device='cuda:0') tensor([[ 0.0077,  0.0077,  0.0077,  0.0077,  0.0077,  0.0077,  0.0077,  0.0077,\n",
      "          0.0077,  0.0077,  0.0077,  0.0077,  0.0077,  0.0077,  0.0077,  0.0077,\n",
      "          0.0077,  0.0077,  0.0077,  0.0077,  0.0077,  0.0077,  0.0077,  0.0077,\n",
      "          0.0077,  0.0077,  0.0077,  0.0077,  0.0077,  0.0077,  0.0077,  0.0077,\n",
      "          0.0077,  0.0077,  0.0077,  0.0077,  0.0077,  0.0077,  0.0077,  0.0077,\n",
      "          0.0077,  0.0077,  0.0077,  0.0077,  0.0077,  0.0077,  0.0077,  0.0077,\n",
      "          0.0077,  0.0077],\n",
      "        [-0.0021, -0.0021, -0.0021, -0.0021, -0.0021, -0.0021, -0.0021, -0.0021,\n",
      "         -0.0021, -0.0021, -0.0021, -0.0021, -0.0021, -0.0021, -0.0021, -0.0021,\n",
      "         -0.0021, -0.0021, -0.0021, -0.0021, -0.0021, -0.0021, -0.0021, -0.0021,\n",
      "         -0.0021, -0.0021, -0.0021, -0.0021, -0.0021, -0.0021, -0.0021, -0.0021,\n",
      "         -0.0021, -0.0021, -0.0021, -0.0021, -0.0021, -0.0021, -0.0021, -0.0021,\n",
      "         -0.0021, -0.0021, -0.0021, -0.0021, -0.0021, -0.0021, -0.0021, -0.0021,\n",
      "         -0.0021, -0.0021]], device='cuda:0', grad_fn=<SelectBackward0>)\n"
     ]
    },
    {
     "name": "stderr",
     "output_type": "stream",
     "text": [
      "0.00003180:   8%|▊         | 8/100 [09:40<1:54:20, 74.57s/it]"
     ]
    },
    {
     "name": "stdout",
     "output_type": "stream",
     "text": [
      "tensor([1., 1.], device='cuda:0') tensor([[-0.0067, -0.0067, -0.0067, -0.0067, -0.0067, -0.0067, -0.0067, -0.0067,\n",
      "         -0.0067, -0.0067, -0.0067, -0.0067, -0.0067, -0.0067, -0.0067, -0.0067,\n",
      "         -0.0067, -0.0067, -0.0067, -0.0067, -0.0067, -0.0067, -0.0067, -0.0067,\n",
      "         -0.0067, -0.0067, -0.0067, -0.0067, -0.0067, -0.0067, -0.0067, -0.0067,\n",
      "         -0.0067, -0.0067, -0.0067, -0.0067, -0.0067, -0.0067, -0.0067, -0.0067,\n",
      "         -0.0067, -0.0067, -0.0067, -0.0067, -0.0067, -0.0067, -0.0067, -0.0067,\n",
      "         -0.0067, -0.0067],\n",
      "        [ 0.0065,  0.0065,  0.0065,  0.0065,  0.0065,  0.0065,  0.0065,  0.0065,\n",
      "          0.0065,  0.0065,  0.0065,  0.0065,  0.0065,  0.0065,  0.0065,  0.0065,\n",
      "          0.0065,  0.0065,  0.0065,  0.0065,  0.0065,  0.0065,  0.0065,  0.0065,\n",
      "          0.0065,  0.0065,  0.0065,  0.0065,  0.0065,  0.0065,  0.0065,  0.0065,\n",
      "          0.0065,  0.0065,  0.0065,  0.0065,  0.0065,  0.0065,  0.0065,  0.0065,\n",
      "          0.0065,  0.0065,  0.0065,  0.0065,  0.0065,  0.0065,  0.0065,  0.0065,\n",
      "          0.0065,  0.0065]], device='cuda:0', grad_fn=<SelectBackward0>)\n"
     ]
    },
    {
     "name": "stderr",
     "output_type": "stream",
     "text": [
      "0.00004367:   8%|▊         | 8/100 [09:42<1:54:20, 74.57s/it]"
     ]
    },
    {
     "name": "stdout",
     "output_type": "stream",
     "text": [
      "tensor([1., 1.], device='cuda:0') tensor([[ 0.0039,  0.0039,  0.0039,  0.0039,  0.0039,  0.0039,  0.0039,  0.0039,\n",
      "          0.0039,  0.0039,  0.0039,  0.0039,  0.0039,  0.0039,  0.0039,  0.0039,\n",
      "          0.0039,  0.0039,  0.0039,  0.0039,  0.0039,  0.0039,  0.0039,  0.0039,\n",
      "          0.0039,  0.0039,  0.0039,  0.0039,  0.0039,  0.0039,  0.0039,  0.0039,\n",
      "          0.0039,  0.0039,  0.0039,  0.0039,  0.0039,  0.0039,  0.0039,  0.0039,\n",
      "          0.0039,  0.0039,  0.0039,  0.0039,  0.0039,  0.0039,  0.0039,  0.0039,\n",
      "          0.0039,  0.0039],\n",
      "        [-0.0095, -0.0095, -0.0095, -0.0095, -0.0095, -0.0095, -0.0095, -0.0095,\n",
      "         -0.0095, -0.0095, -0.0095, -0.0095, -0.0095, -0.0095, -0.0095, -0.0095,\n",
      "         -0.0095, -0.0095, -0.0095, -0.0095, -0.0095, -0.0095, -0.0095, -0.0095,\n",
      "         -0.0095, -0.0095, -0.0095, -0.0095, -0.0095, -0.0095, -0.0095, -0.0095,\n",
      "         -0.0095, -0.0095, -0.0095, -0.0095, -0.0095, -0.0095, -0.0095, -0.0095,\n",
      "         -0.0095, -0.0095, -0.0095, -0.0095, -0.0095, -0.0095, -0.0095, -0.0095,\n",
      "         -0.0095, -0.0095]], device='cuda:0', grad_fn=<SelectBackward0>)\n"
     ]
    },
    {
     "name": "stderr",
     "output_type": "stream",
     "text": [
      "0.00005296:   8%|▊         | 8/100 [09:43<1:54:20, 74.57s/it]"
     ]
    },
    {
     "name": "stdout",
     "output_type": "stream",
     "text": [
      "tensor([1., 1.], device='cuda:0') tensor([[-0.0102, -0.0102, -0.0102, -0.0102, -0.0102, -0.0102, -0.0102, -0.0102,\n",
      "         -0.0102, -0.0102, -0.0102, -0.0102, -0.0102, -0.0102, -0.0102, -0.0102,\n",
      "         -0.0102, -0.0102, -0.0102, -0.0102, -0.0102, -0.0102, -0.0102, -0.0102,\n",
      "         -0.0102, -0.0102, -0.0102, -0.0102, -0.0102, -0.0102, -0.0102, -0.0102,\n",
      "         -0.0102, -0.0102, -0.0102, -0.0102, -0.0102, -0.0102, -0.0102, -0.0102,\n",
      "         -0.0102, -0.0102, -0.0102, -0.0102, -0.0102, -0.0102, -0.0102, -0.0102,\n",
      "         -0.0102, -0.0102],\n",
      "        [ 0.0006,  0.0006,  0.0006,  0.0006,  0.0006,  0.0006,  0.0006,  0.0006,\n",
      "          0.0006,  0.0006,  0.0006,  0.0006,  0.0006,  0.0006,  0.0006,  0.0006,\n",
      "          0.0006,  0.0006,  0.0006,  0.0006,  0.0006,  0.0006,  0.0006,  0.0006,\n",
      "          0.0006,  0.0006,  0.0006,  0.0006,  0.0006,  0.0006,  0.0006,  0.0006,\n",
      "          0.0006,  0.0006,  0.0006,  0.0006,  0.0006,  0.0006,  0.0006,  0.0006,\n",
      "          0.0006,  0.0006,  0.0006,  0.0006,  0.0006,  0.0006,  0.0006,  0.0006,\n",
      "          0.0006,  0.0006]], device='cuda:0', grad_fn=<SelectBackward0>)\n"
     ]
    },
    {
     "name": "stderr",
     "output_type": "stream",
     "text": [
      "0.00005179:   8%|▊         | 8/100 [09:45<1:54:20, 74.57s/it]"
     ]
    },
    {
     "name": "stdout",
     "output_type": "stream",
     "text": [
      "tensor([1., 1.], device='cuda:0') tensor([[-0.0086, -0.0086, -0.0086, -0.0086, -0.0086, -0.0086, -0.0086, -0.0086,\n",
      "         -0.0086, -0.0086, -0.0086, -0.0086, -0.0086, -0.0086, -0.0086, -0.0086,\n",
      "         -0.0086, -0.0086, -0.0086, -0.0086, -0.0086, -0.0086, -0.0086, -0.0086,\n",
      "         -0.0086, -0.0086, -0.0086, -0.0086, -0.0086, -0.0086, -0.0086, -0.0086,\n",
      "         -0.0086, -0.0086, -0.0086, -0.0086, -0.0086, -0.0086, -0.0086, -0.0086,\n",
      "         -0.0086, -0.0086, -0.0086, -0.0086, -0.0086, -0.0086, -0.0086, -0.0086,\n",
      "         -0.0086, -0.0086],\n",
      "        [-0.0024, -0.0024, -0.0024, -0.0024, -0.0024, -0.0024, -0.0024, -0.0024,\n",
      "         -0.0024, -0.0024, -0.0024, -0.0024, -0.0024, -0.0024, -0.0024, -0.0024,\n",
      "         -0.0024, -0.0024, -0.0024, -0.0024, -0.0024, -0.0024, -0.0024, -0.0024,\n",
      "         -0.0024, -0.0024, -0.0024, -0.0024, -0.0024, -0.0024, -0.0024, -0.0024,\n",
      "         -0.0024, -0.0024, -0.0024, -0.0024, -0.0024, -0.0024, -0.0024, -0.0024,\n",
      "         -0.0024, -0.0024, -0.0024, -0.0024, -0.0024, -0.0024, -0.0024, -0.0024,\n",
      "         -0.0024, -0.0024]], device='cuda:0', grad_fn=<SelectBackward0>)\n"
     ]
    },
    {
     "name": "stderr",
     "output_type": "stream",
     "text": [
      "0.00004015:   8%|▊         | 8/100 [09:46<1:54:20, 74.57s/it]"
     ]
    },
    {
     "name": "stdout",
     "output_type": "stream",
     "text": [
      "tensor([1., 1.], device='cuda:0') tensor([[-0.0055, -0.0055, -0.0055, -0.0055, -0.0055, -0.0055, -0.0055, -0.0055,\n",
      "         -0.0055, -0.0055, -0.0055, -0.0055, -0.0055, -0.0055, -0.0055, -0.0055,\n",
      "         -0.0055, -0.0055, -0.0055, -0.0055, -0.0055, -0.0055, -0.0055, -0.0055,\n",
      "         -0.0055, -0.0055, -0.0055, -0.0055, -0.0055, -0.0055, -0.0055, -0.0055,\n",
      "         -0.0055, -0.0055, -0.0055, -0.0055, -0.0055, -0.0055, -0.0055, -0.0055,\n",
      "         -0.0055, -0.0055, -0.0055, -0.0055, -0.0055, -0.0055, -0.0055, -0.0055,\n",
      "         -0.0055, -0.0055],\n",
      "        [-0.0044, -0.0044, -0.0044, -0.0044, -0.0044, -0.0044, -0.0044, -0.0044,\n",
      "         -0.0044, -0.0044, -0.0044, -0.0044, -0.0044, -0.0044, -0.0044, -0.0044,\n",
      "         -0.0044, -0.0044, -0.0044, -0.0044, -0.0044, -0.0044, -0.0044, -0.0044,\n",
      "         -0.0044, -0.0044, -0.0044, -0.0044, -0.0044, -0.0044, -0.0044, -0.0044,\n",
      "         -0.0044, -0.0044, -0.0044, -0.0044, -0.0044, -0.0044, -0.0044, -0.0044,\n",
      "         -0.0044, -0.0044, -0.0044, -0.0044, -0.0044, -0.0044, -0.0044, -0.0044,\n",
      "         -0.0044, -0.0044]], device='cuda:0', grad_fn=<SelectBackward0>)\n"
     ]
    },
    {
     "name": "stderr",
     "output_type": "stream",
     "text": [
      "0.00002473:   8%|▊         | 8/100 [09:48<1:54:20, 74.57s/it]"
     ]
    },
    {
     "name": "stdout",
     "output_type": "stream",
     "text": [
      "tensor([1., 1.], device='cuda:0') tensor([[-0.0015, -0.0015, -0.0015, -0.0015, -0.0015, -0.0015, -0.0015, -0.0015,\n",
      "         -0.0015, -0.0015, -0.0015, -0.0015, -0.0015, -0.0015, -0.0015, -0.0015,\n",
      "         -0.0015, -0.0015, -0.0015, -0.0015, -0.0015, -0.0015, -0.0015, -0.0015,\n",
      "         -0.0015, -0.0015, -0.0015, -0.0015, -0.0015, -0.0015, -0.0015, -0.0015,\n",
      "         -0.0015, -0.0015, -0.0015, -0.0015, -0.0015, -0.0015, -0.0015, -0.0015,\n",
      "         -0.0015, -0.0015, -0.0015, -0.0015, -0.0015, -0.0015, -0.0015, -0.0015,\n",
      "         -0.0015, -0.0015],\n",
      "        [-0.0051, -0.0051, -0.0051, -0.0051, -0.0051, -0.0051, -0.0051, -0.0051,\n",
      "         -0.0051, -0.0051, -0.0051, -0.0051, -0.0051, -0.0051, -0.0051, -0.0051,\n",
      "         -0.0051, -0.0051, -0.0051, -0.0051, -0.0051, -0.0051, -0.0051, -0.0051,\n",
      "         -0.0051, -0.0051, -0.0051, -0.0051, -0.0051, -0.0051, -0.0051, -0.0051,\n",
      "         -0.0051, -0.0051, -0.0051, -0.0051, -0.0051, -0.0051, -0.0051, -0.0051,\n",
      "         -0.0051, -0.0051, -0.0051, -0.0051, -0.0051, -0.0051, -0.0051, -0.0051,\n",
      "         -0.0051, -0.0051]], device='cuda:0', grad_fn=<SelectBackward0>)\n"
     ]
    },
    {
     "name": "stderr",
     "output_type": "stream",
     "text": [
      "0.00001404:   8%|▊         | 8/100 [09:49<1:54:20, 74.57s/it]"
     ]
    },
    {
     "name": "stdout",
     "output_type": "stream",
     "text": [
      "tensor([1., 1.], device='cuda:0') tensor([[ 0.0025,  0.0025,  0.0025,  0.0025,  0.0025,  0.0025,  0.0025,  0.0025,\n",
      "          0.0025,  0.0025,  0.0025,  0.0025,  0.0025,  0.0025,  0.0025,  0.0025,\n",
      "          0.0025,  0.0025,  0.0025,  0.0025,  0.0025,  0.0025,  0.0025,  0.0025,\n",
      "          0.0025,  0.0025,  0.0025,  0.0025,  0.0025,  0.0025,  0.0025,  0.0025,\n",
      "          0.0025,  0.0025,  0.0025,  0.0025,  0.0025,  0.0025,  0.0025,  0.0025,\n",
      "          0.0025,  0.0025,  0.0025,  0.0025,  0.0025,  0.0025,  0.0025,  0.0025,\n",
      "          0.0025,  0.0025],\n",
      "        [-0.0044, -0.0044, -0.0044, -0.0044, -0.0044, -0.0044, -0.0044, -0.0044,\n",
      "         -0.0044, -0.0044, -0.0044, -0.0044, -0.0044, -0.0044, -0.0044, -0.0044,\n",
      "         -0.0044, -0.0044, -0.0044, -0.0044, -0.0044, -0.0044, -0.0044, -0.0044,\n",
      "         -0.0044, -0.0044, -0.0044, -0.0044, -0.0044, -0.0044, -0.0044, -0.0044,\n",
      "         -0.0044, -0.0044, -0.0044, -0.0044, -0.0044, -0.0044, -0.0044, -0.0044,\n",
      "         -0.0044, -0.0044, -0.0044, -0.0044, -0.0044, -0.0044, -0.0044, -0.0044,\n",
      "         -0.0044, -0.0044]], device='cuda:0', grad_fn=<SelectBackward0>)\n"
     ]
    },
    {
     "name": "stderr",
     "output_type": "stream",
     "text": [
      "0.00001291:   8%|▊         | 8/100 [09:51<1:54:20, 74.57s/it]"
     ]
    },
    {
     "name": "stdout",
     "output_type": "stream",
     "text": [
      "tensor([1., 1.], device='cuda:0') tensor([[-0.0027, -0.0027, -0.0027, -0.0027, -0.0027, -0.0010, -0.0027, -0.0027,\n",
      "         -0.0027, -0.0010, -0.0027, -0.0027, -0.0027, -0.0027, -0.0027, -0.0027,\n",
      "         -0.0027, -0.0027, -0.0027, -0.0027, -0.0027, -0.0027, -0.0010, -0.0010,\n",
      "         -0.0027, -0.0027, -0.0027, -0.0027, -0.0010, -0.0027, -0.0027, -0.0027,\n",
      "         -0.0027, -0.0010, -0.0010, -0.0027, -0.0027, -0.0027, -0.0027, -0.0027,\n",
      "         -0.0027, -0.0027, -0.0027, -0.0027, -0.0027, -0.0027, -0.0027, -0.0027,\n",
      "         -0.0027, -0.0027],\n",
      "        [ 0.0056,  0.0056,  0.0056,  0.0056,  0.0056,  0.0039,  0.0056,  0.0056,\n",
      "          0.0056,  0.0039,  0.0056,  0.0056,  0.0056,  0.0056,  0.0056,  0.0056,\n",
      "          0.0056,  0.0056,  0.0056,  0.0056,  0.0056,  0.0056,  0.0039,  0.0039,\n",
      "          0.0056,  0.0056,  0.0056,  0.0056,  0.0039,  0.0056,  0.0056,  0.0056,\n",
      "          0.0056,  0.0039,  0.0039,  0.0056,  0.0056,  0.0056,  0.0056,  0.0056,\n",
      "          0.0056,  0.0056,  0.0056,  0.0056,  0.0056,  0.0056,  0.0056,  0.0056,\n",
      "          0.0056,  0.0056]], device='cuda:0', grad_fn=<SelectBackward0>)\n"
     ]
    },
    {
     "name": "stderr",
     "output_type": "stream",
     "text": [
      "0.00001783:   8%|▊         | 8/100 [09:52<1:54:20, 74.57s/it]"
     ]
    },
    {
     "name": "stdout",
     "output_type": "stream",
     "text": [
      "tensor([1., 1.], device='cuda:0') tensor([[0.0010, 0.0010, 0.0010, 0.0010, 0.0010, 0.0010, 0.0010, 0.0010, 0.0010,\n",
      "         0.0010, 0.0010, 0.0010, 0.0010, 0.0010, 0.0010, 0.0010, 0.0010, 0.0010,\n",
      "         0.0010, 0.0010, 0.0010, 0.0010, 0.0010, 0.0010, 0.0010, 0.0010, 0.0010,\n",
      "         0.0010, 0.0010, 0.0010, 0.0010, 0.0010, 0.0010, 0.0010, 0.0010, 0.0010,\n",
      "         0.0010, 0.0010, 0.0010, 0.0010, 0.0010, 0.0010, 0.0010, 0.0010, 0.0010,\n",
      "         0.0010, 0.0010, 0.0010, 0.0010, 0.0010],\n",
      "        [0.0056, 0.0056, 0.0056, 0.0056, 0.0056, 0.0056, 0.0056, 0.0056, 0.0056,\n",
      "         0.0056, 0.0056, 0.0056, 0.0056, 0.0056, 0.0056, 0.0056, 0.0056, 0.0056,\n",
      "         0.0056, 0.0056, 0.0056, 0.0056, 0.0056, 0.0056, 0.0056, 0.0056, 0.0056,\n",
      "         0.0056, 0.0056, 0.0056, 0.0056, 0.0056, 0.0056, 0.0056, 0.0056, 0.0056,\n",
      "         0.0056, 0.0056, 0.0056, 0.0056, 0.0056, 0.0056, 0.0056, 0.0056, 0.0056,\n",
      "         0.0056, 0.0056, 0.0056, 0.0056, 0.0056]], device='cuda:0',\n",
      "       grad_fn=<SelectBackward0>)\n"
     ]
    },
    {
     "name": "stderr",
     "output_type": "stream",
     "text": [
      "0.00001645:   8%|▊         | 8/100 [09:54<1:54:20, 74.57s/it]"
     ]
    },
    {
     "name": "stdout",
     "output_type": "stream",
     "text": [
      "tensor([1., 1.], device='cuda:0') tensor([[0.0060, 0.0060, 0.0060, 0.0060, 0.0060, 0.0060, 0.0060, 0.0060, 0.0060,\n",
      "         0.0060, 0.0060, 0.0060, 0.0060, 0.0060, 0.0060, 0.0060, 0.0060, 0.0060,\n",
      "         0.0060, 0.0060, 0.0060, 0.0060, 0.0060, 0.0060, 0.0060, 0.0060, 0.0060,\n",
      "         0.0060, 0.0060, 0.0060, 0.0060, 0.0060, 0.0060, 0.0060, 0.0060, 0.0060,\n",
      "         0.0060, 0.0060, 0.0060, 0.0060, 0.0060, 0.0060, 0.0060, 0.0060, 0.0060,\n",
      "         0.0060, 0.0060, 0.0060, 0.0060, 0.0060],\n",
      "        [0.0026, 0.0026, 0.0026, 0.0026, 0.0026, 0.0026, 0.0026, 0.0026, 0.0026,\n",
      "         0.0026, 0.0026, 0.0026, 0.0026, 0.0026, 0.0026, 0.0026, 0.0026, 0.0026,\n",
      "         0.0026, 0.0026, 0.0026, 0.0026, 0.0026, 0.0026, 0.0026, 0.0026, 0.0026,\n",
      "         0.0026, 0.0026, 0.0026, 0.0026, 0.0026, 0.0026, 0.0026, 0.0026, 0.0026,\n",
      "         0.0026, 0.0026, 0.0026, 0.0026, 0.0026, 0.0026, 0.0026, 0.0026, 0.0026,\n",
      "         0.0026, 0.0026, 0.0026, 0.0026, 0.0026]], device='cuda:0',\n",
      "       grad_fn=<SelectBackward0>)\n"
     ]
    },
    {
     "name": "stderr",
     "output_type": "stream",
     "text": [
      "0.00002119:   8%|▊         | 8/100 [09:56<1:54:20, 74.57s/it]"
     ]
    },
    {
     "name": "stdout",
     "output_type": "stream",
     "text": [
      "tensor([1., 1.], device='cuda:0') tensor([[0.0049, 0.0049, 0.0049, 0.0049, 0.0049, 0.0049, 0.0049, 0.0049, 0.0049,\n",
      "         0.0049, 0.0049, 0.0049, 0.0049, 0.0049, 0.0049, 0.0049, 0.0049, 0.0049,\n",
      "         0.0049, 0.0049, 0.0049, 0.0049, 0.0049, 0.0049, 0.0049, 0.0049, 0.0049,\n",
      "         0.0049, 0.0049, 0.0049, 0.0049, 0.0049, 0.0049, 0.0049, 0.0049, 0.0049,\n",
      "         0.0049, 0.0049, 0.0049, 0.0049, 0.0049, 0.0049, 0.0049, 0.0049, 0.0049,\n",
      "         0.0049, 0.0049, 0.0049, 0.0049, 0.0049],\n",
      "        [0.0033, 0.0033, 0.0033, 0.0033, 0.0033, 0.0033, 0.0033, 0.0033, 0.0033,\n",
      "         0.0033, 0.0033, 0.0033, 0.0033, 0.0033, 0.0033, 0.0033, 0.0033, 0.0033,\n",
      "         0.0033, 0.0033, 0.0033, 0.0033, 0.0033, 0.0033, 0.0033, 0.0033, 0.0033,\n",
      "         0.0033, 0.0033, 0.0033, 0.0033, 0.0033, 0.0033, 0.0033, 0.0033, 0.0033,\n",
      "         0.0033, 0.0033, 0.0033, 0.0033, 0.0033, 0.0033, 0.0033, 0.0033, 0.0033,\n",
      "         0.0033, 0.0033, 0.0033, 0.0033, 0.0033]], device='cuda:0',\n",
      "       grad_fn=<SelectBackward0>)\n"
     ]
    },
    {
     "name": "stderr",
     "output_type": "stream",
     "text": [
      "0.00001775:   8%|▊         | 8/100 [09:57<1:54:20, 74.57s/it]"
     ]
    },
    {
     "name": "stdout",
     "output_type": "stream",
     "text": [
      "tensor([1., 1.], device='cuda:0') tensor([[ 0.0277,  0.0277,  0.0277,  0.0277,  0.0277,  0.0277,  0.0277,  0.0277,\n",
      "          0.0277,  0.0277,  0.0277,  0.0277,  0.0277,  0.0277,  0.0277,  0.0277,\n",
      "          0.0277,  0.0277,  0.0277,  0.0277,  0.0277,  0.0277,  0.0277,  0.0277,\n",
      "          0.0277,  0.0277,  0.0277,  0.0277,  0.0277,  0.0277,  0.0277,  0.0277,\n",
      "          0.0277,  0.0277,  0.0277,  0.0277,  0.0277,  0.0277,  0.0277,  0.0277,\n",
      "          0.0277,  0.0277,  0.0277,  0.0277,  0.0277,  0.0277,  0.0277,  0.0277,\n",
      "          0.0277,  0.0277],\n",
      "        [-0.0216, -0.0216, -0.0216, -0.0216, -0.0216, -0.0216, -0.0216, -0.0216,\n",
      "         -0.0216, -0.0216, -0.0216, -0.0216, -0.0216, -0.0216, -0.0216, -0.0216,\n",
      "         -0.0216, -0.0216, -0.0216, -0.0216, -0.0216, -0.0216, -0.0216, -0.0216,\n",
      "         -0.0216, -0.0216, -0.0216, -0.0216, -0.0216, -0.0216, -0.0216, -0.0216,\n",
      "         -0.0216, -0.0216, -0.0216, -0.0216, -0.0216, -0.0216, -0.0216, -0.0216,\n",
      "         -0.0216, -0.0216, -0.0216, -0.0216, -0.0216, -0.0216, -0.0216, -0.0216,\n",
      "         -0.0216, -0.0216]], device='cuda:0', grad_fn=<SelectBackward0>)\n"
     ]
    },
    {
     "name": "stderr",
     "output_type": "stream",
     "text": [
      "0.00061558:   8%|▊         | 8/100 [09:59<1:54:20, 74.57s/it]"
     ]
    },
    {
     "name": "stdout",
     "output_type": "stream",
     "text": [
      "tensor([1., 1.], device='cuda:0') tensor([[ 0.0051,  0.0051,  0.0051,  0.0051,  0.0051,  0.0051,  0.0051,  0.0051,\n",
      "          0.0051,  0.0051,  0.0051,  0.0051,  0.0051,  0.0051,  0.0051,  0.0051,\n",
      "          0.0051,  0.0051,  0.0051,  0.0051,  0.0051,  0.0051,  0.0051,  0.0051,\n",
      "          0.0051,  0.0051,  0.0051,  0.0051,  0.0051,  0.0051,  0.0051,  0.0051,\n",
      "          0.0051,  0.0051,  0.0051,  0.0051,  0.0051,  0.0051,  0.0051,  0.0051,\n",
      "          0.0051,  0.0051,  0.0051,  0.0051,  0.0051,  0.0051,  0.0051,  0.0051,\n",
      "          0.0051,  0.0051],\n",
      "        [-0.0035, -0.0035, -0.0035, -0.0035, -0.0035, -0.0035, -0.0035, -0.0035,\n",
      "         -0.0035, -0.0035, -0.0035, -0.0035, -0.0035, -0.0035, -0.0035, -0.0035,\n",
      "         -0.0035, -0.0035, -0.0035, -0.0035, -0.0035, -0.0035, -0.0035, -0.0035,\n",
      "         -0.0035, -0.0035, -0.0035, -0.0035, -0.0035, -0.0035, -0.0035, -0.0035,\n",
      "         -0.0035, -0.0035, -0.0035, -0.0035, -0.0035, -0.0035, -0.0035, -0.0035,\n",
      "         -0.0035, -0.0035, -0.0035, -0.0035, -0.0035, -0.0035, -0.0035, -0.0035,\n",
      "         -0.0035, -0.0035]], device='cuda:0', grad_fn=<SelectBackward0>)\n"
     ]
    },
    {
     "name": "stderr",
     "output_type": "stream",
     "text": [
      "0.00001903:   8%|▊         | 8/100 [10:00<1:54:20, 74.57s/it]"
     ]
    },
    {
     "name": "stdout",
     "output_type": "stream",
     "text": [
      "tensor([1., 1.], device='cuda:0') tensor([[-0.0087, -0.0087, -0.0087, -0.0087, -0.0087, -0.0087, -0.0087, -0.0087,\n",
      "         -0.0087, -0.0087, -0.0087, -0.0087, -0.0087, -0.0087, -0.0087, -0.0087,\n",
      "         -0.0087, -0.0087, -0.0087, -0.0087, -0.0087, -0.0087, -0.0087, -0.0087,\n",
      "         -0.0087, -0.0087, -0.0087, -0.0087, -0.0087, -0.0087, -0.0087, -0.0087,\n",
      "         -0.0087, -0.0087, -0.0087, -0.0087, -0.0087, -0.0087, -0.0087, -0.0087,\n",
      "         -0.0087, -0.0087, -0.0087, -0.0087, -0.0087, -0.0087, -0.0087, -0.0087,\n",
      "         -0.0087, -0.0087],\n",
      "        [ 0.0059,  0.0059,  0.0059,  0.0059,  0.0059,  0.0059,  0.0059,  0.0059,\n",
      "          0.0059,  0.0059,  0.0059,  0.0059,  0.0059,  0.0059,  0.0059,  0.0059,\n",
      "          0.0059,  0.0059,  0.0059,  0.0059,  0.0059,  0.0059,  0.0059,  0.0059,\n",
      "          0.0059,  0.0059,  0.0059,  0.0059,  0.0059,  0.0059,  0.0059,  0.0059,\n",
      "          0.0059,  0.0059,  0.0059,  0.0059,  0.0059,  0.0059,  0.0059,  0.0059,\n",
      "          0.0059,  0.0059,  0.0059,  0.0059,  0.0059,  0.0059,  0.0059,  0.0059,\n",
      "          0.0059,  0.0059]], device='cuda:0', grad_fn=<SelectBackward0>)\n"
     ]
    },
    {
     "name": "stderr",
     "output_type": "stream",
     "text": [
      "0.00005558:   8%|▊         | 8/100 [10:02<1:54:20, 74.57s/it]"
     ]
    },
    {
     "name": "stdout",
     "output_type": "stream",
     "text": [
      "tensor([1., 1.], device='cuda:0') tensor([[-0.0113, -0.0113, -0.0113, -0.0113, -0.0113, -0.0113, -0.0113, -0.0113,\n",
      "         -0.0113, -0.0113, -0.0113, -0.0113, -0.0113, -0.0113, -0.0113, -0.0113,\n",
      "         -0.0113, -0.0113, -0.0113, -0.0113, -0.0113, -0.0113, -0.0113, -0.0113,\n",
      "         -0.0113, -0.0113, -0.0113, -0.0113, -0.0113, -0.0113, -0.0113, -0.0113,\n",
      "         -0.0113, -0.0113, -0.0113, -0.0113, -0.0113, -0.0113, -0.0113, -0.0113,\n",
      "         -0.0113, -0.0113, -0.0113, -0.0113, -0.0113, -0.0113, -0.0113, -0.0113,\n",
      "         -0.0113, -0.0113],\n",
      "        [ 0.0055,  0.0055,  0.0055,  0.0055,  0.0055,  0.0055,  0.0055,  0.0055,\n",
      "          0.0055,  0.0055,  0.0055,  0.0055,  0.0055,  0.0055,  0.0055,  0.0055,\n",
      "          0.0055,  0.0055,  0.0055,  0.0055,  0.0055,  0.0055,  0.0055,  0.0055,\n",
      "          0.0055,  0.0055,  0.0055,  0.0055,  0.0055,  0.0055,  0.0055,  0.0055,\n",
      "          0.0055,  0.0055,  0.0055,  0.0055,  0.0055,  0.0055,  0.0055,  0.0055,\n",
      "          0.0055,  0.0055,  0.0055,  0.0055,  0.0055,  0.0055,  0.0055,  0.0055,\n",
      "          0.0055,  0.0055]], device='cuda:0', grad_fn=<SelectBackward0>)\n"
     ]
    },
    {
     "name": "stderr",
     "output_type": "stream",
     "text": [
      "0.00007933:   8%|▊         | 8/100 [10:03<1:54:20, 74.57s/it]"
     ]
    },
    {
     "name": "stdout",
     "output_type": "stream",
     "text": [
      "tensor([1., 1.], device='cuda:0') tensor([[-0.0110, -0.0110, -0.0110, -0.0110, -0.0110, -0.0110, -0.0110, -0.0110,\n",
      "         -0.0110, -0.0110, -0.0110, -0.0110, -0.0110, -0.0110, -0.0110, -0.0110,\n",
      "         -0.0110, -0.0110, -0.0110, -0.0110, -0.0110, -0.0110, -0.0110, -0.0110,\n",
      "         -0.0110, -0.0110, -0.0110, -0.0110, -0.0110, -0.0110, -0.0110, -0.0110,\n",
      "         -0.0110, -0.0110, -0.0110, -0.0110, -0.0110, -0.0110, -0.0110, -0.0110,\n",
      "         -0.0110, -0.0110, -0.0110, -0.0110, -0.0110, -0.0110, -0.0110, -0.0110,\n",
      "         -0.0110, -0.0110],\n",
      "        [ 0.0040,  0.0040,  0.0040,  0.0040,  0.0040,  0.0040,  0.0040,  0.0040,\n",
      "          0.0040,  0.0040,  0.0040,  0.0040,  0.0040,  0.0040,  0.0040,  0.0040,\n",
      "          0.0040,  0.0040,  0.0040,  0.0040,  0.0040,  0.0040,  0.0040,  0.0040,\n",
      "          0.0040,  0.0040,  0.0040,  0.0040,  0.0040,  0.0040,  0.0040,  0.0040,\n",
      "          0.0040,  0.0040,  0.0040,  0.0040,  0.0040,  0.0040,  0.0040,  0.0040,\n",
      "          0.0040,  0.0040,  0.0040,  0.0040,  0.0040,  0.0040,  0.0040,  0.0040,\n",
      "          0.0040,  0.0040]], device='cuda:0', grad_fn=<SelectBackward0>)\n"
     ]
    },
    {
     "name": "stderr",
     "output_type": "stream",
     "text": [
      "0.00006840:   8%|▊         | 8/100 [10:05<1:54:20, 74.57s/it]"
     ]
    },
    {
     "name": "stdout",
     "output_type": "stream",
     "text": [
      "tensor([1., 1.], device='cuda:0') tensor([[-0.0081, -0.0081, -0.0081, -0.0081, -0.0081, -0.0081, -0.0081, -0.0081,\n",
      "         -0.0081, -0.0081, -0.0081, -0.0081, -0.0081, -0.0081, -0.0081, -0.0081,\n",
      "         -0.0081, -0.0081, -0.0081, -0.0081, -0.0081, -0.0081, -0.0081, -0.0081,\n",
      "         -0.0081, -0.0081, -0.0081, -0.0081, -0.0081, -0.0081, -0.0081, -0.0081,\n",
      "         -0.0081, -0.0081, -0.0081, -0.0081, -0.0081, -0.0081, -0.0081, -0.0081,\n",
      "         -0.0081, -0.0081, -0.0081, -0.0081, -0.0081, -0.0081, -0.0081, -0.0081,\n",
      "         -0.0081, -0.0081],\n",
      "        [ 0.0018,  0.0018,  0.0018,  0.0018,  0.0018,  0.0018,  0.0018,  0.0018,\n",
      "          0.0018,  0.0018,  0.0018,  0.0018,  0.0018,  0.0018,  0.0018,  0.0018,\n",
      "          0.0018,  0.0018,  0.0018,  0.0018,  0.0018,  0.0018,  0.0018,  0.0018,\n",
      "          0.0018,  0.0018,  0.0018,  0.0018,  0.0018,  0.0018,  0.0018,  0.0018,\n",
      "          0.0018,  0.0018,  0.0018,  0.0018,  0.0018,  0.0018,  0.0018,  0.0018,\n",
      "          0.0018,  0.0018,  0.0018,  0.0018,  0.0018,  0.0018,  0.0018,  0.0018,\n",
      "          0.0018,  0.0018]], device='cuda:0', grad_fn=<SelectBackward0>)\n"
     ]
    },
    {
     "name": "stderr",
     "output_type": "stream",
     "text": [
      "0.00003412:   8%|▊         | 8/100 [10:06<1:54:20, 74.57s/it]"
     ]
    },
    {
     "name": "stdout",
     "output_type": "stream",
     "text": [
      "tensor([1., 1.], device='cuda:0') tensor([[-0.0004, -0.0004, -0.0004, -0.0004, -0.0004, -0.0004, -0.0004, -0.0004,\n",
      "         -0.0004, -0.0004, -0.0004, -0.0004, -0.0004, -0.0004, -0.0004, -0.0004,\n",
      "         -0.0004, -0.0004, -0.0004, -0.0004, -0.0004, -0.0004, -0.0004, -0.0004,\n",
      "         -0.0004, -0.0004, -0.0004, -0.0004, -0.0004, -0.0004, -0.0004, -0.0004,\n",
      "         -0.0004, -0.0004, -0.0004, -0.0004, -0.0004, -0.0004, -0.0004, -0.0004,\n",
      "         -0.0004, -0.0004, -0.0004, -0.0004, -0.0004, -0.0004, -0.0004, -0.0004,\n",
      "         -0.0004, -0.0004],\n",
      "        [-0.0035, -0.0035, -0.0035, -0.0035, -0.0035, -0.0035, -0.0035, -0.0035,\n",
      "         -0.0035, -0.0035, -0.0035, -0.0035, -0.0035, -0.0035, -0.0035, -0.0035,\n",
      "         -0.0035, -0.0035, -0.0035, -0.0035, -0.0035, -0.0035, -0.0035, -0.0035,\n",
      "         -0.0035, -0.0035, -0.0035, -0.0035, -0.0035, -0.0035, -0.0035, -0.0035,\n",
      "         -0.0035, -0.0035, -0.0035, -0.0035, -0.0035, -0.0035, -0.0035, -0.0035,\n",
      "         -0.0035, -0.0035, -0.0035, -0.0035, -0.0035, -0.0035, -0.0035, -0.0035,\n",
      "         -0.0035, -0.0035]], device='cuda:0', grad_fn=<SelectBackward0>)\n"
     ]
    },
    {
     "name": "stderr",
     "output_type": "stream",
     "text": [
      "0.00000604:   8%|▊         | 8/100 [10:08<1:54:20, 74.57s/it]"
     ]
    },
    {
     "name": "stdout",
     "output_type": "stream",
     "text": [
      "tensor([1., 1.], device='cuda:0') tensor([[ 0.0015,  0.0015,  0.0015,  0.0015,  0.0015,  0.0015,  0.0015,  0.0015,\n",
      "          0.0015,  0.0015,  0.0015,  0.0015,  0.0015,  0.0015,  0.0015,  0.0015,\n",
      "          0.0015,  0.0015,  0.0015,  0.0015,  0.0015,  0.0015,  0.0015,  0.0015,\n",
      "          0.0015,  0.0015,  0.0015,  0.0015,  0.0015,  0.0015,  0.0015,  0.0015,\n",
      "          0.0015,  0.0015,  0.0015,  0.0015,  0.0015,  0.0015,  0.0015,  0.0015,\n",
      "          0.0015,  0.0015,  0.0015,  0.0015,  0.0015,  0.0015,  0.0015,  0.0015,\n",
      "          0.0015,  0.0015],\n",
      "        [-0.0023, -0.0023, -0.0023, -0.0023, -0.0023, -0.0023, -0.0023, -0.0023,\n",
      "         -0.0023, -0.0023, -0.0023, -0.0023, -0.0023, -0.0023, -0.0023, -0.0023,\n",
      "         -0.0023, -0.0023, -0.0023, -0.0023, -0.0023, -0.0023, -0.0023, -0.0023,\n",
      "         -0.0023, -0.0023, -0.0023, -0.0023, -0.0023, -0.0023, -0.0023, -0.0023,\n",
      "         -0.0023, -0.0023, -0.0023, -0.0023, -0.0023, -0.0023, -0.0023, -0.0023,\n",
      "         -0.0023, -0.0023, -0.0023, -0.0023, -0.0023, -0.0023, -0.0023, -0.0023,\n",
      "         -0.0023, -0.0023]], device='cuda:0', grad_fn=<SelectBackward0>)\n"
     ]
    },
    {
     "name": "stderr",
     "output_type": "stream",
     "text": [
      "0.00000388:   8%|▊         | 8/100 [10:09<1:54:20, 74.57s/it]"
     ]
    },
    {
     "name": "stdout",
     "output_type": "stream",
     "text": [
      "tensor([1., 1.], device='cuda:0') tensor([[-0.0035, -0.0035, -0.0035, -0.0035, -0.0035, -0.0035, -0.0035, -0.0035,\n",
      "         -0.0035, -0.0035, -0.0035, -0.0035, -0.0035, -0.0035, -0.0035, -0.0035,\n",
      "         -0.0035, -0.0035, -0.0035, -0.0035, -0.0035, -0.0035, -0.0035, -0.0035,\n",
      "         -0.0035, -0.0035, -0.0035, -0.0035, -0.0035, -0.0035, -0.0035, -0.0035,\n",
      "         -0.0035, -0.0035, -0.0035, -0.0035, -0.0035, -0.0035, -0.0035, -0.0035,\n",
      "         -0.0035, -0.0035, -0.0035, -0.0035, -0.0035, -0.0035, -0.0035, -0.0035,\n",
      "         -0.0035, -0.0035],\n",
      "        [ 0.0057,  0.0057,  0.0057,  0.0057,  0.0057,  0.0057,  0.0057,  0.0057,\n",
      "          0.0057,  0.0057,  0.0057,  0.0057,  0.0057,  0.0057,  0.0057,  0.0057,\n",
      "          0.0057,  0.0057,  0.0057,  0.0057,  0.0057,  0.0057,  0.0057,  0.0057,\n",
      "          0.0057,  0.0057,  0.0057,  0.0057,  0.0057,  0.0057,  0.0057,  0.0057,\n",
      "          0.0057,  0.0057,  0.0057,  0.0057,  0.0057,  0.0057,  0.0057,  0.0057,\n",
      "          0.0057,  0.0057,  0.0057,  0.0057,  0.0057,  0.0057,  0.0057,  0.0057,\n",
      "          0.0057,  0.0057]], device='cuda:0', grad_fn=<SelectBackward0>)\n"
     ]
    },
    {
     "name": "stderr",
     "output_type": "stream",
     "text": [
      "0.00002244:   8%|▊         | 8/100 [10:11<1:54:20, 74.57s/it]"
     ]
    },
    {
     "name": "stdout",
     "output_type": "stream",
     "text": [
      "tensor([1., 1.], device='cuda:0') tensor([[-0.0039, -0.0039, -0.0039, -0.0039, -0.0039, -0.0039, -0.0039, -0.0039,\n",
      "         -0.0039, -0.0039, -0.0039, -0.0039, -0.0039, -0.0039, -0.0039, -0.0039,\n",
      "         -0.0039, -0.0039, -0.0039, -0.0039, -0.0039, -0.0039, -0.0039, -0.0039,\n",
      "         -0.0039, -0.0039, -0.0039, -0.0039, -0.0039, -0.0039, -0.0039, -0.0039,\n",
      "         -0.0039, -0.0039, -0.0039, -0.0039, -0.0039, -0.0039, -0.0039, -0.0039,\n",
      "         -0.0039, -0.0039, -0.0039, -0.0039, -0.0039, -0.0039, -0.0039, -0.0039,\n",
      "         -0.0039, -0.0039],\n",
      "        [ 0.0081,  0.0081,  0.0081,  0.0081,  0.0081,  0.0081,  0.0081,  0.0081,\n",
      "          0.0081,  0.0081,  0.0081,  0.0081,  0.0081,  0.0081,  0.0081,  0.0081,\n",
      "          0.0081,  0.0081,  0.0081,  0.0081,  0.0081,  0.0081,  0.0081,  0.0081,\n",
      "          0.0081,  0.0081,  0.0081,  0.0081,  0.0081,  0.0081,  0.0081,  0.0081,\n",
      "          0.0081,  0.0081,  0.0081,  0.0081,  0.0081,  0.0081,  0.0081,  0.0081,\n",
      "          0.0081,  0.0081,  0.0081,  0.0081,  0.0081,  0.0081,  0.0081,  0.0081,\n",
      "          0.0081,  0.0081]], device='cuda:0', grad_fn=<SelectBackward0>)\n"
     ]
    },
    {
     "name": "stderr",
     "output_type": "stream",
     "text": [
      "0.00004015:   8%|▊         | 8/100 [10:13<1:54:20, 74.57s/it]"
     ]
    },
    {
     "name": "stdout",
     "output_type": "stream",
     "text": [
      "tensor([1., 1.], device='cuda:0') tensor([[-0.0486, -0.0486, -0.0486, -0.0486, -0.0486, -0.0486, -0.0486, -0.0486,\n",
      "         -0.0486, -0.0486, -0.0486, -0.0486, -0.0486, -0.0486, -0.0486, -0.0486,\n",
      "         -0.0486, -0.0486, -0.0486, -0.0486, -0.0486, -0.0486, -0.0486, -0.0486,\n",
      "         -0.0486, -0.0486, -0.0486, -0.0486, -0.0486, -0.0486, -0.0486, -0.0486,\n",
      "         -0.0486, -0.0486, -0.0486, -0.0486, -0.0486, -0.0486, -0.0486, -0.0486,\n",
      "         -0.0486, -0.0486, -0.0486, -0.0486, -0.0486, -0.0486, -0.0486, -0.0486,\n",
      "         -0.0486, -0.0486],\n",
      "        [ 0.0534,  0.0534,  0.0534,  0.0534,  0.0534,  0.0534,  0.0534,  0.0534,\n",
      "          0.0534,  0.0534,  0.0534,  0.0534,  0.0534,  0.0534,  0.0534,  0.0534,\n",
      "          0.0534,  0.0534,  0.0534,  0.0534,  0.0534,  0.0534,  0.0534,  0.0534,\n",
      "          0.0534,  0.0534,  0.0534,  0.0534,  0.0534,  0.0534,  0.0534,  0.0534,\n",
      "          0.0534,  0.0534,  0.0534,  0.0534,  0.0534,  0.0534,  0.0534,  0.0534,\n",
      "          0.0534,  0.0534,  0.0534,  0.0534,  0.0534,  0.0534,  0.0534,  0.0534,\n",
      "          0.0534,  0.0534]], device='cuda:0', grad_fn=<SelectBackward0>)\n"
     ]
    },
    {
     "name": "stderr",
     "output_type": "stream",
     "text": [
      "0.00260232:   8%|▊         | 8/100 [10:14<1:54:20, 74.57s/it]"
     ]
    },
    {
     "name": "stdout",
     "output_type": "stream",
     "text": [
      "tensor([1., 1.], device='cuda:0') tensor([[-0.0144, -0.0144, -0.0144, -0.0144, -0.0144, -0.0144, -0.0144, -0.0144,\n",
      "         -0.0144, -0.0144, -0.0144, -0.0144, -0.0144, -0.0144, -0.0144, -0.0144,\n",
      "         -0.0144, -0.0144, -0.0144, -0.0144, -0.0144, -0.0144, -0.0144, -0.0144,\n",
      "         -0.0144, -0.0144, -0.0144, -0.0144, -0.0144, -0.0144, -0.0144, -0.0144,\n",
      "         -0.0144, -0.0144, -0.0144, -0.0144, -0.0144, -0.0144, -0.0144, -0.0144,\n",
      "         -0.0144, -0.0144, -0.0144, -0.0144, -0.0144, -0.0144, -0.0144, -0.0144,\n",
      "         -0.0144, -0.0144],\n",
      "        [ 0.0185,  0.0185,  0.0185,  0.0185,  0.0185,  0.0185,  0.0185,  0.0185,\n",
      "          0.0185,  0.0185,  0.0185,  0.0185,  0.0185,  0.0185,  0.0185,  0.0185,\n",
      "          0.0185,  0.0185,  0.0185,  0.0185,  0.0185,  0.0185,  0.0185,  0.0185,\n",
      "          0.0185,  0.0185,  0.0185,  0.0185,  0.0185,  0.0185,  0.0185,  0.0185,\n",
      "          0.0185,  0.0185,  0.0185,  0.0185,  0.0185,  0.0185,  0.0185,  0.0185,\n",
      "          0.0185,  0.0185,  0.0185,  0.0185,  0.0185,  0.0185,  0.0185,  0.0185,\n",
      "          0.0185,  0.0185]], device='cuda:0', grad_fn=<SelectBackward0>)\n"
     ]
    },
    {
     "name": "stderr",
     "output_type": "stream",
     "text": [
      "0.00027440:   8%|▊         | 8/100 [10:16<1:54:20, 74.57s/it]"
     ]
    },
    {
     "name": "stdout",
     "output_type": "stream",
     "text": [
      "tensor([1., 1.], device='cuda:0') tensor([[-0.0212, -0.0212, -0.0212, -0.0212, -0.0212, -0.0212, -0.0212, -0.0212,\n",
      "         -0.0212,  0.0339, -0.0212, -0.0212, -0.0212, -0.0212, -0.0212,  0.0339,\n",
      "         -0.0212, -0.0212, -0.0212, -0.0212, -0.0212, -0.0212, -0.0212,  0.0339,\n",
      "         -0.0212, -0.0212, -0.0212, -0.0212, -0.0212, -0.0212, -0.0212, -0.0212,\n",
      "          0.0339, -0.0212, -0.0212, -0.0212, -0.0212, -0.0212, -0.0212, -0.0212,\n",
      "         -0.0212, -0.0212, -0.0212, -0.0212, -0.0212, -0.0212, -0.0212, -0.0212,\n",
      "         -0.0212, -0.0212],\n",
      "        [ 0.0233,  0.0233,  0.0233,  0.0233,  0.0233,  0.0233,  0.0233,  0.0233,\n",
      "          0.0233, -0.0319,  0.0233,  0.0233,  0.0233,  0.0233,  0.0233, -0.0319,\n",
      "          0.0233,  0.0233,  0.0233,  0.0233,  0.0233,  0.0233,  0.0233, -0.0319,\n",
      "          0.0233,  0.0233,  0.0233,  0.0233,  0.0233,  0.0233,  0.0233,  0.0233,\n",
      "         -0.0319,  0.0233,  0.0233,  0.0233,  0.0233,  0.0233,  0.0233,  0.0233,\n",
      "          0.0233,  0.0233,  0.0233,  0.0233,  0.0233,  0.0233,  0.0233,  0.0233,\n",
      "          0.0233,  0.0233]], device='cuda:0', grad_fn=<SelectBackward0>)\n"
     ]
    },
    {
     "name": "stderr",
     "output_type": "stream",
     "text": [
      "0.00054346:   8%|▊         | 8/100 [10:18<1:54:20, 74.57s/it]"
     ]
    },
    {
     "name": "stdout",
     "output_type": "stream",
     "text": [
      "tensor([1., 1.], device='cuda:0') tensor([[-0.0239, -0.0239, -0.0239, -0.0239, -0.0239, -0.0239, -0.0239, -0.0239,\n",
      "         -0.0239, -0.0239, -0.0239, -0.0239, -0.0239, -0.0239, -0.0239, -0.0239,\n",
      "         -0.0239, -0.0239, -0.0239, -0.0239, -0.0239, -0.0239, -0.0239, -0.0239,\n",
      "         -0.0239, -0.0239, -0.0239, -0.0239, -0.0239, -0.0239, -0.0239, -0.0239,\n",
      "         -0.0239, -0.0239, -0.0239, -0.0239, -0.0239, -0.0239, -0.0239, -0.0239,\n",
      "         -0.0239, -0.0239, -0.0239, -0.0239, -0.0239, -0.0239, -0.0239, -0.0239,\n",
      "         -0.0239, -0.0239],\n",
      "        [ 0.0230,  0.0230,  0.0230,  0.0230,  0.0230,  0.0230,  0.0230,  0.0230,\n",
      "          0.0230,  0.0230,  0.0230,  0.0230,  0.0230,  0.0230,  0.0230,  0.0230,\n",
      "          0.0230,  0.0230,  0.0230,  0.0230,  0.0230,  0.0230,  0.0230,  0.0230,\n",
      "          0.0230,  0.0230,  0.0230,  0.0230,  0.0230,  0.0230,  0.0230,  0.0230,\n",
      "          0.0230,  0.0230,  0.0230,  0.0230,  0.0230,  0.0230,  0.0230,  0.0230,\n",
      "          0.0230,  0.0230,  0.0230,  0.0230,  0.0230,  0.0230,  0.0230,  0.0230,\n",
      "          0.0230,  0.0230]], device='cuda:0', grad_fn=<SelectBackward0>)\n"
     ]
    },
    {
     "name": "stderr",
     "output_type": "stream",
     "text": [
      "0.00054992:   8%|▊         | 8/100 [10:19<1:54:20, 74.57s/it]"
     ]
    },
    {
     "name": "stdout",
     "output_type": "stream",
     "text": [
      "tensor([1., 1.], device='cuda:0') tensor([[ 0.0174,  0.0174,  0.0174,  0.0174,  0.0174,  0.0174,  0.0174,  0.0174,\n",
      "          0.0174,  0.0174,  0.0174,  0.0174,  0.0174,  0.0174,  0.0174,  0.0174,\n",
      "          0.0174,  0.0174,  0.0174,  0.0174,  0.0174,  0.0174,  0.0174,  0.0174,\n",
      "          0.0174,  0.0174,  0.0174,  0.0174,  0.0174,  0.0174,  0.0174,  0.0174,\n",
      "          0.0174,  0.0174,  0.0174,  0.0174,  0.0174,  0.0174,  0.0174,  0.0174,\n",
      "          0.0174,  0.0174,  0.0174,  0.0174,  0.0174,  0.0174,  0.0174,  0.0174,\n",
      "          0.0174,  0.0174],\n",
      "        [-0.0211, -0.0211, -0.0211, -0.0211, -0.0211, -0.0211, -0.0211, -0.0211,\n",
      "         -0.0211, -0.0211, -0.0211, -0.0211, -0.0211, -0.0211, -0.0211, -0.0211,\n",
      "         -0.0211, -0.0211, -0.0211, -0.0211, -0.0211, -0.0211, -0.0211, -0.0211,\n",
      "         -0.0211, -0.0211, -0.0211, -0.0211, -0.0211, -0.0211, -0.0211, -0.0211,\n",
      "         -0.0211, -0.0211, -0.0211, -0.0211, -0.0211, -0.0211, -0.0211, -0.0211,\n",
      "         -0.0211, -0.0211, -0.0211, -0.0211, -0.0211, -0.0211, -0.0211, -0.0211,\n",
      "         -0.0211, -0.0211]], device='cuda:0', grad_fn=<SelectBackward0>)\n"
     ]
    },
    {
     "name": "stderr",
     "output_type": "stream",
     "text": [
      "0.00037405:   8%|▊         | 8/100 [10:21<1:54:20, 74.57s/it]"
     ]
    },
    {
     "name": "stdout",
     "output_type": "stream",
     "text": [
      "tensor([1., 1.], device='cuda:0') tensor([[ 0.0082,  0.0082,  0.0082,  0.0082,  0.0082,  0.0082,  0.0082,  0.0082,\n",
      "          0.0082,  0.0082,  0.0082,  0.0082,  0.0082,  0.0082,  0.0082,  0.0082,\n",
      "          0.0082,  0.0082,  0.0082,  0.0082,  0.0082,  0.0082,  0.0082,  0.0082,\n",
      "          0.0082,  0.0082,  0.0082,  0.0082,  0.0082,  0.0082,  0.0082,  0.0082,\n",
      "          0.0082,  0.0082,  0.0082,  0.0082,  0.0082,  0.0082,  0.0082,  0.0082,\n",
      "          0.0082,  0.0082,  0.0082,  0.0082,  0.0082,  0.0082,  0.0082,  0.0082,\n",
      "          0.0082,  0.0082],\n",
      "        [-0.0141, -0.0141, -0.0141, -0.0141, -0.0141, -0.0141, -0.0141, -0.0141,\n",
      "         -0.0141, -0.0141, -0.0141, -0.0141, -0.0141, -0.0141, -0.0141, -0.0141,\n",
      "         -0.0141, -0.0141, -0.0141, -0.0141, -0.0141, -0.0141, -0.0141, -0.0141,\n",
      "         -0.0141, -0.0141, -0.0141, -0.0141, -0.0141, -0.0141, -0.0141, -0.0141,\n",
      "         -0.0141, -0.0141, -0.0141, -0.0141, -0.0141, -0.0141, -0.0141, -0.0141,\n",
      "         -0.0141, -0.0141, -0.0141, -0.0141, -0.0141, -0.0141, -0.0141, -0.0141,\n",
      "         -0.0141, -0.0141]], device='cuda:0', grad_fn=<SelectBackward0>)\n"
     ]
    },
    {
     "name": "stderr",
     "output_type": "stream",
     "text": [
      "0.00013332:   8%|▊         | 8/100 [10:22<1:54:20, 74.57s/it]"
     ]
    },
    {
     "name": "stdout",
     "output_type": "stream",
     "text": [
      "tensor([1., 1.], device='cuda:0') tensor([[-0.0048, -0.0048, -0.0048, -0.0048, -0.0048, -0.0048, -0.0048, -0.0048,\n",
      "         -0.0048, -0.0048, -0.0048, -0.0048, -0.0048, -0.0048, -0.0048, -0.0048,\n",
      "         -0.0048, -0.0048, -0.0048, -0.0048, -0.0048, -0.0048, -0.0048, -0.0048,\n",
      "         -0.0048, -0.0048, -0.0048, -0.0048, -0.0048, -0.0048, -0.0048, -0.0048,\n",
      "         -0.0048, -0.0048, -0.0048, -0.0048, -0.0048, -0.0048, -0.0048, -0.0048,\n",
      "         -0.0048, -0.0048, -0.0048, -0.0048, -0.0048, -0.0048, -0.0048, -0.0048,\n",
      "         -0.0048, -0.0048],\n",
      "        [-0.0020, -0.0020, -0.0020, -0.0020, -0.0020, -0.0020, -0.0020, -0.0020,\n",
      "         -0.0020, -0.0020, -0.0020, -0.0020, -0.0020, -0.0020, -0.0020, -0.0020,\n",
      "         -0.0020, -0.0020, -0.0020, -0.0020, -0.0020, -0.0020, -0.0020, -0.0020,\n",
      "         -0.0020, -0.0020, -0.0020, -0.0020, -0.0020, -0.0020, -0.0020, -0.0020,\n",
      "         -0.0020, -0.0020, -0.0020, -0.0020, -0.0020, -0.0020, -0.0020, -0.0020,\n",
      "         -0.0020, -0.0020, -0.0020, -0.0020, -0.0020, -0.0020, -0.0020, -0.0020,\n",
      "         -0.0020, -0.0020]], device='cuda:0', grad_fn=<SelectBackward0>)\n"
     ]
    },
    {
     "name": "stderr",
     "output_type": "stream",
     "text": [
      "0.00001321:   8%|▊         | 8/100 [10:24<1:54:20, 74.57s/it]"
     ]
    },
    {
     "name": "stdout",
     "output_type": "stream",
     "text": [
      "tensor([1., 1.], device='cuda:0') tensor([[-0.0106, -0.0106, -0.0106, -0.0106, -0.0106, -0.0106, -0.0106, -0.0106,\n",
      "         -0.0106, -0.0106, -0.0106, -0.0106, -0.0106, -0.0106, -0.0106, -0.0106,\n",
      "         -0.0106, -0.0106, -0.0106, -0.0106, -0.0106, -0.0106, -0.0106, -0.0106,\n",
      "         -0.0106, -0.0106, -0.0106, -0.0106, -0.0106, -0.0106, -0.0106, -0.0106,\n",
      "         -0.0106, -0.0106, -0.0106, -0.0106, -0.0106, -0.0106, -0.0106, -0.0106,\n",
      "         -0.0106, -0.0106, -0.0106, -0.0106, -0.0106, -0.0106, -0.0106, -0.0106,\n",
      "         -0.0106, -0.0106],\n",
      "        [ 0.0048,  0.0048,  0.0048,  0.0048,  0.0048,  0.0048,  0.0048,  0.0048,\n",
      "          0.0048,  0.0048,  0.0048,  0.0048,  0.0048,  0.0048,  0.0048,  0.0048,\n",
      "          0.0048,  0.0048,  0.0048,  0.0048,  0.0048,  0.0048,  0.0048,  0.0048,\n",
      "          0.0048,  0.0048,  0.0048,  0.0048,  0.0048,  0.0048,  0.0048,  0.0048,\n",
      "          0.0048,  0.0048,  0.0048,  0.0048,  0.0048,  0.0048,  0.0048,  0.0048,\n",
      "          0.0048,  0.0048,  0.0048,  0.0048,  0.0048,  0.0048,  0.0048,  0.0048,\n",
      "          0.0048,  0.0048]], device='cuda:0', grad_fn=<SelectBackward0>)\n"
     ]
    },
    {
     "name": "stderr",
     "output_type": "stream",
     "text": [
      "0.00006747:   8%|▊         | 8/100 [10:26<1:54:20, 74.57s/it]"
     ]
    },
    {
     "name": "stdout",
     "output_type": "stream",
     "text": [
      "tensor([1., 1.], device='cuda:0') tensor([[-0.0158, -0.0158, -0.0158, -0.0158, -0.0158, -0.0158, -0.0158, -0.0158,\n",
      "         -0.0158, -0.0158, -0.0158, -0.0158, -0.0158, -0.0158, -0.0158, -0.0158,\n",
      "         -0.0158, -0.0158, -0.0158, -0.0158, -0.0158, -0.0158, -0.0158, -0.0158,\n",
      "         -0.0158, -0.0158, -0.0158, -0.0158, -0.0158, -0.0158, -0.0158, -0.0158,\n",
      "         -0.0158, -0.0158, -0.0158, -0.0158, -0.0158, -0.0158, -0.0158, -0.0158,\n",
      "         -0.0158, -0.0158, -0.0158, -0.0158, -0.0158, -0.0158, -0.0158, -0.0158,\n",
      "         -0.0158, -0.0158],\n",
      "        [ 0.0124,  0.0124,  0.0124,  0.0124,  0.0124,  0.0124,  0.0124,  0.0124,\n",
      "          0.0124,  0.0124,  0.0124,  0.0124,  0.0124,  0.0124,  0.0124,  0.0124,\n",
      "          0.0124,  0.0124,  0.0124,  0.0124,  0.0124,  0.0124,  0.0124,  0.0124,\n",
      "          0.0124,  0.0124,  0.0124,  0.0124,  0.0124,  0.0124,  0.0124,  0.0124,\n",
      "          0.0124,  0.0124,  0.0124,  0.0124,  0.0124,  0.0124,  0.0124,  0.0124,\n",
      "          0.0124,  0.0124,  0.0124,  0.0124,  0.0124,  0.0124,  0.0124,  0.0124,\n",
      "          0.0124,  0.0124]], device='cuda:0', grad_fn=<SelectBackward0>)\n"
     ]
    },
    {
     "name": "stderr",
     "output_type": "stream",
     "text": [
      "0.00020140:   8%|▊         | 8/100 [10:27<1:54:20, 74.57s/it]"
     ]
    },
    {
     "name": "stdout",
     "output_type": "stream",
     "text": [
      "tensor([1., 1.], device='cuda:0') tensor([[-0.0167, -0.0167, -0.0167, -0.0167, -0.0167, -0.0167, -0.0167, -0.0167,\n",
      "         -0.0167, -0.0167, -0.0167, -0.0167, -0.0167, -0.0167, -0.0167, -0.0167,\n",
      "         -0.0167, -0.0167, -0.0167, -0.0167, -0.0167, -0.0167, -0.0167, -0.0167,\n",
      "         -0.0167, -0.0167, -0.0167, -0.0167, -0.0167, -0.0167, -0.0167, -0.0167,\n",
      "         -0.0167, -0.0167, -0.0167, -0.0167, -0.0167, -0.0167, -0.0167, -0.0167,\n",
      "         -0.0167, -0.0167, -0.0167, -0.0167, -0.0167, -0.0167, -0.0167, -0.0167,\n",
      "         -0.0167, -0.0167],\n",
      "        [ 0.0166,  0.0166,  0.0166,  0.0166,  0.0166,  0.0166,  0.0166,  0.0166,\n",
      "          0.0166,  0.0166,  0.0166,  0.0166,  0.0166,  0.0166,  0.0166,  0.0166,\n",
      "          0.0166,  0.0166,  0.0166,  0.0166,  0.0166,  0.0166,  0.0166,  0.0166,\n",
      "          0.0166,  0.0166,  0.0166,  0.0166,  0.0166,  0.0166,  0.0166,  0.0166,\n",
      "          0.0166,  0.0166,  0.0166,  0.0166,  0.0166,  0.0166,  0.0166,  0.0166,\n",
      "          0.0166,  0.0166,  0.0166,  0.0166,  0.0166,  0.0166,  0.0166,  0.0166,\n",
      "          0.0166,  0.0166]], device='cuda:0', grad_fn=<SelectBackward0>)\n"
     ]
    },
    {
     "name": "stderr",
     "output_type": "stream",
     "text": [
      "0.00027743:   8%|▊         | 8/100 [10:29<1:54:20, 74.57s/it]"
     ]
    },
    {
     "name": "stdout",
     "output_type": "stream",
     "text": [
      "tensor([1., 1.], device='cuda:0') tensor([[ 0.0169,  0.0169,  0.0169,  0.0169,  0.0169,  0.0169,  0.0169,  0.0169,\n",
      "          0.0169,  0.0169,  0.0169,  0.0169,  0.0169,  0.0169,  0.0169,  0.0169,\n",
      "          0.0169,  0.0169,  0.0169,  0.0169,  0.0169,  0.0169,  0.0169,  0.0169,\n",
      "          0.0169,  0.0169,  0.0169,  0.0169,  0.0169,  0.0169,  0.0169,  0.0169,\n",
      "          0.0169,  0.0169,  0.0169,  0.0169,  0.0169,  0.0169,  0.0169,  0.0169,\n",
      "          0.0169,  0.0169,  0.0169,  0.0169,  0.0169,  0.0169,  0.0169,  0.0169,\n",
      "          0.0169,  0.0169],\n",
      "        [-0.0135, -0.0135, -0.0135, -0.0135, -0.0135, -0.0135, -0.0135, -0.0135,\n",
      "         -0.0135, -0.0135, -0.0135, -0.0135, -0.0135, -0.0135, -0.0135, -0.0135,\n",
      "         -0.0135, -0.0135, -0.0135, -0.0135, -0.0135, -0.0135, -0.0135, -0.0135,\n",
      "         -0.0135, -0.0135, -0.0135, -0.0135, -0.0135, -0.0135, -0.0135, -0.0135,\n",
      "         -0.0135, -0.0135, -0.0135, -0.0135, -0.0135, -0.0135, -0.0135, -0.0135,\n",
      "         -0.0135, -0.0135, -0.0135, -0.0135, -0.0135, -0.0135, -0.0135, -0.0135,\n",
      "         -0.0135, -0.0135]], device='cuda:0', grad_fn=<SelectBackward0>)\n"
     ]
    },
    {
     "name": "stderr",
     "output_type": "stream",
     "text": [
      "0.00023372:   8%|▊         | 8/100 [10:30<1:54:20, 74.57s/it]"
     ]
    },
    {
     "name": "stdout",
     "output_type": "stream",
     "text": [
      "tensor([1., 1.], device='cuda:0') tensor([[ 0.0209,  0.0209,  0.0209,  0.0209,  0.0209, -0.0105,  0.0209,  0.0209,\n",
      "          0.0209,  0.0209,  0.0209,  0.0209,  0.0209,  0.0209,  0.0209,  0.0209,\n",
      "         -0.0105,  0.0209,  0.0209,  0.0209,  0.0209,  0.0209,  0.0209,  0.0209,\n",
      "          0.0209,  0.0209,  0.0209,  0.0209,  0.0209,  0.0209, -0.0105,  0.0209,\n",
      "         -0.0105,  0.0209, -0.0105,  0.0209,  0.0209,  0.0209,  0.0209,  0.0209,\n",
      "          0.0209,  0.0209,  0.0209,  0.0209,  0.0209,  0.0209,  0.0209,  0.0209,\n",
      "         -0.0105,  0.0209],\n",
      "        [-0.0150, -0.0150, -0.0150, -0.0150, -0.0150,  0.0165, -0.0150, -0.0150,\n",
      "         -0.0150, -0.0150, -0.0150, -0.0150, -0.0150, -0.0150, -0.0150, -0.0150,\n",
      "          0.0165, -0.0150, -0.0150, -0.0150, -0.0150, -0.0150, -0.0150, -0.0150,\n",
      "         -0.0150, -0.0150, -0.0150, -0.0150, -0.0150, -0.0150,  0.0162, -0.0150,\n",
      "          0.0165, -0.0150,  0.0165, -0.0150, -0.0150, -0.0150, -0.0150, -0.0150,\n",
      "         -0.0150, -0.0150, -0.0150, -0.0150, -0.0150, -0.0150, -0.0150, -0.0150,\n",
      "          0.0165, -0.0150]], device='cuda:0', grad_fn=<SelectBackward0>)\n"
     ]
    },
    {
     "name": "stderr",
     "output_type": "stream",
     "text": [
      "0.00031421:   8%|▊         | 8/100 [10:32<1:54:20, 74.57s/it]"
     ]
    },
    {
     "name": "stdout",
     "output_type": "stream",
     "text": [
      "tensor([1., 1.], device='cuda:0') tensor([[ 0.0113,  0.0113,  0.0113,  0.0113,  0.0113,  0.0113,  0.0113,  0.0113,\n",
      "          0.0113,  0.0113,  0.0113,  0.0113,  0.0113,  0.0113,  0.0113,  0.0113,\n",
      "          0.0113,  0.0113,  0.0113,  0.0113,  0.0113,  0.0113,  0.0113,  0.0113,\n",
      "          0.0113,  0.0113,  0.0113,  0.0113,  0.0113,  0.0113,  0.0113,  0.0113,\n",
      "          0.0113,  0.0113,  0.0113,  0.0113,  0.0113,  0.0113,  0.0113,  0.0113,\n",
      "          0.0113,  0.0113,  0.0113,  0.0113,  0.0113,  0.0113,  0.0113,  0.0113,\n",
      "          0.0113,  0.0113],\n",
      "        [-0.0049, -0.0049, -0.0049, -0.0049, -0.0049, -0.0049, -0.0049, -0.0049,\n",
      "         -0.0049, -0.0049, -0.0049, -0.0049, -0.0049, -0.0049, -0.0049, -0.0049,\n",
      "         -0.0049, -0.0049, -0.0049, -0.0049, -0.0049, -0.0049, -0.0049, -0.0049,\n",
      "         -0.0049, -0.0049, -0.0049, -0.0049, -0.0049, -0.0049, -0.0049, -0.0049,\n",
      "         -0.0049, -0.0049, -0.0049, -0.0049, -0.0049, -0.0049, -0.0049, -0.0049,\n",
      "         -0.0049, -0.0049, -0.0049, -0.0049, -0.0049, -0.0049, -0.0049, -0.0049,\n",
      "         -0.0049, -0.0049]], device='cuda:0', grad_fn=<SelectBackward0>)\n"
     ]
    },
    {
     "name": "stderr",
     "output_type": "stream",
     "text": [
      "0.00007544:   8%|▊         | 8/100 [10:34<1:54:20, 74.57s/it]"
     ]
    },
    {
     "name": "stdout",
     "output_type": "stream",
     "text": [
      "tensor([1., 1.], device='cuda:0') tensor([[ 0.0068,  0.0068,  0.0068,  0.0068,  0.0068,  0.0068,  0.0068,  0.0068,\n",
      "          0.0068,  0.0068,  0.0068,  0.0068,  0.0068,  0.0068,  0.0068,  0.0068,\n",
      "          0.0068,  0.0068,  0.0068,  0.0068,  0.0068,  0.0068,  0.0068,  0.0068,\n",
      "          0.0068,  0.0068,  0.0068,  0.0068,  0.0068,  0.0068,  0.0068,  0.0068,\n",
      "          0.0068,  0.0068,  0.0068,  0.0068,  0.0068,  0.0068,  0.0068,  0.0068,\n",
      "          0.0068,  0.0068,  0.0068,  0.0068,  0.0068,  0.0068,  0.0068,  0.0068,\n",
      "          0.0068,  0.0068],\n",
      "        [-0.0014, -0.0014, -0.0014, -0.0014, -0.0014, -0.0014, -0.0014, -0.0014,\n",
      "         -0.0014, -0.0014, -0.0014, -0.0014, -0.0014, -0.0014, -0.0014, -0.0014,\n",
      "         -0.0014, -0.0014, -0.0014, -0.0014, -0.0014, -0.0014, -0.0014, -0.0014,\n",
      "         -0.0014, -0.0014, -0.0014, -0.0014, -0.0014, -0.0014, -0.0014, -0.0014,\n",
      "         -0.0014, -0.0014, -0.0014, -0.0014, -0.0014, -0.0014, -0.0014, -0.0014,\n",
      "         -0.0014, -0.0014, -0.0014, -0.0014, -0.0014, -0.0014, -0.0014, -0.0014,\n",
      "         -0.0014, -0.0014]], device='cuda:0', grad_fn=<SelectBackward0>)\n"
     ]
    },
    {
     "name": "stderr",
     "output_type": "stream",
     "text": [
      "0.00002442:   8%|▊         | 8/100 [10:35<1:54:20, 74.57s/it]"
     ]
    },
    {
     "name": "stdout",
     "output_type": "stream",
     "text": [
      "tensor([1., 1.], device='cuda:0') tensor([[0.0020, 0.0020, 0.0020, 0.0020, 0.0020, 0.0020, 0.0020, 0.0020, 0.0020,\n",
      "         0.0020, 0.0020, 0.0020, 0.0020, 0.0020, 0.0020, 0.0020, 0.0020, 0.0020,\n",
      "         0.0020, 0.0020, 0.0020, 0.0020, 0.0020, 0.0020, 0.0020, 0.0020, 0.0020,\n",
      "         0.0020, 0.0020, 0.0020, 0.0020, 0.0020, 0.0020, 0.0020, 0.0020, 0.0020,\n",
      "         0.0020, 0.0020, 0.0020, 0.0020, 0.0020, 0.0020, 0.0020, 0.0020, 0.0020,\n",
      "         0.0020, 0.0020, 0.0020, 0.0020, 0.0020],\n",
      "        [0.0013, 0.0013, 0.0013, 0.0013, 0.0013, 0.0013, 0.0013, 0.0013, 0.0013,\n",
      "         0.0013, 0.0013, 0.0013, 0.0013, 0.0013, 0.0013, 0.0013, 0.0013, 0.0013,\n",
      "         0.0013, 0.0013, 0.0013, 0.0013, 0.0013, 0.0013, 0.0013, 0.0013, 0.0013,\n",
      "         0.0013, 0.0013, 0.0013, 0.0013, 0.0013, 0.0013, 0.0013, 0.0013, 0.0013,\n",
      "         0.0013, 0.0013, 0.0013, 0.0013, 0.0013, 0.0013, 0.0013, 0.0013, 0.0013,\n",
      "         0.0013, 0.0013, 0.0013, 0.0013, 0.0013]], device='cuda:0',\n",
      "       grad_fn=<SelectBackward0>)\n"
     ]
    },
    {
     "name": "stderr",
     "output_type": "stream",
     "text": [
      "0.00000281:   8%|▊         | 8/100 [10:37<1:54:20, 74.57s/it]"
     ]
    },
    {
     "name": "stdout",
     "output_type": "stream",
     "text": [
      "tensor([1., 1.], device='cuda:0') tensor([[ 0.0045,  0.0045,  0.0045,  0.0045,  0.0045,  0.0045,  0.0045,  0.0045,\n",
      "          0.0045,  0.0045,  0.0045,  0.0045,  0.0045,  0.0045,  0.0045,  0.0045,\n",
      "          0.0045,  0.0045,  0.0045,  0.0045,  0.0045,  0.0045,  0.0045,  0.0045,\n",
      "          0.0045,  0.0045,  0.0045,  0.0045,  0.0045,  0.0045,  0.0045,  0.0045,\n",
      "          0.0045,  0.0045,  0.0045,  0.0045,  0.0045,  0.0045,  0.0045,  0.0045,\n",
      "          0.0045,  0.0045,  0.0045,  0.0045,  0.0045,  0.0045,  0.0045,  0.0045,\n",
      "          0.0045,  0.0045],\n",
      "        [-0.0040, -0.0040, -0.0040, -0.0040, -0.0040, -0.0040, -0.0040, -0.0040,\n",
      "         -0.0040, -0.0040, -0.0040, -0.0040, -0.0040, -0.0040, -0.0040, -0.0040,\n",
      "         -0.0040, -0.0040, -0.0040, -0.0040, -0.0040, -0.0040, -0.0040, -0.0040,\n",
      "         -0.0040, -0.0040, -0.0040, -0.0040, -0.0040, -0.0040, -0.0040, -0.0040,\n",
      "         -0.0040, -0.0040, -0.0040, -0.0040, -0.0040, -0.0040, -0.0040, -0.0040,\n",
      "         -0.0040, -0.0040, -0.0040, -0.0040, -0.0040, -0.0040, -0.0040, -0.0040,\n",
      "         -0.0040, -0.0040]], device='cuda:0', grad_fn=<SelectBackward0>)\n"
     ]
    },
    {
     "name": "stderr",
     "output_type": "stream",
     "text": [
      "0.00001814:   8%|▊         | 8/100 [10:38<1:54:20, 74.57s/it]"
     ]
    },
    {
     "name": "stdout",
     "output_type": "stream",
     "text": [
      "tensor([1., 1.], device='cuda:0') tensor([[-0.0079, -0.0079, -0.0079, -0.0079, -0.0079, -0.0079, -0.0079, -0.0079,\n",
      "         -0.0079, -0.0079, -0.0079, -0.0079, -0.0079, -0.0079, -0.0079, -0.0079,\n",
      "         -0.0079, -0.0079, -0.0079, -0.0079, -0.0079, -0.0079, -0.0079, -0.0079,\n",
      "         -0.0079, -0.0079, -0.0079, -0.0079, -0.0079, -0.0079, -0.0079, -0.0079,\n",
      "         -0.0079, -0.0079, -0.0079, -0.0079, -0.0079, -0.0079, -0.0079, -0.0079,\n",
      "         -0.0079, -0.0079, -0.0079, -0.0079, -0.0079, -0.0079, -0.0079, -0.0079,\n",
      "         -0.0079, -0.0079],\n",
      "        [ 0.0058,  0.0058,  0.0058,  0.0058,  0.0058,  0.0058,  0.0058,  0.0058,\n",
      "          0.0058,  0.0058,  0.0058,  0.0058,  0.0058,  0.0058,  0.0058,  0.0058,\n",
      "          0.0058,  0.0058,  0.0058,  0.0058,  0.0058,  0.0058,  0.0058,  0.0058,\n",
      "          0.0058,  0.0058,  0.0058,  0.0058,  0.0058,  0.0058,  0.0058,  0.0058,\n",
      "          0.0058,  0.0058,  0.0058,  0.0058,  0.0058,  0.0058,  0.0058,  0.0058,\n",
      "          0.0058,  0.0058,  0.0058,  0.0058,  0.0058,  0.0058,  0.0058,  0.0058,\n",
      "          0.0058,  0.0058]], device='cuda:0', grad_fn=<SelectBackward0>)\n"
     ]
    },
    {
     "name": "stderr",
     "output_type": "stream",
     "text": [
      "0.00004759:   8%|▊         | 8/100 [10:40<1:54:20, 74.57s/it]"
     ]
    },
    {
     "name": "stdout",
     "output_type": "stream",
     "text": [
      "tensor([1., 1.], device='cuda:0') tensor([[ 0.0055,  0.0055,  0.0055,  0.0055,  0.0055,  0.0055,  0.0055,  0.0055,\n",
      "          0.0055,  0.0055,  0.0055,  0.0055,  0.0055,  0.0055,  0.0055,  0.0055,\n",
      "          0.0055,  0.0055,  0.0055,  0.0055,  0.0055,  0.0055,  0.0055,  0.0055,\n",
      "          0.0055,  0.0055,  0.0055,  0.0055,  0.0055,  0.0055,  0.0055,  0.0055,\n",
      "          0.0055,  0.0055,  0.0055,  0.0055,  0.0055,  0.0055,  0.0055,  0.0055,\n",
      "          0.0055,  0.0055,  0.0055,  0.0055,  0.0055,  0.0055,  0.0055,  0.0055,\n",
      "          0.0055,  0.0055],\n",
      "        [-0.0097, -0.0097, -0.0097, -0.0097, -0.0097, -0.0097, -0.0097, -0.0097,\n",
      "         -0.0097, -0.0097, -0.0097, -0.0097, -0.0097, -0.0097, -0.0097, -0.0097,\n",
      "         -0.0097, -0.0097, -0.0097, -0.0097, -0.0097, -0.0097, -0.0097, -0.0097,\n",
      "         -0.0097, -0.0097, -0.0097, -0.0097, -0.0097, -0.0097, -0.0097, -0.0097,\n",
      "         -0.0097, -0.0097, -0.0097, -0.0097, -0.0097, -0.0097, -0.0097, -0.0097,\n",
      "         -0.0097, -0.0097, -0.0097, -0.0097, -0.0097, -0.0097, -0.0097, -0.0097,\n",
      "         -0.0097, -0.0097]], device='cuda:0', grad_fn=<SelectBackward0>)\n"
     ]
    },
    {
     "name": "stderr",
     "output_type": "stream",
     "text": [
      "0.00006190:   8%|▊         | 8/100 [10:41<1:54:20, 74.57s/it]"
     ]
    },
    {
     "name": "stdout",
     "output_type": "stream",
     "text": [
      "tensor([1., 1.], device='cuda:0') tensor([[ 0.0040,  0.0040,  0.0040,  0.0040,  0.0040,  0.0040,  0.0040,  0.0040,\n",
      "          0.0040,  0.0040,  0.0040,  0.0040,  0.0040,  0.0040,  0.0040,  0.0040,\n",
      "          0.0040,  0.0040,  0.0040,  0.0040,  0.0040,  0.0040,  0.0040,  0.0040,\n",
      "          0.0040,  0.0040,  0.0040,  0.0040,  0.0040,  0.0040,  0.0040,  0.0040,\n",
      "          0.0040,  0.0040,  0.0040,  0.0040,  0.0040,  0.0040,  0.0040,  0.0040,\n",
      "          0.0040,  0.0040,  0.0040,  0.0040,  0.0040,  0.0040,  0.0040,  0.0040,\n",
      "          0.0040,  0.0040],\n",
      "        [-0.0092, -0.0092, -0.0092, -0.0092, -0.0092, -0.0092, -0.0092, -0.0092,\n",
      "         -0.0092, -0.0092, -0.0092, -0.0092, -0.0092, -0.0092, -0.0092, -0.0092,\n",
      "         -0.0092, -0.0092, -0.0092, -0.0092, -0.0092, -0.0092, -0.0092, -0.0092,\n",
      "         -0.0092, -0.0092, -0.0092, -0.0092, -0.0092, -0.0092, -0.0092, -0.0092,\n",
      "         -0.0092, -0.0092, -0.0092, -0.0092, -0.0092, -0.0092, -0.0092, -0.0092,\n",
      "         -0.0092, -0.0092, -0.0092, -0.0092, -0.0092, -0.0092, -0.0092, -0.0092,\n",
      "         -0.0092, -0.0092]], device='cuda:0', grad_fn=<SelectBackward0>)\n"
     ]
    },
    {
     "name": "stderr",
     "output_type": "stream",
     "text": [
      "0.00004984:   8%|▊         | 8/100 [10:43<1:54:20, 74.57s/it]"
     ]
    },
    {
     "name": "stdout",
     "output_type": "stream",
     "text": [
      "tensor([1., 1.], device='cuda:0') tensor([[ 0.0017,  0.0017,  0.0017,  0.0017,  0.0017,  0.0017,  0.0017,  0.0017,\n",
      "          0.0017,  0.0017,  0.0017,  0.0017,  0.0017,  0.0017,  0.0017,  0.0017,\n",
      "          0.0017,  0.0017,  0.0017,  0.0017,  0.0017,  0.0017,  0.0017,  0.0017,\n",
      "          0.0017,  0.0017,  0.0017,  0.0017,  0.0017,  0.0017,  0.0017,  0.0017,\n",
      "          0.0017,  0.0017,  0.0017,  0.0017,  0.0017,  0.0017,  0.0017,  0.0017,\n",
      "          0.0017,  0.0017,  0.0017,  0.0017,  0.0017,  0.0017,  0.0017,  0.0017,\n",
      "          0.0017,  0.0017],\n",
      "        [-0.0067, -0.0067, -0.0067, -0.0067, -0.0067, -0.0067, -0.0067, -0.0067,\n",
      "         -0.0067, -0.0067, -0.0067, -0.0067, -0.0067, -0.0067, -0.0067, -0.0067,\n",
      "         -0.0067, -0.0067, -0.0067, -0.0067, -0.0067, -0.0067, -0.0067, -0.0067,\n",
      "         -0.0067, -0.0067, -0.0067, -0.0067, -0.0067, -0.0067, -0.0067, -0.0067,\n",
      "         -0.0067, -0.0067, -0.0067, -0.0067, -0.0067, -0.0067, -0.0067, -0.0067,\n",
      "         -0.0067, -0.0067, -0.0067, -0.0067, -0.0067, -0.0067, -0.0067, -0.0067,\n",
      "         -0.0067, -0.0067]], device='cuda:0', grad_fn=<SelectBackward0>)\n"
     ]
    },
    {
     "name": "stderr",
     "output_type": "stream",
     "text": [
      "0.00002359:   8%|▊         | 8/100 [10:44<1:54:20, 74.57s/it]"
     ]
    },
    {
     "name": "stdout",
     "output_type": "stream",
     "text": [
      "tensor([1., 1.], device='cuda:0') tensor([[-0.0007, -0.0007, -0.0007, -0.0007, -0.0007, -0.0007, -0.0007, -0.0007,\n",
      "         -0.0007, -0.0007, -0.0007, -0.0007, -0.0007, -0.0007, -0.0007, -0.0007,\n",
      "         -0.0007, -0.0007, -0.0007, -0.0007, -0.0007, -0.0007, -0.0007, -0.0007,\n",
      "         -0.0007, -0.0007, -0.0007, -0.0007, -0.0007, -0.0007, -0.0007, -0.0007,\n",
      "         -0.0007, -0.0007, -0.0007, -0.0007, -0.0007, -0.0007, -0.0007, -0.0007,\n",
      "         -0.0007, -0.0007, -0.0007, -0.0007, -0.0007, -0.0007, -0.0007, -0.0007,\n",
      "         -0.0007, -0.0007],\n",
      "        [-0.0029, -0.0029, -0.0029, -0.0029, -0.0029, -0.0029, -0.0029, -0.0029,\n",
      "         -0.0029, -0.0029, -0.0029, -0.0029, -0.0029, -0.0029, -0.0029, -0.0029,\n",
      "         -0.0029, -0.0029, -0.0029, -0.0029, -0.0029, -0.0029, -0.0029, -0.0029,\n",
      "         -0.0029, -0.0029, -0.0029, -0.0029, -0.0029, -0.0029, -0.0029, -0.0029,\n",
      "         -0.0029, -0.0029, -0.0029, -0.0029, -0.0029, -0.0029, -0.0029, -0.0029,\n",
      "         -0.0029, -0.0029, -0.0029, -0.0029, -0.0029, -0.0029, -0.0029, -0.0029,\n",
      "         -0.0029, -0.0029]], device='cuda:0', grad_fn=<SelectBackward0>)\n"
     ]
    },
    {
     "name": "stderr",
     "output_type": "stream",
     "text": [
      "0.00000448:   8%|▊         | 8/100 [10:46<1:54:20, 74.57s/it]"
     ]
    },
    {
     "name": "stdout",
     "output_type": "stream",
     "text": [
      "tensor([1., 1.], device='cuda:0') tensor([[-0.0061, -0.0061, -0.0061, -0.0061, -0.0061, -0.0061, -0.0061, -0.0061,\n",
      "         -0.0061, -0.0061, -0.0061, -0.0061, -0.0061, -0.0061, -0.0061, -0.0061,\n",
      "         -0.0061, -0.0061, -0.0061, -0.0061, -0.0061, -0.0061, -0.0061, -0.0061,\n",
      "         -0.0061, -0.0061, -0.0061, -0.0061, -0.0061, -0.0061, -0.0061, -0.0061,\n",
      "         -0.0061, -0.0061, -0.0061, -0.0061, -0.0061, -0.0061, -0.0061, -0.0061,\n",
      "         -0.0061, -0.0061, -0.0061, -0.0061, -0.0061, -0.0061, -0.0061, -0.0061,\n",
      "         -0.0061, -0.0061],\n",
      "        [ 0.0045,  0.0045,  0.0045,  0.0045,  0.0045,  0.0045,  0.0045,  0.0045,\n",
      "          0.0045,  0.0045,  0.0045,  0.0045,  0.0045,  0.0045,  0.0045,  0.0045,\n",
      "          0.0045,  0.0045,  0.0045,  0.0045,  0.0045,  0.0045,  0.0045,  0.0045,\n",
      "          0.0045,  0.0045,  0.0045,  0.0045,  0.0045,  0.0045,  0.0045,  0.0045,\n",
      "          0.0045,  0.0045,  0.0045,  0.0045,  0.0045,  0.0045,  0.0045,  0.0045,\n",
      "          0.0045,  0.0045,  0.0045,  0.0045,  0.0045,  0.0045,  0.0045,  0.0045,\n",
      "          0.0045,  0.0045]], device='cuda:0', grad_fn=<SelectBackward0>)\n"
     ]
    },
    {
     "name": "stderr",
     "output_type": "stream",
     "text": [
      "0.00002847:   8%|▊         | 8/100 [10:47<1:54:20, 74.57s/it]"
     ]
    },
    {
     "name": "stdout",
     "output_type": "stream",
     "text": [
      "tensor([1., 1.], device='cuda:0') tensor([[ 0.0039,  0.0039,  0.0039,  0.0039,  0.0039,  0.0039,  0.0039,  0.0039,\n",
      "          0.0039,  0.0039,  0.0039,  0.0039,  0.0039,  0.0039,  0.0039,  0.0039,\n",
      "          0.0039,  0.0039,  0.0039,  0.0039,  0.0039,  0.0039,  0.0039,  0.0039,\n",
      "          0.0039,  0.0039,  0.0039,  0.0039,  0.0039,  0.0039,  0.0039,  0.0039,\n",
      "          0.0039,  0.0039,  0.0039,  0.0039,  0.0039,  0.0039,  0.0039,  0.0039,\n",
      "          0.0039,  0.0039,  0.0039,  0.0039,  0.0039,  0.0039,  0.0039,  0.0039,\n",
      "          0.0039,  0.0039],\n",
      "        [-0.0031, -0.0031, -0.0031, -0.0031, -0.0031, -0.0031, -0.0031, -0.0031,\n",
      "         -0.0031, -0.0031, -0.0031, -0.0031, -0.0031, -0.0031, -0.0031, -0.0031,\n",
      "         -0.0031, -0.0031, -0.0031, -0.0031, -0.0031, -0.0031, -0.0031, -0.0031,\n",
      "         -0.0031, -0.0031, -0.0031, -0.0031, -0.0031, -0.0031, -0.0031, -0.0031,\n",
      "         -0.0031, -0.0031, -0.0031, -0.0031, -0.0031, -0.0031, -0.0031, -0.0031,\n",
      "         -0.0031, -0.0031, -0.0031, -0.0031, -0.0031, -0.0031, -0.0031, -0.0031,\n",
      "         -0.0031, -0.0031]], device='cuda:0', grad_fn=<SelectBackward0>)\n"
     ]
    },
    {
     "name": "stderr",
     "output_type": "stream",
     "text": [
      "0.00001254:   8%|▊         | 8/100 [10:49<1:54:20, 74.57s/it]"
     ]
    },
    {
     "name": "stdout",
     "output_type": "stream",
     "text": [
      "tensor([1., 1.], device='cuda:0') tensor([[ 0.0056,  0.0056,  0.0056,  0.0056,  0.0056,  0.0056,  0.0056,  0.0056,\n",
      "          0.0056,  0.0056,  0.0056,  0.0056,  0.0056,  0.0056,  0.0056,  0.0056,\n",
      "          0.0056,  0.0056,  0.0056,  0.0056,  0.0056,  0.0056,  0.0056,  0.0056,\n",
      "          0.0056,  0.0056,  0.0056,  0.0056,  0.0056,  0.0056,  0.0056,  0.0056,\n",
      "          0.0056,  0.0056,  0.0056,  0.0056,  0.0056,  0.0056,  0.0056,  0.0056,\n",
      "          0.0056,  0.0056,  0.0056,  0.0056,  0.0056,  0.0056,  0.0056,  0.0056,\n",
      "          0.0056,  0.0056],\n",
      "        [-0.0027, -0.0027, -0.0027, -0.0027, -0.0027, -0.0027, -0.0027, -0.0027,\n",
      "         -0.0027, -0.0027, -0.0027, -0.0027, -0.0027, -0.0027, -0.0027, -0.0027,\n",
      "         -0.0027, -0.0027, -0.0027, -0.0027, -0.0027, -0.0027, -0.0027, -0.0027,\n",
      "         -0.0027, -0.0027, -0.0027, -0.0027, -0.0027, -0.0027, -0.0027, -0.0027,\n",
      "         -0.0027, -0.0027, -0.0027, -0.0027, -0.0027, -0.0027, -0.0027, -0.0027,\n",
      "         -0.0027, -0.0027, -0.0027, -0.0027, -0.0027, -0.0027, -0.0027, -0.0027,\n",
      "         -0.0027, -0.0027]], device='cuda:0', grad_fn=<SelectBackward0>)\n"
     ]
    },
    {
     "name": "stderr",
     "output_type": "stream",
     "text": [
      "0.00001927:   8%|▊         | 8/100 [10:50<1:54:20, 74.57s/it]"
     ]
    },
    {
     "name": "stdout",
     "output_type": "stream",
     "text": [
      "tensor([1., 1.], device='cuda:0') tensor([[ 0.0270,  0.0270,  0.0270,  0.0270,  0.0270,  0.0270,  0.0270,  0.0270,\n",
      "          0.0270,  0.0270,  0.0270,  0.0270,  0.0270,  0.0270,  0.0270,  0.0270,\n",
      "          0.0270,  0.0270,  0.0270,  0.0270,  0.0270,  0.0270,  0.0270,  0.0270,\n",
      "          0.0270,  0.0270,  0.0270,  0.0270,  0.0270,  0.0270,  0.0270,  0.0270,\n",
      "          0.0270,  0.0270,  0.0270,  0.0270,  0.0270,  0.0270,  0.0270,  0.0270,\n",
      "          0.0270,  0.0270,  0.0270,  0.0270,  0.0270,  0.0270,  0.0270,  0.0270,\n",
      "          0.0270,  0.0270],\n",
      "        [-0.0229, -0.0229, -0.0229, -0.0229, -0.0229, -0.0229, -0.0229, -0.0229,\n",
      "         -0.0229, -0.0229, -0.0229, -0.0229, -0.0229, -0.0229, -0.0229, -0.0229,\n",
      "         -0.0229, -0.0229, -0.0229, -0.0229, -0.0229, -0.0229, -0.0229, -0.0229,\n",
      "         -0.0229, -0.0229, -0.0229, -0.0229, -0.0229, -0.0229, -0.0229, -0.0229,\n",
      "         -0.0229, -0.0229, -0.0229, -0.0229, -0.0229, -0.0229, -0.0229, -0.0229,\n",
      "         -0.0229, -0.0229, -0.0229, -0.0229, -0.0229, -0.0229, -0.0229, -0.0229,\n",
      "         -0.0229, -0.0229]], device='cuda:0', grad_fn=<SelectBackward0>)\n"
     ]
    },
    {
     "name": "stderr",
     "output_type": "stream",
     "text": [
      "0.00062740:   9%|▉         | 9/100 [10:52<1:55:02, 75.85s/it]"
     ]
    },
    {
     "name": "stdout",
     "output_type": "stream",
     "text": [
      "tensor([1., 1.], device='cuda:0') tensor([[ 0.0104,  0.0104,  0.0104,  0.0104,  0.0104,  0.0104,  0.0104,  0.0104,\n",
      "          0.0104,  0.0104,  0.0104,  0.0104,  0.0104,  0.0104,  0.0104,  0.0104,\n",
      "          0.0104,  0.0104,  0.0104,  0.0104,  0.0104,  0.0104,  0.0104,  0.0104,\n",
      "          0.0104,  0.0104,  0.0104,  0.0104,  0.0104,  0.0104,  0.0104,  0.0104,\n",
      "          0.0104,  0.0104,  0.0104,  0.0104,  0.0104,  0.0104,  0.0104,  0.0104,\n",
      "          0.0104,  0.0104,  0.0104,  0.0104,  0.0104,  0.0104,  0.0104,  0.0104,\n",
      "          0.0104,  0.0104],\n",
      "        [-0.0075, -0.0075, -0.0075, -0.0075, -0.0075, -0.0075, -0.0075, -0.0075,\n",
      "         -0.0075, -0.0075, -0.0075, -0.0075, -0.0075, -0.0075, -0.0075, -0.0075,\n",
      "         -0.0075, -0.0075, -0.0075, -0.0075, -0.0075, -0.0075, -0.0075, -0.0075,\n",
      "         -0.0075, -0.0075, -0.0075, -0.0075, -0.0075, -0.0075, -0.0075, -0.0075,\n",
      "         -0.0075, -0.0075, -0.0075, -0.0075, -0.0075, -0.0075, -0.0075, -0.0075,\n",
      "         -0.0075, -0.0075, -0.0075, -0.0075, -0.0075, -0.0075, -0.0075, -0.0075,\n",
      "         -0.0075, -0.0075]], device='cuda:0', grad_fn=<SelectBackward0>)\n"
     ]
    },
    {
     "name": "stderr",
     "output_type": "stream",
     "text": [
      "0.00008223:   9%|▉         | 9/100 [10:53<1:55:02, 75.85s/it]"
     ]
    },
    {
     "name": "stdout",
     "output_type": "stream",
     "text": [
      "tensor([1., 1.], device='cuda:0') tensor([[ 0.0123,  0.0123,  0.0123,  0.0123,  0.0123,  0.0123,  0.0123,  0.0123,\n",
      "          0.0123,  0.0123,  0.0123,  0.0123,  0.0123,  0.0123,  0.0123,  0.0123,\n",
      "          0.0123,  0.0123,  0.0123,  0.0123,  0.0123,  0.0123,  0.0123,  0.0123,\n",
      "          0.0123,  0.0123,  0.0123,  0.0123,  0.0123,  0.0123,  0.0123,  0.0123,\n",
      "          0.0123,  0.0123,  0.0123,  0.0123,  0.0123,  0.0123,  0.0123,  0.0123,\n",
      "          0.0123,  0.0123,  0.0123,  0.0123,  0.0123,  0.0123,  0.0123,  0.0123,\n",
      "          0.0123,  0.0123],\n",
      "        [-0.0108, -0.0108, -0.0108, -0.0108, -0.0108, -0.0108, -0.0108, -0.0108,\n",
      "         -0.0108, -0.0108, -0.0108, -0.0108, -0.0108, -0.0108, -0.0108, -0.0108,\n",
      "         -0.0108, -0.0108, -0.0108, -0.0108, -0.0108, -0.0108, -0.0108, -0.0108,\n",
      "         -0.0108, -0.0108, -0.0108, -0.0108, -0.0108, -0.0108, -0.0108, -0.0108,\n",
      "         -0.0108, -0.0108, -0.0108, -0.0108, -0.0108, -0.0108, -0.0108, -0.0108,\n",
      "         -0.0108, -0.0108, -0.0108, -0.0108, -0.0108, -0.0108, -0.0108, -0.0108,\n",
      "         -0.0108, -0.0108]], device='cuda:0', grad_fn=<SelectBackward0>)\n"
     ]
    },
    {
     "name": "stderr",
     "output_type": "stream",
     "text": [
      "0.00008223:   9%|▉         | 9/100 [10:55<1:50:27, 72.83s/it]\n"
     ]
    },
    {
     "ename": "KeyboardInterrupt",
     "evalue": "",
     "output_type": "error",
     "traceback": [
      "\u001b[0;31m---------------------------------------------------------------------------\u001b[0m",
      "\u001b[0;31mKeyboardInterrupt\u001b[0m                         Traceback (most recent call last)",
      "Cell \u001b[0;32mIn[7], line 24\u001b[0m\n\u001b[1;32m     22\u001b[0m sol \u001b[39m=\u001b[39m sol\u001b[39m.\u001b[39mto(device)\n\u001b[1;32m     23\u001b[0m feas \u001b[39m=\u001b[39m feas\u001b[39m.\u001b[39mto(device)\n\u001b[0;32m---> 24\u001b[0m loss \u001b[39m=\u001b[39m train(model, c, A, b, constraints, l, u, sol, feas, out_func, optimizer)\n\u001b[1;32m     25\u001b[0m pbar\u001b[39m.\u001b[39mset_description(\u001b[39mf\u001b[39m\u001b[39m\"\u001b[39m\u001b[39m%.8f\u001b[39m\u001b[39m\"\u001b[39m \u001b[39m%\u001b[39m loss)\n",
      "Cell \u001b[0;32mIn[6], line 16\u001b[0m, in \u001b[0;36mtrain\u001b[0;34m(model, c, A, b, constraint, l, u, sol, feas, out_func, optimizer)\u001b[0m\n\u001b[1;32m     14\u001b[0m \u001b[39melse\u001b[39;00m:\n\u001b[1;32m     15\u001b[0m     loss \u001b[39m=\u001b[39m loss(out, sol)\n\u001b[0;32m---> 16\u001b[0m loss\u001b[39m.\u001b[39;49mbackward()\n\u001b[1;32m     17\u001b[0m optimizer\u001b[39m.\u001b[39mstep()\n\u001b[1;32m     18\u001b[0m \u001b[39mreturn\u001b[39;00m loss\n",
      "File \u001b[0;32m~/.local/lib/python3.11/site-packages/torch/_tensor.py:487\u001b[0m, in \u001b[0;36mTensor.backward\u001b[0;34m(self, gradient, retain_graph, create_graph, inputs)\u001b[0m\n\u001b[1;32m    477\u001b[0m \u001b[39mif\u001b[39;00m has_torch_function_unary(\u001b[39mself\u001b[39m):\n\u001b[1;32m    478\u001b[0m     \u001b[39mreturn\u001b[39;00m handle_torch_function(\n\u001b[1;32m    479\u001b[0m         Tensor\u001b[39m.\u001b[39mbackward,\n\u001b[1;32m    480\u001b[0m         (\u001b[39mself\u001b[39m,),\n\u001b[0;32m   (...)\u001b[0m\n\u001b[1;32m    485\u001b[0m         inputs\u001b[39m=\u001b[39minputs,\n\u001b[1;32m    486\u001b[0m     )\n\u001b[0;32m--> 487\u001b[0m torch\u001b[39m.\u001b[39;49mautograd\u001b[39m.\u001b[39;49mbackward(\n\u001b[1;32m    488\u001b[0m     \u001b[39mself\u001b[39;49m, gradient, retain_graph, create_graph, inputs\u001b[39m=\u001b[39;49minputs\n\u001b[1;32m    489\u001b[0m )\n",
      "File \u001b[0;32m~/.local/lib/python3.11/site-packages/torch/autograd/__init__.py:200\u001b[0m, in \u001b[0;36mbackward\u001b[0;34m(tensors, grad_tensors, retain_graph, create_graph, grad_variables, inputs)\u001b[0m\n\u001b[1;32m    195\u001b[0m     retain_graph \u001b[39m=\u001b[39m create_graph\n\u001b[1;32m    197\u001b[0m \u001b[39m# The reason we repeat same the comment below is that\u001b[39;00m\n\u001b[1;32m    198\u001b[0m \u001b[39m# some Python versions print out the first line of a multi-line function\u001b[39;00m\n\u001b[1;32m    199\u001b[0m \u001b[39m# calls in the traceback and some print out the last line\u001b[39;00m\n\u001b[0;32m--> 200\u001b[0m Variable\u001b[39m.\u001b[39;49m_execution_engine\u001b[39m.\u001b[39;49mrun_backward(  \u001b[39m# Calls into the C++ engine to run the backward pass\u001b[39;49;00m\n\u001b[1;32m    201\u001b[0m     tensors, grad_tensors_, retain_graph, create_graph, inputs,\n\u001b[1;32m    202\u001b[0m     allow_unreachable\u001b[39m=\u001b[39;49m\u001b[39mTrue\u001b[39;49;00m, accumulate_grad\u001b[39m=\u001b[39;49m\u001b[39mTrue\u001b[39;49;00m)\n",
      "\u001b[0;31mKeyboardInterrupt\u001b[0m: "
     ]
    },
    {
     "ename": "",
     "evalue": "",
     "output_type": "error",
     "traceback": [
      "\u001b[1;31mThe Kernel crashed while executing code in the the current cell or a previous cell. Please review the code in the cell(s) to identify a possible cause of the failure. Click <a href='https://aka.ms/vscodeJupyterKernelCrash'>here</a> for more info. View Jupyter <a href='command:jupyter.viewOutput'>log</a> for further details."
     ]
    }
   ],
   "source": [
    "device = device = torch.device('cuda:0' if torch.cuda.is_available() else 'cpu')\n",
    "\n",
    "model = LPGNN(num_constraints, num_variables).to(device)\n",
    "\n",
    "optimizer = torch.optim.Adam(model.parameters(), lr=0.01)\n",
    "\n",
    "out_func = 'sol'\n",
    "\n",
    "# training model\n",
    "epochs = 100\n",
    "pbar = tqdm(range(epochs))\n",
    "\n",
    "for epoch in pbar:\n",
    "    for batch in data_train:\n",
    "        c, A, b, constraints, l, u, sol, feas = batch\n",
    "        c = c.to(device)\n",
    "        A = A.to(device)\n",
    "        b = b.to(device)\n",
    "        constraints = constraints.to(device)\n",
    "        l = l.to(device)\n",
    "        u = u.to(device)\n",
    "        sol = sol.to(device)\n",
    "        feas = feas.to(device)\n",
    "        \n",
    "        loss = train(model, c, A, b, constraints, l, u, sol, feas, out_func, optimizer)\n",
    "        pbar.set_description(f\"%.8f\" % loss)"
   ]
  }
 ],
 "metadata": {
  "kernelspec": {
   "display_name": "Python 3.11.3 64-bit",
   "language": "python",
   "name": "python3"
  },
  "language_info": {
   "codemirror_mode": {
    "name": "ipython",
    "version": 3
   },
   "file_extension": ".py",
   "mimetype": "text/x-python",
   "name": "python",
   "nbconvert_exporter": "python",
   "pygments_lexer": "ipython3",
   "version": "3.11.3"
  },
  "vscode": {
   "interpreter": {
    "hash": "e7370f93d1d0cde622a1f8e1c04877d8463912d04d973331ad4851f04de6915a"
   }
  }
 },
 "nbformat": 4,
 "nbformat_minor": 4
}
